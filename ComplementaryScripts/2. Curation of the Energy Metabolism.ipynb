{
 "cells": [
  {
   "cell_type": "code",
   "execution_count": 1,
   "metadata": {
    "collapsed": false
   },
   "outputs": [
    {
     "name": "stderr",
     "output_type": "stream",
     "text": [
      "cobra/io/sbml3.py:23 \u001b[1;31mUserWarning\u001b[0m: Install lxml for faster SBML I/O\n"
     ]
    }
   ],
   "source": [
    "import cameo\n",
    "from cobra import Model, Reaction, Metabolite\n",
    "from cobra.io import read_sbml_model\n",
    "from cobra.io import save_json_model\n",
    "from cameo.flux_analysis.simulation import pfba\n",
    "import Functions_Modules.gapAnalysis\n",
    "import cobra.test\n",
    "import os\n",
    "from Functions_Modules.curation_tools import *"
   ]
  },
  {
   "cell_type": "code",
   "execution_count": 2,
   "metadata": {
    "collapsed": false
   },
   "outputs": [],
   "source": [
    "relative_directory = os.getcwd()\n",
    "filename = relative_directory + '/Reconstructions/MethylococcusModel2.xml'\n",
    "model = cameo.load_model(filename)"
   ]
  },
  {
   "cell_type": "markdown",
   "metadata": {},
   "source": [
    "Add Periplasm as a compartment for the respiration to work"
   ]
  },
  {
   "cell_type": "code",
   "execution_count": 3,
   "metadata": {
    "collapsed": false
   },
   "outputs": [
    {
     "data": {
      "text/plain": [
       "{'bm': 'biomass', 'c': 'cytosol', 'e': 'extracellular'}"
      ]
     },
     "execution_count": 3,
     "metadata": {},
     "output_type": "execute_result"
    }
   ],
   "source": [
    "model.compartments"
   ]
  },
  {
   "cell_type": "code",
   "execution_count": 4,
   "metadata": {
    "collapsed": false
   },
   "outputs": [],
   "source": [
    "model.compartments.update({'p':'periplasm','im':'inner membrane','om':'outer membrane'})"
   ]
  },
  {
   "cell_type": "markdown",
   "metadata": {},
   "source": [
    "# Methane Oxidation"
   ]
  },
  {
   "cell_type": "markdown",
   "metadata": {},
   "source": [
    "## sMMO\n",
    "________________"
   ]
  },
  {
   "cell_type": "code",
   "execution_count": 5,
   "metadata": {
    "collapsed": false
   },
   "outputs": [
    {
     "name": "stdout",
     "output_type": "stream",
     "text": [
      "{}\n",
      "MNXR6057_c: ch4_c + nadh_c + h_c + o2_c --> meoh_c + h2o_c + nad_c\n"
     ]
    }
   ],
   "source": [
    "rxn = model.reactions.MNXR6057_c\n",
    "rxn.name = 'soluble Methane Monooxygenase'\n",
    "rxn.subsystem = 'rn00680:Methane metabolism,rn01100:Metabolic pathways,rn01120:Microbial metabolism in diverse environments,rn01200:Carbon metabolism'\n",
    "rxn.notes['SUBSYSTEM'] = ['rn00680:Methane metabolism,rn01100:Metabolic pathways,rn01120:Microbial metabolism in diverse environments,rn01200:Carbon metabolism']\n",
    "rxn.lower_bound = 0.\n",
    "rxn.upper_bound = 1000.\n",
    "# Confidence Score\n",
    "rxn.notes.update({'CONFIDENCE SCORE':['4']})\n",
    "# Localization\n",
    "rxn.notes.update({'LOCALIZATION':['Cytosol']})\n",
    "# EC number from BRENDA\n",
    "rxn.notes.update({'EC Number':['1.14.13.25']})\n",
    "# Gene-Reaction-Rule update based on KEGG (using the old locus tags for now)\n",
    "rxn.notes.update({'GENE_ASSOCIATION': ['( MCA1194 and MCA1195 and MCA1198 and MCA1196 and MCA1200 and MCA1202 and MCA1205 )']})\n",
    "rxn.gene_reaction_rule = '( MCA1194 and MCA1195 and MCA1198 and MCA1196 and MCA1200 and MCA1202 and MCA1205 )'\n",
    "# Substrate and cofactor usage from BRENDA\n",
    "rxn.notes.update({'COFACTOR':['dinuclear FeIV cluster, NADH']})\n",
    "# NADH - As suggested by 10.1146/annurev.biochem.76.061505.175355\n",
    "# Inhibitor from BRENDA\n",
    "rxn.notes.update({'INHIBITOR':['Cu2+']})\n",
    "# Check if RXN is mass and charge balanced!\n",
    "print (rxn.check_mass_balance())\n",
    "# Check RXN-Directionality \n",
    "print rxn\n",
    "# Update ID to BiGG\n",
    "rxn.id = 'sMMO_c'\n",
    "model.repair()"
   ]
  },
  {
   "cell_type": "markdown",
   "metadata": {},
   "source": [
    "## pMMO\n",
    "_______"
   ]
  },
  {
   "cell_type": "code",
   "execution_count": 6,
   "metadata": {
    "collapsed": false
   },
   "outputs": [
    {
     "name": "stdout",
     "output_type": "stream",
     "text": [
      "{'SMILES': ['COC1=C(OC)C(=O)C(C\\\\C=C(/C)CC\\\\C=C(/C)CC\\\\C=C(/C)CC\\\\C=C(/C)CC\\\\C=C(/C)CC\\\\C=C(/C)CC\\\\C=C(/C)CCC=C(C)C)=C(C)C1=O'], 'KEGG': ['C17569'], 'METACYC': ['UBIQUINONE-8'], 'BRENDA': ['BG18990'], 'CHEBI': ['61683'], 'MXNREF': ['MNXM232'], 'SEED': ['cpd15560'], 'INCHI': ['InChI=1S/C49H74O4/c1-36(2)20-13-21-37(3)22-14-23-38(4)24-15-25-39(5)26-16-27-40(6)28-17-29-41(7)30-18-31-42(8)32-19-33-43(9)34-35-45-44(10)46(50)48(52-11)49(53-12)47(45)51/h20,22,24,26,28,30,32,34H,13-19,21,23,25,27,29,31,33,35H2,1-12H3/b37-22+,38-24+,39-26+,40-28+,41-30+,42-32+,43-34+'], 'LIPIDMAPS': ['LMPR02010005'], 'BIGG': ['q8']}\n"
     ]
    }
   ],
   "source": [
    "# Fix Ubiquinone which wasn't in the correct compartment\n",
    "model.metabolites.q8_c.notes['SMILES'] = ['COC1=C(OC)C(=O)C(C\\C=C(/C)CC\\C=C(/C)CC\\C=C(/C)CC\\C=C(/C)CC\\C=C(/C)CC\\C=C(/C)CC\\C=C(/C)CCC=C(C)C)=C(C)C1=O']\n",
    "model.metabolites.q8_c.notes['INCHI'] = ['InChI=1S/C49H74O4/c1-36(2)20-13-21-37(3)22-14-23-38(4)24-15-25-39(5)26-16-27-40(6)28-17-29-41(7)30-18-31-42(8)32-19-33-43(9)34-35-45-44(10)46(50)48(52-11)49(53-12)47(45)51/h20,22,24,26,28,30,32,34H,13-19,21,23,25,27,29,31,33,35H2,1-12H3/b37-22+,38-24+,39-26+,40-28+,41-30+,42-32+,43-34+']\n",
    "print model.metabolites.q8_c.notes\n",
    "model.metabolites.q8_c.compartment = 'im'\n",
    "model.metabolites.q8_c.id = 'q8_im'\n",
    "model.repair()"
   ]
  },
  {
   "cell_type": "code",
   "execution_count": 7,
   "metadata": {
    "collapsed": false
   },
   "outputs": [],
   "source": [
    "# Add Ubiquinol-8\n",
    "q8h2_im = Metabolite('q8h2_im',\n",
    "                       formula='C49H76O4',\n",
    "                       name='Ubiquinol-8',\n",
    "                       compartment='im')\n",
    "q8h2_im.charge = 0\n",
    "q8h2_im.notes['MXNREF'] = ['MNXM191']\n",
    "q8h2_im.notes['BIGG'] = ['q8h2']\n",
    "q8h2_im.notes['KEGG'] = ['C00390']\n",
    "q8h2_im.notes['SMILES'] = ['COC1=C(O)C(C)=C(C\\C=C(/C)CC\\C=C(/C)CC\\C=C(/C)CC\\C=C(/C)CC\\C=C(/C)CC\\C=C(/C)CC\\C=C(/C)CCC=C(C)C)C(O)=C1OC']\n",
    "q8h2_im.notes['INCHI']  = ['InChI=1S/C49H76O4/c1-36(2)20-13-21-37(3)22-14-23-38(4)24-15-25-39(5)26-16-27-40(6)28-17-29-41(7)30-18-31-42(8)32-19-33-43(9)34-35-45-44(10)46(50)48(52-11)49(53-12)47(45)51/h20,22,24,26,28,30,32,34,50-51H,13-19,21,23,25,27,29,31,33,35H2,1-12H3/b37-22+,38-24+,39-26+,40-28+,41-30+,42-32+,43-34+']"
   ]
  },
  {
   "cell_type": "code",
   "execution_count": 8,
   "metadata": {
    "collapsed": true
   },
   "outputs": [],
   "source": [
    "# Add Methane-Metabolite in the Periplasm\n",
    "ch4_p = model.metabolites.ch4_c.copy()\n",
    "ch4_p.compartment = 'p'\n",
    "ch4_p.id = 'ch4_p'"
   ]
  },
  {
   "cell_type": "code",
   "execution_count": 9,
   "metadata": {
    "collapsed": true
   },
   "outputs": [],
   "source": [
    "# Add Methanol-Metabolite in the Periplasm\n",
    "meoh_p = model.metabolites.meoh_c.copy()\n",
    "meoh_p.compartment = 'p'\n",
    "meoh_p.id = 'meoh_p'"
   ]
  },
  {
   "cell_type": "code",
   "execution_count": 10,
   "metadata": {
    "collapsed": true
   },
   "outputs": [],
   "source": [
    "# Add Water-Metabolite in the Periplasm\n",
    "h2o_p = model.metabolites.h2o_c.copy()\n",
    "h2o_p.compartment = 'p'\n",
    "h2o_p.id = 'h2o_p'"
   ]
  },
  {
   "cell_type": "code",
   "execution_count": 11,
   "metadata": {
    "collapsed": true
   },
   "outputs": [],
   "source": [
    "# Add Oxygen-Metabolite in the Periplasm\n",
    "o2_p = model.metabolites.o2_c.copy()\n",
    "o2_p.compartment = 'p'\n",
    "o2_p.id = 'o2_p'"
   ]
  },
  {
   "cell_type": "code",
   "execution_count": 12,
   "metadata": {
    "collapsed": true
   },
   "outputs": [],
   "source": [
    "# Add Proton-Metabolite in the Periplasm\n",
    "h_p = model.metabolites.h_c.copy()\n",
    "h_p.compartment = 'p'\n",
    "h_p.id = 'h_p'"
   ]
  },
  {
   "cell_type": "code",
   "execution_count": 13,
   "metadata": {
    "collapsed": false
   },
   "outputs": [],
   "source": [
    "# Add the reaction itself\n",
    "rxn = Reaction('pMMO_im')\n",
    "rxn.name = 'particulate Methane Monooxygenase'\n",
    "rxn.subsystem = 'rn00680:Methane metabolism,rn01100:Metabolic pathways,rn01120:Microbial metabolism in diverse environments,rn01200:Carbon metabolism'\n",
    "rxn.notes['SUBSYSTEM'] = ['rn00680:Methane metabolism,rn01100:Metabolic pathways,rn01120:Microbial metabolism in diverse environments,rn01200:Carbon metabolism']\n",
    "rxn.lower_bound = 0.\n",
    "rxn.upper_bound = 1000.\n",
    "rxn.objective_coefficient = 0.\n",
    "rxn.add_metabolites({o2_p: -1.0,\n",
    "                          ch4_p: -1.0,\n",
    "                          q8h2_im: -1.0,\n",
    "                          h2o_p: 1.0,\n",
    "                          meoh_p: 1.0,\n",
    "                          model.metabolites.q8_im: 1.0})"
   ]
  },
  {
   "cell_type": "code",
   "execution_count": 14,
   "metadata": {
    "collapsed": false,
    "scrolled": false
   },
   "outputs": [
    {
     "name": "stdout",
     "output_type": "stream",
     "text": [
      "{}\n",
      "pMMO_im\n"
     ]
    }
   ],
   "source": [
    "# Confidence Score\n",
    "rxn.notes.update({'CONFIDENCE SCORE':['4']})\n",
    "# Localization\n",
    "rxn.notes.update({'LOCALIZATION':['Inner Membrane']})\n",
    "# EC number from BRENDA\n",
    "rxn.notes.update({'EC Number':['1.14.18.3']})\n",
    "# Gene-Reaction-Rule updated\n",
    "rxn.notes.update({'GENE_ASSOCIATION': ['(((MCA1796 and MCA1797 and MCA1798) or (MCA2853 and MCA2854 and MCA2855)) and MCA0295 )' ]})\n",
    "rxn.gene_reaction_rule = '(((MCA1796 and MCA1797 and MCA1798) or (MCA2853 and MCA2854 and MCA2855)) and MCA0295)'\n",
    "# Substrate and cofactor usage from 'Respiration in Methanotrophs' DiSpirito, Zahn 2005\n",
    "rxn.notes.update({'COFACTOR':['2 Cu2+, 1-2 Fe']})\n",
    "# NADH - As suggested by 10.1146/annurev.biochem.76.061505.175355\n",
    "# Inhibitor from BRENDA\n",
    "rxn.notes.update({'INHIBITOR':['']})\n",
    "# Check if RXN is mass and charge balanced!\n",
    "print (rxn.check_mass_balance())\n",
    "# Check RXN-Directionality \n",
    "print rxn\n",
    "# Update ID to BiGG\n",
    "rxn.id = 'pMMO_im'\n",
    "model.add_reaction(rxn)"
   ]
  },
  {
   "cell_type": "code",
   "execution_count": 15,
   "metadata": {
    "collapsed": false
   },
   "outputs": [],
   "source": [
    "# Add demand reaction for q8h2\n",
    "rxn = model.reactions.MNXM90307_out\n",
    "rxn.name = 'Ubiquinol-8 (out)'\n",
    "rxn.lower_bound = 0.\n",
    "rxn.upper_bound = 1000.\n",
    "rxn.build_reaction_from_string('q8h2_im -> ')\n",
    "rxn.id = 'q8h2_out'\n",
    "model.repair()\n",
    "\n",
    "model"
   ]
  },
  {
   "cell_type": "markdown",
   "metadata": {},
   "source": [
    "## NDH-2\n",
    "_____"
   ]
  },
  {
   "cell_type": "code",
   "execution_count": 16,
   "metadata": {
    "collapsed": true
   },
   "outputs": [],
   "source": [
    "rxn = Reaction('NADH5_im')\n",
    "rxn.name = 'type-2 nadh:quinone oxidoreductase (non-electrogenic)'\n",
    "rxn.subsystem = 'aerobic electron transport chain'\n",
    "rxn.notes['SUBSYSTEM'] =['aerobic electron transport chain']\n",
    "rxn.lower_bound = 0.\n",
    "rxn.upper_bound = 1000.\n",
    "rxn.objective_coefficient = 0.\n",
    "rxn.add_metabolites({q8h2_im: 1.0,\n",
    "                          model.metabolites.nad_c: 1.0,\n",
    "                          model.metabolites.nadh_c: -1.0,\n",
    "                          model.metabolites.h_c: -1.0,\n",
    "                          model.metabolites.q8_im: -1.0})"
   ]
  },
  {
   "cell_type": "code",
   "execution_count": 17,
   "metadata": {
    "collapsed": false
   },
   "outputs": [
    {
     "name": "stdout",
     "output_type": "stream",
     "text": [
      "{}\n",
      "NADH5_im\n"
     ]
    }
   ],
   "source": [
    "# Confidence Score\n",
    "rxn.notes.update({'CONFIDENCE SCORE':['4']})\n",
    "# Localization\n",
    "rxn.notes.update({'LOCALIZATION':['Inner Membrane']})\n",
    "# EC number from BRENDA\n",
    "rxn.notes.update({'EC Number':['1.6.5.9']})\n",
    "# Gene-Reaction-Rule updated\n",
    "rxn.notes.update({'GENE_ASSOCIATION': ['( MCA1918 )' ]})\n",
    "rxn.gene_reaction_rule = '( MCA1918 )'\n",
    "# Substrate and cofactor usage from BRENDA\n",
    "# Uses only NADH\n",
    "rxn.notes.update({'COFACTOR':['FAD']})\n",
    "# Inhibitor info from Cook & Shiemke et al. 2004 doi: 10.1128/JB.186.4.928-937.2004\n",
    "rxn.notes.update({'INHIBITOR':['Diphenyliodonium']})\n",
    "rxn.notes.update({'BIGG':['NADH5']})\n",
    "rxn.notes.update({'MXNREF':['MNXR83430']})\n",
    "# Check if RXN is mass and charge balanced!\n",
    "print (rxn.check_mass_balance())\n",
    "# Check RXN-Directionality \n",
    "print rxn\n",
    "# Update ID to BiGG\n",
    "rxn.id = 'NADH5_im'\n",
    "model.add_reaction(rxn)"
   ]
  },
  {
   "cell_type": "markdown",
   "metadata": {},
   "source": [
    "## MDH\n",
    "-----------"
   ]
  },
  {
   "cell_type": "code",
   "execution_count": 18,
   "metadata": {
    "collapsed": true
   },
   "outputs": [],
   "source": [
    "# Cytochrome cL - Cytochrome c555 - MCA2618\n",
    "ficytcc555_p = model.metabolites.ficytC_c.copy()\n",
    "ficytcc555_p.compartment = 'p'\n",
    "ficytcc555_p.id = 'ficytcc555_p'\n",
    "ficytcc555_p.formula = 'C42H54FeN8O6S2'\n",
    "ficytcc555_p.notes['MXNREF'] = ['MNXM5749']\n",
    "ficytcc555_p.notes['BIGG'] = ['ficytc']\n",
    "ficytcc555_p.notes['KEGG'] = ['C00923']\n",
    "ficytcc555_p.notes['CHEBI'] = ['5021','14235','15719']\n",
    "ficytcc555_p.notes['METACYC'] = ['an oxidized c-type cytochrome']\n",
    "ficytcc555_p.charge = 3"
   ]
  },
  {
   "cell_type": "code",
   "execution_count": 19,
   "metadata": {
    "collapsed": true
   },
   "outputs": [],
   "source": [
    "# Cytochrome cL - Cytochrome c555 - MCA2618\n",
    "focytcc555_p = model.metabolites.focytC_c.copy()\n",
    "focytcc555_p.compartment = 'p'\n",
    "focytcc555_p.id = 'focytcc555_p'\n",
    "focytcc555_p.formula = 'C42H54FeN8O6S2'\n",
    "focytcc555_p.notes['MXNREF'] = ['MNXM5750']\n",
    "focytcc555_p.notes['BIGG'] = ['focytc']\n",
    "focytcc555_p.notes['KEGG'] = ['C00924']\n",
    "focytcc555_p.notes['CHEBI'] = ['5044','14248','15983']\n",
    "focytcc555_p.notes['METACYC'] = ['an oxidized c-type cytochrome']\n",
    "focytcc555_p.charge = 2"
   ]
  },
  {
   "cell_type": "code",
   "execution_count": 20,
   "metadata": {
    "collapsed": true
   },
   "outputs": [],
   "source": [
    "# Periplasminc Formaldehyde \n",
    "fald_p = model.metabolites.fald_c.copy()\n",
    "fald_p.compartment = 'p'\n",
    "fald_p.id = 'fald_p'\n",
    "fald_p.formula = 'CH2O'\n",
    "fald_p.notes['MXNREF'] = ['MNXM56']\n",
    "fald_p.notes['BIGG'] = ['fald']\n",
    "fald_p.notes['KEGG'] = ['C00067']\n",
    "fald_p.notes['CHEBI'] = ['16842', '5142', '24077', '337763', '14274']\n",
    "fald_p.notes['METACYC'] = ['FORMALDEHYDE']\n",
    "fald_p.charge = 0"
   ]
  },
  {
   "cell_type": "code",
   "execution_count": 21,
   "metadata": {
    "collapsed": false
   },
   "outputs": [],
   "source": [
    "rxn = Reaction('MEOHDH_cyt_p')\n",
    "rxn.name = 'methanol dehydrogenase (cytochrome c)'\n",
    "rxn.subsystem = 'rn00680:Methane metabolism,rn01120:Microbial metabolism in diverse environments,rn01100:Metabolic pathways,rn01200:Carbon metabolism'\n",
    "rxn.notes['SUBSYSTEM'] =['rn00680:Methane metabolism,rn01120:Microbial metabolism in diverse environments,rn01100:Metabolic pathways,rn01200:Carbon metabolism']\n",
    "rxn.lower_bound = 0.\n",
    "rxn.upper_bound = 1000.\n",
    "rxn.objective_coefficient = 0.\n",
    "rxn.add_metabolites({meoh_p: -1.0,\n",
    "                          fald_p: 1.0,\n",
    "                          ficytcc555_p: -2.0,\n",
    "                          focytcc555_p: 2.0,\n",
    "                          h_p: 2.0})"
   ]
  },
  {
   "cell_type": "code",
   "execution_count": 22,
   "metadata": {
    "collapsed": false
   },
   "outputs": [
    {
     "name": "stdout",
     "output_type": "stream",
     "text": [
      "{}\n",
      "MEOHDH_cyt_p\n"
     ]
    }
   ],
   "source": [
    "# Confidence Score: Isolated by Amy Rosenzweig 2014 Structure and Protein–Protein Interactions of Methanol Dehydrogenase from Methylococcus capsulatus\n",
    "rxn.notes.update({'CONFIDENCE SCORE':['4']})\n",
    "# Localization\n",
    "rxn.notes.update({'LOCALIZATION':['Periplasm']})\n",
    "# EC number from BRENDA\n",
    "rxn.notes.update({'EC Number':['1.1.2.7']})\n",
    "# Gene-Reaction-Rule updated                  F           J             C            K           L           moxR          A            F            J         C            K          L          moxR            A             I           G             D          D\n",
    "rxn.notes.update({'GENE_ASSOCIATION': ['(((( MCA0299 and MCA0300 ) and (MCA1528 and MCA1529 and MCA1530 and MCA1525 and MCA1527)) or (MCA0779 and MCA0780 and MCA0786 and MCA0787 and MCA0788 and MCA0783 and MCA0785)) and MCA0782 and MCA0781 and (MCA0789 or MCA2381))' ]})\n",
    "rxn.gene_reaction_rule = '(((( MCA0299 and MCA0300 ) and (MCA1528 and MCA1529 and MCA1530 and MCA1525 and MCA1527)) or (MCA0779 and MCA0780 and MCA0786 and MCA0787 and MCA0788 and MCA0783 and MCA0785)) and MCA0782 and MCA0781 and (MCA0789 or MCA2381))'\n",
    "# MCA0781 is cytochrome cL and thus the specific electron acceptor for MDH\n",
    "\n",
    "# From 'Membrane-associated quinoprotein formaldehyde dehydrogenase from Methylococcus capsulatus Bath' Zahn et al. 2001\n",
    "# Homotetramer with a cofactor:subunit ratio of 1:1\n",
    "rxn.notes.update({'COFACTOR':['1 PQQ, 1 Ca2+']})\n",
    "# Inhibitor info from same source as above.\n",
    "rxn.notes.update({'INHIBITOR':['']})\n",
    "rxn.notes.update({'BIGG':['MEOHDH_cyt']})\n",
    "rxn.notes.update({'MXNREF':['MNXR84835']})\n",
    "rxn.notes.update({'KEGG':['R01146']})\n",
    "# Check if RXN is mass and charge balanced!\n",
    "print (rxn.check_mass_balance())\n",
    "# Check RXN-Directionality \n",
    "print rxn\n",
    "# Update ID to BiGG\n",
    "rxn.id = 'MEOHDH_cyt_p'\n",
    "model.add_reaction(rxn)"
   ]
  },
  {
   "cell_type": "markdown",
   "metadata": {},
   "source": [
    "## Methanol Diffusion RXN\n",
    "-----"
   ]
  },
  {
   "cell_type": "code",
   "execution_count": 23,
   "metadata": {
    "collapsed": true
   },
   "outputs": [],
   "source": [
    "rxn = Reaction('MeOHt_im')\n",
    "rxn.name = 'Diffusion CH4 between Periplasm and Cytosol'\n",
    "rxn.subsystem = 'Diffusion'\n",
    "rxn.notes['SUBSYSTEM'] =['Diffusion']\n",
    "rxn.lower_bound = -1000.\n",
    "rxn.upper_bound = 1000.\n",
    "rxn.objective_coefficient = 0.\n",
    "rxn.add_metabolites({meoh_p: -1.0,\n",
    "                          model.metabolites.meoh_c: 1.0})"
   ]
  },
  {
   "cell_type": "code",
   "execution_count": 24,
   "metadata": {
    "collapsed": false
   },
   "outputs": [
    {
     "name": "stdout",
     "output_type": "stream",
     "text": [
      "{}\n",
      "MeOHt_im\n"
     ]
    }
   ],
   "source": [
    "# Confidence Score:\n",
    "rxn.notes.update({'CONFIDENCE SCORE':['1']})\n",
    "# Localization\n",
    "rxn.notes.update({'LOCALIZATION':['Inner Membrane']})\n",
    "# Check if RXN is mass and charge balanced!\n",
    "print (rxn.check_mass_balance())\n",
    "# Check RXN-Directionality \n",
    "print rxn\n",
    "# Update ID to BiGG\n",
    "rxn.id = 'MEOHt_im'\n",
    "model.add_reaction(rxn)"
   ]
  },
  {
   "cell_type": "markdown",
   "metadata": {},
   "source": [
    "## Methane Diffusion RXN\n",
    "-----"
   ]
  },
  {
   "cell_type": "code",
   "execution_count": 25,
   "metadata": {
    "collapsed": true
   },
   "outputs": [],
   "source": [
    "# Check on http://www.membranetransport.org/\n",
    "\n",
    "rxn = Reaction('CH4t_im')\n",
    "rxn.name = 'Diffusion CH4 between Periplasm and Cytosol'\n",
    "rxn.subsystem = 'Diffusion'\n",
    "rxn.notes['SUBSYSTEM'] =['Diffusion']\n",
    "rxn.lower_bound = -1000.\n",
    "rxn.upper_bound = 1000.\n",
    "rxn.objective_coefficient = 0.\n",
    "rxn.add_metabolites({ch4_p: -1.0,\n",
    "                          model.metabolites.ch4_c: 1.0})"
   ]
  },
  {
   "cell_type": "code",
   "execution_count": 26,
   "metadata": {
    "collapsed": false
   },
   "outputs": [
    {
     "name": "stdout",
     "output_type": "stream",
     "text": [
      "{}\n",
      "CH4t_im\n"
     ]
    }
   ],
   "source": [
    "# Confidence Score:\n",
    "rxn.notes.update({'CONFIDENCE SCORE':['1']})\n",
    "# Localization\n",
    "rxn.notes.update({'LOCALIZATION':['Inner Membrane']})\n",
    "# Check if RXN is mass and charge balanced!\n",
    "print (rxn.check_mass_balance())\n",
    "# Check RXN-Directionality \n",
    "print rxn\n",
    "# Update ID to BiGG\n",
    "rxn.id = 'CH4t_im'\n",
    "model.add_reaction(rxn)"
   ]
  },
  {
   "cell_type": "markdown",
   "metadata": {},
   "source": [
    "## Methane Uptake RXN\n",
    "-----"
   ]
  },
  {
   "cell_type": "code",
   "execution_count": 27,
   "metadata": {
    "collapsed": false
   },
   "outputs": [],
   "source": [
    "rxn = Reaction('R_ch4_in')\n",
    "rxn.name = 'CH4 (in)'\n",
    "rxn.subsystem = 'Uptake'\n",
    "rxn.notes['SUBSYSTEM'] =['Uptake']\n",
    "rxn.lower_bound = 0.\n",
    "rxn.upper_bound = 1000.\n",
    "rxn.objective_coefficient = 0.\n",
    "rxn.add_metabolites({ch4_p: 1.0})"
   ]
  },
  {
   "cell_type": "code",
   "execution_count": 28,
   "metadata": {
    "collapsed": false
   },
   "outputs": [
    {
     "name": "stdout",
     "output_type": "stream",
     "text": [
      "{'H': 4.0, 'C': 1.0}\n",
      "R_ch4_in\n"
     ]
    }
   ],
   "source": [
    "# Confidence Score: Isolated by Amy Rosenzweig 2014 Structure and Protein–Protein Interactions of Methanol Dehydrogenase from Methylococcus capsulatus\n",
    "rxn.notes.update({'CONFIDENCE SCORE':['1']})\n",
    "# Localization\n",
    "rxn.notes.update({'LOCALIZATION':['Outer Membrane']})\n",
    "# Check if RXN is mass and charge balanced!\n",
    "print (rxn.check_mass_balance())\n",
    "# Check RXN-Directionality \n",
    "print rxn\n",
    "# Update ID to BiGG\n",
    "rxn.id = 'ch4_in'\n",
    "model.add_reaction(rxn)"
   ]
  },
  {
   "cell_type": "markdown",
   "metadata": {},
   "source": [
    "## Formaldehyde Diffusion RXN\n",
    "-----"
   ]
  },
  {
   "cell_type": "code",
   "execution_count": 29,
   "metadata": {
    "collapsed": false
   },
   "outputs": [],
   "source": [
    "# Check on http://www.membranetransport.org/\n",
    "\n",
    "rxn = Reaction('FALDt_im')\n",
    "rxn.name = 'Diffusion Formaldehyde between Periplasm and Cytosol'\n",
    "rxn.subsystem = 'Diffusion'\n",
    "rxn.notes['SUBSYSTEM'] =['Diffusion']\n",
    "rxn.lower_bound = -1000.\n",
    "rxn.upper_bound = 1000.\n",
    "rxn.objective_coefficient = 0.\n",
    "rxn.add_metabolites({fald_p: -1.0,\n",
    "                          model.metabolites.fald_c: 1.0})"
   ]
  },
  {
   "cell_type": "code",
   "execution_count": 30,
   "metadata": {
    "collapsed": false
   },
   "outputs": [
    {
     "name": "stdout",
     "output_type": "stream",
     "text": [
      "{}\n",
      "FALDt_im\n"
     ]
    }
   ],
   "source": [
    "# Confidence Score: Isolated by Amy Rosenzweig 2014 Structure and Protein–Protein Interactions of Methanol Dehydrogenase from Methylococcus capsulatus\n",
    "rxn.notes.update({'CONFIDENCE SCORE':['1']})\n",
    "# Localization\n",
    "rxn.notes.update({'LOCALIZATION':['Inner Membrane']})\n",
    "# Check if RXN is mass and charge balanced!\n",
    "print (rxn.check_mass_balance())\n",
    "# Check RXN-Directionality \n",
    "print rxn\n",
    "# Update ID to BiGG\n",
    "rxn.id = 'FALDt_im'\n",
    "model.add_reaction(rxn)"
   ]
  },
  {
   "cell_type": "markdown",
   "metadata": {},
   "source": [
    "## N-FalDH\n",
    "------------------------"
   ]
  },
  {
   "cell_type": "code",
   "execution_count": 31,
   "metadata": {
    "collapsed": true
   },
   "outputs": [],
   "source": [
    "rxn = Reaction('ALDD1_c')\n",
    "rxn.name = 'NAD+-linked formaldehyde dehydrogenase'\n",
    "rxn.subsystem = 'rn00625:Chloroalkane and chloroalkene degradation,rn00680:Methane metabolism ,rn01100:Metabolic pathways ,rn01120:Microbial metabolism in diverse environments ,rn01200:Carbon metabolism'\n",
    "rxn.notes['SUBSYSTEM'] =['rn00625:Chloroalkane and chloroalkene degradation,rn00680:Methane metabolism ,rn01100:Metabolic pathways ,rn01120:Microbial metabolism in diverse environments ,rn01200:Carbon metabolism']\n",
    "rxn.lower_bound = 0.\n",
    "rxn.upper_bound = 1000.\n",
    "rxn.objective_coefficient = 0.\n",
    "rxn.add_metabolites({model.metabolites.for_c: 1.0,\n",
    "                          model.metabolites.nadh_c: 1.0,\n",
    "                          model.metabolites.nad_c: -1.0,\n",
    "                          model.metabolites.h2o_c: -1.0,\n",
    "                          model.metabolites.fald_c: -1.0,\n",
    "                          model.metabolites.h_c: 2.0})"
   ]
  },
  {
   "cell_type": "code",
   "execution_count": 32,
   "metadata": {
    "collapsed": false
   },
   "outputs": [
    {
     "name": "stdout",
     "output_type": "stream",
     "text": [
      "{}\n",
      "ALDD1_c\n"
     ]
    }
   ],
   "source": [
    "# Confidence Score: There are ambiguities about its presence. A previous paper that claims to have \n",
    "# purified a soluble NAD+-linked FalDH turned out to have purified MDH and a H4MPT-DH instead. \n",
    "# It is more likely that the H4MPT-dependent oxidation of formate is the predominant pathway.\n",
    "# However, the presence of a true NAD+-linked FaldDH cannot be excluded, as there is further evidence.\n",
    "# Other papers report that the expression is generally low and its function is primarily detoxification of formaldehyde.\n",
    "rxn.notes.update({'CONFIDENCE SCORE':['2']})\n",
    "# Localization\n",
    "rxn.notes.update({'LOCALIZATION':['Cytosol']})\n",
    "# EC number from BRENDA\n",
    "rxn.notes.update({'EC Number':['1.2.1.46']})\n",
    "# Gene-Reaction-Rule updated\n",
    "rxn.notes.update({'GENE_ASSOCIATION': ['' ]})\n",
    "rxn.gene_reaction_rule = ''\n",
    "rxn.notes.update({'COFACTOR':['NAD']})\n",
    "# Inhibitor info from same source as above.\n",
    "rxn.notes.update({'INHIBITOR':['']})\n",
    "rxn.notes.update({'BIGG':['ALDD1']})\n",
    "rxn.notes.update({'MXNREF':['MNXR82728']})\n",
    "# Check if RXN is mass and charge balanced!\n",
    "print (rxn.check_mass_balance())\n",
    "# Check RXN-Directionality \n",
    "print rxn\n",
    "# Update ID to BiGG\n",
    "rxn.id = 'ALDD1_c'\n",
    "model.add_reaction(rxn)"
   ]
  },
  {
   "cell_type": "markdown",
   "metadata": {},
   "source": [
    "## DL-FalDH\n",
    "------------------------"
   ]
  },
  {
   "cell_type": "code",
   "execution_count": 33,
   "metadata": {
    "collapsed": false
   },
   "outputs": [],
   "source": [
    "rxn = Reaction('FALDDH_im')\n",
    "rxn.name = 'dye-linked formaldehyde dehydrogenase'\n",
    "rxn.subsystem = 'aerobic electron transport chain'\n",
    "rxn.notes['SUBSYSTEM'] =['aerobic electron transport chain']\n",
    "rxn.lower_bound = 0.\n",
    "rxn.upper_bound = 1000.\n",
    "rxn.objective_coefficient = 0.\n",
    "rxn.add_metabolites({q8h2_im: 1.0,\n",
    "                          model.metabolites.for_c: 1.0,\n",
    "                          model.metabolites.fald_c: -1.0,\n",
    "                          model.metabolites.h2o_c: -1.0,\n",
    "                          model.metabolites.q8_im: -1.0,\n",
    "                          model.metabolites.h_c: 1.0})"
   ]
  },
  {
   "cell_type": "code",
   "execution_count": 34,
   "metadata": {
    "collapsed": false
   },
   "outputs": [
    {
     "name": "stdout",
     "output_type": "stream",
     "text": [
      "{}\n",
      "FALDDH_im\n"
     ]
    }
   ],
   "source": [
    "# Confidence Score: Isolated by Zahn et al. 2001\n",
    "rxn.notes.update({'CONFIDENCE SCORE':['4']})\n",
    "# Localization\n",
    "rxn.notes.update({'LOCALIZATION':['Inner Membrane']})\n",
    "# EC number from BRENDA\n",
    "rxn.notes.update({'EC Number':['1.2.2.B1']})\n",
    "# Gene-Reaction-Rule updated\n",
    "rxn.notes.update({'GENE_ASSOCIATION': ['(MCA2155)' ]})\n",
    "rxn.gene_reaction_rule = '(MCA2155)'\n",
    "# From 'Membrane-associated quinoprotein formaldehyde dehydrogenase from Methylococcus capsulatus Bath' Zahn et al. 2001\n",
    "# Homotetramer with a cofactor:subunit ratio of 1:1\n",
    "rxn.notes.update({'COFACTOR':['PQQ']})\n",
    "# Inhibitor info from same source as above.\n",
    "rxn.notes.update({'INHIBITOR':['phenylhydrazine, Zn2+, Fe2+, Cu2+']})\n",
    "# The identifier for a (ubi)quinone(-8) reducing DL-FalDH does not exist. There is a controversy whether there is a direct\n",
    "# coupling or whether the enzyme actually uses Q8 as a cofactor. Until this is resolved I am going with what the\n",
    "# majority of papers suggest: Q8-pool usage instead of direct coupling.\n",
    "rxn.notes.update({'BIGG':['FALDDH']})\n",
    "rxn.notes.update({'MXNREF':['MNXR82728']})\n",
    "# Check if RXN is mass and charge balanced!\n",
    "print (rxn.check_mass_balance())\n",
    "# Check RXN-Directionality \n",
    "print rxn\n",
    "# Update ID to BiGG\n",
    "rxn.id = 'FALDDH_im'\n",
    "model.add_reaction(rxn)"
   ]
  },
  {
   "cell_type": "markdown",
   "metadata": {},
   "source": [
    "## FDH\n",
    "------------------------"
   ]
  },
  {
   "cell_type": "code",
   "execution_count": 35,
   "metadata": {
    "collapsed": false,
    "scrolled": true
   },
   "outputs": [
    {
     "name": "stdout",
     "output_type": "stream",
     "text": [
      "{}\n",
      "FDH_c: for_c + nad_c --> nadh_c + co2_c\n"
     ]
    }
   ],
   "source": [
    "model.reactions.FDH_c.name = 'formate:NADP+ oxidoreductase'\n",
    "model.reactions.FDH_c.subsystem = 'rn00680:Methane metabolism,rn01120:Microbial metabolism in diverse environments,rn00630:Glyoxylate and dicarboxylate metabolism,rn01100:Metabolic pathways,rn01200:Carbon metabolism'\n",
    "model.reactions.FDH_c.notes['SUBSYSTEM'] =['rn00680:Methane metabolism,rn01120:Microbial metabolism in diverse environments,rn00630:Glyoxylate and dicarboxylate metabolism,rn01100:Metabolic pathways,rn01200:Carbon metabolism']\n",
    "model.reactions.FDH_c.lower_bound = 0.\n",
    "model.reactions.FDH_c.upper_bound = 1000.\n",
    "model.reactions.FDH_c.objective_coefficient = 0.\n",
    "\n",
    "# Confidence Score: Isolated by Zahn et al. 2001\n",
    "model.reactions.FDH_c.notes.update({'CONFIDENCE SCORE':['4']})\n",
    "# Localization\n",
    "model.reactions.FDH_c.notes.update({'LOCALIZATION':['Cytosol']})\n",
    "# EC number from BRENDA\n",
    "model.reactions.FDH_c.notes.update({'EC Number':['1.2.1.2']})\n",
    "# According to 'Respiration in Methanotrophs' Zahn et al. (2005), the enzyme forms a (abcd)2 structure.\n",
    "# Also functional with (ab)2\n",
    "# Based on http://www.uniprot.org/uniprot/?query=formate+dehydrogenase+AND+organism%3A%22Methylococcus+capsulatus+%28strain+ATCC+33009+%2F+NCIMB+11132+%2F+Bath%29+%5B243233%5D%22&sort=score\n",
    "# Gene-Reaction-Rule updated                                alpha                               gamma                    beta               Iron-Sulfur       delta\n",
    "model.reactions.FDH_c.notes.update({'GENE_ASSOCIATION': ['((MCA2576 or MCA1391 or MCA1210) and (MCA1393 or MCA1208) and (MCA1209 or MCA1392) and MCA1390 and MCA1389)' ]})\n",
    "model.reactions.FDH_c.gene_reaction_rule = '((MCA2576 or MCA1391 or MCA1210) and (MCA1393 or MCA1208) and (MCA1209 or MCA1392) and MCA1390 and MCA1389)'\n",
    "# According to 'Respiration in Methanotrophs' Zahn et al. (2005)/ per subunit (abcd)\n",
    "model.reactions.FDH_c.notes.update({'COFACTOR':['1 FMN or FAD,1 Mo, 5-6 Fe-S clusters']})\n",
    "# Inhibitor info from same source as above.\n",
    "model.reactions.FDH_c.notes.update({'INHIBITOR':['']})\n",
    "model.reactions.FDH_c.notes.update({'BIGG':['FDH']})\n",
    "model.reactions.FDH_c.notes.update({'MXNREF':['MNXR6148']})\n",
    "# Check if RXN is mass and charge balanced!\n",
    "print (model.reactions.FDH_c.check_mass_balance())\n",
    "# Check RXN-Directionality \n",
    "print model.reactions.FDH_c\n",
    "# Update ID to BiGG\n",
    "model.repair()"
   ]
  },
  {
   "cell_type": "markdown",
   "metadata": {},
   "source": [
    "## CYOR_q8 Cytochrome bc1\n",
    "------------------------"
   ]
  },
  {
   "cell_type": "code",
   "execution_count": 36,
   "metadata": {
    "collapsed": true
   },
   "outputs": [],
   "source": [
    "# Fixing ferricytochrome to be Cytochrome cH - Cytochrome c553 - MCA2405\n",
    "ficytcc553_p = model.metabolites.ficytC_c.copy()\n",
    "ficytcc553_p.compartment = 'p'\n",
    "ficytcc553_p.id = 'ficytcc553_p'\n",
    "ficytcc553_p.formula = 'C42H54FeN8O6S2'\n",
    "ficytcc553_p.notes['MXNREF'] = ['MNXM11553']\n",
    "ficytcc553_p.notes['BIGG'] = ['ficytc']\n",
    "ficytcc553_p.notes['KEGG'] = ['C01070']\n",
    "ficytcc553_p.notes['CHEBI'] = ['5028','14239','16951']\n",
    "ficytcc553_p.notes['METACYC'] = ['an oxidized c-type cytochrome']\n",
    "ficytcc553_p.charge = 3"
   ]
  },
  {
   "cell_type": "code",
   "execution_count": 37,
   "metadata": {
    "collapsed": true
   },
   "outputs": [],
   "source": [
    "# Fixing ferrocytochrome to be Cytochrome cH - Cytochrome c553 - MCA2405\n",
    "# ID confirmed by Blasting N-terminal sequence mentioned in 'Respiration in Methanotrophs' by Zahn et al. 2005\n",
    "# against Mc genome.\n",
    "focytcc553_p = model.metabolites.focytC_c.copy()\n",
    "focytcc553_p.compartment = 'p'\n",
    "focytcc553_p.id = 'focytcc553_p'\n",
    "focytcc553_p.formula = 'C42H54FeN8O6S2'\n",
    "focytcc553_p.notes['MXNREF'] = ['MNXM746']\n",
    "focytcc553_p.notes['METACYC'] = ['a reduced c-type cytochrome']\n",
    "focytcc553_p.notes['BIGG'] = ['focytcc553']\n",
    "focytcc553_p.notes['KEGG'] = ['C01071']\n",
    "focytcc553_p.notes['CHEBI'] = ['5040','14252','15856']\n",
    "focytcc553_p.charge = 2"
   ]
  },
  {
   "cell_type": "code",
   "execution_count": 38,
   "metadata": {
    "collapsed": false
   },
   "outputs": [],
   "source": [
    "rxn = Reaction('CYOR_q8_im')\n",
    "rxn.name = 'Ubiquinol-cytochrome c oxidoreductase Complex III'\n",
    "rxn.subsystem = 'aerobic electron transport chain'\n",
    "rxn.notes['SUBSYSTEM'] =['aerobic electron transport chain']\n",
    "rxn.lower_bound = 0.\n",
    "rxn.upper_bound = 1000.\n",
    "rxn.objective_coefficient = 0.\n",
    "rxn.add_metabolites({q8h2_im: -1.0,\n",
    "                          ficytcc553_p: -2.0,\n",
    "                          focytcc553_p: 2.0,\n",
    "                          model.metabolites.h_c: -2.0,\n",
    "                          model.metabolites.h_p: 4.0,\n",
    "                          model.metabolites.q8_im: 1.0})"
   ]
  },
  {
   "cell_type": "code",
   "execution_count": 39,
   "metadata": {
    "collapsed": false
   },
   "outputs": [
    {
     "name": "stdout",
     "output_type": "stream",
     "text": [
      "{}\n",
      "CYOR_q8_im\n"
     ]
    }
   ],
   "source": [
    "# Confidence Score\n",
    "rxn.notes.update({'CONFIDENCE SCORE':['4']})\n",
    "# Localization\n",
    "rxn.notes.update({'LOCALIZATION':['Inner Membrane']})\n",
    "# EC number from BRENDA\n",
    "rxn.notes.update({'EC Number':['1.10.2.2']})\n",
    "# Gene-Reaction-Rule updated\n",
    "rxn.notes.update({'GENE_ASSOCIATION': ['( MCA1960_c and MCA1961_c and MCA1962 and MCA2405)' ]})\n",
    "rxn.gene_reaction_rule = '( MCA1960_c and MCA1961_c and MCA1962 and MCA2405)'\n",
    "# Substrate and cofactor usage from 'Respiration in Methanotrophs' DiSpirito et al. 2005 published in Zannoni's 'Respiration in Archea and Bacteria: Diversity in Prokaryotic Respiration Systems'\n",
    "rxn.notes.update({'COFACTOR':['Heme B, Heme A, Ubiquinone-8']})\n",
    "# Inhibitor info from same source as above.\n",
    "rxn.notes.update({'INHIBITOR':['antimycin a, myxothiazol, stigmatellin']})\n",
    "rxn.notes.update({'BIGG':['CYOR_q8']})\n",
    "rxn.notes.update({'MXNREF':['MNXR82078']})\n",
    "# Check if RXN is mass and charge balanced!\n",
    "print (rxn.check_mass_balance())\n",
    "# Check RXN-Directionality \n",
    "print rxn\n",
    "# Update ID to BiGG\n",
    "rxn.id = 'CYOR_q8_im'\n",
    "model.add_reaction(rxn)"
   ]
  },
  {
   "cell_type": "markdown",
   "metadata": {},
   "source": [
    "## Cytochrome c-555 (cL):cytochrome c-553(cH) oxidoreductase\n",
    "------------------------"
   ]
  },
  {
   "cell_type": "code",
   "execution_count": 40,
   "metadata": {
    "collapsed": true
   },
   "outputs": [],
   "source": [
    "# http://www.ebi.ac.uk/interpro/entry/IPR009153\n",
    "# 'The quinoprotein dehydrogenases for methanol and glucose' Anthony, C. 2004 and Zahn et al. 2005.\n",
    "\n",
    "rxn = Reaction('CyLCyHOx_p')\n",
    "rxn.name = 'Cytochrome c-555 (cL):cytochrome c-553(cH) oxidoreductase'\n",
    "rxn.subsystem = 'rn00680:Methane metabolism,rn01120:Microbial metabolism in diverse environments,rn01100:Metabolic pathways,rn01200:Carbon metabolism'\n",
    "rxn.notes['SUBSYSTEM'] =['rn00680:Methane metabolism,rn01120:Microbial metabolism in diverse environments,rn01100:Metabolic pathways,rn01200:Carbon metabolism']\n",
    "rxn.lower_bound = -1000.\n",
    "rxn.upper_bound = 1000.\n",
    "rxn.objective_coefficient = 0.\n",
    "rxn.add_metabolites({ficytcc555_p: 1.0,\n",
    "                     focytcc555_p: -1.0,\n",
    "                     ficytcc553_p: -1.0,\n",
    "                     focytcc553_p: 1.0})"
   ]
  },
  {
   "cell_type": "code",
   "execution_count": 41,
   "metadata": {
    "collapsed": false
   },
   "outputs": [
    {
     "name": "stdout",
     "output_type": "stream",
     "text": [
      "{}\n",
      "CyLCyHOx_p\n"
     ]
    }
   ],
   "source": [
    "# Confidence Score\n",
    "rxn.notes.update({'CONFIDENCE SCORE':['4']})\n",
    "# Localization\n",
    "rxn.notes.update({'LOCALIZATION':['Periplasm']})\n",
    "# EC number from BRENDA\n",
    "rxn.notes.update({'EC Number':['1.9.-.-']})\n",
    "# Gene-Reaction-Rule updated\n",
    "rxn.notes.update({'GENE_ASSOCIATION': ['( MCA2618 and MCA2405)' ]})\n",
    "rxn.gene_reaction_rule = '( MCA2618 and MCA2405)' \n",
    "# Substrate and cofactor usage from 'Respiration in Methanotrophs' DiSpirito et al. 2005 published in Zannoni's 'Respiration in Archea and Bacteria: Diversity in Prokaryotic Respiration Systems'\n",
    "rxn.notes.update({'COFACTOR':['Heme A']})\n",
    "# Inhibitor info from same source as above.\n",
    "rxn.notes.update({'INHIBITOR':['']})\n",
    "rxn.notes.update({'BIGG':['']})\n",
    "rxn.notes.update({'MXNREF':['']})\n",
    "# Check if RXN is mass and charge balanced!\n",
    "print (rxn.check_mass_balance())\n",
    "# Check RXN-Directionality \n",
    "print rxn\n",
    "# Update ID to BiGG\n",
    "rxn.id = 'CyLCyHOx_p'\n",
    "model.add_reaction(rxn)"
   ]
  },
  {
   "cell_type": "markdown",
   "metadata": {},
   "source": [
    "## Terminal Oxidase cytochrome cbd (copper-independent)\n",
    "-----"
   ]
  },
  {
   "cell_type": "code",
   "execution_count": 42,
   "metadata": {
    "collapsed": true
   },
   "outputs": [],
   "source": [
    "rxn = Reaction('CYTCBD_im')\n",
    "rxn.name = 'cytochrome cbd terminal oxidase - Complex IV'\n",
    "rxn.subsystem = 'ec00190:Oxidative phosphorylation,ec01100:Metabolic pathways'\n",
    "rxn.notes['SUBSYSTEM'] =['ec00190:Oxidative phosphorylation,ec01100:Metabolic pathways']\n",
    "rxn.lower_bound = 0.\n",
    "rxn.upper_bound = 1000.\n",
    "rxn.objective_coefficient = 0.\n",
    "rxn.add_metabolites({ficytcc553_p: 4.0,\n",
    "                     focytcc553_p: -4.0,\n",
    "                     model.metabolites.o2_c: -1.0,\n",
    "                     model.metabolites.h_c: -8.0,\n",
    "                     h_p: 4.0, \n",
    "                     model.metabolites.h2o_c: 2.0})"
   ]
  },
  {
   "cell_type": "code",
   "execution_count": 43,
   "metadata": {
    "collapsed": false
   },
   "outputs": [
    {
     "name": "stdout",
     "output_type": "stream",
     "text": [
      "{}\n",
      "CYTCBD_im\n"
     ]
    }
   ],
   "source": [
    "# Confidence Score Suspected presence and function by \n",
    "rxn.notes.update({'CONFIDENCE SCORE':['2']})\n",
    "# Localization\n",
    "rxn.notes.update({'LOCALIZATION':['Inner Membrane']})\n",
    "# EC number from BRENDA\n",
    "rxn.notes.update({'EC Number':['1.9.3.1']})\n",
    "# Gene-Reaction-Rule updated               \n",
    "rxn.notes.update({'GENE_ASSOCIATION': ['(MCA1185 and MCA1186 and MCA1187)' ]})\n",
    "rxn.gene_reaction_rule = '(MCA1185 and MCA1186 and MCA1187)' \n",
    "# Substrate and cofactor usage from 'Respiration in Methanotrophs' DiSpirito et al. 2005 published in Zannoni's 'Respiration in Archea and Bacteria: Diversity in Prokaryotic Respiration Systems'\n",
    "rxn.notes.update({'COFACTOR':['2 Heme A, 1 Heme C']})\n",
    "rxn.notes.update({'INHIBITOR':['']})\n",
    "rxn.notes.update({'BIGG':['CYOO6m']})\n",
    "rxn.notes.update({'MXNREF':['MNXR87009']})\n",
    "# Check if RXN is mass and charge balanced!\n",
    "print (rxn.check_mass_balance())\n",
    "# Check RXN-Directionality \n",
    "print rxn\n",
    "# Update ID to BiGG\n",
    "rxn.id = 'CYTCBD_im'\n",
    "model.add_reaction(rxn)"
   ]
  },
  {
   "cell_type": "markdown",
   "metadata": {},
   "source": [
    "## Terminal Oxidase cytochrome aa <sub>3</sub>\n",
    "\n",
    "--------------"
   ]
  },
  {
   "cell_type": "code",
   "execution_count": 44,
   "metadata": {
    "collapsed": true
   },
   "outputs": [],
   "source": [
    "rxn = Reaction('CYTAA3_im')\n",
    "rxn.name = 'cytochrome aa3 terminal oxidase - Complex IV'\n",
    "rxn.subsystem = 'ec00190:Oxidative phosphorylation,ec01100:Metabolic pathways'\n",
    "rxn.notes['SUBSYSTEM'] =['ec00190:Oxidative phosphorylation,ec01100:Metabolic pathways']\n",
    "rxn.lower_bound = 0.\n",
    "rxn.upper_bound = 1000.\n",
    "rxn.objective_coefficient = 0.\n",
    "rxn.add_metabolites({ficytcc553_p: 4.0,\n",
    "                     focytcc553_p: -4.0,\n",
    "                     model.metabolites.o2_c: -1.0,\n",
    "                     model.metabolites.h_c: -8.0,\n",
    "                     h_p: 4.0, \n",
    "                     model.metabolites.h2o_c: 2.0})"
   ]
  },
  {
   "cell_type": "code",
   "execution_count": 45,
   "metadata": {
    "collapsed": false
   },
   "outputs": [
    {
     "name": "stdout",
     "output_type": "stream",
     "text": [
      "{}\n",
      "CYTAA3_im\n"
     ]
    }
   ],
   "source": [
    "# Confidence Score Isolated by DiSpirito et al. 'Cytochrome aa3 from Methylococcus capsulatus (Bath)' 1994\n",
    "rxn.notes.update({'CONFIDENCE SCORE':['4']})\n",
    "# Localization\n",
    "rxn.notes.update({'LOCALIZATION':['Inner Membrane']})\n",
    "# EC number from BRENDA\n",
    "rxn.notes.update({'EC Number':['1.9.3.1']})\n",
    "# Gene-Reaction-Rule updated                II           I           I & II(possibly ba3)      Assembly     III\n",
    "rxn.notes.update({'GENE_ASSOCIATION': ['((( MCA0879 and MCA0880) or (MCA2396 and MCA2397)) and MCA0882 and MCA0883)' ]})\n",
    "rxn.gene_reaction_rule = '((( MCA0879 and MCA0880) or (MCA2396 and MCA2397)) and MCA0882 and MCA0883)' \n",
    "# Substrate and cofactor usage from 'Respiration in Methanotrophs' DiSpirito et al. 2005 published in Zannoni's 'Respiration in Archea and Bacteria: Diversity in Prokaryotic Respiration Systems'\n",
    "rxn.notes.update({'COFACTOR':['2 Heme A, 1 Heme C, 6 Cu2+']})\n",
    "rxn.notes.update({'INHIBITOR':['']})\n",
    "rxn.notes.update({'BIGG':['CYOO6m']})\n",
    "rxn.notes.update({'MXNREF':['MNXR87009']})\n",
    "# Check if RXN is mass and charge balanced!\n",
    "print (rxn.check_mass_balance())\n",
    "# Check RXN-Directionality \n",
    "print rxn\n",
    "# Update ID to BiGG\n",
    "rxn.id = 'CYTAA3_im'\n",
    "model.add_reaction(rxn)"
   ]
  },
  {
   "cell_type": "markdown",
   "metadata": {},
   "source": [
    "## ATP Synthase F0F1 - Proton Gradient\n",
    "--------"
   ]
  },
  {
   "cell_type": "code",
   "execution_count": 46,
   "metadata": {
    "collapsed": false
   },
   "outputs": [],
   "source": [
    "rxn = Reaction('ATPSh_im')\n",
    "rxn.name = 'ATP synthase F0 - H+ - complex V'\n",
    "rxn.subsystem = 'ec00190:Oxidative phosphorylation,ec01100:Metabolic pathways'\n",
    "rxn.notes['SUBSYSTEM'] =['ec00190:Oxidative phosphorylation,ec01100:Metabolic pathways']\n",
    "rxn.lower_bound = 0.\n",
    "rxn.upper_bound = 1000.\n",
    "rxn.objective_coefficient = 0.\n",
    "rxn.add_metabolites({model.metabolites.atp_c: 1.0,\n",
    "                     model.metabolites.adp_c: -1.0,\n",
    "                     model.metabolites.pi_c: -1.0,\n",
    "                     model.metabolites.h_c: 3.0,\n",
    "                     h_p: -4.0, \n",
    "                     model.metabolites.h2o_c: 1.0})"
   ]
  },
  {
   "cell_type": "code",
   "execution_count": 47,
   "metadata": {
    "collapsed": false
   },
   "outputs": [
    {
     "name": "stdout",
     "output_type": "stream",
     "text": [
      "{}\n",
      "ATPSh_im\n"
     ]
    }
   ],
   "source": [
    "# Confidence Score \n",
    "rxn.notes.update({'CONFIDENCE SCORE':['2']})\n",
    "# Localization\n",
    "rxn.notes.update({'LOCALIZATION':['Inner Membrane']})\n",
    "# EC number from BRENDA\n",
    "rxn.notes.update({'EC Number':['3.6.3.14']})\n",
    "# Gene-Reaction-Rule updated                A           C          B          delta       alpha       gamma       beta      epsilon         A           C           delta      alpha        gamma         ??       epsilon\n",
    "rxn.notes.update({'GENE_ASSOCIATION': ['((MCA0006 and MCA0007 and MCA0008 and MCA0009 and MCA0010 and MCA0011 and MCA0012 and MCA0013) or (MCA2699 and MCA2700 and MCA2701 and MCA2707 and MCA2708 and MCA1556 and MCA3021))']})\n",
    "rxn.gene_reaction_rule = '((MCA0006 and MCA0007 and MCA0008 and MCA0009 and MCA0010 and MCA0011 and MCA0012 and MCA0013) or (MCA2699 and MCA2700 and MCA2701 and MCA2707 and MCA2708 and MCA1556 and MCA3021))' \n",
    "# \n",
    "rxn.notes.update({'COFACTOR':['']})\n",
    "rxn.notes.update({'INHIBITOR':['']})\n",
    "rxn.notes.update({'BIGG':['ATPSh']})\n",
    "rxn.notes.update({'MXNREF':['MNXR81785']})\n",
    "# Check if RXN is mass and charge balanced!\n",
    "print (rxn.check_mass_balance())\n",
    "# Check RXN-Directionality \n",
    "print rxn\n",
    "# Update ID to BiGG\n",
    "rxn.id = 'ATPSh_im'\n",
    "model.add_reaction(rxn)"
   ]
  },
  {
   "cell_type": "markdown",
   "metadata": {},
   "source": [
    "## ATP Synthase F0F1 - Na+ Pumping\n",
    "--------"
   ]
  },
  {
   "cell_type": "code",
   "execution_count": 48,
   "metadata": {
    "collapsed": true
   },
   "outputs": [],
   "source": [
    "na1_p = model.metabolites.na1_c.copy()\n",
    "na1_p.compartment = 'p'\n",
    "na1_p.id = 'na1_p'\n",
    "na1_p.formula = 'Na'\n",
    "na1_p.notes['MXNREF'] = ['MNXM27']\n",
    "na1_p.notes['BIGG'] = ['na1']\n",
    "na1_p.notes['KEGG'] = ['C00923']\n",
    "na1_p.notes['CHEBI'] = ['26710', '29101', '9175', '26717', '49766', '32145', '33167', '63004']\n",
    "na1_p.notes['METACYC'] = ['NA+']\n",
    "na1_p.charge = 1"
   ]
  },
  {
   "cell_type": "code",
   "execution_count": 49,
   "metadata": {
    "collapsed": false
   },
   "outputs": [],
   "source": [
    "rxn = Reaction('ATPSNa_im')\n",
    "rxn.name = 'ATP synthase F0 - Na+ - complex V'\n",
    "rxn.subsystem = 'ec00190:Oxidative phosphorylation,ec01100:Metabolic pathways'\n",
    "rxn.notes['SUBSYSTEM'] =['ec00190:Oxidative phosphorylation,ec01100:Metabolic pathways']\n",
    "rxn.lower_bound = 0.\n",
    "rxn.upper_bound = 1000.\n",
    "rxn.objective_coefficient = 0.\n",
    "rxn.add_metabolites({model.metabolites.atp_c: 1.0,\n",
    "                     model.metabolites.adp_c: -1.0,\n",
    "                     model.metabolites.pi_c: -1.0,\n",
    "                     model.metabolites.na1_c: 3.0,\n",
    "                     model.metabolites.h_c: -1.0,\n",
    "                     na1_p: -3.0, \n",
    "                     model.metabolites.h2o_c: 1.0})"
   ]
  },
  {
   "cell_type": "code",
   "execution_count": 50,
   "metadata": {
    "collapsed": false
   },
   "outputs": [
    {
     "name": "stdout",
     "output_type": "stream",
     "text": [
      "{}\n",
      "ATPSNa_im\n"
     ]
    }
   ],
   "source": [
    "# Confidence Score \n",
    "rxn.notes.update({'CONFIDENCE SCORE':['2']})\n",
    "# Localization\n",
    "rxn.notes.update({'LOCALIZATION':['Inner Membrane']})\n",
    "# EC number from BRENDA\n",
    "rxn.notes.update({'EC Number':['3.6.3.14']})\n",
    "# Gene-Reaction-Rule updated                A           C          B          delta       alpha       gamma       beta      epsilon         A           C           delta      alpha        gamma         ??         epsilon \n",
    "rxn.notes.update({'GENE_ASSOCIATION': ['((MCA0006 and MCA0007 and MCA0008 and MCA0009 and MCA0010 and MCA0011 and MCA0012 and MCA0013) or (MCA2699 and MCA2700 and MCA2701 and MCA2707 and MCA2708 and MCA1556 and MCA3021))']})\n",
    "rxn.gene_reaction_rule = '((MCA0006 and MCA0007 and MCA0008 and MCA0009 and MCA0010 and MCA0011 and MCA0012 and MCA0013) or (MCA2699 and MCA2700 and MCA2701 and MCA2707 and MCA2708 and MCA1556 and MCA3021))'\n",
    "# \n",
    "rxn.notes.update({'COFACTOR':['']})\n",
    "rxn.notes.update({'INHIBITOR':['']})\n",
    "rxn.notes.update({'BIGG':['ATPSh']})\n",
    "rxn.notes.update({'MXNREF':['MNXR81785']})\n",
    "# Check if RXN is mass and charge balanced!\n",
    "print (rxn.check_mass_balance())\n",
    "# Check RXN-Directionality \n",
    "print rxn\n",
    "# Update ID to BiGG\n",
    "rxn.id = 'ATPSNa_im'\n",
    "model.add_reaction(rxn)"
   ]
  },
  {
   "cell_type": "markdown",
   "metadata": {},
   "source": [
    "## Hydrogen-translocating pyrophosphatase\n",
    "-----"
   ]
  },
  {
   "cell_type": "code",
   "execution_count": 51,
   "metadata": {
    "collapsed": false
   },
   "outputs": [],
   "source": [
    "rxn = Reaction('PPApt_im')\n",
    "rxn.name = 'Proton-translocating pyrophosphatase'\n",
    "rxn.subsystem = 'ec00190:Oxidative phosphorylation,ec01100:Metabolic pathways'\n",
    "rxn.notes['SUBSYSTEM'] =['ec00190:Oxidative phosphorylation,ec01100:Metabolic pathways']\n",
    "rxn.lower_bound = 0.\n",
    "rxn.upper_bound = 1000.\n",
    "rxn.objective_coefficient = 0.\n",
    "rxn.add_metabolites({model.metabolites.ppi_c: -1.0,\n",
    "                     model.metabolites.h2o_c: -1.0,\n",
    "                     model.metabolites.pi_c: 2.0,\n",
    "                     model.metabolites.h_c: -1.0,\n",
    "                     h_p: 2.0})"
   ]
  },
  {
   "cell_type": "code",
   "execution_count": 52,
   "metadata": {
    "collapsed": false
   },
   "outputs": [
    {
     "name": "stdout",
     "output_type": "stream",
     "text": [
      "{}\n",
      "PPApt_im\n"
     ]
    }
   ],
   "source": [
    "# Confidence Score \n",
    "rxn.notes.update({'CONFIDENCE SCORE':['2']})\n",
    "# Localization\n",
    "rxn.notes.update({'LOCALIZATION':['Inner Membrane']})\n",
    "# EC number from BRENDA\n",
    "rxn.notes.update({'EC Number':['3.6.1.1']})\n",
    "# Gene-Reaction-Rule updated               \n",
    "rxn.notes.update({'GENE_ASSOCIATION': ['(MCA1188)']})\n",
    "rxn.gene_reaction_rule = '(MCA1188)' \n",
    "# \n",
    "rxn.notes.update({'COFACTOR':['']})\n",
    "rxn.notes.update({'INHIBITOR':['']})\n",
    "rxn.notes.update({'BIGG':['PPA']})\n",
    "rxn.notes.update({'MXNREF':['MNXR4373']})\n",
    "# Check if RXN is mass and charge balanced!\n",
    "print (rxn.check_mass_balance())\n",
    "# Check RXN-Directionality \n",
    "print rxn\n",
    "# Update ID to BiGG\n",
    "rxn.id = 'PPApt_im'\n",
    "model.add_reaction(rxn)"
   ]
  },
  {
   "cell_type": "markdown",
   "metadata": {},
   "source": [
    "## NDH-1\n",
    "-------"
   ]
  },
  {
   "cell_type": "code",
   "execution_count": 53,
   "metadata": {
    "collapsed": true
   },
   "outputs": [],
   "source": [
    "rxn = Reaction('NADH16_im')\n",
    "rxn.name = 'type-1 nadh:quinone oxidoreductase (H+-translocating)'\n",
    "rxn.subsystem = 'ec00190:Oxidative phosphorylation, ec01100:Metabolic pathways'\n",
    "rxn.notes['SUBSYSTEM'] =['ec00190:Oxidative phosphorylation, ec01100:Metabolic pathways']\n",
    "rxn.lower_bound = 0.\n",
    "rxn.upper_bound = 1000.\n",
    "rxn.objective_coefficient = 0.\n",
    "rxn.add_metabolites({q8h2_im: 1.0,\n",
    "                          model.metabolites.nad_c: 1.0,\n",
    "                          model.metabolites.nadh_c: -1.0,\n",
    "                          model.metabolites.h_c: -4.0,\n",
    "                          model.metabolites.q8_im: -1.0,\n",
    "                          h_p: 3.0})"
   ]
  },
  {
   "cell_type": "code",
   "execution_count": 54,
   "metadata": {
    "collapsed": false
   },
   "outputs": [
    {
     "name": "stdout",
     "output_type": "stream",
     "text": [
      "{}\n",
      "NADH16_im\n"
     ]
    }
   ],
   "source": [
    "# Confidence Score\n",
    "rxn.notes.update({'CONFIDENCE SCORE':['2']})\n",
    "# Localization\n",
    "rxn.notes.update({'LOCALIZATION':['Inner Membrane']})\n",
    "# EC number from BRENDA\n",
    "rxn.notes.update({'EC Number':['1.6.5.11']})\n",
    "# Gene-Reaction-Rule updated             N           M           L           K           J           I           H           G           F           E           C/D         B           A\n",
    "rxn.notes.update({'GENE_ASSOCIATION': ['(MCA1347 and MCA1348 and MCA1349 and MCA1350 and MCA1351 and MCA1352 and MCA1353 and MCA1354 and MCA1355 and MCA1356 and MCA1357 and MCA1358 and MCA1359)' ]})\n",
    "rxn.gene_reaction_rule = '(MCA1347 and MCA1348 and MCA1349 and MCA1350 and MCA1351 and MCA1352 and MCA1353 and MCA1354 and MCA1355 and MCA1356 and MCA1357 and MCA1358 and MCA1359)'\n",
    "# Substrate and cofactor usage from BRENDA\n",
    "# Uses only NADH\n",
    "rxn.notes.update({'COFACTOR':['FMN,Fe-S clusters']})\n",
    "# Inhibitor info from Cook & Shiemke et al. 2004 doi: 10.1128/JB.186.4.928-937.2004\n",
    "rxn.notes.update({'INHIBITOR':['']})\n",
    "rxn.notes.update({'BIGG':['NADH16']})\n",
    "rxn.notes.update({'MXNREF':['']})\n",
    "# Check if RXN is mass and charge balanced!\n",
    "print (rxn.check_mass_balance())\n",
    "# Check RXN-Directionality \n",
    "print rxn\n",
    "# Update ID to BiGG\n",
    "rxn.id = 'NADH16_im'\n",
    "model.add_reaction(rxn)"
   ]
  },
  {
   "cell_type": "markdown",
   "metadata": {},
   "source": [
    "## NQR\n",
    "-------"
   ]
  },
  {
   "cell_type": "code",
   "execution_count": 55,
   "metadata": {
    "collapsed": true
   },
   "outputs": [],
   "source": [
    "rxn = Reaction('NQR_im')\n",
    "rxn.name = 'Na(+)-translocating NADH-quinone - NQR'\n",
    "rxn.subsystem = 'ec00190:Oxidative phosphorylation, ec01100:Metabolic pathways'\n",
    "rxn.notes['SUBSYSTEM'] =['ec00190:Oxidative phosphorylation, ec01100:Metabolic pathways']\n",
    "rxn.lower_bound = 0.\n",
    "rxn.upper_bound = 1000.\n",
    "rxn.objective_coefficient = 0.\n",
    "rxn.add_metabolites({q8h2_im: 1.0,\n",
    "                          model.metabolites.nad_c: 1.0,\n",
    "                          model.metabolites.nadh_c: -1.0,\n",
    "                          model.metabolites.h_c: -1.0,\n",
    "                          model.metabolites.q8_im: -1.0,\n",
    "                          model.metabolites.na1_c: 2.0,\n",
    "                          na1_p: -2.0, })"
   ]
  },
  {
   "cell_type": "code",
   "execution_count": 56,
   "metadata": {
    "collapsed": false
   },
   "outputs": [
    {
     "name": "stdout",
     "output_type": "stream",
     "text": [
      "{}\n",
      "NQR_im\n"
     ]
    }
   ],
   "source": [
    "# Confidence Score\n",
    "rxn.notes.update({'CONFIDENCE SCORE':['2']})\n",
    "# Localization\n",
    "rxn.notes.update({'LOCALIZATION':['Inner Membrane']})\n",
    "# EC number from BRENDA\n",
    "rxn.notes.update({'EC Number':['1.6.5.8']})\n",
    "# Gene-Reaction-Rule updated             A           B           C           D           E           F \n",
    "rxn.notes.update({'GENE_ASSOCIATION': ['(MCA2389 and MCA2388 and MCA2387 and MCA2386 and MCA2385 and MCA2384)']})\n",
    "rxn.gene_reaction_rule = '(MCA2389 and MCA2388 and MCA2387 and MCA2386 and MCA2385 and MCA2384)'\n",
    "# Substrate and cofactor usage from BRENDA\n",
    "# Uses only NADH\n",
    "rxn.notes.update({'COFACTOR':['FMN,FAD,Fe-S clusters']})\n",
    "rxn.notes.update({'INHIBITOR':['']})\n",
    "rxn.notes.update({'BIGG':['NADHNQR']})\n",
    "rxn.notes.update({'MXNREF':['']})\n",
    "# Check if RXN is mass and charge balanced!\n",
    "print (rxn.check_mass_balance())\n",
    "# Check RXN-Directionality \n",
    "print rxn\n",
    "# Update ID to BiGG\n",
    "rxn.id = 'NQR_im'\n",
    "model.add_reaction(rxn)"
   ]
  },
  {
   "cell_type": "markdown",
   "metadata": {},
   "source": [
    "## Clean-up of unused respiratory reactions and metabolites"
   ]
  },
  {
   "cell_type": "code",
   "execution_count": 57,
   "metadata": {
    "collapsed": false
   },
   "outputs": [],
   "source": [
    "model.remove_reactions([model.reactions.ALCD1_c], delete=True, remove_orphans=True)"
   ]
  },
  {
   "cell_type": "code",
   "execution_count": 58,
   "metadata": {
    "collapsed": false
   },
   "outputs": [],
   "source": [
    "model.remove_reactions([model.reactions.MNXR10335_c], delete=True, remove_orphans=True)\n",
    "model.remove_reactions([model.reactions.MNXR84835_c], delete=True, remove_orphans=True)\n",
    "model.remove_reactions([model.reactions.PRDX_c], delete=True, remove_orphans=True)\n",
    "model.remove_reactions([model.reactions.MNXR6148_c], delete=True, remove_orphans=True)\n",
    "model.remove_reactions([model.reactions.FHL_c], delete=True, remove_orphans=True)\n",
    "model.remove_reactions([model.reactions.MNXR84917_c], delete=True, remove_orphans=True)"
   ]
  },
  {
   "cell_type": "code",
   "execution_count": 59,
   "metadata": {
    "collapsed": false
   },
   "outputs": [],
   "source": [
    "target_filename = relative_directory + '/Reconstructions/MethylococcusModel3.xml'\n",
    "cobra.io.write_legacy_sbml(model, target_filename,use_fbc_package=False)"
   ]
  },
  {
   "cell_type": "markdown",
   "metadata": {},
   "source": [
    "## Map in Escher"
   ]
  },
  {
   "cell_type": "code",
   "execution_count": 60,
   "metadata": {
    "collapsed": false
   },
   "outputs": [],
   "source": [
    "# import escher\n",
    "# import csv\n",
    "# import math\n",
    "\n",
    "# reader = csv.reader(open('/Users/clie/Desktop/EFPro2/Experimental Data & Standards/Transcriptomics/RNAseq/Transcriptomic Data Cu-Difference Escher copy.csv',mode='rU'))\n",
    "# # mydict = {rows[0]:[rows[1], rows[2]] for rows in reader}\n",
    "\n",
    "# mydict = {}\n",
    "# for rows in reader:\n",
    "#     try: \n",
    "#         fold_change = float(rows[1])/float(rows[2])\n",
    "#         log_fold_change = math.log(fold_change,2)\n",
    "#         mydict.update({rows[0]:[log_fold_change]})\n",
    "#     except:\n",
    "#         mydict.update({rows[0]:0.0})\n",
    "        \n",
    "# maps = escher.Builder(\n",
    "# #     model=model,\n",
    "#                     map_json='/Users/clie/Desktop/EFPro2/Reconstructions/Metabolic Map/Respiratory_Chain.json',\n",
    "#                     gene_data=mydict,\n",
    "#                     show_gene_reaction_rules=True,\n",
    "#                     use_3d_transform = True\n",
    "#                     )\n",
    "\n",
    "# maps.display_in_browser()"
   ]
  }
 ],
 "metadata": {
  "kernelspec": {
   "display_name": "Python 2",
   "language": "python",
   "name": "python2"
  },
  "language_info": {
   "codemirror_mode": {
    "name": "ipython",
    "version": 2
   },
   "file_extension": ".py",
   "mimetype": "text/x-python",
   "name": "python",
   "nbconvert_exporter": "python",
   "pygments_lexer": "ipython2",
   "version": "2.7.9"
  }
 },
 "nbformat": 4,
 "nbformat_minor": 0
}
