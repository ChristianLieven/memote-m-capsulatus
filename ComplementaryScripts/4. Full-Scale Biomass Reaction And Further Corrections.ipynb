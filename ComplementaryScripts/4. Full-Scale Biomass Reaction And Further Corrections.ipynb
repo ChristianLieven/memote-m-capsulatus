{
 "cells": [
  {
   "cell_type": "markdown",
   "metadata": {},
   "source": [
    "# Biomass-RXN implemented from del Torre et al. and from UniBio"
   ]
  },
  {
   "cell_type": "markdown",
   "metadata": {},
   "source": [
    "## Import"
   ]
  },
  {
   "cell_type": "code",
   "execution_count": 368,
   "metadata": {
    "collapsed": false
   },
   "outputs": [],
   "source": [
    "import cameo\n",
    "from cobra import Model, Reaction, Metabolite\n",
    "from cobra.io import read_sbml_model\n",
    "from cobra.io import save_json_model\n",
    "from cameo.flux_analysis.simulation import pfba\n",
    "import cobra.test\n",
    "import os\n",
    "from Functions_Modules.curation_tools import *"
   ]
  },
  {
   "cell_type": "code",
   "execution_count": 4,
   "metadata": {
    "collapsed": false
   },
   "outputs": [],
   "source": [
    "relative_directory = os.getcwd()\n",
    "filename = relative_directory + '/Reconstructions/MethylococcusModel6.xml'\n",
    "model = cameo.load_model(filename)"
   ]
  },
  {
   "cell_type": "markdown",
   "metadata": {},
   "source": [
    "------------------"
   ]
  },
  {
   "cell_type": "markdown",
   "metadata": {},
   "source": [
    "## Extension of the Reaction"
   ]
  },
  {
   "cell_type": "code",
   "execution_count": 5,
   "metadata": {
    "collapsed": false
   },
   "outputs": [],
   "source": [
    "rxn = model.reactions.BIOMASS_REACTION"
   ]
  },
  {
   "cell_type": "code",
   "execution_count": 6,
   "metadata": {
    "collapsed": false
   },
   "outputs": [
    {
     "data": {
      "text/html": [
       "\n",
       "        <table>\n",
       "            <tr>\n",
       "                <td><strong>Id</strong></td><td>BIOMASS_REACTION</td>\n",
       "            </tr>\n",
       "            <tr>\n",
       "                <td><strong>Name</strong></td><td>BIOMASS_REACTION</td>\n",
       "            </tr>\n",
       "            <tr>\n",
       "                <td><strong>Stoichiometry</strong></td><td>ala__L_bm + amp_bm + arg__L_bm + asn__L_bm + asp__L_bm + atp_bm + cmp_bm + cys__L_bm + damp_bm + dcmp_bm + dgmp_bm + dtmp_bm + gln__L_bm + glu__L_bm + gly_bm + glycogen_bm + gmp_bm + his__L_bm + ile__L_bm + leu__L_bm + lys__L_bm + met__L_bm + phe__L_bm + pro__L_bm + ser__L_bm + thr__L_bm + trp__L_bm + tyr__L_bm + ump_bm + val__L_bm --> adp_bm + pi_bm</td>\n",
       "            </tr>\n",
       "            <tr>\n",
       "                <td><strong>Lower bound</strong></td><td>0.000000</td>\n",
       "            </tr>\n",
       "            <tr>\n",
       "                <td><strong>Upper bound</strong></td><td>1000.000000</td>\n",
       "            </tr>\n",
       "        </table>\n",
       "        "
      ],
      "text/plain": [
       "<Reaction BIOMASS_REACTION at 0x1137037d0>"
      ]
     },
     "execution_count": 6,
     "metadata": {},
     "output_type": "execute_result"
    }
   ],
   "source": [
    "rxn"
   ]
  },
  {
   "cell_type": "code",
   "execution_count": 7,
   "metadata": {
    "collapsed": false
   },
   "outputs": [
    {
     "data": {
      "text/plain": [
       "'ala__L_bm + amp_bm + arg__L_bm + asn__L_bm + asp__L_bm + atp_bm + cmp_bm + cys__L_bm + damp_bm + dcmp_bm + dgmp_bm + dtmp_bm + gln__L_bm + glu__L_bm + gly_bm + glycogen_bm + gmp_bm + his__L_bm + ile__L_bm + leu__L_bm + lys__L_bm + met__L_bm + phe__L_bm + pro__L_bm + ser__L_bm + thr__L_bm + trp__L_bm + tyr__L_bm + ump_bm + val__L_bm --> adp_bm + pi_bm'"
      ]
     },
     "execution_count": 7,
     "metadata": {},
     "output_type": "execute_result"
    }
   ],
   "source": [
    "rxn.reaction"
   ]
  },
  {
   "cell_type": "code",
   "execution_count": 8,
   "metadata": {
    "collapsed": false
   },
   "outputs": [
    {
     "name": "stdout",
     "output_type": "stream",
     "text": [
      "unknown metabolite 'ttdca_c' created\n",
      "unknown metabolite 'ptdca_c' created\n",
      "unknown metabolite 'ttdcea_c' created\n",
      "unknown metabolite 'hpdca_c' created\n",
      "unknown metabolite 'cpoa2h_c' created\n",
      "unknown metabolite 'pc_MC_c' created\n",
      "unknown metabolite 'pe_MC_c' created\n",
      "unknown metabolite 'pg_MC_c' created\n",
      "unknown metabolite 'clpn_MC_c' created\n",
      "unknown metabolite 'peptido_MC_c' created\n",
      "unknown metabolite 'colipa_e' created\n"
     ]
    }
   ],
   "source": [
    "# Removed EPS which according to Torre et al. is secreted. No secretion products were found to exists for MCA\n",
    "#                 0.042 EPS_glc__D_c + 0.0075 EPS_fuc__L_c + 0.0023 EPS_xyl__D_c + 0.0021 EPS_inost_c + 0.0588 EPS_gal_c +\\\n",
    "#                 0.0669 EPS_man_c + 0.0342 EPS_rib__D_c + 0.0432 EPS_rmn_c + 0.0415 EPS_gam_c + 0.0394 EPS_galam_c + 0.0185 EPS_cys__L_c+\\\n",
    "#                 0.0375 EPS_thr__L_c + 0.0214 EPS_ser__L_c + 0.0319 EPS_glu__L_c + 0.0830 EPS_gly_c + 0.0228 EPS_val__L_c +\\\n",
    "#                 0.0066 EPS_met__L_c + 0.0146 EPS_ile__L_c + 0.0169 EPS_leu__L_c + 0.0139 EPS_phe__L_c\\\n",
    "\n",
    "# Removed most of the phospholipid/ LPS sugars because MCA lacks the genes to synthesise most of them. Experimentally only Glucose monomer content was measured, so that was\n",
    "# included.\n",
    "#                0.002 man_c + 0.117 glycogen_c + 0.0002 rmn_c + 0.01 sucr_c + 0.036 rib__D_c + 0.008 malt_c + 0.022 arab__L_c +\\\n",
    "#                0.005 gal_c +\\\n",
    "# Instead LPS synthesis was adapted as discovered for E. Coli on the basis of Kegg\n",
    "\n",
    "# Handling the salts was post-poned until transporter and cofactor information and integration into the model is available\n",
    "#                pi_c + s_c + cl_c + ca2_c + k_c + mg2_c + na_c + 0.0059 fe2_c + 0.01 cu2_c + zn2_c + 0.001 cobalt2_c + ni2_c +\\\n",
    "#               mn2_c + se_c + cd2_c + aso3_c + pb2_c + hg0_c +\\\n",
    "\n",
    "# Secreted small metabolites reported in Torre et al. were removed because no products are known to exist for MCA\n",
    "#               0.5 3pg_c + 0.6 for_c + 0.114 ac_c + 0.044 lac__L_c\\\n",
    "\n",
    "# Removed beta-Carotene from the reaction as there was no genetic indication (not a single gene) related to\n",
    "# its biosynthesis pathway and the measured values are comparably low Vitamin A <1 IU/g = 0.3 g/kg\n",
    "# It seems that the Vitamin Data was generated by Øveland et al. 2010, who denote that\n",
    "# Vitamin A is below the detection limit.\n",
    "\n",
    "# Removed gamma-tocopherol (Vitamin E) as it is only synthesised by photosynthetic organisms (http://www.metacyc.com/META/NEW-IMAGE?type=PATHWAY&object=PWY-1422)\n",
    "# and there was no genetic evidence for any genes belonging to its biosynthesis pathway.\n",
    "# Vitamin E has also been measured in very low amounts Vitamin E <5 mg/kg\n",
    "# It seems that the Vitamin Data was generated by Øveland et al. 2010, who denote that\n",
    "# Vitamin E is below the detection limit.\n",
    "\n",
    "# Ferricytochrome was removed for now, since it is not part of Torre et al. Biomass reaction. Instead they are using pheme.\n",
    "# 0.00036 ficytcc553_p\n",
    "\n",
    "# Phosphatidate was removed, due to indications that Cardiolopin among other Phospholipids is more prevalent.\n",
    "# So far phosphatidate has not been mentioned in literature: 0.007 pa160_c\n",
    "\n",
    "# Lipopolysaccharide biosynthesis was adapted from E. coli (Based on KEGG Pathways). All reactions used without an identified gene are marked as _GAPFILLING\n",
    "\n",
    "# Adapted all remaining stoichiometries in accordance to the calculations made in \"Biomass Reaction Table.xlsx\" coming from unibio.dk or directly from de la torre et al.\n",
    "\n",
    "rxn.reaction = \"0.722 ala__L_c + 0.285 arg__L_c + 0.119 asn__L_c + 0.537 asp__L_c + 0.045 cys__L_c + 0.150 gln__L_c + 0.519 glu__L_c +\\\n",
    "                0.483 gly_c + 0.104 his__L_c + 0.242 ile__L_c + 0.415 leu__L_c + 0.278 lys__L_c + 0.130 met__L_c + 0.185 phe__L_c +\\\n",
    "                0.248 pro__L_c + 0.246 ser__L_c + 0.271 thr__L_c + 0.093 trp__L_c + 0.132 tyr__L_c + 0.360 val__L_c +\\\n",
    "                \\\n",
    "                0.001 ttdca_c + 0.0002 ptdca_c + 0.016 hdca_c + 0.0001 ocdca_c + 0.0001 elaid_c + 0.0002 ttdcea_c + 0.002 hpdca_c + 0.002 cpoa2h_c +\\\n",
    "                \\\n",
    "                0.008 pc_MC_c + 0.081 pe_MC_c + 0.014 pg_MC_c + 0.003 clpn_MC_c +\\\n",
    "                \\\n",
    "                0.013 sql_c + 0.005 lanost_c + 0.013 dpterol_c +\\\n",
    "                \\\n",
    "                0.001 ru5p_D_c + 0.001 fdp_c + 0.003 f6p_c + 0.002 g6p_c + 0.003 g3p_c + 0.00015 6pgc_c + 0.000003 2ddg6p_c + 0.006 2pg_c +\\\n",
    "                0.005 pep_c + 0.015 pyr_c + 0.0001 accoa_c + 0.002 succ_c + 0.004 mal__L_c + 0.001 fum_c + 0.001 cit_c + 0.001 glyc_R_c +\\\n",
    "                \\\n",
    "                0.00000006 adocbl_c + 0.00022 q8h2_im + 0.00022 pheme_c + 0.00022 coa_c + 0.00022 fmn_c + 0.00022 fmnh2_c + 0.00022 fad_c + \\\n",
    "                0.00022 amet_c + 0.00022 gthrd_c +\\\n",
    "                \\\n",
    "                0.00003 thmpp_c + 0.00019 ribflv_c + 0.001 nac_c + 0.0002 inost_c +\\\n",
    "                \\\n",
    "                0.249 glc_D_c +\\\n",
    "                \\\n",
    "                0.053 peptido_MC_c + 0.002 colipa_e +\\\n",
    "                \\\n",
    "                24.250 atp_c + 0.002 adp_c + 0.001 amp_c + 0.002 nad_c + 0.002 nadh_c + 0.001 nadp_c + 0.001 nadph_c + 0.029 ppi_c +\\\n",
    "                \\\n",
    "                0.069 cmp_c + 0.040 ump_c + 0.061 gmp_c + 0.037 amp_c +\\\n",
    "                \\\n",
    "                0.013 damp_c + 0.022 dcmp_c + 0.0025 dgmp_c + 0.014 dtmp_c +\\\n",
    "                \\\n",
    "                0.0059 fe2_c +\\\n",
    "                \\\n",
    "                24.250 h2o_c\\\n",
    "                --> \\\n",
    "                24.250 pi_c + 24.250 adp_c + 24.250 h_c\""
   ]
  },
  {
   "cell_type": "code",
   "execution_count": 9,
   "metadata": {
    "collapsed": false,
    "scrolled": true
   },
   "outputs": [
    {
     "data": {
      "text/html": [
       "\n",
       "        <table>\n",
       "            <tr>\n",
       "                <td><strong>Id</strong></td><td>BIOMASS_REACTION</td>\n",
       "            </tr>\n",
       "            <tr>\n",
       "                <td><strong>Name</strong></td><td>BIOMASS_REACTION</td>\n",
       "            </tr>\n",
       "            <tr>\n",
       "                <td><strong>Stoichiometry</strong></td><td>3e-06 2ddg6p_c + 0.006 2pg_c + 0.00015 6pgc_c + 0.0001 accoa_c + 6e-08 adocbl_c + 0.722 ala__L_c + 0.00022 amet_c + 0.038 amp_c + 0.285 arg__L_c + 0.119 asn__L_c + 0.537 asp__L_c + 24.25 atp_c + 0.001 cit_c + 0.003 clpn_MC_c + 0.069 cmp_c + 0.00022 coa_c + 0.002 colipa_e + 0.002 cpoa2h_c + 0.045 cys__L_c + 0.013 damp_c + 0.022 dcmp_c + 0.0025 dgmp_c + 0.013 dpterol_c + 0.014 dtmp_c + 0.0001 elaid_c + 0.003 f6p_c + 0.00022 fad_c + 0.001 fdp_c + 0.0059 fe2_c + 0.00022 fmn_c + 0.00022 fmnh2_c + 0.001 fum_c + 0.003 g3p_c + 0.002 g6p_c + 0.249 glc_D_c + 0.15 gln__L_c + 0.519 glu__L_c + 0.483 gly_c + 0.001 glyc_R_c + 0.061 gmp_c + 0.00022 gthrd_c + 24.25 h2o_c + 0.016 hdca_c + 0.104 his__L_c + 0.002 hpdca_c + 0.242 ile__L_c + 0.0002 inost_c + 0.005 lanost_c + 0.415 leu__L_c + 0.278 lys__L_c + 0.004 mal__L_c + 0.13 met__L_c + 0.001 nac_c + 0.002 nad_c + 0.002 nadh_c + 0.001 nadp_c + 0.001 nadph_c + 0.0001 ocdca_c + 0.008 pc_MC_c + 0.081 pe_MC_c + 0.005 pep_c + 0.053 peptido_MC_c + 0.014 pg_MC_c + 0.185 phe__L_c + 0.00022 pheme_c + 0.029 ppi_c + 0.248 pro__L_c + 0.0002 ptdca_c + 0.015 pyr_c + 0.00022 q8h2_im + 0.00019 ribflv_c + 0.001 ru5p_D_c + 0.246 ser__L_c + 0.013 sql_c + 0.002 succ_c + 3e-05 thmpp_c + 0.271 thr__L_c + 0.093 trp__L_c + 0.001 ttdca_c + 0.0002 ttdcea_c + 0.132 tyr__L_c + 0.04 ump_c + 0.36 val__L_c --> 24.248 adp_c + 24.25 h_c + 24.25 pi_c</td>\n",
       "            </tr>\n",
       "            <tr>\n",
       "                <td><strong>Lower bound</strong></td><td>0.000000</td>\n",
       "            </tr>\n",
       "            <tr>\n",
       "                <td><strong>Upper bound</strong></td><td>1000.000000</td>\n",
       "            </tr>\n",
       "        </table>\n",
       "        "
      ],
      "text/plain": [
       "<Reaction BIOMASS_REACTION at 0x1137037d0>"
      ]
     },
     "execution_count": 9,
     "metadata": {},
     "output_type": "execute_result"
    }
   ],
   "source": [
    "model.reactions.BIOMASS_REACTION"
   ]
  },
  {
   "cell_type": "markdown",
   "metadata": {},
   "source": [
    "## Addition of necessary reactions for the biomass reaction to function"
   ]
  },
  {
   "cell_type": "markdown",
   "metadata": {},
   "source": [
    "### CoA & AcCoA Biosynthesis"
   ]
  },
  {
   "cell_type": "code",
   "execution_count": 10,
   "metadata": {
    "collapsed": false
   },
   "outputs": [
    {
     "name": "stdout",
     "output_type": "stream",
     "text": [
      "PNTK_c: 4ppan_c + adp_c + h_c --> atp_c + pnto_R_c\n",
      "PNTK_c: atp_c + pnto_R_c <=> 4ppan_c + adp_c + h_c\n"
     ]
    }
   ],
   "source": [
    "print model.reactions.PNTK_c\n",
    "invert_reaction(model.reactions.PNTK_c)\n",
    "model.reactions.PNTK_c.upper_bound = 1000\n",
    "model.reactions.PNTK_c.lower_bound = -1000\n",
    "print model.reactions.PNTK_c"
   ]
  },
  {
   "cell_type": "code",
   "execution_count": 11,
   "metadata": {
    "collapsed": false
   },
   "outputs": [
    {
     "name": "stdout",
     "output_type": "stream",
     "text": [
      "PPNCL2_c: 4ppan_c + ctp_c + cys__L_c --> 4ppcys_c + cmp_c + h_c + ppi_c\n",
      "PPNCL2_c: 4ppan_c + ctp_c + cys__L_c <=> 4ppcys_c + cmp_c + h_c + ppi_c\n"
     ]
    }
   ],
   "source": [
    "print model.reactions.PPNCL2_c\n",
    "model.reactions.PPNCL2_c.upper_bound = 1000\n",
    "model.reactions.PPNCL2_c.lower_bound = -1000\n",
    "print model.reactions.PPNCL2_c"
   ]
  },
  {
   "cell_type": "code",
   "execution_count": 12,
   "metadata": {
    "collapsed": false,
    "scrolled": true
   },
   "outputs": [
    {
     "name": "stdout",
     "output_type": "stream",
     "text": [
      "PPCDC_c: 4ppcys_c + h_c --> co2_c + pan4p_c\n",
      "PPCDC_c: 4ppcys_c + h_c <=> co2_c + pan4p_c\n"
     ]
    }
   ],
   "source": [
    "print model.reactions.PPCDC_c\n",
    "model.reactions.PPCDC_c.upper_bound = 1000\n",
    "model.reactions.PPCDC_c.lower_bound = -1000\n",
    "print model.reactions.PPCDC_c"
   ]
  },
  {
   "cell_type": "code",
   "execution_count": 13,
   "metadata": {
    "collapsed": false
   },
   "outputs": [
    {
     "name": "stdout",
     "output_type": "stream",
     "text": [
      "DPCOAPP_c: dpcoa_c + h2o_c <=> amp_c + 2.0 h_c + pan4p_c\n",
      "DPCOAPP_c: amp_c + 2.0 h_c + pan4p_c --> dpcoa_c + h2o_c\n"
     ]
    }
   ],
   "source": [
    "print model.reactions.DPCOAPP_c\n",
    "invert_reaction(model.reactions.DPCOAPP_c)\n",
    "model.reactions.DPCOAPP_c.upper_bound = 1000\n",
    "model.reactions.DPCOAPP_c.lower_bound = 0\n",
    "print model.reactions.DPCOAPP_c"
   ]
  },
  {
   "cell_type": "code",
   "execution_count": 14,
   "metadata": {
    "collapsed": false
   },
   "outputs": [
    {
     "name": "stdout",
     "output_type": "stream",
     "text": [
      "DPCOAK_c: adp_c + coa_c + h_c --> atp_c + dpcoa_c\n",
      "DPCOAK_c: atp_c + dpcoa_c --> adp_c + coa_c + h_c\n"
     ]
    }
   ],
   "source": [
    "print model.reactions.DPCOAK_c\n",
    "invert_reaction(model.reactions.DPCOAK_c)\n",
    "model.reactions.DPCOAK_c.upper_bound = 1000\n",
    "model.reactions.DPCOAK_c.lower_bound = 0\n",
    "print model.reactions.DPCOAK_c"
   ]
  },
  {
   "cell_type": "markdown",
   "metadata": {},
   "source": [
    "### Iron Uptake"
   ]
  },
  {
   "cell_type": "code",
   "execution_count": 15,
   "metadata": {
    "collapsed": false
   },
   "outputs": [],
   "source": [
    "met = Metabolite('Fe2+')\n",
    "met.charge = 2\n",
    "met.formula = 'Fe'\n",
    "met.id = 'fe2_p'\n",
    "model.add_metabolites([met])"
   ]
  },
  {
   "cell_type": "code",
   "execution_count": 16,
   "metadata": {
    "collapsed": false
   },
   "outputs": [
    {
     "name": "stdout",
     "output_type": "stream",
     "text": [
      "{'charge': 2.0, 'Fe': 1.0}\n",
      "Fe_in\n"
     ]
    }
   ],
   "source": [
    "# Fe2+ Siderophore-mediated Uptake\n",
    "rxn = Reaction('Fe_in')\n",
    "rxn.name = 'Siderophore-mediated Iron uptake through outer membrane'\n",
    "rxn.subsystem = 'Transport'\n",
    "rxn.notes['SUBSYSTEM'] =['Transport']\n",
    "rxn.lower_bound = -1000.\n",
    "rxn.upper_bound = 1000.\n",
    "rxn.objective_coefficient = 0.\n",
    "rxn.add_metabolites({model.metabolites.fe2_p: 1.0})\n",
    "# Confidence Score:\n",
    "rxn.notes.update({'CONFIDENCE SCORE':['1']})\n",
    "# Localization\n",
    "rxn.notes.update({'LOCALIZATION':['Outer Membrane']})\n",
    "# Check if RXN is mass and charge balanced!\n",
    "print (rxn.check_mass_balance())\n",
    "# Check RXN-Directionality \n",
    "print rxn\n",
    "# Update ID to BiGG\n",
    "rxn.id = 'Fe_in'\n",
    "model.add_reaction(rxn)"
   ]
  },
  {
   "cell_type": "code",
   "execution_count": 17,
   "metadata": {
    "collapsed": false
   },
   "outputs": [
    {
     "name": "stdout",
     "output_type": "stream",
     "text": [
      "{}\n",
      "FeoBt_im\n"
     ]
    }
   ],
   "source": [
    "# Fe2+ Uptake\n",
    "rxn = Reaction('FeoBt_im')\n",
    "rxn.name = 'FeoB-mediated ferrous Iron uptake'\n",
    "rxn.subsystem = 'Transport'\n",
    "rxn.notes['SUBSYSTEM'] =['Transport']\n",
    "rxn.lower_bound = -1000.\n",
    "rxn.upper_bound = 1000.\n",
    "rxn.objective_coefficient = 0.\n",
    "rxn.add_metabolites({model.metabolites.fe2_p: -1.0,model.metabolites.fe2_c: 1.0})\n",
    "# Confidence Score:\n",
    "rxn.notes.update({'CONFIDENCE SCORE':['2']})\n",
    "# Localization\n",
    "rxn.notes.update({'LOCALIZATION':['Inner Membrane']})\n",
    "# Check if RXN is mass and charge balanced!\n",
    "print (rxn.check_mass_balance())\n",
    "# Check RXN-Directionality \n",
    "print rxn\n",
    "# Update ID to BiGG\n",
    "rxn.id = 'FeoBt_im'\n",
    "model.add_reaction(rxn)"
   ]
  },
  {
   "cell_type": "markdown",
   "metadata": {},
   "source": [
    "### Fatty Acid Biosynthesis"
   ]
  },
  {
   "cell_type": "code",
   "execution_count": 18,
   "metadata": {
    "collapsed": false
   },
   "outputs": [],
   "source": [
    "met = model.metabolites.elaid_c\n",
    "met.id = 'ocdcea_c'\n",
    "model.repair()\n"
   ]
  },
  {
   "cell_type": "code",
   "execution_count": 19,
   "metadata": {
    "collapsed": false
   },
   "outputs": [],
   "source": [
    "rxn = model.reactions.elaid_out\n",
    "rxn.id = 'ocdcea_out'\n",
    "model.repair()\n"
   ]
  },
  {
   "cell_type": "code",
   "execution_count": 20,
   "metadata": {
    "collapsed": false
   },
   "outputs": [
    {
     "name": "stdout",
     "output_type": "stream",
     "text": [
      "ACCOAC_c: adp_c + h_c + malcoa_c + pi_c --> accoa_c + atp_c + hco3_c\n",
      "ACCOAC_c: accoa_c + atp_c + hco3_c <=> adp_c + h_c + malcoa_c + pi_c\n"
     ]
    }
   ],
   "source": [
    "print model.reactions.ACCOAC_c\n",
    "invert_reaction(model.reactions.ACCOAC_c)\n",
    "model.reactions.ACCOAC_c.upper_bound = 1000\n",
    "model.reactions.ACCOAC_c.lower_bound = -1000\n",
    "print model.reactions.ACCOAC_c"
   ]
  },
  {
   "cell_type": "code",
   "execution_count": 21,
   "metadata": {
    "collapsed": false
   },
   "outputs": [
    {
     "name": "stdout",
     "output_type": "stream",
     "text": [
      "MCOATA_c: coa_c + malACP_c --> ACP_c + malcoa_c\n",
      "MCOATA_c: ACP_c + malcoa_c <=> coa_c + malACP_c\n"
     ]
    }
   ],
   "source": [
    "print model.reactions.MCOATA_c\n",
    "invert_reaction(model.reactions.MCOATA_c)\n",
    "model.reactions.MCOATA_c.upper_bound = 1000\n",
    "model.reactions.MCOATA_c.lower_bound = -1000\n",
    "print model.reactions.MCOATA_c"
   ]
  },
  {
   "cell_type": "code",
   "execution_count": 22,
   "metadata": {
    "collapsed": false
   },
   "outputs": [
    {
     "name": "stdout",
     "output_type": "stream",
     "text": [
      "ACOATA_c: acACP_c + coa_c --> ACP_c + accoa_c\n",
      "ACOATA_c: ACP_c + accoa_c <=> acACP_c + coa_c\n"
     ]
    }
   ],
   "source": [
    "print model.reactions.ACOATA_c\n",
    "invert_reaction(model.reactions.ACOATA_c)\n",
    "model.reactions.ACOATA_c.upper_bound = 1000\n",
    "model.reactions.ACOATA_c.lower_bound = -1000\n",
    "print model.reactions.ACOATA_c"
   ]
  },
  {
   "cell_type": "code",
   "execution_count": 23,
   "metadata": {
    "collapsed": false
   },
   "outputs": [
    {
     "name": "stdout",
     "output_type": "stream",
     "text": [
      "3HAD40_1_c: but2eACP_c + h2o_c <=> 3hbutACP_c\n",
      "3HAD40_1_c: 3hbutACP_c <=> but2eACP_c + h2o_c\n"
     ]
    }
   ],
   "source": [
    "print model.reactions.get_by_id('3HAD40_1_c')\n",
    "invert_reaction(model.reactions.get_by_id('3HAD40_1_c'))\n",
    "model.reactions.get_by_id('3HAD40_1_c').upper_bound = 1000\n",
    "model.reactions.get_by_id('3HAD40_1_c').lower_bound = -1000\n",
    "print model.reactions.get_by_id('3HAD40_1_c')"
   ]
  },
  {
   "cell_type": "code",
   "execution_count": 24,
   "metadata": {
    "collapsed": false
   },
   "outputs": [
    {
     "name": "stdout",
     "output_type": "stream",
     "text": [
      "EAR40y_c: but2eACP_c + h_c + nadph_c <=> butACP_c + nadp_c\n",
      "EAR40y_c: but2eACP_c + h_c + nadph_c --> butACP_c + nadp_c\n"
     ]
    }
   ],
   "source": [
    "rxn = model.reactions.get_by_id('EAR40y_c')\n",
    "print rxn\n",
    "#invert_reaction(rxn)\n",
    "rxn.upper_bound = 1000\n",
    "rxn.lower_bound = 0\n",
    "print rxn"
   ]
  },
  {
   "cell_type": "code",
   "execution_count": 25,
   "metadata": {
    "collapsed": false
   },
   "outputs": [
    {
     "name": "stdout",
     "output_type": "stream",
     "text": [
      "EAR40x_c: but2eACP_c + h_c + nadh_c <=> butACP_c + nad_c\n",
      "EAR40x_c: but2eACP_c + h_c + nadh_c --> butACP_c + nad_c\n"
     ]
    }
   ],
   "source": [
    "rxn = model.reactions.get_by_id('EAR40x_c')\n",
    "print rxn\n",
    "#invert_reaction(rxn)\n",
    "rxn.upper_bound = 1000\n",
    "rxn.lower_bound = 0\n",
    "print rxn"
   ]
  },
  {
   "cell_type": "code",
   "execution_count": 26,
   "metadata": {
    "collapsed": false
   },
   "outputs": [
    {
     "name": "stdout",
     "output_type": "stream",
     "text": [
      "3OAS60_c: 3ohexACP_c + ACP_c + co2_c --> butACP_c + malACP_c\n",
      "3OAS60_c: butACP_c + malACP_c --> 3ohexACP_c + ACP_c + co2_c\n"
     ]
    }
   ],
   "source": [
    "rxn = model.reactions.get_by_id('3OAS60_c')\n",
    "print rxn\n",
    "invert_reaction(rxn)\n",
    "rxn.upper_bound = 1000\n",
    "rxn.lower_bound = 0\n",
    "print rxn"
   ]
  },
  {
   "cell_type": "code",
   "execution_count": 27,
   "metadata": {
    "collapsed": false
   },
   "outputs": [
    {
     "name": "stdout",
     "output_type": "stream",
     "text": [
      "3HAD60_c: h2o_c + thex2eACP_c <=> 3hhexACP_c\n",
      "3HAD60_c: 3hhexACP_c <=> h2o_c + thex2eACP_c\n"
     ]
    }
   ],
   "source": [
    "rxn = model.reactions.get_by_id('3HAD60_c')\n",
    "print rxn\n",
    "invert_reaction(rxn)\n",
    "print rxn"
   ]
  },
  {
   "cell_type": "code",
   "execution_count": 28,
   "metadata": {
    "collapsed": false
   },
   "outputs": [
    {
     "name": "stdout",
     "output_type": "stream",
     "text": [
      "EAR60y_c: h_c + nadph_c + thex2eACP_c <=> hexACP_c + nadp_c\n",
      "EAR60y_c: h_c + nadph_c + thex2eACP_c --> hexACP_c + nadp_c\n"
     ]
    }
   ],
   "source": [
    "rxn = model.reactions.get_by_id('EAR60y_c')\n",
    "print rxn\n",
    "rxn.upper_bound = 1000\n",
    "rxn.lower_bound = 0\n",
    "print rxn"
   ]
  },
  {
   "cell_type": "code",
   "execution_count": 29,
   "metadata": {
    "collapsed": false
   },
   "outputs": [
    {
     "name": "stdout",
     "output_type": "stream",
     "text": [
      "EAR60x_c: h_c + nadh_c + thex2eACP_c <=> hexACP_c + nad_c\n",
      "EAR60x_c: h_c + nadh_c + thex2eACP_c --> hexACP_c + nad_c\n"
     ]
    }
   ],
   "source": [
    "rxn = model.reactions.get_by_id('EAR60x_c')\n",
    "print rxn\n",
    "rxn.upper_bound = 1000\n",
    "rxn.lower_bound = 0\n",
    "print rxn"
   ]
  },
  {
   "cell_type": "code",
   "execution_count": 30,
   "metadata": {
    "collapsed": false
   },
   "outputs": [
    {
     "name": "stdout",
     "output_type": "stream",
     "text": [
      "3OAS80_c: 3ooctACP_c + ACP_c + co2_c --> hexACP_c + malACP_c\n",
      "3OAS80_c: hexACP_c + malACP_c --> 3ooctACP_c + ACP_c + co2_c\n"
     ]
    }
   ],
   "source": [
    "rxn = model.reactions.get_by_id('3OAS80_c')\n",
    "print rxn\n",
    "invert_reaction(rxn)\n",
    "rxn.upper_bound = 1000\n",
    "rxn.lower_bound = 0\n",
    "print rxn"
   ]
  },
  {
   "cell_type": "code",
   "execution_count": 31,
   "metadata": {
    "collapsed": false
   },
   "outputs": [
    {
     "name": "stdout",
     "output_type": "stream",
     "text": [
      "3HAD80_c: h2o_c + toct2eACP_c <=> 3hoctACP_c\n",
      "3HAD80_c: 3hoctACP_c <=> h2o_c + toct2eACP_c\n"
     ]
    }
   ],
   "source": [
    "rxn = model.reactions.get_by_id('3HAD80_c')\n",
    "print rxn\n",
    "invert_reaction(rxn)\n",
    "print rxn"
   ]
  },
  {
   "cell_type": "code",
   "execution_count": 32,
   "metadata": {
    "collapsed": false
   },
   "outputs": [
    {
     "name": "stdout",
     "output_type": "stream",
     "text": [
      "EAR80y_c: h_c + nadph_c + toct2eACP_c <=> nadp_c + ocACP_c\n",
      "EAR80y_c: h_c + nadph_c + toct2eACP_c --> nadp_c + ocACP_c\n"
     ]
    }
   ],
   "source": [
    "rxn = model.reactions.get_by_id('EAR80y_c')\n",
    "print rxn\n",
    "rxn.upper_bound = 1000\n",
    "rxn.lower_bound = 0\n",
    "print rxn"
   ]
  },
  {
   "cell_type": "code",
   "execution_count": 33,
   "metadata": {
    "collapsed": false
   },
   "outputs": [
    {
     "name": "stdout",
     "output_type": "stream",
     "text": [
      "EAR80x_c: h_c + nadh_c + toct2eACP_c <=> nad_c + ocACP_c\n",
      "EAR80x_c: h_c + nadh_c + toct2eACP_c --> nad_c + ocACP_c\n"
     ]
    }
   ],
   "source": [
    "rxn = model.reactions.get_by_id('EAR80x_c')\n",
    "print rxn\n",
    "rxn.upper_bound = 1000\n",
    "rxn.lower_bound = 0\n",
    "print rxn"
   ]
  },
  {
   "cell_type": "code",
   "execution_count": 34,
   "metadata": {
    "collapsed": false
   },
   "outputs": [
    {
     "name": "stdout",
     "output_type": "stream",
     "text": [
      "3OAS120_c: 3oddecACP_c + ACP_c + co2_c --> dcaACP_c + malACP_c\n",
      "3OAS120_c: dcaACP_c + malACP_c --> 3oddecACP_c + ACP_c + co2_c\n"
     ]
    }
   ],
   "source": [
    "rxn = model.reactions.get_by_id('3OAS120_c')\n",
    "print rxn\n",
    "invert_reaction(rxn)\n",
    "rxn.upper_bound = 1000\n",
    "rxn.lower_bound = 0\n",
    "print rxn"
   ]
  },
  {
   "cell_type": "code",
   "execution_count": 35,
   "metadata": {
    "collapsed": false
   },
   "outputs": [
    {
     "name": "stdout",
     "output_type": "stream",
     "text": [
      "3HAD120_c: h2o_c + tddec2eACP_c <=> 3hddecACP_c\n",
      "3HAD120_c: 3hddecACP_c <=> h2o_c + tddec2eACP_c\n"
     ]
    }
   ],
   "source": [
    "rxn = model.reactions.get_by_id('3HAD120_c')\n",
    "print rxn\n",
    "invert_reaction(rxn)\n",
    "print rxn"
   ]
  },
  {
   "cell_type": "code",
   "execution_count": 36,
   "metadata": {
    "collapsed": false
   },
   "outputs": [
    {
     "name": "stdout",
     "output_type": "stream",
     "text": [
      "EAR120y_c: h_c + nadph_c + tddec2eACP_c --> ddcaACP_c + nadp_c\n",
      "EAR120y_c: h_c + nadph_c + tddec2eACP_c --> ddcaACP_c + nadp_c\n"
     ]
    }
   ],
   "source": [
    "rxn = model.reactions.get_by_id('EAR120y_c')\n",
    "print rxn\n",
    "rxn.upper_bound = 1000\n",
    "rxn.lower_bound = 0\n",
    "print rxn"
   ]
  },
  {
   "cell_type": "code",
   "execution_count": 37,
   "metadata": {
    "collapsed": false
   },
   "outputs": [
    {
     "name": "stdout",
     "output_type": "stream",
     "text": [
      "EAR120x_c: h_c + nadh_c + tddec2eACP_c --> ddcaACP_c + nad_c\n",
      "EAR120x_c: h_c + nadh_c + tddec2eACP_c --> ddcaACP_c + nad_c\n"
     ]
    }
   ],
   "source": [
    "rxn = model.reactions.get_by_id('EAR120x_c')\n",
    "print rxn\n",
    "rxn.upper_bound = 1000\n",
    "rxn.lower_bound = 0\n",
    "print rxn"
   ]
  },
  {
   "cell_type": "code",
   "execution_count": 38,
   "metadata": {
    "collapsed": false
   },
   "outputs": [
    {
     "name": "stdout",
     "output_type": "stream",
     "text": [
      "3OAS140_c: 3omrsACP_c + ACP_c + co2_c --> ddcaACP_c + malACP_c\n",
      "3OAS140_c: ddcaACP_c + malACP_c --> 3omrsACP_c + ACP_c + co2_c\n"
     ]
    }
   ],
   "source": [
    "rxn = model.reactions.get_by_id('3OAS140_c')\n",
    "print rxn\n",
    "invert_reaction(rxn)\n",
    "rxn.upper_bound = 1000\n",
    "rxn.lower_bound = 0\n",
    "print rxn"
   ]
  },
  {
   "cell_type": "code",
   "execution_count": 39,
   "metadata": {
    "collapsed": false
   },
   "outputs": [
    {
     "name": "stdout",
     "output_type": "stream",
     "text": [
      "3HAD140_c: h2o_c + tmrs2eACP_c <=> 3hmrsACP_c\n",
      "3HAD140_c: 3hmrsACP_c <=> h2o_c + tmrs2eACP_c\n"
     ]
    }
   ],
   "source": [
    "rxn = model.reactions.get_by_id('3HAD140_c')\n",
    "print rxn\n",
    "invert_reaction(rxn)\n",
    "print rxn"
   ]
  },
  {
   "cell_type": "code",
   "execution_count": 40,
   "metadata": {
    "collapsed": false
   },
   "outputs": [
    {
     "name": "stdout",
     "output_type": "stream",
     "text": [
      "EAR140y_c: h_c + nadph_c + tmrs2eACP_c <=> myrsACP_c + nadp_c\n",
      "EAR140y_c: h_c + nadph_c + tmrs2eACP_c --> myrsACP_c + nadp_c\n"
     ]
    }
   ],
   "source": [
    "rxn = model.reactions.get_by_id('EAR140y_c')\n",
    "print rxn\n",
    "rxn.upper_bound = 1000\n",
    "rxn.lower_bound = 0\n",
    "print rxn"
   ]
  },
  {
   "cell_type": "code",
   "execution_count": 41,
   "metadata": {
    "collapsed": false
   },
   "outputs": [
    {
     "name": "stdout",
     "output_type": "stream",
     "text": [
      "EAR140x_c: h_c + nadh_c + tmrs2eACP_c <=> myrsACP_c + nad_c\n",
      "EAR140x_c: h_c + nadh_c + tmrs2eACP_c --> myrsACP_c + nad_c\n"
     ]
    }
   ],
   "source": [
    "rxn = model.reactions.get_by_id('EAR140x_c')\n",
    "print rxn\n",
    "rxn.upper_bound = 1000\n",
    "rxn.lower_bound = 0\n",
    "print rxn"
   ]
  },
  {
   "cell_type": "code",
   "execution_count": 42,
   "metadata": {
    "collapsed": false
   },
   "outputs": [
    {
     "name": "stdout",
     "output_type": "stream",
     "text": [
      "3OAS160_c: 3opalmACP_c + ACP_c + co2_c --> malACP_c + myrsACP_c\n",
      "3OAS160_c: malACP_c + myrsACP_c --> 3opalmACP_c + ACP_c + co2_c\n"
     ]
    }
   ],
   "source": [
    "rxn = model.reactions.get_by_id('3OAS160_c')\n",
    "print rxn\n",
    "invert_reaction(rxn)\n",
    "rxn.upper_bound = 1000\n",
    "rxn.lower_bound = 0\n",
    "print rxn"
   ]
  },
  {
   "cell_type": "code",
   "execution_count": 43,
   "metadata": {
    "collapsed": false
   },
   "outputs": [
    {
     "name": "stdout",
     "output_type": "stream",
     "text": [
      "3HAD160_c: h2o_c + tpalm2eACP_c <=> 3hpalmACP_c\n",
      "3HAD160_c: 3hpalmACP_c <=> h2o_c + tpalm2eACP_c\n"
     ]
    }
   ],
   "source": [
    "rxn = model.reactions.get_by_id('3HAD160_c')\n",
    "print rxn\n",
    "invert_reaction(rxn)\n",
    "print rxn"
   ]
  },
  {
   "cell_type": "code",
   "execution_count": 44,
   "metadata": {
    "collapsed": false
   },
   "outputs": [
    {
     "name": "stdout",
     "output_type": "stream",
     "text": [
      "MNXR74373_c: h_c + nadph_c + tpalm2eACP_c <=> MNXM25932_c + nadp_c\n",
      "MNXR74373_c: h_c + nadph_c + tpalm2eACP_c --> MNXM25932_c + nadp_c\n"
     ]
    }
   ],
   "source": [
    "rxn = model.reactions.get_by_id('MNXR74373_c')\n",
    "rxn.name = 'Enoyl-[acyl-carrier-protein] reductase (NADPH) (n-C16:0)'\n",
    "print rxn\n",
    "rxn.upper_bound = 1000\n",
    "rxn.lower_bound = 0\n",
    "print rxn\n",
    "rxn.id = 'EAR160y_c'\n",
    "model.repair()"
   ]
  },
  {
   "cell_type": "code",
   "execution_count": 45,
   "metadata": {
    "collapsed": false
   },
   "outputs": [
    {
     "name": "stdout",
     "output_type": "stream",
     "text": [
      "MNXR74372_c: h_c + nadh_c + tpalm2eACP_c <=> MNXM25932_c + nad_c\n",
      "MNXR74372_c: h_c + nadh_c + tpalm2eACP_c --> MNXM25932_c + nad_c\n"
     ]
    }
   ],
   "source": [
    "rxn = model.reactions.get_by_id('MNXR74372_c')\n",
    "rxn.name = 'Enoyl-[acyl-carrier-protein] reductase (NADH) (n-C16:0)'\n",
    "print rxn\n",
    "rxn.upper_bound = 1000\n",
    "rxn.lower_bound = 0\n",
    "print rxn\n",
    "rxn.id = 'EAR160x_c'\n",
    "model.repair()"
   ]
  },
  {
   "cell_type": "code",
   "execution_count": 46,
   "metadata": {
    "collapsed": false
   },
   "outputs": [],
   "source": [
    "met = model.metabolites.MNXM25932_c\n",
    "met.name = 'Palmitoyl-ACP (n-C16:0ACP)'\n",
    "met.charge = -1\n",
    "met.id = 'palmACP_c'\n",
    "model.repair()"
   ]
  },
  {
   "cell_type": "code",
   "execution_count": null,
   "metadata": {
    "collapsed": false
   },
   "outputs": [],
   "source": []
  },
  {
   "cell_type": "code",
   "execution_count": 47,
   "metadata": {
    "collapsed": false
   },
   "outputs": [
    {
     "name": "stdout",
     "output_type": "stream",
     "text": [
      "MNXR85652_c: 3ooctdACP_c + ACP_c + co2_c --> malACP_c + palmACP_c\n",
      "MNXR85652_c: malACP_c + palmACP_c --> 3ooctdACP_c + ACP_c + co2_c\n"
     ]
    }
   ],
   "source": [
    "rxn = model.reactions.get_by_id('MNXR85652_c')\n",
    "rxn.name = '3-oxoacyl-[acyl-carrier-protein] synthase (n-C18:0)'\n",
    "print rxn\n",
    "invert_reaction(rxn)\n",
    "rxn.upper_bound = 1000\n",
    "rxn.lower_bound = 0\n",
    "print rxn\n",
    "rxn.id = '3OAS180_c'\n",
    "model.repair()"
   ]
  },
  {
   "cell_type": "code",
   "execution_count": null,
   "metadata": {
    "collapsed": true
   },
   "outputs": [],
   "source": []
  },
  {
   "cell_type": "code",
   "execution_count": 48,
   "metadata": {
    "collapsed": false
   },
   "outputs": [
    {
     "name": "stdout",
     "output_type": "stream",
     "text": [
      "MNXM25932_out: palmACP_c --> \n"
     ]
    }
   ],
   "source": [
    "rxn = model.reactions.get_by_id('MNXM25932_out')\n",
    "print rxn\n",
    "rxn.id = 'palmACP_out'\n",
    "model.repair()\n"
   ]
  },
  {
   "cell_type": "code",
   "execution_count": 49,
   "metadata": {
    "collapsed": false
   },
   "outputs": [
    {
     "name": "stdout",
     "output_type": "stream",
     "text": [
      "MNXR68187_c: 3ooctdACP_c + h_c + nadph_c --> 3hoctaACP_c + nadp_c\n",
      "MNXR68187_c: 3ooctdACP_c + h_c + nadph_c --> 3hoctaACP_c + nadp_c\n"
     ]
    }
   ],
   "source": [
    "rxn = model.reactions.get_by_id('MNXR68187_c')\n",
    "rxn.name = '3-oxoacyl-[acyl-carrier-protein] reductase (n-C18:0)'\n",
    "print rxn\n",
    "rxn.upper_bound = 1000\n",
    "rxn.lower_bound = 0\n",
    "print rxn\n",
    "rxn.id = '3OAR180_c'\n",
    "model.repair()\n"
   ]
  },
  {
   "cell_type": "code",
   "execution_count": 50,
   "metadata": {
    "collapsed": false
   },
   "outputs": [
    {
     "name": "stdout",
     "output_type": "stream",
     "text": [
      "MNXR148_c: MNXM2573_c + h2o_c <=> 3hoctaACP_c\n",
      "MNXR148_c: 3hoctaACP_c --> MNXM2573_c + h2o_c\n"
     ]
    }
   ],
   "source": [
    "rxn = model.reactions.get_by_id('MNXR148_c')\n",
    "rxn.name = '3-hydroxyacyl-[acyl-carrier-protein] dehydratase (n-C18:0)'\n",
    "print rxn\n",
    "invert_reaction(rxn)\n",
    "rxn.upper_bound = 1000\n",
    "rxn.lower_bound = 0\n",
    "print rxn\n",
    "rxn.id = '3HAD180_c'\n",
    "model.repair()\n"
   ]
  },
  {
   "cell_type": "code",
   "execution_count": 51,
   "metadata": {
    "collapsed": true
   },
   "outputs": [],
   "source": [
    "met = model.metabolites.MNXM2573_c\n",
    "met.name = 'Trans-octadec-2-enoyl-[acyl-carrier protein]'\n",
    "met.charge = -1\n",
    "met.id = 'toctd2eACP_c'\n",
    "model.repair()\n"
   ]
  },
  {
   "cell_type": "code",
   "execution_count": 52,
   "metadata": {
    "collapsed": false
   },
   "outputs": [
    {
     "name": "stdout",
     "output_type": "stream",
     "text": [
      "MNXM2573_out: toctd2eACP_c --> \n"
     ]
    }
   ],
   "source": [
    "rxn = model.reactions.get_by_id('MNXM2573_out')\n",
    "print rxn\n",
    "rxn.id = 'toctd2eACP_out'\n",
    "model.repair()\n"
   ]
  },
  {
   "cell_type": "code",
   "execution_count": 53,
   "metadata": {
    "collapsed": false
   },
   "outputs": [
    {
     "name": "stdout",
     "output_type": "stream",
     "text": [
      "MNXR85653_c: h_c + nadh_c + toctd2eACP_c <=> MNXM6439_c + nad_c\n",
      "MNXR85653_c: h_c + nadh_c + toctd2eACP_c --> MNXM6439_c + nad_c\n"
     ]
    }
   ],
   "source": [
    "rxn = model.reactions.get_by_id('MNXR85653_c')\n",
    "rxn.name = 'Enoyl-[acyl-carrier-protein] reductase (NADH) (n-C18:0)'\n",
    "print rxn\n",
    "rxn.upper_bound = 1000\n",
    "rxn.lower_bound = 0\n",
    "print rxn\n",
    "rxn.id = 'EAR180x_c'\n",
    "model.repair()\n"
   ]
  },
  {
   "cell_type": "code",
   "execution_count": 54,
   "metadata": {
    "collapsed": true
   },
   "outputs": [],
   "source": [
    "met = model.metabolites.MNXM6439_c\n",
    "met.name = 'Octadecanoyl-ACP (n-C18:0ACP)'\n",
    "met.charge = -1\n",
    "met.id = 'ocdcaACP_c'\n",
    "model.repair()\n"
   ]
  },
  {
   "cell_type": "code",
   "execution_count": 55,
   "metadata": {
    "collapsed": false
   },
   "outputs": [
    {
     "name": "stdout",
     "output_type": "stream",
     "text": [
      "MNXM6439_out: ocdcaACP_c --> \n"
     ]
    }
   ],
   "source": [
    "rxn = model.reactions.get_by_id('MNXM6439_out')\n",
    "print rxn\n",
    "rxn.id = 'ocdcaACP_out'\n",
    "model.repair()\n"
   ]
  },
  {
   "cell_type": "code",
   "execution_count": 56,
   "metadata": {
    "collapsed": true
   },
   "outputs": [],
   "source": [
    "rxn = Reaction('FACOAL180_c')\n",
    "rxn.name = 'Fatty acid CoA ligase octadecanoate'\n",
    "rxn.add_metabolites({model.metabolites.get_by_id(\"coa_c\"): -1,\n",
    "                     model.metabolites.get_by_id(\"atp_c\"): -1,\n",
    "                     model.metabolites.get_by_id(\"ocdca_c\"): -1,\n",
    "                     model.metabolites.get_by_id(\"ppi_c\"):1,\n",
    "                     model.metabolites.get_by_id(\"amp_c\"):1,\n",
    "                     model.metabolites.get_by_id(\"stcoa_c\"):1})\n",
    "rxn.id = 'FACOAL180_c'\n",
    "model.add_reaction(rxn)"
   ]
  },
  {
   "cell_type": "code",
   "execution_count": 57,
   "metadata": {
    "collapsed": false
   },
   "outputs": [
    {
     "name": "stdout",
     "output_type": "stream",
     "text": [
      "COA1819ZD9DS_c: 2.0 focytb5_c + 2.0 h_c + o2_c + stcoa_c <=> 2.0 ficytb5_c + 2.0 h2o_c + odecoa_c\n",
      "COA1819ZD9DS_c: 2.0 focytb5_c + 2.0 h_c + o2_c + stcoa_c --> 2.0 ficytb5_c + 2.0 h2o_c + odecoa_c\n"
     ]
    }
   ],
   "source": [
    "rxn = model.reactions.get_by_id('COA1819ZD9DS_c')\n",
    "rxn.name = 'Stearoyl-CoA desaturase (delta-9 desaturase)'\n",
    "print rxn\n",
    "rxn.upper_bound = 1000\n",
    "rxn.lower_bound = 0\n",
    "print rxn\n",
    "rxn.id = 'DES_9_c'\n",
    "model.repair()\n"
   ]
  },
  {
   "cell_type": "code",
   "execution_count": 58,
   "metadata": {
    "collapsed": true
   },
   "outputs": [],
   "source": [
    "rxn.add_metabolites({model.metabolites.get_by_id(\"fdxox_c\"): 2,\n",
    "                     model.metabolites.get_by_id(\"ficytb5_c\"): -2,\n",
    "                     model.metabolites.get_by_id(\"focytb5_c\"): 2,\n",
    "                     model.metabolites.get_by_id(\"fdxrd_c\"):-2})\n",
    "model.repair()\n"
   ]
  },
  {
   "cell_type": "code",
   "execution_count": 59,
   "metadata": {
    "collapsed": false
   },
   "outputs": [
    {
     "name": "stdout",
     "output_type": "stream",
     "text": [
      "DES_9_c: 2 fdxrd_c + 2.0 h_c + o2_c + stcoa_c --> 2 fdxox_c + 2.0 h2o_c + odecoa_c\n"
     ]
    }
   ],
   "source": [
    "print rxn"
   ]
  },
  {
   "cell_type": "code",
   "execution_count": 60,
   "metadata": {
    "collapsed": false
   },
   "outputs": [],
   "source": [
    "met = model.metabolites.get_by_id('ocdcea_c')\n",
    "met.name = 'Octadecenoate (n-C18:1)'\n",
    "met.charge = -1\n",
    "met.formula = 'C18H33O2'"
   ]
  },
  {
   "cell_type": "code",
   "execution_count": 61,
   "metadata": {
    "collapsed": false
   },
   "outputs": [],
   "source": [
    "met = Metabolite('tdecoa_c')\n",
    "met.name = 'Tetradecenoyl-CoA (n-C14:1CoA)'\n",
    "met.formula = 'C35H56N7O17P3S'\n",
    "met.charge = 0\n",
    "met.id = 'tdecoa_c'\n",
    "model.add_metabolites([met])"
   ]
  },
  {
   "cell_type": "code",
   "execution_count": 62,
   "metadata": {
    "collapsed": true
   },
   "outputs": [],
   "source": [
    "met = Metabolite('tdcoa_c')\n",
    "met.name = 'Tetradecanoyl-CoA (n-C14:0CoA)'\n",
    "met.formula = 'C35H58N7O17P3S'\n",
    "met.charge = -4\n",
    "met.id = 'tdcoa_c'\n",
    "model.add_metabolites([met])"
   ]
  },
  {
   "cell_type": "code",
   "execution_count": 63,
   "metadata": {
    "collapsed": true
   },
   "outputs": [],
   "source": [
    "met = Metabolite('ttdcea_c')\n",
    "met.name = 'Tetradecenoate (n-C14:1)'\n",
    "met.formula = 'C14H25O2'\n",
    "met.charge = 0\n",
    "met.id = 'ttdcea_c'\n",
    "model.add_metabolites([met])"
   ]
  },
  {
   "cell_type": "code",
   "execution_count": 64,
   "metadata": {
    "collapsed": true
   },
   "outputs": [],
   "source": [
    "rxn = Reaction('FACOAL140_c')\n",
    "rxn.name = 'Fatty acid CoA ligase tetradecanoate'\n",
    "rxn.add_metabolites({model.metabolites.get_by_id(\"coa_c\"): -1,\n",
    "                     model.metabolites.get_by_id(\"atp_c\"): -1,\n",
    "                     model.metabolites.get_by_id(\"ttdca_c\"): -1,\n",
    "                     model.metabolites.get_by_id(\"ppi_c\"):1,\n",
    "                     model.metabolites.get_by_id(\"amp_c\"):1,\n",
    "                     model.metabolites.get_by_id(\"tdcoa_c\"):1})\n",
    "rxn.id = 'FACOAL140_c'\n",
    "model.add_reaction(rxn)"
   ]
  },
  {
   "cell_type": "code",
   "execution_count": 65,
   "metadata": {
    "collapsed": false
   },
   "outputs": [],
   "source": [
    "rxn = Reaction('DES_9_2_c')\n",
    "rxn.name = 'Myristoyl-CoA desaturase (delta-9 desaturase)'\n",
    "rxn.add_metabolites({model.metabolites.get_by_id(\"fdxox_c\"): 2,\n",
    "                     model.metabolites.get_by_id(\"tdcoa_c\"): -1,\n",
    "                     model.metabolites.get_by_id(\"tdecoa_c\"): 1,\n",
    "                     model.metabolites.get_by_id(\"o2_c\"):-1,\n",
    "                     model.metabolites.get_by_id(\"h_c\"):-2,\n",
    "                     model.metabolites.get_by_id(\"h2o_c\"):2,\n",
    "                     model.metabolites.get_by_id(\"fdxrd_c\"):-2})\n",
    "rxn.upper_bound = 1000\n",
    "rxn.lower_bound = 0\n",
    "rxn.id = 'DES_9_2_c'\n",
    "model.add_reaction(rxn)"
   ]
  },
  {
   "cell_type": "code",
   "execution_count": 66,
   "metadata": {
    "collapsed": false
   },
   "outputs": [
    {
     "data": {
      "text/plain": [
       "'2 fdxrd_c + 2 h_c + o2_c + tdcoa_c --> 2 fdxox_c + 2 h2o_c + tdecoa_c'"
      ]
     },
     "execution_count": 66,
     "metadata": {},
     "output_type": "execute_result"
    }
   ],
   "source": [
    "rxn.reaction"
   ]
  },
  {
   "cell_type": "code",
   "execution_count": 67,
   "metadata": {
    "collapsed": true
   },
   "outputs": [],
   "source": [
    "rxn = Reaction('FACOAE141')\n",
    "rxn.name = 'Fatty-acid-CoA thioesterase (tetradecenoate)'\n",
    "rxn.add_metabolites({model.metabolites.get_by_id(\"tdecoa_c\"): -1,\n",
    "                     model.metabolites.get_by_id(\"h2o_c\"): -1,\n",
    "                     model.metabolites.get_by_id(\"h_c\"):1,\n",
    "                     model.metabolites.get_by_id(\"coa_c\"):1,\n",
    "                     model.metabolites.get_by_id(\"ttdcea_c\"):1})\n",
    "rxn.id = 'FACOAE141_c'\n",
    "model.add_reaction(rxn)"
   ]
  },
  {
   "cell_type": "code",
   "execution_count": 68,
   "metadata": {
    "collapsed": true
   },
   "outputs": [],
   "source": [
    "rxn = Reaction('FA180ACPHi_c')\n",
    "rxn.name = 'Fatty-acyl-ACP hydrolase'\n",
    "rxn.add_metabolites({model.metabolites.get_by_id(\"ocdcaACP_c\"): -1,\n",
    "                     model.metabolites.get_by_id(\"h2o_c\"): -1,\n",
    "                     model.metabolites.get_by_id(\"h_c\"):1,\n",
    "                     model.metabolites.get_by_id(\"ocdca_c\"):1,\n",
    "                     model.metabolites.get_by_id(\"ACP_c\"):1})\n",
    "rxn.id = 'FA180ACPHi_c'\n",
    "model.add_reaction(rxn)"
   ]
  },
  {
   "cell_type": "code",
   "execution_count": 69,
   "metadata": {
    "collapsed": true
   },
   "outputs": [],
   "source": [
    "rxn = Reaction('FA160ACPHi_c')\n",
    "rxn.name = 'Fatty-acyl-ACP hydrolase'\n",
    "rxn.add_metabolites({model.metabolites.get_by_id(\"palmACP_c\"): -1,\n",
    "                     model.metabolites.get_by_id(\"h2o_c\"): -1,\n",
    "                     model.metabolites.get_by_id(\"h_c\"):1,\n",
    "                     model.metabolites.get_by_id(\"hdca_c\"):1,\n",
    "                     model.metabolites.get_by_id(\"ACP_c\"):1})\n",
    "rxn.id = 'FA160ACPHi_c'\n",
    "model.add_reaction(rxn)"
   ]
  },
  {
   "cell_type": "code",
   "execution_count": 70,
   "metadata": {
    "collapsed": true
   },
   "outputs": [],
   "source": [
    "rxn = Reaction('FA140ACPHi_c')\n",
    "rxn.name = 'Fatty-acyl-ACP hydrolase'\n",
    "rxn.add_metabolites({model.metabolites.get_by_id(\"myrsACP_c\"): -1,\n",
    "                     model.metabolites.get_by_id(\"h2o_c\"): -1,\n",
    "                     model.metabolites.get_by_id(\"h_c\"):1,\n",
    "                     model.metabolites.get_by_id(\"ttdca_c\"):1,\n",
    "                     model.metabolites.get_by_id(\"ACP_c\"):1})\n",
    "rxn.id = 'FA140ACPHi_c'\n",
    "model.add_reaction(rxn)"
   ]
  },
  {
   "cell_type": "code",
   "execution_count": 71,
   "metadata": {
    "collapsed": false
   },
   "outputs": [
    {
     "name": "stdout",
     "output_type": "stream",
     "text": [
      "KAS14_c: acACP_c + malACP_c <=> ACP_c + actACP_c + co2_c\n"
     ]
    }
   ],
   "source": [
    "rxn = model.reactions.get_by_id('KAS14_c')\n",
    "rxn.upper_bound = 1000\n",
    "rxn.lower_bound = -1000\n",
    "print rxn"
   ]
  },
  {
   "cell_type": "code",
   "execution_count": 72,
   "metadata": {
    "collapsed": false,
    "scrolled": true
   },
   "outputs": [
    {
     "name": "stdout",
     "output_type": "stream",
     "text": [
      "ACP_c + malcoa_c <=> coa_c + malACP_c\n"
     ]
    }
   ],
   "source": [
    "rxn = model.reactions.get_by_id('MCOATA_c')\n",
    "print rxn.reaction"
   ]
  },
  {
   "cell_type": "code",
   "execution_count": 73,
   "metadata": {
    "collapsed": true
   },
   "outputs": [],
   "source": [
    "rxn = Reaction('ttdca_out')\n",
    "rxn.name = 'Tetradecanoate (n-C14:0) (out)'\n",
    "rxn.add_metabolites({model.metabolites.get_by_id(\"ttdca_c\"): -1})\n",
    "rxn.id = 'ttdca_out'\n",
    "model.add_reaction(rxn)"
   ]
  },
  {
   "cell_type": "code",
   "execution_count": 74,
   "metadata": {
    "collapsed": false
   },
   "outputs": [
    {
     "name": "stdout",
     "output_type": "stream",
     "text": [
      "3OAS100_c: malACP_c + ocACP_c --> 3odecACP_c + ACP_c + co2_c\n"
     ]
    }
   ],
   "source": [
    "rxn = model.reactions.get_by_id('3OAS100_c')\n",
    "invert_reaction(rxn)\n",
    "rxn.upper_bound = 1000\n",
    "rxn.lower_bound = 0\n",
    "print rxn"
   ]
  },
  {
   "cell_type": "markdown",
   "metadata": {},
   "source": [
    "### Odd Fatty Acids"
   ]
  },
  {
   "cell_type": "code",
   "execution_count": 75,
   "metadata": {
    "collapsed": true
   },
   "outputs": [],
   "source": [
    "# Find Propanoate!"
   ]
  },
  {
   "cell_type": "code",
   "execution_count": 76,
   "metadata": {
    "collapsed": true
   },
   "outputs": [],
   "source": [
    "met = Metabolite('ppACP_c')\n",
    "met.charge = 0\n",
    "met.formula = 'C3H5OSR'\n",
    "met.name = 'Propanoyl-[acyl-carrier protein]'\n",
    "model.add_metabolites([met])"
   ]
  },
  {
   "cell_type": "code",
   "execution_count": 77,
   "metadata": {
    "collapsed": true
   },
   "outputs": [],
   "source": [
    "met = Metabolite('ptdcalACP_c')\n",
    "met.charge = 0\n",
    "met.formula = 'C15H30OSR'\n",
    "met.name = 'Pentadecanoyl-[acyl-carrier protein]'\n",
    "model.add_metabolites([met])"
   ]
  },
  {
   "cell_type": "code",
   "execution_count": 78,
   "metadata": {
    "collapsed": true
   },
   "outputs": [],
   "source": [
    "met = Metabolite('hpdcalACP_c')\n",
    "met.charge = 0\n",
    "met.formula = 'C17H34OSR'\n",
    "met.name = 'Heptadecanoyl-[acyl-carrier protein]'\n",
    "model.add_metabolites([met])"
   ]
  },
  {
   "cell_type": "code",
   "execution_count": 79,
   "metadata": {
    "collapsed": false
   },
   "outputs": [],
   "source": [
    "# Acetyl-Transacylase is not very specific, hence able to transfer other acyl groups too\n",
    "# like the propionyl-coa to propionyl-ACP\n",
    "# The following reactions are carried out regardless of chain length. (until a certain limit)\n",
    "# Source Stryer Biochemistry 6th Issue\n",
    "rxn = Reaction('3OAR150_GAPFILLING_c')\n",
    "rxn.name = '3-oxoacyl-[acyl-carrier-protein] synthase (n-C15:0) - Lumped KAS III'\n",
    "rxn.add_metabolites({model.metabolites.get_by_id(\"ppACP_c\"): -1,\n",
    "                     model.metabolites.get_by_id(\"malACP_c\"): -1,\n",
    "                     model.metabolites.get_by_id(\"nadph_c\"): -12,\n",
    "                     model.metabolites.get_by_id(\"h_c\"): -12,\n",
    "                     model.metabolites.get_by_id(\"co2_c\"): 6,\n",
    "                     model.metabolites.get_by_id(\"ACP_c\"): 6,\n",
    "                     model.metabolites.get_by_id(\"h2o_c\"): 6,\n",
    "                     model.metabolites.get_by_id(\"nadp_c\"): 12,\n",
    "                     model.metabolites.get_by_id(\"ptdcalACP_c\"): 1})\n",
    "rxn.gene_reaction_rule = 'MCA2001 or MCA2003 or MCA1999 or MCA2879 or MCA0924 or MCA0927 or MCA2445 or MCA2878 or MCA1263'\n",
    "rxn.id = '3OAR150_GAPFILLING_c'\n",
    "model.add_reaction(rxn)"
   ]
  },
  {
   "cell_type": "code",
   "execution_count": 80,
   "metadata": {
    "collapsed": true
   },
   "outputs": [],
   "source": [
    "rxn = Reaction('3OAR170_c')\n",
    "rxn.name = '3-oxoacyl-[acyl-carrier-protein] synthase (n-C17:0) - Lumped KAS III'\n",
    "rxn.add_metabolites({model.metabolites.get_by_id(\"ptdcalACP_c\"): -1,\n",
    "                     model.metabolites.get_by_id(\"malACP_c\"): -1,\n",
    "                     model.metabolites.get_by_id(\"nadph_c\"): -2,\n",
    "                     model.metabolites.get_by_id(\"h_c\"): -2,\n",
    "                     model.metabolites.get_by_id(\"co2_c\"): 1,\n",
    "                     model.metabolites.get_by_id(\"ACP_c\"): 1,\n",
    "                     model.metabolites.get_by_id(\"h2o_c\"): 1,\n",
    "                     model.metabolites.get_by_id(\"nadp_c\"): 2,\n",
    "                     model.metabolites.get_by_id(\"hpdcalACP_c\"): 1})\n",
    "rxn.gene_reaction_rule = 'MCA2001 or MCA2003 or MCA1999 or MCA2879 or MCA0924 or MCA0927 or MCA2445 or MCA2878 or MCA1263'\n",
    "rxn.id = '3OAR170_GAPFILLING_c'\n",
    "model.add_reaction(rxn)"
   ]
  },
  {
   "cell_type": "code",
   "execution_count": 81,
   "metadata": {
    "collapsed": true
   },
   "outputs": [],
   "source": [
    "rxn = Reaction('FA150ACPHi_c')\n",
    "rxn.name = 'Fatty-acyl-ACP hydrolase'\n",
    "rxn.add_metabolites({model.metabolites.get_by_id(\"ptdcalACP_c\"): -1,\n",
    "                     model.metabolites.get_by_id(\"h2o_c\"): -1,\n",
    "                     model.metabolites.get_by_id(\"h_c\"):1,\n",
    "                     model.metabolites.get_by_id(\"ptdca_c\"):1,\n",
    "                     model.metabolites.get_by_id(\"ACP_c\"):1})\n",
    "rxn.id = 'FA150ACPHi_c'\n",
    "model.add_reaction(rxn)"
   ]
  },
  {
   "cell_type": "code",
   "execution_count": 82,
   "metadata": {
    "collapsed": true
   },
   "outputs": [],
   "source": [
    "rxn = Reaction('FA170ACPHi_c')\n",
    "rxn.name = 'Fatty-acyl-ACP hydrolase'\n",
    "rxn.add_metabolites({model.metabolites.get_by_id(\"hpdcalACP_c\"): -1,\n",
    "                     model.metabolites.get_by_id(\"h2o_c\"): -1,\n",
    "                     model.metabolites.get_by_id(\"h_c\"):1,\n",
    "                     model.metabolites.get_by_id(\"hpdca_c\"):1,\n",
    "                     model.metabolites.get_by_id(\"ACP_c\"):1})\n",
    "rxn.id = 'FA170ACPHi_c'\n",
    "model.add_reaction(rxn)"
   ]
  },
  {
   "cell_type": "code",
   "execution_count": 83,
   "metadata": {
    "collapsed": true
   },
   "outputs": [],
   "source": [
    "rxn = Reaction('ptdca_out')\n",
    "rxn.name = 'Pentadecanoate (n-C15:0) (out)'\n",
    "rxn.add_metabolites({model.metabolites.get_by_id(\"ptdca_c\"): -1})\n",
    "rxn.id = 'ptdca_out'\n",
    "model.add_reaction(rxn)"
   ]
  },
  {
   "cell_type": "code",
   "execution_count": 84,
   "metadata": {
    "collapsed": true
   },
   "outputs": [],
   "source": [
    "rxn = Reaction('hpdca_out')\n",
    "rxn.name = 'Heptadecanoate (n-C17:0) (out)'\n",
    "rxn.add_metabolites({model.metabolites.get_by_id(\"hpdca_c\"): -1})\n",
    "rxn.id = 'hpdca_out'\n",
    "model.add_reaction(rxn)"
   ]
  },
  {
   "cell_type": "code",
   "execution_count": 85,
   "metadata": {
    "collapsed": true
   },
   "outputs": [],
   "source": [
    "# Pyruvate Ferredoxin/Flavodoxin oxidoreductase\n",
    "# The closest thing that I can find that reduces Ferredoxin.\n",
    "# Genome annotation says \"pyruvate ferredoxin/ flavodoxin oxidoreductase\" while\n",
    "# Uniprot says only flavodoxin http://www.uniprot.org/uniprot/Q60AS5\n",
    "# Should be interchangable though.\n",
    "\n",
    "rxn = Reaction('POR_syn_c')\n",
    "rxn.name = 'Pyruvate ferredoxin oxidoreductase'\n",
    "rxn.add_metabolites({model.metabolites.get_by_id(\"coa_c\"): -1,\n",
    "                     model.metabolites.get_by_id(\"pyr_c\"): -1,\n",
    "                     model.metabolites.get_by_id(\"h_c\"): -1,\n",
    "                     model.metabolites.get_by_id(\"fdxox_c\"): -2,\n",
    "                     model.metabolites.get_by_id(\"co2_c\"):1,\n",
    "                     model.metabolites.get_by_id(\"accoa_c\"):1,\n",
    "                     model.metabolites.get_by_id(\"fdxrd_c\"):2})\n",
    "rxn.notes = {'BIGG':['POR'],'MXNREF':['MNXR83963']}\n",
    "rxn.gene_reaction_rule = 'MCA0769'\n",
    "rxn.upper_bound = 1000\n",
    "rxn.lower_bound = 0\n",
    "rxn.id = 'POR_syn_c'\n",
    "model.add_reaction(rxn)"
   ]
  },
  {
   "cell_type": "code",
   "execution_count": 86,
   "metadata": {
    "collapsed": true
   },
   "outputs": [],
   "source": [
    "rxn = Reaction('ttdcea_out')\n",
    "rxn.name = 'Tetradecenoate (n-C14:1) (out)'\n",
    "rxn.add_metabolites({model.metabolites.get_by_id(\"ttdcea_c\"): -1})\n",
    "rxn.id = 'ttdcea_out'\n",
    "model.add_reaction(rxn)"
   ]
  },
  {
   "cell_type": "markdown",
   "metadata": {},
   "source": [
    "### Cyclopropane Fatty Acids"
   ]
  },
  {
   "cell_type": "code",
   "execution_count": 87,
   "metadata": {
    "collapsed": true
   },
   "outputs": [],
   "source": [
    "met = Metabolite('cpoa2hcoa_c')\n",
    "met.charge = -4\n",
    "met.formula = 'C38H63N7O18P3S'\n",
    "met.name = 'Cyclopropaneoctanoic acid 2-hexyl-CoA(4-)'\n",
    "model.add_metabolites([met])"
   ]
  },
  {
   "cell_type": "code",
   "execution_count": 88,
   "metadata": {
    "collapsed": false
   },
   "outputs": [],
   "source": [
    "# References to how these fatty acids are synthesised in Bacteria:\n",
    "# http://www.ncbi.nlm.nih.gov/pmc/articles/PMC232619/pdf/610429.pdf\n",
    "# http://www.chemistry.illinois.edu/research/organic/seminar_extracts/2001_2002/s02_zhao.pdf\n",
    "# http://lipidlibrary.aocs.org/Primer/content.cfm?ItemNumber=39323\n",
    "#\n",
    "# Enzyme in  M. caps that catalyzes the step:\n",
    "# The enzyme adds a methylene group across the 9,10 position of a Delta9-olefinic acyl \n",
    "# chain in phosphatidylethanolamine or, more slowly, phosphatidylglycerol or phosphatidylinositol, \n",
    "# forming a cyclopropane derivative (cf. EC 2.1.1.16 methylene-fatty-acyl-phospholipid synthase).\n",
    "# http://www.kegg.jp/dbget-bin/www_bget?ec:2.1.1.79\n",
    "\n",
    "# I made the decision to add this enzyme acting on the fatty acid CoA ester, this a) saves time \n",
    "# constructing the later phospholipid pathways, b) simplifies those steps allowing me to take an\n",
    "# average of all the measured fatty acids and c) this should not make a difference since the sum of cofactors \n",
    "# consumed/ released either way are the same.\n",
    "\n",
    "rxn = Reaction('CFACPOA2H_Lumped_c')\n",
    "rxn.name = 'Cyclopropane fatty acid synthase (cyclopropaneoctanoic acid 2-hexyl generating)'\n",
    "rxn.add_metabolites({model.metabolites.get_by_id(\"pmtcoa_c\"): -1,\n",
    "                     model.metabolites.get_by_id(\"amet_c\"): -1,\n",
    "                     model.metabolites.get_by_id(\"ahcys_c\"):1,\n",
    "                     model.metabolites.get_by_id(\"cpoa2hcoa_c\"):1})\n",
    "rxn.gene_reaction_rule = 'MCA2223'\n",
    "rxn.upper_bound = 1000\n",
    "rxn.lower_bound = 0\n",
    "rxn.id = 'CFACPOA2H_Lumped_c'\n",
    "model.add_reaction(rxn)"
   ]
  },
  {
   "cell_type": "code",
   "execution_count": 89,
   "metadata": {
    "collapsed": true
   },
   "outputs": [],
   "source": [
    "met = model.metabolites.get_by_id('cpoa2h_c')\n",
    "met.charge = 0\n",
    "met.formula = 'C17H32O2'\n",
    "met.name = 'Cyclopropaneoctanoic acid 2-hexyl'\n",
    "met.id = 'cpoa2h_c'\n",
    "model.repair()\n"
   ]
  },
  {
   "cell_type": "code",
   "execution_count": 90,
   "metadata": {
    "collapsed": true
   },
   "outputs": [],
   "source": [
    "rxn = Reaction('FACOAEcyc170_c')\n",
    "rxn.name = 'Fatty-acid-CoA thioesterase (cyclopropaneoctanoic acid 2-hexyl)'\n",
    "rxn.add_metabolites({model.metabolites.get_by_id(\"coa_c\"): -1,\n",
    "                     model.metabolites.get_by_id(\"h_c\"): 1,\n",
    "                     model.metabolites.get_by_id(\"cpoa2h_c\"): 1,\n",
    "                     model.metabolites.get_by_id(\"h2o_c\"):-1,\n",
    "                     model.metabolites.get_by_id(\"cpoa2hcoa_c\"):-1})\n",
    "rxn.id = 'FACOAEcyc170_c'\n",
    "model.add_reaction(rxn)"
   ]
  },
  {
   "cell_type": "code",
   "execution_count": 91,
   "metadata": {
    "collapsed": true
   },
   "outputs": [],
   "source": [
    "rxn = Reaction('cpoa2h_out')\n",
    "rxn.name = 'Cyclopropaneoctanoic acid 2-hexyl (cyc-C17:0) (out)'\n",
    "rxn.add_metabolites({model.metabolites.get_by_id(\"cpoa2h_c\"): -1})\n",
    "rxn.id = 'cpoa2h_out'\n",
    "model.add_reaction(rxn)"
   ]
  },
  {
   "cell_type": "markdown",
   "metadata": {},
   "source": [
    "### Ubiquinol"
   ]
  },
  {
   "cell_type": "code",
   "execution_count": 92,
   "metadata": {
    "collapsed": false
   },
   "outputs": [],
   "source": [
    "met = model.metabolites.MNXM4076_c\n",
    "met.charge = 0\n",
    "met.formula = 'XH'\n",
    "met.name = 'Flavodoxin semi oxidized'\n",
    "met.notes.update({'BIGG':['flxso'],'MXNREF':['MNXM4076']})\n",
    "met.id = 'flxso_c'\n",
    "model.repair()\n"
   ]
  },
  {
   "cell_type": "code",
   "execution_count": 93,
   "metadata": {
    "collapsed": false
   },
   "outputs": [],
   "source": [
    "met = model.metabolites.MNXM3707_c\n",
    "met.charge = 0\n",
    "met.formula = 'XH'\n",
    "met.name = 'Flavodoxin reduced'\n",
    "met.notes.update({'BIGG':['flxr'],'MXNREF':['MNXM3707']})\n",
    "met.id = 'flxr_c'\n",
    "model.repair()\n"
   ]
  },
  {
   "cell_type": "code",
   "execution_count": 94,
   "metadata": {
    "collapsed": true
   },
   "outputs": [],
   "source": [
    "rxn = Reaction('MECDPDH5_c')\n",
    "rxn.name = '2C-methyl-D-erythritol 2,4 cyclodiphosphate dehydratase'\n",
    "rxn.add_metabolites({model.metabolites.get_by_id(\"2mecdp_c\"): -1,\n",
    "                     model.metabolites.get_by_id(\"h_c\"): -1,\n",
    "                     model.metabolites.get_by_id(\"flxr_c\"): -2,\n",
    "                     model.metabolites.get_by_id(\"flxso_c\"):2,\n",
    "                     model.metabolites.get_by_id(\"h2o_c\"):1,\n",
    "                     model.metabolites.get_by_id(\"h2mb4p_c\"):1})\n",
    "rxn.notes = {'BIGG':['MECDPDH5'],'MXNREF':['MNXR57061']}\n",
    "rxn.gene_reaction_rule = 'MCA2483'\n",
    "rxn.id = 'MECDPDH5_c'\n",
    "model.add_reaction(rxn)"
   ]
  },
  {
   "cell_type": "code",
   "execution_count": 95,
   "metadata": {
    "collapsed": true
   },
   "outputs": [],
   "source": [
    "rxn = model.reactions.MNXM4076_out\n",
    "rxn.id = 'flxso_out'\n",
    "model.repair()\n"
   ]
  },
  {
   "cell_type": "code",
   "execution_count": 96,
   "metadata": {
    "collapsed": true
   },
   "outputs": [],
   "source": [
    "rxn = model.reactions.MNXM3707_out\n",
    "rxn.id = 'flxr_out'\n",
    "model.repair()\n"
   ]
  },
  {
   "cell_type": "code",
   "execution_count": 97,
   "metadata": {
    "collapsed": false
   },
   "outputs": [
    {
     "name": "stdout",
     "output_type": "stream",
     "text": [
      "CDPMEK_c: 4c2me_c + atp_c --> 2p4c2me_c + adp_c + h_c\n"
     ]
    }
   ],
   "source": [
    "rxn = model.reactions.CDPMEK_c\n",
    "invert_reaction(rxn)\n",
    "print rxn"
   ]
  },
  {
   "cell_type": "code",
   "execution_count": 98,
   "metadata": {
    "collapsed": false
   },
   "outputs": [
    {
     "name": "stdout",
     "output_type": "stream",
     "text": [
      "MEPCT_c: 2me4p_c + ctp_c --> 4c2me_c + ppi_c\n"
     ]
    }
   ],
   "source": [
    "rxn = model.reactions.MEPCT_c\n",
    "invert_reaction(rxn)\n",
    "print rxn"
   ]
  },
  {
   "cell_type": "code",
   "execution_count": 99,
   "metadata": {
    "collapsed": true
   },
   "outputs": [],
   "source": [
    "rxn = Reaction('OPHHX_c')\n",
    "rxn.name = '2-Octaprenylphenol hydroxylase'\n",
    "rxn.add_metabolites({model.metabolites.get_by_id(\"2oph_c\"): -1,\n",
    "                     model.metabolites.get_by_id(\"o2_c\"): -0.5,\n",
    "                     model.metabolites.get_by_id(\"2ohph_c\"):1})\n",
    "rxn.gene_reaction_rule = 'MCA1871 or MCA2019'\n",
    "rxn.id = 'OPHHX_c'\n",
    "model.add_reaction(rxn)"
   ]
  },
  {
   "cell_type": "code",
   "execution_count": 100,
   "metadata": {
    "collapsed": false
   },
   "outputs": [
    {
     "name": "stdout",
     "output_type": "stream",
     "text": [
      "OHPHM_c: 2ohph_c + amet_c --> 2omph_c + ahcys_c + h_c\n"
     ]
    }
   ],
   "source": [
    "rxn = model.reactions.OHPHM_c\n",
    "invert_reaction(rxn)\n",
    "rxn.upper_bound = 1000\n",
    "rxn.lower_bound = 0\n",
    "print rxn"
   ]
  },
  {
   "cell_type": "code",
   "execution_count": 101,
   "metadata": {
    "collapsed": true
   },
   "outputs": [],
   "source": [
    "met = Metabolite('2ombzl_c')\n",
    "met.charge = 0\n",
    "met.formula = 'C47H72O3'\n",
    "met.name = '2-Octaprenyl-6-methoxy-1,4-benzoquinol'\n",
    "model.add_metabolites([met])"
   ]
  },
  {
   "cell_type": "code",
   "execution_count": 102,
   "metadata": {
    "collapsed": true
   },
   "outputs": [],
   "source": [
    "met = Metabolite('2ommbl_c')\n",
    "met.charge = 0\n",
    "met.formula = 'C48H74O3'\n",
    "met.name = '2-Octaprenyl-3-methyl-6-methoxy- 1,4-benzoquinol'\n",
    "met.notes = {'BIGG':['2ommbl'],'MXNREF':['MNXM35383']}\n",
    "model.add_metabolites([met])"
   ]
  },
  {
   "cell_type": "code",
   "execution_count": 103,
   "metadata": {
    "collapsed": true
   },
   "outputs": [],
   "source": [
    "met = Metabolite('2omhmbl_c')\n",
    "met.charge = 0\n",
    "met.formula = 'C48H74O4'\n",
    "met.name = '2-Octaprenyl-3-methyl-5-hydroxy-6-methoxy-1,4-benzoquinol'\n",
    "met.notes = {'BIGG':['2omhmbl'],'MXNREF':['3-demethylubiquinol-8']}\n",
    "model.add_metabolites([met])"
   ]
  },
  {
   "cell_type": "code",
   "execution_count": 104,
   "metadata": {
    "collapsed": true
   },
   "outputs": [],
   "source": [
    "rxn = Reaction('OMPHHX_c')\n",
    "rxn.name = '2-octaprenyl-6-methoxyphenol hydroxylase'\n",
    "rxn.add_metabolites({model.metabolites.get_by_id(\"2omph_c\"): -1,\n",
    "                     model.metabolites.get_by_id(\"o2_c\"): -0.5,\n",
    "                     model.metabolites.get_by_id(\"2ombzl_c\"):1})\n",
    "rxn.notes = {'BIGG':['OMPHHX'],'MXNREF':['MNXR18374']}\n",
    "rxn.gene_reaction_rule = 'MCA2769'\n",
    "rxn.id = 'OMPHHX_c'\n",
    "model.add_reaction(rxn)"
   ]
  },
  {
   "cell_type": "code",
   "execution_count": 105,
   "metadata": {
    "collapsed": false
   },
   "outputs": [],
   "source": [
    "rxn = Reaction('OMBZLM_c')\n",
    "rxn.name = '2-Octaprenyl-6-methoxy-benzoquinol methylase'\n",
    "rxn.add_metabolites({model.metabolites.get_by_id(\"2ombzl_c\"): -1,\n",
    "                     model.metabolites.get_by_id(\"amet_c\"): -1,\n",
    "                     model.metabolites.get_by_id(\"h_c\"):1,\n",
    "                     model.metabolites.get_by_id(\"ahcys_c\"):1,\n",
    "                     model.metabolites.get_by_id(\"2ommbl_c\"):1})\n",
    "rxn.gene_reaction_rule = 'MCA2017'\n",
    "rxn.notes = {'BIGG':['OMBZLM']}\n",
    "rxn.id = 'OMBZLM_c'\n",
    "model.add_reaction(rxn)"
   ]
  },
  {
   "cell_type": "code",
   "execution_count": 106,
   "metadata": {
    "collapsed": true
   },
   "outputs": [],
   "source": [
    "rxn = Reaction('OMMBLHX_c')\n",
    "rxn.name = '2-Octaprenyl-3-methyl-6-methoxy-1,4-benzoquinol hydroxylase'\n",
    "rxn.add_metabolites({model.metabolites.get_by_id(\"2ommbl_c\"): -1,\n",
    "                     model.metabolites.get_by_id(\"o2_c\"): -0.5,\n",
    "                     model.metabolites.get_by_id(\"2omhmbl_c\"):1})\n",
    "rxn.gene_reaction_rule = 'MCA1754'\n",
    "rxn.notes = {'BIGG':['OMMBLHX'],'MXNREF':['MNXR60025']}\n",
    "rxn.id = 'OMMBLHX_c'\n",
    "model.add_reaction(rxn)"
   ]
  },
  {
   "cell_type": "code",
   "execution_count": 107,
   "metadata": {
    "collapsed": false
   },
   "outputs": [],
   "source": [
    "rxn = Reaction('DMQMT_c')\n",
    "rxn.name = '3-Dimethylubiquinonol 3-methyltransferase'\n",
    "rxn.add_metabolites({model.metabolites.get_by_id(\"2omhmbl_c\"): -1,\n",
    "                     model.metabolites.get_by_id(\"amet_c\"): -1,\n",
    "                     model.metabolites.get_by_id(\"h_c\"):1,\n",
    "                     model.metabolites.get_by_id(\"ahcys_c\"):1,\n",
    "                     model.metabolites.get_by_id(\"q8h2_im\"):1})\n",
    "rxn.notes = {'BIGG':['DMQMT']}\n",
    "rxn.gene_reaction_rule = 'MCA1164 or MCA1272'\n",
    "rxn.id = 'DMQMT_c'\n",
    "model.add_reaction(rxn)"
   ]
  },
  {
   "cell_type": "code",
   "execution_count": 108,
   "metadata": {
    "collapsed": false
   },
   "outputs": [],
   "source": [
    "model.remove_reactions(['MNXR15867_c','MNXR36135_c','URFGTT_c','MNXR60025_c','MNXR85363_c'])"
   ]
  },
  {
   "cell_type": "code",
   "execution_count": 109,
   "metadata": {
    "collapsed": false
   },
   "outputs": [],
   "source": [
    "# Would a modeling purpose reductase here be more correct instead??\n",
    "# http://bigg.ucsd.edu/models/iJO1366/reactions/FLDR2\n",
    "#\n",
    "#\n",
    "#\n",
    "\n",
    "rxn = Reaction('PFOR_c')\n",
    "rxn.name = 'Pyruvate flavodoxin oxidoreductase'\n",
    "rxn.add_metabolites({model.metabolites.get_by_id(\"coa_c\"): -1,\n",
    "                     model.metabolites.get_by_id(\"pyr_c\"): -1,\n",
    "                     model.metabolites.get_by_id(\"h_c\"): -1,\n",
    "                     model.metabolites.get_by_id(\"flxso_c\"): -1,\n",
    "                     model.metabolites.get_by_id(\"co2_c\"):1,\n",
    "                     model.metabolites.get_by_id(\"accoa_c\"):1,\n",
    "                     model.metabolites.get_by_id(\"flxr_c\"):1})\n",
    "rxn.notes = {'BIGG':['PFOR'],'MXNREF':['MNXR83630']}\n",
    "rxn.gene_reaction_rule = 'MCA0769'\n",
    "rxn.upper_bound = 1000\n",
    "rxn.lower_bound = 0\n",
    "rxn.id = 'PFOR_c'\n",
    "model.add_reaction(rxn)"
   ]
  },
  {
   "cell_type": "code",
   "execution_count": 110,
   "metadata": {
    "collapsed": false
   },
   "outputs": [
    {
     "name": "stdout",
     "output_type": "stream",
     "text": [
      "DMPPS_c: h2mb4p_c + h_c + nadh_c --> dmpp_c + h2o_c + nad_c\n"
     ]
    }
   ],
   "source": [
    "rxn = model.reactions.DMPPS_c\n",
    "invert_reaction(rxn)\n",
    "rxn.upper_bound = 1000\n",
    "rxn.lower_bound = 0\n",
    "print rxn"
   ]
  },
  {
   "cell_type": "code",
   "execution_count": 111,
   "metadata": {
    "collapsed": false
   },
   "outputs": [
    {
     "name": "stdout",
     "output_type": "stream",
     "text": [
      "IPDPS_c: h2mb4p_c + h_c + nadh_c --> h2o_c + ipdp_c + nad_c\n"
     ]
    }
   ],
   "source": [
    "rxn = model.reactions.IPDPS_c\n",
    "invert_reaction(rxn)\n",
    "rxn.upper_bound = 1000\n",
    "rxn.lower_bound = 0\n",
    "print rxn"
   ]
  },
  {
   "cell_type": "markdown",
   "metadata": {},
   "source": [
    "### Lanosterol Biosynthesis"
   ]
  },
  {
   "cell_type": "code",
   "execution_count": 112,
   "metadata": {
    "collapsed": true
   },
   "outputs": [],
   "source": [
    "# Squalene Monoxigenase (MCA2872) and Oxidosqualene Reductase (MCA2873) added according to:\n",
    "# http://www.tandfonline.com/doi/pdf/10.1271/bbb.70331"
   ]
  },
  {
   "cell_type": "code",
   "execution_count": 113,
   "metadata": {
    "collapsed": true
   },
   "outputs": [],
   "source": [
    "met = Metabolite('Ssq23epx_c')\n",
    "met.charge = 0\n",
    "met.formula = 'C30H50O'\n",
    "met.name = 'S Squalene 2 3 epoxide C30H50O'\n",
    "model.add_metabolites([met])"
   ]
  },
  {
   "cell_type": "code",
   "execution_count": 114,
   "metadata": {
    "collapsed": true
   },
   "outputs": [],
   "source": [
    "rxn = Reaction('SMO_c')\n",
    "rxn.name = 'Squalene monooxygenase'\n",
    "rxn.add_metabolites({model.metabolites.get_by_id(\"o2_c\"): -1,\n",
    "                     model.metabolites.get_by_id(\"nadph_c\"): -1,\n",
    "                     model.metabolites.get_by_id(\"h_c\"): -1,\n",
    "                     model.metabolites.get_by_id(\"sql_c\"): -1,\n",
    "                     model.metabolites.get_by_id(\"Ssq23epx_c\"):1,\n",
    "                     model.metabolites.get_by_id(\"h2o_c\"):1,\n",
    "                     model.metabolites.get_by_id(\"nadp_c\"):1})\n",
    "rxn.notes = {'BIGG':['SMO'],'MXNREF':['MNXR84200'],'CONFIDENCE SCORE':4}\n",
    "rxn.gene_reaction_rule = 'MCA2872'\n",
    "rxn.upper_bound = 1000\n",
    "rxn.lower_bound = 0\n",
    "rxn.id = 'SMO_c'\n",
    "model.add_reaction(rxn)"
   ]
  },
  {
   "cell_type": "code",
   "execution_count": 115,
   "metadata": {
    "collapsed": true
   },
   "outputs": [],
   "source": [
    "rxn = Reaction('LNSTLS_c')\n",
    "rxn.name = 'Lanosterol synthase'\n",
    "rxn.add_metabolites({model.metabolites.get_by_id(\"Ssq23epx_c\"): -1,\n",
    "                     model.metabolites.get_by_id(\"lanost_c\"): 1})\n",
    "rxn.notes = {'BIGG':['LNSTLS'],'MXNREF':['MNXR83209'],'CONFIDENCE SCORE':4}\n",
    "rxn.gene_reaction_rule = 'MCA2873'\n",
    "rxn.upper_bound = 1000\n",
    "rxn.lower_bound = -1000\n",
    "rxn.id = 'LNSTLS_c'\n",
    "model.add_reaction(rxn)"
   ]
  },
  {
   "cell_type": "code",
   "execution_count": null,
   "metadata": {
    "collapsed": true
   },
   "outputs": [],
   "source": []
  },
  {
   "cell_type": "markdown",
   "metadata": {},
   "source": [
    "### FAD, FMN and Riboflavin Biosynthesis"
   ]
  },
  {
   "cell_type": "code",
   "execution_count": 116,
   "metadata": {
    "collapsed": false
   },
   "outputs": [],
   "source": [
    "rxn = Reaction('PMDPHT_c')\n",
    "rxn.name = 'Pyrimidine phosphatase'\n",
    "rxn.add_metabolites({model.metabolites.get_by_id(\"5aprbu_c\"): -1,\n",
    "                     model.metabolites.get_by_id(\"h2o_c\"): -1,\n",
    "                     model.metabolites.get_by_id(\"pi_c\"): 1,\n",
    "                     model.metabolites.get_by_id(\"4r5au_c\"):1})\n",
    "rxn.id = 'PMDPHT_c'\n",
    "model.add_reaction(rxn)"
   ]
  },
  {
   "cell_type": "code",
   "execution_count": 117,
   "metadata": {
    "collapsed": false
   },
   "outputs": [
    {
     "name": "stdout",
     "output_type": "stream",
     "text": [
      "DB4PS_c: db4p_c + for_c + h_c --> ru5p_D_c\n",
      "DB4PS_c: ru5p_D_c <=> db4p_c + for_c + h_c\n"
     ]
    }
   ],
   "source": [
    "print model.reactions.DB4PS_c\n",
    "invert_reaction(model.reactions.DB4PS_c)\n",
    "model.reactions.DB4PS_c.upper_bound = 1000\n",
    "model.reactions.DB4PS_c.lower_bound = -1000\n",
    "print model.reactions.DB4PS_c"
   ]
  },
  {
   "cell_type": "code",
   "execution_count": 118,
   "metadata": {
    "collapsed": false
   },
   "outputs": [
    {
     "name": "stdout",
     "output_type": "stream",
     "text": [
      "RBFSa_c: dmlz_c + 2.0 h2o_c + pi_c --> 4r5au_c + db4p_c\n",
      "RBFSa_c: 4r5au_c + db4p_c <=> dmlz_c + 2.0 h2o_c + pi_c\n"
     ]
    }
   ],
   "source": [
    "print model.reactions.RBFSa_c\n",
    "invert_reaction(model.reactions.RBFSa_c)\n",
    "model.reactions.RBFSa_c.upper_bound = 1000\n",
    "model.reactions.RBFSa_c.lower_bound = -1000\n",
    "print model.reactions.RBFSa_c"
   ]
  },
  {
   "cell_type": "code",
   "execution_count": 119,
   "metadata": {
    "collapsed": false
   },
   "outputs": [
    {
     "name": "stdout",
     "output_type": "stream",
     "text": [
      "RBFSb_c: 4r5au_c + ribflv_c --> 2.0 dmlz_c\n",
      "RBFSb_c: 2.0 dmlz_c <=> 4r5au_c + ribflv_c\n"
     ]
    }
   ],
   "source": [
    "print model.reactions.RBFSb_c\n",
    "invert_reaction(model.reactions.RBFSb_c)\n",
    "model.reactions.RBFSb_c.upper_bound = 1000\n",
    "model.reactions.RBFSb_c.lower_bound = -1000\n",
    "print model.reactions.RBFSb_c"
   ]
  },
  {
   "cell_type": "code",
   "execution_count": 120,
   "metadata": {
    "collapsed": false
   },
   "outputs": [
    {
     "name": "stdout",
     "output_type": "stream",
     "text": [
      "RBFK_c: adp_c + fmn_c + h_c --> atp_c + ribflv_c\n",
      "RBFK_c: atp_c + ribflv_c --> adp_c + fmn_c + h_c\n"
     ]
    }
   ],
   "source": [
    "print model.reactions.RBFK_c\n",
    "invert_reaction(model.reactions.RBFK_c)\n",
    "model.reactions.RBFK_c.upper_bound = 1000\n",
    "model.reactions.RBFK_c.lower_bound = 0\n",
    "print model.reactions.RBFK_c"
   ]
  },
  {
   "cell_type": "code",
   "execution_count": 121,
   "metadata": {
    "collapsed": false
   },
   "outputs": [
    {
     "name": "stdout",
     "output_type": "stream",
     "text": [
      "FMNAT_c: atp_c + fmn_c + h_c --> fad_c + ppi_c\n",
      "FMNAT_c: fad_c + ppi_c <=> atp_c + fmn_c + h_c\n"
     ]
    }
   ],
   "source": [
    "print model.reactions.FMNAT_c\n",
    "invert_reaction(model.reactions.FMNAT_c)\n",
    "model.reactions.FMNAT_c.upper_bound = 1000\n",
    "model.reactions.FMNAT_c.lower_bound = -1000\n",
    "print model.reactions.FMNAT_c"
   ]
  },
  {
   "cell_type": "code",
   "execution_count": 122,
   "metadata": {
    "collapsed": true
   },
   "outputs": [],
   "source": [
    "### Oxidoreductases added for modeling purposes.\n",
    "rxn = Reaction('FMNRx_Gapfilling_c')\n",
    "rxn.name = 'FMN reductase - Gapfillinh'\n",
    "rxn.add_metabolites({model.metabolites.get_by_id(\"fmn_c\"):-1,\n",
    "                     model.metabolites.get_by_id(\"h_c\"):-1,\n",
    "                     model.metabolites.get_by_id(\"nadh_c\"):-1,\n",
    "                     model.metabolites.get_by_id(\"fmnh2_c\"):1,\n",
    "                     model.metabolites.get_by_id(\"nad_c\"):1})\n",
    "rxn.upper_bound = 1000\n",
    "rxn.lower_bound = 0\n",
    "rxn.id = 'FMNRx_Gapfilling_c'\n",
    "model.add_reaction(rxn)\n",
    "\n",
    "rxn = Reaction('FMNRx2_Gapfilling_c')\n",
    "rxn.name = 'FMN reductase (NADPH) - Gapfilling'\n",
    "rxn.add_metabolites({model.metabolites.get_by_id(\"fmn_c\"):-1,\n",
    "                     model.metabolites.get_by_id(\"h_c\"):-1,\n",
    "                     model.metabolites.get_by_id(\"nadph_c\"):-1,\n",
    "                     model.metabolites.get_by_id(\"fmnh2_c\"):1,\n",
    "                     model.metabolites.get_by_id(\"nadp_c\"):1})\n",
    "rxn.upper_bound = 1000\n",
    "rxn.lower_bound = 0\n",
    "rxn.id = 'FMNRx2_Gapfilling_c'\n",
    "model.add_reaction(rxn)"
   ]
  },
  {
   "cell_type": "code",
   "execution_count": null,
   "metadata": {
    "collapsed": true
   },
   "outputs": [],
   "source": []
  },
  {
   "cell_type": "markdown",
   "metadata": {},
   "source": [
    "### NAD & NADP Biosynthesis"
   ]
  },
  {
   "cell_type": "code",
   "execution_count": 123,
   "metadata": {
    "collapsed": false
   },
   "outputs": [
    {
     "name": "stdout",
     "output_type": "stream",
     "text": [
      "ASPO6_c: h2o2_c + h_c + iasp_c --> asp__L_c + o2_c\n",
      "ASPO6_c: asp__L_c + o2_c --> h2o2_c + h_c + iasp_c\n"
     ]
    }
   ],
   "source": [
    "print model.reactions.ASPO6_c\n",
    "invert_reaction(model.reactions.ASPO6_c)\n",
    "model.reactions.ASPO6_c.upper_bound = 1000\n",
    "model.reactions.ASPO6_c.lower_bound = 0\n",
    "print model.reactions.ASPO6_c"
   ]
  },
  {
   "cell_type": "code",
   "execution_count": 124,
   "metadata": {
    "collapsed": false
   },
   "outputs": [
    {
     "name": "stdout",
     "output_type": "stream",
     "text": [
      "NNDPR_c: 2.0 h_c + prpp_c + quln_c --> co2_c + nicrnt_c + ppi_c\n"
     ]
    }
   ],
   "source": [
    "print model.reactions.NNDPR_c\n",
    "model.reactions.NNDPR_c.upper_bound = 1000\n",
    "model.reactions.NNDPR_c.lower_bound = -1000"
   ]
  },
  {
   "cell_type": "code",
   "execution_count": 125,
   "metadata": {
    "collapsed": false
   },
   "outputs": [
    {
     "name": "stdout",
     "output_type": "stream",
     "text": [
      "NADS1_c: amp_c + h_c + nad_c + ppi_c --> atp_c + dnad_c + nh3_c\n",
      "NADS1_c: atp_c + dnad_c + nh3_c --> amp_c + h_c + nad_c + ppi_c\n"
     ]
    }
   ],
   "source": [
    "print model.reactions.NADS1_c\n",
    "invert_reaction(model.reactions.NADS1_c)\n",
    "model.reactions.NADS1_c.upper_bound = 1000\n",
    "model.reactions.NADS1_c.lower_bound = 0\n",
    "print model.reactions.NADS1_c"
   ]
  },
  {
   "cell_type": "code",
   "execution_count": 126,
   "metadata": {
    "collapsed": false
   },
   "outputs": [
    {
     "name": "stdout",
     "output_type": "stream",
     "text": [
      "NADK_c: adp_c + h_c + nadp_c --> atp_c + nad_c\n",
      "NADK_c: atp_c + nad_c <=> adp_c + h_c + nadp_c\n"
     ]
    }
   ],
   "source": [
    "print model.reactions.NADK_c\n",
    "invert_reaction(model.reactions.NADK_c)\n",
    "model.reactions.NADK_c.upper_bound = 1000\n",
    "model.reactions.NADK_c.lower_bound = -1000\n",
    "print model.reactions.NADK_c"
   ]
  },
  {
   "cell_type": "markdown",
   "metadata": {},
   "source": [
    "### Heme Biosynthesis"
   ]
  },
  {
   "cell_type": "code",
   "execution_count": 127,
   "metadata": {
    "collapsed": false
   },
   "outputs": [
    {
     "name": "stdout",
     "output_type": "stream",
     "text": [
      "FCLT_c: 2.0 h_c + pheme_c --> fe2_c + ppp9_c\n",
      "FCLT_c: fe2_c + ppp9_c --> 2.0 h_c + pheme_c\n"
     ]
    }
   ],
   "source": [
    "print model.reactions.FCLT_c\n",
    "invert_reaction(model.reactions.FCLT_c)\n",
    "model.reactions.FCLT_c.upper_bound = 1000\n",
    "model.reactions.FCLT_c.lower_bound = 0\n",
    "print model.reactions.FCLT_c"
   ]
  },
  {
   "cell_type": "code",
   "execution_count": 128,
   "metadata": {
    "collapsed": false
   },
   "outputs": [],
   "source": [
    "rxn = Reaction('PPPGO_c')\n",
    "rxn.name = 'Protoporphyrinogen oxidase (aerobic)'\n",
    "rxn.add_metabolites({model.metabolites.get_by_id(\"o2_c\"): -1.5})\n",
    "rxn.id = 'PPPGO_c'\n",
    "model.add_reaction(rxn)"
   ]
  },
  {
   "cell_type": "code",
   "execution_count": 129,
   "metadata": {
    "collapsed": false
   },
   "outputs": [],
   "source": [
    "rxn = model.reactions.PPPGO_c"
   ]
  },
  {
   "cell_type": "code",
   "execution_count": 130,
   "metadata": {
    "collapsed": true
   },
   "outputs": [],
   "source": [
    "rxn.reaction = \"1.5 o2_c + pppg9_c -->3.0 h2o_c + ppp9_c\""
   ]
  },
  {
   "cell_type": "code",
   "execution_count": 131,
   "metadata": {
    "collapsed": false
   },
   "outputs": [
    {
     "data": {
      "text/plain": [
       "'1.5 o2_c + pppg9_c --> 3.0 h2o_c + ppp9_c'"
      ]
     },
     "execution_count": 131,
     "metadata": {},
     "output_type": "execute_result"
    }
   ],
   "source": [
    "model.reactions.PPPGO_c.reaction"
   ]
  },
  {
   "cell_type": "code",
   "execution_count": 132,
   "metadata": {
    "collapsed": false
   },
   "outputs": [
    {
     "name": "stdout",
     "output_type": "stream",
     "text": [
      "UPP3S_c: h2o_c + uppg3_c --> hmbil_c\n",
      "UPP3S_c: hmbil_c <=> h2o_c + uppg3_c\n"
     ]
    }
   ],
   "source": [
    "print model.reactions.UPP3S_c\n",
    "invert_reaction(model.reactions.UPP3S_c)\n",
    "model.reactions.UPP3S_c.upper_bound = 1000\n",
    "model.reactions.UPP3S_c.lower_bound = -1000\n",
    "print model.reactions.UPP3S_c"
   ]
  },
  {
   "cell_type": "code",
   "execution_count": 133,
   "metadata": {
    "collapsed": false
   },
   "outputs": [
    {
     "name": "stdout",
     "output_type": "stream",
     "text": [
      "HMBS_c: h2o_c + 4.0 ppbng_c --> hmbil_c + 4.0 nh3_c\n"
     ]
    }
   ],
   "source": [
    "print model.reactions.HMBS_c\n",
    "model.reactions.HMBS_c.upper_bound = 1000\n",
    "model.reactions.HMBS_c.lower_bound = -1000"
   ]
  },
  {
   "cell_type": "code",
   "execution_count": 134,
   "metadata": {
    "collapsed": false
   },
   "outputs": [
    {
     "name": "stdout",
     "output_type": "stream",
     "text": [
      "PPBNGS_c: 2.0 h2o_c + h_c + ppbng_c --> 2.0 5aop_c\n",
      "PPBNGS_c: 2.0 5aop_c <=> 2.0 h2o_c + h_c + ppbng_c\n"
     ]
    }
   ],
   "source": [
    "print model.reactions.PPBNGS_c\n",
    "invert_reaction(model.reactions.PPBNGS_c)\n",
    "model.reactions.PPBNGS_c.upper_bound = 1000\n",
    "model.reactions.PPBNGS_c.lower_bound = -1000\n",
    "print model.reactions.PPBNGS_c"
   ]
  },
  {
   "cell_type": "code",
   "execution_count": 135,
   "metadata": {
    "collapsed": false
   },
   "outputs": [
    {
     "name": "stdout",
     "output_type": "stream",
     "text": [
      "G1SAT_c: 5aop_c --> glu1sa_c\n",
      "G1SAT_c: glu1sa_c <=> 5aop_c\n"
     ]
    }
   ],
   "source": [
    "print model.reactions.G1SAT_c\n",
    "invert_reaction(model.reactions.G1SAT_c)\n",
    "model.reactions.G1SAT_c.upper_bound = 1000\n",
    "model.reactions.G1SAT_c.lower_bound = -1000\n",
    "print model.reactions.G1SAT_c"
   ]
  },
  {
   "cell_type": "code",
   "execution_count": 136,
   "metadata": {
    "collapsed": false
   },
   "outputs": [
    {
     "name": "stdout",
     "output_type": "stream",
     "text": [
      "GLUTRR_c: glutrna_c + h_c + nadph_c --> glu1sa_c + nadp_c + trnaglu_c\n"
     ]
    }
   ],
   "source": [
    "print model.reactions.GLUTRR_c\n",
    "model.reactions.GLUTRR_c.upper_bound = 1000\n",
    "model.reactions.GLUTRR_c.lower_bound = -1000"
   ]
  },
  {
   "cell_type": "code",
   "execution_count": 137,
   "metadata": {
    "collapsed": false,
    "scrolled": false
   },
   "outputs": [
    {
     "data": {
      "text/html": [
       "\n",
       "        <table>\n",
       "            <tr>\n",
       "                <td><strong>Id</strong></td><td>GLUTRS_c</td>\n",
       "            </tr>\n",
       "            <tr>\n",
       "                <td><strong>Name</strong></td><td>1 ATP + 1 L-glutamate + 1 tRNA(Glu) = 1 diphosphate(3-) + 1 AMP + 1 L-glutamyl-tRNA(Glu)</td>\n",
       "            </tr>\n",
       "            <tr>\n",
       "                <td><strong>Stoichiometry</strong></td><td>atp_c + glu__L_c + trnaglu_c <=> amp_c + glutrna_c + ppi_c</td>\n",
       "            </tr>\n",
       "            <tr>\n",
       "                <td><strong>Lower bound</strong></td><td>-1000.000000</td>\n",
       "            </tr>\n",
       "            <tr>\n",
       "                <td><strong>Upper bound</strong></td><td>1000.000000</td>\n",
       "            </tr>\n",
       "        </table>\n",
       "        "
      ],
      "text/plain": [
       "<Reaction GLUTRS_c at 0x113195ad0>"
      ]
     },
     "execution_count": 137,
     "metadata": {},
     "output_type": "execute_result"
    }
   ],
   "source": [
    "model.reactions.GLUTRS_c.lower_bound = -1000\n",
    "model.reactions.GLUTRS_c.upper_bound = 1000\n",
    "model.reactions.GLUTRS_c"
   ]
  },
  {
   "cell_type": "markdown",
   "metadata": {},
   "source": [
    "#### 2-Oxobutyrate to ppCoA "
   ]
  },
  {
   "cell_type": "code",
   "execution_count": 138,
   "metadata": {
    "collapsed": true
   },
   "outputs": [],
   "source": [
    "# Added on the basis of MetaCyc:\n",
    "# The oxidative decarboxylation of 2-keto acids such as pyruvate and 2-oxoglutarate to their \n",
    "# acyl coenzyme A (acyl-CoA) derivatives is a key reaction of intermediary metabolism in virtually \n",
    "# all organisms and is catalyzed by two types of thiamine diphosphate (TPP)- containing enzymes.\n",
    "\n",
    "# Most aerobic organisms contain large, multienzyme complexes which function as 2-keto acid dehydrogenases. \n",
    "# These contain (R)-lipoate and a flavin as prosthetic groups, use NAD+ as an electron acceptor, \n",
    "# and have been extensively studied (see pyruvate decarboxylation to acetyl CoA, 2-oxoisovalerate \n",
    "# decarboxylation to isobutanoyl-CoA and 2-oxoglutarate decarboxylation to succinyl-CoA). Apparently, \n",
    "# no such dehydrogenase is specific for 2-oxobutanoate. Rather, other dehydrogenases are able to accept it\n",
    "# as a substrate. this has been shown for mammalian pyruvate decarboxylation to acetyl CoA and 2-oxoisovalerate\n",
    "# decarboxylation to isobutanoyl-CoA [Paxton86].\n",
    "\n",
    "rxn = Reaction('OBDH_c')\n",
    "rxn.name = '2-Oxobutanoate dehydrogenase'\n",
    "rxn.add_metabolites({model.metabolites.get_by_id(\"2obut_c\"): -1,\n",
    "                     model.metabolites.get_by_id(\"nad_c\"): -1,\n",
    "                     model.metabolites.get_by_id(\"coa_c\"): -1,\n",
    "                     model.metabolites.get_by_id(\"nadh_c\"):1,\n",
    "                     model.metabolites.get_by_id(\"ppcoa_c\"):1,\n",
    "                     model.metabolites.get_by_id(\"co2_c\"):1})\n",
    "rxn.gene_reaction_rule = 'MCA3000 and MCA3001 and MCA3002'\n",
    "rxn.upper_bound = 1000\n",
    "rxn.lower_bound = 0\n",
    "rxn.id = 'OBDH_c'\n",
    "model.add_reaction(rxn)"
   ]
  },
  {
   "cell_type": "code",
   "execution_count": 139,
   "metadata": {
    "collapsed": false
   },
   "outputs": [],
   "source": [
    "rxn = Reaction('PCOATA_c')\n",
    "rxn.name = 'Propanoyl-CoA-ACP transacylase'\n",
    "rxn.add_metabolites({model.metabolites.get_by_id(\"ppcoa_c\"): -1,\n",
    "                     model.metabolites.get_by_id(\"ACP_c\"): -1,\n",
    "                     model.metabolites.get_by_id(\"coa_c\"): 1,\n",
    "                     model.metabolites.get_by_id(\"ppACP_c\"):1})\n",
    "rxn.gene_reaction_rule = 'MCA2003'\n",
    "rxn.upper_bound = 1000\n",
    "rxn.lower_bound = 0\n",
    "rxn.id = 'PCOATA_c'\n",
    "model.add_reaction(rxn)"
   ]
  },
  {
   "cell_type": "markdown",
   "metadata": {},
   "source": [
    "#### Glutathione Biosynthesis"
   ]
  },
  {
   "cell_type": "code",
   "execution_count": 140,
   "metadata": {
    "collapsed": false
   },
   "outputs": [
    {
     "name": "stdout",
     "output_type": "stream",
     "text": [
      "GLUCYS_c: adp_c + glucys_c + h_c + pi_c --> atp_c + cys__L_c + glu__L_c\n",
      "GLUCYS_c: atp_c + cys__L_c + glu__L_c --> adp_c + glucys_c + h_c + pi_c\n"
     ]
    }
   ],
   "source": [
    "rxn = model.reactions.get_by_id('GLUCYS_c')\n",
    "print rxn\n",
    "invert_reaction(rxn)\n",
    "rxn.upper_bound = 1000\n",
    "rxn.lower_bound = 0\n",
    "print rxn"
   ]
  },
  {
   "cell_type": "code",
   "execution_count": 141,
   "metadata": {
    "collapsed": false
   },
   "outputs": [
    {
     "name": "stdout",
     "output_type": "stream",
     "text": [
      "GTHS_c: adp_c + gthrd_c + h_c + pi_c --> atp_c + glucys_c + gly_c\n",
      "GTHS_c: atp_c + glucys_c + gly_c --> adp_c + gthrd_c + h_c + pi_c\n"
     ]
    }
   ],
   "source": [
    "rxn = model.reactions.get_by_id('GTHS_c')\n",
    "print rxn\n",
    "invert_reaction(rxn)\n",
    "rxn.upper_bound = 1000\n",
    "rxn.lower_bound = 0\n",
    "print rxn"
   ]
  },
  {
   "cell_type": "markdown",
   "metadata": {},
   "source": [
    "#### Cell Wall Components (Sugars)"
   ]
  },
  {
   "cell_type": "code",
   "execution_count": 142,
   "metadata": {
    "collapsed": false
   },
   "outputs": [],
   "source": [
    "met = model.metabolites.glc_D_c\n",
    "met.id = 'glc__D_c'\n",
    "model.repair()\n"
   ]
  },
  {
   "cell_type": "code",
   "execution_count": 143,
   "metadata": {
    "collapsed": true
   },
   "outputs": [],
   "source": [
    "rxn = model.reactions.glc_D_out\n",
    "rxn.id = 'glc__D_out'\n",
    "model.repair()\n"
   ]
  },
  {
   "cell_type": "markdown",
   "metadata": {},
   "source": [
    "#### Cobalt Uptake & Cobalamine/ Vitamin B12 Biosynthesis"
   ]
  },
  {
   "cell_type": "code",
   "execution_count": 144,
   "metadata": {
    "collapsed": false
   },
   "outputs": [],
   "source": [
    "rxn = Reaction('EX_cobalt2_c')\n",
    "rxn.name = 'Co2+ exchange'\n",
    "rxn.add_metabolites({model.metabolites.get_by_id(\"cobalt2_c\"): -1})\n",
    "rxn.upper_bound = 1000\n",
    "rxn.lower_bound = -10\n",
    "rxn.id = 'EX_cobalt2_c'\n",
    "model.add_reaction(rxn)"
   ]
  },
  {
   "cell_type": "code",
   "execution_count": 145,
   "metadata": {
    "collapsed": false
   },
   "outputs": [
    {
     "name": "stdout",
     "output_type": "stream",
     "text": [
      "UPP3MT_c: 2.0 ahcys_c + dscl_c + h_c --> 2.0 amet_c + uppg3_c\n",
      "UPP3MT_c: 2.0 amet_c + uppg3_c --> 2.0 ahcys_c + dscl_c + h_c\n"
     ]
    }
   ],
   "source": [
    "rxn = model.reactions.get_by_id('UPP3MT_c')\n",
    "print rxn\n",
    "invert_reaction(rxn)\n",
    "rxn.upper_bound = 1000\n",
    "rxn.lower_bound = 0\n",
    "print rxn"
   ]
  },
  {
   "cell_type": "code",
   "execution_count": 146,
   "metadata": {
    "collapsed": false
   },
   "outputs": [
    {
     "name": "stdout",
     "output_type": "stream",
     "text": [
      "SHCHD2_c: h_c + nadh_c + scl_c --> dscl_c + nad_c\n",
      "SHCHD2_c: dscl_c + nad_c --> h_c + nadh_c + scl_c\n"
     ]
    }
   ],
   "source": [
    "rxn = model.reactions.get_by_id('SHCHD2_c')\n",
    "print rxn\n",
    "invert_reaction(rxn)\n",
    "rxn.upper_bound = 1000\n",
    "rxn.lower_bound = 0\n",
    "print rxn"
   ]
  },
  {
   "cell_type": "code",
   "execution_count": 147,
   "metadata": {
    "collapsed": false
   },
   "outputs": [
    {
     "name": "stdout",
     "output_type": "stream",
     "text": [
      "MNXR85382_c: copre2_c + h_c --> cobalt2_c + scl_c\n",
      "MNXR85382_c: cobalt2_c + scl_c --> copre2_c + h_c\n"
     ]
    }
   ],
   "source": [
    "rxn = model.reactions.get_by_id('MNXR85382_c')\n",
    "print rxn\n",
    "invert_reaction(rxn)\n",
    "rxn.upper_bound = 1000\n",
    "rxn.lower_bound = 0\n",
    "print rxn\n",
    "rxn.add_metabolites({model.metabolites.get_by_id(\"h_c\"): 3,},combine=False)\n",
    "rxn.id = 'SHCHCC_c'\n",
    "rxn.name = 'Sirohydrochlorin cobaltochelatase'\n",
    "model.repair()\n"
   ]
  },
  {
   "cell_type": "code",
   "execution_count": 148,
   "metadata": {
    "collapsed": false
   },
   "outputs": [
    {
     "name": "stdout",
     "output_type": "stream",
     "text": [
      "MNXR59918_c: MNXM93263_c + ahcys_c + h_c --> amet_c + copre2_c\n",
      "MNXR59918_c: amet_c + copre2_c --> MNXM93263_c + ahcys_c + h_c\n"
     ]
    }
   ],
   "source": [
    "rxn = model.reactions.get_by_id('MNXR59918_c')\n",
    "print rxn\n",
    "invert_reaction(rxn)\n",
    "rxn.upper_bound = 1000\n",
    "rxn.lower_bound = 0\n",
    "print rxn\n",
    "rxn.add_metabolites({model.metabolites.get_by_id(\"copre3_c\"): 1,\n",
    "                     model.metabolites.get_by_id(\"MNXM93263_c\"): 0},combine=False)\n",
    "rxn.id = 'CPC2MT_c'\n",
    "rxn.name = 'CPC2MT'\n",
    "model.repair()\n"
   ]
  },
  {
   "cell_type": "code",
   "execution_count": 149,
   "metadata": {
    "collapsed": false
   },
   "outputs": [
    {
     "data": {
      "text/html": [
       "\n",
       "        <table>\n",
       "            <tr>\n",
       "                <td><strong>Id</strong></td><td>CPC2MT_c</td>\n",
       "            </tr>\n",
       "            <tr>\n",
       "                <td><strong>Name</strong></td><td>CPC2MT</td>\n",
       "            </tr>\n",
       "            <tr>\n",
       "                <td><strong>Stoichiometry</strong></td><td>amet_c + copre2_c --> ahcys_c + copre3_c + h_c</td>\n",
       "            </tr>\n",
       "            <tr>\n",
       "                <td><strong>Lower bound</strong></td><td>0.000000</td>\n",
       "            </tr>\n",
       "            <tr>\n",
       "                <td><strong>Upper bound</strong></td><td>1000.000000</td>\n",
       "            </tr>\n",
       "        </table>\n",
       "        "
      ],
      "text/plain": [
       "<Reaction CPC2MT_c at 0x113195450>"
      ]
     },
     "execution_count": 149,
     "metadata": {},
     "output_type": "execute_result"
    }
   ],
   "source": [
    "model.reactions.CPC2MT_c"
   ]
  },
  {
   "cell_type": "code",
   "execution_count": 150,
   "metadata": {
    "collapsed": false
   },
   "outputs": [],
   "source": [
    "rxn = model.reactions.get_by_id('MNXM93263_out')\n",
    "rxn.add_metabolites({model.metabolites.get_by_id(\"copre3_c\"): -1,\n",
    "                     model.metabolites.get_by_id(\"MNXM93263_c\"): 0},combine=False)"
   ]
  },
  {
   "cell_type": "code",
   "execution_count": 151,
   "metadata": {
    "collapsed": false
   },
   "outputs": [
    {
     "name": "stdout",
     "output_type": "stream",
     "text": [
      "CPC3MT_c: ahcys_c + copre4_c --> amet_c + copre3_c\n",
      "CPC3MT_c: amet_c + copre3_c --> ahcys_c + copre4_c\n"
     ]
    }
   ],
   "source": [
    "rxn = model.reactions.get_by_id('CPC3MT_c')\n",
    "print rxn\n",
    "invert_reaction(rxn)\n",
    "rxn.upper_bound = 1000\n",
    "rxn.lower_bound = 0\n",
    "print rxn"
   ]
  },
  {
   "cell_type": "code",
   "execution_count": 152,
   "metadata": {
    "collapsed": false
   },
   "outputs": [
    {
     "name": "stdout",
     "output_type": "stream",
     "text": [
      "CPC4MT_c: ahcys_c + copre5_c + h_c --> amet_c + copre4_c\n",
      "CPC4MT_c: amet_c + copre4_c --> ahcys_c + copre5_c + h_c\n"
     ]
    }
   ],
   "source": [
    "rxn = model.reactions.get_by_id('CPC4MT_c')\n",
    "print rxn\n",
    "invert_reaction(rxn)\n",
    "rxn.upper_bound = 1000\n",
    "rxn.lower_bound = 0\n",
    "print rxn"
   ]
  },
  {
   "cell_type": "code",
   "execution_count": 153,
   "metadata": {
    "collapsed": false
   },
   "outputs": [],
   "source": [
    "rxn = Reaction('CPC5MT_c')\n",
    "rxn.name = 'Cobalt-Precorrin-5 C1-methyltransferase'\n",
    "rxn.add_metabolites({model.metabolites.get_by_id(\"amet_c\"): -1,\n",
    "                     model.metabolites.get_by_id(\"h2o_c\"): -1,\n",
    "                     model.metabolites.get_by_id(\"copre5_c\"): -1,\n",
    "                     model.metabolites.get_by_id(\"ahcys_c\"):1,\n",
    "                     model.metabolites.get_by_id(\"acald_c\"):1,\n",
    "                     model.metabolites.get_by_id(\"copre6_c\"):1,\n",
    "                     model.metabolites.get_by_id(\"h_c\"):1})\n",
    "rxn.gene_reaction_rule = 'MCA2297 and MCA2294'\n",
    "rxn.upper_bound = 1000\n",
    "rxn.lower_bound = 0\n",
    "rxn.id = 'CPC5MT_c'\n",
    "model.add_reaction(rxn)"
   ]
  },
  {
   "cell_type": "code",
   "execution_count": 154,
   "metadata": {
    "collapsed": true
   },
   "outputs": [],
   "source": [
    "met = Metabolite('codhpre6_c')\n",
    "met.id = 'codhpre6_c'\n",
    "met.name = 'Cobalt-dihydro-precorrin 6'\n",
    "met.formula = 'C44H47N4O16Co'\n",
    "model.add_metabolites([met])"
   ]
  },
  {
   "cell_type": "code",
   "execution_count": 155,
   "metadata": {
    "collapsed": true
   },
   "outputs": [],
   "source": [
    "rxn = Reaction('CPC6R_c')\n",
    "rxn.name = 'Cobalt-Precorrin-6A reductase'\n",
    "rxn.add_metabolites({model.metabolites.get_by_id(\"codhpre6_c\"): 1,\n",
    "                     model.metabolites.get_by_id(\"nadp_c\"):1,\n",
    "                     model.metabolites.get_by_id(\"nadph_c\"):-1,\n",
    "                     model.metabolites.get_by_id(\"copre6_c\"):-1,\n",
    "                     model.metabolites.get_by_id(\"h_c\"):-1})\n",
    "rxn.upper_bound = 1000\n",
    "rxn.lower_bound = 0\n",
    "rxn.id = 'CPC6R_c'\n",
    "model.add_reaction(rxn)"
   ]
  },
  {
   "cell_type": "code",
   "execution_count": 156,
   "metadata": {
    "collapsed": false
   },
   "outputs": [],
   "source": [
    "rxn = Reaction('CPC6MT_Gapfilling_c')\n",
    "rxn.name = 'CPC6MT - Gapfilling'\n",
    "rxn.add_metabolites({model.metabolites.get_by_id(\"codhpre6_c\"): -1,\n",
    "                     model.metabolites.get_by_id(\"ahcys_c\"):2,\n",
    "                     model.metabolites.get_by_id(\"co2_c\"):1,\n",
    "                     model.metabolites.get_by_id(\"amet_c\"):-2,\n",
    "                     model.metabolites.get_by_id(\"copre8_c\"):1,\n",
    "                     model.metabolites.get_by_id(\"h_c\"):1})\n",
    "rxn.upper_bound = 1000\n",
    "rxn.lower_bound = 0\n",
    "rxn.id = 'CPC6MT_Gapfilling_c'\n",
    "model.add_reaction(rxn)"
   ]
  },
  {
   "cell_type": "code",
   "execution_count": 157,
   "metadata": {
    "collapsed": false
   },
   "outputs": [
    {
     "data": {
      "text/plain": [
       "frozenset({<Reaction SHCHCC_c at 0x113195410>,\n",
       "           <Reaction CPC2MT_c at 0x113195450>,\n",
       "           <Reaction copre2_out at 0x113700a50>})"
      ]
     },
     "execution_count": 157,
     "metadata": {},
     "output_type": "execute_result"
    }
   ],
   "source": [
    "model.metabolites.copre2_c.reactions"
   ]
  },
  {
   "cell_type": "code",
   "execution_count": 158,
   "metadata": {
    "collapsed": false
   },
   "outputs": [],
   "source": [
    "model.reactions.EX_cobalt2_c.lower_bound = -1000"
   ]
  },
  {
   "cell_type": "code",
   "execution_count": 159,
   "metadata": {
    "collapsed": false
   },
   "outputs": [
    {
     "data": {
      "text/plain": [
       "frozenset({<Reaction EX_cobalt2_c at 0x1129fd7d0>,\n",
       "           <Reaction SHCHCC_c at 0x113195410>,\n",
       "           <Reaction cobalt2_out at 0x113700a90>})"
      ]
     },
     "execution_count": 159,
     "metadata": {},
     "output_type": "execute_result"
    }
   ],
   "source": [
    "model.metabolites.cobalt2_c.reactions"
   ]
  },
  {
   "cell_type": "code",
   "execution_count": 160,
   "metadata": {
    "collapsed": false
   },
   "outputs": [
    {
     "name": "stdout",
     "output_type": "stream",
     "text": [
      "CPC8MM_c: cobya_c --> copre8_c\n",
      "CPC8MM_c: copre8_c --> cobya_c\n"
     ]
    }
   ],
   "source": [
    "rxn = model.reactions.get_by_id('CPC8MM_c')\n",
    "print rxn\n",
    "invert_reaction(rxn)\n",
    "rxn.upper_bound = 1000\n",
    "rxn.lower_bound = 0\n",
    "print rxn"
   ]
  },
  {
   "cell_type": "code",
   "execution_count": 161,
   "metadata": {
    "collapsed": false
   },
   "outputs": [
    {
     "name": "stdout",
     "output_type": "stream",
     "text": [
      "MNXR85384_c: 2.0 adp_c + co2dam_c + 2.0 glu__L_c + 2.0 h_c + 2.0 pi_c --> 2.0 atp_c + cobya_c + 2.0 gln__L_c + 2.0 h2o_c\n",
      "MNXR85384_c: 2.0 atp_c + cobya_c + 2.0 gln__L_c + 2.0 h2o_c --> 2.0 adp_c + co2dam_c + 2.0 glu__L_c + 2.0 h_c + 2.0 pi_c\n"
     ]
    }
   ],
   "source": [
    "rxn = model.reactions.get_by_id('MNXR85384_c')\n",
    "print rxn\n",
    "invert_reaction(rxn)\n",
    "rxn.upper_bound = 1000\n",
    "rxn.lower_bound = 0\n",
    "print rxn\n",
    "rxn.id = 'CYRDAS_c'\n",
    "rxn.name = 'Cob(II)yrinate a,c-diamide synthase (glutamine-hydrolysing)'\n",
    "model.repair()\n"
   ]
  },
  {
   "cell_type": "code",
   "execution_count": 162,
   "metadata": {
    "collapsed": false
   },
   "outputs": [],
   "source": [
    "rxn = Reaction('CYRDAR_Gapfilling_c')\n",
    "rxn.name = 'CYRDAR - Gapfilling'\n",
    "rxn.add_metabolites({model.metabolites.get_by_id(\"co2dam_c\"):-2,\n",
    "                     model.metabolites.get_by_id(\"nadh_c\"):-1,\n",
    "                     model.metabolites.get_by_id(\"co1dam_c\"):2,\n",
    "                     model.metabolites.get_by_id(\"nad_c\"):1,\n",
    "                     model.metabolites.get_by_id(\"h_c\"):1})\n",
    "rxn.upper_bound = 1000\n",
    "rxn.lower_bound = 0\n",
    "rxn.id = 'CYRDAR_Gapfilling_c'\n",
    "model.add_reaction(rxn)"
   ]
  },
  {
   "cell_type": "code",
   "execution_count": 163,
   "metadata": {
    "collapsed": false
   },
   "outputs": [
    {
     "name": "stdout",
     "output_type": "stream",
     "text": [
      "ADCYRS_c: adcobhex_c + 4.0 adp_c + 4.0 glu__L_c + 4.0 h_c + 4.0 pi_c --> adcobdam_c + 4.0 atp_c + 4.0 gln__L_c + 4.0 h2o_c\n",
      "ADCYRS_c: adcobdam_c + 4.0 atp_c + 4.0 gln__L_c + 4.0 h2o_c --> adcobhex_c + 4.0 adp_c + 4.0 glu__L_c + 4.0 h_c + 4.0 pi_c\n"
     ]
    }
   ],
   "source": [
    "rxn = model.reactions.get_by_id('ADCYRS_c')\n",
    "print rxn\n",
    "invert_reaction(rxn)\n",
    "rxn.upper_bound = 1000\n",
    "rxn.lower_bound = 0\n",
    "print rxn"
   ]
  },
  {
   "cell_type": "code",
   "execution_count": 164,
   "metadata": {
    "collapsed": false
   },
   "outputs": [
    {
     "name": "stdout",
     "output_type": "stream",
     "text": [
      "ADOCBIAH_c: adocbi_c + h2o_c --> adcobhex_c + appl_c\n",
      "ADOCBIAH_c: adcobhex_c + appl_c <=> adocbi_c + h2o_c\n"
     ]
    }
   ],
   "source": [
    "rxn = model.reactions.get_by_id('ADOCBIAH_c')\n",
    "print rxn\n",
    "invert_reaction(rxn)\n",
    "rxn.upper_bound = 1000\n",
    "rxn.lower_bound = -1000\n",
    "print rxn"
   ]
  },
  {
   "cell_type": "code",
   "execution_count": 165,
   "metadata": {
    "collapsed": false
   },
   "outputs": [
    {
     "name": "stdout",
     "output_type": "stream",
     "text": [
      "ADCPS2_c: adocbip_c + adp_c + h_c + pi_c --> adcobhex_c + applp_c + atp_c\n",
      "ADCPS2_c: adcobhex_c + applp_c + atp_c --> adocbip_c + adp_c + h_c + pi_c\n"
     ]
    }
   ],
   "source": [
    "rxn = model.reactions.get_by_id('ADCPS2_c')\n",
    "print rxn\n",
    "invert_reaction(rxn)\n",
    "rxn.upper_bound = 1000\n",
    "rxn.lower_bound = 0\n",
    "print rxn"
   ]
  },
  {
   "cell_type": "code",
   "execution_count": 166,
   "metadata": {
    "collapsed": false
   },
   "outputs": [
    {
     "name": "stdout",
     "output_type": "stream",
     "text": [
      "ADOCBIK_c: adocbip_c + adp_c + h_c --> adocbi_c + atp_c\n",
      "ADOCBIK_c: adocbi_c + atp_c --> adocbip_c + adp_c + h_c\n"
     ]
    }
   ],
   "source": [
    "rxn = model.reactions.get_by_id('ADOCBIK_c')\n",
    "print rxn\n",
    "invert_reaction(rxn)\n",
    "rxn.upper_bound = 1000\n",
    "rxn.lower_bound = 0\n",
    "print rxn"
   ]
  },
  {
   "cell_type": "code",
   "execution_count": 167,
   "metadata": {
    "collapsed": false
   },
   "outputs": [
    {
     "name": "stdout",
     "output_type": "stream",
     "text": [
      "ADOCBLS_c: adocbl_c + gmp_c + h_c --> agdpcbi_c + rdmbzi_c\n",
      "ADOCBLS_c: agdpcbi_c + rdmbzi_c <=> adocbl_c + gmp_c + h_c\n"
     ]
    }
   ],
   "source": [
    "rxn = model.reactions.get_by_id('ADOCBLS_c')\n",
    "print rxn\n",
    "invert_reaction(rxn)\n",
    "rxn.upper_bound = 1000\n",
    "rxn.lower_bound = -1000\n",
    "print rxn"
   ]
  },
  {
   "cell_type": "code",
   "execution_count": 168,
   "metadata": {
    "collapsed": true
   },
   "outputs": [],
   "source": [
    "# 1-amino-2-propanol O-2-phosphate\n",
    "met = Metabolite('thrp_c')\n",
    "met.id = 'thrp_c'\n",
    "met.name = 'L-Threonine O-3-phosphate'\n",
    "met.formula = 'C4H8NO6P'\n",
    "met.charge = -2\n",
    "model.add_metabolites([met])"
   ]
  },
  {
   "cell_type": "code",
   "execution_count": 169,
   "metadata": {
    "collapsed": true
   },
   "outputs": [],
   "source": [
    "rxn = Reaction('LTHRK_Gapfilling_c')\n",
    "rxn.name = 'L-threonine kinase - Gapfilling'\n",
    "rxn.add_metabolites({model.metabolites.get_by_id(\"thr__L_c\"):-1,\n",
    "                     model.metabolites.get_by_id(\"atp_c\"):-1,\n",
    "                     model.metabolites.get_by_id(\"thrp_c\"):1,\n",
    "                     model.metabolites.get_by_id(\"adp_c\"):1,\n",
    "                     model.metabolites.get_by_id(\"h_c\"):1})\n",
    "rxn.upper_bound = 1000\n",
    "rxn.lower_bound = 0\n",
    "rxn.id = 'LTHRK_Gapfilling_c'\n",
    "model.add_reaction(rxn)"
   ]
  },
  {
   "cell_type": "code",
   "execution_count": 170,
   "metadata": {
    "collapsed": true
   },
   "outputs": [],
   "source": [
    "rxn = Reaction('THRPD_Gapfilling_c')\n",
    "rxn.name = 'Threonine-phosphate decarboxylase'\n",
    "rxn.add_metabolites({model.metabolites.get_by_id(\"h_c\"):-1,\n",
    "                     model.metabolites.get_by_id(\"thrp_c\"):-1,\n",
    "                     model.metabolites.get_by_id(\"co2_c\"):1,\n",
    "                     model.metabolites.get_by_id(\"applp_c\"):1})\n",
    "rxn.upper_bound = 1000\n",
    "rxn.lower_bound = 0\n",
    "rxn.id = 'THRPD_Gapfilling_c'\n",
    "model.add_reaction(rxn)"
   ]
  },
  {
   "cell_type": "code",
   "execution_count": 171,
   "metadata": {
    "collapsed": false
   },
   "outputs": [
    {
     "name": "stdout",
     "output_type": "stream",
     "text": [
      "MNXR18583_c: dmbzid_c + e4p_c + h2o_c --> fmnh2_c + o2_c\n",
      "MNXR18583_c: fmnh2_c + o2_c --> dmbzid_c + e4p_c + h2o_c\n"
     ]
    }
   ],
   "source": [
    "rxn = model.reactions.get_by_id('MNXR18583_c')\n",
    "print rxn\n",
    "invert_reaction(rxn)\n",
    "rxn.upper_bound = 1000\n",
    "rxn.lower_bound = 0\n",
    "print rxn"
   ]
  },
  {
   "cell_type": "code",
   "execution_count": 172,
   "metadata": {
    "collapsed": false
   },
   "outputs": [
    {
     "name": "stdout",
     "output_type": "stream",
     "text": [
      "NNDMBRT_c: 5prdmbz_c + h_c + nac_c --> dmbzid_c + nicrnt_c\n",
      "NNDMBRT_c: dmbzid_c + nicrnt_c --> 5prdmbz_c + h_c + nac_c\n"
     ]
    }
   ],
   "source": [
    "rxn = model.reactions.get_by_id('NNDMBRT_c')\n",
    "print rxn\n",
    "invert_reaction(rxn)\n",
    "rxn.upper_bound = 1000\n",
    "rxn.lower_bound = 0\n",
    "print rxn"
   ]
  },
  {
   "cell_type": "code",
   "execution_count": 173,
   "metadata": {
    "collapsed": false
   },
   "outputs": [
    {
     "name": "stdout",
     "output_type": "stream",
     "text": [
      "RZ5PP_c: pi_c + rdmbzi_c --> 5prdmbz_c + h2o_c\n",
      "RZ5PP_c: 5prdmbz_c + h2o_c <=> pi_c + rdmbzi_c\n"
     ]
    }
   ],
   "source": [
    "rxn = model.reactions.get_by_id('RZ5PP_c')\n",
    "print rxn\n",
    "invert_reaction(rxn)\n",
    "rxn.upper_bound = 1000\n",
    "rxn.lower_bound = -1000\n",
    "print rxn"
   ]
  },
  {
   "cell_type": "markdown",
   "metadata": {},
   "source": [
    "#### Thiamin Biosynthesis"
   ]
  },
  {
   "cell_type": "code",
   "execution_count": 174,
   "metadata": {
    "collapsed": true
   },
   "outputs": [],
   "source": [
    "# 4-Hydroxy-benzyl alcohol\n",
    "met = Metabolite('4hba_c')\n",
    "met.id = '4hba_c'\n",
    "met.name = '4-Hydroxy-benzyl alcohol'\n",
    "met.formula = 'C7H8O2'\n",
    "met.charge = 0\n",
    "model.add_metabolites([met])"
   ]
  },
  {
   "cell_type": "code",
   "execution_count": 175,
   "metadata": {
    "collapsed": false
   },
   "outputs": [
    {
     "name": "stdout",
     "output_type": "stream",
     "text": [
      "MNXR85599_c: MNXM73306_c + cys__L_c --> MNXM3891_c + ala__L_c\n",
      "MNXR85599_c: atp_c + cys__L_c + dxyl5p_c + tyr__L_c --> 4hba_c + 4mpetz_c + ala__L_c + amp_c + co2_c + h2o_c + h_c + ppi_c\n"
     ]
    }
   ],
   "source": [
    "rxn = model.reactions.get_by_id('MNXR85599_c')\n",
    "print rxn\n",
    "rxn.add_metabolites({model.metabolites.get_by_id(\"atp_c\"): -1,\n",
    "                     model.metabolites.get_by_id(\"dxyl5p_c\"): -1,\n",
    "                     model.metabolites.get_by_id(\"cys__L_c\"): -1,\n",
    "                     model.metabolites.get_by_id(\"tyr__L_c\"): -1,\n",
    "                     model.metabolites.get_by_id(\"4mpetz_c\"): 1,\n",
    "                     model.metabolites.get_by_id(\"ala__L_c\"): 1,\n",
    "                     model.metabolites.get_by_id(\"h_c\"): 1,\n",
    "                     model.metabolites.get_by_id(\"h2o_c\"): 1,\n",
    "                     model.metabolites.get_by_id(\"co2_c\"): 1,\n",
    "                     model.metabolites.get_by_id(\"ppi_c\"): 1,\n",
    "                     model.metabolites.get_by_id(\"MNXM3891_c\"): 0,\n",
    "                     model.metabolites.get_by_id(\"MNXM73306_c\"): 0,\n",
    "                     model.metabolites.get_by_id(\"4hba_c\"): 1,\n",
    "                     model.metabolites.get_by_id(\"amp_c\"): 1},combine=False)\n",
    "print rxn\n",
    "rxn.id = 'THZPSN_c'\n",
    "rxn.name = 'Thiazole phosphate synthesis'\n",
    "model.repair()\n"
   ]
  },
  {
   "cell_type": "code",
   "execution_count": 176,
   "metadata": {
    "collapsed": true
   },
   "outputs": [],
   "source": [
    "rxn = Reaction('DM_4hba_c')\n",
    "rxn.name = 'Sink needed to allow 4-hydroxy-benzoate to leave system'\n",
    "rxn.add_metabolites({model.metabolites.get_by_id(\"4hba_c\"):-1})\n",
    "rxn.upper_bound = 1000\n",
    "rxn.lower_bound = 0\n",
    "rxn.id = 'DM_4hba_c'\n",
    "model.add_reaction(rxn)"
   ]
  },
  {
   "cell_type": "code",
   "execution_count": 177,
   "metadata": {
    "collapsed": false
   },
   "outputs": [
    {
     "name": "stdout",
     "output_type": "stream",
     "text": [
      "PMPK_c: 2mahmp_c + adp_c --> 4ampm_c + atp_c\n",
      "PMPK_c: 4ampm_c + atp_c --> 2mahmp_c + adp_c\n"
     ]
    }
   ],
   "source": [
    "rxn = model.reactions.get_by_id('PMPK_c')\n",
    "print rxn\n",
    "invert_reaction(rxn)\n",
    "rxn.upper_bound = 1000\n",
    "rxn.lower_bound = 0\n",
    "print rxn"
   ]
  },
  {
   "cell_type": "code",
   "execution_count": 178,
   "metadata": {
    "collapsed": false
   },
   "outputs": [
    {
     "name": "stdout",
     "output_type": "stream",
     "text": [
      "HMPK1_c: 4ampm_c + adp_c + h_c --> 4ahmmp_c + atp_c\n",
      "HMPK1_c: 4ahmmp_c + atp_c <=> 4ampm_c + adp_c + h_c\n"
     ]
    }
   ],
   "source": [
    "rxn = model.reactions.get_by_id('HMPK1_c')\n",
    "print rxn\n",
    "invert_reaction(rxn)\n",
    "rxn.upper_bound = 1000\n",
    "rxn.lower_bound = -1000\n",
    "print rxn"
   ]
  },
  {
   "cell_type": "code",
   "execution_count": 179,
   "metadata": {
    "collapsed": false
   },
   "outputs": [
    {
     "name": "stdout",
     "output_type": "stream",
     "text": [
      "MNXR71755_c: 4ahmmp_c --> air_c\n",
      "MNXR71755_c: air_c + amet_c --> 4ampm_c + co_c + dad_5_c + for_c + 3 h_c + met__L_c\n"
     ]
    }
   ],
   "source": [
    "rxn = model.reactions.get_by_id('MNXR71755_c')\n",
    "print rxn\n",
    "rxn.add_metabolites({model.metabolites.get_by_id(\"4ahmmp_c\"): 0,\n",
    "                     model.metabolites.get_by_id(\"4ampm_c\"): 1,\n",
    "                     model.metabolites.get_by_id(\"amet_c\"): -1,\n",
    "                     model.metabolites.get_by_id(\"for_c\"): 1,\n",
    "                     model.metabolites.get_by_id(\"met__L_c\"): 1,\n",
    "                     model.metabolites.get_by_id(\"dad_5_c\"): 1,\n",
    "                     model.metabolites.get_by_id(\"co_c\"): 1,\n",
    "                     model.metabolites.get_by_id(\"h_c\"): 3,\n",
    "                     model.metabolites.get_by_id(\"air_c\"): -1},combine=False)\n",
    "print rxn\n",
    "rxn.upper_bound = 1000\n",
    "rxn.name = 'Phosphomethylpyrimidine synthase'\n",
    "rxn.id = 'PMPS_c'\n",
    "model.repair()\n"
   ]
  },
  {
   "cell_type": "code",
   "execution_count": 180,
   "metadata": {
    "collapsed": true
   },
   "outputs": [],
   "source": [
    "model.repair()\n"
   ]
  },
  {
   "cell_type": "markdown",
   "metadata": {},
   "source": [
    "#### Myo-Inositol Biosynthesis"
   ]
  },
  {
   "cell_type": "code",
   "execution_count": 181,
   "metadata": {
    "collapsed": true
   },
   "outputs": [],
   "source": [
    "met = model.metabolites.get_by_id('mi1p_D_c')\n",
    "met.id = 'mi1p__D_c'\n",
    "model.repair()\n"
   ]
  },
  {
   "cell_type": "code",
   "execution_count": 182,
   "metadata": {
    "collapsed": false
   },
   "outputs": [],
   "source": [
    "rxn = Reaction('MI1PS_GAPFILLING_c')\n",
    "rxn.add_metabolites({model.metabolites.get_by_id(\"g6p_c\"): -1,\n",
    "                     model.metabolites.get_by_id(\"mi1p__D_c\"): 1},combine=False)\n",
    "rxn.id = 'MI1PS_GAPFILLING_c'\n",
    "rxn.upper_bound = 1000\n",
    "rxn.lower_bound = -1000\n",
    "rxn.name = 'Myo Inositol 1 phosphate synthase'\n",
    "model.add_reaction(rxn)"
   ]
  },
  {
   "cell_type": "markdown",
   "metadata": {},
   "source": [
    "#### Mannose"
   ]
  },
  {
   "cell_type": "code",
   "execution_count": 183,
   "metadata": {
    "collapsed": false
   },
   "outputs": [],
   "source": [
    "# rxn = Reaction('GDPMNH_c')\n",
    "# rxn.add_metabolites({model.metabolites.get_by_id(\"gdpmann_c\"): -1,\n",
    "#                      model.metabolites.get_by_id(\"h2o_c\"): -1,\n",
    "#                      model.metabolites.get_by_id(\"gdp_c\"): 1,\n",
    "#                      model.metabolites.get_by_id(\"h_c\"): 1,\n",
    "#                      model.metabolites.get_by_id(\"man_c\"): 1},combine=False)\n",
    "# rxn.id = 'GDPMNH_c'\n",
    "# rxn.upper_bound = 1000\n",
    "# rxn.lower_bound = -1000\n",
    "# rxn.name = 'GDP-mannose mannosyl hydrolase - implemented for modeling purposes'\n",
    "# model.add_reaction(rxn)"
   ]
  },
  {
   "cell_type": "markdown",
   "metadata": {},
   "source": [
    "#### Fatty Acid Formulas & Charges"
   ]
  },
  {
   "cell_type": "code",
   "execution_count": 184,
   "metadata": {
    "collapsed": true
   },
   "outputs": [],
   "source": [
    "model.metabolites.ttdca_c.formula = 'C14H27O2'\n",
    "model.metabolites.ttdca_c.charge = -1"
   ]
  },
  {
   "cell_type": "code",
   "execution_count": 185,
   "metadata": {
    "collapsed": true
   },
   "outputs": [],
   "source": [
    "model.metabolites.ttdcea_c.formula = 'C14H25O2'\n",
    "model.metabolites.ttdcea_c.charge = -1"
   ]
  },
  {
   "cell_type": "code",
   "execution_count": 186,
   "metadata": {
    "collapsed": true
   },
   "outputs": [],
   "source": [
    "model.metabolites.ptdca_c.formula = 'C15H29O2'\n",
    "model.metabolites.ptdca_c.charge = -1"
   ]
  },
  {
   "cell_type": "code",
   "execution_count": 187,
   "metadata": {
    "collapsed": true
   },
   "outputs": [],
   "source": [
    "model.metabolites.hpdca_c.formula = 'C17H33O2'\n",
    "model.metabolites.hpdca_c.charge = -1"
   ]
  },
  {
   "cell_type": "code",
   "execution_count": 188,
   "metadata": {
    "collapsed": false
   },
   "outputs": [
    {
     "name": "stdout",
     "output_type": "stream",
     "text": [
      "227.36298\n",
      "225.3471\n",
      "241.38956\n",
      "255.41614\n",
      "269.44272\n",
      "268.43478\n",
      "283.4693\n",
      "281.45342\n"
     ]
    }
   ],
   "source": [
    "print model.metabolites.ttdca_c.formula_weight\n",
    "print model.metabolites.ttdcea_c.formula_weight\n",
    "print model.metabolites.ptdca_c.formula_weight\n",
    "print model.metabolites.hdca_c.formula_weight\n",
    "print model.metabolites.hpdca_c.formula_weight\n",
    "print model.metabolites.cpoa2h_c.formula_weight\n",
    "print model.metabolites.ocdca_c.formula_weight\n",
    "print model.metabolites.ocdcea_c.formula_weight"
   ]
  },
  {
   "cell_type": "markdown",
   "metadata": {},
   "source": [
    "#### Phospholipids (loaded with 'Average' Fatty Acid)"
   ]
  },
  {
   "cell_type": "markdown",
   "metadata": {},
   "source": [
    "##### Phosphatidate & CDP-Diacylglycerine"
   ]
  },
  {
   "cell_type": "code",
   "execution_count": 189,
   "metadata": {
    "collapsed": false
   },
   "outputs": [],
   "source": [
    "# Defining the average phospholipid (based on values from unibio, Bird et al, 1971 and Müller et al, 2004)\n",
    "met = Metabolite('mc_fattyacid_c')\n",
    "met.id = 'mc_fattyacid_c'\n",
    "met.formula = 'C16H31O2'\n",
    "met.charge = -1\n",
    "model.add_metabolites([met])\n",
    "\n",
    "\n",
    "rxn = Reaction('MC_Average_FattyAcid_c')\n",
    "rxn.add_metabolites({model.metabolites.get_by_id(\"ttdca_c\"): -0.061,\n",
    "                     model.metabolites.get_by_id(\"ttdcea_c\"): -0.007,\n",
    "                     model.metabolites.get_by_id(\"ptdca_c\"): -0.01,\n",
    "                     model.metabolites.get_by_id(\"hdca_c\"): -0.729,\n",
    "                     model.metabolites.get_by_id(\"hpdca_c\"): -0.089,\n",
    "                     model.metabolites.get_by_id(\"cpoa2h_c\"): -0.092,\n",
    "                     model.metabolites.get_by_id(\"ocdca_c\"): -0.004,\n",
    "                     model.metabolites.get_by_id(\"ocdcea_c\"): -0.007,\n",
    "                     model.metabolites.get_by_id(\"mc_fattyacid_c\"): 1},combine=False)\n",
    "rxn.id = 'MC_Average_FattyAcid_c'\n",
    "rxn.upper_bound = 1000\n",
    "rxn.lower_bound = -1000\n",
    "rxn.name = 'Reaction added to get an acurate representation of the average fatty acid composition of MC'\n",
    "model.add_reaction(rxn)"
   ]
  },
  {
   "cell_type": "code",
   "execution_count": 190,
   "metadata": {
    "collapsed": false,
    "scrolled": true
   },
   "outputs": [
    {
     "name": "stdout",
     "output_type": "stream",
     "text": [
      "G1PDH_c: dhap_c + h_c + nadh_c <=> glyc1p_c + nad_c\n"
     ]
    }
   ],
   "source": [
    "rxn = model.reactions.get_by_id('G1PDH_c')\n",
    "print rxn\n",
    "rxn.id = 'G3PD1_c'\n",
    "rxn.name = 'G3PD1'\n",
    "model.repair()\n"
   ]
  },
  {
   "cell_type": "code",
   "execution_count": 191,
   "metadata": {
    "collapsed": true
   },
   "outputs": [],
   "source": [
    "met = Metabolite('mc_fattyacidcoa_c')\n",
    "met.id = 'mc_fattyacidcoa_c'\n",
    "met.formula = 'C37H63N7O18P3S'\n",
    "met.charge = -4\n",
    "model.add_metabolites([met])"
   ]
  },
  {
   "cell_type": "code",
   "execution_count": 192,
   "metadata": {
    "collapsed": false
   },
   "outputs": [],
   "source": [
    "rxn = Reaction('MC_AFAA_c')\n",
    "rxn.add_metabolites({model.metabolites.get_by_id(\"atp_c\"): -1,\n",
    "                     model.metabolites.get_by_id(\"coa_c\"): -1,\n",
    "                     model.metabolites.get_by_id(\"mc_fattyacid_c\"): -1,\n",
    "                     model.metabolites.get_by_id(\"amp_c\"): 1,\n",
    "                     model.metabolites.get_by_id(\"ppi_c\"): 1,\n",
    "                     model.metabolites.get_by_id(\"mc_fattyacidcoa_c\"): 1},combine=False)\n",
    "rxn.id = 'MC_AFAA_c'\n",
    "rxn.upper_bound = 1000\n",
    "rxn.lower_bound = 0\n",
    "rxn.name = 'Activation and CoA loading of average fatty acid'\n",
    "model.add_reaction(rxn)"
   ]
  },
  {
   "cell_type": "code",
   "execution_count": 193,
   "metadata": {
    "collapsed": false
   },
   "outputs": [],
   "source": [
    "met = Metabolite('1agpgafa_c')\n",
    "met.id = '1agpgafa_c'\n",
    "met.name = '1-Acyl-sn-glycero-3-phosphoglycerol (Average Fatty Acid)'\n",
    "met.formula = 'C20H37O9P1'\n",
    "met.charge = -1\n",
    "model.add_metabolites([met])"
   ]
  },
  {
   "cell_type": "code",
   "execution_count": 194,
   "metadata": {
    "collapsed": false
   },
   "outputs": [
    {
     "name": "stdout",
     "output_type": "stream",
     "text": [
      "MNXR84812_c: MNXM226_c + coa_c --> acoa_c + glyc1p_c\n",
      "MNXR84812_c: glyc1p_c + mc_fattyacidcoa_c --> 1agpgafa_c + coa_c\n"
     ]
    }
   ],
   "source": [
    "rxn = model.reactions.get_by_id('MNXR84812_c')\n",
    "print rxn\n",
    "rxn.add_metabolites({model.metabolites.get_by_id(\"MNXM226_c\"): 0,\n",
    "                     model.metabolites.get_by_id(\"acoa_c\"): 0,\n",
    "                     model.metabolites.get_by_id(\"mc_fattyacidcoa_c\"): -1,\n",
    "                     model.metabolites.get_by_id(\"glyc1p_c\"): -1,\n",
    "                     model.metabolites.get_by_id(\"coa_c\"): 1,\n",
    "                     model.metabolites.get_by_id(\"1agpgafa_c\"): 1},combine=False)\n",
    "print rxn\n",
    "rxn.upper_bound = 1000\n",
    "rxn.name = 'Glycerol-3-phosphate acyltransferase'\n",
    "rxn.id = 'G3PAT_MC_c'\n",
    "model.repair()\n"
   ]
  },
  {
   "cell_type": "code",
   "execution_count": 195,
   "metadata": {
    "collapsed": true
   },
   "outputs": [],
   "source": [
    "met = Metabolite('pa_MC_c')\n",
    "met.id = 'pa_MC_c'\n",
    "met.name = '1,2-sn-glycerol 3-phosphate'\n",
    "met.formula = 'C35H67O8P1'\n",
    "met.charge = -1\n",
    "model.add_metabolites([met])"
   ]
  },
  {
   "cell_type": "code",
   "execution_count": 196,
   "metadata": {
    "collapsed": false
   },
   "outputs": [
    {
     "name": "stdout",
     "output_type": "stream",
     "text": [
      "MNXR84924_c: MNXM109_c + coa_c --> MNXM226_c + acoa_c\n",
      "MNXR84924_c: 1agpgafa_c + mc_fattyacidcoa_c --> coa_c + pa_MC_c\n"
     ]
    }
   ],
   "source": [
    "rxn = model.reactions.get_by_id('MNXR84924_c')\n",
    "print rxn\n",
    "rxn.add_metabolites({model.metabolites.get_by_id(\"MNXM226_c\"): 0,\n",
    "                    model.metabolites.get_by_id(\"MNXM109_c\"): 0,\n",
    "                     model.metabolites.get_by_id(\"acoa_c\"): 0,\n",
    "                     model.metabolites.get_by_id(\"1agpgafa_c\"): -1,\n",
    "                     model.metabolites.get_by_id(\"mc_fattyacidcoa_c\"): -1,\n",
    "                     model.metabolites.get_by_id(\"coa_c\"): 1,\n",
    "                     model.metabolites.get_by_id(\"pa_MC_c\"): 1},combine=False)\n",
    "print rxn\n",
    "rxn.upper_bound = 1000\n",
    "rxn.name = 'Acyl-phosphate:glycerol-3-phosphate acyltransferase'\n",
    "rxn.id = 'APG3PAT_MC_c'\n",
    "model.repair()\n"
   ]
  },
  {
   "cell_type": "code",
   "execution_count": 197,
   "metadata": {
    "collapsed": true
   },
   "outputs": [],
   "source": [
    "met = Metabolite('cdpdag_MC_c')\n",
    "met.id = 'cdpdag_MC_c'\n",
    "met.name = 'CDPdiacylglycerol'\n",
    "met.formula = 'C45H80N3O8P2'\n",
    "met.charge = -2\n",
    "model.add_metabolites([met])"
   ]
  },
  {
   "cell_type": "code",
   "execution_count": 198,
   "metadata": {
    "collapsed": false
   },
   "outputs": [
    {
     "name": "stdout",
     "output_type": "stream",
     "text": [
      "MNXR70333_c: MNXM201_c + ppi_c --> MNXM109_c + ctp_c\n",
      "MNXR70333_c: ctp_c + h_c + pa_MC_c --> cdpdag_MC_c + ppi_c\n"
     ]
    }
   ],
   "source": [
    "rxn = model.reactions.get_by_id('MNXR70333_c')\n",
    "print rxn\n",
    "rxn.add_metabolites({model.metabolites.get_by_id(\"MNXM201_c\"): 0,\n",
    "                    model.metabolites.get_by_id(\"MNXM109_c\"): 0,\n",
    "                     model.metabolites.get_by_id(\"pa_MC_c\"): -1,\n",
    "                     model.metabolites.get_by_id(\"ctp_c\"): -1,\n",
    "                     model.metabolites.get_by_id(\"h_c\"): -1,\n",
    "                     model.metabolites.get_by_id(\"ppi_c\"): 1,\n",
    "                     model.metabolites.get_by_id(\"cdpdag_MC_c\"): 1},combine=False)\n",
    "print rxn\n",
    "rxn.upper_bound = 1000\n",
    "rxn.name = 'Phosphatidate cytidylyltransferase'\n",
    "rxn.id = 'PHCYT_MC_c'\n",
    "model.repair()\n"
   ]
  },
  {
   "cell_type": "markdown",
   "metadata": {},
   "source": [
    "##### Phosphatidylglycerol"
   ]
  },
  {
   "cell_type": "code",
   "execution_count": 199,
   "metadata": {
    "collapsed": true
   },
   "outputs": [],
   "source": [
    "met = Metabolite('pgp_MC_c')\n",
    "met.id = 'pgp_MC_c'\n",
    "met.name = 'Phosphatidylglycerophosphate'\n",
    "met.formula = 'C22H41O13P2'\n",
    "met.charge = -3\n",
    "model.add_metabolites([met])"
   ]
  },
  {
   "cell_type": "code",
   "execution_count": 200,
   "metadata": {
    "collapsed": false
   },
   "outputs": [
    {
     "name": "stdout",
     "output_type": "stream",
     "text": [
      "MNXR1099_c: cmp_c + h_c + pgp_EC_c --> MNXM201_c + glyc1p_c\n",
      "MNXR1099_c: cdpdag_MC_c + glyc1p_c --> cmp_c + h_c + pgp_MC_c\n"
     ]
    }
   ],
   "source": [
    "rxn = model.reactions.get_by_id('MNXR1099_c')\n",
    "print rxn\n",
    "rxn.add_metabolites({model.metabolites.get_by_id(\"MNXM201_c\"): 0,\n",
    "                     model.metabolites.get_by_id(\"pgp_EC_c\"): 0,\n",
    "                     model.metabolites.get_by_id(\"cdpdag_MC_c\"): -1,\n",
    "                     model.metabolites.get_by_id(\"cmp_c\"): 1,\n",
    "                     model.metabolites.get_by_id(\"h_c\"): 1,\n",
    "                     model.metabolites.get_by_id(\"glyc1p_c\"): -1,\n",
    "                     model.metabolites.get_by_id(\"pgp_MC_c\"): 1},combine=False)\n",
    "print rxn\n",
    "rxn.upper_bound = 1000\n",
    "rxn.name = 'Phosphatidylglycerol synthase'\n",
    "rxn.id = 'PGSA_MC_c'\n",
    "model.repair()\n"
   ]
  },
  {
   "cell_type": "code",
   "execution_count": 201,
   "metadata": {
    "collapsed": true
   },
   "outputs": [],
   "source": [
    "met = model.metabolites.pg_MC_c\n",
    "met.name = 'Phosphatidylglycerol'\n",
    "met.formula = 'C22H42O10P1'\n",
    "met.charge = -1\n",
    "model.add_metabolites([met])"
   ]
  },
  {
   "cell_type": "code",
   "execution_count": 202,
   "metadata": {
    "collapsed": false
   },
   "outputs": [
    {
     "name": "stdout",
     "output_type": "stream",
     "text": [
      "MNXR76415_c: h2o_c + pgp_EC_c --> glyc1p_c + pi_c\n",
      "MNXR76415_c: h2o_c + pgp_MC_c --> pg_MC_c + pi_c\n"
     ]
    }
   ],
   "source": [
    "rxn = model.reactions.get_by_id('MNXR76415_c')\n",
    "print rxn\n",
    "rxn.add_metabolites({model.metabolites.get_by_id(\"h2o_c\"): -1,\n",
    "                     model.metabolites.get_by_id(\"pgp_MC_c\"): -1,\n",
    "                     model.metabolites.get_by_id(\"pi_c\"): 1,\n",
    "                     model.metabolites.get_by_id(\"pg_MC_c\"): 1,\n",
    "                     model.metabolites.get_by_id(\"pgp_EC_c\"): 0,\n",
    "                     model.metabolites.get_by_id(\"glyc1p_c\"): 0},combine=False)\n",
    "print rxn\n",
    "rxn.upper_bound = 1000\n",
    "rxn.name = 'Phosphatidylglycerol synthase'\n",
    "rxn.id = 'PGPP_MC_c'\n",
    "model.repair()\n"
   ]
  },
  {
   "cell_type": "markdown",
   "metadata": {},
   "source": [
    "##### Phosphatidylserine & Phosphatidylethanolamine"
   ]
  },
  {
   "cell_type": "code",
   "execution_count": 203,
   "metadata": {
    "collapsed": false
   },
   "outputs": [],
   "source": [
    "met = Metabolite('ps_MC_c')\n",
    "met.name = 'Phosphatidylserine'\n",
    "met.formula = 'C38H73N1O10P1'\n",
    "met.charge = -1\n",
    "model.add_metabolites([met])"
   ]
  },
  {
   "cell_type": "code",
   "execution_count": 204,
   "metadata": {
    "collapsed": false
   },
   "outputs": [
    {
     "name": "stdout",
     "output_type": "stream",
     "text": [
      "MNXR69809_c: MNXM221_c + cmp_c + h_c --> MNXM201_c + ser__L_c\n",
      "MNXR69809_c: cdpdag_MC_c + ser__L_c --> cmp_c + h_c + ps_MC_c\n"
     ]
    }
   ],
   "source": [
    "rxn = model.reactions.get_by_id('MNXR69809_c')\n",
    "print rxn\n",
    "rxn.add_metabolites({model.metabolites.get_by_id(\"ser__L_c\"): -1,\n",
    "                     model.metabolites.get_by_id(\"cdpdag_MC_c\"): -1,\n",
    "                     model.metabolites.get_by_id(\"h_c\"): 1,\n",
    "                     model.metabolites.get_by_id(\"cmp_c\"): 1,\n",
    "                     model.metabolites.get_by_id(\"ps_MC_c\"): 1,\n",
    "                     model.metabolites.get_by_id(\"MNXM201_c\"): 0,\n",
    "                     model.metabolites.get_by_id(\"MNXM221_c\"): 0},combine=False)\n",
    "print rxn\n",
    "rxn.upper_bound = 1000\n",
    "rxn.name = 'Phosphatidylserine syntase'\n",
    "rxn.id = 'PSSA_MC_c'\n",
    "model.repair()\n"
   ]
  },
  {
   "cell_type": "code",
   "execution_count": 205,
   "metadata": {
    "collapsed": true
   },
   "outputs": [],
   "source": [
    "met = model.metabolites.pe_MC_c\n",
    "met.name = 'Phosphatidylethanolamin'\n",
    "met.formula = 'C37H73N1O8P1'\n",
    "met.charge = -1\n",
    "model.add_metabolites([met])"
   ]
  },
  {
   "cell_type": "code",
   "execution_count": 206,
   "metadata": {
    "collapsed": false,
    "scrolled": true
   },
   "outputs": [
    {
     "name": "stdout",
     "output_type": "stream",
     "text": [
      "MNXR4476_c: MNXM221_c + h_c --> co2_c + g3pe_c\n",
      "MNXR4476_c: h_c + ps_MC_c --> co2_c + pe_MC_c\n"
     ]
    }
   ],
   "source": [
    "rxn = model.reactions.get_by_id('MNXR4476_c')\n",
    "print rxn\n",
    "rxn.add_metabolites({model.metabolites.get_by_id(\"ps_MC_c\"): -1,\n",
    "                     model.metabolites.get_by_id(\"h_c\"): -1,\n",
    "                     model.metabolites.get_by_id(\"pe_MC_c\"): 1,\n",
    "                     model.metabolites.get_by_id(\"co2_c\"): 1,\n",
    "                     model.metabolites.get_by_id(\"g3pe_c\"): 0,\n",
    "                     model.metabolites.get_by_id(\"MNXM221_c\"): 0,\n",
    "                     model.metabolites.get_by_id(\"MNXM221_c\"): 0},combine=False)\n",
    "print rxn\n",
    "rxn.upper_bound = 1000\n",
    "rxn.name = 'phosphatidylserine decarboxylase'\n",
    "rxn.id = 'PSD_MC_c'\n",
    "model.repair()\n"
   ]
  },
  {
   "cell_type": "markdown",
   "metadata": {},
   "source": [
    "##### Phosphatidylcholine"
   ]
  },
  {
   "cell_type": "code",
   "execution_count": 207,
   "metadata": {
    "collapsed": true
   },
   "outputs": [],
   "source": [
    "met = model.metabolites.pc_MC_c\n",
    "met.name = 'Phosphatidylcholine'\n",
    "met.formula = 'C40H81N1O8P1'\n",
    "met.charge = -1\n",
    "model.add_metabolites([met])"
   ]
  },
  {
   "cell_type": "code",
   "execution_count": 208,
   "metadata": {
    "collapsed": true
   },
   "outputs": [],
   "source": [
    "met = Metabolite('pme_c')\n",
    "met.name = 'Phosphatidylmethylethanolamine'\n",
    "met.formula = 'C38H75N1O8P1'\n",
    "met.id = 'pme_c'\n",
    "met.charge = -1\n",
    "model.add_metabolites([met])"
   ]
  },
  {
   "cell_type": "code",
   "execution_count": 209,
   "metadata": {
    "collapsed": false
   },
   "outputs": [
    {
     "name": "stdout",
     "output_type": "stream",
     "text": [
      "MNXR84907_c: MNXM32126_c + ahcys_c + h_c --> amet_c + g3pe_c\n",
      "MNXR84907_c: amet_c + pe_MC_c --> ahcys_c + h_c + pme_c\n"
     ]
    }
   ],
   "source": [
    "rxn = model.reactions.get_by_id('MNXR84907_c')\n",
    "print rxn\n",
    "rxn.add_metabolites({model.metabolites.get_by_id(\"pe_MC_c\"): -1,\n",
    "                     model.metabolites.get_by_id(\"h_c\"): 1,\n",
    "                     model.metabolites.get_by_id(\"amet_c\"): -1,\n",
    "                     model.metabolites.get_by_id(\"ahcys_c\"): 1,\n",
    "                     model.metabolites.get_by_id(\"pme_c\"): 1,\n",
    "                     model.metabolites.get_by_id(\"g3pe_c\"): 0,\n",
    "                     model.metabolites.get_by_id(\"MNXM32126_c\"): 0},combine=False)\n",
    "print rxn\n",
    "rxn.upper_bound = 1000\n",
    "rxn.name = 'phosphatidyl-N-ethanolamine N-methyltransferase'\n",
    "rxn.id = 'PETOHM_MC_c'\n",
    "model.repair()\n"
   ]
  },
  {
   "cell_type": "code",
   "execution_count": 210,
   "metadata": {
    "collapsed": true
   },
   "outputs": [],
   "source": [
    "met = Metabolite('pdme_c')\n",
    "met.name = 'Phosphatidyldimethylethanolamine'\n",
    "met.formula = 'C39H78N1O8P1'\n",
    "met.charge = -1\n",
    "met.id = 'pdme_c'\n",
    "model.add_metabolites([met])"
   ]
  },
  {
   "cell_type": "code",
   "execution_count": 211,
   "metadata": {
    "collapsed": false
   },
   "outputs": [
    {
     "name": "stdout",
     "output_type": "stream",
     "text": [
      "MNXR85074_c: ahcys_c + h_c + ptd2meeta_SC_c --> MNXM32126_c + amet_c\n",
      "MNXR85074_c: ahcys_c + pme_c --> amet_c + h_c + pdme_c\n"
     ]
    }
   ],
   "source": [
    "rxn = model.reactions.get_by_id('MNXR85074_c')\n",
    "print rxn\n",
    "rxn.add_metabolites({model.metabolites.get_by_id(\"pme_c\"): -1,\n",
    "                     model.metabolites.get_by_id(\"h_c\"): 1,\n",
    "                     model.metabolites.get_by_id(\"ahcys_c\"): -1,\n",
    "                     model.metabolites.get_by_id(\"amet_c\"): 1,\n",
    "                     model.metabolites.get_by_id(\"pdme_c\"): 1,\n",
    "                     model.metabolites.get_by_id(\"ptd2meeta_SC_c\"): 0,\n",
    "                     model.metabolites.get_by_id(\"MNXM32126_c\"): 0},combine=False)\n",
    "print rxn\n",
    "rxn.upper_bound = 1000\n",
    "rxn.name = 'phosphatidyl-N-methylethanolamine N-methyltransferase'\n",
    "rxn.id = 'PMETM_MC_c'\n",
    "model.repair()\n"
   ]
  },
  {
   "cell_type": "code",
   "execution_count": 212,
   "metadata": {
    "collapsed": false
   },
   "outputs": [
    {
     "name": "stdout",
     "output_type": "stream",
     "text": [
      "MNXR84851_c: MNXM110_c + ahcys_c + h_c --> amet_c + ptd2meeta_SC_c\n",
      "MNXR84851_c: ahcys_c + pdme_c --> amet_c + h_c + pc_MC_c\n"
     ]
    }
   ],
   "source": [
    "rxn = model.reactions.get_by_id('MNXR84851_c')\n",
    "print rxn\n",
    "rxn.add_metabolites({model.metabolites.get_by_id(\"pdme_c\"): -1,\n",
    "                     model.metabolites.get_by_id(\"h_c\"): 1,\n",
    "                     model.metabolites.get_by_id(\"ahcys_c\"): -1,\n",
    "                     model.metabolites.get_by_id(\"amet_c\"): 1,\n",
    "                     model.metabolites.get_by_id(\"pc_MC_c\"): 1,\n",
    "                     model.metabolites.get_by_id(\"ptd2meeta_SC_c\"): 0,\n",
    "                     model.metabolites.get_by_id(\"MNXM110_c\"): 0},combine=False)\n",
    "print rxn\n",
    "rxn.upper_bound = 1000\n",
    "rxn.name = 'phosphatidyl-N-methylethanolamine N-methyltransferase'\n",
    "rxn.id = 'PMETM2_MC_c'\n",
    "model.repair()\n"
   ]
  },
  {
   "cell_type": "markdown",
   "metadata": {},
   "source": [
    "##### Cardiolipin"
   ]
  },
  {
   "cell_type": "code",
   "execution_count": 213,
   "metadata": {
    "collapsed": false
   },
   "outputs": [],
   "source": [
    "met = model.metabolites.clpn_MC_c\n",
    "met.name = 'Cardiolipin'\n",
    "met.formula = 'C41H76O17P2'\n",
    "met.charge = -2\n",
    "model.add_metabolites([met])"
   ]
  },
  {
   "cell_type": "code",
   "execution_count": 214,
   "metadata": {
    "collapsed": false
   },
   "outputs": [],
   "source": [
    "met = Metabolite('glyc_c')\n",
    "met.name = 'Glycerol'\n",
    "met.formula = 'C3H8O3'\n",
    "met.charge = 0\n",
    "model.add_metabolites([met])"
   ]
  },
  {
   "cell_type": "code",
   "execution_count": 215,
   "metadata": {
    "collapsed": false
   },
   "outputs": [
    {
     "name": "stdout",
     "output_type": "stream",
     "text": [
      "CLPNS_MC_c\n",
      "CLPNS_MC_c\n"
     ]
    }
   ],
   "source": [
    "rxn = Reaction('CLPNS_MC_c')\n",
    "print rxn\n",
    "rxn.add_metabolites({model.metabolites.get_by_id(\"pg_MC_c\"): -2,\n",
    "                     model.metabolites.get_by_id(\"glyc_c\"): 1,\n",
    "                     model.metabolites.get_by_id(\"clpn_MC_c\"): 1},combine=False)\n",
    "print rxn\n",
    "rxn.upper_bound = 1000\n",
    "rxn.name = 'Cardiolipin synthase'\n",
    "rxn.id = 'CLPNS_MC_c'\n",
    "model.add_reaction(rxn)"
   ]
  },
  {
   "cell_type": "code",
   "execution_count": 216,
   "metadata": {
    "collapsed": false
   },
   "outputs": [
    {
     "name": "stdout",
     "output_type": "stream",
     "text": [
      "DHAK_c: atp_c + dha_c --> adp_c + dhap_c + h_c\n"
     ]
    }
   ],
   "source": [
    "rxn = model.reactions.DHAK_c\n",
    "invert_reaction(rxn)\n",
    "rxn.upper_bound = 1000\n",
    "rxn.lower_bound = 0\n",
    "print rxn"
   ]
  },
  {
   "cell_type": "code",
   "execution_count": 217,
   "metadata": {
    "collapsed": false
   },
   "outputs": [
    {
     "name": "stdout",
     "output_type": "stream",
     "text": [
      "GLYCDx_c\n",
      "glyc_c + nad_c --> dha_c + h_c + nadh_c\n"
     ]
    }
   ],
   "source": [
    "rxn = Reaction('GLYCDx_c')\n",
    "print rxn\n",
    "rxn.add_metabolites({model.metabolites.get_by_id(\"glyc_c\"): -1,\n",
    "                     model.metabolites.get_by_id(\"nad_c\"): -1,\n",
    "                     model.metabolites.get_by_id(\"dha_c\"): 1,\n",
    "                     model.metabolites.get_by_id(\"h_c\"): 1,\n",
    "                     model.metabolites.get_by_id(\"nadh_c\"): 1},combine=False)\n",
    "rxn.upper_bound = 1000\n",
    "print rxn.reaction\n",
    "rxn.name = 'Glycerol dehydrogenase'\n",
    "rxn.id = 'GLYCDx_c'\n",
    "model.add_reaction(rxn)"
   ]
  },
  {
   "cell_type": "markdown",
   "metadata": {},
   "source": [
    "##### Peptidoglycan"
   ]
  },
  {
   "cell_type": "markdown",
   "metadata": {},
   "source": [
    "E. coli style peptidoglycan."
   ]
  },
  {
   "cell_type": "code",
   "execution_count": 218,
   "metadata": {
    "collapsed": true
   },
   "outputs": [],
   "source": [
    "rxn = model.reactions.PGAMT_c\n",
    "rxn.upper_bound = 1000\n",
    "rxn.lower_bound = -1000"
   ]
  },
  {
   "cell_type": "code",
   "execution_count": 219,
   "metadata": {
    "collapsed": false
   },
   "outputs": [
    {
     "name": "stdout",
     "output_type": "stream",
     "text": [
      "G1PACT_c: accoa_c + gam1p_c --> acgam1p_c + coa_c + h_c\n"
     ]
    }
   ],
   "source": [
    "rxn = model.reactions.G1PACT_c\n",
    "invert_reaction(rxn)\n",
    "rxn.upper_bound = 1000\n",
    "rxn.lower_bound = 0\n",
    "print rxn"
   ]
  },
  {
   "cell_type": "code",
   "execution_count": 220,
   "metadata": {
    "collapsed": false
   },
   "outputs": [
    {
     "name": "stdout",
     "output_type": "stream",
     "text": [
      "UAGDP_c: acgam1p_c + utp_c --> ppi_c + uacgam_c\n"
     ]
    }
   ],
   "source": [
    "rxn = model.reactions.UAGDP_c\n",
    "invert_reaction(rxn)\n",
    "rxn.upper_bound = 1000\n",
    "rxn.lower_bound = 0\n",
    "print rxn"
   ]
  },
  {
   "cell_type": "code",
   "execution_count": 221,
   "metadata": {
    "collapsed": false
   },
   "outputs": [
    {
     "name": "stdout",
     "output_type": "stream",
     "text": [
      "UAMAS_c: ala__L_c + atp_c + uamr_c --> adp_c + h_c + pi_c + uama_c\n"
     ]
    }
   ],
   "source": [
    "rxn = model.reactions.UAMAS_c\n",
    "invert_reaction(rxn)\n",
    "rxn.upper_bound = 1000\n",
    "rxn.lower_bound = 0\n",
    "print rxn"
   ]
  },
  {
   "cell_type": "code",
   "execution_count": 222,
   "metadata": {
    "collapsed": true
   },
   "outputs": [],
   "source": [
    "rxn = model.reactions.GLUR_c\n",
    "rxn.upper_bound = 1000\n",
    "rxn.lower_bound = -1000"
   ]
  },
  {
   "cell_type": "code",
   "execution_count": 223,
   "metadata": {
    "collapsed": false
   },
   "outputs": [
    {
     "name": "stdout",
     "output_type": "stream",
     "text": [
      "UAMAGS_c: atp_c + glu_D_c + uama_c --> adp_c + h_c + pi_c + uamag_c\n"
     ]
    }
   ],
   "source": [
    "rxn = model.reactions.UAMAGS_c\n",
    "invert_reaction(rxn)\n",
    "rxn.upper_bound = 1000\n",
    "rxn.lower_bound = 0\n",
    "print rxn"
   ]
  },
  {
   "cell_type": "code",
   "execution_count": 224,
   "metadata": {
    "collapsed": false
   },
   "outputs": [
    {
     "name": "stdout",
     "output_type": "stream",
     "text": [
      "UAAGDS_c: 26dap_M_c + atp_c + uamag_c --> adp_c + h_c + pi_c + ugmd_c\n"
     ]
    }
   ],
   "source": [
    "rxn = model.reactions.UAAGDS_c\n",
    "invert_reaction(rxn)\n",
    "rxn.upper_bound = 1000\n",
    "rxn.lower_bound = 0\n",
    "print rxn"
   ]
  },
  {
   "cell_type": "code",
   "execution_count": 225,
   "metadata": {
    "collapsed": false,
    "scrolled": true
   },
   "outputs": [
    {
     "name": "stdout",
     "output_type": "stream",
     "text": [
      "ALAALAr_c: 2.0 ala_D_c + atp_c --> adp_c + alaala_c + h_c + pi_c\n"
     ]
    }
   ],
   "source": [
    "rxn = model.reactions.ALAALAr_c\n",
    "invert_reaction(rxn)\n",
    "rxn.upper_bound = 1000\n",
    "rxn.lower_bound = 0\n",
    "print rxn"
   ]
  },
  {
   "cell_type": "code",
   "execution_count": 226,
   "metadata": {
    "collapsed": false
   },
   "outputs": [
    {
     "name": "stdout",
     "output_type": "stream",
     "text": [
      "UGMDDS_c: alaala_c + atp_c + ugmd_c --> adp_c + h_c + pi_c + ugmda_c\n"
     ]
    }
   ],
   "source": [
    "rxn = model.reactions.UGMDDS_c\n",
    "invert_reaction(rxn)\n",
    "rxn.upper_bound = 1000\n",
    "rxn.lower_bound = 0\n",
    "print rxn"
   ]
  },
  {
   "cell_type": "code",
   "execution_count": 227,
   "metadata": {
    "collapsed": false
   },
   "outputs": [
    {
     "name": "stdout",
     "output_type": "stream",
     "text": [
      "UGLDDS2_c: alaala_c + atp_c + uGgl_c --> adp_c + h_c + pi_c + uGgla_c\n"
     ]
    }
   ],
   "source": [
    "rxn = model.reactions.UGLDDS2_c\n",
    "invert_reaction(rxn)\n",
    "rxn.upper_bound = 1000\n",
    "rxn.lower_bound = 0\n",
    "print rxn"
   ]
  },
  {
   "cell_type": "code",
   "execution_count": 228,
   "metadata": {
    "collapsed": true
   },
   "outputs": [],
   "source": [
    "met = Metabolite('udcpp_c')\n",
    "met.name = 'Undecaprenyl phosphate'\n",
    "met.formula = 'C55H89O4P'\n",
    "met.charge = 0\n",
    "model.add_metabolites([met])"
   ]
  },
  {
   "cell_type": "code",
   "execution_count": 229,
   "metadata": {
    "collapsed": false
   },
   "outputs": [
    {
     "name": "stdout",
     "output_type": "stream",
     "text": [
      "MNXR56541_c: h2o_c + udcpdp_c --> MNXM89653_c + h_c + pi_c\n",
      "MNXR56541_c: h2o_c + udcpdp_c --> h_c + pi_c + udcpp_c\n"
     ]
    }
   ],
   "source": [
    "rxn = model.reactions.get_by_id('MNXR56541_c')\n",
    "print rxn\n",
    "rxn.add_metabolites({model.metabolites.get_by_id(\"MNXM89653_c\"): 0,\n",
    "                     model.metabolites.get_by_id(\"udcpp_c\"): 1},combine=False)\n",
    "print rxn\n",
    "rxn.upper_bound = 1000\n",
    "rxn.name = 'Undecaprenyl-diphosphatase'\n",
    "rxn.id = 'UDCPDP_c'\n",
    "model.repair()\n"
   ]
  },
  {
   "cell_type": "code",
   "execution_count": 230,
   "metadata": {
    "collapsed": false
   },
   "outputs": [
    {
     "name": "stdout",
     "output_type": "stream",
     "text": [
      "MNXR36199_c: MNXM89653_c + ugmda_c --> uagmda_c + ump_c\n",
      "MNXR36199_c: udcpp_c + ugmda_c --> uagmda_c + ump_c\n"
     ]
    }
   ],
   "source": [
    "rxn = model.reactions.get_by_id('MNXR36199_c')\n",
    "print rxn\n",
    "rxn.add_metabolites({model.metabolites.get_by_id(\"MNXM89653_c\"): 0,\n",
    "                     model.metabolites.get_by_id(\"udcpp_c\"): -1},combine=False)\n",
    "print rxn\n",
    "rxn.upper_bound = 1000\n",
    "rxn.name = 'Phospho-N-acetylmuramoyl-pentapeptide-transferase (meso-2,6-diaminopimelate)'\n",
    "rxn.id = 'PAPPT3_c'\n",
    "model.repair()\n"
   ]
  },
  {
   "cell_type": "code",
   "execution_count": 231,
   "metadata": {
    "collapsed": false
   },
   "outputs": [
    {
     "name": "stdout",
     "output_type": "stream",
     "text": [
      "UAGPT3_c: uacgam_c + uagmda_c --> h_c + uaagmda_c + udp_c\n"
     ]
    }
   ],
   "source": [
    "rxn = model.reactions.UAGPT3_c\n",
    "invert_reaction(rxn)\n",
    "rxn.upper_bound = 1000\n",
    "rxn.lower_bound = 0\n",
    "print rxn"
   ]
  },
  {
   "cell_type": "code",
   "execution_count": 232,
   "metadata": {
    "collapsed": false
   },
   "outputs": [
    {
     "name": "stdout",
     "output_type": "stream",
     "text": [
      "UAGPT2_c: uaGgla_c + uacgam_c --> h_c + uaaGgla_c + udp_c\n"
     ]
    }
   ],
   "source": [
    "rxn = model.reactions.UAGPT2_c\n",
    "invert_reaction(rxn)\n",
    "rxn.upper_bound = 1000\n",
    "rxn.lower_bound = 0\n",
    "print rxn"
   ]
  },
  {
   "cell_type": "code",
   "execution_count": 233,
   "metadata": {
    "collapsed": false
   },
   "outputs": [],
   "source": [
    "# Purely a modeling reaction which is meant to approximate the construction of\n",
    "# the peptido glycan (cell wall) mesh from subunits of Undecaprenyl-NAM(-NAG)-Penta\n",
    "\n",
    "met = Metabolite('peptido_MC_c')\n",
    "met.id = 'peptido_MC_c'\n",
    "met.formula = 'C39H63N8O19'\n",
    "met.charge = 0\n",
    "model.add_metabolites([met])\n",
    "\n",
    "\n",
    "rxn = Reaction('PPTGS_MC_c')\n",
    "rxn.add_metabolites({model.metabolites.get_by_id(\"uaagmda_c\"): -1,\n",
    "                     model.metabolites.get_by_id(\"h_c\"): 1,\n",
    "                     model.metabolites.get_by_id(\"udcpdp_c\"): 1,\n",
    "                     model.metabolites.get_by_id(\"peptido_MC_c\"): 1},combine=False)\n",
    "rxn.id = 'PPTGS_MC_c'\n",
    "rxn.upper_bound = 1000\n",
    "rxn.lower_bound = -1000\n",
    "rxn.name = 'Peptidoglycan subunit synthesis'\n",
    "model.add_reaction(rxn)"
   ]
  },
  {
   "cell_type": "markdown",
   "metadata": {},
   "source": [
    "#### Lipopolysaccharide Biosynthesis"
   ]
  },
  {
   "cell_type": "markdown",
   "metadata": {},
   "source": [
    "Assumed to be similar to E. Coli. Thus, the reactions were adapted from the model iJO1366."
   ]
  },
  {
   "cell_type": "code",
   "execution_count": 234,
   "metadata": {
    "collapsed": false
   },
   "outputs": [
    {
     "name": "stdout",
     "output_type": "stream",
     "text": [
      "G1PTT_c: dttp_c + g1p_c --> dtdpglu_c + ppi_c\n"
     ]
    }
   ],
   "source": [
    "rxn = model.reactions.G1PTT_c\n",
    "invert_reaction(rxn)\n",
    "rxn.upper_bound = 1000\n",
    "rxn.lower_bound = 0\n",
    "print rxn"
   ]
  },
  {
   "cell_type": "code",
   "execution_count": 235,
   "metadata": {
    "collapsed": false
   },
   "outputs": [
    {
     "name": "stdout",
     "output_type": "stream",
     "text": [
      "TDPGDH_c: dtdpglu_c --> dtdp4d6dg_c + h2o_c\n"
     ]
    }
   ],
   "source": [
    "rxn = model.reactions.TDPGDH_c\n",
    "invert_reaction(rxn)\n",
    "rxn.upper_bound = 1000\n",
    "rxn.lower_bound = 0\n",
    "print rxn"
   ]
  },
  {
   "cell_type": "code",
   "execution_count": 236,
   "metadata": {
    "collapsed": false
   },
   "outputs": [
    {
     "name": "stdout",
     "output_type": "stream",
     "text": [
      "TDPDRE_c: dtdp4d6dg_c <=> dtdp4d6dm_c\n"
     ]
    }
   ],
   "source": [
    "rxn = model.reactions.TDPDRE_c\n",
    "invert_reaction(rxn)\n",
    "rxn.upper_bound = 1000\n",
    "rxn.lower_bound = -1000\n",
    "print rxn"
   ]
  },
  {
   "cell_type": "code",
   "execution_count": 237,
   "metadata": {
    "collapsed": false
   },
   "outputs": [
    {
     "name": "stdout",
     "output_type": "stream",
     "text": [
      "GF6PTA_c: f6p_c + gln__L_c <=> gam6p_c + glu__L_c\n"
     ]
    }
   ],
   "source": [
    "rxn = model.reactions.GF6PTA_c\n",
    "rxn.upper_bound = 1000\n",
    "rxn.lower_bound = -1000\n",
    "print rxn"
   ]
  },
  {
   "cell_type": "markdown",
   "metadata": {},
   "source": [
    "Lipid A Synthesis"
   ]
  },
  {
   "cell_type": "code",
   "execution_count": 238,
   "metadata": {
    "collapsed": false
   },
   "outputs": [
    {
     "name": "stdout",
     "output_type": "stream",
     "text": [
      "UAGAAT_c: 3hmrsACP_c + uacgam_c --> ACP_c + u3aga_c\n"
     ]
    }
   ],
   "source": [
    "rxn = model.reactions.UAGAAT_c\n",
    "invert_reaction(rxn)\n",
    "rxn.upper_bound = 1000\n",
    "rxn.lower_bound = 0\n",
    "print rxn"
   ]
  },
  {
   "cell_type": "code",
   "execution_count": 239,
   "metadata": {
    "collapsed": false
   },
   "outputs": [
    {
     "name": "stdout",
     "output_type": "stream",
     "text": [
      "U23GAAT_c: 3hmrsACP_c + u3hga_c --> ACP_c + u23ga_c\n"
     ]
    }
   ],
   "source": [
    "rxn = model.reactions.U23GAAT_c\n",
    "invert_reaction(rxn)\n",
    "rxn.upper_bound = 1000\n",
    "rxn.lower_bound = 0\n",
    "print rxn"
   ]
  },
  {
   "cell_type": "code",
   "execution_count": 240,
   "metadata": {
    "collapsed": false
   },
   "outputs": [
    {
     "name": "stdout",
     "output_type": "stream",
     "text": [
      "USHD_c: h2o_c + u23ga_c --> 2.0 h_c + lipidX_c + ump_c\n"
     ]
    }
   ],
   "source": [
    "rxn = model.reactions.USHD_c\n",
    "invert_reaction(rxn)\n",
    "rxn.upper_bound = 1000\n",
    "rxn.lower_bound = 0\n",
    "print rxn"
   ]
  },
  {
   "cell_type": "code",
   "execution_count": 241,
   "metadata": {
    "collapsed": false
   },
   "outputs": [
    {
     "name": "stdout",
     "output_type": "stream",
     "text": [
      "LPADSS_c: lipidX_c + u23ga_c --> h_c + lipidAds_c + udp_c\n"
     ]
    }
   ],
   "source": [
    "rxn = model.reactions.LPADSS_c\n",
    "invert_reaction(rxn)\n",
    "rxn.upper_bound = 1000\n",
    "rxn.lower_bound = 0\n",
    "print rxn"
   ]
  },
  {
   "cell_type": "code",
   "execution_count": 242,
   "metadata": {
    "collapsed": false
   },
   "outputs": [
    {
     "name": "stdout",
     "output_type": "stream",
     "text": [
      "TDSK_c: atp_c + lipidAds_c --> adp_c + h_c + lipidA_c\n"
     ]
    }
   ],
   "source": [
    "rxn = model.reactions.TDSK_c\n",
    "invert_reaction(rxn)\n",
    "rxn.upper_bound = 1000\n",
    "rxn.lower_bound = 0\n",
    "print rxn"
   ]
  },
  {
   "cell_type": "code",
   "execution_count": 243,
   "metadata": {
    "collapsed": false
   },
   "outputs": [
    {
     "name": "stdout",
     "output_type": "stream",
     "text": [
      "MOAT_c: ckdo_c + lipidA_c --> cmp_c + h_c + kdolipid4_c\n"
     ]
    }
   ],
   "source": [
    "rxn = model.reactions.MOAT_c\n",
    "invert_reaction(rxn)\n",
    "rxn.upper_bound = 1000\n",
    "rxn.lower_bound = 0\n",
    "print rxn"
   ]
  },
  {
   "cell_type": "code",
   "execution_count": 244,
   "metadata": {
    "collapsed": false
   },
   "outputs": [
    {
     "name": "stdout",
     "output_type": "stream",
     "text": [
      "MOAT2_c: ckdo_c + kdolipid4_c --> cmp_c + h_c + kdo2lipid4_c\n"
     ]
    }
   ],
   "source": [
    "rxn = model.reactions.MOAT2_c\n",
    "invert_reaction(rxn)\n",
    "rxn.upper_bound = 1000\n",
    "rxn.lower_bound = 0\n",
    "print rxn"
   ]
  },
  {
   "cell_type": "markdown",
   "metadata": {},
   "source": [
    "CMP-3-deoxy-D-manno-octulosonate (ckdo) Biosynthesis"
   ]
  },
  {
   "cell_type": "code",
   "execution_count": 245,
   "metadata": {
    "collapsed": false
   },
   "outputs": [
    {
     "name": "stdout",
     "output_type": "stream",
     "text": [
      "A5PISO_c\n",
      "A5PISO_c\n"
     ]
    }
   ],
   "source": [
    "rxn = Reaction('A5PISO_c')\n",
    "print rxn\n",
    "rxn.add_metabolites({model.metabolites.get_by_id(\"ara5p_c\"): 1,\n",
    "                     model.metabolites.get_by_id(\"ru5p_D_c\"): -1},combine=False)\n",
    "print rxn\n",
    "rxn.upper_bound = 1000\n",
    "rxn.lower_bound = -1000\n",
    "rxn.name = 'Arabinose-5-phosphate isomerase'\n",
    "rxn.gene_reaction_rule = 'MCA0746'\n",
    "rxn.id = 'A5PISO_c'\n",
    "model.add_reaction(rxn)"
   ]
  },
  {
   "cell_type": "code",
   "execution_count": 246,
   "metadata": {
    "collapsed": false
   },
   "outputs": [
    {
     "name": "stdout",
     "output_type": "stream",
     "text": [
      "KDOPP_c: h2o_c + kdo8p_c --> kdo_c + pi_c\n"
     ]
    }
   ],
   "source": [
    "rxn = model.reactions.KDOPP_c\n",
    "invert_reaction(rxn)\n",
    "rxn.upper_bound = 1000\n",
    "rxn.lower_bound = 0\n",
    "print rxn"
   ]
  },
  {
   "cell_type": "code",
   "execution_count": 247,
   "metadata": {
    "collapsed": false
   },
   "outputs": [
    {
     "name": "stdout",
     "output_type": "stream",
     "text": [
      "KDOCT_c: ctp_c + kdo_c --> ckdo_c + h_c + ppi_c\n"
     ]
    }
   ],
   "source": [
    "rxn = model.reactions.KDOCT_c\n",
    "invert_reaction(rxn)\n",
    "rxn.upper_bound = 1000\n",
    "rxn.lower_bound = 0\n",
    "print rxn"
   ]
  },
  {
   "cell_type": "markdown",
   "metadata": {},
   "source": [
    "ADP-L-glycero-beta-D-manno-heptose Biosynthesis"
   ]
  },
  {
   "cell_type": "code",
   "execution_count": 248,
   "metadata": {
    "collapsed": false
   },
   "outputs": [
    {
     "name": "stdout",
     "output_type": "stream",
     "text": [
      "S7PI_c: s7p_c <=> gmhep7p_c\n"
     ]
    }
   ],
   "source": [
    "rxn = model.reactions.S7PI_c\n",
    "rxn.upper_bound = 1000\n",
    "rxn.lower_bound = -1000\n",
    "print rxn"
   ]
  },
  {
   "cell_type": "code",
   "execution_count": 249,
   "metadata": {
    "collapsed": false
   },
   "outputs": [
    {
     "name": "stdout",
     "output_type": "stream",
     "text": [
      "GMHEPK_c: atp_c + gmhep7p_c --> adp_c + gmhep17bp_c + h_c\n"
     ]
    }
   ],
   "source": [
    "rxn = model.reactions.GMHEPK_c\n",
    "invert_reaction(rxn)\n",
    "rxn.upper_bound = 1000\n",
    "rxn.lower_bound = 0\n",
    "print rxn"
   ]
  },
  {
   "cell_type": "code",
   "execution_count": 250,
   "metadata": {
    "collapsed": true
   },
   "outputs": [],
   "source": [
    "met = Metabolite('adphep_LD_c')\n",
    "met.name = 'ADP-L-glycero-D-manno-heptose'\n",
    "met.formula = 'C17H25N5O16P2'\n",
    "met.charge = -2\n",
    "met.id = 'adphep_LD_c'\n",
    "model.add_metabolites([met])"
   ]
  },
  {
   "cell_type": "code",
   "execution_count": 251,
   "metadata": {
    "collapsed": false
   },
   "outputs": [
    {
     "name": "stdout",
     "output_type": "stream",
     "text": [
      "AGMHE_GAPFILLING_c\n",
      "AGMHE_GAPFILLING_c\n"
     ]
    }
   ],
   "source": [
    "rxn = Reaction('AGMHE_GAPFILLING_c')\n",
    "print rxn\n",
    "rxn.add_metabolites({model.metabolites.get_by_id(\"adphep_LD_c\"): 1,\n",
    "                     model.metabolites.get_by_id(\"adphep_DD_c\"): -1},combine=False)\n",
    "print rxn\n",
    "rxn.upper_bound = 1000\n",
    "rxn.lower_bound = -1000\n",
    "rxn.name = 'ADP-D-glycero-D-manno-heptose epimerase'\n",
    "rxn.id = 'AGMHE_GAPFILLING_c'\n",
    "model.add_reaction(rxn)"
   ]
  },
  {
   "cell_type": "code",
   "execution_count": 252,
   "metadata": {
    "collapsed": false
   },
   "outputs": [
    {
     "name": "stdout",
     "output_type": "stream",
     "text": [
      "GALU_c: g1p_c + utp_c --> ppi_c + udpg_c\n"
     ]
    }
   ],
   "source": [
    "rxn = model.reactions.GALU_c\n",
    "invert_reaction(rxn)\n",
    "rxn.upper_bound = 1000\n",
    "rxn.lower_bound = 0\n",
    "print rxn"
   ]
  },
  {
   "cell_type": "code",
   "execution_count": 253,
   "metadata": {
    "collapsed": true
   },
   "outputs": [],
   "source": [
    "from cameo import models"
   ]
  },
  {
   "cell_type": "code",
   "execution_count": 254,
   "metadata": {
    "collapsed": true
   },
   "outputs": [],
   "source": [
    "model2 = models.bigg.iJO1366"
   ]
  },
  {
   "cell_type": "code",
   "execution_count": 255,
   "metadata": {
    "collapsed": false
   },
   "outputs": [],
   "source": [
    "lps_rxns = [x for x in model2.reactions if 'LPS' in x.name]\n",
    "endotoxin_rxns = [x for x in model2.reactions if 'Endotoxin Synthesis' in x.name]\n",
    "del endotoxin_rxns[-2:]\n",
    "transport_rxns = [x for x in model2.reactions if 'lipid A transport' in x.name]"
   ]
  },
  {
   "cell_type": "code",
   "execution_count": 256,
   "metadata": {
    "collapsed": false
   },
   "outputs": [],
   "source": [
    "x = lps_rxns + endotoxin_rxns + transport_rxns"
   ]
  },
  {
   "cell_type": "code",
   "execution_count": 257,
   "metadata": {
    "collapsed": false
   },
   "outputs": [],
   "source": [
    "model.add_reactions(x)"
   ]
  },
  {
   "cell_type": "code",
   "execution_count": 258,
   "metadata": {
    "collapsed": false
   },
   "outputs": [],
   "source": [
    "for rxn in x:\n",
    "    the_id = rxn.id\n",
    "    if rxn.id == model.reactions.get_by_id(the_id).id:\n",
    "        model.reactions.get_by_id(the_id).id = model.reactions.get_by_id(the_id).id + '_GAPFILLING_c'\n",
    "        model.repair()\n",
    "        "
   ]
  },
  {
   "cell_type": "code",
   "execution_count": 259,
   "metadata": {
    "collapsed": false
   },
   "outputs": [],
   "source": [
    "rxn = Reaction('EX_colipa_e')\n",
    "rxn.name = 'core oligosaccharide lipid A exchange'\n",
    "rxn.id = 'EX_colipa_e'\n",
    "rxn.add_metabolites({model.metabolites.get_by_id(\"colipa_e\"): -1},combine=False)\n",
    "model.add_reaction(rxn)"
   ]
  },
  {
   "cell_type": "markdown",
   "metadata": {},
   "source": [
    "#### NGAM"
   ]
  },
  {
   "cell_type": "code",
   "execution_count": 260,
   "metadata": {
    "collapsed": false
   },
   "outputs": [],
   "source": [
    "rxn = Reaction('NGAM_c')\n",
    "rxn.name = 'Non-growth associated maintenance'\n",
    "rxn.id = 'NGAM_c'\n",
    "rxn.add_metabolites({model.metabolites.get_by_id(\"atp_c\"): -1,\n",
    "                     model.metabolites.get_by_id(\"h2o_c\"): -1,\n",
    "                     model.metabolites.get_by_id(\"pi_c\"): 1,\n",
    "                     model.metabolites.get_by_id(\"h_c\"): 1,\n",
    "                     model.metabolites.get_by_id(\"adp_c\"): 1},combine=False)\n",
    "model.add_reaction(rxn)"
   ]
  },
  {
   "cell_type": "markdown",
   "metadata": {},
   "source": [
    "### Set upper limit of methane uptake rate (de la Torre et al.)"
   ]
  },
  {
   "cell_type": "code",
   "execution_count": 291,
   "metadata": {
    "collapsed": false
   },
   "outputs": [
    {
     "data": {
      "text/plain": [
       "[<Reaction nh3_in at 0x1136eb790>,\n",
       " <Reaction na1_in at 0x1136eb7d0>,\n",
       " <Reaction k_in at 0x1136eb810>,\n",
       " <Reaction mg2_in at 0x1136eb850>,\n",
       " <Reaction ca2_in at 0x1136eb890>,\n",
       " <Reaction so4_in at 0x1136eb8d0>,\n",
       " <Reaction pi_in at 0x1136eb950>,\n",
       " <Reaction h_in at 0x1136eb990>,\n",
       " <Reaction h2o_in at 0x1136eb9d0>,\n",
       " <Reaction o2_in at 0x1136eba50>,\n",
       " <Reaction ch4_in at 0x113703950>,\n",
       " <Reaction glycogen_in at 0x113703c90>,\n",
       " <Reaction Fe_in at 0x1143b0c90>]"
      ]
     },
     "execution_count": 291,
     "metadata": {},
     "output_type": "execute_result"
    }
   ],
   "source": [
    "[x for x in model.reactions if '_in' in x.id and x.upper_bound > 0]"
   ]
  },
  {
   "cell_type": "code",
   "execution_count": null,
   "metadata": {
    "collapsed": false
   },
   "outputs": [],
   "source": [
    "model.reactions.ch4_in.upper_bound = 18.46"
   ]
  },
  {
   "cell_type": "code",
   "execution_count": 315,
   "metadata": {
    "collapsed": false,
    "scrolled": true
   },
   "outputs": [],
   "source": [
    "#solution = show_uptake_excretion(model,model.reactions.get_by_id('pyr_out'))"
   ]
  },
  {
   "cell_type": "code",
   "execution_count": 264,
   "metadata": {
    "collapsed": false
   },
   "outputs": [],
   "source": [
    "# print (model.reactions.G1PTT_c.check_mass_balance())"
   ]
  },
  {
   "cell_type": "code",
   "execution_count": 265,
   "metadata": {
    "collapsed": false
   },
   "outputs": [],
   "source": [
    "# solution = show_uptake_excretion(model,model.reactions.get_by_id('uaaGgla_out'))"
   ]
  },
  {
   "cell_type": "markdown",
   "metadata": {},
   "source": [
    "------"
   ]
  },
  {
   "cell_type": "markdown",
   "metadata": {},
   "source": [
    "## Testing"
   ]
  },
  {
   "cell_type": "code",
   "execution_count": 370,
   "metadata": {
    "collapsed": false
   },
   "outputs": [
    {
     "name": "stdout",
     "output_type": "stream",
     "text": [
      "nh3_in 2.22267257212\n",
      "pi_in 0.260373130823\n",
      "o2_in 27.6095107568\n",
      "h_out 2.28229448305\n",
      "co2_out 9.55563640459\n",
      "h2o_out 32.1244768499\n",
      "ch4_in 18.405\n",
      "BIOMASS_REACTION 0.196228824448\n"
     ]
    }
   ],
   "source": [
    "solution = show_uptake_excretion(model,model.reactions.get_by_id('BIOMASS_REACTION'))"
   ]
  },
  {
   "cell_type": "code",
   "execution_count": 371,
   "metadata": {
    "collapsed": false
   },
   "outputs": [
    {
     "data": {
      "text/plain": [
       "[('FBA_c', 1.5479549140095028),\n",
       " ('TPI_c', 1.5218564803578762),\n",
       " ('PGI_c', 0.049322115025085086),\n",
       " ('MNXR26374_c', 0.13298547524904372),\n",
       " ('PRPPS_c', 0.1994363925864805),\n",
       " ('RPI_c', 2.770878549946154),\n",
       " ('TKT2_c', 3.0521914195336954),\n",
       " ('TALA_c', 2.9718847731282207),\n",
       " ('MNXR5933_c', 7.6456855959280965),\n",
       " ('MNXR85335_c', 7.6456855959280965),\n",
       " ('ACOATA_c', 0.04466168044443746),\n",
       " ('KAS14_c', 0.04466168044443746),\n",
       " ('3OAS160_c', 0.039162563868097806),\n",
       " ('3OAS140_c', 0.044269222795540866),\n",
       " ('3OAS120_c', 0.044661680444437496),\n",
       " ('3OAS100_c', 0.04466168044443749),\n",
       " ('3OAS80_c', 0.04466168044443748),\n",
       " ('3OAS60_c', 0.044661680444437475),\n",
       " ('EAR160x_c', 0.039162563868097806),\n",
       " ('3HAD160_c', 0.039162563868097806),\n",
       " ('3OAR160_c', 0.039162563868097806),\n",
       " ('EAR140x_c', 0.04269939219995431),\n",
       " ('3HAD140_c', 0.04269939219995431),\n",
       " ('3OAR140_c', 0.04426922279554087),\n",
       " ('EAR120x_c', 0.0446616804444375),\n",
       " ('3HAD120_c', 0.0446616804444375),\n",
       " ('3OAR120_c', 0.0446616804444375),\n",
       " ('EAR100x_c', 0.044661680444437496),\n",
       " ('3OAR100_c', 0.044661680444437496),\n",
       " ('EAR80x_c', 0.04466168044443749),\n",
       " ('3HAD80_c', 0.04466168044443748),\n",
       " ('3OAR80_c', 0.04466168044443749),\n",
       " ('EAR60x_c', 0.044661680444437475),\n",
       " ('3HAD60_c', 0.044661680444437475),\n",
       " ('3OAR60_c', 0.04466168044443747),\n",
       " ('EAR40x_c', 0.04466168044443747),\n",
       " ('3HAD40_1_c', 0.04466168044443747),\n",
       " ('3OAR40_1_c', 0.04466168044443746),\n",
       " ('MCOATA_c', 0.3161163945756156),\n",
       " ('GLUPRT_c', 0.07636324372309454),\n",
       " ('PRAGS_c', 0.07636324372309455),\n",
       " ('PRAIS_c', 0.07636324372309454),\n",
       " ('ADSL2_c', 0.07635735685836109),\n",
       " ('PRASCS_c', 0.0763573568583611),\n",
       " ('ADK1_c', 4.683649489611429),\n",
       " ('ADSL1_c', 0.08394160092328862),\n",
       " ('ADSS_c', 0.08394160092328862),\n",
       " ('IMPD_c', 0.012823553677697684),\n",
       " ('GMPS2_c', 0.012823553677697686),\n",
       " ('ADSK_c', 0.04315111095383454),\n",
       " ('PRFGS_c', 0.07636324372309455),\n",
       " ('NTPP6_c', 4.286799431160878),\n",
       " ('GTPOPm_c', 0.17356439522453737),\n",
       " ('IMPC_c', 0.09676515460098631),\n",
       " ('AIRC2_c', 0.0763573568583611),\n",
       " ('AIRC3_c', 0.0763573568583611),\n",
       " ('UMPK_c', 0.0859859010426535),\n",
       " ('CBPS_c', 0.13896768364369974),\n",
       " ('ASPCT_c', 0.08304246867592871),\n",
       " ('DHORTS_c', 0.0830424686759287),\n",
       " ('DHORDfum_c', 0.08304246867592871),\n",
       " ('ORPT_c', 0.0830424686759287),\n",
       " ('NDPK2_c', 0.09560111344062114),\n",
       " ('CTPS2_c', 0.07244611215571943),\n",
       " ('TRDR_c', 0.05325689541292298),\n",
       " ('OMPDC_c', 0.0830424686759287),\n",
       " ('ASPTA_c', 0.6339219504195451),\n",
       " ('ARGSS_c', 0.05592521496777105),\n",
       " ('ARGSL_c', 0.05592521496777104),\n",
       " ('GLUSx_c', 3.647799079745779),\n",
       " ('GF6PTA_c', 0.021585170689315137),\n",
       " ('ASPK_c', 0.19583675925707172),\n",
       " ('PSERT_c', 2.2898257335544394),\n",
       " ('PSP__L_c', 2.2898257335544394),\n",
       " ('GHMT2_c', 0.17118493627301146),\n",
       " ('THRD__L_c', 0.052154089419523236),\n",
       " ('THRS_c', 0.10533210084501782),\n",
       " ('ASAD_c', 0.1958367592570717),\n",
       " ('HSDy_c', 0.13088501836467795),\n",
       " ('PSSA_MC_c', 0.01746436537590043),\n",
       " ('SHSL2r_c', 0.025552917519660164),\n",
       " ('METS_c', 0.028440620900239858),\n",
       " ('CYSS_c', 0.017598193434174365),\n",
       " ('SERAT_c', 0.017598193434174365),\n",
       " ('HSST_c', 0.025552917519660164),\n",
       " ('ILETA_c', 0.047487375516493305),\n",
       " ('KARI_23dhmp_c', 0.0474873755164933),\n",
       " ('IPPS_c', 0.08143496214605259),\n",
       " ('DHAD1_c', 0.16079617807533547),\n",
       " ('KARI_c', 0.0474873755164933),\n",
       " ('DHAD2_c', 0.047487375516493305),\n",
       " ('ACHBS_c', 0.0474873755164933),\n",
       " ('ACLS_c', 0.1607961780753355),\n",
       " ('UGMDDS_c', 0.010400127695760932),\n",
       " ('MNXR61396_c', 0.06495174089239376),\n",
       " ('DHDPRy_c', 0.06495174089239376),\n",
       " ('THDPS_c', 0.06495174089239375),\n",
       " ('SDPTA_c', 0.06495174089239376),\n",
       " ('SDPDS_c', 0.06495174089239375),\n",
       " ('DAPE_c', 0.06495174089239375),\n",
       " ('DAPDC_c', 0.05455161319663282),\n",
       " ('UAAGDS_c', 0.01040012769576093),\n",
       " ('ACGS_c', 0.055925214967771066),\n",
       " ('ACGK_c', 0.055925214967771066),\n",
       " ('AGPR_c', 0.05592521496777105),\n",
       " ('ACOTA_c', 0.05592521496777105),\n",
       " ('ACODA_c', 0.055925214967771045),\n",
       " ('GLU5K_c', 0.04866474846318323),\n",
       " ('G5SD_c', 0.04866474846318323),\n",
       " ('ATPPRT_c', 0.020407797742625227),\n",
       " ('HSTPT_c', 0.020407797742625224),\n",
       " ('IGPDH_c', 0.020407797742625227),\n",
       " ('PRMICI_c', 0.020407797742625224),\n",
       " ('PRAMPC_c', 0.020407797742625227),\n",
       " ('PRATPP_c', 0.020407797742625227),\n",
       " ('IG3PS_c', 0.020407797742625224),\n",
       " ('TYRTA_c', 0.0608368224437124),\n",
       " ('DDPA_c', 0.08050287522992247),\n",
       " ('CHORS_c', 0.08050287522992246),\n",
       " ('G3PL_c', 0.018249280673693705),\n",
       " ('TRPS2_c', 0.018249280673693708),\n",
       " ('IGPS_c', 0.018249280673693708),\n",
       " ('PRAI_c', 0.01824928067369371),\n",
       " ('ANPRT_c', 0.018249280673693705),\n",
       " ('ANS2_c', 0.018249280673693705),\n",
       " ('CHORM_c', 0.062210424214850714),\n",
       " ('PPNDH_c', 0.036302332522939094),\n",
       " ('PPND_c', 0.025908091691911616),\n",
       " ('PSCVT_c', 0.08050287522992246),\n",
       " ('SHKK_c', 0.08050287522992246),\n",
       " ('SHK3D_c', 0.08050287522992246),\n",
       " ('DHQD_c', 0.08050287522992246),\n",
       " ('DHQS_c', 0.08050287522992247),\n",
       " ('UAMAS_c', 0.01040012769576093),\n",
       " ('UAMAGS_c', 0.010400127695760928),\n",
       " ('GLUR_c', 0.08611541206679547),\n",
       " ('ALAALAr_c', 0.010400127695760932),\n",
       " ('ALATA_D_c', 0.07571528437103454),\n",
       " ('UAGDP_c', 0.02158517068931514),\n",
       " ('G1PACT_c', 0.02158517068931514),\n",
       " ('UAGCVT_c', 0.010400127695760928),\n",
       " ('MNXR56251_c', 0.010400127695760928),\n",
       " ('HEX1_c', 0.04886097728763154),\n",
       " ('UDCPDP_c', 0.010400127695760934),\n",
       " ('PAPPT3_c', 0.010400127695760934),\n",
       " ('UAGPT3_c', 0.010400127695760934),\n",
       " ('APG3PAT_MC_c', 0.021388941864866826),\n",
       " ('G3PAT_MC_c', 0.021388941864866826),\n",
       " ('G3PD1_c', 0.025313518353833213),\n",
       " ('PHCYT_MC_c', 0.021388941864866822),\n",
       " ('PSD_MC_c', 0.01746436537590043),\n",
       " ('ACCOAC_c', 0.3161163945756156),\n",
       " ('FDH_c', 10.663644206311341),\n",
       " ('FGFTh_c', 0.07636324372309454),\n",
       " ('MTHFR3_c', 0.028440620900239858),\n",
       " ('MNXR17799_c', 1.31538618510523),\n",
       " ('MNXR17800_c', 1.3153861851052295),\n",
       " ('MNXR5519_c', 1.3153861851052295),\n",
       " ('MNXR6072_c', 1.3153861851052298),\n",
       " ('MNXR17801_c', 1.3153861851052295),\n",
       " ('sMMO_c', 8.961071781033322),\n",
       " ('PRUK_c', 1.1455996676627889),\n",
       " ('RBPC_c', 1.1455996676627886),\n",
       " ('KARA1_c', 0.1607961780753355),\n",
       " ('DXPS_c', 0.036849810943145184),\n",
       " ('DXPRIi_c', 0.03684392407841173),\n",
       " ('MEPCT_c', 0.03684392407841173),\n",
       " ('CDPMEK_c', 0.03684392407841173),\n",
       " ('MECDPS_c', 0.03684392407841173),\n",
       " ('DMPPS_c', 0.012209357457173846),\n",
       " ('IPDPS_c', 0.02463456662123789),\n",
       " ('DMATT_c', 0.012209357457173848),\n",
       " ('GRTT_c', 0.012209357457173848),\n",
       " ('MNXR84805_c', 0.18165022371222692),\n",
       " ('HCO3E_c', 1.1973647510984378),\n",
       " ('PAPR_c', 0.043151110953834525),\n",
       " ('SULR_c', 0.04315111095383453),\n",
       " ('ACONT_c', 0.031020221478974718),\n",
       " ('ASNN_c', 0.023351230109350012),\n",
       " ('MNXR5732_c', 0.08143496214605257),\n",
       " ('MNXR14818_c', 0.07064237680139498),\n",
       " ('MNXR84844_c', 0.04866474846318322),\n",
       " ('AICART2_c', 0.09676515460098634),\n",
       " ('MNXR14750_c', 0.05491502897951268),\n",
       " ('PDH_c', 0.41990375856712114),\n",
       " ('PC_c', 0.6659233160207614),\n",
       " ('MNXR73445_c', 0.03492873075180078),\n",
       " ('SLFAT_c', 0.04315111095383454),\n",
       " ('MNXR9724_c', 0.04309187339631566),\n",
       " ('ICDHy_c', 0.03102022147897472),\n",
       " ('FBP_c', 3.214172369363529),\n",
       " ('ALATA_L_c', 0.15207145208271414),\n",
       " ('NITR_c', 0.18165022371222692),\n",
       " ('MNXR5662_c', 0.08143496214605257),\n",
       " ('MNXR6217_c', 0.08143496214605259),\n",
       " ('nh3_in', 2.2226725721229537),\n",
       " ('so4_in', 0.04315111095383454),\n",
       " ('pi_in', 0.2603731308230336),\n",
       " ('o2_in', 27.609510756764124),\n",
       " ('h_out', 2.2822944830458427),\n",
       " ('co2_out', 9.555636404589634),\n",
       " ('h2o_out', 32.124476849873794),\n",
       " ('ACP_out', 0.023333569515149786),\n",
       " ('cmp_out', 0.05458928913092233),\n",
       " ('pap_out', 0.043151110953834525),\n",
       " ('MNXM4297_out', 0.05491502897951267),\n",
       " ('BIOMASS_REACTION', 0.1962288244483195),\n",
       " ('pMMO_im', 9.443928218966679),\n",
       " ('MEOHDH_cyt_p', 18.405),\n",
       " ('CH4t_im', 8.961071781033322),\n",
       " ('ch4_in', 18.405),\n",
       " ('FALDt_im', 18.405),\n",
       " ('FALDDH_im', 9.443928218966677),\n",
       " ('CyLCyHOx_p', 36.81),\n",
       " ('CYTCBD_im', 9.202499999999999),\n",
       " ('ATPSh_im', 18.404999999999998),\n",
       " ('h2ot_im', 9.44392821896668),\n",
       " ('PGCD_GAPFILLING_c', 2.2898257335544394),\n",
       " ('HSK_GAPFILLING_c', 0.10533210084501782),\n",
       " ('HISTP_GAPFILLING_c', 0.020407797742625224),\n",
       " ('HISTD_GAPFILLING_c', 0.020407797742625224),\n",
       " ('MTHFD_GAPFILLING_c', 0.07636324372309455),\n",
       " ('G5SADs_GAPFILLING_c', 0.04866474846318323),\n",
       " ('OCT_GAPFILLING_c', 0.05592521496777105),\n",
       " ('FA160ACPHi_c', 0.03865276138218107),\n",
       " ('MECDPDH5_c', 0.036843924078411736),\n",
       " ('PFOR_c', 0.07368784815682347),\n",
       " ('MC_Average_FattyAcid_c', 0.042777883729733644),\n",
       " ('MC_AFAA_c', 0.04277788372973365),\n",
       " ('PPTGS_MC_c', 0.010400127695760932)]"
      ]
     },
     "execution_count": 371,
     "metadata": {},
     "output_type": "execute_result"
    }
   ],
   "source": [
    "[(k,v) for k,v in solution.fluxes.items() if v >= 0.01]"
   ]
  },
  {
   "cell_type": "code",
   "execution_count": 372,
   "metadata": {
    "collapsed": false
   },
   "outputs": [],
   "source": [
    "from cameo.util import TimeMachine"
   ]
  },
  {
   "cell_type": "code",
   "execution_count": 373,
   "metadata": {
    "collapsed": false
   },
   "outputs": [
    {
     "name": "stdout",
     "output_type": "stream",
     "text": [
      "[] 0\n"
     ]
    }
   ],
   "source": [
    "non_producable = []\n",
    "for metabolite in model.reactions.BIOMASS_REACTION.metabolites:\n",
    "    with TimeMachine() as tm:\n",
    "        rxn = model.add_demand(metabolite,time_machine=tm)\n",
    "        model.objective = rxn\n",
    "        solution = model.solve()\n",
    "        if solution.f <= 1e-6:\n",
    "            non_producable.append(met.id)\n",
    "print non_producable , len(non_producable)"
   ]
  },
  {
   "cell_type": "code",
   "execution_count": 268,
   "metadata": {
    "collapsed": false
   },
   "outputs": [],
   "source": [
    "# import escher\n",
    "        \n",
    "# maps = escher.Builder(\n",
    "#                     model=model,\n",
    "#                     map_name = 'Methylococcus capsulatus genome-scale metabolic model',\n",
    "#                     map_json='/Users/clie/Desktop/EFPro2/Reconstructions/Metabolic Map/10UpdateMiscCofactors.json',\n",
    "#                     reaction_data=solution.fluxes,\n",
    "#                     show_gene_reaction_rules=True,\n",
    "#                     use_3d_transform = True,\n",
    "#                     )\n",
    "\n",
    "# # maps.set_reaction_scale([ { 'type': 'min', 'color': 'rgb(235,89,162)', 'size': 12 },\n",
    "# #    { 'type': 'median', 'color': 'rgb(200,200,200)', 'size': 20 },\n",
    "# #    { 'type': 'max', 'color': 'rgb(255,255,109)', 'size': 25 } ])\n",
    "# maps.display_in_browser()"
   ]
  },
  {
   "cell_type": "markdown",
   "metadata": {},
   "source": [
    "-----------"
   ]
  },
  {
   "cell_type": "markdown",
   "metadata": {},
   "source": [
    "## Export"
   ]
  },
  {
   "cell_type": "markdown",
   "metadata": {},
   "source": [
    "Clean up the Unicode RXNs and METs that I erroneously introduced by copying from iJO1366 (which subsequently cause an error when exporting because Python 2 distinguishes between a unicode str and str)"
   ]
  },
  {
   "cell_type": "code",
   "execution_count": 374,
   "metadata": {
    "collapsed": false
   },
   "outputs": [],
   "source": [
    "import six\n",
    "for met in model.metabolites:\n",
    "    for attr_name, attr in met.__dict__.items():\n",
    "        if isinstance(attr, six.string_types):\n",
    "            setattr(met, attr_name, str(attr))"
   ]
  },
  {
   "cell_type": "code",
   "execution_count": 375,
   "metadata": {
    "collapsed": true
   },
   "outputs": [],
   "source": [
    "import six\n",
    "for rxn in model.reactions:\n",
    "    for attr_name, attr in rxn.__dict__.items():\n",
    "        if isinstance(attr, six.string_types):\n",
    "            setattr(rxn, attr_name, str(attr))"
   ]
  },
  {
   "cell_type": "code",
   "execution_count": 376,
   "metadata": {
    "collapsed": false,
    "scrolled": true
   },
   "outputs": [],
   "source": [
    "target_filename_json = relative_directory + '/Reconstructions/MethylococcusModel7.json'\n",
    "target_filename_xml = relative_directory + '/Reconstructions/MethylococcusModel7.xml'\n",
    "cobra.io.write_legacy_sbml(model, target_filename_xml, use_fbc_package=False)\n",
    "cobra.io.save_json_model(model, target_filename_json)"
   ]
  },
  {
   "cell_type": "code",
   "execution_count": null,
   "metadata": {
    "collapsed": true
   },
   "outputs": [],
   "source": []
  }
 ],
 "metadata": {
  "kernelspec": {
   "display_name": "Python 2",
   "language": "python",
   "name": "python2"
  },
  "language_info": {
   "codemirror_mode": {
    "name": "ipython",
    "version": 2
   },
   "file_extension": ".py",
   "mimetype": "text/x-python",
   "name": "python",
   "nbconvert_exporter": "python",
   "pygments_lexer": "ipython2",
   "version": "2.7.9"
  }
 },
 "nbformat": 4,
 "nbformat_minor": 0
}
