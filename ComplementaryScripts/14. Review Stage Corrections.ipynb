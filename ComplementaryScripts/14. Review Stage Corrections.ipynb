{
 "cells": [
  {
   "cell_type": "markdown",
   "metadata": {},
   "source": [
    "# Amendments "
   ]
  },
  {
   "cell_type": "markdown",
   "metadata": {},
   "source": [
    "### Requirements\n",
    "```\n",
    "python                    3.6\n",
    "cobra                     0.13.4\n",
    "memote                    0.8.6\n",
    "jupyter                   1.0.0\n",
    "Escher                    1.6.0\n",
    "```"
   ]
  },
  {
   "cell_type": "code",
   "execution_count": 1,
   "metadata": {
    "collapsed": true
   },
   "outputs": [],
   "source": [
    "from cobra.io import read_sbml_model,write_sbml_model\n",
    "from os import getcwd\n",
    "import warnings"
   ]
  },
  {
   "cell_type": "code",
   "execution_count": 2,
   "metadata": {
    "collapsed": true
   },
   "outputs": [],
   "source": [
    "with warnings.catch_warnings():\n",
    "    warnings.simplefilter(\"ignore\", UserWarning)\n",
    "    mcaps = read_sbml_model('../ModelFiles/xml/iMcBath.xml')"
   ]
  },
  {
   "cell_type": "code",
   "execution_count": 3,
   "metadata": {
    "collapsed": true
   },
   "outputs": [],
   "source": [
    "from cobra import Reaction, Metabolite"
   ]
  },
  {
   "cell_type": "markdown",
   "metadata": {},
   "source": [
    "Reopen previously constrained reactions (as a consequence of discovering that without this no growth on CO2 + H2 was possible)"
   ]
  },
  {
   "cell_type": "code",
   "execution_count": 4,
   "metadata": {
    "collapsed": true
   },
   "outputs": [],
   "source": [
    "mcaps.reactions.PGK.bounds = -1000, 1000\n",
    "mcaps.reactions.GAPD.bounds = -1000, 1000\n",
    "mcaps.reactions.GAPDH_nadp.bounds = -1000, 1000"
   ]
  },
  {
   "cell_type": "markdown",
   "metadata": {},
   "source": [
    "## Growth on Amino Acids as Nitrogen Source:\n",
    "\n",
    "In accordance with the low-copper growth conditions used by Patel et al [1], the sMMO is active. In absence of extracellular NH3 both GS/GOGAT and ADH operate according to [2], hence the reactions GLNS and ALAD_L were constrained to allow flux.\n",
    "\n",
    "[1] Patel, R. N., and Hoare, D. S. (1971). Oxidation of C-1 Compounds capsulatus Physiological Studies of Methane and Methanol- Oxidizing Bacteria : Oxidation of C-1 Compounds by Methylococcus caps ulatus. J. Bacteriol. 107, 187–192.\n",
    "\n",
    "[2] Murrell, J. C., and Dalton, H. (1983). Ammonia Assimilation in Methylococcus-Capsulatus (Bath) and Other Obligate Methanotrophs. J. Gen. Microbiol. 129, 1197–1206. doi:10.1099/00221287-129-4-1197."
   ]
  },
  {
   "cell_type": "code",
   "execution_count": 5,
   "metadata": {
    "collapsed": true
   },
   "outputs": [],
   "source": [
    "# Switch medium to NO3, and sMMO utilization\n",
    "mcaps.reactions.EX_n2_e.bounds = 0, 0\n",
    "mcaps.reactions.PMMOipp.bounds = 0, 0\n",
    "mcaps.reactions.PMMODCipp.bounds = 0, 0\n",
    "mcaps.reactions.CYOR_q8ppi.bounds = 0, 1000\n",
    "mcaps.reactions.EX_no3_e.bounds = -1000, 1000\n",
    "mcaps.reactions.SMMOi.bounds = 0, 1000\n",
    "mcaps.reactions.GLNS.bounds = 0, 1000\n",
    "mcaps.reactions.ALAD_L.bounds = 0, 1000"
   ]
  },
  {
   "cell_type": "code",
   "execution_count": 6,
   "metadata": {
    "collapsed": true
   },
   "outputs": [],
   "source": [
    "from math import log\n",
    "\n",
    "def dt2gr(dt):\n",
    "    print (log(2)/ dt)"
   ]
  },
  {
   "cell_type": "code",
   "execution_count": 7,
   "metadata": {},
   "outputs": [
    {
     "name": "stdout",
     "output_type": "stream",
     "text": [
      "0.11552453009332421\n",
      "0.08664339756999316\n",
      "0.07701635339554948\n",
      "0.10663802777845312\n",
      "0.10663802777845312\n",
      "0.08664339756999316\n",
      "0.10663802777845312\n",
      "0.10663802777845312\n",
      "0.07296286111157319\n"
     ]
    }
   ],
   "source": [
    "# Doubling times measured by [1] converted into growth rates\n",
    "\n",
    "# nit\n",
    "dt2gr(6)\n",
    "# amm\n",
    "dt2gr(8)\n",
    "# l_ala\n",
    "dt2gr(9)\n",
    "# l_asp\n",
    "dt2gr(6.5)\n",
    "# l_asn\n",
    "dt2gr(6.5)\n",
    "# l_cys\n",
    "dt2gr(8)\n",
    "# l_glu\n",
    "dt2gr(6.5)\n",
    "# l_gln\n",
    "dt2gr(6.5)\n",
    "# l_val\n",
    "dt2gr(9.5)"
   ]
  },
  {
   "cell_type": "markdown",
   "metadata": {},
   "source": [
    "Implement Mercaptopyruvate sulfurtransferase to allow the conversion of cysteine into pyruvate via mercaptopyruvate."
   ]
  },
  {
   "cell_type": "code",
   "execution_count": 8,
   "metadata": {
    "collapsed": true
   },
   "outputs": [],
   "source": [
    "cyan = Metabolite(id='cyan_c', name='Hydrogen cyanide', charge=0, compartment='c', formula='CHN')\n",
    "cyan.annotation = {'kegg.compound': [\"C00177\", \"C01326\", \"C18673\"],\n",
    "\"metanetx.chemical\": \"MNXM254\",\n",
    "\"seed.compound\": [\"cpd00150\", \"cpd19012\"],\n",
    "\"biocyc\": [\"META:CPD-13584\", \"META:HCN\"],\n",
    "\"chebi\": [\"CHEBI:13362\", \"CHEBI:14038\", \"CHEBI:17514\", \"CHEBI:18407\", \"CHEBI:36856\", \"CHEBI:3969\", \"CHEBI:41780\", \"CHEBI:5786\"],\n",
    "\"hmdb\": \"HMDB60292\"}"
   ]
  },
  {
   "cell_type": "code",
   "execution_count": 9,
   "metadata": {
    "collapsed": true
   },
   "outputs": [],
   "source": [
    "tcynt = Metabolite(id='tcynt_c', name='Thiocyanate', charge=-1, compartment='c', formula='CNS')\n",
    "cyan.annotation = {'kegg.compound': \"C01755\",\n",
    "\"metanetx.chemical\": \"MNXM762\",\n",
    "\"seed.compound\": \"cpd01211\",\n",
    "\"biocyc\": \"META:CPD-19512\",\n",
    "\"chebi\": [\"CHEBI:15234\", \"CHEBI:18022\", \"CHEBI:24926\", \"CHEBI:24928\", \"CHEBI:26954\", \"CHEBI:26956\", \"CHEBI:29200\", \"CHEBI:45576\", \"CHEBI:9550\"],\n",
    "\"hmdb\": \"HMDB01453\"}"
   ]
  },
  {
   "cell_type": "code",
   "execution_count": 10,
   "metadata": {
    "collapsed": true
   },
   "outputs": [],
   "source": [
    "rxn = Reaction('MCPST')\n",
    "rxn.add_metabolites({mcaps.metabolites.mercppyr_c: -1,\n",
    "                    cyan: -1,\n",
    "                    mcaps.metabolites.h_c: 1,\n",
    "                    mcaps.metabolites.pyr_c: 1,\n",
    "                    tcynt: 1},combine=False)\n",
    "rxn.name = '3-mercaptopyruvate sulfurtransferase'\n",
    "rxn.id = 'MCPST'\n",
    "rxn.annotation = {\n",
    " u'biocyc': u'META:MERCAPYSTRANS-RXN',\n",
    " u'brenda': u'2.8.1.2',\n",
    " u'kegg.reaction': u'R03106',\n",
    " u'metanetx.reaction': u'MNXR101422'}\n",
    "rxn.gene_reaction_rule = 'MCA1555'\n",
    "\n",
    "mcaps.add_reaction(rxn)"
   ]
  },
  {
   "cell_type": "code",
   "execution_count": 11,
   "metadata": {},
   "outputs": [
    {
     "data": {
      "text/html": [
       "\n",
       "        <table>\n",
       "            <tr>\n",
       "                <td><strong>Reaction identifier</strong></td><td>DM_tcynt_c</td>\n",
       "            </tr><tr>\n",
       "                <td><strong>Name</strong></td><td>Thiocyanate demand</td>\n",
       "            </tr><tr>\n",
       "                <td><strong>Memory address</strong></td>\n",
       "                <td>0x0113d4b860</td>\n",
       "            </tr><tr>\n",
       "                <td><strong>Stoichiometry</strong></td>\n",
       "                <td>\n",
       "                    <p style='text-align:right'>tcynt_c --> </p>\n",
       "                    <p style='text-align:right'>Thiocyanate --> </p>\n",
       "                </td>\n",
       "            </tr><tr>\n",
       "                <td><strong>GPR</strong></td><td></td>\n",
       "            </tr><tr>\n",
       "                <td><strong>Lower bound</strong></td><td>0</td>\n",
       "            </tr><tr>\n",
       "                <td><strong>Upper bound</strong></td><td>1000.0</td>\n",
       "            </tr>\n",
       "        </table>\n",
       "        "
      ],
      "text/plain": [
       "<Reaction DM_tcynt_c at 0x113d4b860>"
      ]
     },
     "execution_count": 11,
     "metadata": {},
     "output_type": "execute_result"
    }
   ],
   "source": [
    "mcaps.add_boundary(metabolite=mcaps.metabolites.cyan_c, type='sink')\n",
    "mcaps.add_boundary(metabolite=mcaps.metabolites.tcynt_c, type='demand')"
   ]
  },
  {
   "cell_type": "markdown",
   "metadata": {},
   "source": [
    "Uptake of Amino Acids is modelled using sink reactions when there is insufficient information about transport reaction energetics. This may affect the predicted growth rates.\n",
    "\n",
    "The accumulation of keto-acids is modelled using demand reactions when there is insufficient information about corresponding transporters. Again, this will also affect the predicted growth rates."
   ]
  },
  {
   "cell_type": "code",
   "execution_count": 12,
   "metadata": {},
   "outputs": [
    {
     "data": {
      "text/html": [
       "\n",
       "        <table>\n",
       "            <tr>\n",
       "                <td><strong>Reaction identifier</strong></td><td>DM_3mob_c</td>\n",
       "            </tr><tr>\n",
       "                <td><strong>Name</strong></td><td>3-methyl-2-oxobutanoate demand</td>\n",
       "            </tr><tr>\n",
       "                <td><strong>Memory address</strong></td>\n",
       "                <td>0x0113c0b390</td>\n",
       "            </tr><tr>\n",
       "                <td><strong>Stoichiometry</strong></td>\n",
       "                <td>\n",
       "                    <p style='text-align:right'>3mob_c --> </p>\n",
       "                    <p style='text-align:right'>3-methyl-2-oxobutanoate --> </p>\n",
       "                </td>\n",
       "            </tr><tr>\n",
       "                <td><strong>GPR</strong></td><td></td>\n",
       "            </tr><tr>\n",
       "                <td><strong>Lower bound</strong></td><td>0</td>\n",
       "            </tr><tr>\n",
       "                <td><strong>Upper bound</strong></td><td>1000.0</td>\n",
       "            </tr>\n",
       "        </table>\n",
       "        "
      ],
      "text/plain": [
       "<Reaction DM_3mob_c at 0x113c0b390>"
      ]
     },
     "execution_count": 12,
     "metadata": {},
     "output_type": "execute_result"
    }
   ],
   "source": [
    "mcaps.add_boundary(metabolite=mcaps.metabolites.ala__L_c, type='sink')\n",
    "mcaps.reactions.SK_ala__L_c.bounds = 0, 0\n",
    "mcaps.add_boundary(metabolite=mcaps.metabolites.asn__L_c, type='sink')\n",
    "mcaps.reactions.SK_asn__L_c.bounds = 0, 0\n",
    "mcaps.add_boundary(metabolite=mcaps.metabolites.cys__L_c, type='sink')\n",
    "mcaps.reactions.SK_cys__L_c.bounds = 0, 0\n",
    "mcaps.add_boundary(metabolite=mcaps.metabolites.glu__L_c, type='sink')\n",
    "mcaps.reactions.SK_glu__L_c.bounds = 0, 0\n",
    "mcaps.add_boundary(metabolite=mcaps.metabolites.gln__L_c, type='sink')\n",
    "mcaps.reactions.SK_gln__L_c.bounds = 0, 0\n",
    "mcaps.add_boundary(metabolite=mcaps.metabolites.val__L_c, type='sink')\n",
    "mcaps.reactions.SK_val__L_c.bounds = 0, 0\n",
    "\n",
    "mcaps.add_boundary(metabolite=mcaps.metabolites.pyr_c, type='demand')\n",
    "mcaps.add_boundary(metabolite=mcaps.metabolites.oaa_c, type='demand')\n",
    "mcaps.add_boundary(metabolite=mcaps.metabolites.akg_c, type='demand')\n",
    "mcaps.add_boundary(metabolite=mcaps.metabolites.get_by_id(\"3mob_c\"), type='demand')"
   ]
  },
  {
   "cell_type": "markdown",
   "metadata": {},
   "source": [
    "Investigate growth on experimentally validated amino acids as Nitrogen-sources:"
   ]
  },
  {
   "cell_type": "code",
   "execution_count": 13,
   "metadata": {
    "collapsed": true
   },
   "outputs": [],
   "source": [
    "from operator import attrgetter\n",
    "from numpy import zeros\n",
    "from six import iteritems\n",
    "import pandas as pd"
   ]
  },
  {
   "cell_type": "code",
   "execution_count": 43,
   "metadata": {
    "collapsed": true
   },
   "outputs": [],
   "source": [
    "def summary(model, solution):\n",
    "    metabolites = {m for r in model.boundary for m in r.metabolites}\n",
    "    index = sorted(metabolites, key=attrgetter('id'))\n",
    "    metabolite_fluxes = pd.DataFrame({'id': [m for m in index],'flux': zeros(len(index), dtype=float)}, index=[m.id for m in index])\n",
    "    for rxn in model.boundary:\n",
    "        for met, stoich in iteritems(rxn.metabolites):\n",
    "            metabolite_fluxes.at[met.id, 'flux'] += stoich * solution[rxn.id]\n",
    "    print (\"IN\")\n",
    "    print (\"----------\")\n",
    "    for x,y in metabolite_fluxes[\"flux\"].items():\n",
    "        if round(y, 4) > 0:\n",
    "            print (x,round(y, 4))\n",
    "    print (\"OUT\")\n",
    "    print (\"----------\")\n",
    "    for x,y in metabolite_fluxes[\"flux\"].items():\n",
    "        if round(y, 4) < 0:\n",
    "            print (x,round(-y, 4))\n",
    "    print (\"Growth Rate\")\n",
    "    print (\"----------\")\n",
    "    print (solution.fluxes.BIOMASS_Mcapsulatus)"
   ]
  },
  {
   "cell_type": "code",
   "execution_count": 15,
   "metadata": {
    "collapsed": true
   },
   "outputs": [],
   "source": [
    "def open_bounds():\n",
    "    for met in mcaps.metabolites:\n",
    "        if met.id not in ['na1_c', 'ca2_c', 'h_c', 'cl_c']:\n",
    "            rxn_id = \"TEST_\" + met.id\n",
    "            rxn = mcaps.add_boundary(met, reaction_id=rxn_id, type=\"custom\", ub=1000, lb=0)"
   ]
  },
  {
   "cell_type": "code",
   "execution_count": 16,
   "metadata": {
    "collapsed": true
   },
   "outputs": [],
   "source": [
    "from escher import Builder\n",
    "\n",
    "def visualize_fluxes(model, solution):\n",
    "    flux_map = Builder(map_json=\"../MetabolicMap/MethylococcusCapsulatusMetabolismMap.json\", model=model, reaction_data=solution.fluxes.to_dict())\n",
    "    flux_map.display_in_browser()"
   ]
  },
  {
   "cell_type": "code",
   "execution_count": 17,
   "metadata": {
    "collapsed": true
   },
   "outputs": [],
   "source": [
    "from cobra.flux_analysis import pfba"
   ]
  },
  {
   "cell_type": "code",
   "execution_count": 54,
   "metadata": {},
   "outputs": [
    {
     "name": "stdout",
     "output_type": "stream",
     "text": [
      "IN\n",
      "----------\n",
      "ca2_e 0.0124\n",
      "ch4_e 18.46\n",
      "cl_e 0.0382\n",
      "cu2_e 0.0003\n",
      "fe2_e 0.0011\n",
      "h_e 1.4584\n",
      "k_e 0.0314\n",
      "mg2_e 0.022\n",
      "na1_e 0.007\n",
      "no3_e 1.4587\n",
      "o2_e 27.807\n",
      "pi_e 0.0981\n",
      "so4_e 0.03\n",
      "zn2_e 0.0002\n",
      "OUT\n",
      "----------\n",
      "co2_e 12.4681\n",
      "doxopa_c 0.0002\n",
      "h2o2_c 0.0572\n",
      "h2o_e 32.9606\n",
      "rdmbzi_c 0.0002\n",
      "Growth Rate\n",
      "----------\n",
      "0.17800418171840207\n"
     ]
    }
   ],
   "source": [
    "# NO3 - Reference\n",
    "\n",
    "with mcaps:\n",
    "    mcaps.reactions.EX_no3_e.bounds = -10, 0\n",
    "    mcaps.reactions.GLNS.bounds = 0, 1000\n",
    "    mcaps.reactions.ALAD_L.bounds = 0, 1000\n",
    "    solution = pfba(mcaps)\n",
    "    summary(mcaps, solution)\n",
    "    #visualize_fluxes(mcaps, solution)"
   ]
  },
  {
   "cell_type": "code",
   "execution_count": 55,
   "metadata": {},
   "outputs": [
    {
     "name": "stdout",
     "output_type": "stream",
     "text": [
      "IN\n",
      "----------\n",
      "ca2_e 0.0182\n",
      "ch4_e 18.46\n",
      "cl_e 0.0558\n",
      "cu2_e 0.0004\n",
      "fe2_e 0.0016\n",
      "k_e 0.0459\n",
      "mg2_e 0.0321\n",
      "na1_e 0.0102\n",
      "nh4_e 2.1328\n",
      "o2_e 27.861\n",
      "pi_e 0.1435\n",
      "so4_e 0.0439\n",
      "zn2_e 0.0003\n",
      "OUT\n",
      "----------\n",
      "co2_e 9.699\n",
      "doxopa_c 0.0003\n",
      "h2o2_c 0.0836\n",
      "h2o_e 33.2636\n",
      "h_e 2.1331\n",
      "rdmbzi_c 0.0003\n",
      "Growth Rate\n",
      "----------\n",
      "0.2602661442087391\n"
     ]
    }
   ],
   "source": [
    "# NH4 - Reference\n",
    "\n",
    "with mcaps:\n",
    "    mcaps.reactions.EX_nh4_e.bounds = -10, 0\n",
    "    mcaps.reactions.EX_no3_e.bounds = 0, 0\n",
    "    mcaps.reactions.GLNS.bounds = 0, 0\n",
    "    mcaps.reactions.ALAD_L.bounds = 0, 1000\n",
    "    solution = pfba(mcaps)\n",
    "    summary(mcaps, solution)\n",
    "    #visualize_fluxes(mcaps, solution)"
   ]
  },
  {
   "cell_type": "code",
   "execution_count": 47,
   "metadata": {},
   "outputs": [
    {
     "name": "stdout",
     "output_type": "stream",
     "text": [
      "IN\n",
      "----------\n",
      "ala__L_c 10.0\n",
      "ca2_e 0.0702\n",
      "ch4_e 18.46\n",
      "cl_e 0.2153\n",
      "cobalt2_e 0.0001\n",
      "cu2_e 0.0015\n",
      "fe2_e 0.0061\n",
      "h_e 1.7689\n",
      "k_e 0.1772\n",
      "mg2_e 0.124\n",
      "na1_e 0.0393\n",
      "o2_e 31.9631\n",
      "pi_e 0.5537\n",
      "so4_e 0.1695\n",
      "zn2_e 0.001\n",
      "OUT\n",
      "----------\n",
      "co2_e 14.6531\n",
      "doxopa_c 0.0011\n",
      "h2o2_c 0.3226\n",
      "h2o_e 42.8106\n",
      "nh4_e 1.7701\n",
      "rdmbzi_c 0.0011\n",
      "Growth Rate\n",
      "----------\n",
      "1.0043169244497043\n"
     ]
    }
   ],
   "source": [
    "# L-Alanine \n",
    "\n",
    "with mcaps:\n",
    "    mcaps.reactions.EX_no3_e.bounds = 0, 0\n",
    "    mcaps.reactions.SK_ala__L_c.bounds = -10, 0\n",
    "    solution = pfba(mcaps)\n",
    "    summary(mcaps, solution)\n",
    "#     visualize_fluxes(mcaps, solution)"
   ]
  },
  {
   "cell_type": "code",
   "execution_count": 20,
   "metadata": {},
   "outputs": [
    {
     "name": "stdout",
     "output_type": "stream",
     "text": [
      "IN\n",
      "----------\n",
      "asp__L_e 10.0\n",
      "ca2_e 0.07\n",
      "ch4_e 18.46\n",
      "cl_e 0.2149\n",
      "cobalt2_e 0.0001\n",
      "cu2_e 0.0015\n",
      "fe2_e 0.0061\n",
      "h_e 11.7837\n",
      "k_e 0.1769\n",
      "mg2_e 0.1237\n",
      "na1_e 0.0392\n",
      "o2_e 32.0259\n",
      "pi_e 0.5527\n",
      "so4_e 0.1692\n",
      "zn2_e 0.001\n",
      "OUT\n",
      "----------\n",
      "co2_e 24.7138\n",
      "h2o_e 42.836\n",
      "nh4_e 1.7849\n",
      "Growth Rate\n",
      "----------\n",
      "1.0025128279064115\n"
     ]
    }
   ],
   "source": [
    "# L-Aspartic acid\n",
    "with mcaps:\n",
    "    mcaps.reactions.EX_no3_e.bounds = 0, 0\n",
    "    mcaps.reactions.EX_asp__L_e.bounds = -10, 0\n",
    "    solution = pfba(mcaps)\n",
    "    \n",
    "    summary(mcaps, solution)"
   ]
  },
  {
   "cell_type": "code",
   "execution_count": 48,
   "metadata": {},
   "outputs": [
    {
     "name": "stdout",
     "output_type": "stream",
     "text": [
      "IN\n",
      "----------\n",
      "asn__L_c 10.0\n",
      "ca2_e 0.0721\n",
      "ch4_e 18.46\n",
      "cl_e 0.2212\n",
      "cobalt2_e 0.0001\n",
      "cu2_e 0.0016\n",
      "fe2_e 0.0063\n",
      "h_e 11.5426\n",
      "k_e 0.1821\n",
      "mg2_e 0.1273\n",
      "na1_e 0.0404\n",
      "o2_e 31.0114\n",
      "pi_e 0.5688\n",
      "so4_e 0.1741\n",
      "zn2_e 0.001\n",
      "OUT\n",
      "----------\n",
      "co2_c 23.7316\n",
      "doxopa_c 0.0011\n",
      "h2o2_c 0.3314\n",
      "h2o_c 32.4276\n",
      "nh4_c 11.5439\n",
      "rdmbzi_c 0.0011\n",
      "urea_c 0.0011\n",
      "Growth Rate\n",
      "----------\n",
      "1.0316607036217855\n"
     ]
    }
   ],
   "source": [
    "# L-Asparagine\n",
    "with mcaps:\n",
    "    open_bounds()\n",
    "    mcaps.reactions.EX_no3_e.bounds = 0, 0\n",
    "    mcaps.reactions.SK_asn__L_c.bounds = -10, 0\n",
    "    solution = pfba(mcaps)\n",
    "    \n",
    "    summary(mcaps, solution)"
   ]
  },
  {
   "cell_type": "code",
   "execution_count": 49,
   "metadata": {},
   "outputs": [
    {
     "name": "stdout",
     "output_type": "stream",
     "text": [
      "IN\n",
      "----------\n",
      "ca2_e 0.0698\n",
      "ch4_e 18.46\n",
      "cl_e 0.2141\n",
      "cobalt2_e 0.0001\n",
      "cu2_e 0.0015\n",
      "cyan_c 9.8314\n",
      "cys__L_c 10.0\n",
      "fe2_e 0.0061\n",
      "k_e 0.1763\n",
      "mg2_e 0.1233\n",
      "na1_e 0.0391\n",
      "o2_e 32.409\n",
      "pi_e 0.5507\n",
      "zn2_e 0.001\n",
      "OUT\n",
      "----------\n",
      "co2_e 14.8397\n",
      "doxopa_c 0.0011\n",
      "h2o2_c 0.3209\n",
      "h2o_e 42.7199\n",
      "h_e 8.3542\n",
      "nh4_e 1.8155\n",
      "rdmbzi_c 0.0011\n",
      "tcynt_c 9.8314\n",
      "Growth Rate\n",
      "----------\n",
      "0.9987733659763532\n"
     ]
    }
   ],
   "source": [
    "# L-Cysteine\n",
    "with mcaps:\n",
    "    mcaps.reactions.EX_no3_e.bounds = 0, 0\n",
    "    mcaps.reactions.SMMOi.bounds = 0, 1000\n",
    "    mcaps.reactions.GLNS.bounds = 0, 1000\n",
    "    mcaps.reactions.ALAD_L.bounds = 0, 1000\n",
    "    mcaps.reactions.SK_cys__L_c.bounds = -10, 0\n",
    "    solution = pfba(mcaps)\n",
    "    summary(mcaps, solution)"
   ]
  },
  {
   "cell_type": "code",
   "execution_count": 50,
   "metadata": {},
   "outputs": [
    {
     "name": "stdout",
     "output_type": "stream",
     "text": [
      "IN\n",
      "----------\n",
      "ca2_e 0.0325\n",
      "ch4_e 18.46\n",
      "cl_e 0.0998\n",
      "cu2_e 0.0007\n",
      "fe2_e 0.0028\n",
      "glu__L_c 10.0\n",
      "k_e 0.0822\n",
      "mg2_e 0.0575\n",
      "na1_e 0.0182\n",
      "o2_e 27.996\n",
      "pi_e 0.2567\n",
      "so4_e 0.0786\n",
      "zn2_e 0.0005\n",
      "OUT\n",
      "----------\n",
      "akg_c 9.4291\n",
      "co2_e 5.64\n",
      "doxopa_c 0.0005\n",
      "h2o2_c 0.1496\n",
      "h2o_e 32.0909\n",
      "h_e 2.6745\n",
      "nh4_e 6.1843\n",
      "rdmbzi_c 0.0005\n",
      "Growth Rate\n",
      "----------\n",
      "0.465644740246284\n"
     ]
    }
   ],
   "source": [
    "# L-Glutamic acid\n",
    "with mcaps:\n",
    "    mcaps.reactions.EX_no3_e.bounds = 0, 0\n",
    "    mcaps.reactions.SMMOi.bounds = 0, 1000\n",
    "    mcaps.reactions.GLNS.bounds = 0, 1000\n",
    "    mcaps.reactions.ALAD_L.bounds = 0, 1000\n",
    "    mcaps.reactions.SK_glu__L_c.bounds = -10, 0\n",
    "    solution = pfba(mcaps)\n",
    "    \n",
    "    summary(mcaps, solution)"
   ]
  },
  {
   "cell_type": "code",
   "execution_count": 51,
   "metadata": {},
   "outputs": [
    {
     "name": "stdout",
     "output_type": "stream",
     "text": [
      "IN\n",
      "----------\n",
      "ca2_e 0.0325\n",
      "ch4_e 18.46\n",
      "cl_e 0.0998\n",
      "cu2_e 0.0007\n",
      "fe2_e 0.0028\n",
      "gln__L_c 10.0\n",
      "k_e 0.0822\n",
      "mg2_e 0.0575\n",
      "na1_e 0.0182\n",
      "o2_e 27.996\n",
      "pi_e 0.2567\n",
      "so4_e 0.0786\n",
      "zn2_e 0.0005\n",
      "OUT\n",
      "----------\n",
      "akg_c 9.4291\n",
      "co2_e 5.64\n",
      "doxopa_c 0.0005\n",
      "h2o2_c 0.1496\n",
      "h2o_e 22.0909\n",
      "h_e 2.6745\n",
      "nh4_e 16.1843\n",
      "rdmbzi_c 0.0005\n",
      "Growth Rate\n",
      "----------\n",
      "0.4656447402462855\n"
     ]
    }
   ],
   "source": [
    "# L-Glutamine\n",
    "with mcaps:\n",
    "    mcaps.reactions.EX_no3_e.bounds = 0, 0\n",
    "    mcaps.reactions.SMMOi.bounds = 0, 1000\n",
    "    mcaps.reactions.GLNS.bounds = 0, 1000\n",
    "    mcaps.reactions.ALAD_L.bounds = 0, 1000\n",
    "    mcaps.reactions.SK_gln__L_c.bounds = -10, 0\n",
    "    solution = pfba(mcaps)\n",
    "    \n",
    "    summary(mcaps, solution)"
   ]
  },
  {
   "cell_type": "code",
   "execution_count": 52,
   "metadata": {},
   "outputs": [
    {
     "name": "stdout",
     "output_type": "stream",
     "text": [
      "IN\n",
      "----------\n",
      "ca2_e 0.0319\n",
      "ch4_e 18.46\n",
      "cl_e 0.0978\n",
      "cu2_e 0.0007\n",
      "fe2_e 0.0028\n",
      "k_e 0.0805\n",
      "mg2_e 0.0563\n",
      "na1_e 0.0179\n",
      "o2_e 27.9897\n",
      "pi_e 0.2515\n",
      "so4_e 0.077\n",
      "val__L_c 10.0\n",
      "zn2_e 0.0005\n",
      "OUT\n",
      "----------\n",
      "3mob_c 9.6464\n",
      "co2_e 4.8751\n",
      "doxopa_c 0.0005\n",
      "h2o2_c 0.1465\n",
      "h2o_e 31.9269\n",
      "h_e 3.3844\n",
      "nh4_e 6.2625\n",
      "rdmbzi_c 0.0005\n",
      "Growth Rate\n",
      "----------\n",
      "0.4560979557095218\n"
     ]
    }
   ],
   "source": [
    "# L-Valine\n",
    "with mcaps:\n",
    "    mcaps.reactions.EX_no3_e.bounds = 0, 0\n",
    "    mcaps.reactions.SMMOi.bounds = 0, 1000\n",
    "    mcaps.reactions.GLNS.bounds = 0, 1000\n",
    "    mcaps.reactions.ALAD_L.bounds = 0, 1000\n",
    "    mcaps.reactions.SK_val__L_c.bounds = -10, 0\n",
    "    solution = pfba(mcaps)\n",
    "    summary(mcaps, solution)"
   ]
  },
  {
   "cell_type": "markdown",
   "metadata": {},
   "source": [
    "Growth is predicted using any of the listed Amino Acids as Nitrogen sources, however, carbon acid excretion is only predicted for Valine, Glutamate and Glutamine. Presumably this is because pyruvate and oxaloacetate can be oxidized completely to CO2. This also explains the comparatively high CO2 production in the model constrained to uptake "
   ]
  },
  {
   "cell_type": "markdown",
   "metadata": {},
   "source": [
    "# Growth on H2 and CO2, as sources of energy and carbon respectively\n",
    "\n",
    "According to Baxter et al. [1], M. capsulatus is able to grow autotrophically on H2 and CO2 or Formate and CO2. With the former as a source of energy and the latter as a source for carbon.\n",
    "\n",
    "[1] Baxter, N. J., Hirt, R. P., Bodrossy, L., Kovacs, K. L., Embley, T. M., Prosser, J. I., et al. (2002). The ribulose-1,5-bisphosphate carboxylase/oxygenase gene cluster of Methylococcus capsulatus (Bath). Arch. Microbiol. 177, 279–289. doi:10.1007/s00203-001-0387-x."
   ]
  },
  {
   "cell_type": "code",
   "execution_count": 26,
   "metadata": {
    "collapsed": true
   },
   "outputs": [],
   "source": [
    "# Add a dedicated sink reactions for H2 and formate\n",
    "mcaps.add_boundary(metabolite=mcaps.metabolites.h2_c, type='sink')\n",
    "mcaps.reactions.SK_h2_c.bounds = 0, 0\n",
    "mcaps.add_boundary(metabolite=mcaps.metabolites.for_c, type='sink')\n",
    "mcaps.reactions.SK_for_c.bounds = 0, 0"
   ]
  },
  {
   "cell_type": "code",
   "execution_count": 27,
   "metadata": {},
   "outputs": [
    {
     "name": "stdout",
     "output_type": "stream",
     "text": [
      "IN\n",
      "----------\n",
      "ca2_e 0.0037\n",
      "cl_e 0.0114\n",
      "co2_e 1.7871\n",
      "cu2_e 0.0001\n",
      "fe2_e 0.0003\n",
      "h_e 0.435\n",
      "k_e 0.0094\n",
      "mg2_e 0.0066\n",
      "na1_e 0.0021\n",
      "no3_e 0.435\n",
      "o2_e 2.282\n",
      "pi_e 0.0293\n",
      "so4_e 0.009\n",
      "zn2_e 0.0001\n",
      "OUT\n",
      "----------\n",
      "h2o_e 8.8191\n",
      "Growth Rate\n",
      "----------\n",
      "0.05309000103804224\n"
     ]
    }
   ],
   "source": [
    "# H2 + CO2\n",
    "with mcaps:\n",
    "    mcaps.reactions.EX_no3_e.bounds = -1000, 1000\n",
    "    mcaps.reactions.EX_ch4_e.bounds = 0, 0\n",
    "    mcaps.reactions.SMMOi.bounds = 0, 1000\n",
    "    mcaps.reactions.GLNS.bounds = 0, 1000\n",
    "    mcaps.reactions.ALAD_L.bounds = 0, 1000\n",
    "    mcaps.reactions.EX_co2_e.bounds = -18.46, 0\n",
    "    mcaps.reactions.SK_h2_c.bounds = -10, 0\n",
    "    solution = pfba(mcaps)\n",
    "    summary(mcaps, solution)\n",
    "    "
   ]
  },
  {
   "cell_type": "code",
   "execution_count": 56,
   "metadata": {},
   "outputs": [
    {
     "name": "stdout",
     "output_type": "stream",
     "text": [
      "IN\n",
      "----------\n",
      "h2_c 3.7289\n",
      "o2_e 1.8644\n",
      "OUT\n",
      "----------\n",
      "h2o_e 3.7289\n",
      "Growth Rate\n",
      "----------\n",
      "1.8362663351804603e-16\n"
     ]
    }
   ],
   "source": [
    "# H2\n",
    "with mcaps:\n",
    "    mcaps.reactions.EX_no3_e.bounds = -1000, 1000\n",
    "    mcaps.reactions.EX_ch4_e.bounds = 0, 0\n",
    "    mcaps.reactions.SMMOi.bounds = 0, 1000\n",
    "    mcaps.reactions.GLNS.bounds = 0, 1000\n",
    "    mcaps.reactions.ALAD_L.bounds = 0, 1000\n",
    "    mcaps.reactions.EX_co2_e.bounds = 0, 0\n",
    "    mcaps.reactions.SK_h2_c.bounds = -10, 0\n",
    "    solution = pfba(mcaps)\n",
    "    summary(mcaps, solution)\n",
    "    "
   ]
  },
  {
   "cell_type": "code",
   "execution_count": 61,
   "metadata": {},
   "outputs": [
    {
     "ename": "Infeasible",
     "evalue": "None (infeasible)",
     "output_type": "error",
     "traceback": [
      "\u001b[0;31m---------------------------------------------------------------------------\u001b[0m",
      "\u001b[0;31mInfeasible\u001b[0m                                Traceback (most recent call last)",
      "\u001b[0;32m<ipython-input-61-052be83ec457>\u001b[0m in \u001b[0;36m<module>\u001b[0;34m()\u001b[0m\n\u001b[1;32m      8\u001b[0m     \u001b[0mmcaps\u001b[0m\u001b[0;34m.\u001b[0m\u001b[0mreactions\u001b[0m\u001b[0;34m.\u001b[0m\u001b[0mEX_co2_e\u001b[0m\u001b[0;34m.\u001b[0m\u001b[0mbounds\u001b[0m \u001b[0;34m=\u001b[0m \u001b[0;34m-\u001b[0m\u001b[0;36m18.46\u001b[0m\u001b[0;34m,\u001b[0m \u001b[0;36m0\u001b[0m\u001b[0;34m\u001b[0m\u001b[0m\n\u001b[1;32m      9\u001b[0m     \u001b[0mmcaps\u001b[0m\u001b[0;34m.\u001b[0m\u001b[0mreactions\u001b[0m\u001b[0;34m.\u001b[0m\u001b[0mSK_h2_c\u001b[0m\u001b[0;34m.\u001b[0m\u001b[0mbounds\u001b[0m \u001b[0;34m=\u001b[0m \u001b[0;36m0\u001b[0m\u001b[0;34m,\u001b[0m \u001b[0;36m0\u001b[0m\u001b[0;34m\u001b[0m\u001b[0m\n\u001b[0;32m---> 10\u001b[0;31m     \u001b[0msolution\u001b[0m \u001b[0;34m=\u001b[0m \u001b[0mpfba\u001b[0m\u001b[0;34m(\u001b[0m\u001b[0mmcaps\u001b[0m\u001b[0;34m)\u001b[0m\u001b[0;34m\u001b[0m\u001b[0m\n\u001b[0m\u001b[1;32m     11\u001b[0m     \u001b[0msummary\u001b[0m\u001b[0;34m(\u001b[0m\u001b[0mmcaps\u001b[0m\u001b[0;34m,\u001b[0m \u001b[0msolution\u001b[0m\u001b[0;34m)\u001b[0m\u001b[0;34m\u001b[0m\u001b[0m\n\u001b[1;32m     12\u001b[0m \u001b[0;34m\u001b[0m\u001b[0m\n",
      "\u001b[0;32m/anaconda/envs/efpro2_rev/lib/python3.6/site-packages/cobra/flux_analysis/parsimonious.py\u001b[0m in \u001b[0;36mpfba\u001b[0;34m(model, fraction_of_optimum, objective, reactions)\u001b[0m\n\u001b[1;32m     65\u001b[0m     \u001b[0;32mwith\u001b[0m \u001b[0mmodel\u001b[0m \u001b[0;32mas\u001b[0m \u001b[0mm\u001b[0m\u001b[0;34m:\u001b[0m\u001b[0;34m\u001b[0m\u001b[0m\n\u001b[1;32m     66\u001b[0m         add_pfba(m, objective=objective,\n\u001b[0;32m---> 67\u001b[0;31m                  fraction_of_optimum=fraction_of_optimum)\n\u001b[0m\u001b[1;32m     68\u001b[0m         \u001b[0mm\u001b[0m\u001b[0;34m.\u001b[0m\u001b[0mslim_optimize\u001b[0m\u001b[0;34m(\u001b[0m\u001b[0merror_value\u001b[0m\u001b[0;34m=\u001b[0m\u001b[0;32mNone\u001b[0m\u001b[0;34m)\u001b[0m\u001b[0;34m\u001b[0m\u001b[0m\n\u001b[1;32m     69\u001b[0m         \u001b[0msolution\u001b[0m \u001b[0;34m=\u001b[0m \u001b[0mget_solution\u001b[0m\u001b[0;34m(\u001b[0m\u001b[0mm\u001b[0m\u001b[0;34m,\u001b[0m \u001b[0mreactions\u001b[0m\u001b[0;34m=\u001b[0m\u001b[0mreactions\u001b[0m\u001b[0;34m)\u001b[0m\u001b[0;34m\u001b[0m\u001b[0m\n",
      "\u001b[0;32m/anaconda/envs/efpro2_rev/lib/python3.6/site-packages/cobra/flux_analysis/parsimonious.py\u001b[0m in \u001b[0;36madd_pfba\u001b[0;34m(model, objective, fraction_of_optimum)\u001b[0m\n\u001b[1;32m     96\u001b[0m     \u001b[0;32mif\u001b[0m \u001b[0mmodel\u001b[0m\u001b[0;34m.\u001b[0m\u001b[0msolver\u001b[0m\u001b[0;34m.\u001b[0m\u001b[0mobjective\u001b[0m\u001b[0;34m.\u001b[0m\u001b[0mname\u001b[0m \u001b[0;34m==\u001b[0m \u001b[0;34m'_pfba_objective'\u001b[0m\u001b[0;34m:\u001b[0m\u001b[0;34m\u001b[0m\u001b[0m\n\u001b[1;32m     97\u001b[0m         \u001b[0;32mraise\u001b[0m \u001b[0mValueError\u001b[0m\u001b[0;34m(\u001b[0m\u001b[0;34m'The model already has a pFBA objective.'\u001b[0m\u001b[0;34m)\u001b[0m\u001b[0;34m\u001b[0m\u001b[0m\n\u001b[0;32m---> 98\u001b[0;31m     \u001b[0msutil\u001b[0m\u001b[0;34m.\u001b[0m\u001b[0mfix_objective_as_constraint\u001b[0m\u001b[0;34m(\u001b[0m\u001b[0mmodel\u001b[0m\u001b[0;34m,\u001b[0m \u001b[0mfraction\u001b[0m\u001b[0;34m=\u001b[0m\u001b[0mfraction_of_optimum\u001b[0m\u001b[0;34m)\u001b[0m\u001b[0;34m\u001b[0m\u001b[0m\n\u001b[0m\u001b[1;32m     99\u001b[0m     reaction_variables = ((rxn.forward_variable, rxn.reverse_variable)\n\u001b[1;32m    100\u001b[0m                           for rxn in model.reactions)\n",
      "\u001b[0;32m/anaconda/envs/efpro2_rev/lib/python3.6/site-packages/cobra/util/solver.py\u001b[0m in \u001b[0;36mfix_objective_as_constraint\u001b[0;34m(model, fraction, bound, name)\u001b[0m\n\u001b[1;32m    390\u001b[0m         \u001b[0mmodel\u001b[0m\u001b[0;34m.\u001b[0m\u001b[0msolver\u001b[0m\u001b[0;34m.\u001b[0m\u001b[0mremove\u001b[0m\u001b[0;34m(\u001b[0m\u001b[0mfix_objective_name\u001b[0m\u001b[0;34m)\u001b[0m\u001b[0;34m\u001b[0m\u001b[0m\n\u001b[1;32m    391\u001b[0m     \u001b[0;32mif\u001b[0m \u001b[0mbound\u001b[0m \u001b[0;32mis\u001b[0m \u001b[0;32mNone\u001b[0m\u001b[0;34m:\u001b[0m\u001b[0;34m\u001b[0m\u001b[0m\n\u001b[0;32m--> 392\u001b[0;31m         \u001b[0mbound\u001b[0m \u001b[0;34m=\u001b[0m \u001b[0mmodel\u001b[0m\u001b[0;34m.\u001b[0m\u001b[0mslim_optimize\u001b[0m\u001b[0;34m(\u001b[0m\u001b[0merror_value\u001b[0m\u001b[0;34m=\u001b[0m\u001b[0;32mNone\u001b[0m\u001b[0;34m)\u001b[0m \u001b[0;34m*\u001b[0m \u001b[0mfraction\u001b[0m\u001b[0;34m\u001b[0m\u001b[0m\n\u001b[0m\u001b[1;32m    393\u001b[0m     \u001b[0;32mif\u001b[0m \u001b[0mmodel\u001b[0m\u001b[0;34m.\u001b[0m\u001b[0mobjective\u001b[0m\u001b[0;34m.\u001b[0m\u001b[0mdirection\u001b[0m \u001b[0;34m==\u001b[0m \u001b[0;34m'max'\u001b[0m\u001b[0;34m:\u001b[0m\u001b[0;34m\u001b[0m\u001b[0m\n\u001b[1;32m    394\u001b[0m         \u001b[0mub\u001b[0m\u001b[0;34m,\u001b[0m \u001b[0mlb\u001b[0m \u001b[0;34m=\u001b[0m \u001b[0;32mNone\u001b[0m\u001b[0;34m,\u001b[0m \u001b[0mbound\u001b[0m\u001b[0;34m\u001b[0m\u001b[0m\n",
      "\u001b[0;32m/anaconda/envs/efpro2_rev/lib/python3.6/site-packages/cobra/core/model.py\u001b[0m in \u001b[0;36mslim_optimize\u001b[0;34m(self, error_value, message)\u001b[0m\n\u001b[1;32m    846\u001b[0m             \u001b[0;32mreturn\u001b[0m \u001b[0merror_value\u001b[0m\u001b[0;34m\u001b[0m\u001b[0m\n\u001b[1;32m    847\u001b[0m         \u001b[0;32melse\u001b[0m\u001b[0;34m:\u001b[0m\u001b[0;34m\u001b[0m\u001b[0m\n\u001b[0;32m--> 848\u001b[0;31m             \u001b[0massert_optimal\u001b[0m\u001b[0;34m(\u001b[0m\u001b[0mself\u001b[0m\u001b[0;34m,\u001b[0m \u001b[0mmessage\u001b[0m\u001b[0;34m)\u001b[0m\u001b[0;34m\u001b[0m\u001b[0m\n\u001b[0m\u001b[1;32m    849\u001b[0m \u001b[0;34m\u001b[0m\u001b[0m\n\u001b[1;32m    850\u001b[0m     \u001b[0;32mdef\u001b[0m \u001b[0moptimize\u001b[0m\u001b[0;34m(\u001b[0m\u001b[0mself\u001b[0m\u001b[0;34m,\u001b[0m \u001b[0mobjective_sense\u001b[0m\u001b[0;34m=\u001b[0m\u001b[0;32mNone\u001b[0m\u001b[0;34m,\u001b[0m \u001b[0mraise_error\u001b[0m\u001b[0;34m=\u001b[0m\u001b[0;32mFalse\u001b[0m\u001b[0;34m)\u001b[0m\u001b[0;34m:\u001b[0m\u001b[0;34m\u001b[0m\u001b[0m\n",
      "\u001b[0;32m/anaconda/envs/efpro2_rev/lib/python3.6/site-packages/cobra/util/solver.py\u001b[0m in \u001b[0;36massert_optimal\u001b[0;34m(model, message)\u001b[0m\n\u001b[1;32m    431\u001b[0m         exception_cls = OPTLANG_TO_EXCEPTIONS_DICT.get(\n\u001b[1;32m    432\u001b[0m             status, OptimizationError)\n\u001b[0;32m--> 433\u001b[0;31m         \u001b[0;32mraise\u001b[0m \u001b[0mexception_cls\u001b[0m\u001b[0;34m(\u001b[0m\u001b[0;34m\"{} ({})\"\u001b[0m\u001b[0;34m.\u001b[0m\u001b[0mformat\u001b[0m\u001b[0;34m(\u001b[0m\u001b[0mmessage\u001b[0m\u001b[0;34m,\u001b[0m \u001b[0mstatus\u001b[0m\u001b[0;34m)\u001b[0m\u001b[0;34m)\u001b[0m\u001b[0;34m\u001b[0m\u001b[0m\n\u001b[0m",
      "\u001b[0;31mInfeasible\u001b[0m: None (infeasible)"
     ]
    }
   ],
   "source": [
    "# CO2\n",
    "with mcaps:\n",
    "    mcaps.reactions.EX_no3_e.bounds = -1000, 1000\n",
    "    mcaps.reactions.EX_ch4_e.bounds = 0, 0\n",
    "    mcaps.reactions.SMMOi.bounds = 0, 1000\n",
    "    mcaps.reactions.GLNS.bounds = 0, 1000\n",
    "    mcaps.reactions.ALAD_L.bounds = 0, 1000\n",
    "    mcaps.reactions.EX_co2_e.bounds = -18.46, 0\n",
    "    mcaps.reactions.SK_h2_c.bounds = 0, 0\n",
    "    solution = pfba(mcaps)\n",
    "    summary(mcaps, solution)\n",
    "    "
   ]
  },
  {
   "cell_type": "code",
   "execution_count": 28,
   "metadata": {},
   "outputs": [
    {
     "name": "stderr",
     "output_type": "stream",
     "text": [
      "There is an `e` compartment but it does not look like it is the actual external compartment.\n",
      "There is an `e` compartment but it does not look like it is the actual external compartment.\n"
     ]
    },
    {
     "name": "stdout",
     "output_type": "stream",
     "text": [
      "IN\n",
      "----------\n",
      "ca2_e 0.0043\n",
      "cl_e 0.0131\n",
      "cu2_e 0.0001\n",
      "fe2_e 0.0004\n",
      "h_e 10.5021\n",
      "k_e 0.0108\n",
      "mg2_e 0.0076\n",
      "na1_e 0.0024\n",
      "no3_e 0.5022\n",
      "o2_e 1.8628\n",
      "pi_e 0.0338\n",
      "so4_e 0.0103\n",
      "zn2_e 0.0001\n",
      "OUT\n",
      "----------\n",
      "co2_c 7.9372\n",
      "doxopa_c 0.0001\n",
      "h2o2_c 0.0197\n",
      "h2o_c 8.637\n",
      "rdmbzi_c 0.0001\n",
      "Growth Rate\n",
      "----------\n",
      "0.06127911117806917\n"
     ]
    }
   ],
   "source": [
    "# Formate + CO2\n",
    "with mcaps:\n",
    "    open_bounds()\n",
    "    mcaps.reactions.EX_no3_e.bounds = -1000, 1000\n",
    "    mcaps.reactions.EX_ch4_e.bounds = 0, 0\n",
    "    mcaps.reactions.SMMOi.bounds = 0, 1000\n",
    "    mcaps.reactions.GLNS.bounds = 0, 1000\n",
    "    mcaps.reactions.ALAD_L.bounds = 0, 1000\n",
    "    mcaps.reactions.EX_co2_e.bounds = -18.46, 0\n",
    "    mcaps.reactions.SK_for_c.bounds = -10, 0\n",
    "    solution = pfba(mcaps)\n",
    "    summary(mcaps, solution)\n",
    "    \n",
    "    # visualize_fluxes(mcaps, solution)\n",
    "    "
   ]
  },
  {
   "cell_type": "code",
   "execution_count": 58,
   "metadata": {},
   "outputs": [
    {
     "name": "stdout",
     "output_type": "stream",
     "text": [
      "IN\n",
      "----------\n",
      "ca2_e 0.0043\n",
      "cl_e 0.0131\n",
      "cu2_e 0.0001\n",
      "fe2_e 0.0004\n",
      "for_c 10.0\n",
      "h_e 10.5021\n",
      "k_e 0.0108\n",
      "mg2_e 0.0076\n",
      "na1_e 0.0024\n",
      "no3_e 0.5022\n",
      "o2_e 1.8628\n",
      "pi_e 0.0338\n",
      "so4_e 0.0103\n",
      "zn2_e 0.0001\n",
      "OUT\n",
      "----------\n",
      "co2_c 7.9372\n",
      "doxopa_c 0.0001\n",
      "h2o2_c 0.0197\n",
      "h2o_c 8.637\n",
      "rdmbzi_c 0.0001\n",
      "Growth Rate\n",
      "----------\n",
      "0.06127911117806891\n"
     ]
    }
   ],
   "source": [
    "# Formate\n",
    "with mcaps:\n",
    "    open_bounds()\n",
    "    mcaps.reactions.EX_no3_e.bounds = -1000, 1000\n",
    "    mcaps.reactions.EX_ch4_e.bounds = 0, 0\n",
    "    mcaps.reactions.SMMOi.bounds = 0, 1000\n",
    "    mcaps.reactions.GLNS.bounds = 0, 1000\n",
    "    mcaps.reactions.ALAD_L.bounds = 0, 1000\n",
    "    mcaps.reactions.EX_co2_e.bounds = 0, 0\n",
    "    mcaps.reactions.SK_for_c.bounds = -10, 0\n",
    "    solution = pfba(mcaps)\n",
    "    summary(mcaps, solution)\n",
    "    \n",
    "    # visualize_fluxes(mcaps, solution)\n",
    "    "
   ]
  },
  {
   "cell_type": "code",
   "execution_count": 66,
   "metadata": {
    "collapsed": true
   },
   "outputs": [],
   "source": [
    "from cobra.io import save_json_model"
   ]
  },
  {
   "cell_type": "code",
   "execution_count": 67,
   "metadata": {
    "collapsed": true
   },
   "outputs": [],
   "source": [
    "write_sbml_model(mcaps, '../ModelFiles/xml/iMcBath.xml')\n",
    "save_json_model(mcaps, '../ModelFiles/json/iMcBath.json', pretty=True, sort=True)"
   ]
  },
  {
   "cell_type": "code",
   "execution_count": 70,
   "metadata": {},
   "outputs": [
    {
     "data": {
      "text/plain": [
       "{<Metabolite 2ddg6p_c at 0x113dc0470>: -3e-06,\n",
       " <Metabolite 2pg_c at 0x113df49b0>: -0.006,\n",
       " <Metabolite 6pgc_c at 0x113de87b8>: -0.00015,\n",
       " <Metabolite accoa_c at 0x113e2d550>: -0.0001,\n",
       " <Metabolite adocbl_c at 0x113dfc588>: -6e-08,\n",
       " <Metabolite ala__L_c at 0x113e13048>: -0.576,\n",
       " <Metabolite amet_c at 0x113e13f60>: -0.00022,\n",
       " <Metabolite arg__L_c at 0x113e5f7f0>: -0.254,\n",
       " <Metabolite asn__L_c at 0x113e5fe80>: -0.119,\n",
       " <Metabolite asp__L_c at 0x113e6fc50>: -0.468,\n",
       " <Metabolite atp_c at 0x113de18d0>: -23.11185589,\n",
       " <Metabolite ca2_c at 0x113e2ac50>: -0.06986377,\n",
       " <Metabolite cit_c at 0x113e88a58>: -0.001,\n",
       " <Metabolite cl_c at 0x113e96390>: -0.21438646,\n",
       " <Metabolite clpn_MC_c at 0x113e96b00>: -3.15904e-06,\n",
       " <Metabolite coa_c at 0x113e80208>: -0.00022,\n",
       " <Metabolite cobalt2_c at 0x113e801d0>: -5.769e-05,\n",
       " <Metabolite colipa_e at 0x113e65080>: -0.002,\n",
       " <Metabolite cpoa2h_c at 0x113e657f0>: -0.00186552,\n",
       " <Metabolite ctp_c at 0x113e8eac8>: -0.04425885,\n",
       " <Metabolite cu2_c at 0x113e8ed68>: -0.00151072,\n",
       " <Metabolite cys__L_c at 0x113ea2198>: -0.038,\n",
       " <Metabolite datp_c at 0x113ead7f0>: -0.00866366,\n",
       " <Metabolite dctp_c at 0x113ebd2e8>: -0.01571821,\n",
       " <Metabolite dgtp_c at 0x113ebe2e8>: -0.01446787,\n",
       " <Metabolite dpterol_c at 0x113ec2390>: -0.01282849,\n",
       " <Metabolite dttp_c at 0x113eca780>: -0.00882698,\n",
       " <Metabolite f6p_c at 0x113e7bf98>: -0.003,\n",
       " <Metabolite fad_c at 0x113eaf208>: -0.00022,\n",
       " <Metabolite fdp_c at 0x113edf0b8>: -0.001,\n",
       " <Metabolite fe2_c at 0x113edf7f0>: -0.0059,\n",
       " <Metabolite fmn_c at 0x113ee7b38>: -0.00022,\n",
       " <Metabolite fmnh2_c at 0x113ee7cc0>: -0.00022,\n",
       " <Metabolite fum_c at 0x113ef99b0>: -0.001,\n",
       " <Metabolite g3p_c at 0x113f014e0>: -0.003,\n",
       " <Metabolite g6p_c at 0x113f01dd8>: -0.002,\n",
       " <Metabolite glc__D_c at 0x113ef3e10>: -0.24977798,\n",
       " <Metabolite gln__L_c at 0x113ef3f60>: -0.15,\n",
       " <Metabolite glu__L_c at 0x113f0b940>: -0.519,\n",
       " <Metabolite gly_c at 0x113f15940>: -0.484,\n",
       " <Metabolite glyc_R_c at 0x113f1da90>: -0.001,\n",
       " <Metabolite gthrd_c at 0x113f2e4e0>: -0.00022,\n",
       " <Metabolite gtp_c at 0x113f2e748>: -0.04084668,\n",
       " <Metabolite h2o_c at 0x113efd860>: -17.77579456,\n",
       " <Metabolite hdca_c at 0x113f38128>: -0.01558994,\n",
       " <Metabolite his__L_c at 0x113f3f2e8>: -0.104,\n",
       " <Metabolite hpdca_c at 0x113f4b3c8>: -0.00179858,\n",
       " <Metabolite ile__L_c at 0x113f56198>: -0.242,\n",
       " <Metabolite inost_c at 0x113f376a0>: -0.00016652,\n",
       " <Metabolite k_c at 0x113f30588>: -0.17647826,\n",
       " <Metabolite lanost_c at 0x113f4f7f0>: -0.00515564,\n",
       " <Metabolite leu__L_c at 0x113f4fe10>: -0.415,\n",
       " <Metabolite lys__L_c at 0x113f6a0f0>: -0.277,\n",
       " <Metabolite mal__L_c at 0x113f6a6d8>: -0.004,\n",
       " <Metabolite met__L_c at 0x113f30c18>: -0.13,\n",
       " <Metabolite mg2_c at 0x113f7ee80>: -0.12343139,\n",
       " <Metabolite mn2_c at 0x113f6d550>: -1.8e-05,\n",
       " <Metabolite na1_c at 0x113f83d30>: -0.03914785,\n",
       " <Metabolite nac_c at 0x113f8b8d0>: -0.00106469,\n",
       " <Metabolite nad_c at 0x113f8bac8>: -0.002,\n",
       " <Metabolite nadh_c at 0x113f8bcc0>: -0.002,\n",
       " <Metabolite nadp_c at 0x113f8bf98>: -0.001,\n",
       " <Metabolite nadph_c at 0x113f932b0>: -0.001,\n",
       " <Metabolite ni2_c at 0x113f98198>: -3.4e-05,\n",
       " <Metabolite ocdca_c at 0x113f316d8>: -8.548e-05,\n",
       " <Metabolite ocdcea_c at 0x113f31400>: -0.00014349,\n",
       " <Metabolite pc_MC_c at 0x113fb6470>: -9.37385e-06,\n",
       " <Metabolite pe_MC_c at 0x113fb6a20>: -9.134262e-05,\n",
       " <Metabolite pep_c at 0x113fb6ac8>: -0.005,\n",
       " <Metabolite peptido_MC_c at 0x113fb6a90>: -0.053,\n",
       " <Metabolite pg_MC_c at 0x113fb6da0>: -1.538077e-05,\n",
       " <Metabolite phe__L_c at 0x113fc0160>: -0.185,\n",
       " <Metabolite pheme_c at 0x113fc03c8>: -0.00022,\n",
       " <Metabolite pro__L_c at 0x113fe07f0>: -0.248,\n",
       " <Metabolite ptdca_c at 0x113fe9a58>: -0.00023422,\n",
       " <Metabolite pyr_c at 0x113ff39b0>: -0.015,\n",
       " <Metabolite q8h2_im at 0x113ff9400>: -0.00022,\n",
       " <Metabolite ribflv_c at 0x113f840b8>: -0.00019396,\n",
       " <Metabolite ru5p_D_c at 0x113f843c8>: -0.001,\n",
       " <Metabolite ser__L_c at 0x113feddd8>: -0.246,\n",
       " <Metabolite sql_c at 0x1140173c8>: -0.01339118,\n",
       " <Metabolite succ_c at 0x114017908>: -0.002,\n",
       " <Metabolite thmpp_c at 0x113fde208>: -2.865e-05,\n",
       " <Metabolite thr__L_c at 0x113fde1d0>: -0.271,\n",
       " <Metabolite trp__L_c at 0x114042128>: -0.093,\n",
       " <Metabolite ttdca_c at 0x114042e80>: -0.0014565,\n",
       " <Metabolite ttdcea_c at 0x114042c50>: -0.00017921,\n",
       " <Metabolite tyr__L_c at 0x11404c198>: -0.132,\n",
       " <Metabolite utp_c at 0x11405ee10>: -0.02560771,\n",
       " <Metabolite val__L_c at 0x11405eb00>: -0.36,\n",
       " <Metabolite zn2_c at 0x11406c6d8>: -0.001,\n",
       " <Metabolite adp_c at 0x113dfcb70>: 23.08742079,\n",
       " <Metabolite h_c at 0x113f2a898>: 23.08742079,\n",
       " <Metabolite pi_c at 0x113fc9a90>: 22.88736056,\n",
       " <Metabolite ppi_c at 0x113fbeba8>: 0.18282505}"
      ]
     },
     "execution_count": 70,
     "metadata": {},
     "output_type": "execute_result"
    }
   ],
   "source": [
    "mcaps.reactions.BIOMASS_Mcapsulatus.metabolites"
   ]
  },
  {
   "cell_type": "code",
   "execution_count": null,
   "metadata": {
    "collapsed": true
   },
   "outputs": [],
   "source": []
  }
 ],
 "metadata": {
  "kernelspec": {
   "display_name": "efpro2_rev",
   "language": "python",
   "name": "efpro2_rev"
  },
  "language_info": {
   "codemirror_mode": {
    "name": "ipython",
    "version": 3
   },
   "file_extension": ".py",
   "mimetype": "text/x-python",
   "name": "python",
   "nbconvert_exporter": "python",
   "pygments_lexer": "ipython3",
   "version": "3.6.6"
  }
 },
 "nbformat": 4,
 "nbformat_minor": 2
}
