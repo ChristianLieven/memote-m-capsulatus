{
 "cells": [
  {
   "cell_type": "code",
   "execution_count": 1,
   "metadata": {
    "collapsed": false
   },
   "outputs": [
    {
     "data": {
      "text/html": []
     },
     "metadata": {},
     "output_type": "display_data"
    },
    {
     "data": {
      "application/javascript": [
       "\n",
       "(function(global) {\n",
       "  function now() {\n",
       "    return new Date();\n",
       "  }\n",
       "\n",
       "  if (typeof (window._bokeh_onload_callbacks) === \"undefined\") {\n",
       "    window._bokeh_onload_callbacks = [];\n",
       "  }\n",
       "\n",
       "  function run_callbacks() {\n",
       "    window._bokeh_onload_callbacks.forEach(function(callback) { callback() });\n",
       "    delete window._bokeh_onload_callbacks\n",
       "    console.info(\"Bokeh: all callbacks have finished\");\n",
       "  }\n",
       "\n",
       "  function load_libs(js_urls, callback) {\n",
       "    window._bokeh_onload_callbacks.push(callback);\n",
       "    if (window._bokeh_is_loading > 0) {\n",
       "      console.log(\"Bokeh: BokehJS is being loaded, scheduling callback at\", now());\n",
       "      return null;\n",
       "    }\n",
       "    if (js_urls == null || js_urls.length === 0) {\n",
       "      run_callbacks();\n",
       "      return null;\n",
       "    }\n",
       "    console.log(\"Bokeh: BokehJS not loaded, scheduling load and callback at\", now());\n",
       "    window._bokeh_is_loading = js_urls.length;\n",
       "    for (var i = 0; i < js_urls.length; i++) {\n",
       "      var url = js_urls[i];\n",
       "      var s = document.createElement('script');\n",
       "      s.src = url;\n",
       "      s.async = false;\n",
       "      s.onreadystatechange = s.onload = function() {\n",
       "        window._bokeh_is_loading--;\n",
       "        if (window._bokeh_is_loading === 0) {\n",
       "          console.log(\"Bokeh: all BokehJS libraries loaded\");\n",
       "          run_callbacks()\n",
       "        }\n",
       "      };\n",
       "      s.onerror = function() {\n",
       "        console.warn(\"failed to load library \" + url);\n",
       "      };\n",
       "      console.log(\"Bokeh: injecting script tag for BokehJS library: \", url);\n",
       "      document.getElementsByTagName(\"head\")[0].appendChild(s);\n",
       "    }\n",
       "  };\n",
       "\n",
       "  var js_urls = ['https://cdn.pydata.org/bokeh/release/bokeh-0.11.1.min.js', 'https://cdn.pydata.org/bokeh/release/bokeh-widgets-0.11.1.min.js', 'https://cdn.pydata.org/bokeh/release/bokeh-compiler-0.11.1.min.js'];\n",
       "\n",
       "  var inline_js = [\n",
       "    function(Bokeh) {\n",
       "      Bokeh.set_log_level(\"info\");\n",
       "    },\n",
       "    \n",
       "    function(Bokeh) {\n",
       "      Bokeh.$(\"#4d7dead6-4dc9-4a3f-beba-9a4a055f0dbd\").text(\"BokehJS successfully loaded\");\n",
       "    },\n",
       "    function(Bokeh) {\n",
       "      console.log(\"Bokeh: injecting CSS: https://cdn.pydata.org/bokeh/release/bokeh-0.11.1.min.css\");\n",
       "      Bokeh.embed.inject_css(\"https://cdn.pydata.org/bokeh/release/bokeh-0.11.1.min.css\");\n",
       "      console.log(\"Bokeh: injecting CSS: https://cdn.pydata.org/bokeh/release/bokeh-widgets-0.11.1.min.css\");\n",
       "      Bokeh.embed.inject_css(\"https://cdn.pydata.org/bokeh/release/bokeh-widgets-0.11.1.min.css\");\n",
       "    }\n",
       "  ];\n",
       "\n",
       "  function run_inline_js() {\n",
       "    for (var i = 0; i < inline_js.length; i++) {\n",
       "      inline_js[i](window.Bokeh);\n",
       "    }\n",
       "  }\n",
       "\n",
       "  if (window._bokeh_is_loading === 0) {\n",
       "    console.log(\"Bokeh: BokehJS loaded, going straight to plotting\");\n",
       "    run_inline_js();\n",
       "  } else {\n",
       "    load_libs(js_urls, function() {\n",
       "      console.log(\"Bokeh: BokehJS plotting callback run at\", now());\n",
       "      run_inline_js();\n",
       "    });\n",
       "  }\n",
       "}(this));"
      ]
     },
     "metadata": {},
     "output_type": "display_data"
    },
    {
     "data": {
      "text/html": []
     },
     "metadata": {},
     "output_type": "display_data"
    },
    {
     "data": {
      "application/javascript": [
       "\n",
       "(function(global) {\n",
       "  function now() {\n",
       "    return new Date();\n",
       "  }\n",
       "\n",
       "  if (typeof (window._bokeh_onload_callbacks) === \"undefined\") {\n",
       "    window._bokeh_onload_callbacks = [];\n",
       "  }\n",
       "\n",
       "  function run_callbacks() {\n",
       "    window._bokeh_onload_callbacks.forEach(function(callback) { callback() });\n",
       "    delete window._bokeh_onload_callbacks\n",
       "    console.info(\"Bokeh: all callbacks have finished\");\n",
       "  }\n",
       "\n",
       "  function load_libs(js_urls, callback) {\n",
       "    window._bokeh_onload_callbacks.push(callback);\n",
       "    if (window._bokeh_is_loading > 0) {\n",
       "      console.log(\"Bokeh: BokehJS is being loaded, scheduling callback at\", now());\n",
       "      return null;\n",
       "    }\n",
       "    if (js_urls == null || js_urls.length === 0) {\n",
       "      run_callbacks();\n",
       "      return null;\n",
       "    }\n",
       "    console.log(\"Bokeh: BokehJS not loaded, scheduling load and callback at\", now());\n",
       "    window._bokeh_is_loading = js_urls.length;\n",
       "    for (var i = 0; i < js_urls.length; i++) {\n",
       "      var url = js_urls[i];\n",
       "      var s = document.createElement('script');\n",
       "      s.src = url;\n",
       "      s.async = false;\n",
       "      s.onreadystatechange = s.onload = function() {\n",
       "        window._bokeh_is_loading--;\n",
       "        if (window._bokeh_is_loading === 0) {\n",
       "          console.log(\"Bokeh: all BokehJS libraries loaded\");\n",
       "          run_callbacks()\n",
       "        }\n",
       "      };\n",
       "      s.onerror = function() {\n",
       "        console.warn(\"failed to load library \" + url);\n",
       "      };\n",
       "      console.log(\"Bokeh: injecting script tag for BokehJS library: \", url);\n",
       "      document.getElementsByTagName(\"head\")[0].appendChild(s);\n",
       "    }\n",
       "  };\n",
       "\n",
       "  var js_urls = ['https://cdn.pydata.org/bokeh/release/bokeh-0.11.1.min.js', 'https://cdn.pydata.org/bokeh/release/bokeh-widgets-0.11.1.min.js', 'https://cdn.pydata.org/bokeh/release/bokeh-compiler-0.11.1.min.js'];\n",
       "\n",
       "  var inline_js = [\n",
       "    function(Bokeh) {\n",
       "      Bokeh.set_log_level(\"info\");\n",
       "    },\n",
       "    \n",
       "    function(Bokeh) {\n",
       "      Bokeh.$(\"#b0e60ff5-5a07-4578-947b-bca7c5f125c3\").text(\"BokehJS successfully loaded\");\n",
       "    },\n",
       "    function(Bokeh) {\n",
       "      console.log(\"Bokeh: injecting CSS: https://cdn.pydata.org/bokeh/release/bokeh-0.11.1.min.css\");\n",
       "      Bokeh.embed.inject_css(\"https://cdn.pydata.org/bokeh/release/bokeh-0.11.1.min.css\");\n",
       "      console.log(\"Bokeh: injecting CSS: https://cdn.pydata.org/bokeh/release/bokeh-widgets-0.11.1.min.css\");\n",
       "      Bokeh.embed.inject_css(\"https://cdn.pydata.org/bokeh/release/bokeh-widgets-0.11.1.min.css\");\n",
       "    }\n",
       "  ];\n",
       "\n",
       "  function run_inline_js() {\n",
       "    for (var i = 0; i < inline_js.length; i++) {\n",
       "      inline_js[i](window.Bokeh);\n",
       "    }\n",
       "  }\n",
       "\n",
       "  if (window._bokeh_is_loading === 0) {\n",
       "    console.log(\"Bokeh: BokehJS loaded, going straight to plotting\");\n",
       "    run_inline_js();\n",
       "  } else {\n",
       "    load_libs(js_urls, function() {\n",
       "      console.log(\"Bokeh: BokehJS plotting callback run at\", now());\n",
       "      run_inline_js();\n",
       "    });\n",
       "  }\n",
       "}(this));"
      ]
     },
     "metadata": {},
     "output_type": "display_data"
    }
   ],
   "source": [
    "import cameo\n",
    "from cobra import Model, Reaction, Metabolite\n",
    "from cobra.io import read_sbml_model\n",
    "from cobra.io import save_json_model\n",
    "from cameo.flux_analysis.simulation import pfba\n",
    "import cobra.test\n",
    "import os\n",
    "from Functions_Modules.curation_tools import *\n",
    "from IPython.display import display, HTML"
   ]
  },
  {
   "cell_type": "code",
   "execution_count": 2,
   "metadata": {
    "collapsed": true
   },
   "outputs": [],
   "source": [
    "relative_directory = os.getcwd()\n",
    "filename = relative_directory + '/Reconstructions/MethylococcusModel9.json'\n",
    "model = cameo.load_model(filename)"
   ]
  },
  {
   "cell_type": "markdown",
   "metadata": {},
   "source": [
    "Check for funktioning FBA after import as .json File:  "
   ]
  },
  {
   "cell_type": "code",
   "execution_count": 3,
   "metadata": {
    "collapsed": false
   },
   "outputs": [
    {
     "data": {
      "text/plain": [
       "{0 <= BIOMASS_REACTION_reverse_42726 <= 0, 0.1 <= BIOMASS_REACTION <= 1000.0}"
      ]
     },
     "execution_count": 3,
     "metadata": {},
     "output_type": "execute_result"
    }
   ],
   "source": [
    "model.objective.variables"
   ]
  },
  {
   "cell_type": "code",
   "execution_count": 4,
   "metadata": {
    "collapsed": false,
    "scrolled": true
   },
   "outputs": [
    {
     "name": "stdout",
     "output_type": "stream",
     "text": [
      "EX_co2_c 9.73776817276\n",
      "EX_h2o_c 29.7680791941\n",
      "EX_pi_c -0.0742559453479\n",
      "EX_hco3_c 2.37162204412\n",
      "EX_o2_c -27.6123082969\n",
      "EX_so4_c -0.0273340396411\n",
      "EX_h2o2_c 0.0010884480203\n",
      "EX_co_c 4.66477722983e-06\n",
      "EX_2dhp_c 0.045398233971\n",
      "EX_5prdmbz_c 0.000155492574328\n",
      "EX_no3_e -1.3686798476\n",
      "EX_ch4_p 18.405\n",
      "EX_fe2_p 0.000951614554886\n",
      "BIOMASS_REACTION 0.155492574328\n"
     ]
    }
   ],
   "source": [
    "solution = show_uptake_excretion(model,model.reactions.get_by_id('BIOMASS_REACTION'))"
   ]
  },
  {
   "cell_type": "code",
   "execution_count": 5,
   "metadata": {
    "collapsed": false
   },
   "outputs": [
    {
     "data": {
      "text/plain": [
       "{u'COFACTOR': [u'2 Cu2+', u'1-2 Fe'],\n",
       " u'CONFIDENCE SCORE': u'4',\n",
       " u'INHIBITOR': u'',\n",
       " u'LOCALIZATION': u'Inner Membrane'}"
      ]
     },
     "execution_count": 5,
     "metadata": {},
     "output_type": "execute_result"
    }
   ],
   "source": [
    "model.reactions.pMMO_im.notes"
   ]
  },
  {
   "cell_type": "code",
   "execution_count": 6,
   "metadata": {
    "collapsed": false
   },
   "outputs": [
    {
     "data": {
      "text/plain": [
       "{u'brenda': u'1.14.18.3'}"
      ]
     },
     "execution_count": 6,
     "metadata": {},
     "output_type": "execute_result"
    }
   ],
   "source": [
    "model.reactions.pMMO_im.annotation"
   ]
  },
  {
   "cell_type": "code",
   "execution_count": 7,
   "metadata": {
    "collapsed": false
   },
   "outputs": [
    {
     "data": {
      "text/plain": [
       "807"
      ]
     },
     "execution_count": 7,
     "metadata": {},
     "output_type": "execute_result"
    }
   ],
   "source": [
    "len(model.metabolites)"
   ]
  },
  {
   "cell_type": "code",
   "execution_count": 8,
   "metadata": {
    "collapsed": false
   },
   "outputs": [
    {
     "data": {
      "text/plain": [
       "654"
      ]
     },
     "execution_count": 8,
     "metadata": {},
     "output_type": "execute_result"
    }
   ],
   "source": [
    "len(model.genes)"
   ]
  },
  {
   "cell_type": "code",
   "execution_count": 9,
   "metadata": {
    "collapsed": false
   },
   "outputs": [
    {
     "data": {
      "text/plain": [
       "1488"
      ]
     },
     "execution_count": 9,
     "metadata": {},
     "output_type": "execute_result"
    }
   ],
   "source": [
    "len(model.reactions)"
   ]
  },
  {
   "cell_type": "code",
   "execution_count": 10,
   "metadata": {
    "collapsed": true
   },
   "outputs": [],
   "source": [
    "model.reactions.EX_no3_e.lower_bound = 0"
   ]
  },
  {
   "cell_type": "code",
   "execution_count": 11,
   "metadata": {
    "collapsed": true
   },
   "outputs": [],
   "source": [
    "model.reactions.EX_nh3_c.lower_bound = -1000"
   ]
  },
  {
   "cell_type": "markdown",
   "metadata": {},
   "source": [
    "Construct a function that sets the input parameters of the model for this validation in accordance to Table 1. in [Leak and Dalton's paper, 1986](http://link.springer.com/article/10.1007/BF02346062)"
   ]
  },
  {
   "cell_type": "markdown",
   "metadata": {},
   "source": [
    "O2-Limiting condition:\n",
    "\n",
    "\"total flow rate of 260ml-min -I. This comprised of the following gases: CH4 (21.9%), N2 (60.4%), O2 (16.9%) and CO2 (0.007%) as\"\n",
    "\n",
    "\"0.1 h -1 the cell density was 1.5 g dry wt. 1- ~.\""
   ]
  },
  {
   "cell_type": "code",
   "execution_count": 12,
   "metadata": {
    "collapsed": false
   },
   "outputs": [],
   "source": [
    "# Calculating the flow rates in mmol/h\n",
    "\n",
    "ch4_L_per_h = ((0.219*260)/1000)*60\n",
    "o2_L_per_h = ((0.169*260)/1000)*60\n",
    "co2_L_per_h = ((0.007*260)/1000)*60\n",
    "\n",
    "T = 45 + 273.15\n",
    "R = 0.08216\n",
    "P = 1\n",
    "\n",
    "# PV=nRT\n",
    "\n",
    "ch4_mol_per_L_per_h = (P*ch4_L_per_h)/(R*T)\n",
    "o2_mol_per_L_per_h = (P*o2_L_per_h)/(R*T)\n",
    "co2_mol_per_L_per_h = (P*co2_L_per_h)/(R*T)\n",
    "\n",
    "Olim_ch4_mmol_per_L_per_h = ch4_mol_per_L_per_h*1000\n",
    "Olim_o2_mmol_per_L_per_h = o2_mol_per_L_per_h*1000\n",
    "Olim_co2_mmol_per_L_per_h = co2_mol_per_L_per_h*1000"
   ]
  },
  {
   "cell_type": "code",
   "execution_count": 19,
   "metadata": {
    "collapsed": false
   },
   "outputs": [
    {
     "data": {
      "text/plain": [
       "4.177632953168735"
      ]
     },
     "execution_count": 19,
     "metadata": {},
     "output_type": "execute_result"
    }
   ],
   "source": [
    "Olim_co2_mmol_per_L_per_h"
   ]
  },
  {
   "cell_type": "code",
   "execution_count": 13,
   "metadata": {
    "collapsed": false
   },
   "outputs": [
    {
     "name": "stdout",
     "output_type": "stream",
     "text": [
      "130.700230963 100.859995584 4.17763295317\n"
     ]
    }
   ],
   "source": [
    "print Olim_ch4_mmol_per_L_per_h,Olim_o2_mmol_per_L_per_h,Olim_co2_mmol_per_L_per_h"
   ]
  },
  {
   "cell_type": "markdown",
   "metadata": {},
   "source": [
    "CH4-limiting condition:\n",
    "    \n",
    "\"total gas flow rate was 430 ml.min -1 and comprised of: CH4 (11%), N2 (68.9%), O2 (19.7%) and CO2 (0.005%).\""
   ]
  },
  {
   "cell_type": "code",
   "execution_count": 20,
   "metadata": {
    "collapsed": true
   },
   "outputs": [],
   "source": [
    "# Calculating the flow rates in mmol/h\n",
    "\n",
    "ch4_L_per_h = ((0.11*430)/1000)*60\n",
    "o2_L_per_h = ((0.197*430)/1000)*60\n",
    "co2_L_per_h = ((0.005*430)/1000)*60\n",
    "\n",
    "T = 45 + 273.15\n",
    "R = 0.08216\n",
    "P = 1\n",
    "\n",
    "# PV=nRT\n",
    "\n",
    "ch4_mol_per_L_per_h = (P*ch4_L_per_h)/(R*T)\n",
    "o2_mol_per_L_per_h = (P*o2_L_per_h)/(R*T)\n",
    "co2_mol_per_L_per_h = (P*co2_L_per_h)/(R*T)\n",
    "\n",
    "Clim_ch4_mmol_per_L_per_h = ch4_mol_per_L_per_h*1000\n",
    "Clim_o2_mmol_per_L_per_h = o2_mol_per_L_per_h*1000\n",
    "Clim_co2_mmol_per_L_per_h = co2_mol_per_L_per_h*1000"
   ]
  },
  {
   "cell_type": "code",
   "execution_count": 24,
   "metadata": {
    "collapsed": false
   },
   "outputs": [
    {
     "name": "stdout",
     "output_type": "stream",
     "text": [
      "108.572548728 194.44356454 4.93511585127\n"
     ]
    }
   ],
   "source": [
    "print Clim_ch4_mmol_per_L_per_h,Clim_o2_mmol_per_L_per_h,Clim_co2_mmol_per_L_per_h"
   ]
  },
  {
   "cell_type": "markdown",
   "metadata": {},
   "source": [
    "Deactivation of NAD+-linked formaldehyde dehydrogenase, since it is only thought to have a detoxifying function with low expression."
   ]
  },
  {
   "cell_type": "code",
   "execution_count": 16,
   "metadata": {
    "collapsed": false
   },
   "outputs": [],
   "source": [
    "model.reactions.ALDD1_c.lower_bound = 0\n",
    "model.reactions.ALDD1_c.upper_bound = 0"
   ]
  },
  {
   "cell_type": "markdown",
   "metadata": {},
   "source": [
    "Fix up of gene names:"
   ]
  },
  {
   "cell_type": "code",
   "execution_count": 17,
   "metadata": {
    "collapsed": false
   },
   "outputs": [],
   "source": [
    "model.reactions.FALDDH_im.gene_reaction_rule = 'MCA2155'"
   ]
  },
  {
   "cell_type": "markdown",
   "metadata": {},
   "source": [
    "Define a function that implements the experimental conditions measured by Leak & Dalton in the model:"
   ]
  },
  {
   "cell_type": "code",
   "execution_count": 18,
   "metadata": {
    "collapsed": true
   },
   "outputs": [],
   "source": [
    "model.reactions.FALDDH_im.lower_bound = 0\n",
    "model.reactions.FALDDH_im.upper_bound = 1000"
   ]
  },
  {
   "cell_type": "code",
   "execution_count": 19,
   "metadata": {
    "collapsed": false
   },
   "outputs": [],
   "source": [
    "def efficiency_prediction(nitrogen_source,limitation,ratio_pMMO2sMMO,growth_condition,model):\n",
    "    o2_utr = []\n",
    "    ch4_utr = []\n",
    "    grwth_rate = []\n",
    "    \n",
    "    for l in range(len(nitrogen_source)):\n",
    "        \n",
    "        constraint = model.add_ratio_constraint('pMMO_im','sMMO_c',ratio_pMMO2sMMO[l])\n",
    "        constraint2 = model.add_ratio_constraint('FALDDH_im','FMFRD_c',ratio_pMMO2sMMO[l])\n",
    "        \n",
    "        if nitrogen_source[l] == 'no3':\n",
    "            model.reactions.EX_nh3_c.lower_bound = 0\n",
    "            model.reactions.EX_no3_e.lower_bound = -1000\n",
    "            model.reactions.GLNS_c.upper_bound = 1000\n",
    "            model.reactions.GLNS_c.lower_bound = 0\n",
    "        \n",
    "        elif nitrogen_source[l] == 'nh4':\n",
    "            model.reactions.EX_nh3_c.lower_bound = -1000\n",
    "            model.reactions.EX_no3_e.lower_bound = 0\n",
    "            model.reactions.GLNS_c.knock_out()\n",
    "        \n",
    "        if limitation[l] == 'O2':\n",
    "            model.reactions.EX_o2_c.lower_bound = -Olim_o2_mmol_per_L_per_h\n",
    "            model.reactions.EX_ch4_p.upper_bound = Olim_ch4_mmol_per_L_per_h\n",
    "            model.reactions.EX_co2_c.lower_bound = -Olim_co2_mmol_per_L_per_h\n",
    "            \n",
    "        elif limitation[l] == 'CH4':\n",
    "            model.reactions.EX_o2_c.lower_bound = -Clim_o2_mmol_per_L_per_h\n",
    "            model.reactions.EX_ch4_p.upper_bound = Clim_ch4_mmol_per_L_per_h\n",
    "            model.reactions.EX_co2_c.lower_bound = -Clim_co2_mmol_per_L_per_h\n",
    "            \n",
    "        if growth_condition == 'Chemostat':\n",
    "            model.reactions.BIOMASS_REACTION.lower_bound = 0.1\n",
    "            model.reactions.BIOMASS_REACTION.upper_bound = 0.1\n",
    "            \n",
    "            try:\n",
    "                solution = cameo.pfba(model)\n",
    "                o2_utr.append(solution.fluxes['EX_o2_c'])\n",
    "                ch4_utr.append(solution.fluxes['EX_ch4_p'])\n",
    "                grwth_rate.append(solution.fluxes['BIOMASS_REACTION'])\n",
    "            except cameo.exceptions.SolveError:\n",
    "                o2_utr.append(0)\n",
    "                ch4_utr.append(0)\n",
    "            \n",
    "        elif growth_condition == 'Batch':\n",
    "            model.reactions.BIOMASS_REACTION.lower_bound = 0\n",
    "            model.reactions.BIOMASS_REACTION.upper_bound = 1000\n",
    "\n",
    "            model.objective.direction = 'max'\n",
    "            model.change_objective(model.reactions.BIOMASS_REACTION)\n",
    "        \n",
    "            try:\n",
    "                solution = model.solve()\n",
    "                o2_utr.append(solution.fluxes['EX_o2_c'])\n",
    "                ch4_utr.append(solution.fluxes['EX_ch4_p'])\n",
    "                grwth_rate.append(solution.f)\n",
    "            except cameo.exceptions.SolveError:\n",
    "                o2_utr.append(0)\n",
    "                ch4_utr.append(0)\n",
    "        \n",
    "\n",
    "        model.solver.remove([constraint,constraint2])\n",
    "        model.solver.update()\n",
    "        \n",
    "    return o2_utr, ch4_utr, grwth_rate"
   ]
  },
  {
   "cell_type": "code",
   "execution_count": 20,
   "metadata": {
    "collapsed": true
   },
   "outputs": [],
   "source": [
    "n_sources = ['no3','no3','no3','no3','nh4','nh4','nh4']\n",
    "limitation = ['O2','O2','CH4','CH4','O2','O2','CH4']\n",
    "mmo_ratios = [0.02,1,0.01,0.99,0.02,0.99,0.96]"
   ]
  },
  {
   "cell_type": "markdown",
   "metadata": {},
   "source": [
    "BATCH RESULTS"
   ]
  },
  {
   "cell_type": "code",
   "execution_count": 21,
   "metadata": {
    "collapsed": false
   },
   "outputs": [],
   "source": [
    "res,ul,ts = efficiency_prediction(n_sources,limitation,mmo_ratios,'Batch',model)"
   ]
  },
  {
   "cell_type": "code",
   "execution_count": 22,
   "metadata": {
    "collapsed": false
   },
   "outputs": [],
   "source": [
    "ratios = [abs(float(res[i]/ul[i])) for i in range(len(res))]\n",
    "yields = [ts[i]/((ul[i]/1000)*16.04) for i in range(len(res))]"
   ]
  },
  {
   "cell_type": "code",
   "execution_count": 23,
   "metadata": {
    "collapsed": true
   },
   "outputs": [],
   "source": [
    "import pandas as pd"
   ]
  },
  {
   "cell_type": "code",
   "execution_count": 24,
   "metadata": {
    "collapsed": false
   },
   "outputs": [
    {
     "data": {
      "text/html": [
       "<div>\n",
       "<table border=\"1\" class=\"dataframe\">\n",
       "  <thead>\n",
       "    <tr style=\"text-align: right;\">\n",
       "      <th></th>\n",
       "      <th>Limitation</th>\n",
       "      <th>Nitrogen Source</th>\n",
       "      <th>O2/CH4</th>\n",
       "      <th>P/S (%)</th>\n",
       "      <th>YCH4</th>\n",
       "    </tr>\n",
       "  </thead>\n",
       "  <tbody>\n",
       "    <tr>\n",
       "      <th>0</th>\n",
       "      <td>O2</td>\n",
       "      <td>no3</td>\n",
       "      <td>1.500261</td>\n",
       "      <td>0.02</td>\n",
       "      <td>0.526707</td>\n",
       "    </tr>\n",
       "    <tr>\n",
       "      <th>1</th>\n",
       "      <td>O2</td>\n",
       "      <td>no3</td>\n",
       "      <td>1.500261</td>\n",
       "      <td>1.00</td>\n",
       "      <td>0.526707</td>\n",
       "    </tr>\n",
       "    <tr>\n",
       "      <th>2</th>\n",
       "      <td>CH4</td>\n",
       "      <td>no3</td>\n",
       "      <td>1.500261</td>\n",
       "      <td>0.01</td>\n",
       "      <td>0.526707</td>\n",
       "    </tr>\n",
       "    <tr>\n",
       "      <th>3</th>\n",
       "      <td>CH4</td>\n",
       "      <td>no3</td>\n",
       "      <td>1.500261</td>\n",
       "      <td>0.99</td>\n",
       "      <td>0.526707</td>\n",
       "    </tr>\n",
       "    <tr>\n",
       "      <th>4</th>\n",
       "      <td>O2</td>\n",
       "      <td>nh4</td>\n",
       "      <td>1.500373</td>\n",
       "      <td>0.02</td>\n",
       "      <td>0.752027</td>\n",
       "    </tr>\n",
       "    <tr>\n",
       "      <th>5</th>\n",
       "      <td>O2</td>\n",
       "      <td>nh4</td>\n",
       "      <td>1.500373</td>\n",
       "      <td>0.99</td>\n",
       "      <td>0.752027</td>\n",
       "    </tr>\n",
       "    <tr>\n",
       "      <th>6</th>\n",
       "      <td>CH4</td>\n",
       "      <td>nh4</td>\n",
       "      <td>1.500373</td>\n",
       "      <td>0.96</td>\n",
       "      <td>0.752027</td>\n",
       "    </tr>\n",
       "  </tbody>\n",
       "</table>\n",
       "</div>"
      ],
      "text/plain": [
       "  Limitation Nitrogen Source    O2/CH4  P/S (%)      YCH4\n",
       "0         O2             no3  1.500261     0.02  0.526707\n",
       "1         O2             no3  1.500261     1.00  0.526707\n",
       "2        CH4             no3  1.500261     0.01  0.526707\n",
       "3        CH4             no3  1.500261     0.99  0.526707\n",
       "4         O2             nh4  1.500373     0.02  0.752027\n",
       "5         O2             nh4  1.500373     0.99  0.752027\n",
       "6        CH4             nh4  1.500373     0.96  0.752027"
      ]
     },
     "execution_count": 24,
     "metadata": {},
     "output_type": "execute_result"
    }
   ],
   "source": [
    "d = {'Nitrogen Source' : pd.Series(n_sources, index=range(len(n_sources))),\n",
    "     'Limitation' : pd.Series(limitation, index=range(len(n_sources))),\n",
    "    'P/S (%)' : pd.Series(mmo_ratios, index=range(len(n_sources))),\n",
    "    'O2/CH4' : pd.Series(ratios, index=range(len(n_sources))),\n",
    "    'YCH4' : pd.Series(yields, index=range(len(n_sources)))}\n",
    "df = pd.DataFrame(d)\n",
    "df"
   ]
  },
  {
   "cell_type": "markdown",
   "metadata": {},
   "source": [
    "CHEMOSTAT RESULTS"
   ]
  },
  {
   "cell_type": "code",
   "execution_count": 25,
   "metadata": {
    "collapsed": false
   },
   "outputs": [],
   "source": [
    "res,ul,ts = efficiency_prediction(n_sources,limitation,mmo_ratios,'Chemostat',model)"
   ]
  },
  {
   "cell_type": "code",
   "execution_count": 26,
   "metadata": {
    "collapsed": false
   },
   "outputs": [],
   "source": [
    "ratios = [abs(float(res[i]/ul[i])) for i in range(len(res))]\n",
    "yields = [ts[i]/((ul[i]/1000)*16.04) for i in range(len(res))]"
   ]
  },
  {
   "cell_type": "code",
   "execution_count": 27,
   "metadata": {
    "collapsed": false
   },
   "outputs": [
    {
     "data": {
      "text/html": [
       "<div>\n",
       "<table border=\"1\" class=\"dataframe\">\n",
       "  <thead>\n",
       "    <tr style=\"text-align: right;\">\n",
       "      <th></th>\n",
       "      <th>Limitation</th>\n",
       "      <th>Nitrogen Source</th>\n",
       "      <th>O2/CH4</th>\n",
       "      <th>P/S (%)</th>\n",
       "      <th>YCH4</th>\n",
       "    </tr>\n",
       "  </thead>\n",
       "  <tbody>\n",
       "    <tr>\n",
       "      <th>0</th>\n",
       "      <td>O2</td>\n",
       "      <td>no3</td>\n",
       "      <td>1.500261</td>\n",
       "      <td>0.02</td>\n",
       "      <td>0.526707</td>\n",
       "    </tr>\n",
       "    <tr>\n",
       "      <th>1</th>\n",
       "      <td>O2</td>\n",
       "      <td>no3</td>\n",
       "      <td>1.500261</td>\n",
       "      <td>1.00</td>\n",
       "      <td>0.526063</td>\n",
       "    </tr>\n",
       "    <tr>\n",
       "      <th>2</th>\n",
       "      <td>CH4</td>\n",
       "      <td>no3</td>\n",
       "      <td>1.500261</td>\n",
       "      <td>0.01</td>\n",
       "      <td>0.526707</td>\n",
       "    </tr>\n",
       "    <tr>\n",
       "      <th>3</th>\n",
       "      <td>CH4</td>\n",
       "      <td>no3</td>\n",
       "      <td>1.500261</td>\n",
       "      <td>0.99</td>\n",
       "      <td>0.526063</td>\n",
       "    </tr>\n",
       "    <tr>\n",
       "      <th>4</th>\n",
       "      <td>O2</td>\n",
       "      <td>nh4</td>\n",
       "      <td>1.500373</td>\n",
       "      <td>0.02</td>\n",
       "      <td>0.752027</td>\n",
       "    </tr>\n",
       "    <tr>\n",
       "      <th>5</th>\n",
       "      <td>O2</td>\n",
       "      <td>nh4</td>\n",
       "      <td>1.500373</td>\n",
       "      <td>0.99</td>\n",
       "      <td>0.752027</td>\n",
       "    </tr>\n",
       "    <tr>\n",
       "      <th>6</th>\n",
       "      <td>CH4</td>\n",
       "      <td>nh4</td>\n",
       "      <td>1.500373</td>\n",
       "      <td>0.96</td>\n",
       "      <td>0.752027</td>\n",
       "    </tr>\n",
       "  </tbody>\n",
       "</table>\n",
       "</div>"
      ],
      "text/plain": [
       "  Limitation Nitrogen Source    O2/CH4  P/S (%)      YCH4\n",
       "0         O2             no3  1.500261     0.02  0.526707\n",
       "1         O2             no3  1.500261     1.00  0.526063\n",
       "2        CH4             no3  1.500261     0.01  0.526707\n",
       "3        CH4             no3  1.500261     0.99  0.526063\n",
       "4         O2             nh4  1.500373     0.02  0.752027\n",
       "5         O2             nh4  1.500373     0.99  0.752027\n",
       "6        CH4             nh4  1.500373     0.96  0.752027"
      ]
     },
     "execution_count": 27,
     "metadata": {},
     "output_type": "execute_result"
    }
   ],
   "source": [
    "d = {'Nitrogen Source' : pd.Series(n_sources, index=range(len(n_sources))),\n",
    "     'Limitation' : pd.Series(limitation, index=range(len(n_sources))),\n",
    "    'P/S (%)' : pd.Series(mmo_ratios, index=range(len(n_sources))),\n",
    "    'O2/CH4' : pd.Series(ratios, index=range(len(n_sources))),\n",
    "    'YCH4' : pd.Series(yields, index=range(len(n_sources)))}\n",
    "df = pd.DataFrame(d)\n",
    "df"
   ]
  },
  {
   "cell_type": "markdown",
   "metadata": {},
   "source": [
    "These results don't correspond to the measurements done by Leak and Dalton. On the basis of previously obtained PSORT data for the enzymes I relocated the Nitrate Reduction pathways and added proper transporters."
   ]
  },
  {
   "cell_type": "code",
   "execution_count": 28,
   "metadata": {
    "collapsed": false
   },
   "outputs": [],
   "source": [
    "model.reactions.HAO_im.id = 'HAO_p'"
   ]
  },
  {
   "cell_type": "code",
   "execution_count": 29,
   "metadata": {
    "collapsed": true
   },
   "outputs": [],
   "source": [
    "model.reactions.HAO_p.notes['LOCALIZATION'] = 'Periplasm'"
   ]
  },
  {
   "cell_type": "code",
   "execution_count": 30,
   "metadata": {
    "collapsed": false
   },
   "outputs": [
    {
     "data": {
      "text/plain": [
       "{u'COFACTOR': u'1 Fe',\n",
       " u'CONFIDENCE SCORE': u'4',\n",
       " u'INHIBITOR': u'',\n",
       " u'LOCALIZATION': 'Periplasm'}"
      ]
     },
     "execution_count": 30,
     "metadata": {},
     "output_type": "execute_result"
    }
   ],
   "source": [
    "model.reactions.HAO_p.notes"
   ]
  },
  {
   "cell_type": "code",
   "execution_count": 31,
   "metadata": {
    "collapsed": true
   },
   "outputs": [],
   "source": [
    "model.reactions.CYP460_im.notes['LOCALIZATION'] = 'Periplasm'\n",
    "model.reactions.CYP460_im.id = 'CYP460_p'"
   ]
  },
  {
   "cell_type": "markdown",
   "metadata": {},
   "source": [
    "The following cell throws an error, which is a bug according to Joao"
   ]
  },
  {
   "cell_type": "code",
   "execution_count": 32,
   "metadata": {
    "collapsed": false
   },
   "outputs": [],
   "source": [
    "model.reactions.NO3R1_im.notes['LOCALIZATION'] = 'Cytosol'\n",
    "model.reactions.NO3R1_im.id = 'NO3R1_c'\n",
    "model.reactions.NO3R1_c.add_metabolites({model.metabolites.no2_p: 0,\n",
    "                     model.metabolites.no2_c: 1,\n",
    "                     model.metabolites.no3_c: -1,\n",
    "                     model.metabolites.h2o_c: 1,\n",
    "                     model.metabolites.no3_p: 0,\n",
    "                     model.metabolites.h2o_p: 0,\n",
    "                     model.metabolites.q8h2_im: -1,\n",
    "                     model.metabolites.q8_im: 1},combine=False)"
   ]
  },
  {
   "cell_type": "code",
   "execution_count": 33,
   "metadata": {
    "collapsed": false
   },
   "outputs": [],
   "source": [
    "model.reactions.NOR_im.notes['LOCALIZATION'] = 'Periplasm'"
   ]
  },
  {
   "cell_type": "code",
   "execution_count": 34,
   "metadata": {
    "collapsed": false
   },
   "outputs": [],
   "source": [
    "model.reactions.NITR_AM_im.gene_reaction_rule = 'MCA2059'"
   ]
  },
  {
   "cell_type": "code",
   "execution_count": 35,
   "metadata": {
    "collapsed": true
   },
   "outputs": [],
   "source": [
    "model.reactions.NITR_NO_im.gene_reaction_rule = 'MCA2059'"
   ]
  },
  {
   "cell_type": "code",
   "execution_count": 36,
   "metadata": {
    "collapsed": false
   },
   "outputs": [],
   "source": [
    "model.reactions.NITR_AM_im.add_metabolites({model.metabolites.no2_p: 0,\n",
    "        model.metabolites.nh3_p: 0,\n",
    "        model.metabolites.focytcc553_p: -6,\n",
    "        model.metabolites.ficytcc553_p: 6,\n",
    "        model.metabolites.h2o_c: 2,\n",
    "        model.metabolites.nh3_c: 1,\n",
    "        model.metabolites.no2_c: -1,\n",
    "        model.metabolites.h_c: -8,\n",
    "        model.metabolites.no_c: 0,  \n",
    "        model.metabolites.h2o_p: 0,\n",
    "        model.metabolites.h_p: 0},combine=False)"
   ]
  },
  {
   "cell_type": "code",
   "execution_count": 37,
   "metadata": {
    "collapsed": true
   },
   "outputs": [],
   "source": [
    "model.reactions.NITR_NO_im.add_metabolites({model.metabolites.no2_p: 0,\n",
    "        model.metabolites.no_p: 0,\n",
    "        model.metabolites.focytcc553_p: -1,\n",
    "        model.metabolites.ficytcc553_p: 1,\n",
    "        model.metabolites.h2o_p: 0,\n",
    "        model.metabolites.h2o_c: 1,\n",
    "        model.metabolites.no2_c: -1,\n",
    "        model.metabolites.h_c: -2,\n",
    "        model.metabolites.no_c: 1,\n",
    "        model.metabolites.h_p: 0},combine=False)"
   ]
  },
  {
   "cell_type": "code",
   "execution_count": 38,
   "metadata": {
    "collapsed": true
   },
   "outputs": [],
   "source": [
    "model.reactions.NTRIR2x_c.annotation['brenda'] = '1.7.1.4'"
   ]
  },
  {
   "cell_type": "code",
   "execution_count": 39,
   "metadata": {
    "collapsed": true
   },
   "outputs": [],
   "source": [
    "model.reactions.NTRIR2y_c.annotation['brenda'] = '1.7.1.4'"
   ]
  },
  {
   "cell_type": "code",
   "execution_count": 40,
   "metadata": {
    "collapsed": true
   },
   "outputs": [],
   "source": [
    "rxn = Reaction('NO3abcpp')\n",
    "rxn.notes['LOCALIZATION'] = 'Inner Membrane'\n",
    "rxn.notes['CONFIDENCE SCORE'] = '2'\n",
    "rxn.annotation['brenda'] = '3.6.3.26'\n",
    "rxn.annotation['metanetx.reaction'] = 'MNXR19979'\n",
    "rxn.annotation['rhea'] = ['13181','13182','13183','13184']\n",
    "rxn.annotation['biocyc'] = 'META:3.6.3.26-RXN'\n",
    "rxn.name = 'Nitrate transport via ABC system (periplasm)'\n",
    "rxn.gene_reaction_rule = 'MCA0589'\n",
    "rxn.add_metabolites({model.metabolites.atp_c: -1,\n",
    "                    model.metabolites.h2o_c: -1,\n",
    "                    model.metabolites.no3_p: -1,\n",
    "                    model.metabolites.adp_c: 1,\n",
    "                    model.metabolites.h_c: 1,\n",
    "                    model.metabolites.no3_c: 1,\n",
    "                    model.metabolites.pi_c: 1},combine=False)\n",
    "rxn.id = 'NO3abcpp_im'\n",
    "model.add_reaction(rxn)"
   ]
  },
  {
   "cell_type": "code",
   "execution_count": 41,
   "metadata": {
    "collapsed": true
   },
   "outputs": [],
   "source": [
    "rxn = Reaction('NO3t7pp')\n",
    "rxn.notes['LOCALIZATION'] = 'Inner Membrane'\n",
    "rxn.notes['CONFIDENCE SCORE'] = '2'\n",
    "rxn.annotation['metanetx.reaction'] = 'MNXR3847'\n",
    "rxn.annotation['biocyc'] = 'META:TRANS-RXN0-239'\n",
    "rxn.name = 'Nitrate transport in via nitrite antiport (periplasm)'\n",
    "rxn.gene_reaction_rule = 'MCA0594'\n",
    "rxn.add_metabolites({model.metabolites.no2_p: 1,\n",
    "                    model.metabolites.no2_c: -1,\n",
    "                    model.metabolites.no3_p: -1,\n",
    "                    model.metabolites.no3_c: 1},combine=False)\n",
    "rxn.upper_bound = 1000\n",
    "rxn.lower_bound = -1000\n",
    "rxn.id = 'NO3t7pp_im'\n",
    "model.add_reaction(rxn)"
   ]
  },
  {
   "cell_type": "code",
   "execution_count": 42,
   "metadata": {
    "collapsed": true
   },
   "outputs": [],
   "source": [
    "model.repair()"
   ]
  },
  {
   "cell_type": "code",
   "execution_count": 43,
   "metadata": {
    "collapsed": true
   },
   "outputs": [],
   "source": [
    "model.reactions.EX_nh3_c.lower_bound = 0\n",
    "model.reactions.EX_no3_e.lower_bound = -1000"
   ]
  },
  {
   "cell_type": "markdown",
   "metadata": {},
   "source": [
    "Fixing reactions that potentially bypass the experimentally determined nh3 assimilation pathways:\n",
    "\n",
    "- High NH3 in medium = Alanine Dehydrogenase\n",
    "- Low NH3 in medium = GS/GOGAT + Alanine Dehydrogenase"
   ]
  },
  {
   "cell_type": "code",
   "execution_count": 44,
   "metadata": {
    "collapsed": false
   },
   "outputs": [
    {
     "name": "stdout",
     "output_type": "stream",
     "text": [
      "DHPPDA_c: 25dhpp_c + h2o_c + h_c --> 5apru_c + nh3_c\n",
      "GCCb_c: dhlpro_c + mlthf_c + nh3_c --> alpro_c + thf_c\n",
      "THRD__L_c: thr__L_c --> 2obut_c + nh3_c\n",
      "AMOs_c: nadh_c + nh3_c + o2_c --> h2o_c + ham_c + nad_c\n",
      "CYSLYSL_c: Lcystin_c + h2o_c --> nh3_c + pyr_c + thcys_c\n",
      "ASNS2_c: asp__L_c + atp_c + nh3_c --> amp_c + asn__L_c + h_c + ppi_c\n",
      "GMPS_c: atp_c + nh3_c + xmp_c --> amp_c + gmp_c + 2.0 h_c + ppi_c\n",
      "DCTPD2_c: ctp_c + h2o_c + h_c --> nh3_c + utp_c\n",
      "GLYCL_c: gly_c + nad_c + thf_c --> co2_c + mlthf_c + nadh_c + nh3_c\n",
      "ALAD__L_c: h_c + nadh_c + nh3_c + pyr_c --> ala__L_c + h2o_c + nad_c\n",
      "HMBS_c: h2o_c + 4.0 ppbng_c <=> hmbil_c + 4.0 nh3_c\n",
      "CYSTL_c: cyst__L_c + h2o_c --> hcys__L_c + nh3_c + pyr_c\n",
      "NTRLASE_c: 2.0 h2o_c + ind3acnl_c --> ind3ac_c + nh3_c\n",
      "GLUDy_c: akg_c + h_c + nadph_c + nh3_c --> glu__L_c + h2o_c + nadp_c\n",
      "NH3_im: nh3_p <=> nh3_c\n",
      "NNAM_c: h2o_c + ncam_c --> nac_c + nh3_c\n",
      "NTRIR2x_c: 5.0 h_c + 3.0 nadh_c + no2_c --> 2.0 h2o_c + 3.0 nad_c + nh3_c\n",
      "DORNOp_c: 5a2opntn_c + h2o2_c + nh3_c --> h2o_c + o2_c + orn_D_c\n",
      "GLYOp_c: gly_c + h2o_c + o2_c --> glx_c + h2o2_c + nh3_c\n",
      "DCTPD_c: dctp_c + h2o_c + h_c --> dutp_c + nh3_c\n",
      "CYSDS_c: cys__L_c + h2o_c --> h2s_c + nh3_c + pyr_c\n",
      "ASPO1_c: asp__L_c + h2o_c + o2_c --> h2o2_c + nh3_c + oaa_c\n",
      "SERD__L_c: nh3_c + pyr_c <=> ser__L_c\n",
      "G6PDA_c: gam6p_c + h2o_c --> f6p_c + nh3_c\n",
      "CSND_c: csn_c + h2o_c + h_c --> nh3_c + ura_c\n",
      "NITR_AM_im: 6 focytcc553_p + 8 h_c + no2_c --> 6 ficytcc553_p + 2 h2o_c + nh3_c\n",
      "GLUN_c: gln__L_c + h2o_c <=> glu__L_c + nh3_c\n",
      "CTPS1_c: atp_c + nh3_c + utp_c --> adp_c + ctp_c + 2.0 h_c + pi_c\n",
      "LLEUDr_c: 4mop_c + h_c + nadh_c + nh3_c <=> h2o_c + leu__L_c + nad_c\n",
      "GLNS_c: atp_c + glu__L_c + nh3_c --> adp_c + gln__L_c + h_c + pi_c\n",
      "EX_nh3_c: nh3_c --> \n",
      "VALDHr_c: h2o_c + nad_c + val__L_c --> 3mob_c + h_c + nadh_c + nh3_c\n",
      "NADS1_c: atp_c + dnad_c + nh3_c --> amp_c + h_c + nad_c + ppi_c\n",
      "ASNN_c: asn__L_c + h2o_c --> asp__L_c + nh3_c\n",
      "GLUDx_c: glu__L_c + h2o_c + nad_c --> akg_c + h_c + nadh_c + nh3_c\n",
      "ALPHNH_c: allphn_c + h2o_c + 3.0 h_c --> 2.0 co2_c + 2.0 nh3_c\n",
      "ANS2_c: chor_c + nh3_c --> anth_c + h2o_c + h_c + pyr_c\n",
      "NTRIR2y_c: 5.0 h_c + 3.0 nadph_c + no2_c --> 2.0 h2o_c + 3.0 nadp_c + nh3_c\n"
     ]
    }
   ],
   "source": [
    "for rxn in model.metabolites.nh3_c.reactions:\n",
    "    print rxn"
   ]
  },
  {
   "cell_type": "code",
   "execution_count": 45,
   "metadata": {
    "collapsed": true
   },
   "outputs": [],
   "source": [
    "model.reactions.HMBS_c.lower_bound = 0"
   ]
  },
  {
   "cell_type": "code",
   "execution_count": 46,
   "metadata": {
    "collapsed": true
   },
   "outputs": [],
   "source": [
    "invert_reaction(model.reactions.SERD__L_c)"
   ]
  },
  {
   "cell_type": "code",
   "execution_count": 47,
   "metadata": {
    "collapsed": false
   },
   "outputs": [],
   "source": [
    "model.reactions.SERD__L_c.lower_bound = 0"
   ]
  },
  {
   "cell_type": "code",
   "execution_count": 48,
   "metadata": {
    "collapsed": true
   },
   "outputs": [],
   "source": [
    "model.remove_reactions([model.reactions.LLEUDr_c])"
   ]
  },
  {
   "cell_type": "code",
   "execution_count": 49,
   "metadata": {
    "collapsed": true
   },
   "outputs": [],
   "source": [
    "model.remove_reactions([model.reactions.GLUN_c])"
   ]
  },
  {
   "cell_type": "markdown",
   "metadata": {},
   "source": [
    "Setting the 2 key ED pathway enzymes irreversible."
   ]
  },
  {
   "cell_type": "code",
   "execution_count": 50,
   "metadata": {
    "collapsed": false
   },
   "outputs": [],
   "source": [
    "invert_reaction(model.reactions.EDD_c)"
   ]
  },
  {
   "cell_type": "code",
   "execution_count": 51,
   "metadata": {
    "collapsed": true
   },
   "outputs": [],
   "source": [
    "invert_reaction(model.reactions.EDA_c)"
   ]
  },
  {
   "cell_type": "markdown",
   "metadata": {},
   "source": [
    "'There is supporting evidence that the serine pathway is connected to the RuBP pathway (20), since phosphoglyco- late could be generated by the oxygenase activity of Rubisco, and further converted by phosphoglycolate phosphatase (L/ H ? 1.62) to glycolate, which is then oxidized to glyoxylate by glyoxylate reductase (L/H ? 0.51).'\n",
    "- Kao, W.-C., Chen, Y.-R., Yi, E. C., Lee, H., Tian, Q., Wu, K.-M., … Chan, S. I. (2004). Quantitative proteomic analysis of metabolic regulation by copper ions in Methylococcus capsulatus (Bath). The Journal of Biological Chemistry, 279(49), 51554–51560. doi:10.1074/jbc.M408013200"
   ]
  },
  {
   "cell_type": "code",
   "execution_count": 52,
   "metadata": {
    "collapsed": false
   },
   "outputs": [],
   "source": [
    "invert_reaction(model.reactions.RBCh_c)"
   ]
  },
  {
   "cell_type": "markdown",
   "metadata": {},
   "source": [
    "Fixing the TCA cycle:\n",
    "\n",
    "\"The genes for the E1 and E2 subunits of 2-oxoglutarate dehydrogenase do occur in the genome (MCA1952, MCA1953), but it is well established that no activity of this enzyme can be detected in vivo, and without it the Krebs cycle cannot function [6]. Conditions under which the enzyme might be expressed cannot currently be envisaged.\" \n",
    "- Kelly, D. P., Anthony, C., & Murrel, J. C. (2005). Insights into the obligate methanotroph Methylococcus capsulatus. Trends in Microbiology, 13(5), 195–198. doi:10.1016/j.tim.2005.03.002\n",
    "\n",
    "\n",
    "\n",
    "\"Nitrosomonas europaea and Methylococcus capsulatus, which\n",
    "lack the functional enzyme, were found to contain the coding sequences for the E1 and E2 subunits of a-ketoglutarate dehydrogenase.\n",
    "Comparing the predicted physicochemical properties of the polypeptides coded by the genes confirmed the putative gene\n",
    "products were similar to the active a-ketoglutarate dehydrogenase subunits of heterotrophs. These obligate species are thus genomically\n",
    "competent with respect to this enzyme but are apparently incapable of producing a functional enzyme.\" \n",
    "- Wood, A. P., Aurikko, J. P., & Kelly, D. P. (2004). A challenge for 21st century molecular biology and biochemistry: What are the causes of obligate autotrophy and methanotrophy? FEMS Microbiology Reviews, 28(3), 335–352. doi:10.1016/j.femsre.2003.12.001"
   ]
  },
  {
   "cell_type": "code",
   "execution_count": 53,
   "metadata": {
    "collapsed": false
   },
   "outputs": [
    {
     "name": "stdout",
     "output_type": "stream",
     "text": [
      "2OXOADOXm_c: 2oxoadp_c + coa_c + nad_c --> co2_c + glutcoa_c + nadh_c\n",
      "2OXOADOXm_c: 2oxoadp_c + coa_c + nad_c --> co2_c + glutcoa_c + nadh_c\n",
      "OOR3r_c: co2_c + fdxrd_c + succoa_c <=> akg_c + coa_c + fdxox_c + h_c\n",
      "OOR3r_c: co2_c + fdxrd_c + succoa_c --> akg_c + coa_c + fdxox_c + h_c\n",
      "AKGDH_c: akg_c + coa_c + nad_c <=> co2_c + nadh_c + succoa_c\n",
      "AKGDH_c: akg_c + coa_c + nad_c --> co2_c + nadh_c + succoa_c\n"
     ]
    }
   ],
   "source": [
    "for rxn in model.genes.MCA1952.reactions:\n",
    "    print rxn\n",
    "    rxn.lower_bound = 0\n",
    "    rxn.upper_bound = 0\n",
    "    print rxn"
   ]
  },
  {
   "cell_type": "code",
   "execution_count": 54,
   "metadata": {
    "collapsed": false
   },
   "outputs": [
    {
     "name": "stdout",
     "output_type": "stream",
     "text": [
      "AKGDH_c: akg_c + coa_c + nad_c --> co2_c + nadh_c + succoa_c\n",
      "AKGDH_c: akg_c + coa_c + nad_c --> co2_c + nadh_c + succoa_c\n",
      "OOR3r_c: co2_c + fdxrd_c + succoa_c --> akg_c + coa_c + fdxox_c + h_c\n",
      "OOR3r_c: co2_c + fdxrd_c + succoa_c --> akg_c + coa_c + fdxox_c + h_c\n"
     ]
    }
   ],
   "source": [
    "for rxn in model.genes.MCA1953.reactions:\n",
    "    print rxn\n",
    "    rxn.lower_bound = 0\n",
    "    rxn.upper_bound = 0\n",
    "    print rxn"
   ]
  },
  {
   "cell_type": "code",
   "execution_count": 55,
   "metadata": {
    "collapsed": false
   },
   "outputs": [],
   "source": [
    "model.reactions.AKGDH_c.gene_reaction_rule = 'MCA1952 and MCA1953'"
   ]
  },
  {
   "cell_type": "code",
   "execution_count": 56,
   "metadata": {
    "collapsed": false
   },
   "outputs": [],
   "source": [
    "model.reactions.OOR3r_c.gene_reaction_rule = 'MCA1952 and MCA1953'"
   ]
  },
  {
   "cell_type": "code",
   "execution_count": 57,
   "metadata": {
    "collapsed": false
   },
   "outputs": [],
   "source": [
    "model.remove_reactions([model.reactions.get_by_id('2OXOADOXm_c')])"
   ]
  },
  {
   "cell_type": "markdown",
   "metadata": {},
   "source": [
    "The model should be able to grow with a knocked out GLNS_c / GS:"
   ]
  },
  {
   "cell_type": "code",
   "execution_count": 58,
   "metadata": {
    "collapsed": false
   },
   "outputs": [],
   "source": [
    "model.reactions.GLNS_c.upper_bound = 0"
   ]
  },
  {
   "cell_type": "code",
   "execution_count": 59,
   "metadata": {
    "collapsed": false
   },
   "outputs": [
    {
     "name": "stdout",
     "output_type": "stream",
     "text": [
      "ANS_c: anth_c + glu__L_c + h_c + pyr_c --> chor_c + gln__L_c\n",
      "GLNS_c: atp_c + glu__L_c + nh3_c --> adp_c + gln__L_c + h_c + pi_c\n"
     ]
    }
   ],
   "source": [
    "for rxn in model.metabolites.gln__L_c.reactions:\n",
    "    if model.metabolites.gln__L_c in rxn.products:\n",
    "        print rxn"
   ]
  },
  {
   "cell_type": "code",
   "execution_count": 60,
   "metadata": {
    "collapsed": false
   },
   "outputs": [],
   "source": [
    "invert_reaction(model.reactions.ANS_c)"
   ]
  },
  {
   "cell_type": "code",
   "execution_count": 61,
   "metadata": {
    "collapsed": true
   },
   "outputs": [],
   "source": [
    "model.reactions.ANS_c.lower_bound = -1000"
   ]
  },
  {
   "cell_type": "code",
   "execution_count": 62,
   "metadata": {
    "collapsed": true
   },
   "outputs": [],
   "source": [
    "model.reactions.ANS_c.upper_bound = 1000"
   ]
  },
  {
   "cell_type": "code",
   "execution_count": 63,
   "metadata": {
    "collapsed": true
   },
   "outputs": [],
   "source": [
    "invert_reaction(model.reactions.GLUDy_c)"
   ]
  },
  {
   "cell_type": "markdown",
   "metadata": {},
   "source": [
    "I will remove the alternative reaction using NH3 instead of glutamine, as reportedly either GS/GOGAT or AlaDH are the key drivers of N-Assimilation in M. caps."
   ]
  },
  {
   "cell_type": "code",
   "execution_count": 64,
   "metadata": {
    "collapsed": true
   },
   "outputs": [],
   "source": [
    "model.remove_reactions([model.reactions.ANS2_c])"
   ]
  },
  {
   "cell_type": "markdown",
   "metadata": {},
   "source": [
    "AlaDH can reportedly also use NADP as a cofactor."
   ]
  },
  {
   "cell_type": "code",
   "execution_count": 65,
   "metadata": {
    "collapsed": false
   },
   "outputs": [
    {
     "name": "stderr",
     "output_type": "stream",
     "text": [
      "Warning:  File contains basis.  Basis is loaded.\n"
     ]
    },
    {
     "name": "stdout",
     "output_type": "stream",
     "text": [
      "ALAD__Ly_c: h_c + nadph_c + nh3_c + pyr_c --> ala__L_c + h2o_c + nadp_c\n"
     ]
    }
   ],
   "source": [
    "rxnX = model.reactions.ALAD__L_c.copy()\n",
    "rxnX.id = 'ALAD__Ly_c'\n",
    "rxnX.add_metabolites({model.metabolites.nad_c:-1,\n",
    "                      model.metabolites.nadh_c:1,\n",
    "                      model.metabolites.nadp_c:1,\n",
    "                     model.metabolites.nadph_c:-1},combine=True)\n",
    "print rxnX\n",
    "model.add_reaction(rxnX)"
   ]
  },
  {
   "cell_type": "markdown",
   "metadata": {},
   "source": [
    "Despite Murell and Dalton 1983 argue that the glutamate synthase (GOGAT) is irreversible, I see no other way to achieve growth in the model under High NH3 conditions other than when the reaction is set to be reversible. Otherwise the model has no means to synthesize glutamine.\n",
    "\n",
    "De la torre et al have set this reaction to be reversible in their model of Methylomicrobium."
   ]
  },
  {
   "cell_type": "code",
   "execution_count": 66,
   "metadata": {
    "collapsed": true
   },
   "outputs": [],
   "source": [
    "model.reactions.GLUSy_c.lower_bound = -1000"
   ]
  },
  {
   "cell_type": "markdown",
   "metadata": {},
   "source": [
    "More appropriate constraints for Growth rate and Methane uptake rate"
   ]
  },
  {
   "cell_type": "code",
   "execution_count": 67,
   "metadata": {
    "collapsed": true
   },
   "outputs": [],
   "source": [
    "model.reactions.BIOMASS_REACTION.lower_bound = 0"
   ]
  },
  {
   "cell_type": "code",
   "execution_count": 68,
   "metadata": {
    "collapsed": false
   },
   "outputs": [],
   "source": [
    "model.reactions.EX_ch4_p.lower_bound = 0.1"
   ]
  },
  {
   "cell_type": "markdown",
   "metadata": {},
   "source": [
    "Finally it grows on the GS knockout!"
   ]
  },
  {
   "cell_type": "code",
   "execution_count": 69,
   "metadata": {
    "collapsed": false
   },
   "outputs": [
    {
     "name": "stdout",
     "output_type": "stream",
     "text": [
      "EX_co2_c 7.1511942\n",
      "EX_h2o_c 20.2272947\n",
      "EX_pi_c -0.4363681\n",
      "EX_ppi_c 0.1943564\n",
      "EX_hco3_c 1.0017309\n",
      "EX_o2_c -18.30570545\n",
      "EX_so4_c -0.017579\n",
      "EX_h2o2_c 0.000700000000001\n",
      "EX_co_c 3e-06\n",
      "EX_pant_R_c 0.0291964\n",
      "EX_fdxox_c 5.42101086243e-20\n",
      "EX_rdmbzi_c 0.0001\n",
      "EX_no3_e -0.880222\n",
      "EX_ch4_p 12.2017421\n",
      "EX_fe2_p 0.000612\n",
      "BIOMASS_REACTION 0.1\n"
     ]
    }
   ],
   "source": [
    "solution = show_uptake_excretion(model,model.reactions.get_by_id('BIOMASS_REACTION'))"
   ]
  },
  {
   "cell_type": "markdown",
   "metadata": {},
   "source": [
    "CHEMOSTAT RESULTS with improved model"
   ]
  },
  {
   "cell_type": "markdown",
   "metadata": {},
   "source": [
    "### Redox Arm hypothesis"
   ]
  },
  {
   "cell_type": "code",
   "execution_count": 70,
   "metadata": {
    "collapsed": true
   },
   "outputs": [],
   "source": [
    "res,ul,ts = efficiency_prediction(n_sources,limitation,mmo_ratios,'Chemostat',model)"
   ]
  },
  {
   "cell_type": "code",
   "execution_count": 71,
   "metadata": {
    "collapsed": true
   },
   "outputs": [],
   "source": [
    "ratios = [abs(float(res[i]/ul[i])) for i in range(len(res))]\n",
    "yields = [ts[i]/((ul[i]/1000)*16.04) for i in range(len(res))]"
   ]
  },
  {
   "cell_type": "code",
   "execution_count": 72,
   "metadata": {
    "collapsed": true
   },
   "outputs": [],
   "source": [
    "d = {'Nitrogen Source' : pd.Series(n_sources, index=range(len(n_sources))),\n",
    "     'CuSO4.5H20 (mg l^-1)':pd.Series([0.2,1.5,0.05,1.5,0.1,1.5,1.5],index=range(len(n_sources))),\n",
    "     'Limitation' : pd.Series(limitation, index=range(len(n_sources))),\n",
    "    'P/S (%)' : pd.Series(mmo_ratios, index=range(len(n_sources))),\n",
    "     'O2/CH4 - Experimental' : pd.Series([1.47,1.45,1.50,1.41,1.56,1.60,1.60], index=range(len(n_sources))),\n",
    "     'YCH4 - Experimental' : pd.Series([0.50,0.69,0.50,0.67,0.71,'0.69-0.75',0.67], index=range(len(n_sources))),\n",
    "    'O2/CH4 - Predicted' : pd.Series(ratios, index=range(len(n_sources))),\n",
    "    'YCH4 - Predicted' : pd.Series(yields, index=range(len(n_sources)))}\n",
    "df = pd.DataFrame(d)"
   ]
  },
  {
   "cell_type": "code",
   "execution_count": 73,
   "metadata": {
    "collapsed": false
   },
   "outputs": [
    {
     "data": {
      "text/html": [
       "<table border=\"1\" class=\"dataframe\">\n",
       "  <thead>\n",
       "    <tr style=\"text-align: right;\">\n",
       "      <th></th>\n",
       "      <th>CuSO4.5H20 (mg l^-1)</th>\n",
       "      <th>Limitation</th>\n",
       "      <th>Nitrogen Source</th>\n",
       "      <th>O2/CH4 - Experimental</th>\n",
       "      <th>O2/CH4 - Predicted</th>\n",
       "      <th>P/S (%)</th>\n",
       "      <th>YCH4 - Experimental</th>\n",
       "      <th>YCH4 - Predicted</th>\n",
       "    </tr>\n",
       "  </thead>\n",
       "  <tbody>\n",
       "    <tr>\n",
       "      <th>0</th>\n",
       "      <td>0.20</td>\n",
       "      <td>O2</td>\n",
       "      <td>no3</td>\n",
       "      <td>1.47</td>\n",
       "      <td>1.502724</td>\n",
       "      <td>0.02</td>\n",
       "      <td>0.5</td>\n",
       "      <td>0.526049</td>\n",
       "    </tr>\n",
       "    <tr>\n",
       "      <th>1</th>\n",
       "      <td>1.50</td>\n",
       "      <td>O2</td>\n",
       "      <td>no3</td>\n",
       "      <td>1.45</td>\n",
       "      <td>1.502724</td>\n",
       "      <td>1.00</td>\n",
       "      <td>0.69</td>\n",
       "      <td>0.526049</td>\n",
       "    </tr>\n",
       "    <tr>\n",
       "      <th>2</th>\n",
       "      <td>0.05</td>\n",
       "      <td>CH4</td>\n",
       "      <td>no3</td>\n",
       "      <td>1.50</td>\n",
       "      <td>1.502724</td>\n",
       "      <td>0.01</td>\n",
       "      <td>0.5</td>\n",
       "      <td>0.526049</td>\n",
       "    </tr>\n",
       "    <tr>\n",
       "      <th>3</th>\n",
       "      <td>1.50</td>\n",
       "      <td>CH4</td>\n",
       "      <td>no3</td>\n",
       "      <td>1.41</td>\n",
       "      <td>1.502724</td>\n",
       "      <td>0.99</td>\n",
       "      <td>0.67</td>\n",
       "      <td>0.526049</td>\n",
       "    </tr>\n",
       "    <tr>\n",
       "      <th>4</th>\n",
       "      <td>0.10</td>\n",
       "      <td>O2</td>\n",
       "      <td>nh4</td>\n",
       "      <td>1.56</td>\n",
       "      <td>1.503876</td>\n",
       "      <td>0.02</td>\n",
       "      <td>0.71</td>\n",
       "      <td>0.748384</td>\n",
       "    </tr>\n",
       "    <tr>\n",
       "      <th>5</th>\n",
       "      <td>1.50</td>\n",
       "      <td>O2</td>\n",
       "      <td>nh4</td>\n",
       "      <td>1.60</td>\n",
       "      <td>1.503876</td>\n",
       "      <td>0.99</td>\n",
       "      <td>0.69-0.75</td>\n",
       "      <td>0.748384</td>\n",
       "    </tr>\n",
       "    <tr>\n",
       "      <th>6</th>\n",
       "      <td>1.50</td>\n",
       "      <td>CH4</td>\n",
       "      <td>nh4</td>\n",
       "      <td>1.60</td>\n",
       "      <td>1.503876</td>\n",
       "      <td>0.96</td>\n",
       "      <td>0.67</td>\n",
       "      <td>0.748384</td>\n",
       "    </tr>\n",
       "  </tbody>\n",
       "</table>"
      ],
      "text/plain": [
       "<IPython.core.display.HTML object>"
      ]
     },
     "execution_count": 73,
     "metadata": {},
     "output_type": "execute_result"
    }
   ],
   "source": [
    "HTML(df.to_html())"
   ]
  },
  {
   "cell_type": "markdown",
   "metadata": {},
   "source": [
    "The model is predictive of the Nitrogen source but it does not reflect the fractions of pMMO vs sMMO."
   ]
  },
  {
   "cell_type": "markdown",
   "metadata": {
    "collapsed": true
   },
   "source": [
    "### Uphill electron Transfer!"
   ]
  },
  {
   "cell_type": "code",
   "execution_count": 74,
   "metadata": {
    "collapsed": false
   },
   "outputs": [],
   "source": [
    "model.reactions.CYOR_q8_im.lower_bound = -1.7 #-1.7"
   ]
  },
  {
   "cell_type": "code",
   "execution_count": 75,
   "metadata": {
    "collapsed": false
   },
   "outputs": [],
   "source": [
    "res,ul,ts = efficiency_prediction(n_sources,limitation,mmo_ratios,'Chemostat',model)"
   ]
  },
  {
   "cell_type": "code",
   "execution_count": 76,
   "metadata": {
    "collapsed": false
   },
   "outputs": [
    {
     "data": {
      "text/plain": [
       "([-15.88815718725487,\n",
       "  -14.409366650000067,\n",
       "  -15.967744049999824,\n",
       "  -14.409366650000166,\n",
       "  -12.367269187254882,\n",
       "  -9.12803464999994,\n",
       "  -9.128034649999943],\n",
       " [10.890780568627427,\n",
       "  10.151385300000042,\n",
       "  10.930573999999877,\n",
       "  10.151385300000108,\n",
       "  8.250114568627437,\n",
       "  6.630497299999961,\n",
       "  6.630497299999962],\n",
       " [0.1, 0.1, 0.1, 0.1, 0.1, 0.1, 0.1])"
      ]
     },
     "execution_count": 76,
     "metadata": {},
     "output_type": "execute_result"
    }
   ],
   "source": [
    "res,ul,ts"
   ]
  },
  {
   "cell_type": "code",
   "execution_count": 77,
   "metadata": {
    "collapsed": true
   },
   "outputs": [],
   "source": [
    "ratios = [abs(float(res[i]/ul[i])) for i in range(len(res))]\n",
    "yields = [ts[i]/((ul[i]/1000)*16.04) for i in range(len(res))]"
   ]
  },
  {
   "cell_type": "code",
   "execution_count": 78,
   "metadata": {
    "collapsed": false
   },
   "outputs": [],
   "source": [
    "d = {'Nitrogen Source' : pd.Series(n_sources, index=range(len(n_sources))),\n",
    "     'CuSO4.5H20 (mg l^-1)':pd.Series([0.2,1.5,0.05,1.5,0.1,1.5,1.5],index=range(len(n_sources))),\n",
    "     'Limitation' : pd.Series(limitation, index=range(len(n_sources))),\n",
    "    'P/S (%)' : pd.Series(mmo_ratios, index=range(len(n_sources))),\n",
    "     'O2/CH4 - Experimental' : pd.Series([1.47,1.45,1.50,1.41,1.56,1.60,1.60], index=range(len(n_sources))),\n",
    "     'YCH4 - Experimental' : pd.Series([0.50,0.69,0.50,0.67,0.71,'0.69-0.75',0.67], index=range(len(n_sources))),\n",
    "    'O2/CH4 - Predicted' : pd.Series(ratios, index=range(len(n_sources))),\n",
    "    'YCH4 - Predicted' : pd.Series(yields, index=range(len(n_sources)))}\n",
    "df = pd.DataFrame(d)"
   ]
  },
  {
   "cell_type": "code",
   "execution_count": 79,
   "metadata": {
    "collapsed": false,
    "scrolled": false
   },
   "outputs": [
    {
     "data": {
      "text/html": [
       "<table border=\"1\" class=\"dataframe\">\n",
       "  <thead>\n",
       "    <tr style=\"text-align: right;\">\n",
       "      <th></th>\n",
       "      <th>CuSO4.5H20 (mg l^-1)</th>\n",
       "      <th>Limitation</th>\n",
       "      <th>Nitrogen Source</th>\n",
       "      <th>O2/CH4 - Experimental</th>\n",
       "      <th>O2/CH4 - Predicted</th>\n",
       "      <th>P/S (%)</th>\n",
       "      <th>YCH4 - Experimental</th>\n",
       "      <th>YCH4 - Predicted</th>\n",
       "    </tr>\n",
       "  </thead>\n",
       "  <tbody>\n",
       "    <tr>\n",
       "      <th>0</th>\n",
       "      <td>0.20</td>\n",
       "      <td>O2</td>\n",
       "      <td>no3</td>\n",
       "      <td>1.47</td>\n",
       "      <td>1.458863</td>\n",
       "      <td>0.02</td>\n",
       "      <td>0.5</td>\n",
       "      <td>0.572449</td>\n",
       "    </tr>\n",
       "    <tr>\n",
       "      <th>1</th>\n",
       "      <td>1.50</td>\n",
       "      <td>O2</td>\n",
       "      <td>no3</td>\n",
       "      <td>1.45</td>\n",
       "      <td>1.419448</td>\n",
       "      <td>1.00</td>\n",
       "      <td>0.69</td>\n",
       "      <td>0.614144</td>\n",
       "    </tr>\n",
       "    <tr>\n",
       "      <th>2</th>\n",
       "      <td>0.05</td>\n",
       "      <td>CH4</td>\n",
       "      <td>no3</td>\n",
       "      <td>1.50</td>\n",
       "      <td>1.460833</td>\n",
       "      <td>0.01</td>\n",
       "      <td>0.5</td>\n",
       "      <td>0.570365</td>\n",
       "    </tr>\n",
       "    <tr>\n",
       "      <th>3</th>\n",
       "      <td>1.50</td>\n",
       "      <td>CH4</td>\n",
       "      <td>no3</td>\n",
       "      <td>1.41</td>\n",
       "      <td>1.419448</td>\n",
       "      <td>0.99</td>\n",
       "      <td>0.67</td>\n",
       "      <td>0.614144</td>\n",
       "    </tr>\n",
       "    <tr>\n",
       "      <th>4</th>\n",
       "      <td>0.10</td>\n",
       "      <td>O2</td>\n",
       "      <td>nh4</td>\n",
       "      <td>1.56</td>\n",
       "      <td>1.499042</td>\n",
       "      <td>0.02</td>\n",
       "      <td>0.71</td>\n",
       "      <td>0.755676</td>\n",
       "    </tr>\n",
       "    <tr>\n",
       "      <th>5</th>\n",
       "      <td>1.50</td>\n",
       "      <td>O2</td>\n",
       "      <td>nh4</td>\n",
       "      <td>1.60</td>\n",
       "      <td>1.376674</td>\n",
       "      <td>0.99</td>\n",
       "      <td>0.69-0.75</td>\n",
       "      <td>0.940263</td>\n",
       "    </tr>\n",
       "    <tr>\n",
       "      <th>6</th>\n",
       "      <td>1.50</td>\n",
       "      <td>CH4</td>\n",
       "      <td>nh4</td>\n",
       "      <td>1.60</td>\n",
       "      <td>1.376674</td>\n",
       "      <td>0.96</td>\n",
       "      <td>0.67</td>\n",
       "      <td>0.940263</td>\n",
       "    </tr>\n",
       "  </tbody>\n",
       "</table>"
      ],
      "text/plain": [
       "<IPython.core.display.HTML object>"
      ]
     },
     "execution_count": 79,
     "metadata": {},
     "output_type": "execute_result"
    }
   ],
   "source": [
    "HTML(df.to_html())"
   ]
  },
  {
   "cell_type": "markdown",
   "metadata": {},
   "source": [
    "The above is a lot closer to the experimentally measured values."
   ]
  },
  {
   "cell_type": "markdown",
   "metadata": {
    "collapsed": true
   },
   "source": [
    "### Direct coupling!"
   ]
  },
  {
   "cell_type": "code",
   "execution_count": 80,
   "metadata": {
    "collapsed": false
   },
   "outputs": [],
   "source": [
    "model.reactions.CYOR_q8_im.lower_bound = 0"
   ]
  },
  {
   "cell_type": "code",
   "execution_count": 81,
   "metadata": {
    "collapsed": false
   },
   "outputs": [
    {
     "name": "stderr",
     "output_type": "stream",
     "text": [
      "Warning:  File contains basis.  Basis is loaded.\n"
     ]
    }
   ],
   "source": [
    "pMMO_dir_coupl_im = model.reactions.pMMO_im.copy()"
   ]
  },
  {
   "cell_type": "code",
   "execution_count": 82,
   "metadata": {
    "collapsed": true
   },
   "outputs": [],
   "source": [
    "model.reactions.pMMO_im.upper_bound = 0"
   ]
  },
  {
   "cell_type": "code",
   "execution_count": 83,
   "metadata": {
    "collapsed": false
   },
   "outputs": [],
   "source": [
    "pMMO_dir_coupl_im.id = 'pMMO_dir_coupl_im'\n",
    "pMMO_dir_coupl_im.add_metabolites({model.metabolites.q8h2_im: 1,\n",
    "                              model.metabolites.q8_im: -1,\n",
    "                              model.metabolites.focytcc555_p: -2,\n",
    "                              model.metabolites.ficytcc555_p: 2},combine = True)\n",
    "model.add_reaction(pMMO_dir_coupl_im)"
   ]
  },
  {
   "cell_type": "code",
   "execution_count": 84,
   "metadata": {
    "collapsed": false
   },
   "outputs": [
    {
     "data": {
      "text/html": [
       "\n",
       "        <table>\n",
       "            <tr>\n",
       "                <td><strong>Id</strong></td><td>pMMO_dir_coupl_im</td>\n",
       "            </tr>\n",
       "            <tr>\n",
       "                <td><strong>Name</strong></td><td>particulate Methane Monooxygenase</td>\n",
       "            </tr>\n",
       "            <tr>\n",
       "                <td><strong>Stoichiometry</strong></td><td>ch4_p + 2 focytcc555_p + o2_p --> 2 ficytcc555_p + h2o_p + meoh_p</td>\n",
       "            </tr>\n",
       "            <tr>\n",
       "                <td><strong>GPR</strong></td><td>(((MCA1796 and MCA1797 and MCA1798) or (MCA2853 and MCA2854 and MCA2855)) and MCA0295)</td>\n",
       "            </tr>\n",
       "            <tr>\n",
       "                <td><strong>Lower bound</strong></td><td>0.000000</td>\n",
       "            </tr>\n",
       "            <tr>\n",
       "                <td><strong>Upper bound</strong></td><td>1000.000000</td>\n",
       "            </tr>\n",
       "        </table>\n",
       "        "
      ],
      "text/plain": [
       "<Reaction pMMO_dir_coupl_im at 0x111f35150>"
      ]
     },
     "execution_count": 84,
     "metadata": {},
     "output_type": "execute_result"
    }
   ],
   "source": [
    "model.reactions.pMMO_dir_coupl_im"
   ]
  },
  {
   "cell_type": "code",
   "execution_count": 85,
   "metadata": {
    "collapsed": true
   },
   "outputs": [],
   "source": [
    "res,ul,ts = efficiency_prediction(n_sources,limitation,mmo_ratios,'Chemostat',model)"
   ]
  },
  {
   "cell_type": "code",
   "execution_count": 86,
   "metadata": {
    "collapsed": true
   },
   "outputs": [],
   "source": [
    "ratios = [abs(float(res[i]/ul[i])) for i in range(len(res))]\n",
    "yields = [ts[i]/((ul[i]/1000)*16.04) for i in range(len(res))]"
   ]
  },
  {
   "cell_type": "code",
   "execution_count": 87,
   "metadata": {
    "collapsed": true
   },
   "outputs": [],
   "source": [
    "d = {'Nitrogen Source' : pd.Series(n_sources, index=range(len(n_sources))),\n",
    "     'CuSO4.5H20 (mg l^-1)':pd.Series([0.2,1.5,0.05,1.5,0.1,1.5,1.5],index=range(len(n_sources))),\n",
    "     'Limitation' : pd.Series(limitation, index=range(len(n_sources))),\n",
    "    'P/S (%)' : pd.Series(mmo_ratios, index=range(len(n_sources))),\n",
    "     'O2/CH4 - Experimental' : pd.Series([1.47,1.45,1.50,1.41,1.56,1.60,1.60], index=range(len(n_sources))),\n",
    "     'YCH4 - Experimental' : pd.Series([0.50,0.69,0.50,0.67,0.71,'0.69-0.75',0.67], index=range(len(n_sources))),\n",
    "    'O2/CH4 - Predicted' : pd.Series(ratios, index=range(len(n_sources))),\n",
    "    'YCH4 - Predicted' : pd.Series(yields, index=range(len(n_sources)))}\n",
    "df = pd.DataFrame(d)"
   ]
  },
  {
   "cell_type": "code",
   "execution_count": 88,
   "metadata": {
    "collapsed": false
   },
   "outputs": [
    {
     "data": {
      "text/html": [
       "<table border=\"1\" class=\"dataframe\">\n",
       "  <thead>\n",
       "    <tr style=\"text-align: right;\">\n",
       "      <th></th>\n",
       "      <th>CuSO4.5H20 (mg l^-1)</th>\n",
       "      <th>Limitation</th>\n",
       "      <th>Nitrogen Source</th>\n",
       "      <th>O2/CH4 - Experimental</th>\n",
       "      <th>O2/CH4 - Predicted</th>\n",
       "      <th>P/S (%)</th>\n",
       "      <th>YCH4 - Experimental</th>\n",
       "      <th>YCH4 - Predicted</th>\n",
       "    </tr>\n",
       "  </thead>\n",
       "  <tbody>\n",
       "    <tr>\n",
       "      <th>0</th>\n",
       "      <td>0.20</td>\n",
       "      <td>O2</td>\n",
       "      <td>no3</td>\n",
       "      <td>1.47</td>\n",
       "      <td>1.005449</td>\n",
       "      <td>0.02</td>\n",
       "      <td>0.5</td>\n",
       "      <td>1.052099</td>\n",
       "    </tr>\n",
       "    <tr>\n",
       "      <th>1</th>\n",
       "      <td>1.50</td>\n",
       "      <td>O2</td>\n",
       "      <td>no3</td>\n",
       "      <td>1.45</td>\n",
       "      <td>1.005449</td>\n",
       "      <td>1.00</td>\n",
       "      <td>0.69</td>\n",
       "      <td>1.052099</td>\n",
       "    </tr>\n",
       "    <tr>\n",
       "      <th>2</th>\n",
       "      <td>0.05</td>\n",
       "      <td>CH4</td>\n",
       "      <td>no3</td>\n",
       "      <td>1.50</td>\n",
       "      <td>1.005449</td>\n",
       "      <td>0.01</td>\n",
       "      <td>0.5</td>\n",
       "      <td>1.052099</td>\n",
       "    </tr>\n",
       "    <tr>\n",
       "      <th>3</th>\n",
       "      <td>1.50</td>\n",
       "      <td>CH4</td>\n",
       "      <td>no3</td>\n",
       "      <td>1.41</td>\n",
       "      <td>1.005449</td>\n",
       "      <td>0.99</td>\n",
       "      <td>0.67</td>\n",
       "      <td>1.052099</td>\n",
       "    </tr>\n",
       "    <tr>\n",
       "      <th>4</th>\n",
       "      <td>0.10</td>\n",
       "      <td>O2</td>\n",
       "      <td>nh4</td>\n",
       "      <td>1.56</td>\n",
       "      <td>1.007804</td>\n",
       "      <td>0.02</td>\n",
       "      <td>0.71</td>\n",
       "      <td>1.496690</td>\n",
       "    </tr>\n",
       "    <tr>\n",
       "      <th>5</th>\n",
       "      <td>1.50</td>\n",
       "      <td>O2</td>\n",
       "      <td>nh4</td>\n",
       "      <td>1.60</td>\n",
       "      <td>1.007752</td>\n",
       "      <td>0.99</td>\n",
       "      <td>0.69-0.75</td>\n",
       "      <td>1.496769</td>\n",
       "    </tr>\n",
       "    <tr>\n",
       "      <th>6</th>\n",
       "      <td>1.50</td>\n",
       "      <td>CH4</td>\n",
       "      <td>nh4</td>\n",
       "      <td>1.60</td>\n",
       "      <td>1.007752</td>\n",
       "      <td>0.96</td>\n",
       "      <td>0.67</td>\n",
       "      <td>1.496769</td>\n",
       "    </tr>\n",
       "  </tbody>\n",
       "</table>"
      ],
      "text/plain": [
       "<IPython.core.display.HTML object>"
      ]
     },
     "execution_count": 88,
     "metadata": {},
     "output_type": "execute_result"
    }
   ],
   "source": [
    "HTML(df.to_html())"
   ]
  },
  {
   "cell_type": "markdown",
   "metadata": {},
   "source": [
    "### Finding the percentage splits of redox-arm, direct-coupling and uphill-electron-transfer"
   ]
  },
  {
   "cell_type": "code",
   "execution_count": 89,
   "metadata": {
    "collapsed": true
   },
   "outputs": [],
   "source": [
    "from cameo.util import TimeMachine"
   ]
  },
  {
   "cell_type": "code",
   "execution_count": 96,
   "metadata": {
    "collapsed": false
   },
   "outputs": [
    {
     "name": "stdout",
     "output_type": "stream",
     "text": [
      "0.0 0.218062652941 -0.73019\n",
      "1.47007459261\n",
      "-7.45926114618e-05\n"
     ]
    }
   ],
   "source": [
    "with TimeMachine() as tm:\n",
    "    try:\n",
    "        constraint = model.add_ratio_constraint('pMMO_im','sMMO_c',0.02)\n",
    "        constraint2 = model.add_ratio_constraint('FALDDH_im','FMFRD_c',0.02)\n",
    "        \n",
    "#         reaction1 = model.reactions.EX_o2_c\n",
    "#         reaction2 = model.reactions.EX_ch4_p\n",
    "#         ratio = 1.47\n",
    "#         flux_ratio_constraint = model.solver.interface.Constraint(reaction1.flux_expression - ratio * reaction2.flux_expression, lb = 1.47)\n",
    "#         model.solver.add(flux_ratio_constraint)\n",
    "        \n",
    "        model.reactions.EX_nh3_c.change_bounds(lb=0,ub=1000,time_machine=tm)\n",
    "        model.reactions.EX_no3_e.change_bounds(lb=-1000,ub=1000,time_machine=tm)\n",
    "        model.reactions.GLNS_c.change_bounds(lb=0,ub=1000,time_machine=tm)\n",
    "        model.reactions.EX_o2_c.change_bounds(lb=-Olim_o2_mmol_per_L_per_h,ub=1000,time_machine=tm)\n",
    "        model.reactions.EX_ch4_p.change_bounds(lb=0,ub=Olim_ch4_mmol_per_L_per_h,time_machine=tm)\n",
    "        model.reactions.EX_co2_c.change_bounds(lb=-Olim_co2_mmol_per_L_per_h,ub=1000,time_machine=tm)\n",
    "        \n",
    "        model.reactions.BIOMASS_REACTION.change_bounds(lb=0.1,ub=0.1,time_machine=tm)\n",
    "        model.reactions.NGAM_c.change_bounds(lb=0,ub=1000,time_machine=tm)\n",
    "        \n",
    "        model.reactions.pMMO_dir_coupl_im.change_bounds(lb=0,ub=0,time_machine=tm)\n",
    "        model.reactions.pMMO_im.change_bounds(lb=0,ub=1000,time_machine=tm)\n",
    "        model.reactions.CYOR_q8_im.change_bounds(lb=-0.73019,ub=0,time_machine=tm)\n",
    "        \n",
    "        solution = cameo.pfba(model)\n",
    "        print solution.fluxes['pMMO_dir_coupl_im'],solution.fluxes['pMMO_im'],solution.fluxes['CYOR_q8_im']\n",
    "        print abs(float(solution.fluxes['EX_o2_c']/solution.fluxes['EX_ch4_p']))\n",
    "        print 1.47-abs(float(solution.fluxes['EX_o2_c']/solution.fluxes['EX_ch4_p']))\n",
    "\n",
    "    finally:\n",
    "        model.solver.remove([constraint,constraint2])\n",
    "        model.solver.update()\n",
    "#         model.solver.remove([flux_ratio_constraint])\n",
    "#         model.solver.update()"
   ]
  },
  {
   "cell_type": "code",
   "execution_count": 134,
   "metadata": {
    "collapsed": false
   },
   "outputs": [
    {
     "name": "stdout",
     "output_type": "stream",
     "text": [
      "0.0 5.36069765 -1.12999\n",
      "1.45031371523\n",
      "-0.000313715230704\n"
     ]
    }
   ],
   "source": [
    "with TimeMachine() as tm:\n",
    "    try:\n",
    "        constraint = model.add_ratio_constraint('pMMO_im','sMMO_c',1.)\n",
    "        constraint2 = model.add_ratio_constraint('FALDDH_im','FMFRD_c',1.)\n",
    "        \n",
    "#         reaction1 = model.reactions.EX_o2_c\n",
    "#         reaction2 = model.reactions.EX_ch4_p\n",
    "#         ratio = 1.47\n",
    "#         flux_ratio_constraint = model.solver.interface.Constraint(reaction1.flux_expression - ratio * reaction2.flux_expression, lb = 1.47)\n",
    "#         model.solver.add(flux_ratio_constraint)\n",
    "        \n",
    "        model.reactions.EX_nh3_c.change_bounds(lb=0,ub=1000,time_machine=tm)\n",
    "        model.reactions.EX_no3_e.change_bounds(lb=-1000,ub=1000,time_machine=tm)\n",
    "        model.reactions.GLNS_c.change_bounds(lb=0,ub=1000,time_machine=tm)\n",
    "        model.reactions.EX_o2_c.change_bounds(lb=-Olim_o2_mmol_per_L_per_h,ub=1000,time_machine=tm)\n",
    "        model.reactions.EX_ch4_p.change_bounds(lb=0,ub=Olim_ch4_mmol_per_L_per_h,time_machine=tm)\n",
    "        model.reactions.EX_co2_c.change_bounds(lb=-Olim_co2_mmol_per_L_per_h,ub=1000,time_machine=tm)\n",
    "        \n",
    "        model.reactions.BIOMASS_REACTION.change_bounds(lb=0.1,ub=0.1,time_machine=tm)\n",
    "        model.reactions.NGAM_c.change_bounds(lb=0,ub=1000,time_machine=tm)\n",
    "        \n",
    "        model.reactions.pMMO_dir_coupl_im.change_bounds(lb=0,ub=0,time_machine=tm)\n",
    "        model.reactions.pMMO_im.change_bounds(lb=0,ub=1000,time_machine=tm)\n",
    "        model.reactions.CYOR_q8_im.change_bounds(lb=-1.12999,ub=0,time_machine=tm)\n",
    "        \n",
    "        solution = cameo.pfba(model)\n",
    "        print solution.fluxes['pMMO_dir_coupl_im'],solution.fluxes['pMMO_im'],solution.fluxes['CYOR_q8_im']\n",
    "        print abs(float(solution.fluxes['EX_o2_c']/solution.fluxes['EX_ch4_p']))\n",
    "        print 1.45-abs(float(solution.fluxes['EX_o2_c']/solution.fluxes['EX_ch4_p']))\n",
    "\n",
    "    finally:\n",
    "        model.solver.remove([constraint,constraint2])\n",
    "        model.solver.update()\n",
    "#         model.solver.remove([flux_ratio_constraint])\n",
    "#         model.solver.update()"
   ]
  },
  {
   "cell_type": "code",
   "execution_count": 185,
   "metadata": {
    "collapsed": false
   },
   "outputs": [
    {
     "name": "stdout",
     "output_type": "stream",
     "text": [
      "0.063 0.116092923762 0.0\n",
      "1.50006690484\n",
      "-6.69048372555e-05\n"
     ]
    }
   ],
   "source": [
    "with TimeMachine() as tm:\n",
    "    try:\n",
    "        constraint = model.add_ratio_constraint('pMMO_im','sMMO_c',0.01)\n",
    "        constraint2 = model.add_ratio_constraint('FALDDH_im','FMFRD_c',0.01)\n",
    "        \n",
    "#         reaction1 = model.reactions.EX_o2_c\n",
    "#         reaction2 = model.reactions.EX_ch4_p\n",
    "#         ratio = 1.47\n",
    "#         flux_ratio_constraint = model.solver.interface.Constraint(reaction1.flux_expression - ratio * reaction2.flux_expression, lb = 1.47)\n",
    "#         model.solver.add(flux_ratio_constraint)\n",
    "        \n",
    "        model.reactions.EX_nh3_c.change_bounds(lb=0,ub=1000,time_machine=tm)\n",
    "        model.reactions.EX_no3_e.change_bounds(lb=-1000,ub=1000,time_machine=tm)\n",
    "        model.reactions.GLNS_c.change_bounds(lb=0,ub=1000,time_machine=tm)\n",
    "        model.reactions.EX_o2_c.change_bounds(lb=-Olim_o2_mmol_per_L_per_h,ub=1000,time_machine=tm)\n",
    "        model.reactions.EX_ch4_p.change_bounds(lb=0,ub=Olim_ch4_mmol_per_L_per_h,time_machine=tm)\n",
    "        model.reactions.EX_co2_c.change_bounds(lb=-Olim_co2_mmol_per_L_per_h,ub=1000,time_machine=tm)\n",
    "        \n",
    "        model.reactions.BIOMASS_REACTION.change_bounds(lb=0.1,ub=0.1,time_machine=tm)\n",
    "        model.reactions.NGAM_c.change_bounds(lb=0,ub=1000,time_machine=tm)\n",
    "        \n",
    "        model.reactions.pMMO_dir_coupl_im.change_bounds(lb=0,ub=0.063,time_machine=tm)\n",
    "        model.reactions.pMMO_im.change_bounds(lb=0,ub=1000,time_machine=tm)\n",
    "        model.reactions.CYOR_q8_im.change_bounds(lb=0,ub=0,time_machine=tm)\n",
    "        \n",
    "        solution = cameo.pfba(model)\n",
    "        print solution.fluxes['pMMO_dir_coupl_im'],solution.fluxes['pMMO_im'],solution.fluxes['CYOR_q8_im']\n",
    "        print abs(float(solution.fluxes['EX_o2_c']/solution.fluxes['EX_ch4_p']))\n",
    "        print 1.50-abs(float(solution.fluxes['EX_o2_c']/solution.fluxes['EX_ch4_p']))\n",
    "\n",
    "    finally:\n",
    "        model.solver.remove([constraint,constraint2])\n",
    "        model.solver.update()\n",
    "#         model.solver.remove([flux_ratio_constraint])\n",
    "#         model.solver.update()"
   ]
  },
  {
   "cell_type": "code",
   "execution_count": 186,
   "metadata": {
    "collapsed": false
   },
   "outputs": [
    {
     "name": "stdout",
     "output_type": "stream",
     "text": [
      "0.0 4.97058866683 -1.86\n",
      "1.41015146819\n",
      "-0.000151468185298\n"
     ]
    }
   ],
   "source": [
    "with TimeMachine() as tm:\n",
    "    try:\n",
    "        constraint = model.add_ratio_constraint('pMMO_im','sMMO_c',0.99)\n",
    "        constraint2 = model.add_ratio_constraint('FALDDH_im','FMFRD_c',0.99)\n",
    "        \n",
    "#         reaction1 = model.reactions.EX_o2_c\n",
    "#         reaction2 = model.reactions.EX_ch4_p\n",
    "#         ratio = 1.47\n",
    "#         flux_ratio_constraint = model.solver.interface.Constraint(reaction1.flux_expression - ratio * reaction2.flux_expression, lb = 1.47)\n",
    "#         model.solver.add(flux_ratio_constraint)\n",
    "        \n",
    "        model.reactions.EX_nh3_c.change_bounds(lb=0,ub=1000,time_machine=tm)\n",
    "        model.reactions.EX_no3_e.change_bounds(lb=-1000,ub=1000,time_machine=tm)\n",
    "        model.reactions.GLNS_c.change_bounds(lb=0,ub=1000,time_machine=tm)\n",
    "        model.reactions.EX_o2_c.change_bounds(lb=-Olim_o2_mmol_per_L_per_h,ub=1000,time_machine=tm)\n",
    "        model.reactions.EX_ch4_p.change_bounds(lb=0,ub=Olim_ch4_mmol_per_L_per_h,time_machine=tm)\n",
    "        model.reactions.EX_co2_c.change_bounds(lb=-Olim_co2_mmol_per_L_per_h,ub=1000,time_machine=tm)\n",
    "        \n",
    "        model.reactions.BIOMASS_REACTION.change_bounds(lb=0.1,ub=0.1,time_machine=tm)\n",
    "        model.reactions.NGAM_c.change_bounds(lb=0,ub=1000,time_machine=tm)\n",
    "        \n",
    "        model.reactions.pMMO_dir_coupl_im.change_bounds(lb=0,ub=0,time_machine=tm)\n",
    "        model.reactions.pMMO_im.change_bounds(lb=0,ub=1000,time_machine=tm)\n",
    "        model.reactions.CYOR_q8_im.change_bounds(lb=-1.86,ub=0,time_machine=tm)\n",
    "        \n",
    "        solution = cameo.pfba(model)\n",
    "        print solution.fluxes['pMMO_dir_coupl_im'],solution.fluxes['pMMO_im'],solution.fluxes['CYOR_q8_im']\n",
    "        print abs(float(solution.fluxes['EX_o2_c']/solution.fluxes['EX_ch4_p']))\n",
    "        print 1.41-abs(float(solution.fluxes['EX_o2_c']/solution.fluxes['EX_ch4_p']))\n",
    "\n",
    "    finally:\n",
    "        model.solver.remove([constraint,constraint2])\n",
    "        model.solver.update()\n",
    "#         model.solver.remove([flux_ratio_constraint])\n",
    "#         model.solver.update()"
   ]
  },
  {
   "cell_type": "code",
   "execution_count": 194,
   "metadata": {
    "collapsed": false
   },
   "outputs": [
    {
     "name": "stdout",
     "output_type": "stream",
     "text": [
      "0.0 0.163343084314 0.0\n",
      "-12.52803465 8.3304973\n",
      "1.50387596308\n",
      "0.0561240369167\n"
     ]
    }
   ],
   "source": [
    "with TimeMachine() as tm:\n",
    "    try:\n",
    "        constraint = model.add_ratio_constraint('pMMO_im','sMMO_c',0.02)\n",
    "        constraint2 = model.add_ratio_constraint('FALDDH_im','FMFRD_c',0.02)\n",
    "        \n",
    "#         reaction1 = model.reactions.EX_o2_c\n",
    "#         reaction2 = model.reactions.EX_ch4_p\n",
    "#         ratio = 1.47\n",
    "#         flux_ratio_constraint = model.solver.interface.Constraint(reaction1.flux_expression - ratio * reaction2.flux_expression, lb = 1.47)\n",
    "#         model.solver.add(flux_ratio_constraint)\n",
    "        \n",
    "        model.reactions.EX_nh3_c.change_bounds(lb=-1000,ub=1000,time_machine=tm)\n",
    "        model.reactions.EX_no3_e.change_bounds(lb=0,ub=1000,time_machine=tm)\n",
    "        model.reactions.GLNS_c.change_bounds(lb=0,ub=0,time_machine=tm)\n",
    "        model.reactions.EX_o2_c.change_bounds(lb=-Olim_o2_mmol_per_L_per_h,ub=1000,time_machine=tm)\n",
    "        model.reactions.EX_ch4_p.change_bounds(lb=0,ub=Olim_ch4_mmol_per_L_per_h,time_machine=tm)\n",
    "        model.reactions.EX_co2_c.change_bounds(lb=-Olim_co2_mmol_per_L_per_h,ub=1000,time_machine=tm)\n",
    "        \n",
    "        model.reactions.BIOMASS_REACTION.change_bounds(lb=0.1,ub=0.1,time_machine=tm)\n",
    "        model.reactions.NGAM_c.change_bounds(lb=60,ub=1000,time_machine=tm)\n",
    "        \n",
    "        model.reactions.pMMO_dir_coupl_im.change_bounds(lb=0,ub=0,time_machine=tm)\n",
    "        model.reactions.pMMO_im.change_bounds(lb=0,ub=1000,time_machine=tm)\n",
    "        model.reactions.CYOR_q8_im.change_bounds(lb=0.0,ub=0,time_machine=tm)\n",
    "        \n",
    "        solution = cameo.pfba(model)\n",
    "        print solution.fluxes['pMMO_dir_coupl_im'],solution.fluxes['pMMO_im'],solution.fluxes['CYOR_q8_im']\n",
    "        print solution.fluxes['EX_o2_c'],solution.fluxes['EX_ch4_p']\n",
    "        print abs(float(solution.fluxes['EX_o2_c']/solution.fluxes['EX_ch4_p']))\n",
    "        print 1.56-abs(float(solution.fluxes['EX_o2_c']/solution.fluxes['EX_ch4_p']))\n",
    "\n",
    "    finally:\n",
    "        model.solver.remove([constraint,constraint2])\n",
    "        model.solver.update()\n",
    "#         model.solver.remove([flux_ratio_constraint])\n",
    "#         model.solver.update()"
   ]
  },
  {
   "cell_type": "markdown",
   "metadata": {},
   "source": [
    "Using the fit parameter"
   ]
  },
  {
   "cell_type": "code",
   "execution_count": 210,
   "metadata": {
    "collapsed": false,
    "scrolled": true
   },
   "outputs": [
    {
     "data": {
      "text/html": [
       "<table border=\"1\" class=\"dataframe\">\n",
       "  <thead>\n",
       "    <tr style=\"text-align: right;\">\n",
       "      <th></th>\n",
       "      <th>CuSO4.5H20 (mg l^-1)</th>\n",
       "      <th>Limitation</th>\n",
       "      <th>Nitrogen Source</th>\n",
       "      <th>O2/CH4 - Experimental</th>\n",
       "      <th>O2/CH4 - Predicted</th>\n",
       "      <th>P/S (%)</th>\n",
       "      <th>YCH4 - Experimental</th>\n",
       "      <th>YCH4 - Predicted</th>\n",
       "    </tr>\n",
       "  </thead>\n",
       "  <tbody>\n",
       "    <tr>\n",
       "      <th>0</th>\n",
       "      <td>0.20</td>\n",
       "      <td>O2</td>\n",
       "      <td>no3</td>\n",
       "      <td>1.47</td>\n",
       "      <td>1.458863</td>\n",
       "      <td>0.02</td>\n",
       "      <td>0.5</td>\n",
       "      <td>0.572449</td>\n",
       "    </tr>\n",
       "    <tr>\n",
       "      <th>1</th>\n",
       "      <td>1.50</td>\n",
       "      <td>O2</td>\n",
       "      <td>no3</td>\n",
       "      <td>1.45</td>\n",
       "      <td>1.408968</td>\n",
       "      <td>1.00</td>\n",
       "      <td>0.69</td>\n",
       "      <td>0.625230</td>\n",
       "    </tr>\n",
       "    <tr>\n",
       "      <th>2</th>\n",
       "      <td>0.05</td>\n",
       "      <td>CH4</td>\n",
       "      <td>no3</td>\n",
       "      <td>1.50</td>\n",
       "      <td>1.460833</td>\n",
       "      <td>0.01</td>\n",
       "      <td>0.5</td>\n",
       "      <td>0.570365</td>\n",
       "    </tr>\n",
       "    <tr>\n",
       "      <th>3</th>\n",
       "      <td>1.50</td>\n",
       "      <td>CH4</td>\n",
       "      <td>no3</td>\n",
       "      <td>1.41</td>\n",
       "      <td>1.408968</td>\n",
       "      <td>0.99</td>\n",
       "      <td>0.67</td>\n",
       "      <td>0.625230</td>\n",
       "    </tr>\n",
       "    <tr>\n",
       "      <th>4</th>\n",
       "      <td>0.10</td>\n",
       "      <td>O2</td>\n",
       "      <td>nh4</td>\n",
       "      <td>1.56</td>\n",
       "      <td>1.499042</td>\n",
       "      <td>0.02</td>\n",
       "      <td>0.71</td>\n",
       "      <td>0.755676</td>\n",
       "    </tr>\n",
       "    <tr>\n",
       "      <th>5</th>\n",
       "      <td>1.50</td>\n",
       "      <td>O2</td>\n",
       "      <td>nh4</td>\n",
       "      <td>1.60</td>\n",
       "      <td>1.359280</td>\n",
       "      <td>0.99</td>\n",
       "      <td>0.69-0.75</td>\n",
       "      <td>0.966501</td>\n",
       "    </tr>\n",
       "    <tr>\n",
       "      <th>6</th>\n",
       "      <td>1.50</td>\n",
       "      <td>CH4</td>\n",
       "      <td>nh4</td>\n",
       "      <td>1.60</td>\n",
       "      <td>1.359280</td>\n",
       "      <td>0.96</td>\n",
       "      <td>0.67</td>\n",
       "      <td>0.966501</td>\n",
       "    </tr>\n",
       "  </tbody>\n",
       "</table>"
      ],
      "text/plain": [
       "<IPython.core.display.HTML object>"
      ]
     },
     "execution_count": 210,
     "metadata": {},
     "output_type": "execute_result"
    }
   ],
   "source": [
    "with TimeMachine() as tm:\n",
    "    model.reactions.pMMO_dir_coupl_im.change_bounds(lb=0,ub=0,time_machine=tm)\n",
    "    model.reactions.pMMO_im.change_bounds(lb=0,ub=1000,time_machine=tm)\n",
    "    model.reactions.CYOR_q8_im.change_bounds(lb=-1.88,ub=0,time_machine=tm)\n",
    "    res,ul,ts = efficiency_prediction(n_sources,limitation,mmo_ratios,'Chemostat',model)\n",
    "\n",
    "ratios = [abs(float(res[i]/ul[i])) for i in range(len(res))]\n",
    "yields = [ts[i]/((ul[i]/1000)*16.04) for i in range(len(res))]\n",
    "\n",
    "d = {'Nitrogen Source' : pd.Series(n_sources, index=range(len(n_sources))),\n",
    "     'CuSO4.5H20 (mg l^-1)':pd.Series([0.2,1.5,0.05,1.5,0.1,1.5,1.5],index=range(len(n_sources))),\n",
    "     'Limitation' : pd.Series(limitation, index=range(len(n_sources))),\n",
    "    'P/S (%)' : pd.Series(mmo_ratios, index=range(len(n_sources))),\n",
    "     'O2/CH4 - Experimental' : pd.Series([1.47,1.45,1.50,1.41,1.56,1.60,1.60], index=range(len(n_sources))),\n",
    "     'YCH4 - Experimental' : pd.Series([0.50,0.69,0.50,0.67,0.71,'0.69-0.75',0.67], index=range(len(n_sources))),\n",
    "    'O2/CH4 - Predicted' : pd.Series(ratios, index=range(len(n_sources))),\n",
    "    'YCH4 - Predicted' : pd.Series(yields, index=range(len(n_sources)))}\n",
    "df = pd.DataFrame(d)\n",
    "\n",
    "HTML(df.to_html())"
   ]
  },
  {
   "cell_type": "code",
   "execution_count": 211,
   "metadata": {
    "collapsed": true
   },
   "outputs": [],
   "source": [
    "df.to_csv('PartialValidation.csv')"
   ]
  },
  {
   "cell_type": "code",
   "execution_count": 212,
   "metadata": {
    "collapsed": true
   },
   "outputs": [],
   "source": [
    "target_filename_json = relative_directory + '/Reconstructions/MethylococcusModel10.json'\n",
    "target_filename_xml = relative_directory + '/Reconstructions/MethylococcusModel10.xml'\n",
    "cobra.io.write_sbml_model(model, target_filename_xml, use_fbc_package=True)\n",
    "cobra.io.save_json_model(model, target_filename_json,pretty = True)"
   ]
  },
  {
   "cell_type": "code",
   "execution_count": null,
   "metadata": {
    "collapsed": true
   },
   "outputs": [],
   "source": [
    "\n",
    "\n"
   ]
  },
  {
   "cell_type": "code",
   "execution_count": null,
   "metadata": {
    "collapsed": true
   },
   "outputs": [],
   "source": []
  },
  {
   "cell_type": "code",
   "execution_count": null,
   "metadata": {
    "collapsed": true
   },
   "outputs": [],
   "source": []
  },
  {
   "cell_type": "code",
   "execution_count": null,
   "metadata": {
    "collapsed": false
   },
   "outputs": [],
   "source": [
    "#model.reactions.pMMO_dir_coupl_im.upper_bound = 0"
   ]
  },
  {
   "cell_type": "code",
   "execution_count": 213,
   "metadata": {
    "collapsed": false
   },
   "outputs": [
    {
     "name": "stdout",
     "output_type": "stream",
     "text": [
      "\n",
      "Note: You must interrupt the kernel to end this command\n",
      "\n",
      "Serving to http://127.0.0.1:7655/\n",
      "[Ctrl-C to exit from terminal, or Ctrl-M i i to interrupt notebook kernel]\n"
     ]
    },
    {
     "name": "stderr",
     "output_type": "stream",
     "text": [
      "/Users/clie/.virtualenvs/modeling/lib/python2.7/site-packages/escher/plots.py:351: UserWarning:\n",
      "\n",
      "map_json overrides map_name\n",
      "\n",
      "127.0.0.1 - - [22/Sep/2016 10:32:28] \"GET / HTTP/1.1\" 200 -\n"
     ]
    },
    {
     "name": "stdout",
     "output_type": "stream",
     "text": [
      "\n",
      "stopping Server...\n"
     ]
    }
   ],
   "source": [
    "import escher\n",
    "        \n",
    "maps = escher.Builder(\n",
    "                    model=model,\n",
    "                    map_name = 'Methylococcus capsulatus genome-scale metabolic model',\n",
    "                    map_json='/Users/clie/Desktop/EFPro2/Reconstructions/Metabolic Map/15MinorChanges.json',\n",
    "                    reaction_data=solution.fluxes,\n",
    "                    show_gene_reaction_rules=True,\n",
    "                    use_3d_transform = True,\n",
    "                    )\n",
    "\n",
    "maps.set_reaction_scale([ { 'type': 'min', 'color': 'rgb(235,89,162)', 'size': 12 },\n",
    "   { 'type': 'median', 'color': 'rgb(200,200,200)', 'size': 20 },\n",
    "   { 'type': 'max', 'color': 'rgb(255,255,109)', 'size': 25 } ])\n",
    "maps.display_in_browser()"
   ]
  },
  {
   "cell_type": "code",
   "execution_count": null,
   "metadata": {
    "collapsed": true
   },
   "outputs": [],
   "source": []
  },
  {
   "cell_type": "code",
   "execution_count": null,
   "metadata": {
    "collapsed": true
   },
   "outputs": [],
   "source": []
  },
  {
   "cell_type": "code",
   "execution_count": null,
   "metadata": {
    "collapsed": false
   },
   "outputs": [],
   "source": [
    "try:\n",
    "    stuff\n",
    "except Exception as e:\n",
    "    print(e)"
   ]
  },
  {
   "cell_type": "code",
   "execution_count": null,
   "metadata": {
    "collapsed": false
   },
   "outputs": [],
   "source": [
    "model.reactions.BIOMASS_REACTION"
   ]
  },
  {
   "cell_type": "code",
   "execution_count": null,
   "metadata": {
    "collapsed": true
   },
   "outputs": [],
   "source": []
  }
 ],
 "metadata": {
  "kernelspec": {
   "display_name": "Python 2",
   "language": "python",
   "name": "python2"
  },
  "language_info": {
   "codemirror_mode": {
    "name": "ipython",
    "version": 2
   },
   "file_extension": ".py",
   "mimetype": "text/x-python",
   "name": "python",
   "nbconvert_exporter": "python",
   "pygments_lexer": "ipython2",
   "version": "2.7.9"
  }
 },
 "nbformat": 4,
 "nbformat_minor": 0
}
