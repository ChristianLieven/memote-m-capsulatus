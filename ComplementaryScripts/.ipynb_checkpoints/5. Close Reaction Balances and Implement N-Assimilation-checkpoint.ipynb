{
 "cells": [
  {
   "cell_type": "markdown",
   "metadata": {},
   "source": [
    "# Validation and correction of the model's growth rate"
   ]
  },
  {
   "cell_type": "markdown",
   "metadata": {},
   "source": [
    "This will be achieved by using uptake/ secretion rates from literature and experiments"
   ]
  },
  {
   "cell_type": "markdown",
   "metadata": {},
   "source": [
    "## Import"
   ]
  },
  {
   "cell_type": "code",
   "execution_count": 1,
   "metadata": {
    "collapsed": false
   },
   "outputs": [
    {
     "data": {
      "text/html": []
     },
     "metadata": {},
     "output_type": "display_data"
    },
    {
     "data": {
      "application/javascript": [
       "\n",
       "(function(global) {\n",
       "  function now() {\n",
       "    return new Date();\n",
       "  }\n",
       "\n",
       "  if (typeof (window._bokeh_onload_callbacks) === \"undefined\") {\n",
       "    window._bokeh_onload_callbacks = [];\n",
       "  }\n",
       "\n",
       "  function run_callbacks() {\n",
       "    window._bokeh_onload_callbacks.forEach(function(callback) { callback() });\n",
       "    delete window._bokeh_onload_callbacks\n",
       "    console.info(\"Bokeh: all callbacks have finished\");\n",
       "  }\n",
       "\n",
       "  function load_libs(js_urls, callback) {\n",
       "    window._bokeh_onload_callbacks.push(callback);\n",
       "    if (window._bokeh_is_loading > 0) {\n",
       "      console.log(\"Bokeh: BokehJS is being loaded, scheduling callback at\", now());\n",
       "      return null;\n",
       "    }\n",
       "    if (js_urls == null || js_urls.length === 0) {\n",
       "      run_callbacks();\n",
       "      return null;\n",
       "    }\n",
       "    console.log(\"Bokeh: BokehJS not loaded, scheduling load and callback at\", now());\n",
       "    window._bokeh_is_loading = js_urls.length;\n",
       "    for (var i = 0; i < js_urls.length; i++) {\n",
       "      var url = js_urls[i];\n",
       "      var s = document.createElement('script');\n",
       "      s.src = url;\n",
       "      s.async = false;\n",
       "      s.onreadystatechange = s.onload = function() {\n",
       "        window._bokeh_is_loading--;\n",
       "        if (window._bokeh_is_loading === 0) {\n",
       "          console.log(\"Bokeh: all BokehJS libraries loaded\");\n",
       "          run_callbacks()\n",
       "        }\n",
       "      };\n",
       "      s.onerror = function() {\n",
       "        console.warn(\"failed to load library \" + url);\n",
       "      };\n",
       "      console.log(\"Bokeh: injecting script tag for BokehJS library: \", url);\n",
       "      document.getElementsByTagName(\"head\")[0].appendChild(s);\n",
       "    }\n",
       "  };\n",
       "\n",
       "  var js_urls = ['https://cdn.pydata.org/bokeh/release/bokeh-0.11.1.min.js', 'https://cdn.pydata.org/bokeh/release/bokeh-widgets-0.11.1.min.js', 'https://cdn.pydata.org/bokeh/release/bokeh-compiler-0.11.1.min.js'];\n",
       "\n",
       "  var inline_js = [\n",
       "    function(Bokeh) {\n",
       "      Bokeh.set_log_level(\"info\");\n",
       "    },\n",
       "    \n",
       "    function(Bokeh) {\n",
       "      Bokeh.$(\"#92cf336e-1ad2-4425-aec7-06479a4879c0\").text(\"BokehJS successfully loaded\");\n",
       "    },\n",
       "    function(Bokeh) {\n",
       "      console.log(\"Bokeh: injecting CSS: https://cdn.pydata.org/bokeh/release/bokeh-0.11.1.min.css\");\n",
       "      Bokeh.embed.inject_css(\"https://cdn.pydata.org/bokeh/release/bokeh-0.11.1.min.css\");\n",
       "      console.log(\"Bokeh: injecting CSS: https://cdn.pydata.org/bokeh/release/bokeh-widgets-0.11.1.min.css\");\n",
       "      Bokeh.embed.inject_css(\"https://cdn.pydata.org/bokeh/release/bokeh-widgets-0.11.1.min.css\");\n",
       "    }\n",
       "  ];\n",
       "\n",
       "  function run_inline_js() {\n",
       "    for (var i = 0; i < inline_js.length; i++) {\n",
       "      inline_js[i](window.Bokeh);\n",
       "    }\n",
       "  }\n",
       "\n",
       "  if (window._bokeh_is_loading === 0) {\n",
       "    console.log(\"Bokeh: BokehJS loaded, going straight to plotting\");\n",
       "    run_inline_js();\n",
       "  } else {\n",
       "    load_libs(js_urls, function() {\n",
       "      console.log(\"Bokeh: BokehJS plotting callback run at\", now());\n",
       "      run_inline_js();\n",
       "    });\n",
       "  }\n",
       "}(this));"
      ]
     },
     "metadata": {},
     "output_type": "display_data"
    }
   ],
   "source": [
    "import cameo\n",
    "from cobra import Model, Reaction, Metabolite\n",
    "from cobra.io import read_sbml_model\n",
    "from cobra.io import save_json_model\n",
    "from cameo.flux_analysis.simulation import pfba\n",
    "import cobra.test\n",
    "import os\n",
    "from Functions_Modules.curation_tools import *"
   ]
  },
  {
   "cell_type": "code",
   "execution_count": 2,
   "metadata": {
    "collapsed": true
   },
   "outputs": [],
   "source": [
    "relative_directory = os.getcwd()\n",
    "filename = relative_directory + '/Reconstructions/MethylococcusModel7.xml'\n",
    "model = cameo.load_model(filename)"
   ]
  },
  {
   "cell_type": "markdown",
   "metadata": {},
   "source": [
    "## Test for functionality since the import"
   ]
  },
  {
   "cell_type": "code",
   "execution_count": 3,
   "metadata": {
    "collapsed": true
   },
   "outputs": [],
   "source": [
    "model.objective = model.reactions.get_by_id('BIOMASS_REACTION')"
   ]
  },
  {
   "cell_type": "code",
   "execution_count": 4,
   "metadata": {
    "collapsed": false
   },
   "outputs": [
    {
     "name": "stdout",
     "output_type": "stream",
     "text": [
      "nh3_in 2.22267253458\n",
      "so4_in 0.0431511113679\n",
      "pi_in 0.205783796572\n",
      "o2_in 27.6095107568\n",
      "h_out 2.28229450495\n",
      "co2_out 9.55563643741\n",
      "h2o_out 32.0698874446\n",
      "ACP_out 0.023333569739\n",
      "cytd_out 0.0545892896547\n",
      "pap_out 0.0431511113679\n",
      "MNXM4297_out 0.0549150295064\n",
      "ch4_in 18.405\n",
      "BIOMASS_REACTION 0.196228826331\n"
     ]
    }
   ],
   "source": [
    "solution = show_uptake_excretion(model,model.reactions.get_by_id('BIOMASS_REACTION'))"
   ]
  },
  {
   "cell_type": "code",
   "execution_count": 5,
   "metadata": {
    "collapsed": false
   },
   "outputs": [
    {
     "data": {
      "text/plain": [
       "-1.0*BIOMASS_REACTION_reverse_42726 + 1.0*BIOMASS_REACTION"
      ]
     },
     "execution_count": 5,
     "metadata": {},
     "output_type": "execute_result"
    }
   ],
   "source": [
    "model.objective.expression"
   ]
  },
  {
   "cell_type": "code",
   "execution_count": 6,
   "metadata": {
    "collapsed": false
   },
   "outputs": [
    {
     "data": {
      "text/plain": [
       "1010"
      ]
     },
     "execution_count": 6,
     "metadata": {},
     "output_type": "execute_result"
    }
   ],
   "source": [
    "len(model.solver.constraints)"
   ]
  },
  {
   "cell_type": "code",
   "execution_count": 7,
   "metadata": {
    "collapsed": false
   },
   "outputs": [
    {
     "data": {
      "text/plain": [
       "[('FBA_c', 2.6935546075184096),\n",
       " ('PYK_c', 2.0319567571265638),\n",
       " ('ENO_c', 2.289825767300278),\n",
       " ('PGM_c', 2.2910031402582653),\n",
       " ('GAPD_c', 0.6525870226867049),\n",
       " ('TPI_c', 2.667456173616355),\n",
       " ('PGI_c', 0.04932211549835687),\n",
       " ('PGK_c', 2.291199369084597),\n",
       " ('MNXR26374_c', 0.21602792245040703),\n",
       " ('ICDHxm_c', 0.031020245324095756),\n",
       " ('PRPPS_c', 0.19943638272645603),\n",
       " ('RPI_c', 2.770878576534234),\n",
       " ('TKT2_c', 3.0521914370474),\n",
       " ('TALA_c', 2.97188478987134),\n",
       " ('MNXR5933_c', 8.79128532440058),\n",
       " ('MNXR85335_c', 8.79128532440058),\n",
       " ('ACOATA_c', 0.04466168087298995),\n",
       " ('KAS14_c', 0.04466168087298995),\n",
       " ('3OAS160_c', 0.03916256424388331),\n",
       " ('3OAS140_c', 0.044269223220327475),\n",
       " ('3OAS120_c', 0.04466168087298995),\n",
       " ('3OAS100_c', 0.04466168087298995),\n",
       " ('3OAS80_c', 0.04466168087298995),\n",
       " ('3OAS60_c', 0.04466168087298995),\n",
       " ('3HAD160_c', 0.03916256424388331),\n",
       " ('3OAR160_c', 0.03916256424388331),\n",
       " ('3HAD140_c', 0.04269939260967756),\n",
       " ('3OAR140_c', 0.044269223220327475),\n",
       " ('EAR120x_c', 0.04466168087298995),\n",
       " ('3HAD120_c', 0.04466168087298995),\n",
       " ('3OAR120_c', 0.04466168087298995),\n",
       " ('EAR100x_c', 0.04466168087298995),\n",
       " ('3OAR100_c', 0.04466168087298995),\n",
       " ('EAR80x_c', 0.04466168087298995),\n",
       " ('3HAD80_c', 0.04466168087298995),\n",
       " ('3OAR80_c', 0.04466168087298995),\n",
       " ('EAR60x_c', 0.04466168087298995),\n",
       " ('3HAD60_c', 0.04466168087298995),\n",
       " ('3OAR60_c', 0.04466168087298995),\n",
       " ('EAR40x_c', 0.04466168087298995),\n",
       " ('3HAD40_1_c', 0.04466168087298995),\n",
       " ('3OAR40_1_c', 0.04466168087298995),\n",
       " ('MCOATA_c', 0.3161163976089198),\n",
       " ('GLUPRT_c', 0.07636323268210635),\n",
       " ('PRAGS_c', 0.07636323268210635),\n",
       " ('PRAIS_c', 0.07636323268210635),\n",
       " ('ADSL2_c', 0.07635734581731642),\n",
       " ('PRASCS_c', 0.07635734581731642),\n",
       " ('ADSL1_c', 0.0839415899550188),\n",
       " ('ADSS_c', 0.0839415899550188),\n",
       " ('IMPD_c', 0.012823553800746457),\n",
       " ('GMPS_c', 0.012823553800746457),\n",
       " ('ADSK_c', 0.04315111136789208),\n",
       " ('PRFGS_c', 0.07636323268210635),\n",
       " ('ATPM_c', 21.29053782696316),\n",
       " ('IMPC_c', 0.09676514375576525),\n",
       " ('AIRC2_c', 0.07635734581731642),\n",
       " ('AIRC3_c', 0.07635734581731642),\n",
       " ('UMPK_c', 0.08598590186774559),\n",
       " ('CBPS_c', 0.13896768497718007),\n",
       " ('ASPCT_c', 0.083042469472777),\n",
       " ('DHORTS_c', 0.083042469472777),\n",
       " ('ORPT_c', 0.083042469472777),\n",
       " ('NDPK2_c', 0.09560111435797629),\n",
       " ('CTPS2_c', 0.07244611285089012),\n",
       " ('NTD4_c', 0.054589289654747374),\n",
       " ('TRDR_c', 0.05325689592395089),\n",
       " ('OMPDC_c', 0.083042469472777),\n",
       " ('ASPTA_c', 0.6339219329549052),\n",
       " ('ARGSS_c', 0.055925215504403054),\n",
       " ('ARGSL_c', 0.055925215504403054),\n",
       " ('GLUDx_c', 1.249649136674716),\n",
       " ('GF6PTA_c', 0.02158517089643627),\n",
       " ('ASPK_c', 0.19583676113622897),\n",
       " ('GHMT2_c', 0.17118492614188757),\n",
       " ('THRD__L_c', 0.0521540899199693),\n",
       " ('THRS_c', 0.10533210185573504),\n",
       " ('ASAD_c', 0.19583676113622897),\n",
       " ('HSDy_c', 0.13088501962058896),\n",
       " ('SERD__L_c', 0.2727690574146959),\n",
       " ('PSSA_MC_c', 0.017464365543480256),\n",
       " ('SHSL2r_c', 0.02555291776485392),\n",
       " ('METS_c', 0.0284406211731472),\n",
       " ('CYSS_c', 0.017598193603038156),\n",
       " ('SERAT_c', 0.017598193603038156),\n",
       " ('HSST_c', 0.02555291776485392),\n",
       " ('KARI_23dhmp_c', 0.04748737597215979),\n",
       " ('IPPS_c', 0.0814349629274641),\n",
       " ('DHAD1_c', 0.16079617961825968),\n",
       " ('KARI_c', 0.04748737597215979),\n",
       " ('DHAD2_c', 0.04748737597215979),\n",
       " ('ACHBS_c', 0.04748737597215979),\n",
       " ('ACLS_c', 0.16079617961825968),\n",
       " ('UGMDDS_c', 0.010400127795555656),\n",
       " ('MNXR61396_c', 0.06495174151564005),\n",
       " ('DHDPRy_c', 0.06495174151564005),\n",
       " ('THDPS_c', 0.06495174151564005),\n",
       " ('SDPTA_c', 0.06495174151564005),\n",
       " ('SDPDS_c', 0.06495174151564005),\n",
       " ('DAPE_c', 0.06495174151564005),\n",
       " ('DAPDC_c', 0.054551613720084394),\n",
       " ('UAAGDS_c', 0.010400127795555656),\n",
       " ('ACGS_c', 0.055925215504403054),\n",
       " ('ACGK_c', 0.055925215504403054),\n",
       " ('AGPR_c', 0.055925215504403054),\n",
       " ('ACOTA_c', 0.055925215504403054),\n",
       " ('ACODA_c', 0.055925215504403054),\n",
       " ('P5CR_c', 0.048664748930147224),\n",
       " ('GLU5K_c', 0.048664748930147224),\n",
       " ('G5SD_c', 0.048664748930147224),\n",
       " ('ATPPRT_c', 0.020407797938448834),\n",
       " ('HSTPT_c', 0.020407797938448834),\n",
       " ('IGPDH_c', 0.020407797938448834),\n",
       " ('PRMICI_c', 0.020407797938448834),\n",
       " ('PRAMPC_c', 0.020407797938448834),\n",
       " ('PRATPP_c', 0.020407797938448834),\n",
       " ('IG3PS_c', 0.020407797938448834),\n",
       " ('DDPA_c', 0.08050287600239164),\n",
       " ('CHORS_c', 0.08050287600239164),\n",
       " ('G3PL_c', 0.01824928084880521),\n",
       " ('TRPS2_c', 0.01824928084880521),\n",
       " ('IGPS_c', 0.01824928084880521),\n",
       " ('PRAI_c', 0.01824928084880521),\n",
       " ('ANPRT_c', 0.01824928084880521),\n",
       " ('ANS2_c', 0.01824928084880521),\n",
       " ('CHORM_c', 0.06221042481179264),\n",
       " ('PPNDH_c', 0.03630233287127918),\n",
       " ('PSCVT_c', 0.08050287600239164),\n",
       " ('SHKK_c', 0.08050287600239164),\n",
       " ('SHK3D_c', 0.08050287600239164),\n",
       " ('DHQD_c', 0.08050287600239164),\n",
       " ('DHQS_c', 0.08050287600239164),\n",
       " ('UAMAS_c', 0.010400127795555656),\n",
       " ('UAMAGS_c', 0.010400127795555656),\n",
       " ('GLUR_c', 0.08611541289311404),\n",
       " ('ALAALAr_c', 0.010400127795555656),\n",
       " ('ALATA_D_c', 0.07571528509755839),\n",
       " ('UAGDP_c', 0.02158517089643627),\n",
       " ('G1PACT_c', 0.02158517089643627),\n",
       " ('UAGCVT_c', 0.010400127795555656),\n",
       " ('MNXR56251_c', 0.010400127795555656),\n",
       " ('HEX1_c', 0.04886097775647846),\n",
       " ('UDCPDP_c', 0.010400127795555656),\n",
       " ('PAPPT3_c', 0.010400127795555656),\n",
       " ('UAGPT3_c', 0.010400127795555656),\n",
       " ('APG3PAT_MC_c', 0.02138894207010503),\n",
       " ('G3PAT_MC_c', 0.02138894207010503),\n",
       " ('G3PD1_c', 0.025313518596729808),\n",
       " ('PHCYT_MC_c', 0.02138894207010503),\n",
       " ('PSD_MC_c', 0.017464365543480256),\n",
       " ('MNXR56306_c', 0.043091850262339165),\n",
       " ('ACCOAC_c', 0.3161163976089198),\n",
       " ('FDH_c', 9.937948274838346),\n",
       " ('FGFTh_c', 0.07636323268210635),\n",
       " ('MTHFR2_c', 0.0284406211731472),\n",
       " ('KARA1_c', 0.16079617961825968),\n",
       " ('DXPS_c', 0.03684981129675073),\n",
       " ('DXPRIi_c', 0.036843924431960794),\n",
       " ('MEPCT_c', 0.036843924431960794),\n",
       " ('CDPMEK_c', 0.036843924431960794),\n",
       " ('MECDPS_c', 0.036843924431960794),\n",
       " ('DMPPS_c', 0.012209357574330603),\n",
       " ('IPDPS_c', 0.02463456685763019),\n",
       " ('DMATT_c', 0.012209357574330603),\n",
       " ('GRTT_c', 0.012209357574330603),\n",
       " ('MNXR84805_c', 0.21602792245040703),\n",
       " ('HCO3E_c', 1.1973647508140732),\n",
       " ('PAPR_c', 0.04315111136789208),\n",
       " ('SULR_c', 0.04315111136789208),\n",
       " ('ACONT_c', 0.031020245324095756),\n",
       " ('MNXR10200_c', 0.0720218661283546),\n",
       " ('ASNN_c', 0.023351230333417416),\n",
       " ('MNXR5732_c', 0.0814349629274641),\n",
       " ('MNXR14818_c', 0.07064237747924597),\n",
       " ('EAR160y_c', 0.03916256424388331),\n",
       " ('EAR140y_c', 0.04269939260967756),\n",
       " ('AICART2_c', 0.09676514375576525),\n",
       " ('DHORD_NAD_c', 0.083042469472777),\n",
       " ('MNXR14750_c', 0.054915029506447076),\n",
       " ('PFL_c', 0.4199037861437614),\n",
       " ('PC_c', 0.6659233224106572),\n",
       " ('ALATA_L_c', 0.15207145354192014),\n",
       " ('MNXR6576_c', 0.21602792245040703),\n",
       " ('MNXR5662_c', 0.0814349629274641),\n",
       " ('MNXR6217_c', 0.0814349629274641),\n",
       " ('nh3_in', 2.2226725345820313),\n",
       " ('so4_in', 0.04315111136789229),\n",
       " ('pi_in', 0.20578379657178422),\n",
       " ('o2_in', 27.60951075678342),\n",
       " ('h_out', 2.2822945049456655),\n",
       " ('co2_out', 9.555636437412515),\n",
       " ('h2o_out', 32.069887444616555),\n",
       " ('ACP_out', 0.023333569739047634),\n",
       " ('cytd_out', 0.054589289654747374),\n",
       " ('pap_out', 0.04315111136789208),\n",
       " ('MNXM4297_out', 0.054915029506447076),\n",
       " ('BIOMASS_REACTION', 0.1962288263312388),\n",
       " ('pMMO_im', 18.405000000000005),\n",
       " ('MEOHDH_cyt_p', 18.405),\n",
       " ('ch4_in', 18.405),\n",
       " ('FALDt_im', 18.405),\n",
       " ('FALDDH_im', 9.613714675599422),\n",
       " ('CyLCyHOx_p', 36.81),\n",
       " ('CYTCBD_im', 9.2025),\n",
       " ('ATPSh_im', 24.998463993300437),\n",
       " ('NADH16_im', 8.791285324400581),\n",
       " ('h2ot_im', 18.405000000000005),\n",
       " ('HSK_GAPFILLING_c', 0.10533210185573504),\n",
       " ('HISTP_GAPFILLING_c', 0.020407797938448834),\n",
       " ('HISTD_GAPFILLING_c', 0.020407797938448834),\n",
       " ('MTHFD_GAPFILLING_c', 0.07636323268210635),\n",
       " ('G5SADs_GAPFILLING_c', 0.048664748930147224),\n",
       " ('OCT_GAPFILLING_c', 0.055925215504403054),\n",
       " ('FA160ACPHi_c', 0.038652761753074756),\n",
       " ('MECDPDH5_c', 0.036843924431960794),\n",
       " ('PFOR_c', 0.07368784886392159),\n",
       " ('MC_Average_FattyAcid_c', 0.04277788414021006),\n",
       " ('MC_AFAA_c', 0.04277788414021006),\n",
       " ('PPTGS_MC_c', 0.010400127795555656)]"
      ]
     },
     "execution_count": 7,
     "metadata": {},
     "output_type": "execute_result"
    }
   ],
   "source": [
    "[(k,v) for k,v in solution.fluxes.items() if v >= 0.01]"
   ]
  },
  {
   "cell_type": "markdown",
   "metadata": {},
   "source": [
    "## Search metabolic flexibility when the Methane Uptake Rate is fixed"
   ]
  },
  {
   "cell_type": "code",
   "execution_count": 8,
   "metadata": {
    "collapsed": false
   },
   "outputs": [],
   "source": [
    "# fva,completely_blocked = find_blocked_reactions(model)"
   ]
  },
  {
   "cell_type": "code",
   "execution_count": 9,
   "metadata": {
    "collapsed": true
   },
   "outputs": [],
   "source": [
    "from cameo import flux_variability_analysis"
   ]
  },
  {
   "cell_type": "code",
   "execution_count": 10,
   "metadata": {
    "collapsed": false
   },
   "outputs": [
    {
     "data": {
      "text/plain": [
       "-1.0*BIOMASS_REACTION_reverse_42726 + 1.0*BIOMASS_REACTION"
      ]
     },
     "execution_count": 10,
     "metadata": {},
     "output_type": "execute_result"
    }
   ],
   "source": [
    "fva_result = flux_variability_analysis(model, reactions=model.reactions)\n",
    "model.objective.expression"
   ]
  },
  {
   "cell_type": "code",
   "execution_count": 11,
   "metadata": {
    "collapsed": false
   },
   "outputs": [
    {
     "data": {
      "text/plain": [
       "lower_bound      23.00625\n",
       "upper_bound    1000.00000\n",
       "Name: o2_in, dtype: float64"
      ]
     },
     "execution_count": 11,
     "metadata": {},
     "output_type": "execute_result"
    }
   ],
   "source": [
    "fva_result.data_frame.loc['o2_in']"
   ]
  },
  {
   "cell_type": "code",
   "execution_count": 12,
   "metadata": {
    "collapsed": false
   },
   "outputs": [
    {
     "data": {
      "text/plain": [
       "lower_bound       0\n",
       "upper_bound    1000\n",
       "Name: nh3_in, dtype: float64"
      ]
     },
     "execution_count": 12,
     "metadata": {},
     "output_type": "execute_result"
    }
   ],
   "source": [
    "fva_result.data_frame.loc['nh3_in']"
   ]
  },
  {
   "cell_type": "code",
   "execution_count": 13,
   "metadata": {
    "collapsed": false
   },
   "outputs": [
    {
     "data": {
      "text/plain": [
       "lower_bound     0.000\n",
       "upper_bound    18.405\n",
       "Name: co2_out, dtype: float64"
      ]
     },
     "execution_count": 13,
     "metadata": {},
     "output_type": "execute_result"
    }
   ],
   "source": [
    "fva_result.data_frame.loc['co2_out']"
   ]
  },
  {
   "cell_type": "code",
   "execution_count": 14,
   "metadata": {
    "collapsed": false
   },
   "outputs": [
    {
     "data": {
      "text/plain": [
       "lower_bound       0\n",
       "upper_bound    1000\n",
       "Name: so4_in, dtype: float64"
      ]
     },
     "execution_count": 14,
     "metadata": {},
     "output_type": "execute_result"
    }
   ],
   "source": [
    "fva_result.data_frame.loc['so4_in']"
   ]
  },
  {
   "cell_type": "code",
   "execution_count": 15,
   "metadata": {
    "collapsed": false
   },
   "outputs": [
    {
     "data": {
      "text/plain": [
       "lower_bound     0.000\n",
       "upper_bound    18.405\n",
       "Name: sMMO_c, dtype: float64"
      ]
     },
     "execution_count": 15,
     "metadata": {},
     "output_type": "execute_result"
    }
   ],
   "source": [
    "fva_result.data_frame.loc['sMMO_c']"
   ]
  },
  {
   "cell_type": "code",
   "execution_count": 16,
   "metadata": {
    "collapsed": false
   },
   "outputs": [
    {
     "data": {
      "text/plain": [
       "lower_bound     0.000\n",
       "upper_bound    18.405\n",
       "Name: pMMO_im, dtype: float64"
      ]
     },
     "execution_count": 16,
     "metadata": {},
     "output_type": "execute_result"
    }
   ],
   "source": [
    "fva_result.data_frame.loc['pMMO_im']"
   ]
  },
  {
   "cell_type": "code",
   "execution_count": 17,
   "metadata": {
    "collapsed": false
   },
   "outputs": [
    {
     "data": {
      "text/plain": [
       "18.405000000000005"
      ]
     },
     "execution_count": 17,
     "metadata": {},
     "output_type": "execute_result"
    }
   ],
   "source": [
    "solution.fluxes['pMMO_im']"
   ]
  },
  {
   "cell_type": "code",
   "execution_count": 18,
   "metadata": {
    "collapsed": false
   },
   "outputs": [
    {
     "data": {
      "text/plain": [
       "0.0"
      ]
     },
     "execution_count": 18,
     "metadata": {},
     "output_type": "execute_result"
    }
   ],
   "source": [
    "solution.fluxes['sMMO_c']"
   ]
  },
  {
   "cell_type": "markdown",
   "metadata": {},
   "source": [
    "## Show all reactions that require oxygen and their flux variability. (in above's condition)"
   ]
  },
  {
   "cell_type": "code",
   "execution_count": 19,
   "metadata": {
    "collapsed": false,
    "scrolled": false
   },
   "outputs": [],
   "source": [
    "df = fva_result.data_frame.loc[[r.id for r in model.reactions if model.metabolites.get_by_id('o2_c') in r.reactants]]"
   ]
  },
  {
   "cell_type": "code",
   "execution_count": 20,
   "metadata": {
    "collapsed": false
   },
   "outputs": [
    {
     "data": {
      "text/html": [
       "<div>\n",
       "<table border=\"1\" class=\"dataframe\">\n",
       "  <thead>\n",
       "    <tr style=\"text-align: right;\">\n",
       "      <th></th>\n",
       "      <th>lower_bound</th>\n",
       "      <th>upper_bound</th>\n",
       "    </tr>\n",
       "  </thead>\n",
       "  <tbody>\n",
       "    <tr>\n",
       "      <th>MNXR3255_c</th>\n",
       "      <td>0.000000e+00</td>\n",
       "      <td>1.000272e-01</td>\n",
       "    </tr>\n",
       "    <tr>\n",
       "      <th>ASPO1_c</th>\n",
       "      <td>0.000000e+00</td>\n",
       "      <td>1.000000e+03</td>\n",
       "    </tr>\n",
       "    <tr>\n",
       "      <th>MNXR6101_c</th>\n",
       "      <td>0.000000e+00</td>\n",
       "      <td>1.227000e+00</td>\n",
       "    </tr>\n",
       "    <tr>\n",
       "      <th>MNXR5836_c</th>\n",
       "      <td>0.000000e+00</td>\n",
       "      <td>1.227000e+00</td>\n",
       "    </tr>\n",
       "    <tr>\n",
       "      <th>sMMO_c</th>\n",
       "      <td>0.000000e+00</td>\n",
       "      <td>1.840500e+01</td>\n",
       "    </tr>\n",
       "    <tr>\n",
       "      <th>MNXR18583_c</th>\n",
       "      <td>-1.211690e-27</td>\n",
       "      <td>7.362000e-01</td>\n",
       "    </tr>\n",
       "    <tr>\n",
       "      <th>ASPO6_c</th>\n",
       "      <td>1.098539e-14</td>\n",
       "      <td>3.681000e+00</td>\n",
       "    </tr>\n",
       "    <tr>\n",
       "      <th>CPPPGO_c</th>\n",
       "      <td>0.000000e+00</td>\n",
       "      <td>7.078846e-01</td>\n",
       "    </tr>\n",
       "    <tr>\n",
       "      <th>DES_9_c</th>\n",
       "      <td>0.000000e+00</td>\n",
       "      <td>3.472642e-01</td>\n",
       "    </tr>\n",
       "    <tr>\n",
       "      <th>MNXR10200_c</th>\n",
       "      <td>-1.000000e+03</td>\n",
       "      <td>1.000000e+03</td>\n",
       "    </tr>\n",
       "    <tr>\n",
       "      <th>MNXR5949_c</th>\n",
       "      <td>-1.000000e+03</td>\n",
       "      <td>1.000000e+03</td>\n",
       "    </tr>\n",
       "    <tr>\n",
       "      <th>GLYOp_c</th>\n",
       "      <td>0.000000e+00</td>\n",
       "      <td>1.000000e+03</td>\n",
       "    </tr>\n",
       "    <tr>\n",
       "      <th>MNXR73445_c</th>\n",
       "      <td>-1.000000e+03</td>\n",
       "      <td>1.000000e+03</td>\n",
       "    </tr>\n",
       "    <tr>\n",
       "      <th>MNXR60478_c</th>\n",
       "      <td>0.000000e+00</td>\n",
       "      <td>1.577722e-30</td>\n",
       "    </tr>\n",
       "    <tr>\n",
       "      <th>o2_out</th>\n",
       "      <td>0.000000e+00</td>\n",
       "      <td>9.769938e+02</td>\n",
       "    </tr>\n",
       "    <tr>\n",
       "      <th>CYTCBD_im</th>\n",
       "      <td>0.000000e+00</td>\n",
       "      <td>1.840500e+01</td>\n",
       "    </tr>\n",
       "    <tr>\n",
       "      <th>CYTAA3_im</th>\n",
       "      <td>0.000000e+00</td>\n",
       "      <td>1.840500e+01</td>\n",
       "    </tr>\n",
       "    <tr>\n",
       "      <th>DES_9_2_c</th>\n",
       "      <td>0.000000e+00</td>\n",
       "      <td>4.489024e-01</td>\n",
       "    </tr>\n",
       "    <tr>\n",
       "      <th>OPHHX_c</th>\n",
       "      <td>0.000000e+00</td>\n",
       "      <td>7.246063e-02</td>\n",
       "    </tr>\n",
       "    <tr>\n",
       "      <th>OMPHHX_c</th>\n",
       "      <td>0.000000e+00</td>\n",
       "      <td>7.024809e-02</td>\n",
       "    </tr>\n",
       "    <tr>\n",
       "      <th>OMMBLHX_c</th>\n",
       "      <td>1.262177e-29</td>\n",
       "      <td>7.024809e-02</td>\n",
       "    </tr>\n",
       "    <tr>\n",
       "      <th>SMO_c</th>\n",
       "      <td>-3.442313e-26</td>\n",
       "      <td>1.011264e-01</td>\n",
       "    </tr>\n",
       "    <tr>\n",
       "      <th>PPPGO_c</th>\n",
       "      <td>0.000000e+00</td>\n",
       "      <td>2.300625e-01</td>\n",
       "    </tr>\n",
       "  </tbody>\n",
       "</table>\n",
       "</div>"
      ],
      "text/plain": [
       "              lower_bound   upper_bound\n",
       "MNXR3255_c   0.000000e+00  1.000272e-01\n",
       "ASPO1_c      0.000000e+00  1.000000e+03\n",
       "MNXR6101_c   0.000000e+00  1.227000e+00\n",
       "MNXR5836_c   0.000000e+00  1.227000e+00\n",
       "sMMO_c       0.000000e+00  1.840500e+01\n",
       "MNXR18583_c -1.211690e-27  7.362000e-01\n",
       "ASPO6_c      1.098539e-14  3.681000e+00\n",
       "CPPPGO_c     0.000000e+00  7.078846e-01\n",
       "DES_9_c      0.000000e+00  3.472642e-01\n",
       "MNXR10200_c -1.000000e+03  1.000000e+03\n",
       "MNXR5949_c  -1.000000e+03  1.000000e+03\n",
       "GLYOp_c      0.000000e+00  1.000000e+03\n",
       "MNXR73445_c -1.000000e+03  1.000000e+03\n",
       "MNXR60478_c  0.000000e+00  1.577722e-30\n",
       "o2_out       0.000000e+00  9.769938e+02\n",
       "CYTCBD_im    0.000000e+00  1.840500e+01\n",
       "CYTAA3_im    0.000000e+00  1.840500e+01\n",
       "DES_9_2_c    0.000000e+00  4.489024e-01\n",
       "OPHHX_c      0.000000e+00  7.246063e-02\n",
       "OMPHHX_c     0.000000e+00  7.024809e-02\n",
       "OMMBLHX_c    1.262177e-29  7.024809e-02\n",
       "SMO_c       -3.442313e-26  1.011264e-01\n",
       "PPPGO_c      0.000000e+00  2.300625e-01"
      ]
     },
     "execution_count": 20,
     "metadata": {},
     "output_type": "execute_result"
    }
   ],
   "source": [
    "df.loc[(df != 0).any(1)]"
   ]
  },
  {
   "cell_type": "markdown",
   "metadata": {},
   "source": [
    "For some reason the model predicts a O2/CH4 uptake ratio about 1.5.\n",
    "In experimental measurements by Leak&Dalton this ratio ranges from 1.41 to 1.6 in various conditions.\n",
    "The metabolic model constructed by de la Torre et al has this ratio at 1.11 (but this is at a much higher growth rate = 0.269.)"
   ]
  },
  {
   "cell_type": "code",
   "execution_count": 21,
   "metadata": {
    "collapsed": false
   },
   "outputs": [
    {
     "name": "stdout",
     "output_type": "stream",
     "text": [
      "nh3_in 1000.0\n",
      "na1_in 1000.0\n",
      "k_in 1000.0\n",
      "mg2_in 1000.0\n",
      "ca2_in 1000.0\n",
      "so4_in 1000.0\n",
      "pi_in 1000.0\n",
      "h_in 1000.0\n",
      "h2o_in 468.033004442\n",
      "o2_in 1000.0\n",
      "h_out 502.385186391\n",
      "co2_out 9.55563643742\n",
      "h2o_out 1000.0\n",
      "ppi_out 499.897108102\n",
      "ACP_out 0.0233335697391\n",
      "o2_out 972.390489243\n",
      "nh3_out 997.777327465\n",
      "so4_out 999.956848889\n",
      "cytd_out 0.054589289655\n",
      "23dhdp_out 1000.0\n",
      "MNXM4010_out 1000.0\n",
      "pap_out 0.0431511113683\n",
      "fe2_out 999.99879908\n",
      "hqn_out 1000.0\n",
      "MNXM2499_out 1000.0\n",
      "MNXM4297_out 0.0549150295061\n",
      "na1_out 1000.0\n",
      "k_out 1000.0\n",
      "mg2_out 1000.0\n",
      "ca2_out 1000.0\n",
      "ch4_in 18.405\n",
      "Fe_in 1000.0\n",
      "BIOMASS_REACTION 0.196228826331\n"
     ]
    }
   ],
   "source": [
    "solution = show_uptake_excretion(model,model.reactions.get_by_id('BIOMASS_REACTION'))"
   ]
  },
  {
   "cell_type": "code",
   "execution_count": 22,
   "metadata": {
    "collapsed": false
   },
   "outputs": [
    {
     "data": {
      "text/html": [
       "<div>\n",
       "<table border=\"1\" class=\"dataframe\">\n",
       "  <thead>\n",
       "    <tr style=\"text-align: right;\">\n",
       "      <th></th>\n",
       "      <th>flux</th>\n",
       "    </tr>\n",
       "  </thead>\n",
       "  <tbody>\n",
       "    <tr>\n",
       "      <th>nh3_in</th>\n",
       "      <td>2.222673e+00</td>\n",
       "    </tr>\n",
       "    <tr>\n",
       "      <th>so4_in</th>\n",
       "      <td>4.315111e-02</td>\n",
       "    </tr>\n",
       "    <tr>\n",
       "      <th>pi_in</th>\n",
       "      <td>2.057838e-01</td>\n",
       "    </tr>\n",
       "    <tr>\n",
       "      <th>o2_in</th>\n",
       "      <td>2.760951e+01</td>\n",
       "    </tr>\n",
       "    <tr>\n",
       "      <th>h_out</th>\n",
       "      <td>2.282294e+00</td>\n",
       "    </tr>\n",
       "    <tr>\n",
       "      <th>co2_out</th>\n",
       "      <td>9.555636e+00</td>\n",
       "    </tr>\n",
       "    <tr>\n",
       "      <th>h2o_out</th>\n",
       "      <td>3.206989e+01</td>\n",
       "    </tr>\n",
       "    <tr>\n",
       "      <th>ACP_out</th>\n",
       "      <td>2.333357e-02</td>\n",
       "    </tr>\n",
       "    <tr>\n",
       "      <th>cytd_out</th>\n",
       "      <td>5.458929e-02</td>\n",
       "    </tr>\n",
       "    <tr>\n",
       "      <th>co_out</th>\n",
       "      <td>5.886865e-06</td>\n",
       "    </tr>\n",
       "    <tr>\n",
       "      <th>pap_out</th>\n",
       "      <td>4.315111e-02</td>\n",
       "    </tr>\n",
       "    <tr>\n",
       "      <th>dhpt_out</th>\n",
       "      <td>7.372575e-18</td>\n",
       "    </tr>\n",
       "    <tr>\n",
       "      <th>rdmbzi_out</th>\n",
       "      <td>1.962171e-04</td>\n",
       "    </tr>\n",
       "    <tr>\n",
       "      <th>MNXM4297_out</th>\n",
       "      <td>5.491503e-02</td>\n",
       "    </tr>\n",
       "    <tr>\n",
       "      <th>ch4_in</th>\n",
       "      <td>1.840500e+01</td>\n",
       "    </tr>\n",
       "    <tr>\n",
       "      <th>Fe_in</th>\n",
       "      <td>1.200920e-03</td>\n",
       "    </tr>\n",
       "    <tr>\n",
       "      <th>DM_4hba_c</th>\n",
       "      <td>5.886865e-06</td>\n",
       "    </tr>\n",
       "  </tbody>\n",
       "</table>\n",
       "</div>"
      ],
      "text/plain": [
       "                      flux\n",
       "nh3_in        2.222673e+00\n",
       "so4_in        4.315111e-02\n",
       "pi_in         2.057838e-01\n",
       "o2_in         2.760951e+01\n",
       "h_out         2.282294e+00\n",
       "co2_out       9.555636e+00\n",
       "h2o_out       3.206989e+01\n",
       "ACP_out       2.333357e-02\n",
       "cytd_out      5.458929e-02\n",
       "co_out        5.886865e-06\n",
       "pap_out       4.315111e-02\n",
       "dhpt_out      7.372575e-18\n",
       "rdmbzi_out    1.962171e-04\n",
       "MNXM4297_out  5.491503e-02\n",
       "ch4_in        1.840500e+01\n",
       "Fe_in         1.200920e-03\n",
       "DM_4hba_c     5.886865e-06"
      ]
     },
     "execution_count": 22,
     "metadata": {},
     "output_type": "execute_result"
    }
   ],
   "source": [
    "cameo.pfba(model).data_frame.loc[[r.id for r in model.exchanges]].query(\"abs(flux) > 0\")"
   ]
  },
  {
   "cell_type": "markdown",
   "metadata": {},
   "source": [
    "## Fix the growth rate to 0.1 and check for the minimal Oxygen uptake rate"
   ]
  },
  {
   "cell_type": "code",
   "execution_count": 23,
   "metadata": {
    "collapsed": true
   },
   "outputs": [],
   "source": [
    "model.solver = \"cplex\""
   ]
  },
  {
   "cell_type": "code",
   "execution_count": 24,
   "metadata": {
    "collapsed": true
   },
   "outputs": [],
   "source": [
    "model.reactions.BIOMASS_REACTION.lower_bound = 0.1"
   ]
  },
  {
   "cell_type": "code",
   "execution_count": 25,
   "metadata": {
    "collapsed": true
   },
   "outputs": [],
   "source": [
    "model.reactions.ch4_in.lower_bound = 1"
   ]
  },
  {
   "cell_type": "code",
   "execution_count": 26,
   "metadata": {
    "collapsed": false
   },
   "outputs": [],
   "source": [
    "model.objective = model.reactions.o2_in\n",
    "model.objective.direction = 'min'\n",
    "solution = model.solve()"
   ]
  },
  {
   "cell_type": "code",
   "execution_count": 27,
   "metadata": {
    "collapsed": false
   },
   "outputs": [
    {
     "data": {
      "text/html": [
       "<div>\n",
       "<table border=\"1\" class=\"dataframe\">\n",
       "  <thead>\n",
       "    <tr style=\"text-align: right;\">\n",
       "      <th></th>\n",
       "      <th>fluxes</th>\n",
       "      <th>reduced_costs</th>\n",
       "    </tr>\n",
       "  </thead>\n",
       "  <tbody>\n",
       "    <tr>\n",
       "      <th>FBA_c</th>\n",
       "      <td>0.843897</td>\n",
       "      <td>0.000000e+00</td>\n",
       "    </tr>\n",
       "    <tr>\n",
       "      <th>ALCD2if_c</th>\n",
       "      <td>0.000000</td>\n",
       "      <td>0.000000e+00</td>\n",
       "    </tr>\n",
       "    <tr>\n",
       "      <th>PDHam1hi_c</th>\n",
       "      <td>0.000000</td>\n",
       "      <td>0.000000e+00</td>\n",
       "    </tr>\n",
       "    <tr>\n",
       "      <th>MNXR85044_c</th>\n",
       "      <td>0.000000</td>\n",
       "      <td>0.000000e+00</td>\n",
       "    </tr>\n",
       "    <tr>\n",
       "      <th>MNXR73919_c</th>\n",
       "      <td>0.000000</td>\n",
       "      <td>-3.000000e+00</td>\n",
       "    </tr>\n",
       "    <tr>\n",
       "      <th>PYK_c</th>\n",
       "      <td>0.000000</td>\n",
       "      <td>-1.136868e-13</td>\n",
       "    </tr>\n",
       "    <tr>\n",
       "      <th>ENO_c</th>\n",
       "      <td>0.131412</td>\n",
       "      <td>0.000000e+00</td>\n",
       "    </tr>\n",
       "    <tr>\n",
       "      <th>PGM_c</th>\n",
       "      <td>0.132012</td>\n",
       "      <td>0.000000e+00</td>\n",
       "    </tr>\n",
       "    <tr>\n",
       "      <th>GAPD_c</th>\n",
       "      <td>9.817761</td>\n",
       "      <td>0.000000e+00</td>\n",
       "    </tr>\n",
       "    <tr>\n",
       "      <th>TPI_c</th>\n",
       "      <td>0.830597</td>\n",
       "      <td>0.000000e+00</td>\n",
       "    </tr>\n",
       "    <tr>\n",
       "      <th>PFK_c</th>\n",
       "      <td>0.000000</td>\n",
       "      <td>2.842171e-14</td>\n",
       "    </tr>\n",
       "    <tr>\n",
       "      <th>PGIA_c</th>\n",
       "      <td>0.000000</td>\n",
       "      <td>0.000000e+00</td>\n",
       "    </tr>\n",
       "    <tr>\n",
       "      <th>PGCM_c</th>\n",
       "      <td>0.000000</td>\n",
       "      <td>0.000000e+00</td>\n",
       "    </tr>\n",
       "    <tr>\n",
       "      <th>PGI_c</th>\n",
       "      <td>5.233955</td>\n",
       "      <td>0.000000e+00</td>\n",
       "    </tr>\n",
       "    <tr>\n",
       "      <th>MNXR5673_c</th>\n",
       "      <td>0.000000</td>\n",
       "      <td>3.600000e+01</td>\n",
       "    </tr>\n",
       "    <tr>\n",
       "      <th>G6PI_1_c</th>\n",
       "      <td>0.000000</td>\n",
       "      <td>0.000000e+00</td>\n",
       "    </tr>\n",
       "    <tr>\n",
       "      <th>GLUKA_c</th>\n",
       "      <td>0.000000</td>\n",
       "      <td>7.105427e-15</td>\n",
       "    </tr>\n",
       "    <tr>\n",
       "      <th>MNXR85631_c</th>\n",
       "      <td>0.000000</td>\n",
       "      <td>3.000000e+00</td>\n",
       "    </tr>\n",
       "    <tr>\n",
       "      <th>PGK_c</th>\n",
       "      <td>0.000000</td>\n",
       "      <td>-1.421085e-14</td>\n",
       "    </tr>\n",
       "    <tr>\n",
       "      <th>MNXR61040_c</th>\n",
       "      <td>0.000000</td>\n",
       "      <td>-3.000000e+00</td>\n",
       "    </tr>\n",
       "    <tr>\n",
       "      <th>ACS_c</th>\n",
       "      <td>0.212667</td>\n",
       "      <td>4.618528e-14</td>\n",
       "    </tr>\n",
       "    <tr>\n",
       "      <th>MNXR26374_c</th>\n",
       "      <td>0.000000</td>\n",
       "      <td>2.842171e-14</td>\n",
       "    </tr>\n",
       "    <tr>\n",
       "      <th>MNXR70375_c</th>\n",
       "      <td>0.000000</td>\n",
       "      <td>-3.552714e-15</td>\n",
       "    </tr>\n",
       "    <tr>\n",
       "      <th>MNXR85055_c</th>\n",
       "      <td>0.000000</td>\n",
       "      <td>-7.105427e-15</td>\n",
       "    </tr>\n",
       "    <tr>\n",
       "      <th>MNXR73920_c</th>\n",
       "      <td>0.000000</td>\n",
       "      <td>-3.000000e+00</td>\n",
       "    </tr>\n",
       "    <tr>\n",
       "      <th>SUCOAS_c</th>\n",
       "      <td>0.000000</td>\n",
       "      <td>0.000000e+00</td>\n",
       "    </tr>\n",
       "    <tr>\n",
       "      <th>ICDHxm_c</th>\n",
       "      <td>0.125898</td>\n",
       "      <td>0.000000e+00</td>\n",
       "    </tr>\n",
       "    <tr>\n",
       "      <th>FUM_c</th>\n",
       "      <td>0.110090</td>\n",
       "      <td>0.000000e+00</td>\n",
       "    </tr>\n",
       "    <tr>\n",
       "      <th>ACONTb_c</th>\n",
       "      <td>0.000000</td>\n",
       "      <td>0.000000e+00</td>\n",
       "    </tr>\n",
       "    <tr>\n",
       "      <th>ACONTa_c</th>\n",
       "      <td>0.000000</td>\n",
       "      <td>0.000000e+00</td>\n",
       "    </tr>\n",
       "    <tr>\n",
       "      <th>...</th>\n",
       "      <td>...</td>\n",
       "      <td>...</td>\n",
       "    </tr>\n",
       "    <tr>\n",
       "      <th>A5PISO_c</th>\n",
       "      <td>0.000600</td>\n",
       "      <td>0.000000e+00</td>\n",
       "    </tr>\n",
       "    <tr>\n",
       "      <th>AGMHE_GAPFILLING_c</th>\n",
       "      <td>0.000800</td>\n",
       "      <td>0.000000e+00</td>\n",
       "    </tr>\n",
       "    <tr>\n",
       "      <th>GALT1_GAPFILLING_c</th>\n",
       "      <td>0.000200</td>\n",
       "      <td>7.105427e-15</td>\n",
       "    </tr>\n",
       "    <tr>\n",
       "      <th>GLCTR1_GAPFILLING_c</th>\n",
       "      <td>0.000200</td>\n",
       "      <td>7.105427e-15</td>\n",
       "    </tr>\n",
       "    <tr>\n",
       "      <th>GLCTR2_GAPFILLING_c</th>\n",
       "      <td>0.000200</td>\n",
       "      <td>7.105427e-15</td>\n",
       "    </tr>\n",
       "    <tr>\n",
       "      <th>GLCTR3_GAPFILLING_c</th>\n",
       "      <td>0.000200</td>\n",
       "      <td>7.105427e-15</td>\n",
       "    </tr>\n",
       "    <tr>\n",
       "      <th>HEPK1_GAPFILLING_c</th>\n",
       "      <td>0.000200</td>\n",
       "      <td>0.000000e+00</td>\n",
       "    </tr>\n",
       "    <tr>\n",
       "      <th>HEPK2_GAPFILLING_c</th>\n",
       "      <td>0.000200</td>\n",
       "      <td>0.000000e+00</td>\n",
       "    </tr>\n",
       "    <tr>\n",
       "      <th>HEPT1_GAPFILLING_c</th>\n",
       "      <td>0.000200</td>\n",
       "      <td>0.000000e+00</td>\n",
       "    </tr>\n",
       "    <tr>\n",
       "      <th>HEPT2_GAPFILLING_c</th>\n",
       "      <td>0.000200</td>\n",
       "      <td>0.000000e+00</td>\n",
       "    </tr>\n",
       "    <tr>\n",
       "      <th>HEPT3_GAPFILLING_c</th>\n",
       "      <td>0.000200</td>\n",
       "      <td>0.000000e+00</td>\n",
       "    </tr>\n",
       "    <tr>\n",
       "      <th>HEPT4_GAPFILLING_c</th>\n",
       "      <td>0.000200</td>\n",
       "      <td>1.136868e-13</td>\n",
       "    </tr>\n",
       "    <tr>\n",
       "      <th>LA4NTpp_GAPFILLING_c</th>\n",
       "      <td>0.000000</td>\n",
       "      <td>0.000000e+00</td>\n",
       "    </tr>\n",
       "    <tr>\n",
       "      <th>MOAT3C_GAPFILLING_c</th>\n",
       "      <td>0.000200</td>\n",
       "      <td>0.000000e+00</td>\n",
       "    </tr>\n",
       "    <tr>\n",
       "      <th>O16AT_GAPFILLING_c</th>\n",
       "      <td>0.000000</td>\n",
       "      <td>0.000000e+00</td>\n",
       "    </tr>\n",
       "    <tr>\n",
       "      <th>O16GALFT_GAPFILLING_c</th>\n",
       "      <td>0.000000</td>\n",
       "      <td>0.000000e+00</td>\n",
       "    </tr>\n",
       "    <tr>\n",
       "      <th>O16GLCT1_GAPFILLING_c</th>\n",
       "      <td>0.000000</td>\n",
       "      <td>3.600000e+01</td>\n",
       "    </tr>\n",
       "    <tr>\n",
       "      <th>O16GLCT2_GAPFILLING_c</th>\n",
       "      <td>0.000000</td>\n",
       "      <td>0.000000e+00</td>\n",
       "    </tr>\n",
       "    <tr>\n",
       "      <th>RHAT1_GAPFILLING_c</th>\n",
       "      <td>0.000200</td>\n",
       "      <td>0.000000e+00</td>\n",
       "    </tr>\n",
       "    <tr>\n",
       "      <th>EDTXS1_GAPFILLING_c</th>\n",
       "      <td>0.000200</td>\n",
       "      <td>0.000000e+00</td>\n",
       "    </tr>\n",
       "    <tr>\n",
       "      <th>EDTXS2_GAPFILLING_c</th>\n",
       "      <td>0.000200</td>\n",
       "      <td>0.000000e+00</td>\n",
       "    </tr>\n",
       "    <tr>\n",
       "      <th>ACOLIPAabctex_GAPFILLING_c</th>\n",
       "      <td>0.000000</td>\n",
       "      <td>0.000000e+00</td>\n",
       "    </tr>\n",
       "    <tr>\n",
       "      <th>CLIPAabctex_GAPFILLING_c</th>\n",
       "      <td>0.000000</td>\n",
       "      <td>0.000000e+00</td>\n",
       "    </tr>\n",
       "    <tr>\n",
       "      <th>COLIPAabcpp_GAPFILLING_c</th>\n",
       "      <td>0.000200</td>\n",
       "      <td>0.000000e+00</td>\n",
       "    </tr>\n",
       "    <tr>\n",
       "      <th>COLIPAabctex_GAPFILLING_c</th>\n",
       "      <td>0.000200</td>\n",
       "      <td>0.000000e+00</td>\n",
       "    </tr>\n",
       "    <tr>\n",
       "      <th>ECA4COLIPAabctex_GAPFILLING_c</th>\n",
       "      <td>0.000000</td>\n",
       "      <td>0.000000e+00</td>\n",
       "    </tr>\n",
       "    <tr>\n",
       "      <th>ENLIPAabctex_GAPFILLING_c</th>\n",
       "      <td>0.000000</td>\n",
       "      <td>0.000000e+00</td>\n",
       "    </tr>\n",
       "    <tr>\n",
       "      <th>O16A4COLIPAabctex_GAPFILLING_c</th>\n",
       "      <td>0.000000</td>\n",
       "      <td>0.000000e+00</td>\n",
       "    </tr>\n",
       "    <tr>\n",
       "      <th>EX_colipa_e</th>\n",
       "      <td>0.000000</td>\n",
       "      <td>1.383000e+03</td>\n",
       "    </tr>\n",
       "    <tr>\n",
       "      <th>NGAM_c</th>\n",
       "      <td>3.047050</td>\n",
       "      <td>0.000000e+00</td>\n",
       "    </tr>\n",
       "  </tbody>\n",
       "</table>\n",
       "<p>1948 rows × 2 columns</p>\n",
       "</div>"
      ],
      "text/plain": [
       "                                  fluxes  reduced_costs\n",
       "FBA_c                           0.843897   0.000000e+00\n",
       "ALCD2if_c                       0.000000   0.000000e+00\n",
       "PDHam1hi_c                      0.000000   0.000000e+00\n",
       "MNXR85044_c                     0.000000   0.000000e+00\n",
       "MNXR73919_c                     0.000000  -3.000000e+00\n",
       "PYK_c                           0.000000  -1.136868e-13\n",
       "ENO_c                           0.131412   0.000000e+00\n",
       "PGM_c                           0.132012   0.000000e+00\n",
       "GAPD_c                          9.817761   0.000000e+00\n",
       "TPI_c                           0.830597   0.000000e+00\n",
       "PFK_c                           0.000000   2.842171e-14\n",
       "PGIA_c                          0.000000   0.000000e+00\n",
       "PGCM_c                          0.000000   0.000000e+00\n",
       "PGI_c                           5.233955   0.000000e+00\n",
       "MNXR5673_c                      0.000000   3.600000e+01\n",
       "G6PI_1_c                        0.000000   0.000000e+00\n",
       "GLUKA_c                         0.000000   7.105427e-15\n",
       "MNXR85631_c                     0.000000   3.000000e+00\n",
       "PGK_c                           0.000000  -1.421085e-14\n",
       "MNXR61040_c                     0.000000  -3.000000e+00\n",
       "ACS_c                           0.212667   4.618528e-14\n",
       "MNXR26374_c                     0.000000   2.842171e-14\n",
       "MNXR70375_c                     0.000000  -3.552714e-15\n",
       "MNXR85055_c                     0.000000  -7.105427e-15\n",
       "MNXR73920_c                     0.000000  -3.000000e+00\n",
       "SUCOAS_c                        0.000000   0.000000e+00\n",
       "ICDHxm_c                        0.125898   0.000000e+00\n",
       "FUM_c                           0.110090   0.000000e+00\n",
       "ACONTb_c                        0.000000   0.000000e+00\n",
       "ACONTa_c                        0.000000   0.000000e+00\n",
       "...                                  ...            ...\n",
       "A5PISO_c                        0.000600   0.000000e+00\n",
       "AGMHE_GAPFILLING_c              0.000800   0.000000e+00\n",
       "GALT1_GAPFILLING_c              0.000200   7.105427e-15\n",
       "GLCTR1_GAPFILLING_c             0.000200   7.105427e-15\n",
       "GLCTR2_GAPFILLING_c             0.000200   7.105427e-15\n",
       "GLCTR3_GAPFILLING_c             0.000200   7.105427e-15\n",
       "HEPK1_GAPFILLING_c              0.000200   0.000000e+00\n",
       "HEPK2_GAPFILLING_c              0.000200   0.000000e+00\n",
       "HEPT1_GAPFILLING_c              0.000200   0.000000e+00\n",
       "HEPT2_GAPFILLING_c              0.000200   0.000000e+00\n",
       "HEPT3_GAPFILLING_c              0.000200   0.000000e+00\n",
       "HEPT4_GAPFILLING_c              0.000200   1.136868e-13\n",
       "LA4NTpp_GAPFILLING_c            0.000000   0.000000e+00\n",
       "MOAT3C_GAPFILLING_c             0.000200   0.000000e+00\n",
       "O16AT_GAPFILLING_c              0.000000   0.000000e+00\n",
       "O16GALFT_GAPFILLING_c           0.000000   0.000000e+00\n",
       "O16GLCT1_GAPFILLING_c           0.000000   3.600000e+01\n",
       "O16GLCT2_GAPFILLING_c           0.000000   0.000000e+00\n",
       "RHAT1_GAPFILLING_c              0.000200   0.000000e+00\n",
       "EDTXS1_GAPFILLING_c             0.000200   0.000000e+00\n",
       "EDTXS2_GAPFILLING_c             0.000200   0.000000e+00\n",
       "ACOLIPAabctex_GAPFILLING_c      0.000000   0.000000e+00\n",
       "CLIPAabctex_GAPFILLING_c        0.000000   0.000000e+00\n",
       "COLIPAabcpp_GAPFILLING_c        0.000200   0.000000e+00\n",
       "COLIPAabctex_GAPFILLING_c       0.000200   0.000000e+00\n",
       "ECA4COLIPAabctex_GAPFILLING_c   0.000000   0.000000e+00\n",
       "ENLIPAabctex_GAPFILLING_c       0.000000   0.000000e+00\n",
       "O16A4COLIPAabctex_GAPFILLING_c  0.000000   0.000000e+00\n",
       "EX_colipa_e                     0.000000   1.383000e+03\n",
       "NGAM_c                          3.047050   0.000000e+00\n",
       "\n",
       "[1948 rows x 2 columns]"
      ]
     },
     "execution_count": 27,
     "metadata": {},
     "output_type": "execute_result"
    }
   ],
   "source": [
    "solution.data_frame"
   ]
  },
  {
   "cell_type": "code",
   "execution_count": 28,
   "metadata": {
    "collapsed": false
   },
   "outputs": [
    {
     "data": {
      "text/html": [
       "<div>\n",
       "<table border=\"1\" class=\"dataframe\">\n",
       "  <thead>\n",
       "    <tr style=\"text-align: right;\">\n",
       "      <th></th>\n",
       "      <th>flux</th>\n",
       "    </tr>\n",
       "  </thead>\n",
       "  <tbody>\n",
       "    <tr>\n",
       "      <th>nh3_in</th>\n",
       "      <td>1.132694e+00</td>\n",
       "    </tr>\n",
       "    <tr>\n",
       "      <th>so4_in</th>\n",
       "      <td>2.199020e-02</td>\n",
       "    </tr>\n",
       "    <tr>\n",
       "      <th>pi_in</th>\n",
       "      <td>1.048693e-01</td>\n",
       "    </tr>\n",
       "    <tr>\n",
       "      <th>o2_in</th>\n",
       "      <td>1.407006e+01</td>\n",
       "    </tr>\n",
       "    <tr>\n",
       "      <th>h_out</th>\n",
       "      <td>1.163078e+00</td>\n",
       "    </tr>\n",
       "    <tr>\n",
       "      <th>co2_out</th>\n",
       "      <td>4.869640e+00</td>\n",
       "    </tr>\n",
       "    <tr>\n",
       "      <th>h2o_out</th>\n",
       "      <td>1.634311e+01</td>\n",
       "    </tr>\n",
       "    <tr>\n",
       "      <th>ACP_out</th>\n",
       "      <td>1.189100e-02</td>\n",
       "    </tr>\n",
       "    <tr>\n",
       "      <th>trdox_out</th>\n",
       "      <td>5.421011e-18</td>\n",
       "    </tr>\n",
       "    <tr>\n",
       "      <th>cytd_out</th>\n",
       "      <td>2.781920e-02</td>\n",
       "    </tr>\n",
       "    <tr>\n",
       "      <th>co_out</th>\n",
       "      <td>3.000000e-06</td>\n",
       "    </tr>\n",
       "    <tr>\n",
       "      <th>fdxox_out</th>\n",
       "      <td>5.421011e-20</td>\n",
       "    </tr>\n",
       "    <tr>\n",
       "      <th>pap_out</th>\n",
       "      <td>2.199020e-02</td>\n",
       "    </tr>\n",
       "    <tr>\n",
       "      <th>rdmbzi_out</th>\n",
       "      <td>1.000000e-04</td>\n",
       "    </tr>\n",
       "    <tr>\n",
       "      <th>MNXM4297_out</th>\n",
       "      <td>2.798520e-02</td>\n",
       "    </tr>\n",
       "    <tr>\n",
       "      <th>ch4_in</th>\n",
       "      <td>9.379356e+00</td>\n",
       "    </tr>\n",
       "    <tr>\n",
       "      <th>Fe_in</th>\n",
       "      <td>6.120000e-04</td>\n",
       "    </tr>\n",
       "    <tr>\n",
       "      <th>DM_4hba_c</th>\n",
       "      <td>3.000000e-06</td>\n",
       "    </tr>\n",
       "  </tbody>\n",
       "</table>\n",
       "</div>"
      ],
      "text/plain": [
       "                      flux\n",
       "nh3_in        1.132694e+00\n",
       "so4_in        2.199020e-02\n",
       "pi_in         1.048693e-01\n",
       "o2_in         1.407006e+01\n",
       "h_out         1.163078e+00\n",
       "co2_out       4.869640e+00\n",
       "h2o_out       1.634311e+01\n",
       "ACP_out       1.189100e-02\n",
       "trdox_out     5.421011e-18\n",
       "cytd_out      2.781920e-02\n",
       "co_out        3.000000e-06\n",
       "fdxox_out     5.421011e-20\n",
       "pap_out       2.199020e-02\n",
       "rdmbzi_out    1.000000e-04\n",
       "MNXM4297_out  2.798520e-02\n",
       "ch4_in        9.379356e+00\n",
       "Fe_in         6.120000e-04\n",
       "DM_4hba_c     3.000000e-06"
      ]
     },
     "execution_count": 28,
     "metadata": {},
     "output_type": "execute_result"
    }
   ],
   "source": [
    "cameo.pfba(model).data_frame.loc[[r.id for r in model.exchanges]].query(\"abs(flux) > 0\")"
   ]
  },
  {
   "cell_type": "markdown",
   "metadata": {},
   "source": [
    "The model can predict uptake rates for oxygen that can match the experimental data, however the ratio to CH4 uptake remains unchanged."
   ]
  },
  {
   "cell_type": "markdown",
   "metadata": {},
   "source": [
    "# Identify unbalanced essential reactions:"
   ]
  },
  {
   "cell_type": "code",
   "execution_count": 29,
   "metadata": {
    "collapsed": true
   },
   "outputs": [],
   "source": [
    "model.reactions.BIOMASS_REACTION.lower_bound = 0.1\n",
    "model.reactions.ch4_in.lower_bound = 1"
   ]
  },
  {
   "cell_type": "code",
   "execution_count": 30,
   "metadata": {
    "collapsed": true
   },
   "outputs": [],
   "source": [
    "model.objective = model.reactions.o2_in\n",
    "model.objective.direction = 'min'"
   ]
  },
  {
   "cell_type": "code",
   "execution_count": 31,
   "metadata": {
    "collapsed": false
   },
   "outputs": [
    {
     "name": "stdout",
     "output_type": "stream",
     "text": [
      "There are 216 unbalanced reactions and 6 metabolites with a faulty syntax\n",
      "3HAD180_c {'C': 0, 'H': 0, 'charge': -1.0, 'O': 0, 'N': 0, 'P': 0, 'S': 0, 'R': 0}\n",
      "3OAS180_c {'C': 0, 'H': -1.0, 'charge': 0, 'O': 0, 'N': 0, 'P': 0, 'S': -1.0, 'R': -1.0}\n",
      "3OAR180_c {'C': 0, 'H': 0, 'charge': 1.0, 'O': 0, 'N': 0, 'P': 0, 'S': 0, 'R': 0}\n",
      "ACOATA_c {'C': 0, 'H': 1.0, 'charge': 0, 'O': 0, 'N': 0, 'P': 0, 'S': 1.0, 'R': 1.0}\n",
      "KAS14_c {'C': 0, 'H': -1.0, 'charge': 0, 'O': 0, 'N': 0, 'P': 0, 'S': -1.0, 'R': -1.0}\n",
      "3OAS160_c {'C': 0, 'H': -1.0, 'charge': 0, 'O': 0, 'N': 0, 'P': 0, 'S': -1.0, 'R': -1.0}\n",
      "3OAS140_c {'C': 12.0, 'H': 22.0, 'charge': 0, 'O': 1.0, 'N': 0, 'P': 0, 'S': 0, 'R': 0}\n",
      "3OAS120_c {'C': 0, 'H': -1.0, 'charge': 0, 'O': 0, 'N': 0, 'P': 0, 'S': -1.0, 'R': -1.0}\n",
      "3OAS100_c {'C': 0, 'H': -1.0, 'charge': 0, 'O': 0, 'N': 0, 'P': 0, 'S': -1.0, 'R': -1.0}\n",
      "3OAS80_c {'C': 0, 'H': -1.0, 'charge': 0, 'O': 0, 'N': 0, 'P': 0, 'S': -1.0, 'R': -1.0}\n",
      "3OAS60_c {'C': 0, 'H': -1.0, 'charge': 0, 'O': 0, 'N': 0, 'P': 0, 'S': -1.0, 'R': -1.0}\n",
      "MCOATA_c {'C': 0, 'H': 2.0, 'charge': 1.0, 'O': 0, 'N': 0, 'P': 0, 'S': 1.0, 'R': 1.0}\n",
      "RNDR2_c {'C': 0, 'H': 1.0, 'charge': -1.0, 'O': 0, 'N': 0, 'P': 0, 'S': 0, 'R': 0}\n",
      "RNDR1_c {'C': 0, 'H': 2.0, 'charge': 0, 'O': 0, 'N': 0, 'P': 0, 'S': 0, 'R': 0}\n",
      "PRFGS_c {'C': 0, 'H': -1.0, 'charge': -1.0, 'O': 0, 'N': 0, 'P': 0, 'S': 0, 'R': 0}\n",
      "TRDR_c {'C': 0, 'H': -2.0, 'charge': 0, 'O': 0, 'N': 0, 'P': 0, 'S': 0, 'R': 0}\n",
      "RNDR3_c {'C': 0, 'H': 2.0, 'charge': 0, 'O': 0, 'N': 0, 'P': 0, 'S': 0, 'R': 0}\n",
      "PSSA_MC_c {'C': -1.0, 'H': -1.0, 'charge': 0, 'O': 7.0, 'N': 0, 'P': 0, 'S': 0, 'R': 0}\n",
      "DHDPRy_c {'C': 0, 'H': -2.0, 'charge': 0, 'O': -1.0, 'N': 0, 'P': 0, 'S': 0, 'R': 0}\n",
      "U23GAAT_c {'C': 0, 'H': -2.0, 'charge': -1.0, 'O': 0, 'N': 0, 'P': 0, 'S': -1.0, 'R': -1.0}\n",
      "UAGAAT_c {'C': 0, 'H': -1.0, 'charge': 0, 'O': 0, 'N': 0, 'P': 0, 'S': -1.0, 'R': -1.0}\n",
      "UDCPDP_c {'C': 0, 'H': 0, 'charge': 2.0, 'O': 0, 'N': 0, 'P': 0, 'S': 0, 'R': 0}\n",
      "PAPPT3_c {'C': 0, 'H': 0, 'charge': -2.0, 'O': 0, 'N': 0, 'P': 0, 'S': 0, 'R': 0}\n",
      "APG3PAT_MC_c {'C': -1.0, 'H': -1.0, 'charge': 0, 'O': -3.0, 'N': 0, 'P': 0, 'S': 0, 'R': 0}\n",
      "G3PAT_MC_c {'C': 1.0, 'H': -1.0, 'charge': 1.0, 'O': 1.0, 'N': 0, 'P': 0, 'S': 0, 'R': 0}\n",
      "PHCYT_MC_c {'C': 1.0, 'H': 0, 'charge': -2.0, 'O': -7.0, 'N': 0, 'P': 0, 'S': 0, 'R': 0}\n",
      "PSD_MC_c {'C': 0, 'H': -1.0, 'charge': -1.0, 'O': 0, 'N': 0, 'P': 0, 'S': 0, 'R': 0}\n",
      "PMETM2_MC_c {'C': 2.0, 'H': 7.0, 'charge': 2.0, 'O': 0, 'N': 0, 'P': 0, 'S': 0, 'R': 0}\n",
      "PMETM_MC_c {'C': 2.0, 'H': 7.0, 'charge': 2.0, 'O': 0, 'N': 0, 'P': 0, 'S': 0, 'R': 0}\n",
      "PGSA_MC_c {'C': -17.0, 'H': -33.0, 'charge': 0, 'O': 7.0, 'N': 0, 'P': 0, 'S': 0, 'R': 0}\n",
      "PMPS_c {'C': 0, 'H': 1.0, 'charge': 1.0, 'O': 0, 'N': 0, 'P': 0, 'S': 0, 'R': 0}\n",
      "FMNAT_c {'C': -17.0, 'H': -19.0, 'charge': 2.0, 'O': -9.0, 'N': -4.0, 'P': -1.0, 'S': 0, 'R': 0}\n",
      "RBFK_c {'C': -17.0, 'H': -19.0, 'charge': 2.0, 'O': -9.0, 'N': -4.0, 'P': -1.0, 'S': 0, 'R': 0}\n",
      "MNXR18583_c {'C': -4.0, 'H': -2.0, 'charge': 0, 'O': -3.0, 'N': -2.0, 'P': 0, 'S': 0, 'R': 0}\n",
      "PPNCL2_c {'C': 0, 'H': -1.0, 'charge': -1.0, 'O': 0, 'N': 0, 'P': 0, 'S': 0, 'R': 0}\n",
      "GLUTRR_c {'C': 5.0, 'H': 7.0, 'charge': 0, 'O': 3.0, 'N': 1.0, 'P': 0, 'S': 0, 'R': 0}\n",
      "GLUTRS_c {'C': -5.0, 'H': -7.0, 'charge': 0, 'O': -3.0, 'N': -1.0, 'P': 0, 'S': 0, 'R': 0}\n",
      "PAPR_c {'C': 0, 'H': 2.0, 'charge': 0, 'O': 0, 'N': 0, 'P': 0, 'S': 0, 'R': 0}\n",
      "DES_9_c {'C': 0, 'H': 0, 'charge': -2.0, 'O': 0, 'N': 0, 'P': 0, 'S': 0, 'R': 0}\n",
      "OCT_GAPFILLING_c {'C': 0, 'H': -1.0, 'charge': -1.0, 'O': 0, 'N': 0, 'P': 0, 'S': 0, 'R': 0}\n",
      "DES_9_2_c {'C': 0, 'H': 0, 'charge': 2.0, 'O': 0, 'N': 0, 'P': 0, 'S': 0, 'R': 0}\n",
      "FACOAE141_c {'C': 0, 'H': 0, 'charge': -4.0, 'O': 0, 'N': 0, 'P': 0, 'S': 0, 'R': 0}\n",
      "FA180ACPHi_c {'C': 0, 'H': -1.0, 'charge': 1.0, 'O': 0, 'N': 0, 'P': 0, 'S': -1.0, 'R': -1.0}\n",
      "FA160ACPHi_c {'C': 0, 'H': -1.0, 'charge': 1.0, 'O': 0, 'N': 0, 'P': 0, 'S': -1.0, 'R': -1.0}\n",
      "FA140ACPHi_c {'C': 0, 'H': -1.0, 'charge': 0, 'O': 0, 'N': 0, 'P': 0, 'S': -1.0, 'R': -1.0}\n",
      "3OAR150_GAPFILLING_c {'C': 15.0, 'H': 10.0, 'charge': 0, 'O': 15.0, 'N': 0, 'P': 0, 'S': -1.0, 'R': -1.0}\n",
      "3OAR170_GAPFILLING_c {'C': 0, 'H': -1.0, 'charge': 0, 'O': 0, 'N': 0, 'P': 0, 'S': -1.0, 'R': -1.0}\n",
      "FA150ACPHi_c {'C': 0, 'H': -2.0, 'charge': 0, 'O': 0, 'N': 0, 'P': 0, 'S': -1.0, 'R': -1.0}\n",
      "FA170ACPHi_c {'C': 0, 'H': -2.0, 'charge': 0, 'O': 0, 'N': 0, 'P': 0, 'S': -1.0, 'R': -1.0}\n",
      "POR_syn_c {'C': 0, 'H': -2.0, 'charge': 0, 'O': 0, 'N': 0, 'P': 0, 'S': 0, 'R': 0}\n",
      "CFACPOA2H_Lumped_c {'C': 0, 'H': -2.0, 'charge': -1.0, 'O': 1.0, 'N': 0, 'P': 0, 'S': 0, 'R': 0}\n",
      "FACOAEcyc170_c {'C': -42.0, 'H': -64.0, 'charge': 9.0, 'O': -33.0, 'N': -14.0, 'P': -6.0, 'S': -2.0, 'R': 0}\n",
      "MECDPDH5_c {'C': 0, 'H': 0, 'charge': -2.0, 'O': 0, 'N': 0, 'P': 0, 'S': 0, 'R': 0}\n",
      "PFOR_c {'C': 0, 'H': -2.0, 'charge': 0, 'O': 0, 'N': 0, 'P': 0, 'S': 0, 'R': 0}\n",
      "PCOATA_c {'C': 0, 'H': 1.0, 'charge': 0, 'O': 0, 'N': 0, 'P': 0, 'S': 1.0, 'R': 1.0}\n",
      "DM_4hba_c {'C': -7.0, 'H': -8.0, 'charge': 0, 'O': -2.0, 'N': 0, 'P': 0, 'S': 0, 'R': 0}\n",
      "MC_Average_FattyAcid_c {'C': -0.040999999999999426, 'H': 0.03699999999999959, 'charge': -0.09299999999999997, 'O': 0.0020000000000002308, 'N': 0, 'P': 0, 'S': 0, 'R': 0}\n",
      "MC_AFAA_c {'C': 0, 'H': 1.0, 'charge': 0, 'O': 1.0, 'N': 0, 'P': 0, 'S': 0, 'R': 0}\n",
      "PPTGS_MC_c {'C': -40.0, 'H': -62.0, 'charge': 2.0, 'O': -21.0, 'N': -8.0, 'P': 0, 'S': 0, 'R': 0}\n",
      "HEPK1_GAPFILLING_c {'C': 0, 'H': 0, 'charge': 2.0, 'O': 0, 'N': 0, 'P': 0, 'S': 0, 'R': 0}\n",
      "HEPK2_GAPFILLING_c {'C': 0, 'H': 0, 'charge': 2.0, 'O': 0, 'N': 0, 'P': 0, 'S': 0, 'R': 0}\n",
      "MOAT3C_GAPFILLING_c {'C': 0, 'H': 0, 'charge': 1.0, 'O': 0, 'N': 0, 'P': 0, 'S': 0, 'R': 0}\n",
      "EDTXS1_GAPFILLING_c {'C': 12.0, 'H': 22.0, 'charge': 6.0, 'O': 1.0, 'N': 0, 'P': 0, 'S': 0, 'R': 0}\n",
      "EDTXS2_GAPFILLING_c {'C': 0, 'H': -1.0, 'charge': 0, 'O': 0, 'N': 0, 'P': 0, 'S': -1.0, 'R': -1.0}\n",
      "COLIPAabctex_GAPFILLING_c {'C': -176.0, 'H': -303.0, 'charge': 0, 'O': -100.0, 'N': -2.0, 'P': -4.0, 'S': 0, 'R': 0}\n"
     ]
    }
   ],
   "source": [
    "essential_reactions = model.essential_reactions()\n",
    "unbalanced_list = find_unbalanced_reactions(model)\n",
    "check_and_fix = [x.id for x in essential_reactions if x.id in unbalanced_list[0]]\n",
    "for x in check_and_fix:\n",
    "    print x,unbalanced_list[0][x]"
   ]
  },
  {
   "cell_type": "markdown",
   "metadata": {},
   "source": [
    "### Fix faulty metabolites:"
   ]
  },
  {
   "cell_type": "code",
   "execution_count": 32,
   "metadata": {
    "collapsed": true
   },
   "outputs": [],
   "source": [
    "met = model.metabolites.get_by_id('3hoctaACP_c')\n",
    "met.charge = -1"
   ]
  },
  {
   "cell_type": "code",
   "execution_count": 33,
   "metadata": {
    "collapsed": true
   },
   "outputs": [],
   "source": [
    "from cameo import load_model"
   ]
  },
  {
   "cell_type": "code",
   "execution_count": 34,
   "metadata": {
    "collapsed": false
   },
   "outputs": [],
   "source": [
    "model2 = load_model(\"iJO1366\")"
   ]
  },
  {
   "cell_type": "code",
   "execution_count": 35,
   "metadata": {
    "collapsed": false
   },
   "outputs": [
    {
     "name": "stdout",
     "output_type": "stream",
     "text": [
      "There are 6 unbalanced reactions and 0 metabolites with a faulty syntax\n"
     ]
    }
   ],
   "source": [
    "unbalanced_list2 = find_unbalanced_reactions(model2)"
   ]
  },
  {
   "cell_type": "code",
   "execution_count": 36,
   "metadata": {
    "collapsed": false
   },
   "outputs": [
    {
     "name": "stdout",
     "output_type": "stream",
     "text": [
      "fdp_c -4 C6H10O12P2\n",
      "g3p_c -2 C3H5O6P\n",
      "dhap_c -2 C3H5O6P\n",
      "h_c 1 H\n",
      "nadh_c -2 C21H27N7O14P2\n",
      "acald_c 0 C2H4O\n",
      "etoh_c 0 C2H6O\n",
      "nad_c -1 C21H26N7O14P2\n",
      "pyr_c -1 C3H3O3\n",
      "thmpp_c -2 C12H16N4O7P2S\n",
      "co2_c 0 CO2\n",
      "accoa_c -4 C23H34N7O17P3S\n",
      "coa_c -4 C21H32N7O16P3S\n",
      "atp_c -4 C10H12N5O13P3\n",
      "adp_c -3 C10H12N5O10P2\n",
      "pep_c -3 C3H2O6P\n",
      "h2o_c 0 H2O\n",
      "2pg_c -3 C3H4O7P\n",
      "3pg_c -3 C3H4O7P\n",
      "13dpg_c -4 C3H4O10P2\n",
      "pi_c -2 HO4P\n",
      "f6p_c -2 C6H11O9P\n",
      "g1p_c -2 C6H11O9P\n",
      "g6p_c -2 C6H11O9P\n",
      "ppi_c -3 HO7P2\n",
      "amp_c -2 C10H12N5O7P\n",
      "ac_c -1 C2H3O2\n",
      "fum_c -2 C4H2O4\n",
      "succ_c -2 C4H4O4\n",
      "akg_c -2 C5H4O5\n",
      "succoa_c -5 C25H35N7O19P3S\n",
      "icit_c -3 C6H5O7\n",
      "mal__L_c -2 C4H4O5\n",
      "acon_C_c -3 C6H3O6\n",
      "cit_c -3 C6H5O7\n",
      "oaa_c -2 C4H2O5\n",
      "2ddg6p_c -3 C6H8O9P\n",
      "prpp_c -5 C5H8O14P3\n",
      "r5p_c -2 C5H9O8P\n",
      "s7p_c -2 C7H13O10P\n",
      "e4p_c -2 C4H7O7P\n",
      "nadph_c -4 C21H26N7O17P3\n",
      "6pgc_c -3 C6H10O10P\n",
      "nadp_c -3 C21H25N7O17P3\n",
      "6pgl_c -2 C6H9O9P\n",
      "r1p_c -2 C5H9O8P\n",
      "actp_c -2 C2H3O5P\n",
      "fald_c 0 CH2O\n",
      "udpg_c -2 C15H22N2O17P2\n",
      "utp_c -3 C9H12N2O15P3\n",
      "utp_c -3 C9H11N2O15P3 \n",
      "\n",
      "udpglcur_c -3 C15H19N2O18P2\n",
      "man6p_c -2 C6H11O9P\n",
      "man1p_c -2 C6H11O9P\n",
      "gdpddman_c -2 C16H21N5O15P2\n",
      "gdpfuc_c -2 C16H23N5O15P2\n",
      "gdpmann_c -2 C16H23N5O16P2\n",
      "gtp_c -4 C10H12N5O14P3\n",
      "glyald_c 0 C3H6O3\n",
      "f1p_c -2 C6H11O9P\n",
      "cdp_c -3 C9H12N3O11P2\n",
      "ctp_c -3 C9H13N3O14P3\n",
      "ctp_c -3 C9H12N3O14P3 \n",
      "\n",
      "udp_c -3 C9H11N2O12P2\n",
      "idp_c -3 C10H11N4O11P2\n",
      "itp_c -3 C10H12N4O14P3\n",
      "itp_c -3 C10H11N4O14P3 \n",
      "\n",
      "fru_c 0 C6H12O6\n",
      "glc__D_c 0 C6H12O6\n",
      "udpgal_c -2 C15H22N2O17P2\n",
      "gal_c 0 C6H12O6\n",
      "toctd2eACP_c -1 C18H33OSR\n",
      "toctd2eACP_c -1 C29H53N2O8PRS \n",
      "\n",
      "ocdcaACP_c -1 C18H35OSR\n",
      "ocdcaACP_c -1 C29H55N2O8PRS \n",
      "\n",
      "3hoctaACP_c -1 C18H35O2SR\n",
      "3hoctaACP_c -1 C29H55N2O9PRS \n",
      "\n",
      "3ooctdACP_c -1 C18H33O2SR\n",
      "3ooctdACP_c -1 C29H53N2O9PRS \n",
      "\n",
      "ACP_c 0 \n",
      "ACP_c 0 C11H21N2O7PRS \n",
      "\n",
      "malACP_c 0 C3H3O3SR\n",
      "malACP_c 0 C14H22N2O10PRS \n",
      "\n",
      "palmACP_c -1 C16H31OSR\n",
      "palmACP_c -1 C27H51N2O8PRS \n",
      "\n",
      "acACP_c 0 C2H3OSR\n",
      "acACP_c 0 C13H23N2O8PRS \n",
      "\n",
      "actACP_c 0 C4H5O2SR\n",
      "actACP_c 0 C15H25N2O9PRS \n",
      "\n",
      "3opalmACP_c 0 C16H29O2SR\n",
      "3opalmACP_c 0 C27H49N2O9PRS \n",
      "\n",
      "myrsACP_c 0 C14H27OSR\n",
      "myrsACP_c 0 C25H47N2O8PRS \n",
      "\n",
      "3omrsACP_c 0 C14H25O2SR\n",
      "3omrsACP_c 0 C25H45N2O9PRS \n",
      "\n",
      "ddcaACP_c 0 \n",
      "ddcaACP_c 0 C23H43N2O8PRS \n",
      "\n",
      "3oddecACP_c 0 C12H21O2SR\n",
      "3oddecACP_c 0 C23H41N2O9PRS \n",
      "\n",
      "dcaACP_c 0 C10H19OSR\n",
      "dcaACP_c 0 C21H39N2O8PRS \n",
      "\n",
      "3odecACP_c 0 C10H17O2SR\n",
      "3odecACP_c 0 C21H37N2O9PRS \n",
      "\n",
      "ocACP_c 0 C8H15OSR\n",
      "ocACP_c 0 C19H35N2O8PRS \n",
      "\n",
      "3ooctACP_c 0 C8H13O2SR\n",
      "3ooctACP_c 0 C19H33N2O9PRS \n",
      "\n",
      "hexACP_c 0 C6H11OSR\n",
      "hexACP_c 0 C17H31N2O8PRS \n",
      "\n",
      "3ohexACP_c 0 C6H9O2SR\n",
      "3ohexACP_c 0 C17H29N2O9PRS \n",
      "\n",
      "butACP_c 0 C4H7OSR\n",
      "butACP_c 0 C15H27N2O8PRS \n",
      "\n",
      "tpalm2eACP_c 0 C16H29OSR\n",
      "tpalm2eACP_c 0 C27H49N2O8PRS \n",
      "\n",
      "3hpalmACP_c 0 C16H31O2SR\n",
      "3hpalmACP_c 0 C27H51N2O9PRS \n",
      "\n",
      "tmrs2eACP_c 0 C14H25OSR\n",
      "tmrs2eACP_c 0 C25H45N2O8PRS \n",
      "\n",
      "3hmrsACP_c 0 C14H27O2SR\n",
      "3hmrsACP_c 0 C25H47N2O9PRS \n",
      "\n",
      "tddec2eACP_c 0 C12H21OSR\n",
      "tddec2eACP_c 0 C23H41N2O8PRS \n",
      "\n",
      "3hddecACP_c 0 C12H23O2SR\n",
      "3hddecACP_c 0 C23H43N2O9PRS \n",
      "\n",
      "tdec2eACP_c 0 C10H17OSR\n",
      "tdec2eACP_c 0 C21H37N2O8PRS \n",
      "\n",
      "3hdecACP_c 0 C10H19O2SR\n",
      "3hdecACP_c 0 C21H39N2O9PRS \n",
      "\n",
      "toct2eACP_c 0 C8H13OSR\n",
      "toct2eACP_c 0 C19H33N2O8PRS \n",
      "\n",
      "3hoctACP_c 0 C8H15O2SR\n",
      "3hoctACP_c 0 C19H35N2O9PRS \n",
      "\n",
      "thex2eACP_c 0 C6H9OSR\n",
      "thex2eACP_c 0 C17H29N2O8PRS \n",
      "\n",
      "3hhexACP_c 0 C6H11O2SR\n",
      "3hhexACP_c 0 C17H31N2O9PRS \n",
      "\n",
      "but2eACP_c 0 C4H5OSR\n",
      "but2eACP_c 0 C15H25N2O8PRS \n",
      "\n",
      "malcoa_c -5 C24H33N7O19P3S\n",
      "hco3_c -1 CHO3\n",
      "pmtcoa_c -4 C37H62N7O17P3S\n",
      "hdca_c -1 C16H31O2\n",
      "for_c -1 CHO2\n",
      "for_c -1 CH1O2 \n",
      "\n",
      "o2_c 0 O2\n",
      "ahcys_c 0 C14H20N6O5S\n",
      "amet_c 1 C15H23N6O5S\n",
      "2omph_c 0 C47H72O2\n",
      "2ohph_c 0 C46H70O2\n",
      "2oph_c 0 C46H70O\n",
      "3ophb_c -1 C47H69O3\n",
      "4hbz_c -1 C7H5O3\n",
      "chor_c -2 C10H8O6\n",
      "octdp_c -3 C40H65O7P2\n",
      "trdrd_c 0 \n",
      "trdrd_c 0 XH2 \n",
      "\n",
      "gdp_c -2 C10H13N5O11P2\n",
      "gdp_c -2 C10H12N5O11P2 \n",
      "\n",
      "trdox_c 0 \n",
      "trdox_c 0 X \n",
      "\n",
      "dgdp_c -3 C10H12N5O10P2\n",
      "gln__L_c 0 C5H10N2O3\n",
      "pram_c -1 C5H11NO7P\n",
      "glu__L_c -1 C5H8NO4\n",
      "gar_c -1 C7H14N2O8P\n",
      "gly_c 0 C2H5NO2\n",
      "fgam_c -2 C8H13N2O9P\n",
      "thf_c -2 C19H21N7O6\n",
      "10fthf_c -2 C20H21N7O7\n",
      "fpram_c -2 C8H14N3O8P\n",
      "fpram_c -2 C8H15N3O8P \n",
      "\n",
      "air_c -1 C8H13N3O7P\n",
      "air_c -1 C8H12N3O7P \n",
      "\n",
      "aicar_c -2 C9H13N4O8P\n",
      "fprica_c -2 C10H13N4O9P\n",
      "25aics_c -4 C13H15N4O12P\n",
      "asp__L_c -1 C4H6NO4\n",
      "5aizc_c -3 C9H11N3O9P\n",
      "datp_c -4 C10H12N5O12P3\n",
      "dadp_c -3 C10H12N5O9P2\n",
      "dcamp_c -4 C14H14N5O11P\n",
      "imp_c -2 C10H11N4O8P\n",
      "adn_c 0 C10H13N5O4\n",
      "ade_c 0 C5H5N5\n",
      "damp_c -2 C10H12N5O6P\n",
      "dad_2_c 0 C10H13N5O3\n",
      "ins_c 0 C10H12N4O5\n",
      "xmp_c -2 C10H11N4O9P\n",
      "gmp_c -2 C10H12N5O8P\n",
      "hxan_c 0 C5H4N4O\n",
      "gsn_c 0 C10H13N5O5\n",
      "xan_c 0 C5H4N4O2\n",
      "xtsn_c 0 C10H12N4O6\n",
      "gua_c 0 C5H5N5O\n",
      "ppgpp_c -6 C10H11N5O17P4\n",
      "gdptp_c -7 C10H11N5O20P5\n",
      "dgmp_c -2 C10H12N5O7P\n",
      "dgtp_c -3 C10H13N5O13P3\n",
      "dgtp_c -3 C10H12N5O13P3 \n",
      "\n",
      "dgsn_c 0 C10H13N5O4\n",
      "ap4a_c -4 C20H24N10O19P4\n",
      "so4_c -2 O4S\n",
      "aps_c -2 C10H12N5O10PS\n",
      "paps_c -4 C10H11N5O13P2S\n",
      "xtp_c -3 C10H12N4O15P3\n",
      "xtp_c -3 C10H11N4O15P3 \n",
      "\n",
      "adprib_c -2 C15H21N5O14P2\n",
      "didp_c -3 C10H11N4O10P2\n",
      "ditp_c -4 C10H11N4O13P3\n",
      "dimp_c -2 C10H11N4O7P\n",
      "5caiz_c -3 C9H11N3O9P\n",
      "dudp_c -3 C9H11N2O11P2\n",
      "ump_c -2 C9H11N2O9P\n",
      "cbp_c -2 CH2NO5P\n",
      "cbasp_c -2 C5H6N2O5\n",
      "orot_c -1 C5H3N2O4\n",
      "orot5p_c -3 C10H10N2O11P\n",
      "ura_c 0 C4H4N2O2\n",
      "uri_c 0 C9H12N2O6\n",
      "cmp_c -2 C9H12N3O8P\n",
      "cytd_c 0 C9H13N3O5\n",
      "csn_c 0 C4H5N3O\n",
      "dcdp_c -3 C9H12N3O10P2\n",
      "dctp_c -3 C9H13N3O13P3\n",
      "dctp_c -3 C9H12N3O13P3 \n",
      "\n",
      "dutp_c -3 C9H12N2O14P3\n",
      "dutp_c -3 C9H11N2O14P3 \n",
      "\n",
      "dcmp_c -2 C9H12N3O7P\n",
      "dcyt_c 0 C9H13N3O4\n",
      "dump_c -2 C9H11N2O8P\n",
      "duri_c 0 C9H12N2O5\n",
      "2dr1p_c -2 C5H9O7P\n",
      "mlthf_c -2 C20H21N7O6\n",
      "dtmp_c -2 C10H13N2O8P\n",
      "dhf_c -2 C19H19N7O6\n",
      "dttp_c -3 C10H14N2O14P3\n",
      "dttp_c -3 C10H13N2O14P3 \n",
      "\n",
      "dtdp_c -3 C10H13N2O11P2\n",
      "thymd_c 0 C10H14N2O5\n",
      "thym_c 0 C5H6N2O2\n",
      "asn__L_c 0 C4H8N2O3\n",
      "h2o2_c 0 H2O2\n",
      "argsuc_c -1 C10H17N4O6\n",
      "citr__L_c 0 C6H13N3O3\n",
      "arg__L_c 1 C6H15N4O2\n",
      "ala__L_c 0 C3H7NO2\n",
      "glx_c -1 C2HO3\n",
      "glx_c -1 C2H1O3 \n",
      "\n",
      "sucsal_c -1 C4H5O3\n",
      "gam6p_c -1 C6H13NO8P\n",
      "ser__L_c 0 C3H7NO3\n",
      "hpyr_c -1 C3H3O4\n",
      "4pasp_c -2 C4H6NO7P\n",
      "pser__L_c -2 C3H6NO6P\n",
      "3php_c -3 C3H2O7P\n",
      "2obut_c -1 C4H5O3\n",
      "thr__L_c 0 C4H9NO3\n",
      "phom_c -2 C4H8NO6P\n",
      "aspsa_c 0 C4H7NO3\n",
      "hom__L_c 0 C4H9NO3\n",
      "trp__L_c 0 C11H12N2O2\n",
      "3ig3p_c -2 C11H12NO6P\n",
      "suchms_c -1 C8H12NO6\n",
      "h2s_c -1 HS\n",
      "h2s_c -1 H2S \n",
      "\n",
      "hcys__L_c 0 C4H9NO2S\n",
      "5mta_c 0 C11H15N5O3S\n",
      "5mtr_c 0 C6H12O4S\n",
      "spmd_c 3 C7H22N3\n",
      "ptrc_c 2 C4H14N2\n",
      "ametam_c 2 C14H24N6O3S\n",
      "met__L_c 0 C5H11NO2S\n",
      "5mthf_c -2 C20H23N7O6\n",
      "5mthf_c -2 C20H24N7O6 \n",
      "\n",
      "cyst__L_c 0 C7H14N2O4S\n",
      "rhcys_c 0 C9H17NO6S\n",
      "cys__L_c 0 C3H7NO2S\n",
      "acser_c 0 C5H9NO4\n",
      "tsul_c -1 HO3S2\n",
      "tsul_c -1 O3S2 \n",
      "\n",
      "so3_c -1 HO3S\n",
      "so3_c -1 O3S \n",
      "\n",
      "3sala_c -1 C3H6NO4S\n",
      "3sala_c -1 C3H5NO4S \n",
      "\n",
      "mercppyr_c -1 C3H3O3S\n",
      "3mob_c -1 C5H7O3\n",
      "val__L_c 0 C5H11NO2\n",
      "ile__L_c 0 C6H13NO2\n",
      "3mop_c -1 C6H9O3\n",
      "4mop_c -1 C6H9O3\n",
      "leu__L_c 0 C6H13NO2\n",
      "23dhmp_c -1 C6H11O4\n",
      "3c3hmp_c -2 C7H10O5\n",
      "2ippm_c -2 C7H8O4\n",
      "3c4mop_c -2 C7H8O5\n",
      "3c2hmp_c -2 C7H10O5\n",
      "23dhmb_c -1 C5H9O4\n",
      "2ahbut_c -1 C6H9O4\n",
      "ugmda_c -4 C41H61N9O28P2\n",
      "ugmd_c -4 C35H51N7O26P2\n",
      "alaala_c 0 C6H12N2O3\n",
      "thdp_c -2 C7H7NO4\n",
      "sl2a6o_c -3 C11H12NO8\n",
      "sl26da_c -2 C11H16N2O7\n",
      "26dap_LL_c 0 C7H14N2O4\n",
      "lys__L_c 1 C6H15N2O2\n",
      "uamag_c -4 C28H39N5O23P2\n",
      "acglu_c -2 C7H9NO5\n",
      "acg5p_c -3 C7H9NO8P\n",
      "acg5sa_c -1 C7H10NO4\n",
      "acorn_c 0 C7H14N2O3\n",
      "orn_c 1 C5H13N2O2\n",
      "glu5sa_c 0 C5H9NO3\n",
      "1pyr5c_c -1 C5H6NO2\n",
      "pro__L_c 0 C5H9NO2\n",
      "agm_c 2 C5H16N4\n",
      "glu5p_c -2 C5H8NO7P\n",
      "his__L_c 0 C6H9N3O2\n",
      "prbatp_c -6 C15H19N5O20P4\n",
      "histd_c 1 C6H12N3O\n",
      "imacp_c -2 C6H7N2O5P\n",
      "hisp_c -1 C6H11N3O4P\n",
      "eig3p_c -2 C6H9N2O6P\n",
      "prfp_c -4 C15H21N5O15P2\n",
      "prlp_c -4 C15H21N5O15P2\n",
      "prbamp_c -4 C15H19N5O14P2\n",
      "tyr__L_c 0 C9H11NO3\n",
      "34hpp_c -1 C9H7O4\n",
      "phaccoa_c -4 C29H38N7O17P3S\n",
      "pac_c -1 C8H7O2\n",
      "phe__L_c 0 C9H11NO2\n",
      "phpyr_c -1 C9H7O3\n",
      "cinnm_c -1 C9H7O2\n",
      "cenchddd_c -1 C9H9O4\n",
      "pppn_c -1 C9H9O2\n",
      "cechddd_c -1 C9H11O4\n",
      "2dda7p_c -3 C7H10O10P\n",
      "3psme_c -4 C10H9O10P\n",
      "indole_c 0 C8H7N\n",
      "2cpr5p_c -3 C12H13NO9P\n",
      "pran_c -3 C12H13NO9P\n",
      "anth_c -1 C7H6NO2\n",
      "pphn_c -2 C10H8O6\n",
      "skm5p_c -3 C7H8O8P\n",
      "skm_c -1 C7H9O5\n",
      "3dhsk_c -1 C7H7O5\n",
      "3dhq_c -1 C7H9O6\n",
      "ala_B_c 0 C3H7NO2\n",
      "taur_c 0 C2H7NO3S\n",
      "seln_c 0 H2Se\n",
      "seln_c 0 HSe \n",
      "\n",
      "trnamet_c 0 \n",
      "trnamet_c 0 R \n",
      "\n",
      "sel_c 0 H2O4Se\n",
      "sel_c 0 O4Se \n",
      "\n",
      "uama_c -3 C23H33N4O20P2\n",
      "uamr_c -3 C20H28N3O19P2\n",
      "gthrd_c -1 C10H16N3O6S\n",
      "gthox_c -2 C20H30N6O12S2\n",
      "glucys_c -1 C8H13N2O5S\n",
      "cgly_c 0 C5H10N2O3S\n",
      "na15dap_c 3 C8H24N3\n",
      "15dap_c 2 C5H16N2\n",
      "adpglc_c -2 C16H23N5O15P2\n",
      "malt_c 0 C12H22O11\n",
      "tre_c 0 C12H22O11\n",
      "uacgam_c -2 C17H25N3O17P2\n",
      "acgam1p_c -2 C8H14NO9P\n",
      "gam1p_c -1 C6H13NO8P\n",
      "uaccg_c -3 C20H26N3O19P2\n",
      "acgam_c 0 C8H15NO6\n",
      "inost_c 0 C6H12O6\n",
      "dtdp4d6dm_c -2 C16H22N2O15P2\n",
      "dtdprmn_c -2 C16H24N2O15P2\n",
      "dtdp4d6dg_c -2 C16H22N2O15P2\n",
      "dtdpglu_c -2 C16H24N2O16P2\n",
      "ckdo_c -2 C17H24N3O15P\n",
      "kdo_c -1 C8H13O8\n",
      "kdo8p_c -3 C8H12O11P\n",
      "lipidA_c -4 C68H126N2O23P2\n",
      "lipidAds_c -2 C68H127N2O20P\n",
      "u23ga_c -2 C43H75N3O20P2\n",
      "lipidX_c -2 C34H64NO12P\n",
      "gmhep7p_c -2 C7H13O10P\n",
      "gmhep17bp_c -4 C7H12O13P2\n",
      "gmhep1p_c -2 C7H13O10P\n",
      "adphep_DD_c -2 C17H25N5O16P2\n",
      "kdo2lipid4_c -6 C84H148N2O37P2\n",
      "kdolipid4_c -5 C76H137N2O30P2\n",
      "ara5p_c -2 C5H9O8P\n",
      "u3hga_c -1 C29H50N3O18P2\n",
      "u3aga_c -2 C31H51N3O19P2\n",
      "udcpdp_c -3 C55H89O7P2\n",
      "uagmda_c -4 C87H139N7O23P2\n",
      "uaagmda_c -4 C95H152N8O28P2\n",
      "dha_c 0 C3H6O3\n",
      "mi1p__D_c -2 C6H11O9P\n",
      "g3pe_c 0 C5H14NO6P\n",
      "etha_c 1 C2H8NO\n",
      "g3pc_c 0 C8H20NO6P\n",
      "chol_c 1 C5H14NO\n",
      "mthgxl_c 0 C3H4O2\n",
      "4crsol_c 0 C7H8O\n",
      "cl_c -1 Cl\n",
      "no2_c -1 NO2\n",
      "glyclt_c -1 C2H3O3\n",
      "2pglyc_c -3 C2H2O6P\n",
      "micit_c -3 C7H7O7\n",
      "2mcacn_c -3 C7H5O6\n",
      "ppcoa_c -4 C24H36N7O17P3S\n",
      "ppa_c -1 C3H5O2\n",
      "ppap_c -2 C3H5O5P\n",
      "fad_c -2 C27H31N9O15P2\n",
      "fadh2_c -2 C27H33N9O15P2\n",
      "methf_c -1 C20H20N7O6\n",
      "5fthf_c -2 C20H21N7O7\n",
      "fmettrna_c 0 \n",
      "fmettrna_c 0 C6H9NO2SR \n",
      "\n",
      "mettrna_c 0 \n",
      "mettrna_c 0 C5H10NOSR \n",
      "\n",
      "h2_c 0 H2\n",
      "meoh_c 0 CH4O\n",
      "meoh_c 0 CH4O1 \n",
      "\n",
      "s17bp_c -4 C7H12O13P2\n",
      "thmmp_c -1 C12H16N4O4PS\n",
      "dhgly_c -1 C2H2NO2\n",
      "4mpetz_c -2 C6H8NO4PS\n",
      "dxyl5p_c -2 C5H9O7P\n",
      "4ahmmp_c 0 C6H9N3O\n",
      "2mahmp_c -3 C6H8N3O7P2\n",
      "4ampm_c -2 C6H8N3O4P\n",
      "db4p_c -2 C4H7O6P\n",
      "fmn_c 0 \n",
      "fmn_c 0 C17H19N4O9P \n",
      "\n",
      "ribflv_c 0 C17H20N4O6\n",
      "5apru_c -2 C9H13N4O9P\n",
      "5aprbu_c -2 C9H15N4O9P\n",
      "dmlz_c 0 C13H18N4O6\n",
      "4r5au_c 0 C9H16N4O6\n",
      "dmbzid_c 0 C9H10N2\n",
      "fmnh2_c -2 C17H21N4O9P\n",
      "phthr_c -2 C4H8NO7P\n",
      "4hthr_c 0 C4H9NO4\n",
      "ohpb_c -3 C4H4O8P\n",
      "pdx5p_c -2 C8H10NO6P\n",
      "iasp_c -2 C4H3NO4\n",
      "quln_c -2 C7H3NO4\n",
      "nicrnt_c -2 C11H12NO9P\n",
      "dnad_c -2 C21H24N6O15P2\n",
      "nac_c -1 C6H4NO2\n",
      "ncam_c 0 C6H6N2O\n",
      "nmn_c -1 C11H14N2O8P\n",
      "dpcoa_c -2 C21H33N7O13P2S\n",
      "pan4p_c -2 C11H21N2O7PS\n",
      "4ppcys_c -3 C12H20N2O9PS\n",
      "4ppan_c -3 C9H15NO8P\n",
      "2dhp_c -1 C6H9O4\n",
      "apoACP_c 0 \n",
      "apoACP_c 0 RHO \n",
      "\n",
      "pap_c -4 C10H11N5O10P2\n",
      "btn_c -1 C10H15N2O3S\n",
      "dtbt_c -1 C10H17N2O3\n",
      "dad_5_c 0 C10H13N5O3\n",
      "dann_c 1 C9H21N2O2\n",
      "8aonn_c 0 C9H17NO3\n",
      "amob_c 0 C15H19N5O6S\n",
      "pimACP_c 0 C7H11O3SR\n",
      "pimACP_c 0 C18H31N2O10PRS \n",
      "\n",
      "pmeACP_c 0 C8H13O3SR\n",
      "pmeACP_c 0 C19H33N2O10PRS \n",
      "\n",
      "hgmeACP_c 0 C6H9O4SR\n",
      "hgmeACP_c 0 C17H29N2O11PRS \n",
      "\n",
      "egmeACP_c 0 C6H7O3SR\n",
      "egmeACP_c 0 C17H27N2O10PRS \n",
      "\n",
      "gmeACP_c 0 C6H9O3SR\n",
      "gmeACP_c 0 C17H29N2O10PRS \n",
      "\n",
      "hpmeACP_c 0 C8H13O4SR\n",
      "hpmeACP_c 0 C19H33N2O11PRS \n",
      "\n",
      "epmeACP_c 0 C8H11O3SR\n",
      "epmeACP_c 0 C19H31N2O10PRS \n",
      "\n",
      "4adcho_c -1 C10H10NO5\n",
      "4abz_c -1 C7H6NO2\n",
      "dhpt_c -1 C14H13N6O3\n",
      "dhnpt_c 0 C9H13N5O4\n",
      "gcald_c 0 C2H4O2\n",
      "ahdt_c -4 C9H12N5O13P3\n",
      "pppi_c -4 HO10P3\n",
      "cpmp_c -1 C10H13N5O8P\n",
      "cdg_c -1 C7H5N4O3\n",
      "preq0_c 0 C7H5N5O\n",
      "preq1_c 1 C7H10N5O\n",
      "pppg9_c -2 C34H38N4O4\n",
      "cpppg3_c -4 C36H40N4O8\n",
      "pheme_c -2 C34H30FeN4O4\n",
      "frdp_c -3 C15H25O7P2\n",
      "hemeO_c -2 C49H56FeN4O5\n",
      "fe2_c 2 Fe\n",
      "ppp9_c -2 C34H32N4O4\n",
      "uppg3_c -8 C40H36N4O16\n",
      "hmbil_c -8 C40H38N4O17\n",
      "dscl_c -7 C42H41N4O16\n",
      "ppbng_c -1 C10H13N2O4\n",
      "5aop_c 0 C5H9NO3\n",
      "glu1sa_c 0 C5H9NO3\n",
      "glutrna_c 0 \n",
      "glutrna_c 0 C5H7NO3R \n",
      "\n",
      "trnaglu_c 0 \n",
      "trnaglu_c 0 R \n",
      "\n",
      "sheme_c -8 C42H36FeN4O16\n",
      "scl_c -7 C42H39N4O16\n",
      "cobalt2_c 2 Co\n",
      "cbi_c 0 C48H72CoN11O8\n",
      "adocbi_c 1 C58H84CoN16O11\n",
      "adocbip_c -1 C58H83CoN16O14P\n",
      "agdpcbi_c -1 C68H95CoN21O21P2\n",
      "adocbl_c 0 C72H100CoN18O17P\n",
      "rdmbzi_c 0 C14H18N2O4\n",
      "5prdmbz_c -2 C14H17N2O7P\n",
      "appl_c 1 C3H10NO\n",
      "2me4p_c -2 C5H11O7P\n",
      "4c2me_c -2 C14H23N3O14P2\n",
      "2p4c2me_c -4 C14H22N3O17P3\n",
      "2mecdp_c -2 C5H10O9P2\n",
      "h2mb4p_c -3 C5H9O8P2\n",
      "dmpp_c -3 C5H9O7P2\n",
      "ipdp_c -3 C5H9O7P2\n",
      "grdp_c -3 C10H17O7P2\n",
      "no3_c -1 NO3\n",
      "n2o_c 0 N2O\n",
      "no_c 0 NO\n",
      "flxr_c 0 XH\n",
      "flxso_c 0 XH\n",
      "iletrna_c 0 \n",
      "iletrna_c 0 C6H12NOR \n",
      "\n",
      "trnaile_c 0 \n",
      "trnaile_c 0 R \n",
      "\n",
      "histrna_c 0 \n",
      "histrna_c 0 C6H8N3OR \n",
      "\n",
      "trnahis_c 0 \n",
      "trnahis_c 0 R \n",
      "\n",
      "phetrna_c 0 \n",
      "phetrna_c 0 C9H10NOR \n",
      "\n",
      "trnaphe_c 0 \n",
      "trnaphe_c 0 R \n",
      "\n",
      "argtrna_c 0 \n",
      "argtrna_c 0 C6H14N4OR \n",
      "\n",
      "trnaarg_c 0 \n",
      "trnaarg_c 0 R \n",
      "\n",
      "trnacys_c 0 \n",
      "trnacys_c 0 R \n",
      "\n",
      "cystrna_c 0 \n",
      "cystrna_c 0 C3H6NOSR \n",
      "\n",
      "glytrna_c 0 \n",
      "glytrna_c 0 C2H4NOR \n",
      "\n",
      "trnagly_c 0 \n",
      "trnagly_c 0 R \n",
      "\n",
      "trnaasp_c 0 \n",
      "trnaasp_c 0 R \n",
      "\n",
      "asptrna_c 0 \n",
      "asptrna_c 0 C4H5NO3R \n",
      "\n",
      "sertrna_c 0 \n",
      "sertrna_c 0 C3H6NO2R \n",
      "\n",
      "trnaser_c 0 \n",
      "trnaser_c 0 R \n",
      "\n",
      "valtrna_c 0 \n",
      "valtrna_c 0 C5H10NOR \n",
      "\n",
      "trnaval_c 0 \n",
      "trnaval_c 0 R \n",
      "\n",
      "alatrna_c 0 \n",
      "alatrna_c 0 C3H6NOR \n",
      "\n",
      "trnaala_c 0 \n",
      "trnaala_c 0 R \n",
      "\n",
      "lystrna_c 0 \n",
      "lystrna_c 0 C6H14N2OR \n",
      "\n",
      "leutrna_c 0 \n",
      "leutrna_c 0 C6H12NOR \n",
      "\n",
      "trnaleu_c 0 \n",
      "trnaleu_c 0 R \n",
      "\n",
      "thrtrna_c 0 \n",
      "thrtrna_c 0 C4H8NO2R \n",
      "\n",
      "trnathr_c 0 \n",
      "trnathr_c 0 R \n",
      "\n",
      "trptrna_c 0 \n",
      "trptrna_c 0 C11H11N2OR \n",
      "\n",
      "trnatrp_c 0 \n",
      "trnatrp_c 0 R \n",
      "\n",
      "tyrtrna_c 0 RC9H10NO2\n",
      "tyrtrna_c 0 C9H10NO2R \n",
      "\n",
      "trnatyr_c 0 RH\n",
      "trnatyr_c 0 R \n",
      "\n",
      "protrna_c 0 RC5H8NO\n",
      "protrna_c 0 C5H8NOR \n",
      "\n",
      "trnapro_c 0 RH\n",
      "trnapro_c 0 R \n",
      "\n",
      "glntrna_c 0 \n",
      "glntrna_c 0 C5H9N2O2R \n",
      "\n",
      "asntrna_c 0 \n",
      "asntrna_c 0 C14H24N2O12PR2 \n",
      "\n",
      "odecoa_c -4 C39H64N7O17P3S\n",
      "ocdcea_c -1 C18H33O2\n",
      "stcoa_c -4 C39H66N7O17P3S\n",
      "ocdca_c -1 C18H35O2\n",
      "3hodcoa_c -4 C39H66N7O18P3S\n",
      "octeACP_c 0 C18H33OSR\n",
      "octeACP_c 0 C29H53N2O8PRS \n",
      "\n",
      "glyb_c 0 C5H11NO2\n",
      "trnalys_c 0 \n",
      "trnalys_c 0 R \n",
      "\n",
      "na1_c 1 Na\n",
      "k_c 1 K\n",
      "mg2_c 2 Mg\n",
      "ca2_c 2 Ca\n",
      "glycogen_c 0 C24H42O21\n",
      "glycogen_c 0 C6H10O5 \n",
      "\n",
      "h2o_p 0 H2O\n",
      "o2_p 0 O2\n",
      "meoh_p 0 CH4O\n",
      "meoh_p 0 CH4O1 \n",
      "\n",
      "fald_p 0 CH2O\n",
      "h_p 1 H\n",
      "na1_p 1 Na\n",
      "gagicolipa_c None C157H271N2O84P4\n",
      "gicolipa_c None C151H261N2O79P4\n",
      "icolipa_c None C145H251N2O74P4\n",
      "ggagicolipa_c None C163H281N2O89P4\n",
      "gggagicolipa_c None C169H291N2O94P4\n",
      "phhlipa_c None C124H219N2O54P3\n",
      "hhlipa_c None C124H220N2O51P2\n",
      "hphhlipa_c None C131H231N2O60P3\n",
      "phphhlipa_c None C131H230N2O63P4\n",
      "hlipa_c None C117H208N2O45P2\n",
      "lipa_c None C110H196N2O39P2\n",
      "colipa_c None C176H303N2O100P4\n",
      "udcpp_p None C55H89O4P\n",
      "colipa_p None C176H303N2O100P4\n",
      "uLa4n_p None C60H100N1O7P1\n",
      "acolipa_p None C181H314N3O103P4\n",
      "kphphhlipa_c None C139H241N2O70P4\n",
      "ragund_c None C69H113N1O16P2\n",
      "aragund_c None C71H115N1O17P2\n",
      "udpgalfur_c None C15H22N2O17P2\n",
      "gfgaragund_c None C83H135N1O27P2\n",
      "garagund_c None C77H125N1O22P2\n",
      "o16aund_c None C89H145N1O32P2\n",
      "kdo2lipid4L_c None C96H170N2O38P2\n",
      "acolipa_e None C181H314N3O103P4\n",
      "lipa_cold_e None C114H202N2O39P2\n",
      "lipa_cold_p None C114H202N2O39P2\n",
      "eca4colipa_e None C272H447N14O160P4\n",
      "eca4colipa_p None C272H447N14O160P4\n",
      "enlipa_p None C112H202N3O42P3\n",
      "enlipa_e None C112H202N3O42P3\n",
      "o16a4colipa_e None C312H523N6O200P4\n",
      "o16a4colipa_p None C312H523N6O200P4\n"
     ]
    }
   ],
   "source": [
    "for x in model.metabolites:\n",
    "    if x.id in model2.metabolites:\n",
    "        print x,x.charge,x.formula\n",
    "        if x.formula != model2.metabolites.get_by_id(x.id).formula:\n",
    "            x.formula = str(model2.metabolites.get_by_id(x.id).formula)\n",
    "            print x,x.charge,x.formula,'\\n'\n",
    "        #x.charge = model2.metabolites.get_by_id(x.id).charge"
   ]
  },
  {
   "cell_type": "code",
   "execution_count": 37,
   "metadata": {
    "collapsed": false,
    "scrolled": true
   },
   "outputs": [
    {
     "name": "stdout",
     "output_type": "stream",
     "text": [
      "There are 243 unbalanced reactions and 6 metabolites with a faulty syntax\n",
      "GALU_c {'C': 0, 'H': 1.0, 'charge': 0, 'O': 0, 'N': 0, 'P': 0, 'S': 0, 'R': 0}\n",
      "MNXR74047_c {'C': 0, 'H': -1.0, 'charge': 0, 'O': 0, 'N': 0, 'P': 0, 'S': 0, 'R': 0}\n",
      "3OAS180_c {'C': 0, 'H': 1.0, 'charge': 0, 'O': 0, 'N': 0, 'P': 0, 'S': 0, 'R': 0}\n",
      "KAS14_c {'C': 0, 'H': 1.0, 'charge': 0, 'O': 0, 'N': 0, 'P': 0, 'S': 0, 'R': 0}\n",
      "3OAS160_c {'C': 0, 'H': 1.0, 'charge': 0, 'O': 0, 'N': 0, 'P': 0, 'S': 0, 'R': 0}\n",
      "3OAS140_c {'C': 0, 'H': 1.0, 'charge': 0, 'O': 0, 'N': 0, 'P': 0, 'S': 0, 'R': 0}\n",
      "3OAS120_c {'C': 0, 'H': 1.0, 'charge': 0, 'O': 0, 'N': 0, 'P': 0, 'S': 0, 'R': 0}\n",
      "3OAS100_c {'C': 0, 'H': 1.0, 'charge': 0, 'O': 0, 'N': 0, 'P': 0, 'S': 0, 'R': 0}\n",
      "3OAS80_c {'C': 0, 'H': 1.0, 'charge': 0, 'O': 0, 'N': 0, 'P': 0, 'S': 0, 'R': 0}\n",
      "3OAS60_c {'C': 0, 'H': 1.0, 'charge': 0, 'O': 0, 'N': 0, 'P': 0, 'S': 0, 'R': 0}\n",
      "3HAD40_1_c {'C': 11.0, 'H': 20.0, 'charge': 0, 'O': 7.0, 'N': 2.0, 'P': 1.0, 'S': 0, 'R': 0}\n",
      "3OAR40_1_c {'C': -11.0, 'H': -20.0, 'charge': 0, 'O': -7.0, 'N': -2.0, 'P': -1.0, 'S': 0, 'R': 0}\n",
      "MCOATA_c {'C': 0, 'H': 0, 'charge': 1.0, 'O': 0, 'N': 0, 'P': 0, 'S': 0, 'R': 0}\n",
      "RNDR2_c {'C': 0, 'H': 0, 'charge': -1.0, 'O': 0, 'N': 0, 'P': 0, 'S': 0, 'R': 0}\n",
      "PRAIS_c {'C': 0, 'H': -2.0, 'charge': 0, 'O': 0, 'N': 0, 'P': 0, 'S': 0, 'R': 0}\n",
      "ADSS_c {'C': 0, 'H': -1.0, 'charge': 0, 'O': 0, 'N': 0, 'P': 0, 'S': 0, 'R': 0}\n",
      "GK1_c {'C': 0, 'H': -1.0, 'charge': 0, 'O': 0, 'N': 0, 'P': 0, 'S': 0, 'R': 0}\n",
      "PRFGS_c {'C': 0, 'H': 0, 'charge': -1.0, 'O': 0, 'N': 0, 'P': 0, 'S': 0, 'R': 0}\n",
      "AIRC2_c {'C': 0, 'H': 1.0, 'charge': 0, 'O': 0, 'N': 0, 'P': 0, 'S': 0, 'R': 0}\n",
      "NDPK4_c {'C': 0, 'H': -1.0, 'charge': 0, 'O': 0, 'N': 0, 'P': 0, 'S': 0, 'R': 0}\n",
      "PSSA_MC_c {'C': -1.0, 'H': -1.0, 'charge': 0, 'O': 7.0, 'N': 0, 'P': 0, 'S': 0, 'R': 0}\n",
      "SHSL2r_c {'C': 0, 'H': -1.0, 'charge': 0, 'O': 0, 'N': 0, 'P': 0, 'S': 0, 'R': 0}\n",
      "METS_c {'C': 0, 'H': -1.0, 'charge': 0, 'O': 0, 'N': 0, 'P': 0, 'S': 0, 'R': 0}\n",
      "CYSS_c {'C': 0, 'H': -1.0, 'charge': 0, 'O': 0, 'N': 0, 'P': 0, 'S': 0, 'R': 0}\n",
      "DHDPRy_c {'C': 0, 'H': -2.0, 'charge': 0, 'O': -1.0, 'N': 0, 'P': 0, 'S': 0, 'R': 0}\n",
      "UAGDP_c {'C': 0, 'H': 1.0, 'charge': 0, 'O': 0, 'N': 0, 'P': 0, 'S': 0, 'R': 0}\n",
      "G1PTT_c {'C': 0, 'H': 1.0, 'charge': 0, 'O': 0, 'N': 0, 'P': 0, 'S': 0, 'R': 0}\n",
      "KDOCT_c {'C': 0, 'H': 1.0, 'charge': 0, 'O': 0, 'N': 0, 'P': 0, 'S': 0, 'R': 0}\n",
      "U23GAAT_c {'C': 0, 'H': -1.0, 'charge': -1.0, 'O': 0, 'N': 0, 'P': 0, 'S': 0, 'R': 0}\n",
      "UDCPDP_c {'C': 0, 'H': 0, 'charge': 2.0, 'O': 0, 'N': 0, 'P': 0, 'S': 0, 'R': 0}\n",
      "PAPPT3_c {'C': 0, 'H': 0, 'charge': -2.0, 'O': 0, 'N': 0, 'P': 0, 'S': 0, 'R': 0}\n",
      "APG3PAT_MC_c {'C': -1.0, 'H': -1.0, 'charge': 0, 'O': -3.0, 'N': 0, 'P': 0, 'S': 0, 'R': 0}\n",
      "G3PAT_MC_c {'C': 1.0, 'H': -1.0, 'charge': 1.0, 'O': 1.0, 'N': 0, 'P': 0, 'S': 0, 'R': 0}\n",
      "PHCYT_MC_c {'C': 1.0, 'H': 1.0, 'charge': -2.0, 'O': -7.0, 'N': 0, 'P': 0, 'S': 0, 'R': 0}\n",
      "PSD_MC_c {'C': 0, 'H': -1.0, 'charge': -1.0, 'O': 0, 'N': 0, 'P': 0, 'S': 0, 'R': 0}\n",
      "PMETM2_MC_c {'C': 2.0, 'H': 7.0, 'charge': 2.0, 'O': 0, 'N': 0, 'P': 0, 'S': 0, 'R': 0}\n",
      "PMETM_MC_c {'C': 2.0, 'H': 7.0, 'charge': 2.0, 'O': 0, 'N': 0, 'P': 0, 'S': 0, 'R': 0}\n",
      "PGSA_MC_c {'C': -17.0, 'H': -33.0, 'charge': 0, 'O': 7.0, 'N': 0, 'P': 0, 'S': 0, 'R': 0}\n",
      "PMPS_c {'C': 0, 'H': 2.0, 'charge': 1.0, 'O': 0, 'N': 0, 'P': 0, 'S': 0, 'R': 0}\n",
      "FMNAT_c {'C': 0, 'H': 0, 'charge': 2.0, 'O': 0, 'N': 0, 'P': 0, 'S': 0, 'R': 0}\n",
      "RBFK_c {'C': 0, 'H': 0, 'charge': 2.0, 'O': 0, 'N': 0, 'P': 0, 'S': 0, 'R': 0}\n",
      "MNXR18583_c {'C': -4.0, 'H': -2.0, 'charge': 0, 'O': -3.0, 'N': -2.0, 'P': 0, 'S': 0, 'R': 0}\n",
      "PPNCL2_c {'C': 0, 'H': 0, 'charge': -1.0, 'O': 0, 'N': 0, 'P': 0, 'S': 0, 'R': 0}\n",
      "MEPCT_c {'C': 0, 'H': 1.0, 'charge': 0, 'O': 0, 'N': 0, 'P': 0, 'S': 0, 'R': 0}\n",
      "PAPR_c {'C': 0, 'H': -1.0, 'charge': 0, 'O': 0, 'N': 0, 'P': 0, 'S': 0, 'R': 0}\n",
      "SULR_c {'C': 0, 'H': 2.0, 'charge': 0, 'O': 0, 'N': 0, 'P': 0, 'S': 0, 'R': 0}\n",
      "DES_9_c {'C': 0, 'H': 0, 'charge': -2.0, 'O': 0, 'N': 0, 'P': 0, 'S': 0, 'R': 0}\n",
      "OCT_GAPFILLING_c {'C': 0, 'H': -1.0, 'charge': -1.0, 'O': 0, 'N': 0, 'P': 0, 'S': 0, 'R': 0}\n",
      "DES_9_2_c {'C': 0, 'H': 0, 'charge': 2.0, 'O': 0, 'N': 0, 'P': 0, 'S': 0, 'R': 0}\n",
      "FACOAE141_c {'C': 0, 'H': 0, 'charge': -4.0, 'O': 0, 'N': 0, 'P': 0, 'S': 0, 'R': 0}\n",
      "FA180ACPHi_c {'C': 0, 'H': 0, 'charge': 1.0, 'O': 0, 'N': 0, 'P': 0, 'S': 0, 'R': 0}\n",
      "FA160ACPHi_c {'C': 0, 'H': 0, 'charge': 1.0, 'O': 0, 'N': 0, 'P': 0, 'S': 0, 'R': 0}\n",
      "3OAR150_GAPFILLING_c {'C': 70.0, 'H': 117.0, 'charge': 0, 'O': 50.0, 'N': 10.0, 'P': 5.0, 'S': 5.0, 'R': 5.0}\n",
      "3OAR170_GAPFILLING_c {'C': 0, 'H': 1.0, 'charge': 0, 'O': 0, 'N': 0, 'P': 0, 'S': 0, 'R': 0}\n",
      "FA150ACPHi_c {'C': 11.0, 'H': 19.0, 'charge': 0, 'O': 7.0, 'N': 2.0, 'P': 1.0, 'S': 0, 'R': 0}\n",
      "FA170ACPHi_c {'C': 11.0, 'H': 19.0, 'charge': 0, 'O': 7.0, 'N': 2.0, 'P': 1.0, 'S': 0, 'R': 0}\n",
      "POR_syn_c {'C': 0, 'H': -2.0, 'charge': 0, 'O': 0, 'N': 0, 'P': 0, 'S': 0, 'R': 0}\n",
      "CFACPOA2H_Lumped_c {'C': 0, 'H': -2.0, 'charge': -1.0, 'O': 1.0, 'N': 0, 'P': 0, 'S': 0, 'R': 0}\n",
      "FACOAEcyc170_c {'C': -42.0, 'H': -64.0, 'charge': 9.0, 'O': -33.0, 'N': -14.0, 'P': -6.0, 'S': -2.0, 'R': 0}\n",
      "MECDPDH5_c {'C': 0, 'H': 0, 'charge': -2.0, 'O': 0, 'N': 0, 'P': 0, 'S': 0, 'R': 0}\n",
      "PFOR_c {'C': 0, 'H': -2.0, 'charge': 0, 'O': 0, 'N': 0, 'P': 0, 'S': 0, 'R': 0}\n",
      "PCOATA_c {'C': -11.0, 'H': -20.0, 'charge': 0, 'O': -7.0, 'N': -2.0, 'P': -1.0, 'S': 0, 'R': 0}\n",
      "DM_4hba_c {'C': -7.0, 'H': -8.0, 'charge': 0, 'O': -2.0, 'N': 0, 'P': 0, 'S': 0, 'R': 0}\n",
      "MC_Average_FattyAcid_c {'C': -0.040999999999999426, 'H': 0.03699999999999959, 'charge': -0.09299999999999997, 'O': 0.0020000000000002308, 'N': 0, 'P': 0, 'S': 0, 'R': 0}\n",
      "MC_AFAA_c {'C': 0, 'H': 1.0, 'charge': 0, 'O': 1.0, 'N': 0, 'P': 0, 'S': 0, 'R': 0}\n",
      "PPTGS_MC_c {'C': -40.0, 'H': -62.0, 'charge': 2.0, 'O': -21.0, 'N': -8.0, 'P': 0, 'S': 0, 'R': 0}\n",
      "HEPK1_GAPFILLING_c {'C': 0, 'H': 0, 'charge': 2.0, 'O': 0, 'N': 0, 'P': 0, 'S': 0, 'R': 0}\n",
      "HEPK2_GAPFILLING_c {'C': 0, 'H': 0, 'charge': 2.0, 'O': 0, 'N': 0, 'P': 0, 'S': 0, 'R': 0}\n",
      "MOAT3C_GAPFILLING_c {'C': 0, 'H': 0, 'charge': 1.0, 'O': 0, 'N': 0, 'P': 0, 'S': 0, 'R': 0}\n",
      "EDTXS1_GAPFILLING_c {'C': 0, 'H': 0, 'charge': 6.0, 'O': 0, 'N': 0, 'P': 0, 'S': 0, 'R': 0}\n",
      "COLIPAabctex_GAPFILLING_c {'C': -176.0, 'H': -303.0, 'charge': 0, 'O': -100.0, 'N': -2.0, 'P': -4.0, 'S': 0, 'R': 0}\n"
     ]
    }
   ],
   "source": [
    "essential_reactions = model.essential_reactions()\n",
    "unbalanced_list = find_unbalanced_reactions(model)\n",
    "check_and_fix = [x.id for x in essential_reactions if x.id in unbalanced_list[0]]\n",
    "for x in check_and_fix:\n",
    "    print x,unbalanced_list[0][x]"
   ]
  },
  {
   "cell_type": "code",
   "execution_count": 38,
   "metadata": {
    "collapsed": false
   },
   "outputs": [],
   "source": [
    "#{str(k.id):v for (k,v) in model2.reactions.PRAIS.metabolites.iteritems()}"
   ]
  },
  {
   "cell_type": "code",
   "execution_count": 39,
   "metadata": {
    "collapsed": false
   },
   "outputs": [],
   "source": [
    "for x in check_and_fix:\n",
    "    if x[:-2] in model2.reactions: \n",
    "        id_dict = {str(k.id):v for (k,v) in model2.reactions.get_by_id(x[:-2]).metabolites.iteritems()}\n",
    "        try:\n",
    "            translated_dict = {model.metabolites.get_by_id(k):v for (k,v) in id_dict.iteritems()}\n",
    "        except:\n",
    "            translated_dict = model.reactions.get_by_id(x).metabolites\n",
    "        model.reactions.get_by_id(x).add_metabolites(translated_dict, combine=False)"
   ]
  },
  {
   "cell_type": "markdown",
   "metadata": {},
   "source": [
    "## Close the balances!"
   ]
  },
  {
   "cell_type": "code",
   "execution_count": 40,
   "metadata": {
    "collapsed": false
   },
   "outputs": [],
   "source": [
    "# def formula_sum(dict_list,classified):\n",
    "#     sum_dict = {}\n",
    "#     formula = str()\n",
    "    \n",
    "#     for d in dict_list:\n",
    "#         for key,value in d.iteritems():\n",
    "#             if key not in sum_dict.keys():\n",
    "#                 sum_dict[key]=abs(value)\n",
    "#             elif key not in classified:\n",
    "#                 sum_dict[key]+=abs(value)\n",
    "    \n",
    "#     for e in 'CHONPRS':\n",
    "#         if e in sum_dict.keys():\n",
    "#             formula += e+str(sum_dict[e])\n",
    "    \n",
    "#     return sum_dict,formula"
   ]
  },
  {
   "cell_type": "code",
   "execution_count": 41,
   "metadata": {
    "collapsed": false
   },
   "outputs": [],
   "source": [
    "def superprint(rxn_id):\n",
    "    rxn = model.reactions.get_by_id(rxn_id)\n",
    "    print rxn.reaction,'\\n'\n",
    "    for x in rxn.reactants:\n",
    "        print x.id,x.formula,x.charge\n",
    "    print '<=>'\n",
    "    for x in rxn.products:\n",
    "        print x.id,x.formula,x.charge"
   ]
  },
  {
   "cell_type": "code",
   "execution_count": 42,
   "metadata": {
    "collapsed": false,
    "scrolled": true
   },
   "outputs": [
    {
     "name": "stdout",
     "output_type": "stream",
     "text": [
      "There are 242 unbalanced reactions and 6 metabolites with a faulty syntax\n",
      "GALU_c {'C': 0, 'H': 1.0, 'charge': 0, 'O': 0, 'N': 0, 'P': 0, 'S': 0, 'R': 0}\n",
      "MNXR74047_c {'C': 0, 'H': -1.0, 'charge': 0, 'O': 0, 'N': 0, 'P': 0, 'S': 0, 'R': 0}\n",
      "3OAS180_c {'C': 0, 'H': 0, 'charge': -1.0, 'O': 0, 'N': 0, 'P': 0, 'S': 0, 'R': 0}\n",
      "KAS14_c {'C': 0, 'H': 0, 'charge': -1.0, 'O': 0, 'N': 0, 'P': 0, 'S': 0, 'R': 0}\n",
      "3OAS160_c {'C': 0, 'H': 0, 'charge': -1.0, 'O': 0, 'N': 0, 'P': 0, 'S': 0, 'R': 0}\n",
      "3OAS140_c {'C': 0, 'H': 0, 'charge': -1.0, 'O': 0, 'N': 0, 'P': 0, 'S': 0, 'R': 0}\n",
      "3OAS120_c {'C': 0, 'H': 0, 'charge': -1.0, 'O': 0, 'N': 0, 'P': 0, 'S': 0, 'R': 0}\n",
      "3OAS100_c {'C': 0, 'H': 0, 'charge': -1.0, 'O': 0, 'N': 0, 'P': 0, 'S': 0, 'R': 0}\n",
      "3OAS80_c {'C': 0, 'H': 0, 'charge': -1.0, 'O': 0, 'N': 0, 'P': 0, 'S': 0, 'R': 0}\n",
      "3OAS60_c {'C': 0, 'H': 0, 'charge': -1.0, 'O': 0, 'N': 0, 'P': 0, 'S': 0, 'R': 0}\n",
      "3HAD40_1_c {'C': 11.0, 'H': 20.0, 'charge': 0, 'O': 7.0, 'N': 2.0, 'P': 1.0, 'S': 0, 'R': 0}\n",
      "3OAR40_1_c {'C': -11.0, 'H': -20.0, 'charge': 0, 'O': -7.0, 'N': -2.0, 'P': -1.0, 'S': 0, 'R': 0}\n",
      "MCOATA_c {'C': 0, 'H': 0, 'charge': 1.0, 'O': 0, 'N': 0, 'P': 0, 'S': 0, 'R': 0}\n",
      "RNDR2_c {'C': 0, 'H': 0, 'charge': -1.0, 'O': 0, 'N': 0, 'P': 0, 'S': 0, 'R': 0}\n",
      "PRAIS_c {'C': 0, 'H': 0, 'charge': 2.0, 'O': 0, 'N': 0, 'P': 0, 'S': 0, 'R': 0}\n",
      "ADSS_c {'C': 0, 'H': 0, 'charge': 1.0, 'O': 0, 'N': 0, 'P': 0, 'S': 0, 'R': 0}\n",
      "GK1_c {'C': 0, 'H': -1.0, 'charge': 0, 'O': 0, 'N': 0, 'P': 0, 'S': 0, 'R': 0}\n",
      "PRFGS_c {'C': 0, 'H': 0, 'charge': -1.0, 'O': 0, 'N': 0, 'P': 0, 'S': 0, 'R': 0}\n",
      "AIRC2_c {'C': 0, 'H': 0, 'charge': -1.0, 'O': 0, 'N': 0, 'P': 0, 'S': 0, 'R': 0}\n",
      "NDPK4_c {'C': 0, 'H': -1.0, 'charge': 0, 'O': 0, 'N': 0, 'P': 0, 'S': 0, 'R': 0}\n",
      "PSSA_MC_c {'C': -1.0, 'H': -1.0, 'charge': 0, 'O': 7.0, 'N': 0, 'P': 0, 'S': 0, 'R': 0}\n",
      "SHSL2r_c {'C': 0, 'H': -1.0, 'charge': 0, 'O': 0, 'N': 0, 'P': 0, 'S': 0, 'R': 0}\n",
      "METS_c {'C': 0, 'H': 0, 'charge': 1.0, 'O': 0, 'N': 0, 'P': 0, 'S': 0, 'R': 0}\n",
      "CYSS_c {'C': 0, 'H': 0, 'charge': 1.0, 'O': 0, 'N': 0, 'P': 0, 'S': 0, 'R': 0}\n",
      "DHDPRy_c {'C': 0, 'H': -2.0, 'charge': 0, 'O': -1.0, 'N': 0, 'P': 0, 'S': 0, 'R': 0}\n",
      "UAGDP_c {'C': 0, 'H': 0, 'charge': -1.0, 'O': 0, 'N': 0, 'P': 0, 'S': 0, 'R': 0}\n",
      "G1PTT_c {'C': 0, 'H': 0, 'charge': -1.0, 'O': 0, 'N': 0, 'P': 0, 'S': 0, 'R': 0}\n",
      "KDOCT_c {'C': 0, 'H': 1.0, 'charge': 0, 'O': 0, 'N': 0, 'P': 0, 'S': 0, 'R': 0}\n",
      "UDCPDP_c {'C': 0, 'H': 0, 'charge': 2.0, 'O': 0, 'N': 0, 'P': 0, 'S': 0, 'R': 0}\n",
      "PAPPT3_c {'C': 0, 'H': 0, 'charge': -2.0, 'O': 0, 'N': 0, 'P': 0, 'S': 0, 'R': 0}\n",
      "APG3PAT_MC_c {'C': -1.0, 'H': -1.0, 'charge': 0, 'O': -3.0, 'N': 0, 'P': 0, 'S': 0, 'R': 0}\n",
      "G3PAT_MC_c {'C': 1.0, 'H': -1.0, 'charge': 1.0, 'O': 1.0, 'N': 0, 'P': 0, 'S': 0, 'R': 0}\n",
      "PHCYT_MC_c {'C': 1.0, 'H': 1.0, 'charge': -2.0, 'O': -7.0, 'N': 0, 'P': 0, 'S': 0, 'R': 0}\n",
      "PSD_MC_c {'C': 0, 'H': -1.0, 'charge': -1.0, 'O': 0, 'N': 0, 'P': 0, 'S': 0, 'R': 0}\n",
      "PMETM2_MC_c {'C': 2.0, 'H': 7.0, 'charge': 2.0, 'O': 0, 'N': 0, 'P': 0, 'S': 0, 'R': 0}\n",
      "PMETM_MC_c {'C': 2.0, 'H': 7.0, 'charge': 2.0, 'O': 0, 'N': 0, 'P': 0, 'S': 0, 'R': 0}\n",
      "PGSA_MC_c {'C': -17.0, 'H': -33.0, 'charge': 0, 'O': 7.0, 'N': 0, 'P': 0, 'S': 0, 'R': 0}\n",
      "PMPS_c {'C': 0, 'H': 2.0, 'charge': 1.0, 'O': 0, 'N': 0, 'P': 0, 'S': 0, 'R': 0}\n",
      "FMNAT_c {'C': 0, 'H': 0, 'charge': -2.0, 'O': 0, 'N': 0, 'P': 0, 'S': 0, 'R': 0}\n",
      "RBFK_c {'C': 0, 'H': 0, 'charge': 2.0, 'O': 0, 'N': 0, 'P': 0, 'S': 0, 'R': 0}\n",
      "MNXR18583_c {'C': -4.0, 'H': -2.0, 'charge': 0, 'O': -3.0, 'N': -2.0, 'P': 0, 'S': 0, 'R': 0}\n",
      "PPNCL2_c {'C': 0, 'H': 0, 'charge': -1.0, 'O': 0, 'N': 0, 'P': 0, 'S': 0, 'R': 0}\n",
      "MEPCT_c {'C': 0, 'H': 0, 'charge': -1.0, 'O': 0, 'N': 0, 'P': 0, 'S': 0, 'R': 0}\n",
      "PAPR_c {'C': 0, 'H': -1.0, 'charge': 0, 'O': 0, 'N': 0, 'P': 0, 'S': 0, 'R': 0}\n",
      "SULR_c {'C': 0, 'H': 2.0, 'charge': 0, 'O': 0, 'N': 0, 'P': 0, 'S': 0, 'R': 0}\n",
      "DES_9_c {'C': 0, 'H': 0, 'charge': -2.0, 'O': 0, 'N': 0, 'P': 0, 'S': 0, 'R': 0}\n",
      "OCT_GAPFILLING_c {'C': 0, 'H': -1.0, 'charge': -1.0, 'O': 0, 'N': 0, 'P': 0, 'S': 0, 'R': 0}\n",
      "DES_9_2_c {'C': 0, 'H': 0, 'charge': 2.0, 'O': 0, 'N': 0, 'P': 0, 'S': 0, 'R': 0}\n",
      "FACOAE141_c {'C': 0, 'H': 0, 'charge': -4.0, 'O': 0, 'N': 0, 'P': 0, 'S': 0, 'R': 0}\n",
      "FA180ACPHi_c {'C': 0, 'H': 0, 'charge': 1.0, 'O': 0, 'N': 0, 'P': 0, 'S': 0, 'R': 0}\n",
      "FA160ACPHi_c {'C': 0, 'H': 0, 'charge': 1.0, 'O': 0, 'N': 0, 'P': 0, 'S': 0, 'R': 0}\n",
      "3OAR150_GAPFILLING_c {'C': 70.0, 'H': 117.0, 'charge': 0, 'O': 50.0, 'N': 10.0, 'P': 5.0, 'S': 5.0, 'R': 5.0}\n",
      "3OAR170_GAPFILLING_c {'C': 0, 'H': 1.0, 'charge': 0, 'O': 0, 'N': 0, 'P': 0, 'S': 0, 'R': 0}\n",
      "FA150ACPHi_c {'C': 11.0, 'H': 19.0, 'charge': 0, 'O': 7.0, 'N': 2.0, 'P': 1.0, 'S': 0, 'R': 0}\n",
      "FA170ACPHi_c {'C': 11.0, 'H': 19.0, 'charge': 0, 'O': 7.0, 'N': 2.0, 'P': 1.0, 'S': 0, 'R': 0}\n",
      "POR_syn_c {'C': 0, 'H': -2.0, 'charge': 0, 'O': 0, 'N': 0, 'P': 0, 'S': 0, 'R': 0}\n",
      "CFACPOA2H_Lumped_c {'C': 0, 'H': -2.0, 'charge': -1.0, 'O': 1.0, 'N': 0, 'P': 0, 'S': 0, 'R': 0}\n",
      "FACOAEcyc170_c {'C': -42.0, 'H': -64.0, 'charge': 9.0, 'O': -33.0, 'N': -14.0, 'P': -6.0, 'S': -2.0, 'R': 0}\n",
      "MECDPDH5_c {'C': 0, 'H': 0, 'charge': -2.0, 'O': 0, 'N': 0, 'P': 0, 'S': 0, 'R': 0}\n",
      "PFOR_c {'C': 0, 'H': -2.0, 'charge': 0, 'O': 0, 'N': 0, 'P': 0, 'S': 0, 'R': 0}\n",
      "PCOATA_c {'C': -11.0, 'H': -20.0, 'charge': 0, 'O': -7.0, 'N': -2.0, 'P': -1.0, 'S': 0, 'R': 0}\n",
      "DM_4hba_c {'C': -7.0, 'H': -8.0, 'charge': 0, 'O': -2.0, 'N': 0, 'P': 0, 'S': 0, 'R': 0}\n",
      "MC_Average_FattyAcid_c {'C': -0.040999999999999426, 'H': 0.03699999999999959, 'charge': -0.09299999999999997, 'O': 0.0020000000000002308, 'N': 0, 'P': 0, 'S': 0, 'R': 0}\n",
      "MC_AFAA_c {'C': 0, 'H': 1.0, 'charge': 0, 'O': 1.0, 'N': 0, 'P': 0, 'S': 0, 'R': 0}\n",
      "PPTGS_MC_c {'C': -40.0, 'H': -62.0, 'charge': 2.0, 'O': -21.0, 'N': -8.0, 'P': 0, 'S': 0, 'R': 0}\n",
      "HEPK1_GAPFILLING_c {'C': 0, 'H': 0, 'charge': 2.0, 'O': 0, 'N': 0, 'P': 0, 'S': 0, 'R': 0}\n",
      "HEPK2_GAPFILLING_c {'C': 0, 'H': 0, 'charge': 2.0, 'O': 0, 'N': 0, 'P': 0, 'S': 0, 'R': 0}\n",
      "MOAT3C_GAPFILLING_c {'C': 0, 'H': 0, 'charge': 1.0, 'O': 0, 'N': 0, 'P': 0, 'S': 0, 'R': 0}\n",
      "EDTXS1_GAPFILLING_c {'C': 0, 'H': 0, 'charge': 6.0, 'O': 0, 'N': 0, 'P': 0, 'S': 0, 'R': 0}\n",
      "COLIPAabctex_GAPFILLING_c {'C': -176.0, 'H': -303.0, 'charge': 0, 'O': -100.0, 'N': -2.0, 'P': -4.0, 'S': 0, 'R': 0}\n"
     ]
    }
   ],
   "source": [
    "essential_reactions = model.essential_reactions()\n",
    "unbalanced_list = find_unbalanced_reactions(model)\n",
    "check_and_fix = [x.id for x in essential_reactions if x.id in unbalanced_list[0]]\n",
    "for x in check_and_fix:\n",
    "        print x,unbalanced_list[0][x]"
   ]
  },
  {
   "cell_type": "code",
   "execution_count": 43,
   "metadata": {
    "collapsed": false
   },
   "outputs": [],
   "source": [
    "model.metabolites.get_by_id('3hbutACP_c').formula = 'C15H27O9N2PRS'"
   ]
  },
  {
   "cell_type": "code",
   "execution_count": 44,
   "metadata": {
    "collapsed": true
   },
   "outputs": [],
   "source": [
    "model.metabolites.get_by_id('colipa_e_None').formula = 'C176H303N2O100P4'"
   ]
  },
  {
   "cell_type": "code",
   "execution_count": 45,
   "metadata": {
    "collapsed": false
   },
   "outputs": [],
   "source": [
    "model.reactions.FACOAEcyc170_c.add_metabolites({model.metabolites.coa_c:1},combine=False)"
   ]
  },
  {
   "cell_type": "code",
   "execution_count": 46,
   "metadata": {
    "collapsed": false
   },
   "outputs": [],
   "source": [
    "model.metabolites.ptdcalACP_c_None.charge = -1"
   ]
  },
  {
   "cell_type": "code",
   "execution_count": 47,
   "metadata": {
    "collapsed": false
   },
   "outputs": [],
   "source": [
    "model.metabolites.ptdcalACP_c_None.formula = 'C26H49O8N2PRS'"
   ]
  },
  {
   "cell_type": "code",
   "execution_count": 48,
   "metadata": {
    "collapsed": true
   },
   "outputs": [],
   "source": [
    "model.reactions.get_by_id('PMETM_MC_c').add_metabolites({model.metabolites.ahcys_c:1,model.metabolites.amet_c:-1},combine=False)"
   ]
  },
  {
   "cell_type": "code",
   "execution_count": 49,
   "metadata": {
    "collapsed": false
   },
   "outputs": [],
   "source": [
    "model.reactions.get_by_id('PMETM2_MC_c').add_metabolites({model.metabolites.ahcys_c:1,model.metabolites.amet_c:-1},combine=False)"
   ]
  },
  {
   "cell_type": "code",
   "execution_count": 50,
   "metadata": {
    "collapsed": false
   },
   "outputs": [
    {
     "name": "stdout",
     "output_type": "stream",
     "text": [
      "MNXM30985_c + h_c + nadph_c --> nadp_c + thdp_c \n",
      "\n",
      "nadph_c C21H26N7O17P3 -4\n",
      "MNXM30985_c C7H7NO5 -2\n",
      "h_c H 1\n",
      "<=>\n",
      "nadp_c C21H25N7O17P3 -3\n",
      "thdp_c C7H7NO4 -2\n"
     ]
    }
   ],
   "source": [
    "superprint('DHDPRy_c')"
   ]
  },
  {
   "cell_type": "code",
   "execution_count": 51,
   "metadata": {
    "collapsed": true
   },
   "outputs": [],
   "source": [
    "met = model.metabolites.get_by_id('MNXM30985_c')\n",
    "met.id = '23dhdp_c'\n",
    "met.formula = 'C7H5NO4'\n",
    "met.charge = -2"
   ]
  },
  {
   "cell_type": "code",
   "execution_count": 52,
   "metadata": {
    "collapsed": false,
    "scrolled": true
   },
   "outputs": [
    {
     "name": "stdout",
     "output_type": "stream",
     "text": [
      "aspsa_c + pyr_c --> 23dhdp_c + h2o_c + h_c \n",
      "\n",
      "pyr_c C3H3O3 -1\n",
      "aspsa_c C4H7NO3 0\n",
      "<=>\n",
      "h_c H 1\n",
      "h2o_c H2O 0\n",
      "23dhdp_c C7H5NO4 -2\n"
     ]
    }
   ],
   "source": [
    "superprint('MNXR61396_c')"
   ]
  },
  {
   "cell_type": "code",
   "execution_count": 53,
   "metadata": {
    "collapsed": false
   },
   "outputs": [],
   "source": [
    "rxn = model.reactions.MNXR61396_c\n",
    "rxn.add_metabolites({model.metabolites.h2o_c:2},combine=False)\n",
    "rxn.id = 'DHDPS_c'\n",
    "rxn.name = 'Dihydrodipicolinate synthase'"
   ]
  },
  {
   "cell_type": "code",
   "execution_count": 54,
   "metadata": {
    "collapsed": true
   },
   "outputs": [],
   "source": [
    "met = Metabolite('urea_c')\n",
    "met.id = 'urea_c'\n",
    "met.formula = 'CH4N2O'\n",
    "met.charge = 0\n",
    "model.add_metabolites([met])"
   ]
  },
  {
   "cell_type": "code",
   "execution_count": 55,
   "metadata": {
    "collapsed": true
   },
   "outputs": [],
   "source": [
    "# https://pubchem.ncbi.nlm.nih.gov/compound/3844765#section=Top\n",
    "# This is the same!\n",
    "met = Metabolite('doxopa_c')\n",
    "met.id = 'doxopa_c'\n",
    "met.formula = 'C3H2O4'\n",
    "met.charge = 0\n",
    "model.add_metabolites([met])"
   ]
  },
  {
   "cell_type": "code",
   "execution_count": 56,
   "metadata": {
    "collapsed": false
   },
   "outputs": [
    {
     "name": "stdout",
     "output_type": "stream",
     "text": [
      "fmnh2_c + o2_c --> dmbzid_c + e4p_c + h2o_c \n",
      "\n",
      "fmnh2_c C17H21N4O9P -2\n",
      "o2_c O2 0\n",
      "<=>\n",
      "dmbzid_c C9H10N2 0\n",
      "e4p_c C4H7O7P -2\n",
      "h2o_c H2O 0\n"
     ]
    }
   ],
   "source": [
    "superprint('MNXR18583_c')"
   ]
  },
  {
   "cell_type": "code",
   "execution_count": 57,
   "metadata": {
    "collapsed": false
   },
   "outputs": [],
   "source": [
    "rxn = model.reactions.get_by_id('MNXR18583_c')\n",
    "rxn.add_metabolites({model.metabolites.urea_c:1,model.metabolites.doxopa_c:1,model.metabolites.h2o_c:-1},combine=False)\n",
    "rxn.id = 'BLUB_c'\n",
    "rxn.name = '5,6-dimethylbenzimidazole synthase'\n",
    "# http://pubs.acs.org/doi/abs/10.1021/ja1106207\n",
    "# http://bigg.ucsd.edu/models/iYL1228/reactions/BLUB"
   ]
  },
  {
   "cell_type": "code",
   "execution_count": 58,
   "metadata": {
    "collapsed": true
   },
   "outputs": [],
   "source": [
    "met = Metabolite('allphn_c')\n",
    "met.id = 'allphn_c'\n",
    "met.formula = 'C2H3N2O3'\n",
    "met.charge = -1\n",
    "model.add_metabolites([met])"
   ]
  },
  {
   "cell_type": "code",
   "execution_count": 59,
   "metadata": {
    "collapsed": false
   },
   "outputs": [],
   "source": [
    "rxn = Reaction('UREASE_GAPFILLING_c')\n",
    "rxn.id = 'UREASE_GAPFILLING_c'\n",
    "rxn.name = 'Urea carboxylase'\n",
    "rxn.add_metabolites({model.metabolites.urea_c:-1\n",
    "                     ,model.metabolites.hco3_c:-1\n",
    "                     ,model.metabolites.atp_c:-1\n",
    "                     ,model.metabolites.adp_c:1\n",
    "                     ,model.metabolites.pi_c:1\n",
    "                     ,model.metabolites.h_c:1\n",
    "                     ,model.metabolites.allphn_c:1},combine=False)\n",
    "model.add_reaction(rxn)"
   ]
  },
  {
   "cell_type": "code",
   "execution_count": 60,
   "metadata": {
    "collapsed": false
   },
   "outputs": [],
   "source": [
    "rxn = Reaction('ALPHNH_c')\n",
    "rxn.id = 'ALPHNH_c'\n",
    "rxn.notes.update({'CONFIDENCE SCORE':['2']})\n",
    "rxn.notes.update({'EC Number':['3.5.1.54']})\n",
    "rxn.notes.update({'GENE_ASSOCIATION': ['( MCA0477 and MCA0478 )']})\n",
    "rxn.gene_reaction_rule = '( MCA0477 and MCA0478 )'\n",
    "rxn.name = 'Allophanate hydrolase'\n",
    "rxn.add_metabolites({model.metabolites.allphn_c:-1\n",
    "                     ,model.metabolites.h2o_c:-1\n",
    "                     ,model.metabolites.co2_c:2\n",
    "                     ,model.metabolites.h_c:3\n",
    "                     ,model.metabolites.nh3_c:2},combine=False)\n",
    "model.add_reaction(rxn)"
   ]
  },
  {
   "cell_type": "code",
   "execution_count": 61,
   "metadata": {
    "collapsed": false
   },
   "outputs": [
    {
     "data": {
      "text/html": [
       "\n",
       "        <table>\n",
       "            <tr>\n",
       "                <td><strong>Id</strong></td><td>DM_doxopa_c</td>\n",
       "            </tr>\n",
       "            <tr>\n",
       "                <td><strong>Name</strong></td><td>Demand </td>\n",
       "            </tr>\n",
       "            <tr>\n",
       "                <td><strong>Stoichiometry</strong></td><td>doxopa_c --> </td>\n",
       "            </tr>\n",
       "            <tr>\n",
       "                <td><strong>Lower bound</strong></td><td>0.000000</td>\n",
       "            </tr>\n",
       "            <tr>\n",
       "                <td><strong>Upper bound</strong></td><td>1000.000000</td>\n",
       "            </tr>\n",
       "        </table>\n",
       "        "
      ],
      "text/plain": [
       "<Reaction DM_doxopa_c at 0x118186810>"
      ]
     },
     "execution_count": 61,
     "metadata": {},
     "output_type": "execute_result"
    }
   ],
   "source": [
    "model.add_demand(model.metabolites.doxopa_c)"
   ]
  },
  {
   "cell_type": "code",
   "execution_count": 62,
   "metadata": {
    "collapsed": true
   },
   "outputs": [],
   "source": [
    "met = model.metabolites.get_by_id('cpoa2hcoa_c_None')\n",
    "met.formula = 'C38H63N7O17P3S'\n",
    "met.charge = -4"
   ]
  },
  {
   "cell_type": "code",
   "execution_count": 63,
   "metadata": {
    "collapsed": false
   },
   "outputs": [],
   "source": [
    "met = model.metabolites.get_by_id('mc_fattyacidcoa_c_None')\n",
    "met.formula = 'C37H63N7O17P3S'"
   ]
  },
  {
   "cell_type": "code",
   "execution_count": 64,
   "metadata": {
    "collapsed": false
   },
   "outputs": [],
   "source": [
    "model.metabolites.pe_MC_c_None.charge = 0"
   ]
  },
  {
   "cell_type": "code",
   "execution_count": 65,
   "metadata": {
    "collapsed": false,
    "scrolled": true
   },
   "outputs": [],
   "source": [
    "model.metabolites.but2eACP_c.formula='C15H25N2O8PRS'"
   ]
  },
  {
   "cell_type": "code",
   "execution_count": 66,
   "metadata": {
    "collapsed": true
   },
   "outputs": [],
   "source": [
    "rxn = model.reactions.get_by_id('PFOR_c')\n",
    "rxn.add_metabolites({model.metabolites.h_c:1},combine=False)"
   ]
  },
  {
   "cell_type": "code",
   "execution_count": 67,
   "metadata": {
    "collapsed": false
   },
   "outputs": [],
   "source": [
    "model.metabolites.flxr_c.charge = -2"
   ]
  },
  {
   "cell_type": "code",
   "execution_count": 68,
   "metadata": {
    "collapsed": false
   },
   "outputs": [],
   "source": [
    "model.metabolites.malACP_c.charge = -2"
   ]
  },
  {
   "cell_type": "code",
   "execution_count": 69,
   "metadata": {
    "collapsed": true
   },
   "outputs": [],
   "source": [
    "model.metabolites.ACP_c.charge = -1"
   ]
  },
  {
   "cell_type": "code",
   "execution_count": 70,
   "metadata": {
    "collapsed": false
   },
   "outputs": [],
   "source": [
    "model.metabolites.ppACP_c_None.formula = 'C14H25N2O8PRS'"
   ]
  },
  {
   "cell_type": "code",
   "execution_count": 71,
   "metadata": {
    "collapsed": false
   },
   "outputs": [],
   "source": [
    "model.metabolites.ACP_c.formula = 'C11H21N2O7PRS'"
   ]
  },
  {
   "cell_type": "code",
   "execution_count": 72,
   "metadata": {
    "collapsed": false
   },
   "outputs": [],
   "source": [
    "model.metabolites.mc_fattyacidcoa_c_None.formula = 'C37H62N7O17P3S'"
   ]
  },
  {
   "cell_type": "code",
   "execution_count": 73,
   "metadata": {
    "collapsed": true
   },
   "outputs": [],
   "source": [
    "rxn = model.reactions.POR_syn_c\n",
    "rxn.add_metabolites({model.metabolites.h_c:1},combine=False)"
   ]
  },
  {
   "cell_type": "code",
   "execution_count": 74,
   "metadata": {
    "collapsed": true
   },
   "outputs": [],
   "source": [
    "model.metabolites.fdxrd_c.charge = -1\n",
    "model.metabolites.fdxrd_c.formula = 'Fe2S2X'"
   ]
  },
  {
   "cell_type": "code",
   "execution_count": 75,
   "metadata": {
    "collapsed": true
   },
   "outputs": [],
   "source": [
    "model.metabolites.fdxox_c.charge = 0\n",
    "model.metabolites.fdxox_c.formula = 'Fe2S2X'"
   ]
  },
  {
   "cell_type": "code",
   "execution_count": 76,
   "metadata": {
    "collapsed": true
   },
   "outputs": [],
   "source": [
    "rxn = model.reactions.PAPR_c\n",
    "rxn.add_metabolites({model.metabolites.h_c:2},combine=False)"
   ]
  },
  {
   "cell_type": "code",
   "execution_count": 77,
   "metadata": {
    "collapsed": true
   },
   "outputs": [],
   "source": [
    "rxn = model.reactions.ALPHNH_c\n",
    "rxn.add_metabolites({model.metabolites.h_c:-3},combine=False)"
   ]
  },
  {
   "cell_type": "code",
   "execution_count": 78,
   "metadata": {
    "collapsed": false
   },
   "outputs": [],
   "source": [
    "rxn = model.reactions.SULR_c\n",
    "rxn.add_metabolites({model.metabolites.h2o_c:3,\n",
    "                     model.metabolites.h_c:-5,\n",
    "                     model.metabolites.h2s_c:1,\n",
    "                     model.metabolites.so3_c:-1,\n",
    "                     model.metabolites.nadp_c:3,\n",
    "                     model.metabolites.nadph_c:-3},combine=False)"
   ]
  },
  {
   "cell_type": "code",
   "execution_count": 79,
   "metadata": {
    "collapsed": true
   },
   "outputs": [],
   "source": [
    "rxn = model.reactions.KDOCT_c\n",
    "rxn.add_metabolites({model.metabolites.h_c:0},combine=False)"
   ]
  },
  {
   "cell_type": "code",
   "execution_count": 80,
   "metadata": {
    "collapsed": true
   },
   "outputs": [],
   "source": [
    "rxn = model.reactions.SHSL2r_c\n",
    "rxn.add_metabolites({model.metabolites.h_c:1},combine=False)"
   ]
  },
  {
   "cell_type": "code",
   "execution_count": 81,
   "metadata": {
    "collapsed": true
   },
   "outputs": [],
   "source": [
    "rxn = model.reactions.GALU_c\n",
    "rxn.add_metabolites({model.metabolites.h_c:-1},combine=False)"
   ]
  },
  {
   "cell_type": "code",
   "execution_count": 82,
   "metadata": {
    "collapsed": false
   },
   "outputs": [],
   "source": [
    "rxn = model.reactions.GK1_c\n",
    "rxn.add_metabolites({model.metabolites.h_c:0},combine=False)"
   ]
  },
  {
   "cell_type": "code",
   "execution_count": 83,
   "metadata": {
    "collapsed": true
   },
   "outputs": [],
   "source": [
    "rxn = model.reactions.NDPK4_c\n",
    "rxn.add_metabolites({model.metabolites.h_c:0},combine=False)"
   ]
  },
  {
   "cell_type": "code",
   "execution_count": 84,
   "metadata": {
    "collapsed": false
   },
   "outputs": [],
   "source": [
    "model.metabolites.dttp_c.charge = -4"
   ]
  },
  {
   "cell_type": "code",
   "execution_count": 85,
   "metadata": {
    "collapsed": true
   },
   "outputs": [],
   "source": [
    "model.metabolites.utp_c.charge = -4"
   ]
  },
  {
   "cell_type": "code",
   "execution_count": 86,
   "metadata": {
    "collapsed": true
   },
   "outputs": [],
   "source": [
    "model.metabolites.ctp_c.charge = -4"
   ]
  },
  {
   "cell_type": "code",
   "execution_count": 87,
   "metadata": {
    "collapsed": true
   },
   "outputs": [],
   "source": [
    "model.metabolites.acACP_c.charge = -1"
   ]
  },
  {
   "cell_type": "code",
   "execution_count": 88,
   "metadata": {
    "collapsed": true
   },
   "outputs": [],
   "source": [
    "model.metabolites.actACP_c.charge = -1"
   ]
  },
  {
   "cell_type": "code",
   "execution_count": 89,
   "metadata": {
    "collapsed": true
   },
   "outputs": [],
   "source": [
    "model.metabolites.get_by_id('3hbutACP_c').charge = -1"
   ]
  },
  {
   "cell_type": "code",
   "execution_count": 90,
   "metadata": {
    "collapsed": true
   },
   "outputs": [],
   "source": [
    "model.metabolites.get_by_id('but2eACP_c').charge = -1"
   ]
  },
  {
   "cell_type": "code",
   "execution_count": 91,
   "metadata": {
    "collapsed": false
   },
   "outputs": [],
   "source": [
    "model.metabolites.get_by_id('ppACP_c_None').charge = -1"
   ]
  },
  {
   "cell_type": "code",
   "execution_count": 92,
   "metadata": {
    "collapsed": true
   },
   "outputs": [],
   "source": [
    "rxn = model.reactions.get_by_id('3OAR150_GAPFILLING_c')\n",
    "rxn.add_metabolites({model.metabolites.malACP_c:-6,model.metabolites.h_c:-18},combine=False)"
   ]
  },
  {
   "cell_type": "code",
   "execution_count": 93,
   "metadata": {
    "collapsed": true
   },
   "outputs": [],
   "source": [
    "model.metabolites.get_by_id('hpdcalACP_c_None').formula = 'C28H55N2O8PRS'"
   ]
  },
  {
   "cell_type": "code",
   "execution_count": 94,
   "metadata": {
    "collapsed": true
   },
   "outputs": [],
   "source": [
    "rxn = model.reactions.get_by_id('3OAR170_GAPFILLING_c')\n",
    "rxn.add_metabolites({model.metabolites.h_c:-5},combine=False)"
   ]
  },
  {
   "cell_type": "code",
   "execution_count": 95,
   "metadata": {
    "collapsed": false
   },
   "outputs": [],
   "source": [
    "model.metabolites.get_by_id('hpdcalACP_c_None').charge = -1"
   ]
  },
  {
   "cell_type": "code",
   "execution_count": 96,
   "metadata": {
    "collapsed": true
   },
   "outputs": [],
   "source": [
    "model.metabolites.get_by_id('peptido_MC_c_None').formula = 'C40H62N8O21'"
   ]
  },
  {
   "cell_type": "code",
   "execution_count": 97,
   "metadata": {
    "collapsed": true
   },
   "outputs": [],
   "source": [
    "model.metabolites.get_by_id('peptido_MC_c_None').charge = -2"
   ]
  },
  {
   "cell_type": "code",
   "execution_count": 98,
   "metadata": {
    "collapsed": false
   },
   "outputs": [],
   "source": [
    "model.metabolites.get_by_id('1agpgafa_c_None').formula = 'C19H37O7P1'"
   ]
  },
  {
   "cell_type": "code",
   "execution_count": 99,
   "metadata": {
    "collapsed": false
   },
   "outputs": [],
   "source": [
    "model.metabolites.get_by_id('1agpgafa_c_None').charge = -2"
   ]
  },
  {
   "cell_type": "code",
   "execution_count": 100,
   "metadata": {
    "collapsed": true
   },
   "outputs": [],
   "source": [
    "model.metabolites.get_by_id('pa_MC_c_None').charge = -2"
   ]
  },
  {
   "cell_type": "code",
   "execution_count": 101,
   "metadata": {
    "collapsed": true
   },
   "outputs": [],
   "source": [
    "model.metabolites.cdpdag_MC_c_None.formula = 'C44H79N3O15P2'"
   ]
  },
  {
   "cell_type": "code",
   "execution_count": 102,
   "metadata": {
    "collapsed": true
   },
   "outputs": [],
   "source": [
    "model.metabolites.pgp_MC_c_None.formula = 'C38H73O13P2'"
   ]
  },
  {
   "cell_type": "code",
   "execution_count": 103,
   "metadata": {
    "collapsed": true
   },
   "outputs": [],
   "source": [
    "model.metabolites.pg_MC_c_None.formula = 'C38H74O10P1'"
   ]
  },
  {
   "cell_type": "code",
   "execution_count": 104,
   "metadata": {
    "collapsed": true
   },
   "outputs": [],
   "source": [
    "model.metabolites.clpn_MC_c_None.formula = 'C73H140O17P2'"
   ]
  },
  {
   "cell_type": "code",
   "execution_count": 105,
   "metadata": {
    "collapsed": false
   },
   "outputs": [],
   "source": [
    "model.metabolites.gdp_c.charge = -3"
   ]
  },
  {
   "cell_type": "code",
   "execution_count": 106,
   "metadata": {
    "collapsed": true
   },
   "outputs": [],
   "source": [
    "model.metabolites.fpram_c.charge = -1"
   ]
  },
  {
   "cell_type": "code",
   "execution_count": 107,
   "metadata": {
    "collapsed": true
   },
   "outputs": [],
   "source": [
    "model.metabolites.air_c.charge = -2"
   ]
  },
  {
   "cell_type": "code",
   "execution_count": 108,
   "metadata": {
    "collapsed": true
   },
   "outputs": [],
   "source": [
    "model.metabolites.h2s_c.charge = 0"
   ]
  },
  {
   "cell_type": "code",
   "execution_count": 109,
   "metadata": {
    "collapsed": false
   },
   "outputs": [],
   "source": [
    "model.metabolites.get_by_id('5mthf_c').charge = -1"
   ]
  },
  {
   "cell_type": "code",
   "execution_count": 110,
   "metadata": {
    "collapsed": true
   },
   "outputs": [],
   "source": [
    "model.metabolites.get_by_id('3hmrsACP_c').charge = -1"
   ]
  },
  {
   "cell_type": "code",
   "execution_count": 111,
   "metadata": {
    "collapsed": true
   },
   "outputs": [],
   "source": [
    "model.metabolites.get_by_id('tmrs2eACP_c').charge = -1"
   ]
  },
  {
   "cell_type": "code",
   "execution_count": 112,
   "metadata": {
    "collapsed": true
   },
   "outputs": [],
   "source": [
    "model.metabolites.get_by_id('3omrsACP_c').charge = -1"
   ]
  },
  {
   "cell_type": "code",
   "execution_count": 113,
   "metadata": {
    "collapsed": true
   },
   "outputs": [],
   "source": [
    "model.metabolites.get_by_id('ddcaACP_c').charge = -1"
   ]
  },
  {
   "cell_type": "code",
   "execution_count": 114,
   "metadata": {
    "collapsed": true
   },
   "outputs": [],
   "source": [
    "model.metabolites.get_by_id('udcpp_c_None').charge = -2"
   ]
  },
  {
   "cell_type": "code",
   "execution_count": 115,
   "metadata": {
    "collapsed": true
   },
   "outputs": [],
   "source": [
    "model.metabolites.get_by_id('pe_MC_c_None').formula = 'C37H74N1O8P1'"
   ]
  },
  {
   "cell_type": "code",
   "execution_count": 116,
   "metadata": {
    "collapsed": true
   },
   "outputs": [],
   "source": [
    "model.metabolites.get_by_id('pc_MC_c_None').charge = 0"
   ]
  },
  {
   "cell_type": "code",
   "execution_count": 117,
   "metadata": {
    "collapsed": true
   },
   "outputs": [],
   "source": [
    "model.metabolites.get_by_id('pdme_c_None').charge = 0"
   ]
  },
  {
   "cell_type": "code",
   "execution_count": 118,
   "metadata": {
    "collapsed": false
   },
   "outputs": [],
   "source": [
    "model.metabolites.get_by_id('pme_c_None').formula = 'C38H76N1O8P1'"
   ]
  },
  {
   "cell_type": "code",
   "execution_count": 119,
   "metadata": {
    "collapsed": false
   },
   "outputs": [],
   "source": [
    "model.metabolites.get_by_id('pme_c_None').charge = 0"
   ]
  },
  {
   "cell_type": "code",
   "execution_count": 120,
   "metadata": {
    "collapsed": true
   },
   "outputs": [],
   "source": [
    "model.metabolites.get_by_id('co_c').formula = 'CO'"
   ]
  },
  {
   "cell_type": "code",
   "execution_count": 121,
   "metadata": {
    "collapsed": true
   },
   "outputs": [],
   "source": [
    "model.metabolites.get_by_id('co_c').charge = 0"
   ]
  },
  {
   "cell_type": "code",
   "execution_count": 122,
   "metadata": {
    "collapsed": true
   },
   "outputs": [],
   "source": [
    "rxn = model.reactions.get_by_id('PMPS_c')\n",
    "rxn.add_metabolites({model.metabolites.h_c:2},combine=False)"
   ]
  },
  {
   "cell_type": "code",
   "execution_count": 123,
   "metadata": {
    "collapsed": true
   },
   "outputs": [],
   "source": [
    "model.metabolites.get_by_id('fmn_c').charge = -2"
   ]
  },
  {
   "cell_type": "code",
   "execution_count": 124,
   "metadata": {
    "collapsed": true
   },
   "outputs": [],
   "source": [
    "model.metabolites.get_by_id('hhlipa_c').charge = -6"
   ]
  },
  {
   "cell_type": "code",
   "execution_count": 125,
   "metadata": {
    "collapsed": true
   },
   "outputs": [],
   "source": [
    "model.metabolites.get_by_id('phhlipa_c').charge = -8"
   ]
  },
  {
   "cell_type": "code",
   "execution_count": 126,
   "metadata": {
    "collapsed": true
   },
   "outputs": [],
   "source": [
    "model.metabolites.get_by_id('hphhlipa_c').charge = -8"
   ]
  },
  {
   "cell_type": "code",
   "execution_count": 127,
   "metadata": {
    "collapsed": true
   },
   "outputs": [],
   "source": [
    "model.metabolites.get_by_id('phphhlipa_c').charge = -10"
   ]
  },
  {
   "cell_type": "code",
   "execution_count": 128,
   "metadata": {
    "collapsed": true
   },
   "outputs": [],
   "source": [
    "model.metabolites.get_by_id('hlipa_c').charge = -6"
   ]
  },
  {
   "cell_type": "code",
   "execution_count": 129,
   "metadata": {
    "collapsed": true
   },
   "outputs": [],
   "source": [
    "model.metabolites.get_by_id('lipa_c').charge = -6"
   ]
  },
  {
   "cell_type": "code",
   "execution_count": 130,
   "metadata": {
    "collapsed": true
   },
   "outputs": [],
   "source": [
    "model.metabolites.get_by_id('kphphhlipa_c').charge = -11"
   ]
  },
  {
   "cell_type": "code",
   "execution_count": 131,
   "metadata": {
    "collapsed": true
   },
   "outputs": [],
   "source": [
    "model.metabolites.get_by_id('kdo2lipid4L_c').charge = -6"
   ]
  },
  {
   "cell_type": "code",
   "execution_count": 132,
   "metadata": {
    "collapsed": true
   },
   "outputs": [],
   "source": [
    "model.metabolites.get_by_id('myrsACP_c').charge = -1"
   ]
  },
  {
   "cell_type": "code",
   "execution_count": 133,
   "metadata": {
    "collapsed": true
   },
   "outputs": [],
   "source": [
    "model.metabolites.get_by_id('icolipa_c').charge = -11"
   ]
  },
  {
   "cell_type": "code",
   "execution_count": 134,
   "metadata": {
    "collapsed": true
   },
   "outputs": [],
   "source": [
    "model.metabolites.get_by_id('gicolipa_c').charge = -11"
   ]
  },
  {
   "cell_type": "code",
   "execution_count": 135,
   "metadata": {
    "collapsed": true
   },
   "outputs": [],
   "source": [
    "model.metabolites.get_by_id('gagicolipa_c').charge = -11"
   ]
  },
  {
   "cell_type": "code",
   "execution_count": 136,
   "metadata": {
    "collapsed": true
   },
   "outputs": [],
   "source": [
    "model.metabolites.get_by_id('ggagicolipa_c').charge = -11"
   ]
  },
  {
   "cell_type": "code",
   "execution_count": 137,
   "metadata": {
    "collapsed": true
   },
   "outputs": [],
   "source": [
    "model.metabolites.get_by_id('gggagicolipa_c').charge = -11"
   ]
  },
  {
   "cell_type": "code",
   "execution_count": 138,
   "metadata": {
    "collapsed": true
   },
   "outputs": [],
   "source": [
    "model.metabolites.get_by_id('colipa_c').charge = -11"
   ]
  },
  {
   "cell_type": "code",
   "execution_count": 139,
   "metadata": {
    "collapsed": true
   },
   "outputs": [],
   "source": [
    "model.metabolites.get_by_id('colipa_p').charge = -11"
   ]
  },
  {
   "cell_type": "code",
   "execution_count": 140,
   "metadata": {
    "collapsed": true
   },
   "outputs": [],
   "source": [
    "model.metabolites.get_by_id('colipa_e_None').charge = -11"
   ]
  },
  {
   "cell_type": "code",
   "execution_count": 141,
   "metadata": {
    "collapsed": true
   },
   "outputs": [],
   "source": [
    "model.metabolites.get_by_id('flxr_c').charge = -1"
   ]
  },
  {
   "cell_type": "code",
   "execution_count": 142,
   "metadata": {
    "collapsed": true
   },
   "outputs": [],
   "source": [
    "rxn = model.reactions.get_by_id('ANS_c')\n",
    "rxn.add_metabolites({model.metabolites.anth_c:-1},combine=False)"
   ]
  },
  {
   "cell_type": "code",
   "execution_count": 143,
   "metadata": {
    "collapsed": true
   },
   "outputs": [],
   "source": [
    "model.metabolites.get_by_id('thfglu_c').formula = 'C24H27N8O9'\n",
    "model.metabolites.get_by_id('thfglu_c').charge = -3"
   ]
  },
  {
   "cell_type": "code",
   "execution_count": 144,
   "metadata": {
    "collapsed": true
   },
   "outputs": [],
   "source": [
    "rxn = model.reactions.get_by_id('THFGLUS_c')\n",
    "rxn.add_metabolites({model.metabolites.h_c:1},combine=False)"
   ]
  },
  {
   "cell_type": "code",
   "execution_count": 145,
   "metadata": {
    "collapsed": true
   },
   "outputs": [],
   "source": [
    "model.metabolites.get_by_id('alpro_c').formula = 'CH6NS2X'\n",
    "model.metabolites.get_by_id('alpro_c').charge = 1"
   ]
  },
  {
   "cell_type": "code",
   "execution_count": 146,
   "metadata": {
    "collapsed": true
   },
   "outputs": [],
   "source": [
    "model.metabolites.get_by_id('dhlpro_c').formula = 'H2S2X'\n",
    "model.metabolites.get_by_id('dhlpro_c').charge = 0"
   ]
  },
  {
   "cell_type": "code",
   "execution_count": 147,
   "metadata": {
    "collapsed": true
   },
   "outputs": [],
   "source": [
    "model.metabolites.get_by_id('dna5mtc_c').formula = 'CH2'"
   ]
  },
  {
   "cell_type": "code",
   "execution_count": 148,
   "metadata": {
    "collapsed": true
   },
   "outputs": [],
   "source": [
    "model.metabolites.get_by_id('dnac_c').formula = ''"
   ]
  },
  {
   "cell_type": "code",
   "execution_count": 149,
   "metadata": {
    "collapsed": true
   },
   "outputs": [],
   "source": [
    "model.metabolites.get_by_id('asntrna_c').formula = 'C4H6N2O2R'"
   ]
  },
  {
   "cell_type": "code",
   "execution_count": 150,
   "metadata": {
    "collapsed": true
   },
   "outputs": [],
   "source": [
    "rxn = model.reactions.get_by_id('SELADT_c')\n",
    "rxn.add_metabolites({model.metabolites.h_c:-1},combine=False)"
   ]
  },
  {
   "cell_type": "code",
   "execution_count": 151,
   "metadata": {
    "collapsed": true
   },
   "outputs": [],
   "source": [
    "model.metabolites.get_by_id('sel_c').charge = -2"
   ]
  },
  {
   "cell_type": "code",
   "execution_count": 152,
   "metadata": {
    "collapsed": true
   },
   "outputs": [],
   "source": [
    "model.metabolites.get_by_id('adsel_c').formula = 'C10H12N5O10PSe'\n",
    "model.metabolites.get_by_id('adsel_c').charge = -2"
   ]
  },
  {
   "cell_type": "code",
   "execution_count": 153,
   "metadata": {
    "collapsed": true
   },
   "outputs": [],
   "source": [
    "model.metabolites.get_by_id('argtrna_c').charge = 2"
   ]
  },
  {
   "cell_type": "code",
   "execution_count": 154,
   "metadata": {
    "collapsed": true
   },
   "outputs": [],
   "source": [
    "rxn = model.reactions.get_by_id('ARGTRS_c')\n",
    "rxn.add_metabolites({model.metabolites.h_c:0},combine=False)"
   ]
  },
  {
   "cell_type": "code",
   "execution_count": 155,
   "metadata": {
    "collapsed": true
   },
   "outputs": [],
   "source": [
    "rxn = model.reactions.get_by_id('TYRTRS_c')\n",
    "rxn.add_metabolites({model.metabolites.h_c:0},combine=False)\n",
    "rxn.lower_bound = -1000\n",
    "rxn.upper_bound = 1000"
   ]
  },
  {
   "cell_type": "code",
   "execution_count": 156,
   "metadata": {
    "collapsed": true
   },
   "outputs": [],
   "source": [
    "model.metabolites.get_by_id('tyrtrna_c').charge = 1"
   ]
  },
  {
   "cell_type": "code",
   "execution_count": 157,
   "metadata": {
    "collapsed": true
   },
   "outputs": [],
   "source": [
    "model.metabolites.get_by_id('hemeA__1_c').charge = -6"
   ]
  },
  {
   "cell_type": "code",
   "execution_count": 158,
   "metadata": {
    "collapsed": true
   },
   "outputs": [],
   "source": [
    "rxn = model.reactions.get_by_id('HEMEAS_c')\n",
    "rxn.add_metabolites({model.metabolites.h_c:4,model.metabolites.h2o_c:-1},combine=False)\n",
    "rxn.lower_bound = -1000\n",
    "rxn.upper_bound = 1000"
   ]
  },
  {
   "cell_type": "code",
   "execution_count": 159,
   "metadata": {
    "collapsed": true
   },
   "outputs": [],
   "source": [
    "model.metabolites.get_by_id('so3_c').charge = -2"
   ]
  },
  {
   "cell_type": "code",
   "execution_count": 160,
   "metadata": {
    "collapsed": true
   },
   "outputs": [],
   "source": [
    "rxn = model.reactions.get_by_id('PAPR_c')\n",
    "rxn.add_metabolites({model.metabolites.h_c:2},combine=False)"
   ]
  },
  {
   "cell_type": "code",
   "execution_count": 161,
   "metadata": {
    "collapsed": true
   },
   "outputs": [],
   "source": [
    "rxn = model.reactions.get_by_id('PAPR_c')\n",
    "rxn.id = 'PAPSR_c'"
   ]
  },
  {
   "cell_type": "code",
   "execution_count": 162,
   "metadata": {
    "collapsed": true
   },
   "outputs": [],
   "source": [
    "model.metabolites.get_by_id('3opalmACP_c').charge = -1"
   ]
  },
  {
   "cell_type": "code",
   "execution_count": 163,
   "metadata": {
    "collapsed": true
   },
   "outputs": [],
   "source": [
    "model.metabolites.get_by_id('3hpalmACP_c').charge = -1"
   ]
  },
  {
   "cell_type": "code",
   "execution_count": 164,
   "metadata": {
    "collapsed": true
   },
   "outputs": [],
   "source": [
    "model.metabolites.get_by_id('tpalm2eACP_c').charge = -1"
   ]
  },
  {
   "cell_type": "code",
   "execution_count": 165,
   "metadata": {
    "collapsed": true
   },
   "outputs": [],
   "source": [
    "rxn = model.reactions.get_by_id('OCT_GAPFILLING_c')\n",
    "rxn.add_metabolites({model.metabolites.h_c:1},combine=False)"
   ]
  },
  {
   "cell_type": "code",
   "execution_count": 166,
   "metadata": {
    "collapsed": true
   },
   "outputs": [],
   "source": [
    "model.metabolites.get_by_id('tdecoa_c_None').charge = -4"
   ]
  },
  {
   "cell_type": "code",
   "execution_count": 167,
   "metadata": {
    "collapsed": true
   },
   "outputs": [],
   "source": [
    "model.metabolites.get_by_id('hpdcalACP_c_None').formula = 'C28H53N2O8PRS'"
   ]
  },
  {
   "cell_type": "code",
   "execution_count": 168,
   "metadata": {
    "collapsed": false
   },
   "outputs": [],
   "source": [
    "rxn = model.reactions.get_by_id('3OAR170_GAPFILLING_c')\n",
    "rxn.add_metabolites({model.metabolites.h_c:-3},combine=False)"
   ]
  },
  {
   "cell_type": "code",
   "execution_count": 169,
   "metadata": {
    "collapsed": true
   },
   "outputs": [],
   "source": [
    "model.metabolites.get_by_id('cpoa2hcoa_c_None').formula = 'C38H64N7O17P3S'"
   ]
  },
  {
   "cell_type": "code",
   "execution_count": 170,
   "metadata": {
    "collapsed": false
   },
   "outputs": [],
   "source": [
    "rxn = model.reactions.get_by_id('CFACPOA2H_Lumped_c')\n",
    "rxn.add_metabolites({model.metabolites.h_c:1},combine=False)"
   ]
  },
  {
   "cell_type": "code",
   "execution_count": 171,
   "metadata": {
    "collapsed": false
   },
   "outputs": [],
   "source": [
    "model.metabolites.get_by_id('cpoa2h_c_None').formula = 'C17H33O2'\n",
    "model.metabolites.get_by_id('cpoa2h_c_None').charge = -1"
   ]
  },
  {
   "cell_type": "code",
   "execution_count": 172,
   "metadata": {
    "collapsed": true
   },
   "outputs": [],
   "source": [
    "model.metabolites.get_by_id('garagund_c').charge = -2"
   ]
  },
  {
   "cell_type": "code",
   "execution_count": 173,
   "metadata": {
    "collapsed": true
   },
   "outputs": [],
   "source": [
    "model.metabolites.get_by_id('udpgalfur_c').charge = -2"
   ]
  },
  {
   "cell_type": "code",
   "execution_count": 174,
   "metadata": {
    "collapsed": true
   },
   "outputs": [],
   "source": [
    "model.metabolites.get_by_id('gfgaragund_c').charge = -2"
   ]
  },
  {
   "cell_type": "code",
   "execution_count": 175,
   "metadata": {
    "collapsed": true
   },
   "outputs": [],
   "source": [
    "rxn = model.reactions.get_by_id('OOR3_c')\n",
    "rxn.add_metabolites({model.metabolites.h_c:1,model.metabolites.fdxrd_c:-1,model.metabolites.fdxox_c:1},combine=False)\n",
    "rxn.lower_bound = -1000\n",
    "rxn.id = 'OOR3r_c'\n",
    "rxn.upper_bound = 1000"
   ]
  },
  {
   "cell_type": "code",
   "execution_count": 176,
   "metadata": {
    "collapsed": true
   },
   "outputs": [],
   "source": [
    "model.metabolites.get_by_id('fdxrd_c').charge = 0\n",
    "model.metabolites.get_by_id('fdxrd_c').formula = 'Fe8S8XH2'"
   ]
  },
  {
   "cell_type": "code",
   "execution_count": 177,
   "metadata": {
    "collapsed": true
   },
   "outputs": [],
   "source": [
    "model.metabolites.get_by_id('fdxox_c').charge = 0\n",
    "model.metabolites.get_by_id('fdxox_c').formula = 'Fe8S8X'"
   ]
  },
  {
   "cell_type": "code",
   "execution_count": 178,
   "metadata": {
    "collapsed": false
   },
   "outputs": [],
   "source": [
    "rxn = model.reactions.get_by_id('DES_9_c')\n",
    "rxn.add_metabolites({model.metabolites.h_c:0,model.metabolites.h2o_c:2},combine=False)\n",
    "rxn.id = 'DES_9_Modified_c'\n",
    "rxn.name = 'Stearoyl-CoA desaturase (delta-9 desaturase) Changed cofactors to fdxrd/fdxox'\n"
   ]
  },
  {
   "cell_type": "code",
   "execution_count": 179,
   "metadata": {
    "collapsed": true
   },
   "outputs": [],
   "source": [
    "rxn = model.reactions.get_by_id('DES_9_2_c')\n",
    "rxn.add_metabolites({model.metabolites.h_c:0,model.metabolites.h2o_c:2},combine=False)\n",
    "rxn.id = 'DES_9_2_Modified_c'\n",
    "rxn.name = 'Stearoyl-CoA desaturase (delta-9 desaturase) Changed cofactors to fdxrd/fdxox'\n"
   ]
  },
  {
   "cell_type": "code",
   "execution_count": 180,
   "metadata": {
    "collapsed": true
   },
   "outputs": [],
   "source": [
    "rxn = model.reactions.get_by_id('DES_9_Modified_c')\n",
    "rxn.add_metabolites({model.metabolites.h_c:0,model.metabolites.h2o_c:3,model.metabolites.o2_c:-1.5},combine=False)"
   ]
  },
  {
   "cell_type": "code",
   "execution_count": 181,
   "metadata": {
    "collapsed": true
   },
   "outputs": [],
   "source": [
    "rxn = model.reactions.get_by_id('DES_9_2_Modified_c')\n",
    "rxn.add_metabolites({model.metabolites.h_c:0,model.metabolites.h2o_c:3,model.metabolites.o2_c:-1.5},combine=False)"
   ]
  },
  {
   "cell_type": "code",
   "execution_count": 182,
   "metadata": {
    "collapsed": true
   },
   "outputs": [],
   "source": [
    "rxn = model.reactions.get_by_id('PMETM2_MC_c')\n",
    "rxn.add_metabolites({model.metabolites.h_c:0,model.metabolites.h2o_c:3,model.metabolites.o2_c:-1.5},combine=False)"
   ]
  },
  {
   "cell_type": "code",
   "execution_count": 183,
   "metadata": {
    "collapsed": true
   },
   "outputs": [],
   "source": [
    "model.metabolites.get_by_id('pc_MC_c_None').formula = 'C40H80N1O8P1'"
   ]
  },
  {
   "cell_type": "code",
   "execution_count": 184,
   "metadata": {
    "collapsed": true
   },
   "outputs": [],
   "source": [
    "model.metabolites.get_by_id('codhpre6_c_None').charge = -7"
   ]
  },
  {
   "cell_type": "code",
   "execution_count": 185,
   "metadata": {
    "collapsed": true
   },
   "outputs": [],
   "source": [
    "model.metabolites.get_by_id('aragund_c').charge = -2"
   ]
  },
  {
   "cell_type": "code",
   "execution_count": 186,
   "metadata": {
    "collapsed": true
   },
   "outputs": [],
   "source": [
    "model.metabolites.get_by_id('ragund_c').charge = -2"
   ]
  },
  {
   "cell_type": "code",
   "execution_count": 187,
   "metadata": {
    "collapsed": true
   },
   "outputs": [],
   "source": [
    "model.metabolites.get_by_id('o16aund_c').charge = -2"
   ]
  },
  {
   "cell_type": "code",
   "execution_count": 188,
   "metadata": {
    "collapsed": true
   },
   "outputs": [],
   "source": [
    "model.metabolites.get_by_id('uLa4n_p').charge = 0\n",
    "model.metabolites.get_by_id('acolipa_p').charge = -9\n",
    "model.metabolites.get_by_id('udcpp_p').charge = -2"
   ]
  },
  {
   "cell_type": "code",
   "execution_count": 189,
   "metadata": {
    "collapsed": true
   },
   "outputs": [],
   "source": [
    "model.metabolites.get_by_id('acolipa_e').charge = -9"
   ]
  },
  {
   "cell_type": "code",
   "execution_count": 190,
   "metadata": {
    "collapsed": true
   },
   "outputs": [],
   "source": [
    "rxn = model.reactions.get_by_id('GTPOPm_c')\n",
    "rxn.add_metabolites({model.metabolites.h_c:1},combine=False)"
   ]
  },
  {
   "cell_type": "code",
   "execution_count": 191,
   "metadata": {
    "collapsed": true
   },
   "outputs": [],
   "source": [
    "rxn = model.reactions.get_by_id('POR_syn_c')\n",
    "rxn.add_metabolites({model.metabolites.h_c:-3},combine=False)"
   ]
  },
  {
   "cell_type": "code",
   "execution_count": 192,
   "metadata": {
    "collapsed": true
   },
   "outputs": [],
   "source": [
    "model.metabolites.get_by_id('copre2_c').formula = 'C42H38CoN4O16'"
   ]
  },
  {
   "cell_type": "code",
   "execution_count": 193,
   "metadata": {
    "collapsed": true
   },
   "outputs": [],
   "source": [
    "rxn = model.reactions.get_by_id('ALATRS_c')\n",
    "rxn.add_metabolites({model.metabolites.h_c:0},combine=False)"
   ]
  },
  {
   "cell_type": "code",
   "execution_count": 194,
   "metadata": {
    "collapsed": false
   },
   "outputs": [],
   "source": [
    "model.metabolites.get_by_id('alatrna_c').charge = 1"
   ]
  },
  {
   "cell_type": "code",
   "execution_count": 195,
   "metadata": {
    "collapsed": false
   },
   "outputs": [],
   "source": [
    "for met in model.metabolites:\n",
    "    if met.id.endswith('trna_c'):\n",
    "        met.charge = 1"
   ]
  },
  {
   "cell_type": "code",
   "execution_count": 196,
   "metadata": {
    "collapsed": false
   },
   "outputs": [],
   "source": [
    "for rxn in model.reactions:\n",
    "    if rxn.id.endswith('TRS_c') and rxn.metabolites.has_key(model.metabolites.h_c):\n",
    "        rxn.add_metabolites({model.metabolites.h_c:0},combine=False)"
   ]
  },
  {
   "cell_type": "code",
   "execution_count": 197,
   "metadata": {
    "collapsed": true
   },
   "outputs": [],
   "source": [
    "model.metabolites.get_by_id('itp_c').charge = -4"
   ]
  },
  {
   "cell_type": "code",
   "execution_count": 198,
   "metadata": {
    "collapsed": true
   },
   "outputs": [],
   "source": [
    "rxn = model.reactions.get_by_id('NDPK9_c')\n",
    "rxn.add_metabolites({model.metabolites.h_c:0},combine=False)"
   ]
  },
  {
   "cell_type": "code",
   "execution_count": 199,
   "metadata": {
    "collapsed": true
   },
   "outputs": [],
   "source": [
    "rxn = model.reactions.get_by_id('NDPK6_c')\n",
    "rxn.add_metabolites({model.metabolites.h_c:0},combine=False)"
   ]
  },
  {
   "cell_type": "code",
   "execution_count": 200,
   "metadata": {
    "collapsed": true
   },
   "outputs": [],
   "source": [
    "model.metabolites.get_by_id('dutp_c').charge = -4\n",
    "model.metabolites.get_by_id('dgtp_c').charge = -4\n",
    "model.metabolites.get_by_id('dctp_c').charge = -4\n",
    "model.metabolites.get_by_id('datp_c').charge = -4"
   ]
  },
  {
   "cell_type": "code",
   "execution_count": 201,
   "metadata": {
    "collapsed": true
   },
   "outputs": [],
   "source": [
    "rxn = model.reactions.get_by_id('NDPK5_c')\n",
    "rxn.add_metabolites({model.metabolites.h_c:0},combine=False)"
   ]
  },
  {
   "cell_type": "code",
   "execution_count": 202,
   "metadata": {
    "collapsed": true
   },
   "outputs": [],
   "source": [
    "rxn = model.reactions.get_by_id('NDPK2_c')\n",
    "rxn.add_metabolites({model.metabolites.h_c:0},combine=False)"
   ]
  },
  {
   "cell_type": "code",
   "execution_count": 203,
   "metadata": {
    "collapsed": true
   },
   "outputs": [],
   "source": [
    "rxn = model.reactions.get_by_id('NDPK3_c')\n",
    "rxn.add_metabolites({model.metabolites.h_c:0},combine=False)"
   ]
  },
  {
   "cell_type": "code",
   "execution_count": 204,
   "metadata": {
    "collapsed": true
   },
   "outputs": [],
   "source": [
    "rxn = model.reactions.get_by_id('NDPK1_c')\n",
    "rxn.add_metabolites({model.metabolites.h_c:0},combine=False)"
   ]
  },
  {
   "cell_type": "code",
   "execution_count": 205,
   "metadata": {
    "collapsed": true
   },
   "outputs": [],
   "source": [
    "rxn = model.reactions.get_by_id('NDPK7_c')\n",
    "rxn.add_metabolites({model.metabolites.h_c:0},combine=False)"
   ]
  },
  {
   "cell_type": "code",
   "execution_count": 206,
   "metadata": {
    "collapsed": true
   },
   "outputs": [],
   "source": [
    "rxn = model.reactions.get_by_id('SHCHCC_c')\n",
    "rxn.add_metabolites({model.metabolites.scl_c:0,model.metabolites.dscl_c:-1},combine=False)"
   ]
  },
  {
   "cell_type": "code",
   "execution_count": 207,
   "metadata": {
    "collapsed": true
   },
   "outputs": [],
   "source": [
    "rxn = model.reactions.get_by_id('ASPO2_c')\n",
    "rxn.add_metabolites({model.metabolites.h_c:-2},combine=False)"
   ]
  },
  {
   "cell_type": "code",
   "execution_count": 208,
   "metadata": {
    "collapsed": true
   },
   "outputs": [],
   "source": [
    "model.metabolites.get_by_id('lpro_c').formula = 'S2X'"
   ]
  },
  {
   "cell_type": "code",
   "execution_count": 209,
   "metadata": {
    "collapsed": true
   },
   "outputs": [],
   "source": [
    "rxn = model.reactions.get_by_id('GCCa_c')\n",
    "rxn.add_metabolites({model.metabolites.h_c:1},combine=False)"
   ]
  },
  {
   "cell_type": "code",
   "execution_count": 210,
   "metadata": {
    "collapsed": true
   },
   "outputs": [],
   "source": [
    "rxn = model.reactions.get_by_id('MTHFR2_c')\n",
    "rxn.add_metabolites({model.metabolites.h_c:-2},combine=False)"
   ]
  },
  {
   "cell_type": "code",
   "execution_count": 211,
   "metadata": {
    "collapsed": true
   },
   "outputs": [],
   "source": [
    "rxn = model.reactions.get_by_id('ACPS1_c')\n",
    "rxn.add_metabolites({model.metabolites.h_c:1},combine=False)"
   ]
  },
  {
   "cell_type": "code",
   "execution_count": 212,
   "metadata": {
    "collapsed": true
   },
   "outputs": [],
   "source": [
    "rxn = model.reactions.get_by_id('HPROb_c')\n",
    "rxn.add_metabolites({model.metabolites.h_c:-2},combine=False)"
   ]
  },
  {
   "cell_type": "code",
   "execution_count": 213,
   "metadata": {
    "collapsed": true
   },
   "outputs": [],
   "source": [
    "rxn = model.reactions.get_by_id('HPROa_c')\n",
    "rxn.add_metabolites({model.metabolites.h_c:-2},combine=False)"
   ]
  },
  {
   "cell_type": "code",
   "execution_count": 214,
   "metadata": {
    "collapsed": true
   },
   "outputs": [],
   "source": [
    "rxn = model.reactions.get_by_id('PPGPPDP_c')\n",
    "rxn.add_metabolites({model.metabolites.h_c:0},combine=False)"
   ]
  },
  {
   "cell_type": "code",
   "execution_count": 215,
   "metadata": {
    "collapsed": true
   },
   "outputs": [],
   "source": [
    "model.metabolites.get_by_id('tsul_c').charge = -2"
   ]
  },
  {
   "cell_type": "code",
   "execution_count": 216,
   "metadata": {
    "collapsed": true
   },
   "outputs": [],
   "source": [
    "rxn = model.reactions.get_by_id('CYSS2_c')\n",
    "rxn.add_metabolites({model.metabolites.h_c:0},combine=False)"
   ]
  },
  {
   "cell_type": "code",
   "execution_count": 217,
   "metadata": {
    "collapsed": true
   },
   "outputs": [],
   "source": [
    "rxn = model.reactions.get_by_id('CYSS_trdrd_c')\n",
    "rxn.add_metabolites({model.metabolites.h_c:1},combine=False)"
   ]
  },
  {
   "cell_type": "code",
   "execution_count": 218,
   "metadata": {
    "collapsed": true
   },
   "outputs": [],
   "source": [
    "model.metabolites.get_by_id('tddec2eACP_c').charge = -1"
   ]
  },
  {
   "cell_type": "code",
   "execution_count": 219,
   "metadata": {
    "collapsed": false
   },
   "outputs": [],
   "source": [
    "rxn = model.reactions.get_by_id('MAN1PT2_c')\n",
    "rxn.add_metabolites({model.metabolites.h_c:1},combine=False)"
   ]
  },
  {
   "cell_type": "code",
   "execution_count": 220,
   "metadata": {
    "collapsed": true
   },
   "outputs": [],
   "source": [
    "rxn = model.reactions.get_by_id('CYSDS_c')\n",
    "rxn.add_metabolites({model.metabolites.h_c:0},combine=False)"
   ]
  },
  {
   "cell_type": "code",
   "execution_count": 221,
   "metadata": {
    "collapsed": true
   },
   "outputs": [],
   "source": [
    "rxn = model.reactions.get_by_id('3SALATAi_c')\n",
    "rxn.add_metabolites({model.metabolites.h_c:-1},combine=False)"
   ]
  },
  {
   "cell_type": "code",
   "execution_count": 222,
   "metadata": {
    "collapsed": true
   },
   "outputs": [],
   "source": [
    "model.metabolites.get_by_id('3sala_c').charge = -2"
   ]
  },
  {
   "cell_type": "code",
   "execution_count": 223,
   "metadata": {
    "collapsed": true
   },
   "outputs": [],
   "source": [
    "rxn = model.reactions.get_by_id('ACDO_co_c')\n",
    "rxn.add_metabolites({model.metabolites.h_c:1},combine=False)"
   ]
  },
  {
   "cell_type": "code",
   "execution_count": 224,
   "metadata": {
    "collapsed": true
   },
   "outputs": [],
   "source": [
    "rxn = model.reactions.get_by_id('MTHFR3_c')\n",
    "rxn.add_metabolites({model.metabolites.h_c:-2},combine=False)"
   ]
  },
  {
   "cell_type": "code",
   "execution_count": 225,
   "metadata": {
    "collapsed": true
   },
   "outputs": [],
   "source": [
    "rxn = model.reactions.get_by_id('P5CRx_c')\n",
    "rxn.add_metabolites({model.metabolites.h_c:-2},combine=False)"
   ]
  },
  {
   "cell_type": "code",
   "execution_count": 226,
   "metadata": {
    "collapsed": true
   },
   "outputs": [],
   "source": [
    "rxn = model.reactions.get_by_id('SHCHF_c')\n",
    "rxn.add_metabolites({model.metabolites.h_c:-3},combine=False)"
   ]
  },
  {
   "cell_type": "code",
   "execution_count": 227,
   "metadata": {
    "collapsed": true
   },
   "outputs": [],
   "source": [
    "rxn = model.reactions.get_by_id('ASPO2y_c')\n",
    "rxn.add_metabolites({model.metabolites.h_c:-2},combine=False)"
   ]
  },
  {
   "cell_type": "code",
   "execution_count": 228,
   "metadata": {
    "collapsed": true
   },
   "outputs": [],
   "source": [
    "model.metabolites.get_by_id('2ahethmpp_c').charge = -2\n",
    "model.metabolites.get_by_id('2ahethmpp_c').formula = 'C14H20N4O8P2S'"
   ]
  },
  {
   "cell_type": "code",
   "execution_count": 229,
   "metadata": {
    "collapsed": true
   },
   "outputs": [],
   "source": [
    "model.metabolites.get_by_id('pimACP_c').charge = -1"
   ]
  },
  {
   "cell_type": "code",
   "execution_count": 230,
   "metadata": {
    "collapsed": true
   },
   "outputs": [],
   "source": [
    "model.metabolites.get_by_id('butACP_c').charge = -1"
   ]
  },
  {
   "cell_type": "code",
   "execution_count": 231,
   "metadata": {
    "collapsed": true
   },
   "outputs": [],
   "source": [
    "model.metabolites.get_by_id('3ohexACP_c').charge = -1"
   ]
  },
  {
   "cell_type": "code",
   "execution_count": 232,
   "metadata": {
    "collapsed": true
   },
   "outputs": [],
   "source": [
    "model.metabolites.get_by_id('3hhexACP_c').charge = -1"
   ]
  },
  {
   "cell_type": "code",
   "execution_count": 233,
   "metadata": {
    "collapsed": false
   },
   "outputs": [],
   "source": [
    "model.metabolites.get_by_id('thex2eACP_c').charge = -1"
   ]
  },
  {
   "cell_type": "code",
   "execution_count": 234,
   "metadata": {
    "collapsed": true
   },
   "outputs": [],
   "source": [
    "model.metabolites.get_by_id('3hddecACP_c').charge = -1"
   ]
  },
  {
   "cell_type": "code",
   "execution_count": 235,
   "metadata": {
    "collapsed": true
   },
   "outputs": [],
   "source": [
    "model.metabolites.get_by_id('hexACP_c').charge = -1"
   ]
  },
  {
   "cell_type": "code",
   "execution_count": 236,
   "metadata": {
    "collapsed": true
   },
   "outputs": [],
   "source": [
    "model.metabolites.get_by_id('3ooctACP_c').charge = -1"
   ]
  },
  {
   "cell_type": "code",
   "execution_count": 237,
   "metadata": {
    "collapsed": true
   },
   "outputs": [],
   "source": [
    "model.metabolites.get_by_id('3oddecACP_c').charge = -1"
   ]
  },
  {
   "cell_type": "code",
   "execution_count": 238,
   "metadata": {
    "collapsed": true
   },
   "outputs": [],
   "source": [
    "model.metabolites.get_by_id('dcaACP_c').charge = -1"
   ]
  },
  {
   "cell_type": "code",
   "execution_count": 239,
   "metadata": {
    "collapsed": false
   },
   "outputs": [],
   "source": [
    "for met in model.metabolites:\n",
    "    if met.id.endswith('ACP_c') and met.charge == 0 and met.id != 'apoACP_c':\n",
    "        met.charge = -1"
   ]
  },
  {
   "cell_type": "code",
   "execution_count": 240,
   "metadata": {
    "collapsed": true
   },
   "outputs": [],
   "source": [
    "model.metabolites.get_by_id('xtp_c').charge = -4"
   ]
  },
  {
   "cell_type": "code",
   "execution_count": 241,
   "metadata": {
    "collapsed": true
   },
   "outputs": [],
   "source": [
    "rxn = model.reactions.get_by_id('APLh_c')\n",
    "rxn.add_metabolites({model.metabolites.h_c:0},combine=False)"
   ]
  },
  {
   "cell_type": "code",
   "execution_count": 242,
   "metadata": {
    "collapsed": true
   },
   "outputs": [],
   "source": [
    "rxn = model.reactions.get_by_id('BTNC_c')\n",
    "rxn.add_metabolites({model.metabolites.h_c:1},combine=False)"
   ]
  },
  {
   "cell_type": "code",
   "execution_count": 243,
   "metadata": {
    "collapsed": true
   },
   "outputs": [],
   "source": [
    "rxn = model.reactions.get_by_id('LYSTRS_c')\n",
    "rxn.add_metabolites({model.metabolites.trnalys_c:-1,model.metabolites.MNXM95609_c:0},combine=False)"
   ]
  },
  {
   "cell_type": "code",
   "execution_count": 244,
   "metadata": {
    "collapsed": true
   },
   "outputs": [],
   "source": [
    "model.metabolites.get_by_id('lystrna_c').charge = 2"
   ]
  },
  {
   "cell_type": "code",
   "execution_count": 245,
   "metadata": {
    "collapsed": true
   },
   "outputs": [],
   "source": [
    "model.metabolites.get_by_id('asptrna_c').charge = 0"
   ]
  },
  {
   "cell_type": "code",
   "execution_count": 246,
   "metadata": {
    "collapsed": true
   },
   "outputs": [],
   "source": [
    "rxn = model.reactions.get_by_id('FMETTRS_c')\n",
    "rxn.add_metabolites({model.metabolites.h_c:-1},combine=False)"
   ]
  },
  {
   "cell_type": "code",
   "execution_count": 247,
   "metadata": {
    "collapsed": true
   },
   "outputs": [],
   "source": [
    "model.metabolites.get_by_id('fmettrna_c').charge = 0"
   ]
  },
  {
   "cell_type": "code",
   "execution_count": 248,
   "metadata": {
    "collapsed": true
   },
   "outputs": [],
   "source": [
    "model.metabolites.get_by_id('argtrna_c').charge = 2"
   ]
  },
  {
   "cell_type": "code",
   "execution_count": 249,
   "metadata": {
    "collapsed": true
   },
   "outputs": [],
   "source": [
    "model.metabolites.get_by_id('glutrna_c').charge = 0"
   ]
  },
  {
   "cell_type": "code",
   "execution_count": 250,
   "metadata": {
    "collapsed": true
   },
   "outputs": [],
   "source": [
    "rxn = model.reactions.get_by_id('GLNTRAT_c')\n",
    "rxn.add_metabolites({model.metabolites.h_c:1},combine=False)"
   ]
  },
  {
   "cell_type": "code",
   "execution_count": 251,
   "metadata": {
    "collapsed": false,
    "scrolled": true
   },
   "outputs": [],
   "source": [
    "#model.reactions.get_by_id('ASNTRAT_c').check_mass_balance()"
   ]
  },
  {
   "cell_type": "code",
   "execution_count": 252,
   "metadata": {
    "collapsed": false,
    "scrolled": true
   },
   "outputs": [],
   "source": [
    "#superprint('ASNTRAT_c')"
   ]
  },
  {
   "cell_type": "code",
   "execution_count": 253,
   "metadata": {
    "collapsed": false,
    "scrolled": true
   },
   "outputs": [
    {
     "name": "stdout",
     "output_type": "stream",
     "text": [
      "There are 109 unbalanced reactions and 6 metabolites with a faulty syntax\n",
      "MNXR74047_c {'C': 0, 'H': -1.0, 'charge': -1.0, 'O': 0, 'N': 0, 'P': 0, 'S': 0, 'R': 0}\n",
      "PMETM2_MC_c {'C': 0, 'H': 5.0, 'charge': -1.0, 'O': 0, 'N': 0, 'P': 0, 'S': 0, 'R': 0}\n",
      "PFOR_c {'C': 0, 'H': 0, 'charge': 1.0, 'O': 0, 'N': 0, 'P': 0, 'S': 0, 'R': 0}\n",
      "DM_4hba_c {'C': -7.0, 'H': -8.0, 'charge': 0, 'O': -2.0, 'N': 0, 'P': 0, 'S': 0, 'R': 0}\n",
      "MC_Average_FattyAcid_c {'C': -0.040999999999999426, 'H': -0.05500000000000271, 'charge': -0.0010000000000001154, 'O': 0.0020000000000002308, 'N': 0, 'P': 0, 'S': 0, 'R': 0}\n",
      "DM_doxopa_c {'C': -3, 'H': -2, 'charge': 0, 'O': -4, 'N': 0, 'P': 0, 'S': 0, 'R': 0}\n"
     ]
    }
   ],
   "source": [
    "essential_reactions = model.essential_reactions()\n",
    "unbalanced_list = find_unbalanced_reactions(model)\n",
    "check_and_fix = [x.id for x in essential_reactions if x.id in unbalanced_list[0]]\n",
    "for x in check_and_fix:\n",
    "        print x,unbalanced_list[0][x]"
   ]
  },
  {
   "cell_type": "markdown",
   "metadata": {},
   "source": []
  },
  {
   "cell_type": "code",
   "execution_count": 254,
   "metadata": {
    "collapsed": false,
    "scrolled": true
   },
   "outputs": [
    {
     "name": "stdout",
     "output_type": "stream",
     "text": [
      "MNXR84768_c {'C': 10.0, 'H': 11.0, 'charge': -1.0, 'O': 6.0, 'N': 5.0, 'P': 1.0, 'S': 0, 'R': 0}\n",
      "MNXR84803_c {'C': 0, 'H': 2.0, 'charge': 0, 'O': 0, 'N': 0, 'P': 0, 'S': 0, 'R': 0}\n",
      "MNXR85102_c {'C': 0, 'H': 0, 'charge': -1.0, 'O': 0, 'N': 0, 'P': 0, 'S': 0, 'R': 0}\n",
      "MNXR73874_c {'C': 0, 'H': -1.0, 'charge': -2.0, 'O': 3.0, 'N': 0, 'P': 1.0, 'S': 0, 'R': 0}\n",
      "MNXR73876_c {'C': 0, 'H': -1.0, 'charge': -2.0, 'O': 3.0, 'N': 0, 'P': 1.0, 'S': 0, 'R': 0}\n",
      "MNXR73685_c {'C': 0, 'H': -1.0, 'charge': -1.0, 'O': 0, 'N': 0, 'P': 0, 'S': 0, 'R': 0}\n",
      "MNXR59619_c {'C': 0, 'H': 0, 'charge': 0, 'O': -1.0, 'N': 0, 'P': 0, 'S': 0, 'R': 0}\n",
      "MNXR59368_c {'C': 6.0, 'H': 11.0, 'charge': 1.0, 'O': 5.0, 'N': 0, 'P': 0, 'S': 0, 'R': 0}\n",
      "MNXR74049_c {'C': 0, 'H': -1.0, 'charge': -1.0, 'O': 0, 'N': 0, 'P': 0, 'S': 0, 'R': 0}\n",
      "MNXR85318_c {'C': 0, 'H': 7.0, 'charge': 7.0, 'O': 0, 'N': 0, 'P': 0, 'S': 0, 'R': 0}\n",
      "MNXR59113_c {'C': 5.0, 'H': 7.0, 'charge': 0, 'O': 1.0, 'N': 1.0, 'P': 0, 'S': 0, 'R': 0}\n",
      "MNXR70768_c {'C': 0, 'H': 2.0, 'charge': -4.0, 'O': 0, 'N': 0, 'P': 0, 'S': 0, 'R': 0}\n",
      "MNXR14585_c {'C': 10.0, 'H': 12.0, 'charge': -1.0, 'O': 7.0, 'N': 2.0, 'P': 1.0, 'S': 0, 'R': 0}\n",
      "MNXR73725_c {'C': 6.0, 'H': 10.0, 'charge': 0, 'O': 5.0, 'N': 0, 'P': 0, 'S': 0, 'R': 0}\n",
      "MNXR85100_c {'C': 0, 'H': 1.0, 'charge': -2.0, 'O': 0, 'N': 0, 'P': 0, 'S': 0, 'R': 0}\n",
      "MNXR14583_c {'C': 10.0, 'H': 11.0, 'charge': -1.0, 'O': 6.0, 'N': 5.0, 'P': 1.0, 'S': 0, 'R': 0}\n",
      "DM_4hba_c {'C': -7.0, 'H': -8.0, 'charge': 0, 'O': -2.0, 'N': 0, 'P': 0, 'S': 0, 'R': 0}\n",
      "PFOR_c {'C': 0, 'H': 0, 'charge': 1.0, 'O': 0, 'N': 0, 'P': 0, 'S': 0, 'R': 0}\n",
      "MNXR10316_c {'C': 0, 'H': -3.0, 'charge': -3.0, 'O': 0, 'N': 0, 'P': 0, 'S': 0, 'R': 0}\n",
      "MNXR74431_c {'C': 0, 'H': 0, 'charge': -2.0, 'O': 0, 'N': 0, 'P': 0, 'S': 0, 'R': 0}\n",
      "MNXR17319_c {'C': -5.0, 'H': -5.0, 'charge': -1.0, 'O': -1.0, 'N': -1.0, 'P': 1.0, 'S': 1.0, 'R': 0}\n",
      "MNXR75823_c {'C': 11.0, 'H': 20.0, 'charge': -1.0, 'O': 7.0, 'N': 2.0, 'P': 1.0, 'S': 0, 'R': 0}\n",
      "MNXR84567_c {'C': 0, 'H': 0, 'charge': -1.0, 'O': 0, 'N': 0, 'P': 0, 'S': 0, 'R': 0}\n",
      "MNXR18370_c {'C': -16.0, 'H': -22.0, 'charge': 0, 'O': -1.0, 'N': 0, 'P': 0, 'S': 0, 'R': 0}\n",
      "MNXR17479_c {'C': 0, 'H': 3.0, 'charge': 1.0, 'O': 0, 'N': 0, 'P': 0, 'S': 0, 'R': 0}\n",
      "MNXR76933_c {'C': 0, 'H': 3.0, 'charge': 1.0, 'O': 0, 'N': 0, 'P': 0, 'S': 0, 'R': 0}\n",
      "DM_doxopa_c {'C': -3, 'H': -2, 'charge': 0, 'O': -4, 'N': 0, 'P': 0, 'S': 0, 'R': 0}\n",
      "MNXR86013_c {'C': 0, 'H': -1.0, 'charge': -1.0, 'O': 0, 'N': 0, 'P': 0, 'S': 0, 'R': 0}\n",
      "MNXR59223_c {'C': -5.0, 'H': -8.0, 'charge': 0, 'O': 0, 'N': 0, 'P': 0, 'S': 0, 'R': -1.0}\n",
      "MNXR17476_c {'C': 0, 'H': -2.0, 'charge': 0, 'O': 0, 'N': 0, 'P': 0, 'S': 0, 'R': 0}\n",
      "MNXR75760_c {'C': 0, 'H': 1.0, 'charge': -1.0, 'O': 0, 'N': 0, 'P': 0, 'S': 0, 'R': 0}\n",
      "MNXR84774_c {'C': 9.0, 'H': 10.0, 'charge': -1.0, 'O': 8.0, 'N': 2.0, 'P': 1.0, 'S': 0, 'R': 0}\n",
      "MNXR74048_c {'C': 0, 'H': -1.0, 'charge': -1.0, 'O': 0, 'N': 0, 'P': 0, 'S': 0, 'R': 0}\n",
      "MNXR36005_c {'C': -5.0, 'H': -7.0, 'charge': 0, 'O': -3.0, 'N': -1.0, 'P': 0, 'S': 0, 'R': 0}\n",
      "MNXR74164_c {'C': 0, 'H': 0, 'charge': -1.0, 'O': 0, 'N': 0, 'P': 0, 'S': 0, 'R': 0}\n",
      "MNXR84891_c {'C': 0, 'H': 0, 'charge': -1.0, 'O': 0, 'N': 0, 'P': 0, 'S': 0, 'R': 0}\n",
      "MNXR84814_c {'C': 0, 'H': -6.0, 'charge': -6.0, 'O': 0, 'N': 0, 'P': 0, 'S': 0, 'R': 0}\n",
      "POR_syn_c {'C': 0, 'H': 0, 'charge': -2.0, 'O': 0, 'N': 0, 'P': 0, 'S': 0, 'R': 0}\n",
      "MNXR85631_c {'C': -8.0, 'H': -14.0, 'charge': 0, 'O': -1.0, 'N': -1.0, 'P': 0, 'S': 0, 'R': -1.0, 'X': 1.0}\n",
      "MNXR85427_c {'C': 0, 'H': 1.0, 'charge': 0, 'O': 0, 'N': 0, 'P': 0, 'S': 0, 'R': 0}\n",
      "MNXR74084_c {'C': -6.0, 'H': -13.0, 'charge': -1.0, 'O': 0, 'N': 0, 'P': 0, 'S': 0, 'R': 0}\n",
      "MNXR86014_c {'C': 11.0, 'H': 19.0, 'charge': -2.0, 'O': 7.0, 'N': 2.0, 'P': 1.0, 'S': 0, 'R': 0}\n",
      "MNXR84961_c {'C': 8.0, 'H': 15.0, 'charge': 0, 'O': 1.0, 'N': 1.0, 'P': 0, 'S': 0, 'R': 1.0, 'X': -1.0}\n",
      "MNXR85460_c {'C': 0, 'H': -1.0, 'charge': -1.0, 'O': 0, 'N': 0, 'P': 0, 'S': 0, 'R': 0}\n",
      "ACCOAC_1_c {'C': 0, 'H': 0, 'charge': -1.0, 'O': 0, 'N': 0, 'P': 0, 'S': 0, 'R': 0}\n",
      "MC_Average_FattyAcid_c {'C': -0.040999999999999426, 'H': -0.05500000000000271, 'charge': -0.0010000000000001154, 'O': 0.0020000000000002308, 'N': 0, 'P': 0, 'S': 0, 'R': 0}\n",
      "MNXR84766_c {'C': -10.0, 'H': -11.0, 'charge': 1.0, 'O': -6.0, 'N': -5.0, 'P': -1.0, 'S': 0, 'R': 0}\n",
      "MNXR84773_c {'C': -9.0, 'H': -11.0, 'charge': 1.0, 'O': -7.0, 'N': -3.0, 'P': -1.0, 'S': 0, 'R': 0}\n",
      "MNXR85295_c {'C': 7.0, 'H': 3.0, 'charge': 0, 'O': -4.0, 'N': 0, 'P': -2.0, 'S': 0, 'R': 0}\n",
      "MNXR17318_c {'C': 8.0, 'H': 12.0, 'charge': 0, 'O': 6.0, 'N': 0, 'P': 0, 'S': -1.0, 'R': 0}\n",
      "MNXR84930_c {'C': 0, 'H': -2.0, 'charge': -2.0, 'O': 0, 'N': 0, 'P': 0, 'S': 0, 'R': 0}\n",
      "MNXR17778_c {'C': 0, 'H': 2.0, 'charge': 0, 'O': -1.0, 'N': 0, 'P': 0, 'S': 0, 'R': 0}\n",
      "MNXR85919_c {'C': 0, 'H': -1.0, 'charge': -1.0, 'O': -2.0, 'N': 0, 'P': 0, 'S': 2.0, 'R': 0}\n",
      "MNXR84997_c {'C': 6.0, 'H': 10.0, 'charge': 0, 'O': 5.0, 'N': 0, 'P': 0, 'S': 0, 'R': 0}\n",
      "MNXR73718_c {'C': -86.0, 'H': -143.0, 'charge': -1.0, 'O': -9.0, 'N': 0, 'P': -1.0, 'S': 0, 'R': 0}\n",
      "MNXR70905_c {'C': 0, 'H': 0, 'charge': 2.0, 'O': 0, 'N': 0, 'P': 0, 'S': 0, 'R': 0}\n",
      "MNXR79218_c {'C': 0, 'H': 0, 'charge': 4.0, 'O': 0, 'N': 0, 'P': 0, 'S': 0, 'R': 0}\n",
      "MNXR84771_c {'C': -9.0, 'H': -11.0, 'charge': 1.0, 'O': -7.0, 'N': -3.0, 'P': -1.0, 'S': 0, 'R': 0}\n",
      "EX_cobalt2_c {'C': 0, 'Co': -1.0, 'H': 0, 'charge': -2.0, 'O': 0, 'N': 0, 'P': 0, 'S': 0, 'R': 0}\n",
      "MNXR86022_c {'C': 0, 'H': 0, 'charge': 4.0, 'O': 0, 'N': 0, 'P': 0, 'S': 0, 'R': 0}\n",
      "MNXR70855_c {'C': 0, 'H': 0, 'charge': 2.0, 'O': 0, 'N': 0, 'P': 0, 'S': 0, 'R': 0}\n",
      "MNXR18597_c {'C': 0, 'H': 0, 'charge': 0, 'O': 1.0, 'N': 0, 'P': 0, 'S': 0, 'R': 0}\n",
      "MNXR73920_c {'C': 8.0, 'H': 15.0, 'charge': 1.0, 'O': 1.0, 'N': 1.0, 'P': 0, 'S': 0, 'R': 1.0, 'X': -1.0}\n",
      "MNXR59708_c {'C': 5.0, 'H': 10.0, 'charge': 1.0, 'O': 1.0, 'N': 1.0, 'P': 0, 'S': 0, 'R': 1.0, 'Se': 1.0}\n",
      "MNXR21510_c {'C': 11.0, 'H': 20.0, 'charge': -1.0, 'O': 7.0, 'N': 2.0, 'P': 1.0, 'S': 0, 'R': 0}\n",
      "MNXR15996_c {'C': 0, 'H': 1.0, 'charge': -3.0, 'O': 0, 'N': 0, 'P': 0, 'S': 0, 'R': 0}\n",
      "MNXR74047_c {'C': 0, 'H': -1.0, 'charge': -1.0, 'O': 0, 'N': 0, 'P': 0, 'S': 0, 'R': 0}\n",
      "MNXR85991_c {'C': 0, 'H': -2.0, 'charge': 0, 'O': -1.0, 'N': 0, 'P': 0, 'S': 0, 'R': 0}\n",
      "MNXR84837_c {'C': 0, 'H': -2.0, 'charge': -2.0, 'O': 0, 'N': 0, 'P': 0, 'S': 0, 'R': 0}\n",
      "BTNC_c {'C': 0, 'H': 0, 'charge': 1.0, 'O': 0, 'N': 0, 'P': 0, 'S': 0, 'R': 0}\n",
      "MNXR85034_c {'C': 8.0, 'H': 14.0, 'charge': 0, 'O': 1.0, 'N': 1.0, 'P': 0, 'S': 0, 'R': 1.0, 'X': -1.0}\n",
      "MNXR16250_c {'C': 0, 'H': 0, 'charge': 0, 'O': 1.0, 'N': 0, 'P': 0, 'S': 0, 'R': 0}\n",
      "MNXR73792_c {'C': -2.0, 'H': -4.0, 'charge': -1.0, 'O': -1.0, 'N': -1.0, 'P': 0, 'S': 0, 'R': -1.0}\n",
      "MNXR84802_c {'C': 0, 'H': -11.0, 'charge': -5.0, 'O': 0, 'N': 0, 'P': 0, 'S': 0, 'R': 0}\n",
      "SUCOAS1m_c {'C': 0, 'H': -1.0, 'charge': -1.0, 'O': 0, 'N': 0, 'P': 0, 'S': 0, 'R': 0}\n",
      "MNXR59754_c {'C': 1.0, 'H': -1.0, 'charge': 0, 'O': 2.0, 'N': 0, 'P': 0, 'S': 0, 'R': 0}\n",
      "MNXR60918_c {'C': 0, 'H': 1.0, 'charge': 1.0, 'O': 0, 'N': 0, 'P': 0, 'S': 0, 'R': 0}\n",
      "MNXR85086_c {'C': 1.0, 'H': 2.0, 'charge': 0, 'O': 0, 'N': 0, 'P': 0, 'S': 0, 'R': 0}\n",
      "MNXR84770_c {'C': 10.0, 'H': 11.0, 'charge': -1.0, 'O': 7.0, 'N': 5.0, 'P': 1.0, 'S': 0, 'R': 0}\n",
      "MNXR61040_c {'C': 0, 'H': 0, 'charge': -2.0, 'O': 0, 'N': 0, 'P': 0, 'S': 0, 'R': 0}\n",
      "MNXR84772_c {'C': -10.0, 'H': -11.0, 'charge': 1.0, 'O': -7.0, 'N': -5.0, 'P': -1.0, 'S': 0, 'R': 0}\n",
      "MNXR74445_c {'C': 0, 'H': 0, 'charge': -2.0, 'O': 0, 'N': 0, 'P': 0, 'S': 0, 'R': 0}\n",
      "MNXR18599_c {'C': 0, 'H': 0, 'charge': 1.0, 'O': 1.0, 'N': 0, 'P': 0, 'S': 0, 'R': 0}\n",
      "ASNTRAT_c {'C': 0, 'H': 0, 'charge': 1.0, 'O': 0, 'N': 0, 'P': 0, 'S': 0, 'R': 0}\n",
      "MNXR75060_c {'C': -2.0, 'H': 2.0, 'charge': 0, 'O': -2.0, 'N': 0, 'P': 0, 'S': 0, 'R': -2.0}\n",
      "MNXR59801_c {'C': -6.0, 'H': -10.0, 'charge': 0, 'O': -5.0, 'N': 0, 'P': 0, 'S': 0, 'R': 0}\n",
      "MNXR57061_c {'C': 0, 'H': -4.0, 'charge': -2.0, 'O': 0, 'N': 0, 'P': 0, 'S': 0, 'R': 0}\n",
      "MNXR84769_c {'C': -9.0, 'H': -10.0, 'charge': 1.0, 'O': -8.0, 'N': -2.0, 'P': -1.0, 'S': 0, 'R': 0}\n",
      "MNXR26440_c {'C': 0, 'H': -5.0, 'charge': -5.0, 'O': 0, 'N': 0, 'P': 0, 'S': 0, 'R': 0}\n",
      "MNXR60921_c {'C': 19.0, 'H': 26.0, 'charge': 0, 'O': 4.0, 'N': 0, 'P': 0, 'S': 0, 'R': 0}\n",
      "MNXR85646_c {'C': 0, 'H': 0, 'charge': -2.0, 'O': 0, 'N': 0, 'P': 0, 'S': 0, 'R': 0}\n",
      "MNXR14582_c {'C': 10.0, 'H': 11.0, 'charge': -1.0, 'O': 5.0, 'N': 5.0, 'P': 1.0, 'S': 0, 'R': 0}\n",
      "MNXR59323_c {'C': -6.0, 'H': -10.0, 'charge': 0, 'O': -5.0, 'N': 0, 'P': 0, 'S': 0, 'R': 0}\n",
      "MNXR75548_c {'C': 0, 'H': 1.0, 'charge': 1.0, 'O': 0, 'N': 0, 'P': 0, 'S': 0, 'R': 0}\n",
      "MNXR85317_c {'C': 0, 'H': -30.0, 'charge': -22.0, 'O': 0, 'N': 0, 'P': 0, 'S': 0, 'R': 0}\n",
      "MNXR8683_c {'C': 0, 'H': -3.0, 'charge': -1.0, 'O': 0, 'N': 0, 'P': 0, 'S': 0, 'R': 0}\n",
      "PMETM2_MC_c {'C': 0, 'H': 5.0, 'charge': -1.0, 'O': 0, 'N': 0, 'P': 0, 'S': 0, 'R': 0}\n",
      "MNXR61295_c {'C': -12.0, 'H': -22.0, 'charge': 0, 'O': -11.0, 'N': 0, 'P': 0, 'S': 0, 'R': 0}\n",
      "MNXR14584_c {'C': 9.0, 'H': 11.0, 'charge': -1.0, 'O': 6.0, 'N': 3.0, 'P': 1.0, 'S': 0, 'R': 0}\n",
      "MNXR73919_c {'C': 8.0, 'H': 14.0, 'charge': 0, 'O': 1.0, 'N': 1.0, 'P': 0, 'S': 0, 'R': 1.0, 'X': -1.0}\n",
      "MNXR59755_c {'C': 1.0, 'H': 2.0, 'charge': 0, 'O': 0, 'N': 0, 'P': 0, 'S': 0, 'R': 0}\n",
      "MNXR19023_c {'C': 0, 'H': 2.0, 'charge': 1.0, 'O': -1.0, 'N': 0, 'P': 0, 'S': 0, 'R': 0}\n",
      "MNXR85655_c {'C': 0, 'H': 0, 'charge': 2.0, 'O': 0, 'N': 0, 'P': 0, 'S': -2.0, 'R': 1.0}\n",
      "MNXR85044_c {'C': 0, 'H': -1.0, 'charge': -1.0, 'O': 0, 'N': 0, 'P': 0, 'S': 0, 'R': 0}\n",
      "MNXR61128_c {'C': 0, 'H': 0, 'charge': -1.0, 'O': 0, 'N': 0, 'P': 0, 'S': 0, 'R': 0}\n",
      "MNXR85656_c {'C': 11.0, 'H': 20.0, 'charge': 1.0, 'O': 7.0, 'N': 2.0, 'P': 1.0, 'S': -2.0, 'R': 0}\n",
      "MNXR61041_c {'C': 0, 'H': 0, 'charge': -2.0, 'O': 0, 'N': 0, 'P': 0, 'S': 0, 'R': 0}\n",
      "MNXR75718_c {'C': 11.0, 'H': 19.0, 'charge': -2.0, 'O': 7.0, 'N': 2.0, 'P': 1.0, 'S': 0, 'R': 0}\n",
      "MNXR84920_c {'C': 0, 'H': 0, 'charge': -1.0, 'O': 0, 'N': 0, 'P': 0, 'S': 0, 'R': 0}\n"
     ]
    }
   ],
   "source": [
    "for x in unbalanced_list[0].keys():\n",
    "        print x,unbalanced_list[0][x]"
   ]
  },
  {
   "cell_type": "markdown",
   "metadata": {},
   "source": [
    "### Test if the ratios have improved"
   ]
  },
  {
   "cell_type": "code",
   "execution_count": 255,
   "metadata": {
    "collapsed": false
   },
   "outputs": [
    {
     "data": {
      "text/plain": [
       "-1.0*o2_in_reverse_34f45 + 1.0*o2_in"
      ]
     },
     "execution_count": 255,
     "metadata": {},
     "output_type": "execute_result"
    }
   ],
   "source": [
    "model.objective.expression"
   ]
  },
  {
   "cell_type": "code",
   "execution_count": 256,
   "metadata": {
    "collapsed": true
   },
   "outputs": [],
   "source": [
    "model.objective.direction = 'max'"
   ]
  },
  {
   "cell_type": "code",
   "execution_count": 257,
   "metadata": {
    "collapsed": true
   },
   "outputs": [],
   "source": [
    "model.objective = model.reactions.get_by_id('BIOMASS_REACTION')"
   ]
  },
  {
   "cell_type": "code",
   "execution_count": 258,
   "metadata": {
    "collapsed": false
   },
   "outputs": [
    {
     "name": "stdout",
     "output_type": "stream",
     "text": [
      "nh3_in 7.38136038756\n",
      "so4_in 0.0585567047958\n",
      "pi_in 4.17949182777\n",
      "h_in 16.560573946\n",
      "h2o_in 955.288659916\n",
      "o2_in 27.615468895\n",
      "h_out 1000.0\n",
      "h2o_out 1000.0\n",
      "cbp_out 3.82532919182\n",
      "cmp_out 0.0779734538858\n",
      "pap_out 0.0585567047958\n",
      "MNXM4297_out 0.0972549619372\n",
      "ch4_in 18.405\n",
      "BIOMASS_REACTION 0.333106006006\n"
     ]
    }
   ],
   "source": [
    "solution = show_uptake_excretion(model,model.reactions.get_by_id('BIOMASS_REACTION'))"
   ]
  },
  {
   "cell_type": "markdown",
   "metadata": {},
   "source": [
    "##### They haven't improved and now the model produces 2 side products that shouldn't be produced\n",
    "\n",
    "cmp_out 0.0779734538856\n",
    "\n",
    "pap_out 0.0585567047956"
   ]
  },
  {
   "cell_type": "markdown",
   "metadata": {},
   "source": [
    "Below I am trying to find and fix MNX reactions that carried flux (or looked suspicious). All core reactions should have either been manually curated or imported from BiGG so MNXR Reactions are either lumped reactions, or parallel reactions with the similar chemical substrate groups or cofactors."
   ]
  },
  {
   "cell_type": "code",
   "execution_count": 259,
   "metadata": {
    "collapsed": false
   },
   "outputs": [
    {
     "data": {
      "text/plain": [
       "[('MNXR26374_c', 0.18166602249099695),\n",
       " ('MNXR79509_c', 11.295364729892754),\n",
       " ('MNXR5933_c', 18.404999999999973),\n",
       " ('MNXR85335_c', 18.404999999999973),\n",
       " ('MNXR74048_c', 0.14759260914104289),\n",
       " ('MNXR56251_c', 0.017654618318304657),\n",
       " ('MNXR9750_c', 0.6011730643345163),\n",
       " ('MNXR84805_c', 0.18166602249099695),\n",
       " ('MNXR8072_c', 999.938375388889),\n",
       " ('MNXR5732_c', 0.13823899249238553),\n",
       " ('MNXR14818_c', 0.11991816216206937),\n",
       " ('MNXR14750_c', 0.09725496193721028),\n",
       " ('MNXR18584_c', 1000.0),\n",
       " ('MNXR18726_c', 997.8170650715996),\n",
       " ('MNXR5662_c', 0.13823899249238553),\n",
       " ('MNXR35657_c', 1000.0),\n",
       " ('MNXR6217_c', 0.13823899249238553)]"
      ]
     },
     "execution_count": 259,
     "metadata": {},
     "output_type": "execute_result"
    }
   ],
   "source": [
    "[(k,v) for k,v in solution.fluxes.items() if v >= 0.01 and k.startswith('MNXR')]"
   ]
  },
  {
   "cell_type": "code",
   "execution_count": 260,
   "metadata": {
    "collapsed": false
   },
   "outputs": [
    {
     "name": "stdout",
     "output_type": "stream",
     "text": [
      "MNXR56251_c: h_c + nadh_c + uaccg_c --> nad_c + uamr_c\n"
     ]
    }
   ],
   "source": [
    "rxn = model.reactions.MNXR56251_c\n",
    "print rxn\n",
    "model.remove_reactions([rxn])"
   ]
  },
  {
   "cell_type": "code",
   "execution_count": 261,
   "metadata": {
    "collapsed": true
   },
   "outputs": [],
   "source": [
    "rxn = model.reactions.IPPMIa_c\n",
    "rxn.upper_bound = 1000\n",
    "rxn.lower_bound = -1000"
   ]
  },
  {
   "cell_type": "code",
   "execution_count": 262,
   "metadata": {
    "collapsed": false
   },
   "outputs": [],
   "source": [
    "rxn = model.reactions.IPPMIb_c\n",
    "rxn.upper_bound = 1000\n",
    "rxn.lower_bound = -1000"
   ]
  },
  {
   "cell_type": "code",
   "execution_count": 263,
   "metadata": {
    "collapsed": false
   },
   "outputs": [
    {
     "name": "stdout",
     "output_type": "stream",
     "text": [
      "MNXR6217_c: 3c3hmp_c --> 3c2hmp_c\n"
     ]
    }
   ],
   "source": [
    "rxn = model.reactions.MNXR6217_c\n",
    "print rxn\n",
    "model.remove_reactions([rxn])"
   ]
  },
  {
   "cell_type": "code",
   "execution_count": 264,
   "metadata": {
    "collapsed": false
   },
   "outputs": [
    {
     "name": "stdout",
     "output_type": "stream",
     "text": [
      "MNXR5662_c: 3c2hmp_c + nad_c --> 4mop_c + co2_c + nadh_c\n"
     ]
    }
   ],
   "source": [
    "rxn = model.reactions.MNXR5662_c\n",
    "print rxn\n",
    "model.remove_reactions([rxn])"
   ]
  },
  {
   "cell_type": "code",
   "execution_count": 265,
   "metadata": {
    "collapsed": false
   },
   "outputs": [
    {
     "name": "stdout",
     "output_type": "stream",
     "text": [
      "IPMD_c: 3c4mop_c + h_c + nadh_c --> 3c2hmp_c + nad_c\n",
      "IPMD_c: 3c2hmp_c + nad_c --> 3c4mop_c + h_c + nadh_c\n"
     ]
    }
   ],
   "source": [
    "rxn = model.reactions.IPMD_c\n",
    "print rxn\n",
    "invert_reaction(rxn)\n",
    "print rxn"
   ]
  },
  {
   "cell_type": "markdown",
   "metadata": {},
   "source": [
    "Turns out that the Tetramethanoopterine Pathway of Oxidizing Formaldehyde hadn't been mapped yet. BiGG doesn't have a concise mapping for this pathway so the IDs were adapted from De la Torre et al."
   ]
  },
  {
   "cell_type": "code",
   "execution_count": 266,
   "metadata": {
    "collapsed": false
   },
   "outputs": [
    {
     "name": "stdout",
     "output_type": "stream",
     "text": [
      "MNXR17799_c: fald_c + h4mpt_c --> MNXM667_c + h2o_c\n"
     ]
    }
   ],
   "source": [
    "rxn = model.reactions.MNXR17799_c\n",
    "print rxn\n",
    "rxn.id ='FAE_c'\n",
    "rxn.name = '5,6,7,8-tetrahydromethanopterin hydro-lyase'"
   ]
  },
  {
   "cell_type": "code",
   "execution_count": 267,
   "metadata": {
    "collapsed": false
   },
   "outputs": [],
   "source": [
    "met = model.metabolites.MNXM667_c\n",
    "met.id = '510mh4mpt_c'\n",
    "met.name = '5,10-methylene-tetrahydromethanopterin'"
   ]
  },
  {
   "cell_type": "code",
   "execution_count": 268,
   "metadata": {
    "collapsed": false
   },
   "outputs": [
    {
     "name": "stdout",
     "output_type": "stream",
     "text": [
      "MNXR17800_c: 510mh4mpt_c + nadp_c --> MNXM809_c + nadph_c\n"
     ]
    }
   ],
   "source": [
    "rxn = model.reactions.MNXR17800_c\n",
    "print rxn\n",
    "rxn.id ='MTDB_c'\n",
    "rxn.name = 'nad(p)-dependent methylene h4mpt dehydrogenase'"
   ]
  },
  {
   "cell_type": "code",
   "execution_count": 269,
   "metadata": {
    "collapsed": true
   },
   "outputs": [],
   "source": [
    "met = model.metabolites.MNXM809_c\n",
    "met.id = '510methmpt_c'\n",
    "met.name = '5,10-methenyltetrahydromethanopterin'"
   ]
  },
  {
   "cell_type": "code",
   "execution_count": 270,
   "metadata": {
    "collapsed": false
   },
   "outputs": [
    {
     "name": "stdout",
     "output_type": "stream",
     "text": [
      "MNXR5519_c: 510methmpt_c + h2o_c --> MNXM1436_c + h_c\n"
     ]
    }
   ],
   "source": [
    "rxn = model.reactions.MNXR5519_c\n",
    "print rxn\n",
    "rxn.id ='MCH_c'\n",
    "rxn.name = 'n(5),n(10)-methenyltetrahydromethanopterin cyclohydrolase'"
   ]
  },
  {
   "cell_type": "code",
   "execution_count": 271,
   "metadata": {
    "collapsed": true
   },
   "outputs": [],
   "source": [
    "met = model.metabolites.MNXM1436_c\n",
    "met.id = '5fthmpt_c'\n",
    "met.name = '5-formyl-tetrahydromethanopterin'"
   ]
  },
  {
   "cell_type": "code",
   "execution_count": 272,
   "metadata": {
    "collapsed": false
   },
   "outputs": [
    {
     "name": "stdout",
     "output_type": "stream",
     "text": [
      "MNXR6072_c: 5fthmpt_c + MNXM1050_c --> MNXM1087_c + h4mpt_c + h_c\n"
     ]
    }
   ],
   "source": [
    "rxn = model.reactions.MNXR6072_c\n",
    "print rxn\n",
    "rxn.id = 'FTR_c'\n",
    "rxn.name = 'formylmethanofuran-tetrahydromethanopterin formyltransferase'"
   ]
  },
  {
   "cell_type": "code",
   "execution_count": 273,
   "metadata": {
    "collapsed": true
   },
   "outputs": [],
   "source": [
    "met = model.metabolites.MNXM1050_c\n",
    "met.id = 'mfr_c'\n",
    "met.name = 'methanofuranate'"
   ]
  },
  {
   "cell_type": "code",
   "execution_count": 274,
   "metadata": {
    "collapsed": true
   },
   "outputs": [],
   "source": [
    "met = model.metabolites.MNXM1087_c\n",
    "met.id = 'formmfr_c'\n",
    "met.name = 'N-formylmethanofuran'"
   ]
  },
  {
   "cell_type": "code",
   "execution_count": 275,
   "metadata": {
    "collapsed": false
   },
   "outputs": [
    {
     "name": "stdout",
     "output_type": "stream",
     "text": [
      "MNXR17801_c: formmfr_c + h2o_c --> for_c + mfr_c\n"
     ]
    }
   ],
   "source": [
    "rxn = model.reactions.MNXR17801_c\n",
    "print rxn\n",
    "rxn.id = 'FMFRD_c'\n",
    "rxn.name = 'formylmethanofuran dehydrogenase'"
   ]
  },
  {
   "cell_type": "markdown",
   "metadata": {},
   "source": [
    "For reactions that had no BiGG ID I tried to come up with one."
   ]
  },
  {
   "cell_type": "code",
   "execution_count": 276,
   "metadata": {
    "collapsed": false
   },
   "outputs": [
    {
     "name": "stdout",
     "output_type": "stream",
     "text": [
      "MNXR5732_c: 4mop_c + h_c + nadh_c + nh3_c <=> h2o_c + leu__L_c + nad_c\n"
     ]
    }
   ],
   "source": [
    "rxn = model.reactions.MNXR5732_c\n",
    "print rxn\n",
    "rxn.id ='LLEUDr_c'\n",
    "rxn.name = 'leucine dehydrogenase'\n",
    "rxn.notes['BIGG'] = 'LLEUDr'"
   ]
  },
  {
   "cell_type": "code",
   "execution_count": 277,
   "metadata": {
    "collapsed": false,
    "scrolled": true
   },
   "outputs": [
    {
     "name": "stdout",
     "output_type": "stream",
     "text": [
      "MNXR79509_c: actp_c + g3p_c + h2o_c --> pi_c + xu5p_D_c\n",
      "MNXR79509_c: pi_c + xu5p_D_c --> actp_c + g3p_c + h2o_c\n"
     ]
    }
   ],
   "source": [
    "rxn = model.reactions.MNXR79509_c\n",
    "print rxn\n",
    "invert_reaction(rxn)\n",
    "print rxn\n",
    "rxn.id ='PKL_c'\n",
    "rxn.name = 'Phosphoketolase'\n",
    "rxn.notes['COFACTOR'] = '1 Thiamin Diphosphate'"
   ]
  },
  {
   "cell_type": "code",
   "execution_count": 278,
   "metadata": {
    "collapsed": false
   },
   "outputs": [
    {
     "name": "stdout",
     "output_type": "stream",
     "text": [
      "MNXR5933_c: fald_c + ru5p_D_c <=> MNXM1659_c\n"
     ]
    }
   ],
   "source": [
    "rxn = model.reactions.MNXR5933_c\n",
    "print rxn\n",
    "rxn.id ='HPS_c'\n",
    "rxn.name = '3-hexulose-6-phosphate synthase'\n",
    "rxn.notes['COFACTOR'] = 'Mg2+ or Mn2+'"
   ]
  },
  {
   "cell_type": "code",
   "execution_count": 279,
   "metadata": {
    "collapsed": true
   },
   "outputs": [],
   "source": [
    "met = model.metabolites.MNXM1659_c\n",
    "met.id = 'ah6p__D_c'\n",
    "met.name = 'Arabino-3-hexulose-6-P'\n",
    "met.notes['BIGG'] = 'ah6p__D'"
   ]
  },
  {
   "cell_type": "code",
   "execution_count": 280,
   "metadata": {
    "collapsed": false
   },
   "outputs": [
    {
     "name": "stdout",
     "output_type": "stream",
     "text": [
      "MNXR85335_c: ah6p__D_c <=> f6p_c\n"
     ]
    }
   ],
   "source": [
    "rxn = model.reactions.MNXR85335_c\n",
    "print rxn\n",
    "rxn.id ='PHI_c'\n",
    "rxn.name = '3-hexulose-6-phosphate isomerase'"
   ]
  },
  {
   "cell_type": "code",
   "execution_count": 281,
   "metadata": {
    "collapsed": false
   },
   "outputs": [
    {
     "name": "stdout",
     "output_type": "stream",
     "text": [
      "MNXR1417_c: MNXM109_c + adp_c + h_c --> 12dgr_EC_c + atp_c\n",
      "MNXR1417_c: 12dgr_EC_c + atp_c --> MNXM109_c + adp_c + h_c\n"
     ]
    }
   ],
   "source": [
    "rxn = model.reactions.MNXR1417_c\n",
    "print rxn\n",
    "invert_reaction(rxn)\n",
    "print rxn\n",
    "rxn.lower_bound = 0\n",
    "rxn.upper_bound = 0"
   ]
  },
  {
   "cell_type": "code",
   "execution_count": 282,
   "metadata": {
    "collapsed": false
   },
   "outputs": [
    {
     "name": "stdout",
     "output_type": "stream",
     "text": [
      "MNXR84805_c: MNXM35_c + h2o_c + no2_c --> MNXM24_c + no3_c\n",
      "MNXR84805_c: MNXM24_c + no3_c --> MNXM35_c + h2o_c + no2_c\n"
     ]
    }
   ],
   "source": [
    "rxn = model.reactions.MNXR84805_c\n",
    "print rxn\n",
    "invert_reaction(rxn)\n",
    "print rxn"
   ]
  },
  {
   "cell_type": "code",
   "execution_count": 283,
   "metadata": {
    "collapsed": true
   },
   "outputs": [],
   "source": [
    "rxn.id ='NO3R1bpp_c'\n",
    "rxn.name = 'Nitrate reductase (Ubiquinol-8)'\n",
    "rxn.add_metabolites({model.metabolites.MNXM24_c:0,\n",
    "                     model.metabolites.MNXM35_c:0,\n",
    "                     model.metabolites.q8h2_im:-1,\n",
    "                     model.metabolites.q8_im:1\n",
    "                    },combine=False)"
   ]
  },
  {
   "cell_type": "code",
   "execution_count": 284,
   "metadata": {
    "collapsed": false
   },
   "outputs": [
    {
     "name": "stdout",
     "output_type": "stream",
     "text": [
      "MNXR4097_c: 12dgr_EC_c + pi_c --> MNXM109_c + h2o_c\n"
     ]
    }
   ],
   "source": [
    "rxn = model.reactions.MNXR4097_c\n",
    "print rxn\n",
    "rxn.lower_bound = 0\n",
    "rxn.upper_bound = 0"
   ]
  },
  {
   "cell_type": "code",
   "execution_count": 285,
   "metadata": {
    "collapsed": false
   },
   "outputs": [
    {
     "name": "stdout",
     "output_type": "stream",
     "text": [
      "MNXR8072_c: phe__L_c + pyr_c <=> ala__L_c + phpyr_c\n"
     ]
    }
   ],
   "source": [
    "rxn = model.reactions.MNXR8072_c\n",
    "print rxn\n",
    "rxn.id ='PHEPYRTA_c'\n",
    "rxn.name = 'phenylalanine:pyruvate aminotransferase'"
   ]
  },
  {
   "cell_type": "code",
   "execution_count": 286,
   "metadata": {
    "collapsed": false
   },
   "outputs": [
    {
     "name": "stdout",
     "output_type": "stream",
     "text": [
      "MNXR26374_c: MNXM24_c + fum_c --> MNXM35_c + succ_c\n"
     ]
    }
   ],
   "source": [
    "rxn = model.reactions.MNXR26374_c\n",
    "print rxn\n",
    "model.remove_reactions([rxn])"
   ]
  },
  {
   "cell_type": "code",
   "execution_count": 287,
   "metadata": {
    "collapsed": false
   },
   "outputs": [
    {
     "name": "stdout",
     "output_type": "stream",
     "text": [
      "MNXR14818_c: 3mob_c + h_c + nadh_c + nh3_c --> h2o_c + nad_c + val__L_c\n",
      "MNXR14818_c: h2o_c + nad_c + val__L_c --> 3mob_c + h_c + nadh_c + nh3_c\n"
     ]
    }
   ],
   "source": [
    "rxn = model.reactions.MNXR14818_c\n",
    "print rxn\n",
    "invert_reaction(rxn)\n",
    "print rxn"
   ]
  },
  {
   "cell_type": "code",
   "execution_count": 288,
   "metadata": {
    "collapsed": true
   },
   "outputs": [],
   "source": [
    "rxn.id = 'VALDHr_c'\n",
    "rxn.name = 'Valine dehydrogenase'\n",
    "rxn.notes['BIGG'] = 'VALDHr'"
   ]
  },
  {
   "cell_type": "code",
   "execution_count": 289,
   "metadata": {
    "collapsed": false
   },
   "outputs": [
    {
     "name": "stdout",
     "output_type": "stream",
     "text": [
      "MNXR56274_c: 3dhsk_c + h_c + nadh_c <=> nad_c + skm_c\n"
     ]
    }
   ],
   "source": [
    "rxn = model.reactions.MNXR56274_c\n",
    "print rxn\n",
    "model.remove_reactions([rxn])"
   ]
  },
  {
   "cell_type": "code",
   "execution_count": 290,
   "metadata": {
    "collapsed": false
   },
   "outputs": [
    {
     "name": "stdout",
     "output_type": "stream",
     "text": [
      "MNXR84844_c: 1pyr5c_c + MNXM24_c + h_c --> MNXM35_c + pro__L_c\n",
      "MNXR84844_c: MNXM35_c + pro__L_c --> 1pyr5c_c + MNXM24_c + h_c\n"
     ]
    }
   ],
   "source": [
    "rxn = model.reactions.MNXR84844_c\n",
    "print rxn\n",
    "invert_reaction(rxn)\n",
    "print rxn\n",
    "rxn.id = 'PROD2_c'\n",
    "rxn.name = 'Proline dehydrogenase'\n",
    "rxn.notes['BIGG'] = 'PROD2'\n",
    "rxn.add_metabolites({model.metabolites.MNXM24_c:0,\n",
    "                     model.metabolites.MNXM35_c:0,\n",
    "                     model.metabolites.fad_c:-1,\n",
    "                     model.metabolites.fadh2_c:1\n",
    "                    },combine=False)"
   ]
  },
  {
   "cell_type": "code",
   "execution_count": 291,
   "metadata": {
    "collapsed": false
   },
   "outputs": [
    {
     "name": "stdout",
     "output_type": "stream",
     "text": [
      "MNXR14750_c: ala_D_c + h2o_c + mlthf_c <=> MNXM4297_c + thf_c\n"
     ]
    }
   ],
   "source": [
    "rxn = model.reactions.MNXR14750_c\n",
    "print rxn"
   ]
  },
  {
   "cell_type": "code",
   "execution_count": 292,
   "metadata": {
    "collapsed": false
   },
   "outputs": [
    {
     "name": "stdout",
     "output_type": "stream",
     "text": [
      "AHMT: ala_D_c + h2o_c + mlthf_c <=> MNXM4297_c + thf_c\n",
      "AHMT: MNXM4297_c + thf_c <=> ala_D_c + h2o_c + mlthf_c\n"
     ]
    }
   ],
   "source": [
    "rxn.id = 'AHMT'\n",
    "rxn.name = 'D-alanine 2-hydroxymethyltransferase'\n",
    "print rxn\n",
    "invert_reaction(rxn)\n",
    "print rxn\n",
    "rxn.lower_bound = 0\n",
    "rxn.upper_bound = 1000"
   ]
  },
  {
   "cell_type": "code",
   "execution_count": 293,
   "metadata": {
    "collapsed": true
   },
   "outputs": [],
   "source": [
    "met = model.metabolites.MNXM4297_c\n",
    "met.id = 'mser__L_c'\n",
    "met.name = '2-methyl-L-serine'"
   ]
  },
  {
   "cell_type": "code",
   "execution_count": 294,
   "metadata": {
    "collapsed": false
   },
   "outputs": [
    {
     "name": "stdout",
     "output_type": "stream",
     "text": [
      "MNXR73445_c: h2o_c + o2_c + tyr__L_c <=> 34hpp_c + h2o2_c + nh3_c\n",
      "MNXR73445_c: h2o_c + o2_c + tyr__L_c --> 34hpp_c + h2o2_c + nh3_c\n"
     ]
    }
   ],
   "source": [
    "rxn = model.reactions.MNXR73445_c\n",
    "print rxn\n",
    "rxn.lower_bound = 0\n",
    "rxn.upper_bound = 1000\n",
    "print rxn"
   ]
  },
  {
   "cell_type": "markdown",
   "metadata": {},
   "source": [
    "#### Removal of MNX reactions from the list of essential reactions in addition to finding loops."
   ]
  },
  {
   "cell_type": "code",
   "execution_count": 295,
   "metadata": {
    "collapsed": false
   },
   "outputs": [
    {
     "name": "stdout",
     "output_type": "stream",
     "text": [
      "nh3_in 2.17641573235\n",
      "so4_in 0.0363356328256\n",
      "pi_in 0.219765158334\n",
      "h_in 13.8298521935\n",
      "h2o_in 967.350873121\n",
      "o2_in 27.6124448623\n",
      "h_out 1000.0\n",
      "co2_out 9.24486230648\n",
      "h2o_out 1000.0\n",
      "cmp_out 0.0483841227135\n",
      "pap_out 0.0363356328256\n",
      "ch4_in 18.405\n",
      "BIOMASS_REACTION 0.206699088831\n"
     ]
    }
   ],
   "source": [
    "solution = show_uptake_excretion(model,model.reactions.get_by_id('BIOMASS_REACTION'))"
   ]
  },
  {
   "cell_type": "code",
   "execution_count": 296,
   "metadata": {
    "collapsed": false
   },
   "outputs": [
    {
     "data": {
      "text/plain": [
       "([('SUCOAS_c', 1000.0),\n",
       "  ('ICDHxm_c', 1000.0),\n",
       "  ('NDPK9_c', 1000.0),\n",
       "  ('NDPK1_c', 992.5583418917485),\n",
       "  ('NTPP6_c', 1000.0),\n",
       "  ('ASPO1_c', 1000.0),\n",
       "  ('ALAD__L_c', 1000.0),\n",
       "  ('GLUSx_c', 999.5958991473531),\n",
       "  ('GLUDx_c', 1000.0),\n",
       "  ('PANTS_c', 999.9999338562916),\n",
       "  ('ACKr_c', 1000.0),\n",
       "  ('GLUR_c', 1000.0),\n",
       "  ('ALATA_D_c', 999.989044948292),\n",
       "  ('ALAR_c', 999.9671348448759),\n",
       "  ('GTHS_c', 1000.0),\n",
       "  ('GLUCYS_c', 1000.0),\n",
       "  ('GTHRDHpp_c', 999.9999545262004),\n",
       "  ('AMPTASECG_c', 999.9999545262004),\n",
       "  ('PPDK_c', 1000.0),\n",
       "  ('ME1_c', 998.6992025343636),\n",
       "  ('GLYCTO1_c', 999.9514257141251),\n",
       "  ('DHFR2i_c', 1000.0),\n",
       "  ('DHFR_c', 999.9971062127564),\n",
       "  ('ADCPS1_c', 1000.0),\n",
       "  ('DMPPS_c', 1000.0),\n",
       "  ('DMPPS_syn_c', 999.987139182693),\n",
       "  ('HCO3E_c', 1000.0),\n",
       "  ('PHEPYRTA_c', 999.9617606685663),\n",
       "  ('ADOCBIAH_c', 1000.0),\n",
       "  ('PC_c', 999.4427706747731),\n",
       "  ('MNXR18584_c', 1000.0),\n",
       "  ('DADNK_c', 1000.0),\n",
       "  ('DGNSKm_c', 1000.0),\n",
       "  ('ALCD2y_c', 1000.0),\n",
       "  ('MDHy_c', 1000.0),\n",
       "  ('MNXR35657_c', 999.6794212883724),\n",
       "  ('h2o_in', 967.3508731213743),\n",
       "  ('h_out', 1000.0),\n",
       "  ('h2o_out', 1000.0),\n",
       "  ('NGAM_c', 1000.0)],\n",
       " 40)"
      ]
     },
     "execution_count": 296,
     "metadata": {},
     "output_type": "execute_result"
    }
   ],
   "source": [
    "[(k,v) for k,v in solution.fluxes.items() if v >= 900], len([(k,v) for k,v in solution.fluxes.items() if v >= 900])"
   ]
  },
  {
   "cell_type": "code",
   "execution_count": 297,
   "metadata": {
    "collapsed": false
   },
   "outputs": [
    {
     "name": "stdout",
     "output_type": "stream",
     "text": [
      "ALATA_L_c: glu__L_c + pyr_c <=> akg_c + ala__L_c\n",
      "ALATA_L_c: akg_c + ala__L_c <=> glu__L_c + pyr_c\n"
     ]
    }
   ],
   "source": [
    "rxn = model.reactions.ALATA_L_c\n",
    "print rxn\n",
    "invert_reaction(rxn)\n",
    "print rxn"
   ]
  },
  {
   "cell_type": "code",
   "execution_count": 298,
   "metadata": {
    "collapsed": false
   },
   "outputs": [
    {
     "name": "stdout",
     "output_type": "stream",
     "text": [
      "GLYTA_c: akg_c + gly_c --> glu__L_c + glx_c\n",
      "GLYTA_c: akg_c + gly_c <=> glu__L_c + glx_c\n"
     ]
    }
   ],
   "source": [
    "rxn = model.reactions.GLYTA_c\n",
    "print rxn\n",
    "rxn.lower_bound = -1000\n",
    "print rxn"
   ]
  },
  {
   "cell_type": "code",
   "execution_count": 299,
   "metadata": {
    "collapsed": false
   },
   "outputs": [
    {
     "name": "stdout",
     "output_type": "stream",
     "text": [
      "AGT_c: gly_c + pyr_c --> ala__L_c + glx_c\n",
      "AGT_c: ala__L_c + glx_c <=> gly_c + pyr_c\n"
     ]
    }
   ],
   "source": [
    "rxn = model.reactions.AGT_c\n",
    "print rxn\n",
    "invert_reaction(rxn)\n",
    "rxn.lower_bound = -1000\n",
    "print rxn"
   ]
  },
  {
   "cell_type": "code",
   "execution_count": 300,
   "metadata": {
    "collapsed": false
   },
   "outputs": [
    {
     "name": "stdout",
     "output_type": "stream",
     "text": [
      "ACITL_c: atp_c + cit_c + coa_c <=> accoa_c + adp_c + oaa_c + pi_c\n",
      "ACITL_c: atp_c + cit_c + coa_c --> accoa_c + adp_c + oaa_c + pi_c\n"
     ]
    }
   ],
   "source": [
    "rxn = model.reactions.ACITL_c\n",
    "print rxn\n",
    "rxn.lower_bound = 0\n",
    "print rxn"
   ]
  },
  {
   "cell_type": "code",
   "execution_count": 301,
   "metadata": {
    "collapsed": false
   },
   "outputs": [
    {
     "name": "stdout",
     "output_type": "stream",
     "text": [
      "PFK_ppi_c: fdp_c + h_c + pi_c <=> f6p_c + ppi_c\n",
      "PFK_ppi_c: f6p_c + ppi_c <=> fdp_c + h_c + pi_c\n"
     ]
    }
   ],
   "source": [
    "rxn = model.reactions.PFK_ppi_c\n",
    "print rxn\n",
    "invert_reaction(rxn)\n",
    "print rxn"
   ]
  },
  {
   "cell_type": "code",
   "execution_count": 302,
   "metadata": {
    "collapsed": false
   },
   "outputs": [
    {
     "name": "stdout",
     "output_type": "stream",
     "text": [
      "DADNK_c: adp_c + damp_c + h_c --> atp_c + dad_2_c\n",
      "DADNK_c: atp_c + dad_2_c --> adp_c + damp_c + h_c\n"
     ]
    }
   ],
   "source": [
    "rxn = model.reactions.DADNK_c\n",
    "print rxn\n",
    "invert_reaction(rxn)\n",
    "print rxn"
   ]
  },
  {
   "cell_type": "code",
   "execution_count": 303,
   "metadata": {
    "collapsed": false
   },
   "outputs": [
    {
     "name": "stdout",
     "output_type": "stream",
     "text": [
      "DHFR_c: nadp_c + thf_c --> dhf_c + h_c + nadph_c\n",
      "DHFR_c: dhf_c + h_c + nadph_c --> nadp_c + thf_c\n"
     ]
    }
   ],
   "source": [
    "rxn = model.reactions.DHFR_c\n",
    "print rxn\n",
    "invert_reaction(rxn)\n",
    "print rxn"
   ]
  },
  {
   "cell_type": "code",
   "execution_count": 304,
   "metadata": {
    "collapsed": false
   },
   "outputs": [
    {
     "name": "stdout",
     "output_type": "stream",
     "text": [
      "ASNS2_c: amp_c + asn__L_c + h_c + ppi_c <=> asp__L_c + atp_c + nh3_c\n",
      "ASNS2_c: asp__L_c + atp_c + nh3_c --> amp_c + asn__L_c + h_c + ppi_c\n"
     ]
    }
   ],
   "source": [
    "rxn = model.reactions.ASNS2_c\n",
    "print rxn\n",
    "invert_reaction(rxn)\n",
    "rxn.lower_bound = 0\n",
    "print rxn"
   ]
  },
  {
   "cell_type": "code",
   "execution_count": 305,
   "metadata": {
    "collapsed": false
   },
   "outputs": [
    {
     "name": "stdout",
     "output_type": "stream",
     "text": [
      "ASNN_c: asp__L_c + nh3_c --> asn__L_c + h2o_c\n",
      "ASNN_c: asn__L_c + h2o_c --> asp__L_c + nh3_c\n"
     ]
    }
   ],
   "source": [
    "rxn = model.reactions.ASNN_c\n",
    "print rxn\n",
    "invert_reaction(rxn)\n",
    "print rxn"
   ]
  },
  {
   "cell_type": "code",
   "execution_count": 306,
   "metadata": {
    "collapsed": false
   },
   "outputs": [
    {
     "name": "stdout",
     "output_type": "stream",
     "text": [
      "ACKr_c: actp_c + adp_c --> ac_c + atp_c\n",
      "ACKr_c: ac_c + atp_c --> actp_c + adp_c\n"
     ]
    }
   ],
   "source": [
    "rxn = model.reactions.ACKr_c\n",
    "print rxn\n",
    "invert_reaction(rxn)\n",
    "print rxn"
   ]
  },
  {
   "cell_type": "code",
   "execution_count": 307,
   "metadata": {
    "collapsed": false
   },
   "outputs": [
    {
     "name": "stdout",
     "output_type": "stream",
     "text": [
      "ASPTA_c: glu__L_c + oaa_c <=> akg_c + asp__L_c\n",
      "ASPTA_c: akg_c + asp__L_c <=> glu__L_c + oaa_c\n"
     ]
    }
   ],
   "source": [
    "rxn = model.reactions.ASPTA_c\n",
    "print rxn\n",
    "invert_reaction(rxn)\n",
    "print rxn"
   ]
  },
  {
   "cell_type": "code",
   "execution_count": 308,
   "metadata": {
    "collapsed": false
   },
   "outputs": [
    {
     "name": "stdout",
     "output_type": "stream",
     "text": [
      "ILETA_c: 3mop_c + glu__L_c --> akg_c + ile__L_c\n",
      "ILETA_c: akg_c + ile__L_c <=> 3mop_c + glu__L_c\n"
     ]
    }
   ],
   "source": [
    "rxn = model.reactions.ILETA_c\n",
    "print rxn\n",
    "invert_reaction(rxn)\n",
    "rxn.lower_bound = -1000\n",
    "print rxn"
   ]
  },
  {
   "cell_type": "code",
   "execution_count": 309,
   "metadata": {
    "collapsed": false
   },
   "outputs": [
    {
     "name": "stdout",
     "output_type": "stream",
     "text": [
      "GLYCTO1_c: glx_c + h2o2_c --> glyclt_c + o2_c\n",
      "GLYCTO1_c: glyclt_c + o2_c --> glx_c + h2o2_c\n"
     ]
    }
   ],
   "source": [
    "rxn = model.reactions.GLYCTO1_c\n",
    "print rxn\n",
    "invert_reaction(rxn)\n",
    "print rxn"
   ]
  },
  {
   "cell_type": "code",
   "execution_count": 310,
   "metadata": {
    "collapsed": false
   },
   "outputs": [
    {
     "name": "stdout",
     "output_type": "stream",
     "text": [
      "ORNTAC_c: acglu_c + orn_c --> acorn_c + glu__L_c\n",
      "ORNTAC_c: acorn_c + glu__L_c --> acglu_c + orn_c\n"
     ]
    }
   ],
   "source": [
    "rxn = model.reactions.ORNTAC_c\n",
    "print rxn\n",
    "invert_reaction(rxn)\n",
    "print rxn"
   ]
  },
  {
   "cell_type": "code",
   "execution_count": 311,
   "metadata": {
    "collapsed": false
   },
   "outputs": [
    {
     "name": "stdout",
     "output_type": "stream",
     "text": [
      "PANTS_c: amp_c + h_c + pnto_R_c + ppi_c --> ala_B_c + atp_c + pant_R_c\n",
      "PANTS_c: ala_B_c + atp_c + pant_R_c --> amp_c + h_c + pnto_R_c + ppi_c\n"
     ]
    }
   ],
   "source": [
    "rxn = model.reactions.PANTS_c\n",
    "print rxn\n",
    "invert_reaction(rxn)\n",
    "print rxn"
   ]
  },
  {
   "cell_type": "code",
   "execution_count": 312,
   "metadata": {
    "collapsed": false
   },
   "outputs": [
    {
     "name": "stdout",
     "output_type": "stream",
     "text": [
      "GTPOPm_c: gtp_c + pyr_c <=> gdp_c + h_c + pep_c\n",
      "GTPOPm_c: gdp_c + h_c + pep_c <=> gtp_c + pyr_c\n"
     ]
    }
   ],
   "source": [
    "rxn = model.reactions.GTPOPm_c\n",
    "print rxn\n",
    "invert_reaction(rxn)\n",
    "print rxn"
   ]
  },
  {
   "cell_type": "code",
   "execution_count": 313,
   "metadata": {
    "collapsed": false
   },
   "outputs": [
    {
     "name": "stdout",
     "output_type": "stream",
     "text": [
      "GLUKA_c: adp_c + g6p_A_c + h_c --> Glc_aD_c + atp_c\n",
      "GLUKA_c: Glc_aD_c + atp_c <=> adp_c + g6p_A_c + h_c\n"
     ]
    }
   ],
   "source": [
    "rxn = model.reactions.GLUKA_c\n",
    "print rxn\n",
    "rxn.lower_bound = -1000\n",
    "invert_reaction(rxn)\n",
    "print rxn"
   ]
  },
  {
   "cell_type": "code",
   "execution_count": 314,
   "metadata": {
    "collapsed": false
   },
   "outputs": [
    {
     "name": "stdout",
     "output_type": "stream",
     "text": [
      "ACS_c: accoa_c + amp_c + ppi_c --> ac_c + atp_c + coa_c\n",
      "ACS_c: ac_c + atp_c + coa_c --> accoa_c + amp_c + ppi_c\n"
     ]
    }
   ],
   "source": [
    "rxn = model.reactions.ACS_c\n",
    "print rxn\n",
    "rxn.lower_bound = 0\n",
    "invert_reaction(rxn)\n",
    "print rxn"
   ]
  },
  {
   "cell_type": "code",
   "execution_count": 315,
   "metadata": {
    "collapsed": false
   },
   "outputs": [
    {
     "name": "stdout",
     "output_type": "stream",
     "text": [
      "MNXR74047_c: cdp_c + 2.0 h_c + tagdp_D_c <=> ctp_c + tag6p_D_c\n"
     ]
    }
   ],
   "source": [
    "rxn = model.reactions.MNXR74047_c\n",
    "print rxn"
   ]
  },
  {
   "cell_type": "code",
   "execution_count": 316,
   "metadata": {
    "collapsed": false
   },
   "outputs": [
    {
     "data": {
      "text/plain": [
       "[<Reaction MNXR79510_c at 0x114186850>, <Reaction MNXR74047_c at 0x114155e50>]"
      ]
     },
     "execution_count": 316,
     "metadata": {},
     "output_type": "execute_result"
    }
   ],
   "source": [
    "essential_reactions = model.essential_reactions()\n",
    "[x for x in essential_reactions if x.id.startswith('MNXR')]"
   ]
  },
  {
   "cell_type": "code",
   "execution_count": 317,
   "metadata": {
    "collapsed": false
   },
   "outputs": [
    {
     "name": "stdout",
     "output_type": "stream",
     "text": [
      "MNXR79510_c: r5p_c + xu5p_D_c <=> g3p_c + s7p_c\n",
      "TKT1_c: r5p_c + xu5p_D_c <=> g3p_c + s7p_c\n"
     ]
    }
   ],
   "source": [
    "rxn = model.reactions.MNXR79510_c\n",
    "print rxn\n",
    "rxn.id = 'TKT1_c'\n",
    "rxn.name = 'Transketolase'\n",
    "rxn.notes['BIGG'] = 'TKT1'\n",
    "print rxn"
   ]
  },
  {
   "cell_type": "code",
   "execution_count": 318,
   "metadata": {
    "collapsed": false
   },
   "outputs": [
    {
     "name": "stdout",
     "output_type": "stream",
     "text": [
      "MNXR6078_c: h2o_c + pnto_R_c <=> ala_B_c + pant_R_c\n",
      "PAH_c: h2o_c + pnto_R_c <=> ala_B_c + pant_R_c\n"
     ]
    }
   ],
   "source": [
    "rxn = model.reactions.MNXR6078_c\n",
    "print rxn\n",
    "rxn.id = 'PAH_c'\n",
    "rxn.name = '(R)-pantothenate amidohydrolase, Panthothenase'\n",
    "print rxn"
   ]
  },
  {
   "cell_type": "code",
   "execution_count": 319,
   "metadata": {
    "collapsed": false
   },
   "outputs": [
    {
     "name": "stdout",
     "output_type": "stream",
     "text": [
      "MNXR74047_c: cdp_c + 2.0 h_c + tagdp_D_c <=> ctp_c + tag6p_D_c\n"
     ]
    }
   ],
   "source": [
    "rxn = model.reactions.MNXR74047_c\n",
    "print rxn"
   ]
  },
  {
   "cell_type": "code",
   "execution_count": 320,
   "metadata": {
    "collapsed": false
   },
   "outputs": [
    {
     "name": "stdout",
     "output_type": "stream",
     "text": [
      "PFK_adp_c: amp_c + fdp_c + h_c <=> adp_c + f6p_c\n",
      "PFK_adp_c: adp_c + f6p_c <=> amp_c + fdp_c + h_c\n"
     ]
    }
   ],
   "source": [
    "rxn = model.reactions.PFK_adp_c\n",
    "print rxn\n",
    "invert_reaction(rxn)\n",
    "print rxn\n",
    "rxn.lower_bound = 0"
   ]
  },
  {
   "cell_type": "code",
   "execution_count": 321,
   "metadata": {
    "collapsed": false
   },
   "outputs": [
    {
     "name": "stdout",
     "output_type": "stream",
     "text": [
      "PFK_2_c: adp_c + h_c + tagdp_D_c <=> atp_c + tag6p_D_c\n",
      "PFK_2_c: atp_c + tag6p_D_c <=> adp_c + h_c + tagdp_D_c\n"
     ]
    }
   ],
   "source": [
    "rxn = model.reactions.PFK_2_c\n",
    "print rxn\n",
    "invert_reaction(rxn)\n",
    "print rxn"
   ]
  },
  {
   "cell_type": "code",
   "execution_count": 322,
   "metadata": {
    "collapsed": false
   },
   "outputs": [
    {
     "name": "stdout",
     "output_type": "stream",
     "text": [
      "CTPS1_c: adp_c + ctp_c + 2.0 h_c + pi_c --> atp_c + nh3_c + utp_c\n",
      "CTPS1_c: atp_c + nh3_c + utp_c --> adp_c + ctp_c + 2.0 h_c + pi_c\n"
     ]
    }
   ],
   "source": [
    "rxn = model.reactions.CTPS1_c\n",
    "print rxn\n",
    "invert_reaction(rxn)\n",
    "print rxn"
   ]
  },
  {
   "cell_type": "code",
   "execution_count": 323,
   "metadata": {
    "collapsed": false
   },
   "outputs": [
    {
     "name": "stdout",
     "output_type": "stream",
     "text": [
      "CYTK1_c: adp_c + cdp_c --> atp_c + cmp_c\n",
      "CYTK1_c: adp_c + cdp_c <=> atp_c + cmp_c\n"
     ]
    }
   ],
   "source": [
    "rxn = model.reactions.CYTK1_c\n",
    "print rxn\n",
    "rxn.lower_bound = -1000\n",
    "print rxn"
   ]
  },
  {
   "cell_type": "code",
   "execution_count": 324,
   "metadata": {
    "collapsed": false
   },
   "outputs": [],
   "source": [
    "Unused_BM_rxns = [x for x in model.reactions if x.id.endswith('_bm')]"
   ]
  },
  {
   "cell_type": "code",
   "execution_count": 325,
   "metadata": {
    "collapsed": true
   },
   "outputs": [],
   "source": [
    "model.remove_reactions(Unused_BM_rxns,remove_orphans=True)"
   ]
  },
  {
   "cell_type": "code",
   "execution_count": 326,
   "metadata": {
    "collapsed": false
   },
   "outputs": [],
   "source": [
    "model.metabolites.atp_bm.remove_from_model()"
   ]
  },
  {
   "cell_type": "code",
   "execution_count": 327,
   "metadata": {
    "collapsed": true
   },
   "outputs": [],
   "source": [
    "model.metabolites.adp_bm.remove_from_model()\n",
    "model.metabolites.pi_bm.remove_from_model()"
   ]
  },
  {
   "cell_type": "markdown",
   "metadata": {},
   "source": [
    "#### Removal of unreported side-products"
   ]
  },
  {
   "cell_type": "code",
   "execution_count": 328,
   "metadata": {
    "collapsed": true
   },
   "outputs": [],
   "source": [
    "rxn = Reaction('BPNT_c')\n",
    "rxn.add_metabolites({model.metabolites.h2o_c:-1,\n",
    "                    model.metabolites.pap_c:-1,\n",
    "                    model.metabolites.amp_c:1,\n",
    "                    model.metabolites.pi_c:1})\n",
    "rxn.name = '3,5-bisphosphate nucleotidase'\n",
    "rxn.id = 'BPNT_c'\n",
    "rxn.notes = {'RHEA':[10040,10041,10042,10043],'KEGG':['R00188'],'MXNREF':['MNXR965'],'EC NUMBER': ['3.1.3.7'],\n",
    "            'GENE ASSOCIATION':['MCA2983'],'METACYC':['META:325-BISPHOSPHATE-NUCLEOTIDASE-RXN'],'BIGG': ['BPNT']}\n",
    "rxn.gene_reaction_rule = 'MCA2983'"
   ]
  },
  {
   "cell_type": "code",
   "execution_count": 329,
   "metadata": {
    "collapsed": false
   },
   "outputs": [
    {
     "name": "stdout",
     "output_type": "stream",
     "text": [
      "{'KEGG': ['R00188'], 'EC NUMBER': ['3.1.3.7'], 'GENE ASSOCIATION': ['MCA2983'], 'MXNREF': ['MNXR965'], 'RHEA': [10040, 10041, 10042, 10043], 'BIGG': ['BPNT'], 'METACYC': ['META:325-BISPHOSPHATE-NUCLEOTIDASE-RXN']}\n"
     ]
    }
   ],
   "source": [
    "print rxn.notes"
   ]
  },
  {
   "cell_type": "code",
   "execution_count": 330,
   "metadata": {
    "collapsed": true
   },
   "outputs": [],
   "source": [
    "model.add_reaction(rxn)"
   ]
  },
  {
   "cell_type": "markdown",
   "metadata": {},
   "source": [
    "## Nitrogen Metabolism Corrected/Added"
   ]
  },
  {
   "cell_type": "markdown",
   "metadata": {},
   "source": [
    "In Type I methanotrophs grown on medium containing ammonia, the **reductive amination of pyruvate (via alanine dehydrogenase (in M. capsulatus Bath)** or **alpha-ketoglutarate (via glutamate dehydrogenase)** was prevalent under high ammonia growth conditions. In contrast, when grown under ammonium limitation (<0.5 mM) or on medium containing nitrate (in the absence of ammonium) these methanotrophs assimilated ammonia via the **glutamate cycle**. **Four predicted ammonium transporters** have been identified in the genome of M. capsulatus Bath (Murrell and Dalton, 1983a; Trotsenko and Murrell, 2008).\n",
    "\n",
    "Type II (alphaproteobacterial) methanotrophs use the glutamate cycle and the enzymes glutamine synthetase (GS) and the glutamine-oxoglutarate amidotransferase (GOGAT, also known as glutamate synthase).\n",
    "\n",
    "http://methanotroph.org/wiki/metabolic-pathways/\n",
    "\n",
    "\n",
    "---------------------\n",
    "\n",
    "Ammonia assimilation was studied using continuous cultures of three obligate methanotrophs. The type X organism, Methylococcus capsulatus (Bath), assimilated ammonia during growth on dinitrogen or nitrate via the glutamine synthetase/glutamate synthase pathway but utilized the alanine dehydrogenase pathway when grown in the presence of excess ammonia. Repression and derepression of these ammonia assimilation enzymes was demonstrated during the switch- over of continuous cultures from nitrogen-free (N2-fixing) medium to medium containing high concentrations of ammonia. The properties of alanine dehydrogenase and glutamate synthase in this organism are discussed.\n",
    "\n",
    "Murrell, J. C., & Dalton, H. (1983). Ammonia Assimilation in Methylococcus-Capsulatus (Bath) and Other Obligate Methanotrophs. Journal of General Microbiology, 129(1 983), 1197–1206. doi:10.1099/00221287-129-4-1197"
   ]
  },
  {
   "cell_type": "code",
   "execution_count": 331,
   "metadata": {
    "collapsed": false
   },
   "outputs": [
    {
     "name": "stdout",
     "output_type": "stream",
     "text": [
      "ALAD__L_c: ala__L_c + h2o_c + nad_c --> h_c + nadh_c + nh3_c + pyr_c\n",
      "ALAD__L_c: h_c + nadh_c + nh3_c + pyr_c --> ala__L_c + h2o_c + nad_c\n"
     ]
    }
   ],
   "source": [
    "# Alanine Dehydrogenase inversion\n",
    "rxn = model.reactions.ALAD__L_c\n",
    "print rxn\n",
    "invert_reaction(rxn)\n",
    "print rxn"
   ]
  },
  {
   "cell_type": "code",
   "execution_count": 332,
   "metadata": {
    "collapsed": false
   },
   "outputs": [
    {
     "name": "stdout",
     "output_type": "stream",
     "text": [
      "GLNS_c: adp_c + gln__L_c + h_c + pi_c --> atp_c + glu__L_c + nh3_c\n",
      "GLNS_c: atp_c + glu__L_c + nh3_c --> adp_c + gln__L_c + h_c + pi_c\n"
     ]
    }
   ],
   "source": [
    "# Glutamate Cycle\n",
    "rxn = model.reactions.GLNS_c\n",
    "print rxn\n",
    "invert_reaction(rxn)\n",
    "print rxn"
   ]
  },
  {
   "cell_type": "code",
   "execution_count": 333,
   "metadata": {
    "collapsed": false
   },
   "outputs": [
    {
     "name": "stdout",
     "output_type": "stream",
     "text": [
      "GLUDx_c: akg_c + h_c + nadh_c + nh3_c --> glu__L_c + h2o_c + nad_c\n",
      "GLUDx_c: glu__L_c + h2o_c + nad_c --> akg_c + h_c + nadh_c + nh3_c\n"
     ]
    }
   ],
   "source": [
    "rxn = model.reactions.GLUDx_c\n",
    "print rxn\n",
    "invert_reaction(rxn)\n",
    "print rxn"
   ]
  },
  {
   "cell_type": "markdown",
   "metadata": {},
   "source": [
    "### Oxidation of Ammonia"
   ]
  },
  {
   "cell_type": "markdown",
   "metadata": {},
   "source": [
    "soluble MMO (functioning as an AMO)"
   ]
  },
  {
   "cell_type": "code",
   "execution_count": 334,
   "metadata": {
    "collapsed": false
   },
   "outputs": [
    {
     "name": "stdout",
     "output_type": "stream",
     "text": [
      "{}\n",
      "AMOs\n"
     ]
    }
   ],
   "source": [
    "rxn = Reaction('AMOs')\n",
    "rxn.name = 'soluble ammonia monooxygenase'\n",
    "rxn.subsystem = 'ec00910:Nitrogen metabolism,ec01120:Microbial metabolism in diverse environments'\n",
    "rxn.notes['SUBSYSTEM'] = ['ec00910:Nitrogen metabolism,ec01120:Microbial metabolism in diverse environments']\n",
    "rxn.lower_bound = 0.\n",
    "rxn.upper_bound = 1000.\n",
    "# Confidence Score\n",
    "rxn.notes.update({'CONFIDENCE SCORE':['4']})\n",
    "# Localization\n",
    "rxn.notes.update({'LOCALIZATION':['Cytosol']})\n",
    "# EC number from KEGG\n",
    "rxn.notes.update({'EC Number':['1.14.99.39']})\n",
    "# Gene-Reaction-Rule update based on KEGG (using the old locus tags for now)\n",
    "rxn.notes.update({'GENE ASSOCIATION': ['( MCA1194 and MCA1195 and MCA1198 and MCA1196 and MCA1200 and MCA1202 and MCA1205 )']})\n",
    "rxn.gene_reaction_rule = '( MCA1194 and MCA1195 and MCA1198 and MCA1196 and MCA1200 and MCA1202 and MCA1205 )'\n",
    "# Substrate and cofactor usage from BRENDA\n",
    "rxn.notes.update({'COFACTOR':['dinuclear FeIV cluster, NADH']})\n",
    "# NADH - As suggested by 10.1146/annurev.biochem.76.061505.175355\n",
    "# Inhibitor from BRENDA\n",
    "rxn.notes.update({'INHIBITOR':['Cu2+']})\n",
    "# Check if RXN is mass and charge balanced!\n",
    "print (rxn.check_mass_balance())\n",
    "# Check RXN-Directionality \n",
    "print rxn\n",
    "# Update ID to BiGG\n",
    "rxn.id = 'AMOs_c'\n",
    "rxn.add_metabolites({model.metabolites.nh3_c: -1.0,\n",
    "                          model.metabolites.o2_c: -1.0,\n",
    "                          model.metabolites.nadh_c: -1.0,\n",
    "                          model.metabolites.ham_c: 1.0,\n",
    "                          model.metabolites.h2o_c: 1.0,\n",
    "                          model.metabolites.nad_c: 1.0})\n",
    "model.add_reaction(rxn)"
   ]
  },
  {
   "cell_type": "markdown",
   "metadata": {},
   "source": [
    "particulate MMO (functioning as an AMO)"
   ]
  },
  {
   "cell_type": "code",
   "execution_count": 335,
   "metadata": {
    "collapsed": true
   },
   "outputs": [],
   "source": [
    "# Add nitric oxide-Metabolite in the Periplasm\n",
    "no_p = model.metabolites.no_c.copy()\n",
    "no_p.compartment = 'p'\n",
    "no_p.id = 'no_p'"
   ]
  },
  {
   "cell_type": "code",
   "execution_count": 336,
   "metadata": {
    "collapsed": true
   },
   "outputs": [],
   "source": [
    "# Add Dinitrogen Oxide-Metabolite in the Periplasm\n",
    "n2o_p = model.metabolites.n2o_c.copy()\n",
    "n2o_p.compartment = 'p'\n",
    "n2o_p.id = 'n2o_p'"
   ]
  },
  {
   "cell_type": "code",
   "execution_count": 337,
   "metadata": {
    "collapsed": true
   },
   "outputs": [],
   "source": [
    "# Add Nitrate-Metabolite in the Periplasm\n",
    "no3_p = model.metabolites.no3_c.copy()\n",
    "no3_p.compartment = 'p'\n",
    "no3_p.id = 'no3_p'"
   ]
  },
  {
   "cell_type": "code",
   "execution_count": 338,
   "metadata": {
    "collapsed": true
   },
   "outputs": [],
   "source": [
    "# Add Ammonia-Metabolite in the Periplasm\n",
    "nh3_p = model.metabolites.nh3_c.copy()\n",
    "nh3_p.compartment = 'p'\n",
    "nh3_p.id = 'nh3_p'"
   ]
  },
  {
   "cell_type": "code",
   "execution_count": 339,
   "metadata": {
    "collapsed": true
   },
   "outputs": [],
   "source": [
    "# Add Hydroxylamine-Metabolite in the Periplasm\n",
    "ham_p = model.metabolites.ham_c.copy()\n",
    "ham_p.compartment = 'p'\n",
    "ham_p.id = 'ham_p'"
   ]
  },
  {
   "cell_type": "code",
   "execution_count": 340,
   "metadata": {
    "collapsed": false
   },
   "outputs": [],
   "source": [
    "model.add_metabolites([nh3_p,ham_p,no_p,no3_p,n2o_p])"
   ]
  },
  {
   "cell_type": "code",
   "execution_count": 341,
   "metadata": {
    "collapsed": false
   },
   "outputs": [
    {
     "name": "stdout",
     "output_type": "stream",
     "text": [
      "{}\n",
      "AMOp\n"
     ]
    }
   ],
   "source": [
    "rxn = Reaction('AMOp')\n",
    "rxn.name = 'particulate ammonia monooxygenase'\n",
    "rxn.subsystem = 'ec00910:Nitrogen metabolism,ec01120:Microbial metabolism in diverse environments'\n",
    "rxn.notes['SUBSYSTEM'] = ['ec00910:Nitrogen metabolism,ec01120:Microbial metabolism in diverse environments']\n",
    "rxn.lower_bound = 0.\n",
    "rxn.upper_bound = 1000.\n",
    "# Confidence Score\n",
    "rxn.notes.update({'CONFIDENCE SCORE':['4']})\n",
    "# Localization\n",
    "rxn.notes.update({'LOCALIZATION':['Inner Membrane']})\n",
    "# EC number from KEGG\n",
    "rxn.notes.update({'EC Number':['1.14.99.39']})\n",
    "# Gene-Reaction-Rule update based on KEGG (using the old locus tags for now)\n",
    "rxn.notes.update({'GENE ASSOCIATION': ['(((MCA1796 and MCA1797 and MCA1798) or (MCA2853 and MCA2854 and MCA2855)) and MCA0295)']})\n",
    "rxn.gene_reaction_rule = '(((MCA1796 and MCA1797 and MCA1798) or (MCA2853 and MCA2854 and MCA2855)) and MCA0295)'\n",
    "# Substrate and cofactor usage from BRENDA\n",
    "rxn.notes.update({'COFACTOR':['2 Cu2+, 1-2 Fe']})\n",
    "# NADH - As suggested by 10.1146/annurev.biochem.76.061505.175355\n",
    "# Inhibitor from BRENDA\n",
    "rxn.notes.update({'INHIBITOR':['']})\n",
    "# Check if RXN is mass and charge balanced!\n",
    "print (rxn.check_mass_balance())\n",
    "# Check RXN-Directionality \n",
    "print rxn\n",
    "# Update ID to BiGG\n",
    "rxn.id = 'AMOp_im'\n",
    "rxn.add_metabolites({model.metabolites.nh3_p: -1.0,\n",
    "                          model.metabolites.o2_p: -1.0,\n",
    "                          model.metabolites.q8h2_im: -1.0,\n",
    "                          model.metabolites.ham_p: 1.0,\n",
    "                          model.metabolites.h2o_p: 1.0,\n",
    "                          model.metabolites.q8_im: 1.0})\n",
    "model.add_reaction(rxn)"
   ]
  },
  {
   "cell_type": "markdown",
   "metadata": {},
   "source": [
    "Ammonia and Hydroxylamine and NO2 Diffusion"
   ]
  },
  {
   "cell_type": "code",
   "execution_count": 342,
   "metadata": {
    "collapsed": false
   },
   "outputs": [
    {
     "name": "stdout",
     "output_type": "stream",
     "text": [
      "{}\n",
      "NH3_im\n"
     ]
    }
   ],
   "source": [
    "rxn = Reaction('NH3_im')\n",
    "rxn.name = 'Diffusion NH3 between Periplasm and Cytosol'\n",
    "rxn.subsystem = 'Diffusion'\n",
    "rxn.notes['SUBSYSTEM'] =['Diffusion']\n",
    "rxn.lower_bound = -1000.\n",
    "rxn.upper_bound = 1000.\n",
    "rxn.objective_coefficient = 0.\n",
    "rxn.add_metabolites({model.metabolites.nh3_p: -1.0,\n",
    "                          model.metabolites.nh3_c: 1.0})\n",
    "# Confidence Score:\n",
    "rxn.notes.update({'CONFIDENCE SCORE':['1']})\n",
    "# Localization\n",
    "rxn.notes.update({'LOCALIZATION':['Inner Membrane']})\n",
    "# Check if RXN is mass and charge balanced!\n",
    "print (rxn.check_mass_balance())\n",
    "# Check RXN-Directionality \n",
    "print rxn\n",
    "# Update ID to BiGG\n",
    "rxn.id = 'NH3_im'\n",
    "model.add_reaction(rxn)"
   ]
  },
  {
   "cell_type": "code",
   "execution_count": 343,
   "metadata": {
    "collapsed": false
   },
   "outputs": [
    {
     "name": "stdout",
     "output_type": "stream",
     "text": [
      "{}\n",
      "HAM_im\n"
     ]
    }
   ],
   "source": [
    "rxn = Reaction('HAM_im')\n",
    "rxn.name = 'Diffusion Hydroxylamine between Periplasm and Cytosol'\n",
    "rxn.subsystem = 'Diffusion'\n",
    "rxn.notes['SUBSYSTEM'] =['Diffusion']\n",
    "rxn.lower_bound = -1000.\n",
    "rxn.upper_bound = 1000.\n",
    "rxn.objective_coefficient = 0.\n",
    "rxn.add_metabolites({model.metabolites.ham_p: -1.0,\n",
    "                          model.metabolites.ham_c: 1.0})\n",
    "# Confidence Score:\n",
    "rxn.notes.update({'CONFIDENCE SCORE':['1']})\n",
    "# Localization\n",
    "rxn.notes.update({'LOCALIZATION':['Inner Membrane']})\n",
    "# Check if RXN is mass and charge balanced!\n",
    "print (rxn.check_mass_balance())\n",
    "# Check RXN-Directionality \n",
    "print rxn\n",
    "# Update ID to BiGG\n",
    "rxn.id = 'HAM_im'\n",
    "model.add_reaction(rxn)"
   ]
  },
  {
   "cell_type": "code",
   "execution_count": 344,
   "metadata": {
    "collapsed": true
   },
   "outputs": [],
   "source": [
    "# Add Nitrite-Metabolite in the Periplasm\n",
    "no2_p = model.metabolites.no2_c.copy()\n",
    "no2_p.compartment = 'p'\n",
    "no2_p.id = 'no2_p'\n",
    "model.add_metabolites([no2_p])"
   ]
  },
  {
   "cell_type": "code",
   "execution_count": 345,
   "metadata": {
    "collapsed": false
   },
   "outputs": [
    {
     "name": "stdout",
     "output_type": "stream",
     "text": [
      "{}\n",
      "NO2_im\n"
     ]
    }
   ],
   "source": [
    "rxn = Reaction('NO2_im')\n",
    "rxn.name = 'Diffusion Hydroxylamine between Periplasm and Cytosol'\n",
    "rxn.subsystem = 'Diffusion'\n",
    "rxn.notes['SUBSYSTEM'] =['Diffusion']\n",
    "rxn.lower_bound = -1000.\n",
    "rxn.upper_bound = 1000.\n",
    "rxn.objective_coefficient = 0.\n",
    "rxn.add_metabolites({model.metabolites.no2_p: -1.0,\n",
    "                          model.metabolites.no2_c: 1.0})\n",
    "# Confidence Score:\n",
    "rxn.notes.update({'CONFIDENCE SCORE':['1']})\n",
    "# Localization\n",
    "rxn.notes.update({'LOCALIZATION':['Inner Membrane']})\n",
    "# Check if RXN is mass and charge balanced!\n",
    "print (rxn.check_mass_balance())\n",
    "# Check RXN-Directionality \n",
    "print rxn\n",
    "# Update ID to BiGG\n",
    "rxn.id = 'NO2_im'\n",
    "model.add_reaction(rxn)"
   ]
  },
  {
   "cell_type": "markdown",
   "metadata": {},
   "source": [
    "Cytochrome P-460"
   ]
  },
  {
   "cell_type": "code",
   "execution_count": 346,
   "metadata": {
    "collapsed": false
   },
   "outputs": [
    {
     "name": "stdout",
     "output_type": "stream",
     "text": [
      "{}\n",
      "CYP460\n"
     ]
    }
   ],
   "source": [
    "rxn = Reaction('CYP460')\n",
    "rxn.name = 'Cytochrome P460 - Hydroxylamine Dehydrogenase'\n",
    "rxn.subsystem = 'ec00910:Nitrogen metabolism,ec01120:Microbial metabolism in diverse environments'\n",
    "rxn.notes['SUBSYSTEM'] = ['ec00910:Nitrogen metabolism,ec01120:Microbial metabolism in diverse environments']\n",
    "rxn.lower_bound = 0.\n",
    "rxn.upper_bound = 1000.\n",
    "# Confidence Score\n",
    "rxn.notes.update({'CONFIDENCE SCORE':['4']})\n",
    "# Localization\n",
    "rxn.notes.update({'LOCALIZATION':['Inner Membrane']})\n",
    "# EC number from KEGG\n",
    "rxn.notes.update({'EC Number':['1.7.2.6']})\n",
    "# Gene-Reaction-Rule update based on KEGG (using the old locus tags for now)\n",
    "rxn.notes.update({'GENE ASSOCIATION': ['MCA0524']})\n",
    "rxn.gene_reaction_rule = 'MCA0524'\n",
    "# Substrate and cofactor usage from BRENDA\n",
    "rxn.notes.update({'COFACTOR':['1 Cu2+, 1 Fe']})\n",
    "# NADH - As suggested by 10.1146/annurev.biochem.76.061505.175355\n",
    "# Inhibitor from BRENDA\n",
    "rxn.notes.update({'INHIBITOR':['']})\n",
    "# Check if RXN is mass and charge balanced!\n",
    "print (rxn.check_mass_balance())\n",
    "# Check RXN-Directionality \n",
    "print rxn\n",
    "# Update ID to BiGG\n",
    "rxn.id = 'CYP460_im'\n",
    "rxn.add_metabolites({model.metabolites.h_p: 5.0,\n",
    "                          model.metabolites.no2_p: 1.0,\n",
    "                          model.metabolites.ficytcc555_p: -2.0,\n",
    "                          model.metabolites.ham_p: -1.0,\n",
    "                          model.metabolites.h2o_p: -1.0,\n",
    "                          model.metabolites.focytcc555_p: 2.0})\n",
    "model.add_reaction(rxn)"
   ]
  },
  {
   "cell_type": "markdown",
   "metadata": {},
   "source": [
    "HAO\n",
    "\n",
    "Cofactor unknown."
   ]
  },
  {
   "cell_type": "code",
   "execution_count": 347,
   "metadata": {
    "collapsed": false
   },
   "outputs": [
    {
     "name": "stdout",
     "output_type": "stream",
     "text": [
      "{}\n",
      "HAO\n"
     ]
    }
   ],
   "source": [
    "rxn = Reaction('HAO')\n",
    "rxn.name = 'Hydroxylamine oxydoreductase'\n",
    "rxn.subsystem = 'ec00910:Nitrogen metabolism,ec01120:Microbial metabolism in diverse environments'\n",
    "rxn.notes['SUBSYSTEM'] = ['ec00910:Nitrogen metabolism,ec01120:Microbial metabolism in diverse environments']\n",
    "rxn.lower_bound = 0.\n",
    "rxn.upper_bound = 0.\n",
    "# Confidence Score\n",
    "rxn.notes.update({'CONFIDENCE SCORE':['4']})\n",
    "# Localization\n",
    "rxn.notes.update({'LOCALIZATION':['Inner Membrane']})\n",
    "# EC number from KEGG\n",
    "rxn.notes.update({'EC Number':['1.7.3.4']})\n",
    "# Gene-Reaction-Rule update based on KEGG (using the old locus tags for now)\n",
    "rxn.notes.update({'GENE ASSOCIATION': ['MCA0955 and MCA0956']})\n",
    "rxn.gene_reaction_rule = 'MCA0955 and MCA0956'\n",
    "# Substrate and cofactor usage from BRENDA\n",
    "rxn.notes.update({'COFACTOR':['1 Fe']})\n",
    "# NADH - As suggested by 10.1146/annurev.biochem.76.061505.175355\n",
    "# Inhibitor from BRENDA\n",
    "rxn.notes.update({'INHIBITOR':['']})\n",
    "# Check if RXN is mass and charge balanced!\n",
    "print (rxn.check_mass_balance())\n",
    "# Check RXN-Directionality \n",
    "print rxn\n",
    "# Update ID to BiGG\n",
    "rxn.id = 'HAO_im'\n",
    "rxn.add_metabolites({model.metabolites.h_p: 5.0,\n",
    "                          model.metabolites.no2_p: 1.0,\n",
    "                          model.metabolites.ficytcc555_p: -2.0,\n",
    "                          model.metabolites.ham_p: -1.0,\n",
    "                          model.metabolites.h2o_p: -1.0,\n",
    "                          model.metabolites.focytcc555_p: 2.0})\n",
    "model.add_reaction(rxn)"
   ]
  },
  {
   "cell_type": "markdown",
   "metadata": {},
   "source": [
    "## Reduction of Nitrate and Nitrite (Denitrification)"
   ]
  },
  {
   "cell_type": "markdown",
   "metadata": {
    "collapsed": true
   },
   "source": [
    "nirD/nirB present in the reactions NTRIR2x_c, NTRIR2y_c   = EC 1.7.1.4 Assimilatory nitrite reductase"
   ]
  },
  {
   "cell_type": "markdown",
   "metadata": {
    "collapsed": true
   },
   "source": [
    "nasA Nitrate reductase 1.7.99.4\n",
    "\n",
    "Removed all reactions that had a different cofactor than Ubiquinol"
   ]
  },
  {
   "cell_type": "code",
   "execution_count": 348,
   "metadata": {
    "collapsed": false
   },
   "outputs": [
    {
     "name": "stdout",
     "output_type": "stream",
     "text": [
      "NO3R1bpp_c: no3_p + q8h2_im --> h2o_p + no2_p + q8_im\n"
     ]
    }
   ],
   "source": [
    "rxn = model.reactions.NO3R1bpp_c\n",
    "rxn.add_metabolites({model.metabolites.no2_p: 1,\n",
    "                     model.metabolites.no2_c: 0,\n",
    "                     model.metabolites.no3_c: 0,\n",
    "                     model.metabolites.h2o_c: 0,\n",
    "        model.metabolites.no3_p: -1,\n",
    "        model.metabolites.h2o_p: 1,\n",
    "        model.metabolites.q8h2_im: -1,\n",
    "        model.metabolites.MNXM35_c: 0,\n",
    "        model.metabolites.MNXM24_c: 0,\n",
    "        model.metabolites.q8_im: 1},combine=False)\n",
    "print rxn\n",
    "rxn.id = 'NO3R1_im'\n",
    "rxn.name = 'Nitrate reductase (Ubiquinol-8)'\n",
    "rxn.notes['MXNREF'] = ['MNXR55771']\n",
    "rxn.notes['RHEA'] = ['29147', '29148', '29149', '29150']"
   ]
  },
  {
   "cell_type": "code",
   "execution_count": 349,
   "metadata": {
    "collapsed": false
   },
   "outputs": [],
   "source": [
    "model.remove_reactions([model.reactions.NITR_c,model.reactions.MNXR84803_c,model.reactions.MNXR6576_c])"
   ]
  },
  {
   "cell_type": "markdown",
   "metadata": {},
   "source": [
    "Nitric-oxide reductase\n",
    "\n",
    "Removed all instances that had a different cofactor than Cytochrome H"
   ]
  },
  {
   "cell_type": "code",
   "execution_count": 350,
   "metadata": {
    "collapsed": false
   },
   "outputs": [],
   "source": [
    "model.remove_reactions([model.reactions.MNXR19023_c,model.reactions.NHFRBO_c,\n",
    "                        model.reactions.MNXR9366_c,model.reactions.MNXR75760_c])"
   ]
  },
  {
   "cell_type": "code",
   "execution_count": 351,
   "metadata": {
    "collapsed": false
   },
   "outputs": [
    {
     "name": "stdout",
     "output_type": "stream",
     "text": [
      "MNXR70905_c: 2.0 ficytC_c + h2o_c + n2o_c --> 2.0 focytC_c + 2.0 h_c + 2.0 no_c\n",
      "MNXR70905_c: 2 focytcc553_p + 2 h_p + 2 no_p --> 2 ficytcc553_p + h2o_p + n2o_p\n"
     ]
    }
   ],
   "source": [
    "rxn = model.reactions.MNXR70905_c\n",
    "print rxn\n",
    "rxn.add_metabolites({model.metabolites.no_p: -2,\n",
    "        model.metabolites.n2o_p: 1,\n",
    "        model.metabolites.focytcc553_p: -2,\n",
    "        model.metabolites.ficytcc553_p: 2,\n",
    "        model.metabolites.h2o_p: 1,\n",
    "        model.metabolites.h2o_c: 0,\n",
    "        model.metabolites.n2o_c: 0,\n",
    "        model.metabolites.h_c: 0,\n",
    "        model.metabolites.no_c: 0,  \n",
    "        model.metabolites.ficytC_c: 0, \n",
    "        model.metabolites.focytC_c: 0, \n",
    "        model.metabolites.h_p: -2},combine=False)\n",
    "print rxn\n",
    "rxn.id = 'NOR_im'\n",
    "rxn.name = 'Nitric oxide reductase (cytochrome c)'"
   ]
  },
  {
   "cell_type": "code",
   "execution_count": 352,
   "metadata": {
    "collapsed": false
   },
   "outputs": [
    {
     "data": {
      "text/plain": [
       "{}"
      ]
     },
     "execution_count": 352,
     "metadata": {},
     "output_type": "execute_result"
    }
   ],
   "source": [
    "model.reactions.NO3R1_im.check_mass_balance()"
   ]
  },
  {
   "cell_type": "markdown",
   "metadata": {},
   "source": [
    "NiR 1.7.2.1 or 1.7.2.2 dissimilatory nitrite reductase"
   ]
  },
  {
   "cell_type": "code",
   "execution_count": 353,
   "metadata": {
    "collapsed": false
   },
   "outputs": [
    {
     "name": "stdout",
     "output_type": "stream",
     "text": [
      "MNXR70768_c: 6.0 focytC_c + 6.0 h_c + no2_c --> 6.0 ficytC_c + 2.0 h2o_c + nh3_c\n",
      "MNXR70768_c: 6 focytcc553_p + 8 h_p + no2_p --> 6 ficytcc553_p + 2 h2o_p + nh3_p\n"
     ]
    }
   ],
   "source": [
    "rxn = model.reactions.MNXR70768_c\n",
    "print rxn\n",
    "rxn.add_metabolites({model.metabolites.no2_p: -1,\n",
    "        model.metabolites.nh3_p: 1,\n",
    "        model.metabolites.focytcc553_p: -6,\n",
    "        model.metabolites.ficytcc553_p: 6,\n",
    "        model.metabolites.h2o_c: 0,\n",
    "        model.metabolites.nh3_c: 0,\n",
    "        model.metabolites.no2_c: 0,\n",
    "        model.metabolites.h_c: 0,\n",
    "        model.metabolites.no_c: 0,  \n",
    "        model.metabolites.h2o_p: 2,\n",
    "        model.metabolites.ficytC_c: 0, \n",
    "        model.metabolites.focytC_c: 0, \n",
    "        model.metabolites.h_p: -8},combine=False)\n",
    "print rxn\n",
    "rxn.id = 'NITR_AM_im'\n",
    "rxn.name = 'Nitrite reductase (cytochrome; ammonia-forming)'\n",
    "# Gene-Reaction-Rule update based on Metacyc\n",
    "rxn.notes.update({'GENE ASSOCIATION': ['MCA2059']})"
   ]
  },
  {
   "cell_type": "code",
   "execution_count": 354,
   "metadata": {
    "collapsed": false
   },
   "outputs": [
    {
     "name": "stdout",
     "output_type": "stream",
     "text": [
      "MNXR84802_c: 6.0 fdxrd_c + 7.0 h_c + no2_c --> 6.0 fdxox_c + 2.0 h2o_c + nh3_c\n",
      "MNXR84802_c: focytcc553_p + 2 h_p + no2_p --> ficytcc553_p + h2o_p + no_p\n"
     ]
    }
   ],
   "source": [
    "rxn = model.reactions.MNXR84802_c\n",
    "print rxn\n",
    "rxn.add_metabolites({model.metabolites.no2_p: -1,\n",
    "        model.metabolites.no_p: 1,\n",
    "        model.metabolites.focytcc553_p: -1,\n",
    "        model.metabolites.ficytcc553_p: 1,\n",
    "        model.metabolites.h2o_p: 1,\n",
    "        model.metabolites.fdxrd_c: 0,\n",
    "        model.metabolites.h2o_c: 0,\n",
    "        model.metabolites.no2_c: 0,\n",
    "        model.metabolites.h_c: 0,\n",
    "        model.metabolites.no_c: 0,\n",
    "        model.metabolites.nh3_c: 0, \n",
    "        model.metabolites.fdxox_c: 0, \n",
    "        model.metabolites.h_p: -2},combine=False)\n",
    "print rxn\n",
    "rxn.id = 'NITR_NO_im'\n",
    "rxn.name = 'Nitrite reductase (cytochrome; NO-forming)'\n",
    "# Gene-Reaction-Rule update based on Metacyc\n",
    "rxn.notes.update({'GENE ASSOCIATION': ['MCA2059']})"
   ]
  },
  {
   "cell_type": "markdown",
   "metadata": {},
   "source": [
    "### Nitrate Transport System"
   ]
  },
  {
   "cell_type": "code",
   "execution_count": 355,
   "metadata": {
    "collapsed": false
   },
   "outputs": [
    {
     "name": "stdout",
     "output_type": "stream",
     "text": [
      "unknown metabolite 'no3_e' created\n"
     ]
    }
   ],
   "source": [
    "rxn = model.reactions.no3_out\n",
    "rxn.reaction = 'no3_e <->'\n",
    "rxn.id = 'EX_no3_e'\n",
    "rxn.name = 'Nitrate exchange'"
   ]
  },
  {
   "cell_type": "code",
   "execution_count": 356,
   "metadata": {
    "collapsed": true
   },
   "outputs": [],
   "source": [
    "rxn = Reaction('no3t_om')\n",
    "rxn.add_metabolites({model.metabolites.no3_e:-1,model.metabolites.no3_p:1})\n",
    "rxn.id = 'no3t_om'\n",
    "rxn.name = 'Diffusion of Nitrate between Extracellular and Periplasm'\n",
    "model.add_reaction(rxn)"
   ]
  },
  {
   "cell_type": "code",
   "execution_count": null,
   "metadata": {
    "collapsed": true
   },
   "outputs": [],
   "source": []
  },
  {
   "cell_type": "code",
   "execution_count": 357,
   "metadata": {
    "collapsed": false
   },
   "outputs": [],
   "source": [
    "for x in model.essential_reactions():\n",
    "    if x.id.startswith('MNX'):\n",
    "        print x"
   ]
  },
  {
   "cell_type": "code",
   "execution_count": 358,
   "metadata": {
    "collapsed": true
   },
   "outputs": [],
   "source": [
    "model.reactions.nh3_in.lower_bound = 0\n",
    "model.reactions.nh3_in.upper_bound = 0"
   ]
  },
  {
   "cell_type": "code",
   "execution_count": 359,
   "metadata": {
    "collapsed": false
   },
   "outputs": [],
   "source": [
    "model.reactions.EX_no3_e.lower_bound = -1000\n",
    "model.reactions.EX_no3_e.upper_bound = 1000"
   ]
  },
  {
   "cell_type": "code",
   "execution_count": 360,
   "metadata": {
    "collapsed": false
   },
   "outputs": [],
   "source": [
    "solution = model.solve()"
   ]
  },
  {
   "cell_type": "code",
   "execution_count": 361,
   "metadata": {
    "collapsed": false
   },
   "outputs": [],
   "source": [
    "from cameo.util import TimeMachine\n",
    "\n",
    "with TimeMachine() as tm:\n",
    "    for x in model.reactions:\n",
    "        if x.id.startswith('MNX'):\n",
    "            x.lower_bound = 0\n",
    "            x.upper_bound = 0\n",
    "    solution2 = model.solve()"
   ]
  },
  {
   "cell_type": "code",
   "execution_count": null,
   "metadata": {
    "collapsed": true
   },
   "outputs": [],
   "source": []
  },
  {
   "cell_type": "code",
   "execution_count": 362,
   "metadata": {
    "collapsed": true
   },
   "outputs": [],
   "source": [
    "target_filename_json = relative_directory + '/Reconstructions/MethylococcusModel8.json'\n",
    "target_filename_xml = relative_directory + '/Reconstructions/MethylococcusModel8.xml'\n",
    "cobra.io.write_legacy_sbml(model, target_filename_xml, use_fbc_package=False)\n",
    "cobra.io.save_json_model(model, target_filename_json)"
   ]
  },
  {
   "cell_type": "code",
   "execution_count": null,
   "metadata": {
    "collapsed": true
   },
   "outputs": [],
   "source": []
  }
 ],
 "metadata": {
  "kernelspec": {
   "display_name": "Python 2",
   "language": "python",
   "name": "python2"
  },
  "language_info": {
   "codemirror_mode": {
    "name": "ipython",
    "version": 2
   },
   "file_extension": ".py",
   "mimetype": "text/x-python",
   "name": "python",
   "nbconvert_exporter": "python",
   "pygments_lexer": "ipython2",
   "version": "2.7.9"
  }
 },
 "nbformat": 4,
 "nbformat_minor": 0
}
