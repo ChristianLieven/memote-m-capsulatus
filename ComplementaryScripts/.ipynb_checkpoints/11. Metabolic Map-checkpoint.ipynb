{
 "cells": [
  {
   "cell_type": "code",
   "execution_count": 1,
   "metadata": {},
   "outputs": [
    {
     "data": {
      "text/html": []
     },
     "metadata": {},
     "output_type": "display_data"
    },
    {
     "data": {
      "application/javascript": [
       "\n",
       "(function(global) {\n",
       "  function now() {\n",
       "    return new Date();\n",
       "  }\n",
       "\n",
       "  if (typeof (window._bokeh_onload_callbacks) === \"undefined\") {\n",
       "    window._bokeh_onload_callbacks = [];\n",
       "  }\n",
       "\n",
       "  function run_callbacks() {\n",
       "    window._bokeh_onload_callbacks.forEach(function(callback) { callback() });\n",
       "    delete window._bokeh_onload_callbacks\n",
       "    console.info(\"Bokeh: all callbacks have finished\");\n",
       "  }\n",
       "\n",
       "  function load_libs(js_urls, callback) {\n",
       "    window._bokeh_onload_callbacks.push(callback);\n",
       "    if (window._bokeh_is_loading > 0) {\n",
       "      console.log(\"Bokeh: BokehJS is being loaded, scheduling callback at\", now());\n",
       "      return null;\n",
       "    }\n",
       "    if (js_urls == null || js_urls.length === 0) {\n",
       "      run_callbacks();\n",
       "      return null;\n",
       "    }\n",
       "    console.log(\"Bokeh: BokehJS not loaded, scheduling load and callback at\", now());\n",
       "    window._bokeh_is_loading = js_urls.length;\n",
       "    for (var i = 0; i < js_urls.length; i++) {\n",
       "      var url = js_urls[i];\n",
       "      var s = document.createElement('script');\n",
       "      s.src = url;\n",
       "      s.async = false;\n",
       "      s.onreadystatechange = s.onload = function() {\n",
       "        window._bokeh_is_loading--;\n",
       "        if (window._bokeh_is_loading === 0) {\n",
       "          console.log(\"Bokeh: all BokehJS libraries loaded\");\n",
       "          run_callbacks()\n",
       "        }\n",
       "      };\n",
       "      s.onerror = function() {\n",
       "        console.warn(\"failed to load library \" + url);\n",
       "      };\n",
       "      console.log(\"Bokeh: injecting script tag for BokehJS library: \", url);\n",
       "      document.getElementsByTagName(\"head\")[0].appendChild(s);\n",
       "    }\n",
       "  };\n",
       "\n",
       "  var js_urls = ['https://cdn.pydata.org/bokeh/release/bokeh-0.11.1.min.js', 'https://cdn.pydata.org/bokeh/release/bokeh-widgets-0.11.1.min.js', 'https://cdn.pydata.org/bokeh/release/bokeh-compiler-0.11.1.min.js'];\n",
       "\n",
       "  var inline_js = [\n",
       "    function(Bokeh) {\n",
       "      Bokeh.set_log_level(\"info\");\n",
       "    },\n",
       "    \n",
       "    function(Bokeh) {\n",
       "      Bokeh.$(\"#90697959-a202-4c4c-a9c9-4f862bbd9aaa\").text(\"BokehJS successfully loaded\");\n",
       "    },\n",
       "    function(Bokeh) {\n",
       "      console.log(\"Bokeh: injecting CSS: https://cdn.pydata.org/bokeh/release/bokeh-0.11.1.min.css\");\n",
       "      Bokeh.embed.inject_css(\"https://cdn.pydata.org/bokeh/release/bokeh-0.11.1.min.css\");\n",
       "      console.log(\"Bokeh: injecting CSS: https://cdn.pydata.org/bokeh/release/bokeh-widgets-0.11.1.min.css\");\n",
       "      Bokeh.embed.inject_css(\"https://cdn.pydata.org/bokeh/release/bokeh-widgets-0.11.1.min.css\");\n",
       "    }\n",
       "  ];\n",
       "\n",
       "  function run_inline_js() {\n",
       "    for (var i = 0; i < inline_js.length; i++) {\n",
       "      inline_js[i](window.Bokeh);\n",
       "    }\n",
       "  }\n",
       "\n",
       "  if (window._bokeh_is_loading === 0) {\n",
       "    console.log(\"Bokeh: BokehJS loaded, going straight to plotting\");\n",
       "    run_inline_js();\n",
       "  } else {\n",
       "    load_libs(js_urls, function() {\n",
       "      console.log(\"Bokeh: BokehJS plotting callback run at\", now());\n",
       "      run_inline_js();\n",
       "    });\n",
       "  }\n",
       "}(this));"
      ]
     },
     "metadata": {},
     "output_type": "display_data"
    },
    {
     "name": "stderr",
     "output_type": "stream",
     "text": [
      "/Users/clie/.virtualenvs/modeling/lib/python2.7/site-packages/cobra/io/sbml3.py:24: UserWarning: Install lxml for faster SBML I/O\n",
      "  warn(\"Install lxml for faster SBML I/O\")\n"
     ]
    },
    {
     "data": {
      "text/html": []
     },
     "metadata": {},
     "output_type": "display_data"
    },
    {
     "data": {
      "application/javascript": [
       "\n",
       "(function(global) {\n",
       "  function now() {\n",
       "    return new Date();\n",
       "  }\n",
       "\n",
       "  if (typeof (window._bokeh_onload_callbacks) === \"undefined\") {\n",
       "    window._bokeh_onload_callbacks = [];\n",
       "  }\n",
       "\n",
       "  function run_callbacks() {\n",
       "    window._bokeh_onload_callbacks.forEach(function(callback) { callback() });\n",
       "    delete window._bokeh_onload_callbacks\n",
       "    console.info(\"Bokeh: all callbacks have finished\");\n",
       "  }\n",
       "\n",
       "  function load_libs(js_urls, callback) {\n",
       "    window._bokeh_onload_callbacks.push(callback);\n",
       "    if (window._bokeh_is_loading > 0) {\n",
       "      console.log(\"Bokeh: BokehJS is being loaded, scheduling callback at\", now());\n",
       "      return null;\n",
       "    }\n",
       "    if (js_urls == null || js_urls.length === 0) {\n",
       "      run_callbacks();\n",
       "      return null;\n",
       "    }\n",
       "    console.log(\"Bokeh: BokehJS not loaded, scheduling load and callback at\", now());\n",
       "    window._bokeh_is_loading = js_urls.length;\n",
       "    for (var i = 0; i < js_urls.length; i++) {\n",
       "      var url = js_urls[i];\n",
       "      var s = document.createElement('script');\n",
       "      s.src = url;\n",
       "      s.async = false;\n",
       "      s.onreadystatechange = s.onload = function() {\n",
       "        window._bokeh_is_loading--;\n",
       "        if (window._bokeh_is_loading === 0) {\n",
       "          console.log(\"Bokeh: all BokehJS libraries loaded\");\n",
       "          run_callbacks()\n",
       "        }\n",
       "      };\n",
       "      s.onerror = function() {\n",
       "        console.warn(\"failed to load library \" + url);\n",
       "      };\n",
       "      console.log(\"Bokeh: injecting script tag for BokehJS library: \", url);\n",
       "      document.getElementsByTagName(\"head\")[0].appendChild(s);\n",
       "    }\n",
       "  };\n",
       "\n",
       "  var js_urls = ['https://cdn.pydata.org/bokeh/release/bokeh-0.11.1.min.js', 'https://cdn.pydata.org/bokeh/release/bokeh-widgets-0.11.1.min.js', 'https://cdn.pydata.org/bokeh/release/bokeh-compiler-0.11.1.min.js'];\n",
       "\n",
       "  var inline_js = [\n",
       "    function(Bokeh) {\n",
       "      Bokeh.set_log_level(\"info\");\n",
       "    },\n",
       "    \n",
       "    function(Bokeh) {\n",
       "      Bokeh.$(\"#135fc599-bb13-4610-b558-f6512de8d998\").text(\"BokehJS successfully loaded\");\n",
       "    },\n",
       "    function(Bokeh) {\n",
       "      console.log(\"Bokeh: injecting CSS: https://cdn.pydata.org/bokeh/release/bokeh-0.11.1.min.css\");\n",
       "      Bokeh.embed.inject_css(\"https://cdn.pydata.org/bokeh/release/bokeh-0.11.1.min.css\");\n",
       "      console.log(\"Bokeh: injecting CSS: https://cdn.pydata.org/bokeh/release/bokeh-widgets-0.11.1.min.css\");\n",
       "      Bokeh.embed.inject_css(\"https://cdn.pydata.org/bokeh/release/bokeh-widgets-0.11.1.min.css\");\n",
       "    }\n",
       "  ];\n",
       "\n",
       "  function run_inline_js() {\n",
       "    for (var i = 0; i < inline_js.length; i++) {\n",
       "      inline_js[i](window.Bokeh);\n",
       "    }\n",
       "  }\n",
       "\n",
       "  if (window._bokeh_is_loading === 0) {\n",
       "    console.log(\"Bokeh: BokehJS loaded, going straight to plotting\");\n",
       "    run_inline_js();\n",
       "  } else {\n",
       "    load_libs(js_urls, function() {\n",
       "      console.log(\"Bokeh: BokehJS plotting callback run at\", now());\n",
       "      run_inline_js();\n",
       "    });\n",
       "  }\n",
       "}(this));"
      ]
     },
     "metadata": {},
     "output_type": "display_data"
    }
   ],
   "source": [
    "from cameo import load_model\n",
    "from os import getcwd\n",
    "from Functions_Modules import curation_tools as ct\n",
    "from math import isnan\n",
    "from numpy import zeros"
   ]
  },
  {
   "cell_type": "code",
   "execution_count": 2,
   "metadata": {
    "collapsed": true
   },
   "outputs": [],
   "source": [
    "relative_directory = getcwd()\n",
    "model = load_model(relative_directory + '/Reconstructions/MethylococcusModel13.json')"
   ]
  },
  {
   "cell_type": "code",
   "execution_count": 3,
   "metadata": {
    "collapsed": true
   },
   "outputs": [],
   "source": [
    "from cameo import Reaction,Metabolite"
   ]
  },
  {
   "cell_type": "code",
   "execution_count": 4,
   "metadata": {},
   "outputs": [],
   "source": [
    "rxn = Reaction('NIT_mc')\n",
    "rxn.add_metabolites({model.metabolites.atp_c:-16,\n",
    "                    model.metabolites.h2o_c:-16,\n",
    "                    model.metabolites.n2_c:-1,\n",
    "                    model.metabolites.fdxrd_c:-4,\n",
    "                    model.metabolites.adp_c:16,\n",
    "                    model.metabolites.pi_c:16,\n",
    "                    model.metabolites.fdxox_c:4,\n",
    "                    model.metabolites.h_c:14, \n",
    "                    model.metabolites.h2_c:1,\n",
    "                    model.metabolites.nh4_c:2},combine=False)\n",
    "rxn.name = 'Nitrogenase'\n",
    "rxn.id = 'NIT_mc'\n",
    "rxn.annotation = {\n",
    " u'biocyc': u'NITROGENASE-RXN',\n",
    " u'brenda': u'1.18.6.1',\n",
    " u'kegg.reaction': u'R05185',\n",
    " u'metanetx.reaction': u'MNXR85317'}\n",
    "rxn.gene_reaction_rule = 'MCA0229 and MCA0230 and MCA0231'\n",
    "\n",
    "model.add_reaction(rxn)"
   ]
  },
  {
   "cell_type": "code",
   "execution_count": 5,
   "metadata": {},
   "outputs": [],
   "source": [
    "model.reactions.NAD_H2.change_bounds(-1000,1000)"
   ]
  },
  {
   "cell_type": "code",
   "execution_count": 6,
   "metadata": {},
   "outputs": [
    {
     "data": {
      "text/plain": [
       "frozenset({<Reaction NIT_mc at 0x11a35e8d0>, <Reaction NAD_H2 at 0x11a5d6050>})"
      ]
     },
     "execution_count": 6,
     "metadata": {},
     "output_type": "execute_result"
    }
   ],
   "source": [
    "model.metabolites.h2_c.reactions"
   ]
  },
  {
   "cell_type": "code",
   "execution_count": 7,
   "metadata": {
    "collapsed": true
   },
   "outputs": [],
   "source": [
    "n2_p = model.metabolites.n2_c.copy()\n",
    "n2_p.compartment = 'p'\n",
    "n2_p.id = 'n2_p'\n",
    "model.add_metabolite(n2_p)"
   ]
  },
  {
   "cell_type": "code",
   "execution_count": 8,
   "metadata": {
    "collapsed": true
   },
   "outputs": [],
   "source": [
    "n2_e = model.metabolites.n2_c.copy()\n",
    "n2_e.compartment = 'e'\n",
    "n2_e.id = 'n2_e'\n",
    "model.add_metabolite(n2_e)"
   ]
  },
  {
   "cell_type": "code",
   "execution_count": 9,
   "metadata": {
    "collapsed": true
   },
   "outputs": [],
   "source": [
    "rxn = Reaction('N2trpp')\n",
    "rxn.add_metabolites({model.metabolites.n2_c:1,\n",
    "                    model.metabolites.n2_p:-1})\n",
    "rxn.name = 'Nitrogen exchange, diffusion (periplasm)'\n",
    "rxn.id = 'N2trpp'\n",
    "rxn.annotation = {u'metanetx.reaction': u'MNXR3686'}\n",
    "\n",
    "model.add_reaction(rxn)"
   ]
  },
  {
   "cell_type": "code",
   "execution_count": 10,
   "metadata": {
    "collapsed": true
   },
   "outputs": [],
   "source": [
    "rxn = Reaction('N2tex')\n",
    "rxn.add_metabolites({model.metabolites.n2_p:1,\n",
    "                    model.metabolites.n2_e:-1})\n",
    "rxn.name = 'Nitrogen exchange, diffusion (extra-organism to periplasm)'\n",
    "rxn.id = 'N2tex'\n",
    "rxn.annotation = {u'metanetx.reaction': u'MNXR3686'}\n",
    "\n",
    "model.add_reaction(rxn)"
   ]
  },
  {
   "cell_type": "code",
   "execution_count": 11,
   "metadata": {
    "collapsed": true
   },
   "outputs": [],
   "source": [
    "rxn = Reaction('EX_n2_e')\n",
    "rxn.add_metabolites({model.metabolites.n2_e:-1})\n",
    "rxn.name = 'N2 exchange'\n",
    "rxn.id = 'EX_n2_e'\n",
    "rxn.annotation = {u'metanetx.reaction': u'MNXR3686'}\n",
    "\n",
    "model.add_reaction(rxn)"
   ]
  },
  {
   "cell_type": "code",
   "execution_count": 12,
   "metadata": {},
   "outputs": [],
   "source": [
    "model.reactions.N2tex.change_bounds(-1000,1000)\n",
    "model.reactions.N2trpp.change_bounds(-1000,1000)"
   ]
  },
  {
   "cell_type": "code",
   "execution_count": 13,
   "metadata": {},
   "outputs": [],
   "source": [
    "model.reactions.EX_no3_e.lower_bound = 0"
   ]
  },
  {
   "cell_type": "code",
   "execution_count": 14,
   "metadata": {},
   "outputs": [],
   "source": [
    "model.reactions.EX_nh4_e.lower_bound = 0"
   ]
  },
  {
   "cell_type": "code",
   "execution_count": 15,
   "metadata": {
    "collapsed": true
   },
   "outputs": [],
   "source": [
    "model.reactions.EX_n2_e.lower_bound = -1000"
   ]
  },
  {
   "cell_type": "code",
   "execution_count": 16,
   "metadata": {},
   "outputs": [
    {
     "data": {
      "text/plain": [
       "0.0879773465210888"
      ]
     },
     "execution_count": 16,
     "metadata": {},
     "output_type": "execute_result"
    }
   ],
   "source": [
    "model.solve().f"
   ]
  },
  {
   "cell_type": "code",
   "execution_count": 17,
   "metadata": {
    "collapsed": true
   },
   "outputs": [],
   "source": [
    "import cobra\n",
    "\n",
    "target_filename_json = relative_directory + '/Reconstructions/MethylococcusModel14.json'\n",
    "target_filename_xml = relative_directory + '/Reconstructions/MethylococcusModel14.xml'\n",
    "cobra.io.write_sbml_model(model, target_filename_xml, use_fbc_package=True)\n",
    "cobra.io.save_json_model(model, target_filename_json,pretty = True)"
   ]
  },
  {
   "cell_type": "code",
   "execution_count": null,
   "metadata": {
    "collapsed": true
   },
   "outputs": [],
   "source": []
  },
  {
   "cell_type": "code",
   "execution_count": 13,
   "metadata": {},
   "outputs": [
    {
     "data": {
      "text/plain": [
       "frozenset({<Reaction ITCOALm at 0x114b29590>,\n",
       "           <Reaction SUCOAS at 0x114b5c910>})"
      ]
     },
     "execution_count": 13,
     "metadata": {},
     "output_type": "execute_result"
    }
   ],
   "source": [
    "model.genes.MCA1740.reactions"
   ]
  },
  {
   "cell_type": "code",
   "execution_count": 24,
   "metadata": {},
   "outputs": [],
   "source": [
    "model.reactions.EX_co2_e.lower_bound = -1000"
   ]
  },
  {
   "cell_type": "code",
   "execution_count": 37,
   "metadata": {},
   "outputs": [],
   "source": [
    "model.reactions.GAPDH_nadp.upper_bound = 0"
   ]
  },
  {
   "cell_type": "code",
   "execution_count": 36,
   "metadata": {},
   "outputs": [],
   "source": [
    "model.reactions.GAPD.lower_bound = -1000"
   ]
  },
  {
   "cell_type": "code",
   "execution_count": 34,
   "metadata": {},
   "outputs": [],
   "source": [
    "model.reactions.PGK.lower_bound = -1000"
   ]
  },
  {
   "cell_type": "code",
   "execution_count": 65,
   "metadata": {},
   "outputs": [
    {
     "data": {
      "text/html": [
       "\n",
       "        <table>\n",
       "            <tr>\n",
       "                <td><strong>Id</strong></td><td>AKGDH</td>\n",
       "            </tr>\n",
       "            <tr>\n",
       "                <td><strong>Name</strong></td><td>2-Oxogluterate dehydrogenase</td>\n",
       "            </tr>\n",
       "            <tr>\n",
       "                <td><strong>Stoichiometry</strong></td><td>akg_c + coa_c + nad_c --> co2_c + nadh_c + succoa_c</td>\n",
       "            </tr>\n",
       "            <tr>\n",
       "                <td><strong>GPR</strong></td><td>MCA1952 and MCA1953</td>\n",
       "            </tr>\n",
       "            <tr>\n",
       "                <td><strong>Lower bound</strong></td><td>0.000000</td>\n",
       "            </tr>\n",
       "            <tr>\n",
       "                <td><strong>Upper bound</strong></td><td>0.000000</td>\n",
       "            </tr>\n",
       "        </table>\n",
       "        "
      ],
      "text/plain": [
       "<Reaction AKGDH at 0x114bbb590>"
      ]
     },
     "execution_count": 65,
     "metadata": {},
     "output_type": "execute_result"
    }
   ],
   "source": [
    "model.reactions.AKGDH"
   ]
  },
  {
   "cell_type": "code",
   "execution_count": 64,
   "metadata": {},
   "outputs": [
    {
     "data": {
      "text/html": [
       "\n",
       "        <table>\n",
       "            <tr>\n",
       "                <td><strong>Id</strong></td><td>OOR3r</td>\n",
       "            </tr>\n",
       "            <tr>\n",
       "                <td><strong>Name</strong></td><td>2-oxoglutarate synthase (rev)</td>\n",
       "            </tr>\n",
       "            <tr>\n",
       "                <td><strong>Stoichiometry</strong></td><td>co2_c + fdxrd_c + succoa_c --> akg_c + coa_c + fdxox_c + h_c</td>\n",
       "            </tr>\n",
       "            <tr>\n",
       "                <td><strong>GPR</strong></td><td>MCA1952 and MCA1953</td>\n",
       "            </tr>\n",
       "            <tr>\n",
       "                <td><strong>Lower bound</strong></td><td>0.000000</td>\n",
       "            </tr>\n",
       "            <tr>\n",
       "                <td><strong>Upper bound</strong></td><td>0.000000</td>\n",
       "            </tr>\n",
       "        </table>\n",
       "        "
      ],
      "text/plain": [
       "<Reaction OOR3r at 0x114bbb790>"
      ]
     },
     "execution_count": 64,
     "metadata": {},
     "output_type": "execute_result"
    }
   ],
   "source": [
    "model.reactions.OOR3r"
   ]
  },
  {
   "cell_type": "code",
   "execution_count": 26,
   "metadata": {},
   "outputs": [],
   "source": [
    "model.reactions.TKT2.gene_reaction_rule = 'MCA3040 or MCA3046'"
   ]
  },
  {
   "cell_type": "code",
   "execution_count": 27,
   "metadata": {},
   "outputs": [],
   "source": [
    "model.reactions.PFK_3_ppi.gene_reaction_rule = model.reactions.PFK_ppi.gene_reaction_rule"
   ]
  },
  {
   "cell_type": "code",
   "execution_count": 47,
   "metadata": {},
   "outputs": [],
   "source": [
    "model.reactions.EX_ch4_e.lower_bound = 0"
   ]
  },
  {
   "cell_type": "code",
   "execution_count": 52,
   "metadata": {},
   "outputs": [
    {
     "data": {
      "text/html": [
       "\n",
       "        <table>\n",
       "            <tr>\n",
       "                <td><strong>Id</strong></td><td>TPI</td>\n",
       "            </tr>\n",
       "            <tr>\n",
       "                <td><strong>Name</strong></td><td>Triose-phosphate isomerase</td>\n",
       "            </tr>\n",
       "            <tr>\n",
       "                <td><strong>Stoichiometry</strong></td><td>dhap_c <=> g3p_c</td>\n",
       "            </tr>\n",
       "            <tr>\n",
       "                <td><strong>GPR</strong></td><td>MCA0674</td>\n",
       "            </tr>\n",
       "            <tr>\n",
       "                <td><strong>Lower bound</strong></td><td>-1000.000000</td>\n",
       "            </tr>\n",
       "            <tr>\n",
       "                <td><strong>Upper bound</strong></td><td>1000.000000</td>\n",
       "            </tr>\n",
       "        </table>\n",
       "        "
      ],
      "text/plain": [
       "<Reaction TPI at 0x114b71890>"
      ]
     },
     "execution_count": 52,
     "metadata": {},
     "output_type": "execute_result"
    }
   ],
   "source": [
    "model.reactions.TPI"
   ]
  },
  {
   "cell_type": "code",
   "execution_count": 49,
   "metadata": {},
   "outputs": [
    {
     "data": {
      "text/plain": [
       "1.2378688524590173"
      ]
     },
     "execution_count": 49,
     "metadata": {},
     "output_type": "execute_result"
    }
   ],
   "source": [
    "model.reactions.EX_co2_e.flux"
   ]
  },
  {
   "cell_type": "code",
   "execution_count": 48,
   "metadata": {},
   "outputs": [
    {
     "ename": "Infeasible",
     "evalue": "Solving model BMID000000141026 did not return an optimal solution. The returned solution status is \"infeasible\"",
     "output_type": "error",
     "traceback": [
      "\u001b[0;31m---------------------------------------------------------------------------\u001b[0m",
      "\u001b[0;31mInfeasible\u001b[0m                                Traceback (most recent call last)",
      "\u001b[0;32m<ipython-input-48-48e1d3144559>\u001b[0m in \u001b[0;36m<module>\u001b[0;34m()\u001b[0m\n\u001b[0;32m----> 1\u001b[0;31m \u001b[0mmodel\u001b[0m\u001b[0;34m.\u001b[0m\u001b[0msolve\u001b[0m\u001b[0;34m(\u001b[0m\u001b[0;34m)\u001b[0m\u001b[0;34m.\u001b[0m\u001b[0mf\u001b[0m\u001b[0;34m\u001b[0m\u001b[0m\n\u001b[0m",
      "\u001b[0;32m/Users/clie/.virtualenvs/modeling/lib/python2.7/site-packages/cameo/core/solver_based_model.pyc\u001b[0m in \u001b[0;36msolve\u001b[0;34m(self, solution_type, *args, **kwargs)\u001b[0m\n\u001b[1;32m    497\u001b[0m             raise exceptions._OPTLANG_TO_EXCEPTIONS_DICT.get(solution.status, SolveError)(\n\u001b[1;32m    498\u001b[0m                 'Solving model %s did not return an optimal solution. The returned solution status is \"%s\"' % (\n\u001b[0;32m--> 499\u001b[0;31m                     self, solution.status))\n\u001b[0m\u001b[1;32m    500\u001b[0m         \u001b[0;32melse\u001b[0m\u001b[0;34m:\u001b[0m\u001b[0;34m\u001b[0m\u001b[0m\n\u001b[1;32m    501\u001b[0m             \u001b[0;32mreturn\u001b[0m \u001b[0msolution\u001b[0m\u001b[0;34m\u001b[0m\u001b[0m\n",
      "\u001b[0;31mInfeasible\u001b[0m: Solving model BMID000000141026 did not return an optimal solution. The returned solution status is \"infeasible\""
     ]
    }
   ],
   "source": [
    "model.solve().f"
   ]
  },
  {
   "cell_type": "code",
   "execution_count": 86,
   "metadata": {},
   "outputs": [
    {
     "data": {
      "text/html": [
       "\n",
       "        <table>\n",
       "            <tr>\n",
       "                <td><strong>Id</strong></td><td>G6PDH2</td>\n",
       "            </tr>\n",
       "            <tr>\n",
       "                <td><strong>Name</strong></td><td>1 H(+) + 1 6-O-phosphono-D-glucono-1,5-lactone + 1 NADPH = 1 NADP(+) + 1 beta-D-glucose 6-phosphate(2-)</td>\n",
       "            </tr>\n",
       "            <tr>\n",
       "                <td><strong>Stoichiometry</strong></td><td>g6p_c + nadp_c --> 6pgl_c + h_c + nadph_c</td>\n",
       "            </tr>\n",
       "            <tr>\n",
       "                <td><strong>GPR</strong></td><td>MCA0025 or MCA2971</td>\n",
       "            </tr>\n",
       "            <tr>\n",
       "                <td><strong>Lower bound</strong></td><td>0.000000</td>\n",
       "            </tr>\n",
       "            <tr>\n",
       "                <td><strong>Upper bound</strong></td><td>1000.000000</td>\n",
       "            </tr>\n",
       "        </table>\n",
       "        "
      ],
      "text/plain": [
       "<Reaction G6PDH2 at 0x112b8d610>"
      ]
     },
     "execution_count": 86,
     "metadata": {},
     "output_type": "execute_result"
    }
   ],
   "source": [
    "model.reactions.G6PDH2"
   ]
  },
  {
   "cell_type": "code",
   "execution_count": 6,
   "metadata": {},
   "outputs": [
    {
     "data": {
      "text/plain": [
       "[]"
      ]
     },
     "execution_count": 6,
     "metadata": {},
     "output_type": "execute_result"
    }
   ],
   "source": [
    "[met for met in model.metabolites if met.id.endswith('_om')]"
   ]
  },
  {
   "cell_type": "code",
   "execution_count": 3,
   "metadata": {},
   "outputs": [
    {
     "data": {
      "text/plain": [
       "892"
      ]
     },
     "execution_count": 3,
     "metadata": {},
     "output_type": "execute_result"
    }
   ],
   "source": [
    "len(model.reactions)"
   ]
  },
  {
   "cell_type": "code",
   "execution_count": 4,
   "metadata": {},
   "outputs": [
    {
     "data": {
      "text/plain": [
       "883"
      ]
     },
     "execution_count": 4,
     "metadata": {},
     "output_type": "execute_result"
    }
   ],
   "source": [
    "len(model.metabolites)"
   ]
  },
  {
   "cell_type": "code",
   "execution_count": 5,
   "metadata": {},
   "outputs": [],
   "source": [
    "ecoli = load_model('iJO1366',sanitize=False)"
   ]
  },
  {
   "cell_type": "code",
   "execution_count": 6,
   "metadata": {},
   "outputs": [
    {
     "data": {
      "text/plain": [
       "2583"
      ]
     },
     "execution_count": 6,
     "metadata": {},
     "output_type": "execute_result"
    }
   ],
   "source": [
    "len(ecoli.reactions)"
   ]
  },
  {
   "cell_type": "code",
   "execution_count": 7,
   "metadata": {
    "collapsed": true
   },
   "outputs": [],
   "source": [
    "def find_demand_and_exchange_reactions(model):\n",
    "    \"\"\"\n",
    "    Return a list containing demand and exchange reactions of model.\n",
    "\n",
    "    Parameters\n",
    "    ----------\n",
    "    model : cobra.Model\n",
    "        The metabolic model under investigation.\n",
    "    \"\"\"\n",
    "    return [rxn for rxn in model.reactions if len(rxn.metabolites.keys()) == 1]"
   ]
  },
  {
   "cell_type": "code",
   "execution_count": 8,
   "metadata": {
    "collapsed": true
   },
   "outputs": [],
   "source": [
    "def find_transport_reactions(model):\n",
    "    \"\"\"\n",
    "    Return a list of all transport reactions.\n",
    "\n",
    "       A transport reaction is defined as follows:\n",
    "       -- It contains metabolites from at least 2 compartments\n",
    "       -- At least 1 metabolite undergoes no chemical reaction\n",
    "          i.e. the formula stays the same on both sides of the equation\n",
    "\n",
    "       Will not identify transport via the PTS System.\n",
    "\n",
    "    Parameters\n",
    "    ----------\n",
    "    model : cobra.Model\n",
    "        The metabolic model under investigation.\n",
    "    \"\"\"\n",
    "    compartment_spanning_rxns = \\\n",
    "        [rxn for rxn in model.reactions if len(rxn.get_compartments()) >= 2]\n",
    "\n",
    "    transport_reactions = []\n",
    "    for rxn in compartment_spanning_rxns:\n",
    "        rxn_reactants = set([met.formula for met in rxn.reactants])\n",
    "        rxn_products = set([met.formula for met in rxn.products])\n",
    "\n",
    "        transported_mets = \\\n",
    "            [formula for formula in rxn_reactants if formula in rxn_products]\n",
    "        # Excluding H-pumping reactions for now.\n",
    "        if set(transported_mets).issubset(set('H')):\n",
    "            pass\n",
    "        # Excluding redox-reactions which only transport electrons\n",
    "        elif set(transported_mets).issubset(set(['X', 'XH2'])):\n",
    "            pass\n",
    "\n",
    "        elif len(transported_mets) >= 1:\n",
    "            transport_reactions.append(rxn)\n",
    "\n",
    "    return transport_reactions"
   ]
  },
  {
   "cell_type": "code",
   "execution_count": 9,
   "metadata": {},
   "outputs": [],
   "source": [
    "def find_biomass_reaction(model):\n",
    "    \"\"\"\n",
    "    Return a list of the biomass reaction(s) of the model.\n",
    "\n",
    "    Parameters\n",
    "    ----------\n",
    "    model : cobra.Model\n",
    "        The metabolic model under investigation.\n",
    "    \"\"\"\n",
    "    return [rxn for rxn in model.reactions if \"biomass\" in rxn.id.lower()]"
   ]
  },
  {
   "cell_type": "code",
   "execution_count": 10,
   "metadata": {},
   "outputs": [],
   "source": [
    "exchanges = find_demand_and_exchange_reactions(model)\n",
    "biomass = find_biomass_reaction(model)\n",
    "total_rxns = model.reactions\n",
    "metab_rxns = set(total_rxns).difference(set().union(exchanges, biomass))"
   ]
  },
  {
   "cell_type": "code",
   "execution_count": 11,
   "metadata": {},
   "outputs": [
    {
     "data": {
      "text/plain": [
       "120"
      ]
     },
     "execution_count": 11,
     "metadata": {},
     "output_type": "execute_result"
    }
   ],
   "source": [
    "len(find_transport_reactions(model))"
   ]
  },
  {
   "cell_type": "code",
   "execution_count": 12,
   "metadata": {},
   "outputs": [
    {
     "data": {
      "text/plain": [
       "51"
      ]
     },
     "execution_count": 12,
     "metadata": {},
     "output_type": "execute_result"
    }
   ],
   "source": [
    "len(exchanges)"
   ]
  },
  {
   "cell_type": "code",
   "execution_count": 13,
   "metadata": {},
   "outputs": [
    {
     "data": {
      "text/plain": [
       "840"
      ]
     },
     "execution_count": 13,
     "metadata": {},
     "output_type": "execute_result"
    }
   ],
   "source": [
    "len(metab_rxns)"
   ]
  },
  {
   "cell_type": "code",
   "execution_count": 1,
   "metadata": {},
   "outputs": [
    {
     "ename": "NameError",
     "evalue": "name 'model' is not defined",
     "output_type": "error",
     "traceback": [
      "\u001b[0;31m---------------------------------------------------------------------------\u001b[0m",
      "\u001b[0;31mNameError\u001b[0m                                 Traceback (most recent call last)",
      "\u001b[0;32m<ipython-input-1-6c091f849dc6>\u001b[0m in \u001b[0;36m<module>\u001b[0;34m()\u001b[0m\n\u001b[0;32m----> 1\u001b[0;31m \u001b[0mset\u001b[0m\u001b[0;34m(\u001b[0m\u001b[0;34m[\u001b[0m\u001b[0mmet\u001b[0m\u001b[0;34m[\u001b[0m\u001b[0;34m:\u001b[0m\u001b[0;34m-\u001b[0m\u001b[0;36m2\u001b[0m\u001b[0;34m]\u001b[0m \u001b[0;32mfor\u001b[0m \u001b[0mmet\u001b[0m \u001b[0;32min\u001b[0m \u001b[0mmodel\u001b[0m\u001b[0;34m.\u001b[0m\u001b[0mmetabolites\u001b[0m\u001b[0;34m]\u001b[0m\u001b[0;34m)\u001b[0m\u001b[0;34m\u001b[0m\u001b[0m\n\u001b[0m",
      "\u001b[0;31mNameError\u001b[0m: name 'model' is not defined"
     ]
    }
   ],
   "source": [
    "set([met[:-2] for met in model.metabolites])"
   ]
  },
  {
   "cell_type": "code",
   "execution_count": 14,
   "metadata": {
    "collapsed": true
   },
   "outputs": [],
   "source": [
    "unique_mets = []\n",
    "for met in model.metabolites:\n",
    "    if met.id[:-2] not in unique_mets:\n",
    "        unique_mets.append(met.id[:-2])"
   ]
  },
  {
   "cell_type": "code",
   "execution_count": 15,
   "metadata": {},
   "outputs": [
    {
     "data": {
      "text/plain": [
       "783"
      ]
     },
     "execution_count": 15,
     "metadata": {},
     "output_type": "execute_result"
    }
   ],
   "source": [
    "len(unique_mets)"
   ]
  },
  {
   "cell_type": "code",
   "execution_count": 16,
   "metadata": {},
   "outputs": [
    {
     "data": {
      "text/plain": [
       "[<Metabolite q8_im at 0x115b148d0>, <Metabolite q8h2_im at 0x115b149d0>]"
      ]
     },
     "execution_count": 16,
     "metadata": {},
     "output_type": "execute_result"
    }
   ],
   "source": [
    "[met for met in model.metabolites if met.id.endswith('_im')]"
   ]
  },
  {
   "cell_type": "code",
   "execution_count": 17,
   "metadata": {},
   "outputs": [
    {
     "data": {
      "text/plain": [
       "u'outer membrane'"
      ]
     },
     "execution_count": 17,
     "metadata": {},
     "output_type": "execute_result"
    }
   ],
   "source": [
    "model.compartments.pop('om')"
   ]
  },
  {
   "cell_type": "code",
   "execution_count": 18,
   "metadata": {},
   "outputs": [
    {
     "data": {
      "text/plain": [
       "u'biomass'"
      ]
     },
     "execution_count": 18,
     "metadata": {},
     "output_type": "execute_result"
    }
   ],
   "source": [
    "model.compartments.pop('bm')"
   ]
  },
  {
   "cell_type": "code",
   "execution_count": 19,
   "metadata": {},
   "outputs": [
    {
     "data": {
      "text/plain": [
       "{u'c': u'cytosol',\n",
       " u'e': u'extracellular',\n",
       " u'im': u'inner membrane',\n",
       " u'p': u'periplasm'}"
      ]
     },
     "execution_count": 19,
     "metadata": {},
     "output_type": "execute_result"
    }
   ],
   "source": [
    "model.compartments"
   ]
  },
  {
   "cell_type": "code",
   "execution_count": 20,
   "metadata": {},
   "outputs": [
    {
     "data": {
      "text/plain": [
       "730"
      ]
     },
     "execution_count": 20,
     "metadata": {},
     "output_type": "execute_result"
    }
   ],
   "source": [
    "len(model.genes)"
   ]
  },
  {
   "cell_type": "code",
   "execution_count": 21,
   "metadata": {},
   "outputs": [
    {
     "data": {
      "text/plain": [
       "706"
      ]
     },
     "execution_count": 21,
     "metadata": {},
     "output_type": "execute_result"
    }
   ],
   "source": [
    "len([rxn for rxn in model.reactions if 'metanetx.reaction' in rxn.annotation])"
   ]
  },
  {
   "cell_type": "code",
   "execution_count": 22,
   "metadata": {},
   "outputs": [
    {
     "data": {
      "text/plain": [
       "883"
      ]
     },
     "execution_count": 22,
     "metadata": {},
     "output_type": "execute_result"
    }
   ],
   "source": [
    "len(model.metabolites)"
   ]
  },
  {
   "cell_type": "code",
   "execution_count": 23,
   "metadata": {},
   "outputs": [
    {
     "data": {
      "text/plain": [
       "829"
      ]
     },
     "execution_count": 23,
     "metadata": {},
     "output_type": "execute_result"
    }
   ],
   "source": [
    "len([met for met in model.metabolites if 'metanetx.chemical' in met.annotation])"
   ]
  },
  {
   "cell_type": "code",
   "execution_count": 24,
   "metadata": {},
   "outputs": [
    {
     "data": {
      "text/plain": [
       "{u'COFACTOR': [u'2 Cu2+', u'1-2 Fe'],\n",
       " u'CONFIDENCE SCORE': u'4',\n",
       " u'INHIBITOR': u'',\n",
       " u'LOCALIZATION': u'Inner Membrane'}"
      ]
     },
     "execution_count": 24,
     "metadata": {},
     "output_type": "execute_result"
    }
   ],
   "source": [
    "model.reactions.PMMOipp.notes"
   ]
  },
  {
   "cell_type": "code",
   "execution_count": 25,
   "metadata": {},
   "outputs": [],
   "source": [
    "enzyme_complexes = []\n",
    "for rxn in model.reactions:\n",
    "    if rxn.gene_reaction_rule != '' and 'and' in rxn.gene_reaction_rule \\\n",
    "    and rxn.gene_reaction_rule not in enzyme_complexes:\n",
    "        enzyme_complexes.append(rxn.gene_reaction_rule)\n",
    "        "
   ]
  },
  {
   "cell_type": "code",
   "execution_count": 26,
   "metadata": {},
   "outputs": [
    {
     "data": {
      "text/plain": [
       "24"
      ]
     },
     "execution_count": 26,
     "metadata": {},
     "output_type": "execute_result"
    }
   ],
   "source": [
    "len(enzyme_complexes)"
   ]
  },
  {
   "cell_type": "code",
   "execution_count": 27,
   "metadata": {},
   "outputs": [
    {
     "data": {
      "text/plain": [
       "[u'(MCA0967 and MCA0968) or (MCA1740 and MCA1741)',\n",
       " u'((MCA2576 or MCA1391 or MCA1210) and (MCA1393 or MCA1208) and (MCA1209 or MCA1392) and MCA1390 and MCA1389)',\n",
       " u'( MCA1194 and MCA1195 and MCA1198 and MCA1196 and MCA1200 and MCA1202 and MCA1205 )',\n",
       " u'MCA1952 and MCA1953',\n",
       " u'(((MCA1796 and MCA1797 and MCA1798) or (MCA2853 and MCA2854 and MCA2855)) and MCA0295)',\n",
       " u'(((( MCA0299 and MCA0300 ) and (MCA1528 and MCA1529 and MCA1530 and MCA1525 and MCA1527)) or (MCA0779 and MCA0780 and MCA0786 and MCA0787 and MCA0788 and MCA0783 and MCA0785)) and MCA0782 and MCA0781 and (MCA0789 or MCA2381))',\n",
       " u'( MCA1960_c and MCA1961_c and MCA1962 and MCA2405)',\n",
       " u'( MCA2618 and MCA2405)',\n",
       " u'(MCA1185 and MCA1186 and MCA1187)',\n",
       " u'((( MCA0879 and MCA0880) or (MCA2396 and MCA2397)) and MCA0882 and MCA0883)',\n",
       " u'((MCA0005 and MCA0006 and MCA0007 and MCA0008 and MCA0009 and MCA0010 and MCA0011 and MCA0012 and MCA0013) or (MCA2699 and MCA2700 and MCA2701 and MCA2707 and MCA2708 and MCA1556 and MCA3021))',\n",
       " u'(MCA1347 and MCA1348 and MCA1349 and MCA1350 and MCA1351 and MCA1352 and MCA1353 and MCA1354 and MCA1355 and MCA1356 and MCA1357 and MCA1358 and MCA1359)',\n",
       " u'(MCA2389 and MCA2388 and MCA2387 and MCA2386 and MCA2385 and MCA2384)',\n",
       " u'MCA3000 and MCA3001 and MCA3002',\n",
       " u'MCA2297 and MCA2294',\n",
       " u'( MCA0477 and MCA0478 )',\n",
       " u'(MCA0268 and MCA0490 and MCA2136) or MCA1581',\n",
       " u'MCA0955 and MCA0956',\n",
       " u'MCA1346 and MCA0791',\n",
       " u'MCA0952 and MCA0953 and MCA0954',\n",
       " u'MCA0869 and MCA0870 and MCA0871',\n",
       " u'MCA1181 and MCA1182 and MCA1183',\n",
       " u'MCA1072 and MCA1073 and MCA1074',\n",
       " u'MCA2216 and MCA2215 and MCA2217']"
      ]
     },
     "execution_count": 27,
     "metadata": {},
     "output_type": "execute_result"
    }
   ],
   "source": [
    "enzyme_complexes"
   ]
  },
  {
   "cell_type": "code",
   "execution_count": 8,
   "metadata": {},
   "outputs": [
    {
     "name": "stdout",
     "output_type": "stream",
     "text": [
      "\n",
      "Note: You must interrupt the kernel to end this command\n",
      "\n",
      "Serving to http://127.0.0.1:7655/\n",
      "[Ctrl-C to exit from terminal, or Ctrl-M i i to interrupt notebook kernel]\n",
      "\n",
      "stopping Server...\n"
     ]
    },
    {
     "name": "stderr",
     "output_type": "stream",
     "text": [
      "127.0.0.1 - - [16/May/2017 19:30:12] \"GET / HTTP/1.1\" 200 -\n"
     ]
    }
   ],
   "source": [
    "import escher\n",
    "        \n",
    "maps = escher.Builder(\n",
    "                    model=model,\n",
    "                    map_name = 'Methylococcus capsulatus genome-scale metabolic model',\n",
    "                    map_json='/Users/clie/Desktop/EFPro2/Reconstructions/Metabolic Map/18RXNplacedInSubsystems.json',\n",
    "                    show_gene_reaction_rules=True,\n",
    "                    use_3d_transform = True,\n",
    "                    )\n",
    "\n",
    "maps.set_reaction_scale([ { 'type': 'min', 'color': 'rgb(235,89,162)', 'size': 12 },\n",
    "   { 'type': 'median', 'color': 'rgb(200,200,200)', 'size': 20 },\n",
    "   { 'type': 'max', 'color': 'rgb(255,255,109)', 'size': 25 } ])\n",
    "maps.display_in_browser()"
   ]
  },
  {
   "cell_type": "code",
   "execution_count": 29,
   "metadata": {
    "collapsed": true
   },
   "outputs": [],
   "source": [
    "import json"
   ]
  },
  {
   "cell_type": "code",
   "execution_count": 63,
   "metadata": {
    "collapsed": true
   },
   "outputs": [],
   "source": [
    "import re"
   ]
  },
  {
   "cell_type": "code",
   "execution_count": 186,
   "metadata": {},
   "outputs": [],
   "source": [
    "with open('/Users/clie/Desktop/EFPro2/Reconstructions/Metabolic Map/16UpdateDuplicateAndParallelReactions.json','r') as data_file:\n",
    "    data = json.load(data_file) \n",
    "    \n",
    "    for rxn in data[1]['reactions']:\n",
    "        data[1]['reactions'][rxn]['bigg_id'] = data[1]['reactions'][rxn]['bigg_id'][:-2]\n",
    "        #map_rxn_mets = {met['bigg_id'] + ': ' + str(float(met['coefficient'])) for met in data[1]['reactions'][rxn]['metabolites']}\n",
    "        map_rxn_mets = {met['bigg_id'] for met in data[1]['reactions'][rxn]['metabolites']}\n",
    "        for reaction in model.reactions:\n",
    "            #model_rxn_mets = {key.id + ': ' + str(value) for (key,value) in reaction.metabolites.items()}\n",
    "            model_rxn_mets = {key.id for (key,value) in reaction.metabolites.items()}\n",
    "            core_pattern = re.split('([A-Z0-9]+)', reaction.id, maxsplit=1)\n",
    "            if map_rxn_mets == model_rxn_mets and core_pattern[1] in data[1]['reactions'][rxn]['bigg_id']:\n",
    "                data[1]['reactions'][rxn]['bigg_id'] = reaction.id\n",
    "                data[1]['reactions'][rxn]['name'] = reaction.name\n",
    "                data[1]['reactions'][rxn]['reversibility'] = reaction.reversibility\n",
    "            else:\n",
    "                pass\n",
    "            \n",
    "    unmapped_ids = []\n",
    "    for rxn in data[1]['reactions']:\n",
    "        if data[1]['reactions'][rxn]['bigg_id'] not in model.reactions:\n",
    "            unmapped_ids.append(data[1]['reactions'][rxn]['bigg_id'] + rxn)\n",
    "    \n",
    "with open('/Users/clie/Desktop/EFPro2/Reconstructions/Metabolic Map/17RemappingOfIDs.json', 'w') as f:\n",
    "    json.dump(data, f)"
   ]
  },
  {
   "cell_type": "code",
   "execution_count": 187,
   "metadata": {},
   "outputs": [
    {
     "data": {
      "text/plain": [
       "54"
      ]
     },
     "execution_count": 187,
     "metadata": {},
     "output_type": "execute_result"
    }
   ],
   "source": [
    "len(unmapped_ids)"
   ]
  },
  {
   "cell_type": "code",
   "execution_count": 3,
   "metadata": {},
   "outputs": [],
   "source": [
    "solution = model.solve()"
   ]
  },
  {
   "cell_type": "code",
   "execution_count": 191,
   "metadata": {},
   "outputs": [
    {
     "data": {
      "text/plain": [
       "frozenset({<Reaction HCITS at 0x1159a0550>})"
      ]
     },
     "execution_count": 191,
     "metadata": {},
     "output_type": "execute_result"
    }
   ],
   "source": [
    "model.metabolites.hac.reactions"
   ]
  },
  {
   "cell_type": "code",
   "execution_count": null,
   "metadata": {},
   "outputs": [
    {
     "name": "stdout",
     "output_type": "stream",
     "text": [
      "\n",
      "Note: You must interrupt the kernel to end this command\n",
      "\n",
      "Serving to http://127.0.0.1:7655/\n",
      "[Ctrl-C to exit from terminal, or Ctrl-M i i to interrupt notebook kernel]\n"
     ]
    },
    {
     "name": "stderr",
     "output_type": "stream",
     "text": [
      "/Users/clie/.virtualenvs/modeling/lib/python2.7/site-packages/escher/plots.py:356: UserWarning:\n",
      "\n",
      "map_json overrides map_name\n",
      "\n",
      "127.0.0.1 - - [05/May/2017 23:59:20] \"GET / HTTP/1.1\" 200 -\n"
     ]
    }
   ],
   "source": [
    "import escher\n",
    "        \n",
    "maps = escher.Builder(\n",
    "                    model=model,\n",
    "                    map_name = 'Methylococcus capsulatus genome-scale metabolic model',\n",
    "                    map_json='/Users/clie/Desktop/EFPro2/Reconstructions/Metabolic Map/18RXNplacedInSubsystems.json',\n",
    "                    # reaction_data = solution.fluxes,\n",
    "                    show_gene_reaction_rules=True,\n",
    "                    use_3d_transform = True,\n",
    "                    )\n",
    "\n",
    "maps.set_reaction_scale([ { 'type': 'min', 'color': 'rgb(235,89,162)', 'size': 12 },\n",
    "   { 'type': 'median', 'color': 'rgb(200,200,200)', 'size': 20 },\n",
    "   { 'type': 'max', 'color': 'rgb(255,255,109)', 'size': 25 } ])\n",
    "maps.display_in_browser()"
   ]
  },
  {
   "cell_type": "code",
   "execution_count": 201,
   "metadata": {},
   "outputs": [
    {
     "data": {
      "text/plain": [
       "u'rn00680:Methane metabolism,rn01100:Metabolic pathways,rn01120:Microbial metabolism in diverse environments,rn01200:Carbon metabolism'"
      ]
     },
     "execution_count": 201,
     "metadata": {},
     "output_type": "execute_result"
    }
   ],
   "source": [
    "model.reactions.SMMOi.subsystem"
   ]
  },
  {
   "cell_type": "code",
   "execution_count": 202,
   "metadata": {},
   "outputs": [
    {
     "data": {
      "text/plain": [
       "644"
      ]
     },
     "execution_count": 202,
     "metadata": {},
     "output_type": "execute_result"
    }
   ],
   "source": [
    "len([rxn for rxn in model.reactions if rxn.subsystem != ''])"
   ]
  },
  {
   "cell_type": "code",
   "execution_count": 229,
   "metadata": {},
   "outputs": [
    {
     "data": {
      "text/plain": [
       "{u'bigg.reaction': u'HEX1',\n",
       " u'kegg.reaction': u'R00299',\n",
       " u'metanetx.reaction': u'MNXR2720',\n",
       " u'rhea': [u'17825', u'17826', u'17827', u'17828'],\n",
       " u'seed': u'rxn00216',\n",
       " u'upa': [u'UPA:UCR00299', u'UPA:UER00180']}"
      ]
     },
     "execution_count": 229,
     "metadata": {},
     "output_type": "execute_result"
    }
   ],
   "source": [
    "model.reactions.HEX1.annotation"
   ]
  },
  {
   "cell_type": "code",
   "execution_count": 235,
   "metadata": {},
   "outputs": [
    {
     "data": {
      "text/plain": [
       "311"
      ]
     },
     "execution_count": 235,
     "metadata": {},
     "output_type": "execute_result"
    }
   ],
   "source": [
    "len([rxn for rxn in model.reactions if '' in rxn.annotation])"
   ]
  },
  {
   "cell_type": "code",
   "execution_count": 230,
   "metadata": {},
   "outputs": [
    {
     "data": {
      "text/plain": [
       "706"
      ]
     },
     "execution_count": 230,
     "metadata": {},
     "output_type": "execute_result"
    }
   ],
   "source": [
    "len([rxn for rxn in model.reactions if 'metanetx.reaction' in rxn.annotation])"
   ]
  },
  {
   "cell_type": "code",
   "execution_count": 228,
   "metadata": {},
   "outputs": [
    {
     "data": {
      "text/plain": [
       "634"
      ]
     },
     "execution_count": 228,
     "metadata": {},
     "output_type": "execute_result"
    }
   ],
   "source": [
    "len([rxn for rxn in model.reactions if 'kegg.reaction' in rxn.annotation])"
   ]
  },
  {
   "cell_type": "code",
   "execution_count": 207,
   "metadata": {},
   "outputs": [],
   "source": [
    "no_sub = [rxn for rxn in model.reactions if rxn.subsystem == '']"
   ]
  },
  {
   "cell_type": "code",
   "execution_count": null,
   "metadata": {
    "collapsed": true
   },
   "outputs": [],
   "source": [
    "model.reactions.F"
   ]
  },
  {
   "cell_type": "code",
   "execution_count": 218,
   "metadata": {},
   "outputs": [
    {
     "data": {
      "text/plain": [
       "u'AFAA'"
      ]
     },
     "execution_count": 218,
     "metadata": {},
     "output_type": "execute_result"
    }
   ],
   "source": [
    "model.reactions.MC_AFAA.id.split('_')[1]"
   ]
  },
  {
   "cell_type": "code",
   "execution_count": 223,
   "metadata": {},
   "outputs": [],
   "source": [
    "subsys_dic = {}\n",
    "\n",
    "for rxn in model.reactions:\n",
    "    if rxn.id.startswith('EX_') or rxn.id.startswith('DM_'):\n",
    "        pass\n",
    "    elif rxn.id.startswith('MC_'):\n",
    "        r_id = rxn.id.split('_')[1]\n",
    "        if r_id in ecoli.reactions:\n",
    "            subsys_dic[r_id] = ecoli.reactions.get_by_id(r_id).subsystem\n",
    "    else:\n",
    "        r_id = rxn.id.split('_')[0]\n",
    "        if r_id in ecoli.reactions:\n",
    "            subsys_dic[r_id] = ecoli.reactions.get_by_id(r_id).subsystem"
   ]
  },
  {
   "cell_type": "code",
   "execution_count": 226,
   "metadata": {},
   "outputs": [
    {
     "data": {
      "text/plain": [
       "{u'3HAD100': u'Cell Envelope Biosynthesis',\n",
       " u'3HAD120': u'Cell Envelope Biosynthesis',\n",
       " u'3HAD140': u'Cell Envelope Biosynthesis',\n",
       " u'3HAD160': u'Cell Envelope Biosynthesis',\n",
       " u'3HAD180': u'Cell Envelope Biosynthesis',\n",
       " u'3HAD40': u'Cell Envelope Biosynthesis',\n",
       " u'3HAD60': u'Cell Envelope Biosynthesis',\n",
       " u'3HAD80': u'Cell Envelope Biosynthesis',\n",
       " u'3OAR100': u'Cell Envelope Biosynthesis',\n",
       " u'3OAR120': u'Cell Envelope Biosynthesis',\n",
       " u'3OAR140': u'Cell Envelope Biosynthesis',\n",
       " u'3OAR160': u'Cell Envelope Biosynthesis',\n",
       " u'3OAR180': u'Cell Envelope Biosynthesis',\n",
       " u'3OAR40': u'Cell Envelope Biosynthesis',\n",
       " u'3OAR60': u'Cell Envelope Biosynthesis',\n",
       " u'3OAR80': u'Cell Envelope Biosynthesis',\n",
       " u'3OAS100': u'Cell Envelope Biosynthesis',\n",
       " u'3OAS120': u'Cell Envelope Biosynthesis',\n",
       " u'3OAS140': u'Cell Envelope Biosynthesis',\n",
       " u'3OAS160': u'Cell Envelope Biosynthesis',\n",
       " u'3OAS180': u'Cell Envelope Biosynthesis',\n",
       " u'3OAS60': u'Cell Envelope Biosynthesis',\n",
       " u'3OAS80': u'Cell Envelope Biosynthesis',\n",
       " u'4HTHRS': u'Cofactor and Prosthetic Group Biosynthesis',\n",
       " u'A5PISO': u'Alternate Carbon Metabolism',\n",
       " u'ACBIPGT': u'Cofactor and Prosthetic Group Biosynthesis',\n",
       " u'ACCOAC': u'Membrane Lipid Metabolism',\n",
       " u'ACGK': u'Arginine and Proline Metabolism',\n",
       " u'ACGS': u'Arginine and Proline Metabolism',\n",
       " u'ACHBS': u'Valine, Leucine, and Isoleucine Metabolism',\n",
       " u'ACKr': u'Pyruvate Metabolism',\n",
       " u'ACLS': u'Valine, Leucine, and Isoleucine Metabolism',\n",
       " u'ACOATA': u'Membrane Lipid Metabolism',\n",
       " u'ACODA': u'Arginine and Proline Metabolism',\n",
       " u'ACOLIPAabctex': u'Lipopolysaccharide Biosynthesis / Recycling',\n",
       " u'ACONTa': u'Citric Acid Cycle',\n",
       " u'ACONTb': u'Citric Acid Cycle',\n",
       " u'ACOTA': u'Arginine and Proline Metabolism',\n",
       " u'ACPS1': u'Cofactor and Prosthetic Group Biosynthesis',\n",
       " u'ACS': u'Pyruvate Metabolism',\n",
       " u'ADCL': u'Cofactor and Prosthetic Group Biosynthesis',\n",
       " u'ADCS': u'Cofactor and Prosthetic Group Biosynthesis',\n",
       " u'ADEt2rpp': u'Transport, Inner Membrane',\n",
       " u'ADEtex': u'Transport, Outer Membrane Porin',\n",
       " u'ADK1': u'Nucleotide Salvage Pathway',\n",
       " u'ADMDC': u'Arginine and Proline Metabolism',\n",
       " u'ADNK1': u'Nucleotide Salvage Pathway',\n",
       " u'ADOCBIK': u'Cofactor and Prosthetic Group Biosynthesis',\n",
       " u'ADOCBLS': u'Cofactor and Prosthetic Group Biosynthesis',\n",
       " u'ADPRDP': u'Nucleotide Salvage Pathway',\n",
       " u'ADPT': u'Nucleotide Salvage Pathway',\n",
       " u'ADSK': u'Cysteine Metabolism',\n",
       " u'ADSL2r': u'Purine and Pyrimidine Biosynthesis',\n",
       " u'ADSS': u'Purine and Pyrimidine Biosynthesis',\n",
       " u'AGMHE': u'Lipopolysaccharide Biosynthesis / Recycling',\n",
       " u'AGPR': u'Arginine and Proline Metabolism',\n",
       " u'AHCYSNS': u'Methionine Metabolism',\n",
       " u'AICART': u'Purine and Pyrimidine Biosynthesis',\n",
       " u'AIRC2': u'Purine and Pyrimidine Biosynthesis',\n",
       " u'AIRC3': u'Purine and Pyrimidine Biosynthesis',\n",
       " u'AKGDH': u'Citric Acid Cycle',\n",
       " u'ALAALAr': u'Cell Envelope Biosynthesis',\n",
       " u'ALAR': u'Alanine and Aspartate Metabolism',\n",
       " u'ALATRS': u'tRNA Charging',\n",
       " u'AMAOTr': u'Cofactor and Prosthetic Group Biosynthesis',\n",
       " u'AMPTASECG': u'Cysteine Metabolism',\n",
       " u'ANPRT': u'Tyrosine, Tryptophan, and Phenylalanine Metabolism',\n",
       " u'ANS': u'Tyrosine, Tryptophan, and Phenylalanine Metabolism',\n",
       " u'AOXSr2': u'Cofactor and Prosthetic Group Biosynthesis',\n",
       " u'AP4AH': u'Nucleotide Salvage Pathway',\n",
       " u'APCS': u'Arginine and Proline Metabolism',\n",
       " u'APRAUR': u'Cofactor and Prosthetic Group Biosynthesis',\n",
       " u'ARGDC': u'Arginine and Proline Metabolism',\n",
       " u'ARGSL': u'Arginine and Proline Metabolism',\n",
       " u'ARGSS': u'Arginine and Proline Metabolism',\n",
       " u'ARGTRS': u'tRNA Charging',\n",
       " u'ASAD': u'Threonine and Lysine Metabolism',\n",
       " u'ASNN': u'Alanine and Aspartate Metabolism',\n",
       " u'ASNS1': u'Alanine and Aspartate Metabolism',\n",
       " u'ASO3t8pp': u'Transport, Inner Membrane',\n",
       " u'ASO3tex': u'Transport, Outer Membrane Porin',\n",
       " u'ASP1DC': u'Cofactor and Prosthetic Group Biosynthesis',\n",
       " u'ASPCT': u'Purine and Pyrimidine Biosynthesis',\n",
       " u'ASPK': u'Threonine and Lysine Metabolism',\n",
       " u'ASPO6': u'Cofactor and Prosthetic Group Biosynthesis',\n",
       " u'ASPTA': u'Alanine and Aspartate Metabolism',\n",
       " u'ASPTRS': u'tRNA Charging',\n",
       " u'ATPM': u'Unassigned',\n",
       " u'ATPPRT': u'Histidine Metabolism',\n",
       " u'BPNT': u'Cysteine Metabolism',\n",
       " u'CA2t3pp': u'Inorganic Ion Transport and Metabolism',\n",
       " u'CA2tex': u'Transport, Outer Membrane Porin',\n",
       " u'CAt6pp': u'Inorganic Ion Transport and Metabolism',\n",
       " u'CBIAT': u'Cofactor and Prosthetic Group Biosynthesis',\n",
       " u'CBPS': u'Arginine and Proline Metabolism',\n",
       " u'CD2t3pp': u'Inorganic Ion Transport and Metabolism',\n",
       " u'CD2tex': u'Transport, Outer Membrane Porin',\n",
       " u'CD2tpp': u'Inorganic Ion Transport and Metabolism',\n",
       " u'CDGR': u'Cofactor and Prosthetic Group Biosynthesis',\n",
       " u'CDPMEK': u'Cofactor and Prosthetic Group Biosynthesis',\n",
       " u'CHORM': u'Tyrosine, Tryptophan, and Phenylalanine Metabolism',\n",
       " u'CHORS': u'Tyrosine, Tryptophan, and Phenylalanine Metabolism',\n",
       " u'CHRPL': u'Cofactor and Prosthetic Group Biosynthesis',\n",
       " u'CINNDO': u'Alternate Carbon Metabolism',\n",
       " u'CITL': u'Citric Acid Cycle',\n",
       " u'CLIPAabctex': u'Lipopolysaccharide Biosynthesis / Recycling',\n",
       " u'CLtex': u'Transport, Outer Membrane Porin',\n",
       " u'COBALT2t3pp': u'Inorganic Ion Transport and Metabolism',\n",
       " u'COBALT2tex': u'Transport, Outer Membrane Porin',\n",
       " u'COBALT2tpp': u'Inorganic Ion Transport and Metabolism',\n",
       " u'COLIPAabcpp': u'Lipopolysaccharide Biosynthesis / Recycling',\n",
       " u'COLIPAabctex': u'Lipopolysaccharide Biosynthesis / Recycling',\n",
       " u'CPMPS': u'Cofactor and Prosthetic Group Biosynthesis',\n",
       " u'CPPPGO': u'Cofactor and Prosthetic Group Biosynthesis',\n",
       " u'CPPPGO2': u'Cofactor and Prosthetic Group Biosynthesis',\n",
       " u'CS': u'Citric Acid Cycle',\n",
       " u'CSND': u'Nucleotide Salvage Pathway',\n",
       " u'CTPS2': u'Purine and Pyrimidine Biosynthesis',\n",
       " u'CU2abcpp': u'Inorganic Ion Transport and Metabolism',\n",
       " u'CU2tex': u'Transport, Outer Membrane Porin',\n",
       " u'CU2tpp': u'Inorganic Ion Transport and Metabolism',\n",
       " u'CYSDS': u'Cysteine Metabolism',\n",
       " u'CYSS': u'Cysteine Metabolism',\n",
       " u'CYSTL': u'Methionine Metabolism',\n",
       " u'CYSTRS': u'tRNA Charging',\n",
       " u'CYTK1': u'Nucleotide Salvage Pathway',\n",
       " u'CYTK2': u'Nucleotide Salvage Pathway',\n",
       " u'DADK': u'Nucleotide Salvage Pathway',\n",
       " u'DAPDC': u'Threonine and Lysine Metabolism',\n",
       " u'DAPE': u'Threonine and Lysine Metabolism',\n",
       " u'DB4PS': u'Cofactor and Prosthetic Group Biosynthesis',\n",
       " u'DBTS': u'Cofactor and Prosthetic Group Biosynthesis',\n",
       " u'DCTPD': u'Nucleotide Salvage Pathway',\n",
       " u'DDPA': u'Tyrosine, Tryptophan, and Phenylalanine Metabolism',\n",
       " u'DGK1': u'Nucleotide Salvage Pathway',\n",
       " u'DHAD1': u'Valine, Leucine, and Isoleucine Metabolism',\n",
       " u'DHAD2': u'Valine, Leucine, and Isoleucine Metabolism',\n",
       " u'DHDPRy': u'Threonine and Lysine Metabolism',\n",
       " u'DHDPS': u'Threonine and Lysine Metabolism',\n",
       " u'DHFR': u'Cofactor and Prosthetic Group Biosynthesis',\n",
       " u'DHFS': u'Cofactor and Prosthetic Group Biosynthesis',\n",
       " u'DHORDfum': u'Purine and Pyrimidine Biosynthesis',\n",
       " u'DHORTS': u'Purine and Pyrimidine Biosynthesis',\n",
       " u'DHPS2': u'Cofactor and Prosthetic Group Biosynthesis',\n",
       " u'DHQS': u'Tyrosine, Tryptophan, and Phenylalanine Metabolism',\n",
       " u'DMATT': u'Cofactor and Prosthetic Group Biosynthesis',\n",
       " u'DMPPS': u'Cofactor and Prosthetic Group Biosynthesis',\n",
       " u'DMQMT': u'Cofactor and Prosthetic Group Biosynthesis',\n",
       " u'DPCOAK': u'Cofactor and Prosthetic Group Biosynthesis',\n",
       " u'DPR': u'Cofactor and Prosthetic Group Biosynthesis',\n",
       " u'DTMPK': u'Nucleotide Salvage Pathway',\n",
       " u'DURIPP': u'Nucleotide Salvage Pathway',\n",
       " u'DUTPDP': u'Nucleotide Salvage Pathway',\n",
       " u'DXPRIi': u'Cofactor and Prosthetic Group Biosynthesis',\n",
       " u'DXPS': u'Cofactor and Prosthetic Group Biosynthesis',\n",
       " u'EAR100x': u'Cell Envelope Biosynthesis',\n",
       " u'EAR100y': u'Cell Envelope Biosynthesis',\n",
       " u'EAR120x': u'Cell Envelope Biosynthesis',\n",
       " u'EAR120y': u'Cell Envelope Biosynthesis',\n",
       " u'EAR140x': u'Cell Envelope Biosynthesis',\n",
       " u'EAR140y': u'Cell Envelope Biosynthesis',\n",
       " u'EAR160x': u'Cell Envelope Biosynthesis',\n",
       " u'EAR160y': u'Cell Envelope Biosynthesis',\n",
       " u'EAR180x': u'Cell Envelope Biosynthesis',\n",
       " u'EAR40x': u'Cell Envelope Biosynthesis',\n",
       " u'EAR40y': u'Cell Envelope Biosynthesis',\n",
       " u'EAR60x': u'Cell Envelope Biosynthesis',\n",
       " u'EAR60y': u'Cell Envelope Biosynthesis',\n",
       " u'EAR80x': u'Cell Envelope Biosynthesis',\n",
       " u'EAR80y': u'Cell Envelope Biosynthesis',\n",
       " u'ECA4COLIPAabctex': u'Lipopolysaccharide Biosynthesis / Recycling',\n",
       " u'EDA': u'Pentose Phosphate Pathway',\n",
       " u'EDD': u'Pentose Phosphate Pathway',\n",
       " u'EDTXS1': u'Lipopolysaccharide Biosynthesis / Recycling',\n",
       " u'EDTXS2': u'Lipopolysaccharide Biosynthesis / Recycling',\n",
       " u'EGMEACPR': u'Cofactor and Prosthetic Group Biosynthesis',\n",
       " u'ENLIPAabctex': u'Lipopolysaccharide Biosynthesis / Recycling',\n",
       " u'ENO': u'Glycolysis/Gluconeogenesis',\n",
       " u'EPMEACPR': u'Cofactor and Prosthetic Group Biosynthesis',\n",
       " u'FA140ACPHi': u'Cell Envelope Biosynthesis',\n",
       " u'FA160ACPHi': u'Cell Envelope Biosynthesis',\n",
       " u'FACOAE141': u'Cell Envelope Biosynthesis',\n",
       " u'FACOAE160': u'Cell Envelope Biosynthesis',\n",
       " u'FACOAE180': u'Cell Envelope Biosynthesis',\n",
       " u'FACOAE181': u'Cell Envelope Biosynthesis',\n",
       " u'FALDtex': u'Transport, Outer Membrane Porin',\n",
       " u'FALDtpp': u'Transport, Inner Membrane',\n",
       " u'FBA': u'Glycolysis/Gluconeogenesis',\n",
       " u'FBA3': u'Pentose Phosphate Pathway',\n",
       " u'FCLT': u'Cofactor and Prosthetic Group Biosynthesis',\n",
       " u'FE2tex': u'Transport, Outer Membrane Porin',\n",
       " u'FE2tpp': u'Inorganic Ion Transport and Metabolism',\n",
       " u'FMETTRS': u'tRNA Charging',\n",
       " u'FMNAT': u'Cofactor and Prosthetic Group Biosynthesis',\n",
       " u'FMNRx': u'Cofactor and Prosthetic Group Biosynthesis',\n",
       " u'FMNRx2': u'Cofactor and Prosthetic Group Biosynthesis',\n",
       " u'FOMETRi': u'Folate Metabolism',\n",
       " u'FTHFLi': u'Folate Metabolism',\n",
       " u'FUM': u'Citric Acid Cycle',\n",
       " u'FUMtex': u'Transport, Outer Membrane Porin',\n",
       " u'G1PACT': u'Cell Envelope Biosynthesis',\n",
       " u'G1PTT': u'Cell Envelope Biosynthesis',\n",
       " u'G1SAT': u'Cofactor and Prosthetic Group Biosynthesis',\n",
       " u'G3PD2': u'Alternate Carbon Metabolism',\n",
       " u'G5SADs': u'Arginine and Proline Metabolism',\n",
       " u'G5SD': u'Arginine and Proline Metabolism',\n",
       " u'G6PDA': u'Alternate Carbon Metabolism',\n",
       " u'GALT1': u'Lipopolysaccharide Biosynthesis / Recycling',\n",
       " u'GALUi': u'Cell Envelope Biosynthesis',\n",
       " u'GAPD': u'Glycolysis/Gluconeogenesis',\n",
       " u'GARFT': u'Purine and Pyrimidine Biosynthesis',\n",
       " u'GF6PTA': u'Cell Envelope Biosynthesis',\n",
       " u'GHMT2r': u'Glycine and Serine Metabolism',\n",
       " u'GK1': u'Nucleotide Salvage Pathway',\n",
       " u'GLCTR1': u'Lipopolysaccharide Biosynthesis / Recycling',\n",
       " u'GLCTR2': u'Lipopolysaccharide Biosynthesis / Recycling',\n",
       " u'GLCTR3': u'Lipopolysaccharide Biosynthesis / Recycling',\n",
       " u'GLGC': u'Glycolysis/Gluconeogenesis',\n",
       " u'GLNS': u'Glutamate Metabolism',\n",
       " u'GLU5K': u'Arginine and Proline Metabolism',\n",
       " u'GLUCYS': u'Cofactor and Prosthetic Group Biosynthesis',\n",
       " u'GLUDy': u'Glutamate Metabolism',\n",
       " u'GLUPRT': u'Purine and Pyrimidine Biosynthesis',\n",
       " u'GLUR': u'Cell Envelope Biosynthesis',\n",
       " u'GLUSy': u'Glutamate Metabolism',\n",
       " u'GLUTRR': u'Cofactor and Prosthetic Group Biosynthesis',\n",
       " u'GLUTRS': u'Cofactor and Prosthetic Group Biosynthesis',\n",
       " u'GLYCDx': u'Alternate Carbon Metabolism',\n",
       " u'GLYCK': u'Glyoxylate Metabolism',\n",
       " u'GLYCL': u'Folate Metabolism',\n",
       " u'GLYCLTDx': u'Glyoxylate Metabolism',\n",
       " u'GLYCLTDy': u'Glyoxylate Metabolism',\n",
       " u'GLYCtex': u'Transport, Outer Membrane Porin',\n",
       " u'GLYOX': u'Methylglyoxal Metabolism',\n",
       " u'GLYTRS': u'tRNA Charging',\n",
       " u'GMAND': u'Cell Envelope Biosynthesis',\n",
       " u'GMHEPAT': u'Lipopolysaccharide Biosynthesis / Recycling',\n",
       " u'GMHEPK': u'Lipopolysaccharide Biosynthesis / Recycling',\n",
       " u'GMHEPPA': u'Lipopolysaccharide Biosynthesis / Recycling',\n",
       " u'GMPS2': u'Purine and Pyrimidine Biosynthesis',\n",
       " u'GND': u'Pentose Phosphate Pathway',\n",
       " u'GPDDA1': u'Glycerophospholipid Metabolism',\n",
       " u'GPDDA2': u'Glycerophospholipid Metabolism',\n",
       " u'GRTT': u'Cofactor and Prosthetic Group Biosynthesis',\n",
       " u'GTHPi': u'Unassigned',\n",
       " u'GTHRDHpp': u'Cofactor and Prosthetic Group Biosynthesis',\n",
       " u'GTHS': u'Cofactor and Prosthetic Group Biosynthesis',\n",
       " u'GTPCI': u'Cofactor and Prosthetic Group Biosynthesis',\n",
       " u'GTPDPDP': u'Cofactor and Prosthetic Group Biosynthesis',\n",
       " u'GTPDPK': u'Cofactor and Prosthetic Group Biosynthesis',\n",
       " u'GUAPRT': u'Nucleotide Salvage Pathway',\n",
       " u'GUAt2pp': u'Transport, Inner Membrane',\n",
       " u'GUAtex': u'Transport, Outer Membrane',\n",
       " u'H2Otex': u'Transport, Outer Membrane Porin',\n",
       " u'H2Otpp': u'Transport, Inner Membrane',\n",
       " u'HBZOPT': u'Cofactor and Prosthetic Group Biosynthesis',\n",
       " u'HCO3E': u'Unassigned',\n",
       " u'HCYSMT': u'Methionine Metabolism',\n",
       " u'HEMEOS': u'Cofactor and Prosthetic Group Biosynthesis',\n",
       " u'HEPK1': u'Lipopolysaccharide Biosynthesis / Recycling',\n",
       " u'HEPK2': u'Lipopolysaccharide Biosynthesis / Recycling',\n",
       " u'HEPT1': u'Lipopolysaccharide Biosynthesis / Recycling',\n",
       " u'HEPT2': u'Lipopolysaccharide Biosynthesis / Recycling',\n",
       " u'HEPT3': u'Lipopolysaccharide Biosynthesis / Recycling',\n",
       " u'HEPT4': u'Lipopolysaccharide Biosynthesis / Recycling',\n",
       " u'HEX1': u'Glycolysis/Gluconeogenesis',\n",
       " u'HISTD': u'Histidine Metabolism',\n",
       " u'HISTP': u'Histidine Metabolism',\n",
       " u'HISTRS': u'tRNA Charging',\n",
       " u'HMBS': u'Cofactor and Prosthetic Group Biosynthesis',\n",
       " u'HMPK1': u'Cofactor and Prosthetic Group Biosynthesis',\n",
       " u'HSDy': u'Threonine and Lysine Metabolism',\n",
       " u'HSK': u'Threonine and Lysine Metabolism',\n",
       " u'HSST': u'Methionine Metabolism',\n",
       " u'HSTPT': u'Histidine Metabolism',\n",
       " u'HXPRT': u'Nucleotide Salvage Pathway',\n",
       " u'Htex': u'Transport, Outer Membrane Porin',\n",
       " u'IG3PS': u'Histidine Metabolism',\n",
       " u'IGPDH': u'Histidine Metabolism',\n",
       " u'IGPS': u'Tyrosine, Tryptophan, and Phenylalanine Metabolism',\n",
       " u'ILETA': u'Valine, Leucine, and Isoleucine Metabolism',\n",
       " u'ILETRS': u'tRNA Charging',\n",
       " u'IMPC': u'Purine and Pyrimidine Biosynthesis',\n",
       " u'IMPD': u'Purine and Pyrimidine Biosynthesis',\n",
       " u'IPDPS': u'Cofactor and Prosthetic Group Biosynthesis',\n",
       " u'IPMD': u'Valine, Leucine, and Isoleucine Metabolism',\n",
       " u'IPPMIa': u'Valine, Leucine, and Isoleucine Metabolism',\n",
       " u'IPPMIb': u'Valine, Leucine, and Isoleucine Metabolism',\n",
       " u'IPPS': u'Valine, Leucine, and Isoleucine Metabolism',\n",
       " u'KARA1': u'Valine, Leucine, and Isoleucine Metabolism',\n",
       " u'KAS14': u'Membrane Lipid Metabolism',\n",
       " u'KDOPP': u'Lipopolysaccharide Biosynthesis / Recycling',\n",
       " u'KDOPS': u'Lipopolysaccharide Biosynthesis / Recycling',\n",
       " u'Kabcpp': u'Inorganic Ion Transport and Metabolism',\n",
       " u'Kt2pp': u'Inorganic Ion Transport and Metabolism',\n",
       " u'Kt3pp': u'Inorganic Ion Transport and Metabolism',\n",
       " u'Ktex': u'Transport, Outer Membrane Porin',\n",
       " u'LA4NTpp': u'Lipopolysaccharide Biosynthesis / Recycling',\n",
       " u'LEUTRS': u'tRNA Charging',\n",
       " u'LGTHL': u'Methylglyoxal Metabolism',\n",
       " u'LPADSS': u'Lipopolysaccharide Biosynthesis / Recycling',\n",
       " u'LYSTRS': u'tRNA Charging',\n",
       " u'MAN1PT2': u'Cell Envelope Biosynthesis',\n",
       " u'MAN6PI': u'Alternate Carbon Metabolism',\n",
       " u'MCOATA': u'Membrane Lipid Metabolism',\n",
       " u'MDH': u'Citric Acid Cycle',\n",
       " u'ME1': u'Anaplerotic Reactions',\n",
       " u'MECDPDH5': u'Cofactor and Prosthetic Group Biosynthesis',\n",
       " u'MECDPS': u'Cofactor and Prosthetic Group Biosynthesis',\n",
       " u'MEOHtex': u'Transport, Outer Membrane Porin',\n",
       " u'MEOHtrpp': u'Transport, Inner Membrane',\n",
       " u'MEPCT': u'Cofactor and Prosthetic Group Biosynthesis',\n",
       " u'METAT': u'Methionine Metabolism',\n",
       " u'METS': u'Methionine Metabolism',\n",
       " u'METTRS': u'tRNA Charging',\n",
       " u'MG2tex': u'Transport, Outer Membrane Porin',\n",
       " u'MG2tpp': u'Inorganic Ion Transport and Metabolism',\n",
       " u'MG2uabcpp': u'Inorganic Ion Transport and Metabolism',\n",
       " u'MI1PP': u'Cell Envelope Biosynthesis',\n",
       " u'MN2t3pp': u'Inorganic Ion Transport and Metabolism',\n",
       " u'MN2tpp': u'Inorganic Ion Transport and Metabolism',\n",
       " u'MOAT': u'Lipopolysaccharide Biosynthesis / Recycling',\n",
       " u'MOAT2': u'Lipopolysaccharide Biosynthesis / Recycling',\n",
       " u'MOAT3C': u'Lipopolysaccharide Biosynthesis / Recycling',\n",
       " u'MOHMT': u'Cofactor and Prosthetic Group Biosynthesis',\n",
       " u'MTAN': u'Arginine and Proline Metabolism',\n",
       " u'MTHFD': u'Folate Metabolism',\n",
       " u'MTHFR2': u'Folate Metabolism',\n",
       " u'N2Otex': u'Transport, Outer Membrane Porin',\n",
       " u'NADH16pp': u'Oxidative Phosphorylation',\n",
       " u'NADK': u'Cofactor and Prosthetic Group Biosynthesis',\n",
       " u'NADTRHD': u'Oxidative Phosphorylation',\n",
       " u'NAt3pp': u'Inorganic Ion Transport and Metabolism',\n",
       " u'NDPK1': u'Nucleotide Salvage Pathway',\n",
       " u'NDPK2': u'Nucleotide Salvage Pathway',\n",
       " u'NDPK3': u'Nucleotide Salvage Pathway',\n",
       " u'NDPK4': u'Nucleotide Salvage Pathway',\n",
       " u'NDPK5': u'Nucleotide Salvage Pathway',\n",
       " u'NDPK6': u'Nucleotide Salvage Pathway',\n",
       " u'NDPK7': u'Nucleotide Salvage Pathway',\n",
       " u'NDPK8': u'Nucleotide Salvage Pathway',\n",
       " u'NH4tex': u'Transport, Outer Membrane Porin',\n",
       " u'NH4tpp': u'Inorganic Ion Transport and Metabolism',\n",
       " u'NI2t3pp': u'Inorganic Ion Transport and Metabolism',\n",
       " u'NI2tex': u'Transport, Outer Membrane Porin',\n",
       " u'NI2uabcpp': u'Inorganic Ion Transport and Metabolism',\n",
       " u'NMNAT': u'Cofactor and Prosthetic Group Biosynthesis',\n",
       " u'NNAM': u'Cofactor and Prosthetic Group Biosynthesis',\n",
       " u'NNDMBRT': u'Cofactor and Prosthetic Group Biosynthesis',\n",
       " u'NNDPR': u'Cofactor and Prosthetic Group Biosynthesis',\n",
       " u'NO2tex': u'Transport, Outer Membrane Porin',\n",
       " u'NO3t7pp': u'Inorganic Ion Transport and Metabolism',\n",
       " u'NO3tex': u'Transport, Outer Membrane Porin',\n",
       " u'NOtex': u'Transport, Outer Membrane Porin',\n",
       " u'NTD10': u'Nucleotide Salvage Pathway',\n",
       " u'NTD11': u'Nucleotide Salvage Pathway',\n",
       " u'NTD2': u'Nucleotide Salvage Pathway',\n",
       " u'NTD3': u'Nucleotide Salvage Pathway',\n",
       " u'NTD4': u'Nucleotide Salvage Pathway',\n",
       " u'NTD5': u'Nucleotide Salvage Pathway',\n",
       " u'NTD6': u'Nucleotide Salvage Pathway',\n",
       " u'NTD7': u'Nucleotide Salvage Pathway',\n",
       " u'NTD8': u'Nucleotide Salvage Pathway',\n",
       " u'NTD9': u'Nucleotide Salvage Pathway',\n",
       " u'NTPP1': u'Nucleotide Salvage Pathway',\n",
       " u'NTPP10': u'Nucleotide Salvage Pathway',\n",
       " u'NTPP11': u'Nucleotide Salvage Pathway',\n",
       " u'NTPP2': u'Nucleotide Salvage Pathway',\n",
       " u'NTPP4': u'Nucleotide Salvage Pathway',\n",
       " u'NTPP6': u'Nucleotide Salvage Pathway',\n",
       " u'NTPP8': u'Nucleotide Salvage Pathway',\n",
       " u'NTPP9': u'Nucleotide Salvage Pathway',\n",
       " u'NTRIR2x': u'Oxidative Phosphorylation',\n",
       " u'O16A4COLIPAabctex': u'Lipopolysaccharide Biosynthesis / Recycling',\n",
       " u'O16AT': u'Lipopolysaccharide Biosynthesis / Recycling',\n",
       " u'O16GALFT': u'Lipopolysaccharide Biosynthesis / Recycling',\n",
       " u'O16GLCT1': u'Lipopolysaccharide Biosynthesis / Recycling',\n",
       " u'O16GLCT2': u'Lipopolysaccharide Biosynthesis / Recycling',\n",
       " u'O2tex': u'Transport, Outer Membrane Porin',\n",
       " u'O2tpp': u'Inorganic Ion Transport and Metabolism',\n",
       " u'OAADC': u'Pyruvate Metabolism',\n",
       " u'OCTDPS': u'Cofactor and Prosthetic Group Biosynthesis',\n",
       " u'OGMEACPD': u'Cofactor and Prosthetic Group Biosynthesis',\n",
       " u'OHPBAT': u'Cofactor and Prosthetic Group Biosynthesis',\n",
       " u'OHPHM': u'Cofactor and Prosthetic Group Biosynthesis',\n",
       " u'OMBZLM': u'Cofactor and Prosthetic Group Biosynthesis',\n",
       " u'OMCDC': u'Valine, Leucine, and Isoleucine Metabolism',\n",
       " u'OMMBLHX': u'Cofactor and Prosthetic Group Biosynthesis',\n",
       " u'OMPDC': u'Purine and Pyrimidine Biosynthesis',\n",
       " u'OMPHHX': u'Cofactor and Prosthetic Group Biosynthesis',\n",
       " u'OPHBDC': u'Cofactor and Prosthetic Group Biosynthesis',\n",
       " u'OPHHX': u'Cofactor and Prosthetic Group Biosynthesis',\n",
       " u'OPMEACPD': u'Cofactor and Prosthetic Group Biosynthesis',\n",
       " u'OROTtex': u'Transport, Outer Membrane Porin',\n",
       " u'ORPT': u'Purine and Pyrimidine Biosynthesis',\n",
       " u'P5CR': u'Arginine and Proline Metabolism',\n",
       " u'PACCOAL': u'Alternate Carbon Metabolism',\n",
       " u'PANTS': u'Cofactor and Prosthetic Group Biosynthesis',\n",
       " u'PAPPT3': u'Cell Envelope Biosynthesis',\n",
       " u'PAPSR': u'Cysteine Metabolism',\n",
       " u'PDH': u'Glycolysis/Gluconeogenesis',\n",
       " u'PFK': u'Glycolysis/Gluconeogenesis',\n",
       " u'PFL': u'Pyruvate Metabolism',\n",
       " u'PGAMT': u'Cell Envelope Biosynthesis',\n",
       " u'PGCD': u'Glycine and Serine Metabolism',\n",
       " u'PGI': u'Glycolysis/Gluconeogenesis',\n",
       " u'PGK': u'Glycolysis/Gluconeogenesis',\n",
       " u'PGL': u'Pentose Phosphate Pathway',\n",
       " u'PGLYCP': u'Alternate Carbon Metabolism',\n",
       " u'PGM': u'Glycolysis/Gluconeogenesis',\n",
       " u'PGMT': u'Alternate Carbon Metabolism',\n",
       " u'PHEMEabcpp': u'Transport, Inner Membrane',\n",
       " u'PHETA1': u'Tyrosine, Tryptophan, and Phenylalanine Metabolism',\n",
       " u'PHETRS': u'tRNA Charging',\n",
       " u'PIt2rpp': u'Inorganic Ion Transport and Metabolism',\n",
       " u'PItex': u'Transport, Outer Membrane Porin',\n",
       " u'PIuabcpp': u'Inorganic Ion Transport and Metabolism',\n",
       " u'PMANM': u'Alternate Carbon Metabolism',\n",
       " u'PMDPHT': u'Cofactor and Prosthetic Group Biosynthesis',\n",
       " u'PMEACPE': u'Cofactor and Prosthetic Group Biosynthesis',\n",
       " u'PMPK': u'Cofactor and Prosthetic Group Biosynthesis',\n",
       " u'PNTK': u'Cofactor and Prosthetic Group Biosynthesis',\n",
       " u'PPAKr': u'Alternate Carbon Metabolism',\n",
       " u'PPBNGS': u'Cofactor and Prosthetic Group Biosynthesis',\n",
       " u'PPCDC': u'Cofactor and Prosthetic Group Biosynthesis',\n",
       " u'PPGPPDP': u'Cofactor and Prosthetic Group Biosynthesis',\n",
       " u'PPM': u'Alternate Carbon Metabolism',\n",
       " u'PPNCL2': u'Cofactor and Prosthetic Group Biosynthesis',\n",
       " u'PPND': u'Tyrosine, Tryptophan, and Phenylalanine Metabolism',\n",
       " u'PPNDH': u'Tyrosine, Tryptophan, and Phenylalanine Metabolism',\n",
       " u'PPPGO': u'Cofactor and Prosthetic Group Biosynthesis',\n",
       " u'PPPNDO': u'Alternate Carbon Metabolism',\n",
       " u'PRAIS': u'Purine and Pyrimidine Biosynthesis',\n",
       " u'PRAMPC': u'Histidine Metabolism',\n",
       " u'PRASCSi': u'Purine and Pyrimidine Biosynthesis',\n",
       " u'PRATPP': u'Histidine Metabolism',\n",
       " u'PRFGS': u'Purine and Pyrimidine Biosynthesis',\n",
       " u'PRMICI': u'Histidine Metabolism',\n",
       " u'PROD2': u'Arginine and Proline Metabolism',\n",
       " u'PROTRS': u'tRNA Charging',\n",
       " u'PRPPS': u'Histidine Metabolism',\n",
       " u'PSCVT': u'Tyrosine, Tryptophan, and Phenylalanine Metabolism',\n",
       " u'PSERT': u'Glycine and Serine Metabolism',\n",
       " u'PTPATi': u'Cofactor and Prosthetic Group Biosynthesis',\n",
       " u'PTRCabcpp': u'Transport, Inner Membrane',\n",
       " u'PTRCtex': u'Transport, Outer Membrane Porin',\n",
       " u'PYK': u'Glycolysis/Gluconeogenesis',\n",
       " u'PYRtex': u'Transport, Outer Membrane Porin',\n",
       " u'QULNS': u'Cofactor and Prosthetic Group Biosynthesis',\n",
       " u'RBFK': u'Cofactor and Prosthetic Group Biosynthesis',\n",
       " u'RBFSa': u'Cofactor and Prosthetic Group Biosynthesis',\n",
       " u'RBFSb': u'Cofactor and Prosthetic Group Biosynthesis',\n",
       " u'RHAT1': u'Lipopolysaccharide Biosynthesis / Recycling',\n",
       " u'RNDR1': u'Nucleotide Salvage Pathway',\n",
       " u'RNDR2': u'Nucleotide Salvage Pathway',\n",
       " u'RNDR3': u'Nucleotide Salvage Pathway',\n",
       " u'RNDR4': u'Nucleotide Salvage Pathway',\n",
       " u'RPE': u'Pentose Phosphate Pathway',\n",
       " u'RPI': u'Pentose Phosphate Pathway',\n",
       " u'RZ5PP': u'Cofactor and Prosthetic Group Biosynthesis',\n",
       " u'S7PI': u'Lipopolysaccharide Biosynthesis / Recycling',\n",
       " u'SDPDS': u'Threonine and Lysine Metabolism',\n",
       " u'SDPTA': u'Threonine and Lysine Metabolism',\n",
       " u'SERAT': u'Cysteine Metabolism',\n",
       " u'SERTRS': u'tRNA Charging',\n",
       " u'SHCHD2': u'Cofactor and Prosthetic Group Biosynthesis',\n",
       " u'SHCHF': u'Cofactor and Prosthetic Group Biosynthesis',\n",
       " u'SHKK': u'Tyrosine, Tryptophan, and Phenylalanine Metabolism',\n",
       " u'SO4tex': u'Transport, Outer Membrane Porin',\n",
       " u'SPMDabcpp': u'Transport, Inner Membrane',\n",
       " u'SPMDtex': u'Transport, Outer Membrane Porin',\n",
       " u'SPMS': u'Arginine and Proline Metabolism',\n",
       " u'SSALx': u'Arginine and Proline Metabolism',\n",
       " u'SSALy': u'Arginine and Proline Metabolism',\n",
       " u'SUCCtex': u'Transport, Outer Membrane Porin',\n",
       " u'SUCOAS': u'Citric Acid Cycle',\n",
       " u'SULabcpp': u'Inorganic Ion Transport and Metabolism',\n",
       " u'TALA': u'Pentose Phosphate Pathway',\n",
       " u'TDP': u'Cofactor and Prosthetic Group Biosynthesis',\n",
       " u'TDPDRE': u'Cell Envelope Biosynthesis',\n",
       " u'TDPDRR': u'Cell Envelope Biosynthesis',\n",
       " u'TDPGDH': u'Cell Envelope Biosynthesis',\n",
       " u'TDSK': u'Lipopolysaccharide Biosynthesis / Recycling',\n",
       " u'THDPS': u'Threonine and Lysine Metabolism',\n",
       " u'THRD': u'Glycine and Serine Metabolism',\n",
       " u'THRS': u'Threonine and Lysine Metabolism',\n",
       " u'THRTRS': u'tRNA Charging',\n",
       " u'TKT1': u'Pentose Phosphate Pathway',\n",
       " u'TKT2': u'Pentose Phosphate Pathway',\n",
       " u'TMDPP': u'Nucleotide Salvage Pathway',\n",
       " u'TMDS': u'Nucleotide Salvage Pathway',\n",
       " u'TMPK': u'Cofactor and Prosthetic Group Biosynthesis',\n",
       " u'TMPPP': u'Cofactor and Prosthetic Group Biosynthesis',\n",
       " u'TPI': u'Glycolysis/Gluconeogenesis',\n",
       " u'TRDR': u'Oxidative Phosphorylation',\n",
       " u'TRPS2': u'Tyrosine, Tryptophan, and Phenylalanine Metabolism',\n",
       " u'TRPTRS': u'tRNA Charging',\n",
       " u'TSULabcpp': u'Inorganic Ion Transport and Metabolism',\n",
       " u'TSULtex': u'Transport, Outer Membrane Porin',\n",
       " u'TYRTA': u'Tyrosine, Tryptophan, and Phenylalanine Metabolism',\n",
       " u'TYRTRS': u'tRNA Charging',\n",
       " u'U23GAAT': u'Lipopolysaccharide Biosynthesis / Recycling',\n",
       " u'UAAGDS': u'Cell Envelope Biosynthesis',\n",
       " u'UAGAAT': u'Lipopolysaccharide Biosynthesis / Recycling',\n",
       " u'UAGCVT': u'Cell Envelope Biosynthesis',\n",
       " u'UAGDP': u'Cell Envelope Biosynthesis',\n",
       " u'UAGPT3': u'Cell Envelope Biosynthesis',\n",
       " u'UAMAGS': u'Cell Envelope Biosynthesis',\n",
       " u'UAMAS': u'Cell Envelope Biosynthesis',\n",
       " u'UAPGR': u'Cell Envelope Biosynthesis',\n",
       " u'UDCPDP': u'Cell Envelope Biosynthesis',\n",
       " u'UDCPDPS': u'Cofactor and Prosthetic Group Biosynthesis',\n",
       " u'UDPG4E': u'Alternate Carbon Metabolism',\n",
       " u'UDPGD': u'Cell Envelope Biosynthesis',\n",
       " u'UGMDDS': u'Cell Envelope Biosynthesis',\n",
       " u'UHGADA': u'Lipopolysaccharide Biosynthesis / Recycling',\n",
       " u'UMPK': u'Nucleotide Salvage Pathway',\n",
       " u'UPP3MT': u'Cofactor and Prosthetic Group Biosynthesis',\n",
       " u'UPP3S': u'Cofactor and Prosthetic Group Biosynthesis',\n",
       " u'UPPDC1': u'Cofactor and Prosthetic Group Biosynthesis',\n",
       " u'UPPRT': u'Nucleotide Salvage Pathway',\n",
       " u'UREAtex': u'Transport, Outer Membrane Porin',\n",
       " u'USHD': u'Lipopolysaccharide Biosynthesis / Recycling',\n",
       " u'VALTA': u'Valine, Leucine, and Isoleucine Metabolism',\n",
       " u'VALTRS': u'tRNA Charging',\n",
       " u'XANt2pp': u'Transport, Inner Membrane',\n",
       " u'XANtex': u'Transport, Outer Membrane Porin',\n",
       " u'XPPT': u'Nucleotide Salvage Pathway',\n",
       " u'ZN2t3pp': u'Inorganic Ion Transport and Metabolism',\n",
       " u'ZN2tpp': u'Inorganic Ion Transport and Metabolism'}"
      ]
     },
     "execution_count": 226,
     "metadata": {},
     "output_type": "execute_result"
    }
   ],
   "source": [
    "subsys_dic"
   ]
  },
  {
   "cell_type": "code",
   "execution_count": null,
   "metadata": {
    "collapsed": true
   },
   "outputs": [],
   "source": []
  },
  {
   "cell_type": "code",
   "execution_count": 211,
   "metadata": {},
   "outputs": [],
   "source": [
    "sub_ec = [rxn for rxn in ecoli.reactions if rxn.subsystem != '']"
   ]
  },
  {
   "cell_type": "code",
   "execution_count": 209,
   "metadata": {},
   "outputs": [],
   "source": [
    "no_sub_ec = [rxn for rxn in ecoli.reactions if rxn.subsystem == '']"
   ]
  },
  {
   "cell_type": "code",
   "execution_count": null,
   "metadata": {
    "collapsed": true
   },
   "outputs": [],
   "source": []
  }
 ],
 "metadata": {
  "kernelspec": {
   "display_name": "Python 2",
   "language": "python",
   "name": "python2"
  },
  "language_info": {
   "codemirror_mode": {
    "name": "ipython",
    "version": 2
   },
   "file_extension": ".py",
   "mimetype": "text/x-python",
   "name": "python",
   "nbconvert_exporter": "python",
   "pygments_lexer": "ipython2",
   "version": "2.7.14"
  }
 },
 "nbformat": 4,
 "nbformat_minor": 1
}
