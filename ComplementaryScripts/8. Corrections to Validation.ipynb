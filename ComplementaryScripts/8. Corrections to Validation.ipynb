{
 "cells": [
  {
   "cell_type": "code",
   "execution_count": 1,
   "metadata": {
    "collapsed": false
   },
   "outputs": [
    {
     "data": {
      "text/html": []
     },
     "metadata": {},
     "output_type": "display_data"
    },
    {
     "data": {
      "application/javascript": [
       "\n",
       "(function(global) {\n",
       "  function now() {\n",
       "    return new Date();\n",
       "  }\n",
       "\n",
       "  if (typeof (window._bokeh_onload_callbacks) === \"undefined\") {\n",
       "    window._bokeh_onload_callbacks = [];\n",
       "  }\n",
       "\n",
       "  function run_callbacks() {\n",
       "    window._bokeh_onload_callbacks.forEach(function(callback) { callback() });\n",
       "    delete window._bokeh_onload_callbacks\n",
       "    console.info(\"Bokeh: all callbacks have finished\");\n",
       "  }\n",
       "\n",
       "  function load_libs(js_urls, callback) {\n",
       "    window._bokeh_onload_callbacks.push(callback);\n",
       "    if (window._bokeh_is_loading > 0) {\n",
       "      console.log(\"Bokeh: BokehJS is being loaded, scheduling callback at\", now());\n",
       "      return null;\n",
       "    }\n",
       "    if (js_urls == null || js_urls.length === 0) {\n",
       "      run_callbacks();\n",
       "      return null;\n",
       "    }\n",
       "    console.log(\"Bokeh: BokehJS not loaded, scheduling load and callback at\", now());\n",
       "    window._bokeh_is_loading = js_urls.length;\n",
       "    for (var i = 0; i < js_urls.length; i++) {\n",
       "      var url = js_urls[i];\n",
       "      var s = document.createElement('script');\n",
       "      s.src = url;\n",
       "      s.async = false;\n",
       "      s.onreadystatechange = s.onload = function() {\n",
       "        window._bokeh_is_loading--;\n",
       "        if (window._bokeh_is_loading === 0) {\n",
       "          console.log(\"Bokeh: all BokehJS libraries loaded\");\n",
       "          run_callbacks()\n",
       "        }\n",
       "      };\n",
       "      s.onerror = function() {\n",
       "        console.warn(\"failed to load library \" + url);\n",
       "      };\n",
       "      console.log(\"Bokeh: injecting script tag for BokehJS library: \", url);\n",
       "      document.getElementsByTagName(\"head\")[0].appendChild(s);\n",
       "    }\n",
       "  };\n",
       "\n",
       "  var js_urls = ['https://cdn.pydata.org/bokeh/release/bokeh-0.11.1.min.js', 'https://cdn.pydata.org/bokeh/release/bokeh-widgets-0.11.1.min.js', 'https://cdn.pydata.org/bokeh/release/bokeh-compiler-0.11.1.min.js'];\n",
       "\n",
       "  var inline_js = [\n",
       "    function(Bokeh) {\n",
       "      Bokeh.set_log_level(\"info\");\n",
       "    },\n",
       "    \n",
       "    function(Bokeh) {\n",
       "      Bokeh.$(\"#157ecd08-c0be-41bd-8bdd-e5215474514b\").text(\"BokehJS successfully loaded\");\n",
       "    },\n",
       "    function(Bokeh) {\n",
       "      console.log(\"Bokeh: injecting CSS: https://cdn.pydata.org/bokeh/release/bokeh-0.11.1.min.css\");\n",
       "      Bokeh.embed.inject_css(\"https://cdn.pydata.org/bokeh/release/bokeh-0.11.1.min.css\");\n",
       "      console.log(\"Bokeh: injecting CSS: https://cdn.pydata.org/bokeh/release/bokeh-widgets-0.11.1.min.css\");\n",
       "      Bokeh.embed.inject_css(\"https://cdn.pydata.org/bokeh/release/bokeh-widgets-0.11.1.min.css\");\n",
       "    }\n",
       "  ];\n",
       "\n",
       "  function run_inline_js() {\n",
       "    for (var i = 0; i < inline_js.length; i++) {\n",
       "      inline_js[i](window.Bokeh);\n",
       "    }\n",
       "  }\n",
       "\n",
       "  if (window._bokeh_is_loading === 0) {\n",
       "    console.log(\"Bokeh: BokehJS loaded, going straight to plotting\");\n",
       "    run_inline_js();\n",
       "  } else {\n",
       "    load_libs(js_urls, function() {\n",
       "      console.log(\"Bokeh: BokehJS plotting callback run at\", now());\n",
       "      run_inline_js();\n",
       "    });\n",
       "  }\n",
       "}(this));"
      ]
     },
     "metadata": {},
     "output_type": "display_data"
    },
    {
     "name": "stderr",
     "output_type": "stream",
     "text": [
      "/Users/clie/.virtualenvs/modeling/lib/python2.7/site-packages/cobra/io/sbml3.py:24: UserWarning: Install lxml for faster SBML I/O\n",
      "  warn(\"Install lxml for faster SBML I/O\")\n"
     ]
    },
    {
     "data": {
      "text/html": []
     },
     "metadata": {},
     "output_type": "display_data"
    },
    {
     "data": {
      "application/javascript": [
       "\n",
       "(function(global) {\n",
       "  function now() {\n",
       "    return new Date();\n",
       "  }\n",
       "\n",
       "  if (typeof (window._bokeh_onload_callbacks) === \"undefined\") {\n",
       "    window._bokeh_onload_callbacks = [];\n",
       "  }\n",
       "\n",
       "  function run_callbacks() {\n",
       "    window._bokeh_onload_callbacks.forEach(function(callback) { callback() });\n",
       "    delete window._bokeh_onload_callbacks\n",
       "    console.info(\"Bokeh: all callbacks have finished\");\n",
       "  }\n",
       "\n",
       "  function load_libs(js_urls, callback) {\n",
       "    window._bokeh_onload_callbacks.push(callback);\n",
       "    if (window._bokeh_is_loading > 0) {\n",
       "      console.log(\"Bokeh: BokehJS is being loaded, scheduling callback at\", now());\n",
       "      return null;\n",
       "    }\n",
       "    if (js_urls == null || js_urls.length === 0) {\n",
       "      run_callbacks();\n",
       "      return null;\n",
       "    }\n",
       "    console.log(\"Bokeh: BokehJS not loaded, scheduling load and callback at\", now());\n",
       "    window._bokeh_is_loading = js_urls.length;\n",
       "    for (var i = 0; i < js_urls.length; i++) {\n",
       "      var url = js_urls[i];\n",
       "      var s = document.createElement('script');\n",
       "      s.src = url;\n",
       "      s.async = false;\n",
       "      s.onreadystatechange = s.onload = function() {\n",
       "        window._bokeh_is_loading--;\n",
       "        if (window._bokeh_is_loading === 0) {\n",
       "          console.log(\"Bokeh: all BokehJS libraries loaded\");\n",
       "          run_callbacks()\n",
       "        }\n",
       "      };\n",
       "      s.onerror = function() {\n",
       "        console.warn(\"failed to load library \" + url);\n",
       "      };\n",
       "      console.log(\"Bokeh: injecting script tag for BokehJS library: \", url);\n",
       "      document.getElementsByTagName(\"head\")[0].appendChild(s);\n",
       "    }\n",
       "  };\n",
       "\n",
       "  var js_urls = ['https://cdn.pydata.org/bokeh/release/bokeh-0.11.1.min.js', 'https://cdn.pydata.org/bokeh/release/bokeh-widgets-0.11.1.min.js', 'https://cdn.pydata.org/bokeh/release/bokeh-compiler-0.11.1.min.js'];\n",
       "\n",
       "  var inline_js = [\n",
       "    function(Bokeh) {\n",
       "      Bokeh.set_log_level(\"info\");\n",
       "    },\n",
       "    \n",
       "    function(Bokeh) {\n",
       "      Bokeh.$(\"#e15899b0-41af-4be6-9f90-b29f38e8dd87\").text(\"BokehJS successfully loaded\");\n",
       "    },\n",
       "    function(Bokeh) {\n",
       "      console.log(\"Bokeh: injecting CSS: https://cdn.pydata.org/bokeh/release/bokeh-0.11.1.min.css\");\n",
       "      Bokeh.embed.inject_css(\"https://cdn.pydata.org/bokeh/release/bokeh-0.11.1.min.css\");\n",
       "      console.log(\"Bokeh: injecting CSS: https://cdn.pydata.org/bokeh/release/bokeh-widgets-0.11.1.min.css\");\n",
       "      Bokeh.embed.inject_css(\"https://cdn.pydata.org/bokeh/release/bokeh-widgets-0.11.1.min.css\");\n",
       "    }\n",
       "  ];\n",
       "\n",
       "  function run_inline_js() {\n",
       "    for (var i = 0; i < inline_js.length; i++) {\n",
       "      inline_js[i](window.Bokeh);\n",
       "    }\n",
       "  }\n",
       "\n",
       "  if (window._bokeh_is_loading === 0) {\n",
       "    console.log(\"Bokeh: BokehJS loaded, going straight to plotting\");\n",
       "    run_inline_js();\n",
       "  } else {\n",
       "    load_libs(js_urls, function() {\n",
       "      console.log(\"Bokeh: BokehJS plotting callback run at\", now());\n",
       "      run_inline_js();\n",
       "    });\n",
       "  }\n",
       "}(this));"
      ]
     },
     "metadata": {},
     "output_type": "display_data"
    }
   ],
   "source": [
    "from cameo import load_model\n",
    "from os import getcwd\n",
    "from Functions_Modules import curation_tools as ct\n",
    "from math import isnan\n",
    "from numpy import zeros"
   ]
  },
  {
   "cell_type": "code",
   "execution_count": 2,
   "metadata": {
    "collapsed": true
   },
   "outputs": [],
   "source": [
    "import pandas as pd\n",
    "import numpy as np"
   ]
  },
  {
   "cell_type": "code",
   "execution_count": 3,
   "metadata": {
    "collapsed": true
   },
   "outputs": [],
   "source": [
    "relative_directory = getcwd()\n",
    "model = load_model(relative_directory + '/Reconstructions/MethylococcusModel10.json')"
   ]
  },
  {
   "cell_type": "markdown",
   "metadata": {},
   "source": [
    "# Base Settings of the Model"
   ]
  },
  {
   "cell_type": "markdown",
   "metadata": {},
   "source": [
    "What is the current state?"
   ]
  },
  {
   "cell_type": "code",
   "execution_count": 4,
   "metadata": {
    "collapsed": false,
    "scrolled": true
   },
   "outputs": [
    {
     "data": {
      "text/html": [
       "<div>\n",
       "<table border=\"1\" class=\"dataframe\">\n",
       "  <thead>\n",
       "    <tr style=\"text-align: right;\">\n",
       "      <th></th>\n",
       "      <th>reaction_id</th>\n",
       "      <th>reaction_name</th>\n",
       "      <th>lower_bound</th>\n",
       "      <th>upper_bound</th>\n",
       "    </tr>\n",
       "  </thead>\n",
       "  <tbody>\n",
       "    <tr>\n",
       "      <th>0</th>\n",
       "      <td>EX_co2_c</td>\n",
       "      <td>CO(2) exchange</td>\n",
       "      <td>-4.935116</td>\n",
       "      <td>1000.000000</td>\n",
       "    </tr>\n",
       "    <tr>\n",
       "      <th>1</th>\n",
       "      <td>EX_pi_c</td>\n",
       "      <td>phosphate exchange</td>\n",
       "      <td>-1000.000000</td>\n",
       "      <td>1000.000000</td>\n",
       "    </tr>\n",
       "    <tr>\n",
       "      <th>2</th>\n",
       "      <td>EX_o2_c</td>\n",
       "      <td>dioxygen exchange</td>\n",
       "      <td>-194.443565</td>\n",
       "      <td>1000.000000</td>\n",
       "    </tr>\n",
       "    <tr>\n",
       "      <th>3</th>\n",
       "      <td>EX_nh3_c</td>\n",
       "      <td>NH4(+) exchange</td>\n",
       "      <td>-1000.000000</td>\n",
       "      <td>1000.000000</td>\n",
       "    </tr>\n",
       "    <tr>\n",
       "      <th>4</th>\n",
       "      <td>EX_so4_c</td>\n",
       "      <td>sulfate exchange</td>\n",
       "      <td>-1000.000000</td>\n",
       "      <td>1000.000000</td>\n",
       "    </tr>\n",
       "    <tr>\n",
       "      <th>5</th>\n",
       "      <td>EX_ch4_p</td>\n",
       "      <td>methane exchange</td>\n",
       "      <td>0.100000</td>\n",
       "      <td>108.572549</td>\n",
       "    </tr>\n",
       "    <tr>\n",
       "      <th>6</th>\n",
       "      <td>EX_cobalt2_c</td>\n",
       "      <td>Co2+ exchange</td>\n",
       "      <td>-1000.000000</td>\n",
       "      <td>1000.000000</td>\n",
       "    </tr>\n",
       "  </tbody>\n",
       "</table>\n",
       "</div>"
      ],
      "text/plain": [
       "    reaction_id       reaction_name  lower_bound  upper_bound\n",
       "0      EX_co2_c      CO(2) exchange    -4.935116  1000.000000\n",
       "1       EX_pi_c  phosphate exchange -1000.000000  1000.000000\n",
       "2       EX_o2_c   dioxygen exchange  -194.443565  1000.000000\n",
       "3      EX_nh3_c     NH4(+) exchange -1000.000000  1000.000000\n",
       "4      EX_so4_c    sulfate exchange -1000.000000  1000.000000\n",
       "5      EX_ch4_p    methane exchange     0.100000   108.572549\n",
       "6  EX_cobalt2_c       Co2+ exchange -1000.000000  1000.000000"
      ]
     },
     "execution_count": 4,
     "metadata": {},
     "output_type": "execute_result"
    }
   ],
   "source": [
    "model.medium"
   ]
  },
  {
   "cell_type": "code",
   "execution_count": 5,
   "metadata": {
    "collapsed": false
   },
   "outputs": [
    {
     "name": "stdout",
     "output_type": "stream",
     "text": [
      "Maximize\n",
      "-1.0*BIOMASS_REACTION_reverse_42726 + 1.0*BIOMASS_REACTION\n"
     ]
    }
   ],
   "source": [
    "print model.objective"
   ]
  },
  {
   "cell_type": "code",
   "execution_count": 6,
   "metadata": {
    "collapsed": false
   },
   "outputs": [
    {
     "data": {
      "text/html": [
       "\n",
       "        <table>\n",
       "            <tr>\n",
       "                <td><strong>Id</strong></td><td>pMMO_dir_coupl_im</td>\n",
       "            </tr>\n",
       "            <tr>\n",
       "                <td><strong>Name</strong></td><td>particulate Methane Monooxygenase</td>\n",
       "            </tr>\n",
       "            <tr>\n",
       "                <td><strong>Stoichiometry</strong></td><td>ch4_p + 2 focytcc555_p + o2_p --> 2 ficytcc555_p + h2o_p + meoh_p</td>\n",
       "            </tr>\n",
       "            <tr>\n",
       "                <td><strong>GPR</strong></td><td>(((MCA1796 and MCA1797 and MCA1798) or (MCA2853 and MCA2854 and MCA2855)) and MCA0295)</td>\n",
       "            </tr>\n",
       "            <tr>\n",
       "                <td><strong>Lower bound</strong></td><td>0.000000</td>\n",
       "            </tr>\n",
       "            <tr>\n",
       "                <td><strong>Upper bound</strong></td><td>1000.000000</td>\n",
       "            </tr>\n",
       "        </table>\n",
       "        "
      ],
      "text/plain": [
       "<Reaction pMMO_dir_coupl_im at 0x11d2be710>"
      ]
     },
     "execution_count": 6,
     "metadata": {},
     "output_type": "execute_result"
    }
   ],
   "source": [
    "model.reactions.pMMO_dir_coupl_im"
   ]
  },
  {
   "cell_type": "code",
   "execution_count": 7,
   "metadata": {
    "collapsed": false
   },
   "outputs": [
    {
     "data": {
      "text/html": [
       "\n",
       "        <table>\n",
       "            <tr>\n",
       "                <td><strong>Id</strong></td><td>sMMO_c</td>\n",
       "            </tr>\n",
       "            <tr>\n",
       "                <td><strong>Name</strong></td><td>soluble Methane Monooxygenase</td>\n",
       "            </tr>\n",
       "            <tr>\n",
       "                <td><strong>Stoichiometry</strong></td><td>ch4_c + h_c + nadh_c + o2_c --> h2o_c + meoh_c + nad_c</td>\n",
       "            </tr>\n",
       "            <tr>\n",
       "                <td><strong>GPR</strong></td><td>( MCA1194 and MCA1195 and MCA1198 and MCA1196 and MCA1200 and MCA1202 and MCA1205 )</td>\n",
       "            </tr>\n",
       "            <tr>\n",
       "                <td><strong>Lower bound</strong></td><td>0.000000</td>\n",
       "            </tr>\n",
       "            <tr>\n",
       "                <td><strong>Upper bound</strong></td><td>1000.000000</td>\n",
       "            </tr>\n",
       "        </table>\n",
       "        "
      ],
      "text/plain": [
       "<Reaction sMMO_c at 0x11d1f5cd0>"
      ]
     },
     "execution_count": 7,
     "metadata": {},
     "output_type": "execute_result"
    }
   ],
   "source": [
    "model.reactions.sMMO_c"
   ]
  },
  {
   "cell_type": "code",
   "execution_count": 8,
   "metadata": {
    "collapsed": false
   },
   "outputs": [
    {
     "data": {
      "text/html": [
       "\n",
       "        <table>\n",
       "            <tr>\n",
       "                <td><strong>Id</strong></td><td>pMMO_im</td>\n",
       "            </tr>\n",
       "            <tr>\n",
       "                <td><strong>Name</strong></td><td>particulate Methane Monooxygenase</td>\n",
       "            </tr>\n",
       "            <tr>\n",
       "                <td><strong>Stoichiometry</strong></td><td>ch4_p + o2_p + q8h2_im --> h2o_p + meoh_p + q8_im</td>\n",
       "            </tr>\n",
       "            <tr>\n",
       "                <td><strong>GPR</strong></td><td>(((MCA1796 and MCA1797 and MCA1798) or (MCA2853 and MCA2854 and MCA2855)) and MCA0295)</td>\n",
       "            </tr>\n",
       "            <tr>\n",
       "                <td><strong>Lower bound</strong></td><td>0.000000</td>\n",
       "            </tr>\n",
       "            <tr>\n",
       "                <td><strong>Upper bound</strong></td><td>0.000000</td>\n",
       "            </tr>\n",
       "        </table>\n",
       "        "
      ],
      "text/plain": [
       "<Reaction pMMO_im at 0x11d258d90>"
      ]
     },
     "execution_count": 8,
     "metadata": {},
     "output_type": "execute_result"
    }
   ],
   "source": [
    "model.reactions.pMMO_im"
   ]
  },
  {
   "cell_type": "code",
   "execution_count": 9,
   "metadata": {
    "collapsed": false
   },
   "outputs": [],
   "source": [
    "model.reactions.BIOMASS_REACTION.change_bounds(0.1,1000)"
   ]
  },
  {
   "cell_type": "code",
   "execution_count": 10,
   "metadata": {
    "collapsed": false
   },
   "outputs": [
    {
     "data": {
      "text/plain": [
       "2.6066282676295067"
      ]
     },
     "execution_count": 10,
     "metadata": {},
     "output_type": "execute_result"
    }
   ],
   "source": [
    "model.solve().f"
   ]
  },
  {
   "cell_type": "markdown",
   "metadata": {},
   "source": [
    "Change the state to be neither Carbon nor Oxygen limited, and fix up the direction of the CH4 Exchange."
   ]
  },
  {
   "cell_type": "code",
   "execution_count": 11,
   "metadata": {
    "collapsed": true
   },
   "outputs": [],
   "source": [
    "model.reactions.EX_o2_c.change_bounds(-1000,1000)"
   ]
  },
  {
   "cell_type": "code",
   "execution_count": 12,
   "metadata": {
    "collapsed": true
   },
   "outputs": [],
   "source": [
    "ct.invert_reaction(model.reactions.EX_ch4_p)"
   ]
  },
  {
   "cell_type": "code",
   "execution_count": 13,
   "metadata": {
    "collapsed": true
   },
   "outputs": [],
   "source": [
    "model.reactions.EX_ch4_p.change_bounds(-1000,-0.1)"
   ]
  },
  {
   "cell_type": "code",
   "execution_count": 14,
   "metadata": {
    "collapsed": true
   },
   "outputs": [],
   "source": [
    "model.reactions.EX_co2_c.change_bounds(0,1000)"
   ]
  },
  {
   "cell_type": "markdown",
   "metadata": {},
   "source": [
    "Turn off the other modes of Electron transport too and operate on the default i.e. commonly accepted state in a pMMO-only environment."
   ]
  },
  {
   "cell_type": "code",
   "execution_count": 15,
   "metadata": {
    "collapsed": false
   },
   "outputs": [],
   "source": [
    "model.reactions.pMMO_dir_coupl_im.upper_bound = 0"
   ]
  },
  {
   "cell_type": "code",
   "execution_count": 16,
   "metadata": {
    "collapsed": false
   },
   "outputs": [],
   "source": [
    "model.reactions.sMMO_c.upper_bound = 0"
   ]
  },
  {
   "cell_type": "code",
   "execution_count": 17,
   "metadata": {
    "collapsed": false
   },
   "outputs": [],
   "source": [
    "model.reactions.CYOR_q8_im.change_bounds(0, 1000)"
   ]
  },
  {
   "cell_type": "code",
   "execution_count": 18,
   "metadata": {
    "collapsed": true
   },
   "outputs": [],
   "source": [
    "model.reactions.pMMO_im.upper_bound = 1000"
   ]
  },
  {
   "cell_type": "code",
   "execution_count": 19,
   "metadata": {
    "collapsed": false
   },
   "outputs": [
    {
     "data": {
      "text/plain": [
       "6.002042639159091"
      ]
     },
     "execution_count": 19,
     "metadata": {},
     "output_type": "execute_result"
    }
   ],
   "source": [
    "model.solve().f"
   ]
  },
  {
   "cell_type": "markdown",
   "metadata": {},
   "source": [
    "# Fixes of reaction directionalities"
   ]
  },
  {
   "cell_type": "markdown",
   "metadata": {},
   "source": [
    "I noticed that NQR didn't pump Na out of the cytosol like it should."
   ]
  },
  {
   "cell_type": "code",
   "execution_count": 20,
   "metadata": {
    "collapsed": false
   },
   "outputs": [],
   "source": [
    "model.reactions.NQR_im.add_metabolites(\n",
    "{model.metabolites.na1_c: -2.0,\n",
    " model.metabolites.na1_p: 2.0,\n",
    " model.metabolites.nad_c: 1.0,\n",
    " model.metabolites.nadh_c: -1.0,\n",
    " model.metabolites.q8h2_im: 1.0,\n",
    " model.metabolites.q8_im: -1.0,\n",
    " model.metabolites.h_c: -1.0}, combine=False)"
   ]
  },
  {
   "cell_type": "code",
   "execution_count": 21,
   "metadata": {
    "collapsed": false
   },
   "outputs": [
    {
     "data": {
      "text/html": [
       "\n",
       "        <table>\n",
       "            <tr>\n",
       "                <td><strong>Id</strong></td><td>NQR_im</td>\n",
       "            </tr>\n",
       "            <tr>\n",
       "                <td><strong>Name</strong></td><td>Na(+)-translocating NADH-quinone - NQR</td>\n",
       "            </tr>\n",
       "            <tr>\n",
       "                <td><strong>Stoichiometry</strong></td><td>h_c + 2.0 na1_c + nadh_c + q8_im --> 2.0 na1_p + nad_c + q8h2_im</td>\n",
       "            </tr>\n",
       "            <tr>\n",
       "                <td><strong>GPR</strong></td><td>(MCA2389 and MCA2388 and MCA2387 and MCA2386 and MCA2385 and MCA2384)</td>\n",
       "            </tr>\n",
       "            <tr>\n",
       "                <td><strong>Lower bound</strong></td><td>0.000000</td>\n",
       "            </tr>\n",
       "            <tr>\n",
       "                <td><strong>Upper bound</strong></td><td>1000.000000</td>\n",
       "            </tr>\n",
       "        </table>\n",
       "        "
      ],
      "text/plain": [
       "<Reaction NQR_im at 0x11d27a0d0>"
      ]
     },
     "execution_count": 21,
     "metadata": {},
     "output_type": "execute_result"
    }
   ],
   "source": [
    "model.reactions.NQR_im"
   ]
  },
  {
   "cell_type": "markdown",
   "metadata": {},
   "source": [
    "Enolase is supposed to be reversible. I made that change so that 3pg can both be produced from Pyruvate and G3p."
   ]
  },
  {
   "cell_type": "code",
   "execution_count": 22,
   "metadata": {
    "collapsed": true
   },
   "outputs": [],
   "source": [
    "model.reactions.ENO_c.lower_bound = -1000"
   ]
  },
  {
   "cell_type": "markdown",
   "metadata": {},
   "source": [
    "The publication 'Characterization of the pyrophosphate-dependent 6-phosphofructokinase from Methylococcuscapsulatus Bath' by Reshetnikov et al. thoroughly characterizes MCA1251 as an exclusively ppi-dependent kinase. Km and Vmax have been determined in the paper. Hence, modifications to the reactions in the model should be made:"
   ]
  },
  {
   "cell_type": "code",
   "execution_count": 23,
   "metadata": {
    "collapsed": true
   },
   "outputs": [],
   "source": [
    "model.remove_reactions([model.reactions.PFK_adp_c,model.reactions.PFK_c,model.reactions.PFK_2_c,model.reactions.FBP_c])"
   ]
  },
  {
   "cell_type": "code",
   "execution_count": 24,
   "metadata": {
    "collapsed": false
   },
   "outputs": [],
   "source": [
    "model.reactions.PFK_ppi_c.notes = {'CONFIDENCE SCORE': '4','COFACTOR': ['Mg2+','Co2+','Mn2+'],'LOCALIZATION':'Cytosol'}"
   ]
  },
  {
   "cell_type": "code",
   "execution_count": 25,
   "metadata": {
    "collapsed": false
   },
   "outputs": [],
   "source": [
    "# model.reactions.FBP_c.notes = {'CONFIDENCE SCORE': '4','COFACTOR': ['Mg2+','Co2+','Mn2+'],'LOCALIZATION':'Cytosol'}"
   ]
  },
  {
   "cell_type": "code",
   "execution_count": 26,
   "metadata": {
    "collapsed": true
   },
   "outputs": [],
   "source": [
    "from cameo import Reaction,Metabolite"
   ]
  },
  {
   "cell_type": "code",
   "execution_count": 27,
   "metadata": {
    "collapsed": false
   },
   "outputs": [
    {
     "name": "stdout",
     "output_type": "stream",
     "text": [
      "{}\n"
     ]
    }
   ],
   "source": [
    "rxn = Reaction(id='PFK_3_ppi_c',name='Pyrophosphate-dependent Phosphofructokinase (s7p)',\n",
    "              lower_bound = -1000, upper_bound = 1000)\n",
    "rxn.add_metabolites({model.metabolites.s7p_c:-1,\n",
    "                    model.metabolites.ppi_c:-1,\n",
    "                    model.metabolites.pi_c:1,\n",
    "                    model.metabolites.s17bp_c:1,\n",
    "                    model.metabolites.h_c:1})\n",
    "# Check if RXN is mass and charge balanced!\n",
    "print (rxn.check_mass_balance())\n",
    "rxn.notes = {'CONFIDENCE SCORE': '4','COFACTOR': ['Mg2+','Co2+','Mn2+'],'LOCALIZATION':'Cytosol'}\n",
    "model.add_reaction(rxn)"
   ]
  },
  {
   "cell_type": "markdown",
   "metadata": {},
   "source": [
    "Another paper 'Characterization of Recombinant Fructose 1 , 6 Bisphosphate Aldolase from Methylococcus capsulatus Bath' by Rozova et al. indicates that FBA can catalyze both the reversible cleavage of fdp aswell as s17pb and thus play an important role in the carbon rearrangements of the Calvin Cycle in M. capsulatus."
   ]
  },
  {
   "cell_type": "code",
   "execution_count": 28,
   "metadata": {
    "collapsed": false
   },
   "outputs": [],
   "source": [
    "model.reactions.FBA3_c.lower_bound = -1000"
   ]
  },
  {
   "cell_type": "code",
   "execution_count": 29,
   "metadata": {
    "collapsed": false
   },
   "outputs": [
    {
     "data": {
      "text/plain": [
       "6.002042639159084"
      ]
     },
     "execution_count": 29,
     "metadata": {},
     "output_type": "execute_result"
    }
   ],
   "source": [
    "model.solve().f"
   ]
  },
  {
   "cell_type": "markdown",
   "metadata": {},
   "source": [
    "## ATP"
   ]
  },
  {
   "cell_type": "markdown",
   "metadata": {},
   "source": [
    "Let's quickly double-check to see if there are reactions left that produce ATP that shouldnt!"
   ]
  },
  {
   "cell_type": "code",
   "execution_count": 30,
   "metadata": {
    "collapsed": false
   },
   "outputs": [
    {
     "data": {
      "text/plain": [
       "6.002042639159084"
      ]
     },
     "execution_count": 30,
     "metadata": {},
     "output_type": "execute_result"
    }
   ],
   "source": [
    "model.solve().f"
   ]
  },
  {
   "cell_type": "code",
   "execution_count": 31,
   "metadata": {
    "collapsed": false
   },
   "outputs": [
    {
     "data": {
      "text/plain": [
       "[<Reaction NDPK4_c at 0x11c702190>,\n",
       " <Reaction FMNAT_c at 0x11d1de510>,\n",
       " <Reaction HSK_GAPFILLING_c at 0x11d27a810>,\n",
       " <Reaction NDPK1_c at 0x11cf42910>,\n",
       " <Reaction DADK_c at 0x11cf0aad0>,\n",
       " <Reaction GLUTRS_c at 0x11cd5f2d0>,\n",
       " <Reaction AICART2_c at 0x11ccdf290>,\n",
       " <Reaction CYTK1_c at 0x11d081890>,\n",
       " <Reaction ACCOAC_c at 0x11cc96d10>,\n",
       " <Reaction GLYCK_c at 0x11d04b510>,\n",
       " <Reaction HEX1_c at 0x11cc8b910>,\n",
       " <Reaction PNTK_c at 0x11d1e3b10>,\n",
       " <Reaction NADK_c at 0x11d1e7c10>,\n",
       " <Reaction URIDK2m_c at 0x11c701cd0>,\n",
       " <Reaction FACOAL160_c at 0x11cfd7a50>,\n",
       " <Reaction ATPSh_im at 0x11d26de50>,\n",
       " <Reaction DGK1_c at 0x11cf42510>]"
      ]
     },
     "execution_count": 31,
     "metadata": {},
     "output_type": "execute_result"
    }
   ],
   "source": [
    "[rxn for rxn in model.metabolites.atp_c.reactions if (model.metabolites.atp_c in rxn.products or rxn.reversibility) and abs(rxn.flux) > 0]"
   ]
  },
  {
   "cell_type": "markdown",
   "metadata": {},
   "source": [
    "Fixed based on BiGG Database specifically iJO1366 model wherever possible"
   ]
  },
  {
   "cell_type": "code",
   "execution_count": 32,
   "metadata": {
    "collapsed": false
   },
   "outputs": [],
   "source": [
    "ct.invert_reaction(model.reactions.DGK1_c)"
   ]
  },
  {
   "cell_type": "code",
   "execution_count": 33,
   "metadata": {
    "collapsed": true
   },
   "outputs": [],
   "source": [
    "model.reactions.NADK_c.change_bounds(0,1000)"
   ]
  },
  {
   "cell_type": "code",
   "execution_count": 34,
   "metadata": {
    "collapsed": false
   },
   "outputs": [],
   "source": [
    "model.reactions.ACCOAC_c.change_bounds(0,1000)"
   ]
  },
  {
   "cell_type": "code",
   "execution_count": 35,
   "metadata": {
    "collapsed": false
   },
   "outputs": [],
   "source": [
    "ct.invert_reaction(model.reactions.FACOAL160_c)"
   ]
  },
  {
   "cell_type": "code",
   "execution_count": 36,
   "metadata": {
    "collapsed": false
   },
   "outputs": [],
   "source": [
    "model.reactions.GLUTRS_c.change_bounds(0,1000)"
   ]
  },
  {
   "cell_type": "code",
   "execution_count": 37,
   "metadata": {
    "collapsed": false
   },
   "outputs": [],
   "source": [
    "ct.invert_reaction(model.reactions.DADK_c)"
   ]
  },
  {
   "cell_type": "code",
   "execution_count": 38,
   "metadata": {
    "collapsed": false
   },
   "outputs": [],
   "source": [
    "ct.invert_reaction(model.reactions.SUCOAS_c)"
   ]
  },
  {
   "cell_type": "code",
   "execution_count": 39,
   "metadata": {
    "collapsed": false
   },
   "outputs": [],
   "source": [
    "model.reactions.FMNAT_c.change_bounds(0,1000)"
   ]
  },
  {
   "cell_type": "code",
   "execution_count": 40,
   "metadata": {
    "collapsed": false
   },
   "outputs": [],
   "source": [
    "ct.invert_reaction(model.reactions.CYTK1_c)"
   ]
  },
  {
   "cell_type": "code",
   "execution_count": 41,
   "metadata": {
    "collapsed": false
   },
   "outputs": [],
   "source": [
    "model.reactions.AICART2_c.change_bounds(0,1000)"
   ]
  },
  {
   "cell_type": "code",
   "execution_count": 42,
   "metadata": {
    "collapsed": false
   },
   "outputs": [],
   "source": [
    "model.reactions.PNTK_c.change_bounds(0,1000)"
   ]
  },
  {
   "cell_type": "code",
   "execution_count": 43,
   "metadata": {
    "collapsed": false
   },
   "outputs": [],
   "source": [
    "model.reactions.HSK_GAPFILLING_c.change_bounds(0,1000)"
   ]
  },
  {
   "cell_type": "code",
   "execution_count": 44,
   "metadata": {
    "collapsed": false
   },
   "outputs": [],
   "source": [
    "ct.invert_reaction(model.reactions.URIDK2m_c)"
   ]
  },
  {
   "cell_type": "markdown",
   "metadata": {},
   "source": [
    "Reaction GLYCK_c can't be set to be reversible because there is no other reaction producing glyc_R which is required in the biomass reaction adapted from de la Torre et al."
   ]
  },
  {
   "cell_type": "code",
   "execution_count": 45,
   "metadata": {
    "collapsed": false
   },
   "outputs": [
    {
     "data": {
      "text/plain": [
       "6.002042639159139"
      ]
     },
     "execution_count": 45,
     "metadata": {},
     "output_type": "execute_result"
    }
   ],
   "source": [
    "model.solve().f"
   ]
  },
  {
   "cell_type": "markdown",
   "metadata": {},
   "source": [
    "More thorough check, when we change the model objective to produce ATP instead of BIOMASS."
   ]
  },
  {
   "cell_type": "code",
   "execution_count": 46,
   "metadata": {
    "collapsed": false
   },
   "outputs": [],
   "source": [
    "model.remove_reactions([model.reactions.NGAM_c])"
   ]
  },
  {
   "cell_type": "code",
   "execution_count": 47,
   "metadata": {
    "collapsed": true
   },
   "outputs": [],
   "source": [
    "model.change_objective(model.reactions.EX_atp_c)"
   ]
  },
  {
   "cell_type": "code",
   "execution_count": 48,
   "metadata": {
    "collapsed": false
   },
   "outputs": [],
   "source": [
    "model.reactions.ATPM_c.change_bounds(1000,1000)"
   ]
  },
  {
   "cell_type": "code",
   "execution_count": 49,
   "metadata": {
    "collapsed": false
   },
   "outputs": [
    {
     "data": {
      "text/plain": [
       "32.77796684666714"
      ]
     },
     "execution_count": 49,
     "metadata": {},
     "output_type": "execute_result"
    }
   ],
   "source": [
    "model.solve().f"
   ]
  },
  {
   "cell_type": "code",
   "execution_count": 50,
   "metadata": {
    "collapsed": false
   },
   "outputs": [
    {
     "name": "stdout",
     "output_type": "stream",
     "text": [
      "ADCPS1_c 897.28880266\n",
      "ATPM_c 1000.0\n",
      "ATPSh_im 500.0\n"
     ]
    }
   ],
   "source": [
    "for rxn in model.metabolites.atp_c.reactions:\n",
    "    if rxn.flux > 200:\n",
    "        print rxn.id,rxn.flux"
   ]
  },
  {
   "cell_type": "code",
   "execution_count": 51,
   "metadata": {
    "collapsed": false
   },
   "outputs": [],
   "source": [
    "ct.invert_reaction(model.reactions.ADNK1_c)"
   ]
  },
  {
   "cell_type": "code",
   "execution_count": 52,
   "metadata": {
    "collapsed": false
   },
   "outputs": [
    {
     "data": {
      "text/plain": [
       "32.77796684666714"
      ]
     },
     "execution_count": 52,
     "metadata": {},
     "output_type": "execute_result"
    }
   ],
   "source": [
    "model.solve().f"
   ]
  },
  {
   "cell_type": "code",
   "execution_count": 53,
   "metadata": {
    "collapsed": false
   },
   "outputs": [
    {
     "name": "stdout",
     "output_type": "stream",
     "text": [
      "ADCPS1_c 897.28880266\n",
      "ATPM_c 1000.0\n",
      "ATPSh_im 500.0\n"
     ]
    }
   ],
   "source": [
    "for rxn in model.metabolites.atp_c.reactions:\n",
    "    if rxn.flux > 200:\n",
    "        print rxn.id,rxn.flux"
   ]
  },
  {
   "cell_type": "code",
   "execution_count": 54,
   "metadata": {
    "collapsed": false
   },
   "outputs": [],
   "source": [
    "ct.invert_reaction(model.reactions.ADCPS1_c)"
   ]
  },
  {
   "cell_type": "code",
   "execution_count": 55,
   "metadata": {
    "collapsed": false
   },
   "outputs": [
    {
     "data": {
      "text/plain": [
       "32.77796684666681"
      ]
     },
     "execution_count": 55,
     "metadata": {},
     "output_type": "execute_result"
    }
   ],
   "source": [
    "model.solve().f"
   ]
  },
  {
   "cell_type": "code",
   "execution_count": 56,
   "metadata": {
    "collapsed": false
   },
   "outputs": [
    {
     "name": "stdout",
     "output_type": "stream",
     "text": [
      "ADK1_c 685.294425807\n",
      "PYK_c 620.455591013\n",
      "PPDK_c 619.584228713\n",
      "ATPM_c 1000.0\n",
      "CYTK2_c 1000.0\n",
      "ATPSh_im 1000.0\n"
     ]
    }
   ],
   "source": [
    "for rxn in model.metabolites.atp_c.reactions:\n",
    "    if rxn.flux > 200:\n",
    "        print rxn.id,rxn.flux"
   ]
  },
  {
   "cell_type": "code",
   "execution_count": 57,
   "metadata": {
    "collapsed": false
   },
   "outputs": [],
   "source": [
    "ct.invert_reaction(model.reactions.CYTK2_c)"
   ]
  },
  {
   "cell_type": "code",
   "execution_count": 58,
   "metadata": {
    "collapsed": false
   },
   "outputs": [
    {
     "data": {
      "text/plain": [
       "32.77796684666658"
      ]
     },
     "execution_count": 58,
     "metadata": {},
     "output_type": "execute_result"
    }
   ],
   "source": [
    "model.solve().f"
   ]
  },
  {
   "cell_type": "code",
   "execution_count": 59,
   "metadata": {
    "collapsed": false
   },
   "outputs": [
    {
     "name": "stdout",
     "output_type": "stream",
     "text": [
      "DGNSKm_c 488.502723613\n",
      "ATPM_c 1000.0\n",
      "ATPSh_im 875.0\n"
     ]
    }
   ],
   "source": [
    "for rxn in model.metabolites.atp_c.reactions:\n",
    "    if rxn.flux > 200:\n",
    "        print rxn.id,rxn.flux"
   ]
  },
  {
   "cell_type": "code",
   "execution_count": 60,
   "metadata": {
    "collapsed": false
   },
   "outputs": [],
   "source": [
    "ct.invert_reaction(model.reactions.DGNSKm_c)"
   ]
  },
  {
   "cell_type": "code",
   "execution_count": 61,
   "metadata": {
    "collapsed": false
   },
   "outputs": [],
   "source": [
    "model.reactions.DGNSKm_c.lower_bound = 0"
   ]
  },
  {
   "cell_type": "code",
   "execution_count": 62,
   "metadata": {
    "collapsed": false
   },
   "outputs": [
    {
     "data": {
      "text/plain": [
       "21.204966999729393"
      ]
     },
     "execution_count": 62,
     "metadata": {},
     "output_type": "execute_result"
    }
   ],
   "source": [
    "model.solve().f"
   ]
  },
  {
   "cell_type": "code",
   "execution_count": 63,
   "metadata": {
    "collapsed": false
   },
   "outputs": [
    {
     "name": "stdout",
     "output_type": "stream",
     "text": [
      "ATPSNa_im 236.078884297\n",
      "ATPM_c 1000.0\n",
      "ATPSh_im 1000.0\n"
     ]
    }
   ],
   "source": [
    "for rxn in model.metabolites.atp_c.reactions:\n",
    "    if rxn.flux > 200:\n",
    "        print rxn.id,rxn.flux"
   ]
  },
  {
   "cell_type": "markdown",
   "metadata": {},
   "source": [
    "Now we have removed reactions that can run in a cycle to replenish ATP bypassing the ATPase. The proof for this\n",
    "is that when we optimize the production of ATP and at the same time have an insanely high turnover of ATP when the model is carbon limited, the solution will be infeasible."
   ]
  },
  {
   "cell_type": "code",
   "execution_count": 64,
   "metadata": {
    "collapsed": true
   },
   "outputs": [],
   "source": [
    "model.reactions.EX_ch4_p.change_bounds(-20,-0.1)"
   ]
  },
  {
   "cell_type": "markdown",
   "metadata": {},
   "source": [
    "I am setting the NGAM requirement to a value calculated for EColi, This is also used by De la torre et all and brought up in the Palson Protocol."
   ]
  },
  {
   "cell_type": "code",
   "execution_count": 65,
   "metadata": {
    "collapsed": true
   },
   "outputs": [],
   "source": [
    "model.reactions.ATPM_c.change_bounds(8.390000,8.390000)"
   ]
  },
  {
   "cell_type": "code",
   "execution_count": 66,
   "metadata": {
    "collapsed": true
   },
   "outputs": [],
   "source": [
    "model.reactions.ATPM_c.name = 'ATP maintenance requirement'"
   ]
  },
  {
   "cell_type": "code",
   "execution_count": 67,
   "metadata": {
    "collapsed": false
   },
   "outputs": [],
   "source": [
    "model.reactions.ATPM_c.gene_reaction_rule = ''"
   ]
  },
  {
   "cell_type": "code",
   "execution_count": 68,
   "metadata": {
    "collapsed": false
   },
   "outputs": [
    {
     "data": {
      "text/plain": [
       "0.7779668466666615"
      ]
     },
     "execution_count": 68,
     "metadata": {},
     "output_type": "execute_result"
    }
   ],
   "source": [
    "model.solve().f"
   ]
  },
  {
   "cell_type": "code",
   "execution_count": 69,
   "metadata": {
    "collapsed": true
   },
   "outputs": [],
   "source": [
    "model.reactions.EX_ch4_p.change_bounds(-1000,-0.1)"
   ]
  },
  {
   "cell_type": "markdown",
   "metadata": {},
   "source": [
    "## NH3"
   ]
  },
  {
   "cell_type": "markdown",
   "metadata": {},
   "source": [
    "Let's double-check if NH3 can only be taken up through the known main two systems: GS/GOGAT (GLNS + GLUSx/GLUSy) or Alanine Dehydrogenase (ALAD_\\_L/ALAD_\\_Ly + ALATA_L)"
   ]
  },
  {
   "cell_type": "code",
   "execution_count": 70,
   "metadata": {
    "collapsed": false
   },
   "outputs": [
    {
     "data": {
      "text/plain": [
       "[<Reaction GLNS_c at 0x11d04b050>,\n",
       " <Reaction ALAD__L_c at 0x11d009c10>,\n",
       " <Reaction NH3_im at 0x11d2b7990>,\n",
       " <Reaction GMPS_c at 0x11cf68a50>,\n",
       " <Reaction AMOs_c at 0x11d2b7310>,\n",
       " <Reaction GCCb_c at 0x11d02cad0>,\n",
       " <Reaction ASNS2_c at 0x11cd9b690>,\n",
       " <Reaction CTPS1_c at 0x11d212c10>,\n",
       " <Reaction NADS1_c at 0x11ccdf690>,\n",
       " <Reaction EX_nh3_c at 0x11cd46cd0>,\n",
       " <Reaction ALAD__Ly_c at 0x11d2be550>,\n",
       " <Reaction DORNOp_c at 0x11cd97690>]"
      ]
     },
     "execution_count": 70,
     "metadata": {},
     "output_type": "execute_result"
    }
   ],
   "source": [
    "[rxn for rxn in model.metabolites.nh3_c.reactions if rxn.reversibility or model.metabolites.nh3_c in rxn.reactants]"
   ]
  },
  {
   "cell_type": "code",
   "execution_count": 71,
   "metadata": {
    "collapsed": false
   },
   "outputs": [
    {
     "data": {
      "text/html": [
       "\n",
       "        <table>\n",
       "            <tr>\n",
       "                <td><strong>Id</strong></td><td>ASNS2_c</td>\n",
       "            </tr>\n",
       "            <tr>\n",
       "                <td><strong>Name</strong></td><td>1 H(+) + 1 diphosphate(3-) + 1 AMP + 1 L-asparagine zwitterion = 1 NH4(+) + 1 ATP + 1 L-aspartate(1-)</td>\n",
       "            </tr>\n",
       "            <tr>\n",
       "                <td><strong>Stoichiometry</strong></td><td>asp__L_c + atp_c + nh3_c --> amp_c + asn__L_c + h_c + ppi_c</td>\n",
       "            </tr>\n",
       "            <tr>\n",
       "                <td><strong>GPR</strong></td><td>MCA0472 or MCA0542 or MCA2127</td>\n",
       "            </tr>\n",
       "            <tr>\n",
       "                <td><strong>Lower bound</strong></td><td>0.000000</td>\n",
       "            </tr>\n",
       "            <tr>\n",
       "                <td><strong>Upper bound</strong></td><td>1000.000000</td>\n",
       "            </tr>\n",
       "        </table>\n",
       "        "
      ],
      "text/plain": [
       "<Reaction ASNS2_c at 0x11cd9b690>"
      ]
     },
     "execution_count": 71,
     "metadata": {},
     "output_type": "execute_result"
    }
   ],
   "source": [
    "model.reactions.ASNS2_c"
   ]
  },
  {
   "cell_type": "markdown",
   "metadata": {},
   "source": [
    "Glycine Cleavage Complex was reversed according to the reactions in iHN637 and in agreement with the above\n",
    "information from literature."
   ]
  },
  {
   "cell_type": "code",
   "execution_count": 72,
   "metadata": {
    "collapsed": false
   },
   "outputs": [],
   "source": [
    "ct.invert_reaction(model.reactions.GCCa_c)"
   ]
  },
  {
   "cell_type": "code",
   "execution_count": 73,
   "metadata": {
    "collapsed": false
   },
   "outputs": [],
   "source": [
    "ct.invert_reaction(model.reactions.GCCb_c)"
   ]
  },
  {
   "cell_type": "code",
   "execution_count": 74,
   "metadata": {
    "collapsed": true
   },
   "outputs": [],
   "source": [
    "ct.invert_reaction(model.reactions.GCCc_c)"
   ]
  },
  {
   "cell_type": "markdown",
   "metadata": {},
   "source": [
    "ASNS2_c was removed because it bypassed ASNS1_c which catalyzed the same reaction but using Glutamine, which agrees with literature."
   ]
  },
  {
   "cell_type": "code",
   "execution_count": 75,
   "metadata": {
    "collapsed": false
   },
   "outputs": [],
   "source": [
    "model.remove_reactions([model.reactions.ASNS2_c])"
   ]
  },
  {
   "cell_type": "markdown",
   "metadata": {},
   "source": [
    "NADS1_c was removed because it bypassed NADS2_c which catalyzed the same reaction but using Glutamine, which agrees with literature."
   ]
  },
  {
   "cell_type": "code",
   "execution_count": 76,
   "metadata": {
    "collapsed": false
   },
   "outputs": [],
   "source": [
    "model.remove_reactions([model.reactions.NADS1_c])"
   ]
  },
  {
   "cell_type": "markdown",
   "metadata": {},
   "source": [
    "DORNOp seems to be a eukaryotic reaction (as it is only represented on BiGG in the human, cho or mouse models. In all three of them it is not reversible and actually NH3 is a product along with H2O2 and 5a2opntn."
   ]
  },
  {
   "cell_type": "code",
   "execution_count": 77,
   "metadata": {
    "collapsed": false
   },
   "outputs": [],
   "source": [
    "ct.invert_reaction(model.reactions.DORNOp_c)"
   ]
  },
  {
   "cell_type": "markdown",
   "metadata": {},
   "source": [
    "MCA0290 is annotated as GMP synthase [glutamine-hydrolyzing]. Hence GMPS_c will be removed while keeping GMPS2."
   ]
  },
  {
   "cell_type": "code",
   "execution_count": 78,
   "metadata": {
    "collapsed": false
   },
   "outputs": [],
   "source": [
    "model.remove_reactions([model.reactions.GMPS_c])"
   ]
  },
  {
   "cell_type": "markdown",
   "metadata": {},
   "source": [
    "MCA2513 is annotated as CTP synthase. On Uniprot its reaction is specified as \n",
    "ATP + UTP + L-glutamine = ADP + phosphate + CTP + L-glutamate\n",
    "\n",
    "CTPS1 will be removed, CTPS2 will be kept."
   ]
  },
  {
   "cell_type": "code",
   "execution_count": 79,
   "metadata": {
    "collapsed": false
   },
   "outputs": [],
   "source": [
    "model.remove_reactions([model.reactions.CTPS1_c])"
   ]
  },
  {
   "cell_type": "code",
   "execution_count": 80,
   "metadata": {
    "collapsed": false
   },
   "outputs": [
    {
     "data": {
      "text/plain": [
       "32.7779668466663"
      ]
     },
     "execution_count": 80,
     "metadata": {},
     "output_type": "execute_result"
    }
   ],
   "source": [
    "model.solve().f"
   ]
  },
  {
   "cell_type": "code",
   "execution_count": 81,
   "metadata": {
    "collapsed": true
   },
   "outputs": [],
   "source": [
    "model.change_objective(model.reactions.BIOMASS_REACTION)"
   ]
  },
  {
   "cell_type": "markdown",
   "metadata": {},
   "source": [
    "## NADP/NAD"
   ]
  },
  {
   "cell_type": "code",
   "execution_count": 82,
   "metadata": {
    "collapsed": false
   },
   "outputs": [
    {
     "data": {
      "text/plain": [
       "[<Reaction UDPGD_c at 0x11d07d050>,\n",
       " <Reaction G3PD1_c at 0x11cc94090>,\n",
       " <Reaction ALDD1_c at 0x11d26d150>,\n",
       " <Reaction DHORD_NAD_c at 0x11ccdf450>,\n",
       " <Reaction GAPD_c at 0x11d1e5190>,\n",
       " <Reaction GLUDx_c at 0x11d0159d0>,\n",
       " <Reaction GLYCLTDx_c at 0x11cce2cd0>,\n",
       " <Reaction PPND_c at 0x11cf7e310>,\n",
       " <Reaction IMPD_c at 0x11cf689d0>,\n",
       " <Reaction HISTD_GAPFILLING_c at 0x11d27ab10>,\n",
       " <Reaction EAR100x_c at 0x11d00eb50>,\n",
       " <Reaction RDH1_c at 0x11ccdfc90>,\n",
       " <Reaction ME1_c at 0x11cc96b90>,\n",
       " <Reaction DHFR2i_c at 0x11cc9bbd0>,\n",
       " <Reaction PGCD_GAPFILLING_c at 0x11d27a750>,\n",
       " <Reaction AKGDH_c at 0x11cce6610>,\n",
       " <Reaction GCCc_c at 0x11d02ccd0>,\n",
       " <Reaction 34DHOXPEGOX_c at 0x11cf89550>,\n",
       " <Reaction IPMD_c at 0x11d1d7b90>,\n",
       " <Reaction GLYCL_c at 0x11cc99cd0>,\n",
       " <Reaction MDH_c at 0x11d0b4a10>,\n",
       " <Reaction FDH_c at 0x11cc995d0>,\n",
       " <Reaction ICDHxm_c at 0x11d1c2b90>,\n",
       " <Reaction NADTRHD_c at 0x11d1e7e10>,\n",
       " <Reaction ALCD2if_c at 0x11d1fc690>,\n",
       " <Reaction PDH_c at 0x11cce23d0>,\n",
       " <Reaction VALDHr_c at 0x11ccdd110>,\n",
       " <Reaction OBDH_c at 0x11d295710>,\n",
       " <Reaction SHCHD2_c at 0x11cd5f710>,\n",
       " <Reaction HSDx_c at 0x11d02c750>,\n",
       " <Reaction DHFOR_c at 0x11cc9bf90>,\n",
       " <Reaction GLYCDx_c at 0x11d29cc90>]"
      ]
     },
     "execution_count": 82,
     "metadata": {},
     "output_type": "execute_result"
    }
   ],
   "source": [
    "[rxn for rxn in model.metabolites.nadh_c.reactions if rxn.reversibility or model.metabolites.nadh_c in rxn.products]"
   ]
  },
  {
   "cell_type": "code",
   "execution_count": 83,
   "metadata": {
    "collapsed": false
   },
   "outputs": [],
   "source": [
    "model.reactions.EAR100y_c.lower_bound = 0\n",
    "model.reactions.EAR100x_c.lower_bound = 0"
   ]
  },
  {
   "cell_type": "markdown",
   "metadata": {},
   "source": [
    "Inverted SHCHF based on iJO1366 directionality of the reaction"
   ]
  },
  {
   "cell_type": "code",
   "execution_count": 84,
   "metadata": {
    "collapsed": false
   },
   "outputs": [],
   "source": [
    "ct.invert_reaction(model.reactions.SHCHF_c)"
   ]
  },
  {
   "cell_type": "code",
   "execution_count": 85,
   "metadata": {
    "collapsed": false
   },
   "outputs": [],
   "source": [
    "ct.invert_reaction(model.reactions.GAPDH_nadp_hi_c)"
   ]
  },
  {
   "cell_type": "code",
   "execution_count": 86,
   "metadata": {
    "collapsed": true
   },
   "outputs": [],
   "source": [
    "model.reactions.GAPDH_nadp_hi_c.lower_bound = 0"
   ]
  },
  {
   "cell_type": "code",
   "execution_count": 87,
   "metadata": {
    "collapsed": false
   },
   "outputs": [],
   "source": [
    "model.reactions.NADTRHD_c.lower_bound = 0"
   ]
  },
  {
   "cell_type": "code",
   "execution_count": 88,
   "metadata": {
    "collapsed": false
   },
   "outputs": [],
   "source": [
    "model.reactions.GLYCLTDx_c.lower_bound = 0"
   ]
  },
  {
   "cell_type": "code",
   "execution_count": 89,
   "metadata": {
    "collapsed": false
   },
   "outputs": [],
   "source": [
    "model.reactions.GLYCLTDy_c.lower_bound = 0"
   ]
  },
  {
   "cell_type": "code",
   "execution_count": 90,
   "metadata": {
    "collapsed": false
   },
   "outputs": [],
   "source": [
    "ct.invert_reaction(model.reactions.get_by_id('34DHOXPEGOX_c'))"
   ]
  },
  {
   "cell_type": "code",
   "execution_count": 91,
   "metadata": {
    "collapsed": false
   },
   "outputs": [],
   "source": [
    "model.reactions.DHFR2i_c.lower_bound = 0"
   ]
  },
  {
   "cell_type": "code",
   "execution_count": 92,
   "metadata": {
    "collapsed": false
   },
   "outputs": [],
   "source": [
    "model.reactions.HSDx_c.lower_bound = 0"
   ]
  },
  {
   "cell_type": "code",
   "execution_count": 93,
   "metadata": {
    "collapsed": true
   },
   "outputs": [],
   "source": [
    "model.remove_reactions([model.reactions.RDH1_c,model.reactions.RDH1a_c],remove_orphans=True)"
   ]
  },
  {
   "cell_type": "code",
   "execution_count": 94,
   "metadata": {
    "collapsed": true
   },
   "outputs": [],
   "source": [
    "model.remove_reactions([model.reactions.EX_retinol_c,model.reactions.EX_retinal_c],remove_orphans=True)"
   ]
  },
  {
   "cell_type": "code",
   "execution_count": 95,
   "metadata": {
    "collapsed": false
   },
   "outputs": [],
   "source": [
    "model.reactions.DHFOR_c.lower_bound = 0"
   ]
  },
  {
   "cell_type": "code",
   "execution_count": 96,
   "metadata": {
    "collapsed": false
   },
   "outputs": [],
   "source": [
    "model.reactions.FOLR2_c.lower_bound = 0"
   ]
  },
  {
   "cell_type": "code",
   "execution_count": 97,
   "metadata": {
    "collapsed": false
   },
   "outputs": [
    {
     "data": {
      "text/plain": [
       "[<Reaction ALCD2y_c at 0x11cce3d50>,\n",
       " <Reaction DDSMSTOLR_c at 0x11cfd7310>,\n",
       " <Reaction 3OACOAR_c at 0x11cd970d0>,\n",
       " <Reaction PPND2_c at 0x11cd9b510>,\n",
       " <Reaction GLUTRR_c at 0x11cd5f1d0>,\n",
       " <Reaction 3OAR140_c at 0x11d0226d0>,\n",
       " <Reaction 3OAR120_c at 0x11d00ed50>,\n",
       " <Reaction 3OAR100_c at 0x11d00e8d0>,\n",
       " <Reaction SQLS_c at 0x11cd97a50>,\n",
       " <Reaction ZYMSTR_c at 0x11cfc3c50>,\n",
       " <Reaction 3OAR80_c at 0x11cffbd90>,\n",
       " <Reaction MDHy_c at 0x11cce8dd0>,\n",
       " <Reaction GLUSy_c at 0x11d015250>,\n",
       " <Reaction 3OAR60_c at 0x11cffb510>,\n",
       " <Reaction 3OAR160_c at 0x11d022e90>,\n",
       " <Reaction 3OAR40_1_c at 0x11cfe9a10>,\n",
       " <Reaction MTHFD_GAPFILLING_c at 0x11d27ac50>]"
      ]
     },
     "execution_count": 97,
     "metadata": {},
     "output_type": "execute_result"
    }
   ],
   "source": [
    "[rxn for rxn in model.metabolites.nadph_c.reactions if rxn.reversibility]"
   ]
  },
  {
   "cell_type": "code",
   "execution_count": 98,
   "metadata": {
    "collapsed": false
   },
   "outputs": [],
   "source": [
    "model.reactions.DDSMSTOLR_c.lower_bound = 0"
   ]
  },
  {
   "cell_type": "code",
   "execution_count": 99,
   "metadata": {
    "collapsed": false
   },
   "outputs": [],
   "source": [
    "model.reactions.SQLS_c.lower_bound = 0"
   ]
  },
  {
   "cell_type": "code",
   "execution_count": 100,
   "metadata": {
    "collapsed": false
   },
   "outputs": [],
   "source": [
    "model.reactions.ZYMSTR_c.lower_bound = 0"
   ]
  },
  {
   "cell_type": "code",
   "execution_count": 101,
   "metadata": {
    "collapsed": false
   },
   "outputs": [],
   "source": [
    "model.reactions.GLUTRR_c.lower_bound = 0"
   ]
  },
  {
   "cell_type": "code",
   "execution_count": 102,
   "metadata": {
    "collapsed": false
   },
   "outputs": [],
   "source": [
    "model.reactions.GLUSy_c.lower_bound = -1000"
   ]
  },
  {
   "cell_type": "code",
   "execution_count": 103,
   "metadata": {
    "collapsed": false
   },
   "outputs": [],
   "source": [
    "ct.invert_reaction(model.reactions.ALCD2y_c)"
   ]
  },
  {
   "cell_type": "code",
   "execution_count": 104,
   "metadata": {
    "collapsed": false
   },
   "outputs": [],
   "source": [
    "ct.invert_reaction(model.reactions.ALCD2if_c)"
   ]
  },
  {
   "cell_type": "code",
   "execution_count": 105,
   "metadata": {
    "collapsed": false
   },
   "outputs": [],
   "source": [
    "model.reactions.ALCD2y_c.lower_bound = 0"
   ]
  },
  {
   "cell_type": "code",
   "execution_count": 106,
   "metadata": {
    "collapsed": true
   },
   "outputs": [],
   "source": [
    "model.reactions.ALCD2if_c.lower_bound = 0"
   ]
  },
  {
   "cell_type": "code",
   "execution_count": 107,
   "metadata": {
    "collapsed": false
   },
   "outputs": [],
   "source": [
    "ct.invert_reaction(model.reactions.PPND2_c)"
   ]
  },
  {
   "cell_type": "code",
   "execution_count": 108,
   "metadata": {
    "collapsed": true
   },
   "outputs": [],
   "source": [
    "model.reactions.PPND2_c.lower_bound = 0"
   ]
  },
  {
   "cell_type": "code",
   "execution_count": 109,
   "metadata": {
    "collapsed": false
   },
   "outputs": [
    {
     "data": {
      "text/plain": [
       "frozenset({<Reaction AKP1_c at 0x11d1dc5d0>,\n",
       "           <Reaction PTHPS_c at 0x11d1dc750>,\n",
       "           <Reaction 6CTDS_c at 0x11d1dca90>,\n",
       "           <Reaction EX_ahdt_c at 0x11d232590>})"
      ]
     },
     "execution_count": 109,
     "metadata": {},
     "output_type": "execute_result"
    }
   ],
   "source": [
    "model.metabolites.ahdt_c.reactions"
   ]
  },
  {
   "cell_type": "markdown",
   "metadata": {},
   "source": [
    "## Tetrahydrofolate Biosynthesis Fix"
   ]
  },
  {
   "cell_type": "markdown",
   "metadata": {},
   "source": [
    "When investigating the above reactions I noticed that the model can't produce Tetrahydrofolate, because the inital step of the pathway is missing. MCA1670 is annotated as a GTP cyclohydrolase hence the reaction will be added."
   ]
  },
  {
   "cell_type": "code",
   "execution_count": 110,
   "metadata": {
    "collapsed": false
   },
   "outputs": [
    {
     "name": "stdout",
     "output_type": "stream",
     "text": [
      "{}\n"
     ]
    }
   ],
   "source": [
    "rxn = Reaction()\n",
    "rxn.name = 'GTP cyclohydrolase I'\n",
    "rxn.subsystem = 'Folate biosynthesis'\n",
    "rxn.lower_bound = 0.\n",
    "rxn.upper_bound = 1000.\n",
    "rxn.add_metabolites({model.metabolites.gtp_c:-1,\n",
    "                    model.metabolites.h2o_c:-1,\n",
    "                    model.metabolites.ahdt_c:1,\n",
    "                    model.metabolites.for_c:1,\n",
    "                    model.metabolites.h_c:1})\n",
    "# Check if RXN is mass and charge balanced!\n",
    "print (rxn.check_mass_balance())\n",
    "# Update ID to BiGG\n",
    "rxn.id = 'GTPCI'\n",
    "model.add_reaction(rxn)"
   ]
  },
  {
   "cell_type": "code",
   "execution_count": 111,
   "metadata": {
    "collapsed": false
   },
   "outputs": [],
   "source": [
    "model.reactions.GTPCI.gene_reaction_rule = 'MCA1670'"
   ]
  },
  {
   "cell_type": "code",
   "execution_count": 112,
   "metadata": {
    "collapsed": false
   },
   "outputs": [],
   "source": [
    "ct.invert_reaction(model.reactions.ADCL_c)"
   ]
  },
  {
   "cell_type": "code",
   "execution_count": 113,
   "metadata": {
    "collapsed": false
   },
   "outputs": [],
   "source": [
    "ct.invert_reaction(model.reactions.DHFS_c)"
   ]
  },
  {
   "cell_type": "code",
   "execution_count": 114,
   "metadata": {
    "collapsed": false
   },
   "outputs": [],
   "source": [
    "model.change_objective(model.reactions.BIOMASS_REACTION)"
   ]
  },
  {
   "cell_type": "code",
   "execution_count": 115,
   "metadata": {
    "collapsed": false
   },
   "outputs": [
    {
     "data": {
      "text/plain": [
       "5.981080383363763"
      ]
     },
     "execution_count": 115,
     "metadata": {},
     "output_type": "execute_result"
    }
   ],
   "source": [
    "model.solve().f"
   ]
  },
  {
   "cell_type": "code",
   "execution_count": 116,
   "metadata": {
    "collapsed": false
   },
   "outputs": [],
   "source": [
    "model.change_objective(model.reactions.BIOMASS_REACTION)"
   ]
  },
  {
   "cell_type": "markdown",
   "metadata": {},
   "source": [
    "# Are there any genes without a reaction?"
   ]
  },
  {
   "cell_type": "code",
   "execution_count": 117,
   "metadata": {
    "collapsed": false
   },
   "outputs": [],
   "source": [
    "genes_without_reactions = []\n",
    "for gene in model.genes:\n",
    "    if not gene.reactions:\n",
    "        genes_without_reactions.append(gene.id)"
   ]
  },
  {
   "cell_type": "code",
   "execution_count": 118,
   "metadata": {
    "collapsed": false
   },
   "outputs": [
    {
     "data": {
      "text/plain": [
       "61"
      ]
     },
     "execution_count": 118,
     "metadata": {},
     "output_type": "execute_result"
    }
   ],
   "source": [
    "len(genes_without_reactions)"
   ]
  },
  {
   "cell_type": "markdown",
   "metadata": {},
   "source": [
    "Yup. Quite a lot. In order to quickly identify relevant ones, I downloaded a recent mapping from Uniprot (Date 20170216). Locus Tag vs EC Number."
   ]
  },
  {
   "cell_type": "code",
   "execution_count": 119,
   "metadata": {
    "collapsed": true
   },
   "outputs": [],
   "source": [
    "path = '/Users/clie/Desktop/EFPro2/Genome/UniProtExport/MCA_GeneLocus_vs_EC_Number_20170216.tab'"
   ]
  },
  {
   "cell_type": "code",
   "execution_count": 120,
   "metadata": {
    "collapsed": false
   },
   "outputs": [],
   "source": [
    "locus_tag_EC_map = pd.read_csv(path,sep='\\t')"
   ]
  },
  {
   "cell_type": "code",
   "execution_count": 121,
   "metadata": {
    "collapsed": false
   },
   "outputs": [],
   "source": [
    "locus_tag_EC_map = locus_tag_EC_map[[u'Gene names  (ordered locus )',u'EC number']]"
   ]
  },
  {
   "cell_type": "code",
   "execution_count": 122,
   "metadata": {
    "collapsed": true
   },
   "outputs": [],
   "source": [
    "df = locus_tag_EC_map.dropna(subset=[u'Gene names  (ordered locus )']) "
   ]
  },
  {
   "cell_type": "code",
   "execution_count": 123,
   "metadata": {
    "collapsed": false
   },
   "outputs": [],
   "source": [
    "df1 = pd.concat([pd.Series(row[u'EC number'], row[u'Gene names  (ordered locus )'].split(';'))              \n",
    "                    for _, row in df.iterrows()]).reset_index()"
   ]
  },
  {
   "cell_type": "code",
   "execution_count": 124,
   "metadata": {
    "collapsed": false
   },
   "outputs": [],
   "source": [
    "df2 = pd.concat([pd.Series(row[0], row['index'].split(' '))              \n",
    "                    for _, row in df1.iterrows()]).reset_index()"
   ]
  },
  {
   "cell_type": "code",
   "execution_count": 125,
   "metadata": {
    "collapsed": false
   },
   "outputs": [],
   "source": [
    "df2['index'].replace('', np.nan, inplace=True)"
   ]
  },
  {
   "cell_type": "code",
   "execution_count": 126,
   "metadata": {
    "collapsed": false
   },
   "outputs": [],
   "source": [
    "df3 = df2.dropna(subset=['index']) "
   ]
  },
  {
   "cell_type": "code",
   "execution_count": 127,
   "metadata": {
    "collapsed": false
   },
   "outputs": [],
   "source": [
    "df4 = df3.dropna()"
   ]
  },
  {
   "cell_type": "code",
   "execution_count": 128,
   "metadata": {
    "collapsed": true
   },
   "outputs": [],
   "source": [
    "EC_dict = df4.set_index('index').to_dict(orient='dict')"
   ]
  },
  {
   "cell_type": "code",
   "execution_count": 129,
   "metadata": {
    "collapsed": true
   },
   "outputs": [],
   "source": [
    "met_genes = {x:EC_dict[0][x] for x in genes_without_reactions if x in EC_dict[0].keys()}"
   ]
  },
  {
   "cell_type": "code",
   "execution_count": 130,
   "metadata": {
    "collapsed": true
   },
   "outputs": [],
   "source": [
    "non_met_genes = [x for x in genes_without_reactions if x not in EC_dict[0].keys()]"
   ]
  },
  {
   "cell_type": "code",
   "execution_count": 131,
   "metadata": {
    "collapsed": false
   },
   "outputs": [
    {
     "name": "stdout",
     "output_type": "stream",
     "text": [
      "45 16\n"
     ]
    }
   ],
   "source": [
    "print len(met_genes),len(non_met_genes)"
   ]
  },
  {
   "cell_type": "markdown",
   "metadata": {},
   "source": [
    "There are about 45 genes for which an EC Number can be found in Uniprot and 16 which lack this annotation."
   ]
  },
  {
   "cell_type": "code",
   "execution_count": 132,
   "metadata": {
    "collapsed": false
   },
   "outputs": [
    {
     "data": {
      "text/plain": [
       "{u'MCA0048': '2.7.1.107',\n",
       " u'MCA0067': '2.4.1.1',\n",
       " u'MCA0074': '2.5.1.18',\n",
       " u'MCA0109': '2.3.1.181',\n",
       " u'MCA0110': '2.8.1.8',\n",
       " u'MCA0165': '1.12.7.2',\n",
       " u'MCA0166': '1.12.7.2',\n",
       " u'MCA0229': '1.18.6.1',\n",
       " u'MCA0230': '1.18.6.1',\n",
       " u'MCA0231': '1.18.6.1',\n",
       " u'MCA0296': '3.2.1.-',\n",
       " u'MCA0603': '1.1.1.262',\n",
       " u'MCA0720': '2.7.7.7',\n",
       " u'MCA0799': '4.2.1.109',\n",
       " u'MCA1066': '2.7.7.6',\n",
       " u'MCA1067': '2.7.7.6',\n",
       " u'MCA1077': '2.8.1.10',\n",
       " u'MCA1125': '2.8.1.6',\n",
       " u'MCA1128': '2.1.1.197',\n",
       " u'MCA1232': '4.3.99.3',\n",
       " u'MCA1233': '6.3.4.20',\n",
       " u'MCA1286': '2.7.7.7',\n",
       " u'MCA1303': '2.5.1.18',\n",
       " u'MCA1309': '2.7.7.8',\n",
       " u'MCA1328': '2.7.7.7',\n",
       " u'MCA1451': '2.7.7.7',\n",
       " u'MCA1473': '2.4.1.25',\n",
       " u'MCA1475': '2.4.1.18',\n",
       " u'MCA1476': '2.4.1.21',\n",
       " u'MCA1555': '2.8.1.2',\n",
       " u'MCA1667': '2.6.99.2',\n",
       " u'MCA1691': '2.5.1.75',\n",
       " u'MCA1737': '3.4.11.5',\n",
       " u'MCA1740': '6.2.1.5',\n",
       " u'MCA1741': '6.2.1.5',\n",
       " u'MCA1995': '2.7.7.7',\n",
       " u'MCA2022': '2.7.7.6',\n",
       " u'MCA2220': '3.5.2.6',\n",
       " u'MCA2347': '2.7.7.6',\n",
       " u'MCA2540': '2.4.1.1',\n",
       " u'MCA2573': '2.7.7.7',\n",
       " u'MCA2606': '2.4.1.21',\n",
       " u'MCA2711': '1.14.13.70',\n",
       " u'MCA3025': '3.5.1.11',\n",
       " u'MCA3032': '2.7.7.7'}"
      ]
     },
     "execution_count": 132,
     "metadata": {},
     "output_type": "execute_result"
    }
   ],
   "source": [
    "met_genes"
   ]
  },
  {
   "cell_type": "code",
   "execution_count": 133,
   "metadata": {
    "collapsed": true
   },
   "outputs": [],
   "source": [
    "inv_met_genes = {}\n",
    "for k, v in met_genes.iteritems():\n",
    "    if v not in inv_met_genes.keys():\n",
    "        inv_met_genes[v] = k\n",
    "    else:\n",
    "        inv_met_genes[v] = inv_met_genes[v] + ' or ' + k  "
   ]
  },
  {
   "cell_type": "code",
   "execution_count": 134,
   "metadata": {
    "collapsed": false
   },
   "outputs": [
    {
     "data": {
      "text/plain": [
       "{'1.1.1.262': u'MCA0603',\n",
       " '1.12.7.2': u'MCA0165 or MCA0166',\n",
       " '1.14.13.70': u'MCA2711',\n",
       " '1.18.6.1': u'MCA0229 or MCA0230 or MCA0231',\n",
       " '2.1.1.197': u'MCA1128',\n",
       " '2.3.1.181': u'MCA0109',\n",
       " '2.4.1.1': u'MCA0067 or MCA2540',\n",
       " '2.4.1.18': u'MCA1475',\n",
       " '2.4.1.21': u'MCA1476 or MCA2606',\n",
       " '2.4.1.25': u'MCA1473',\n",
       " '2.5.1.18': u'MCA0074 or MCA1303',\n",
       " '2.5.1.75': u'MCA1691',\n",
       " '2.6.99.2': u'MCA1667',\n",
       " '2.7.1.107': u'MCA0048',\n",
       " '2.7.7.6': u'MCA1067 or MCA1066 or MCA2022 or MCA2347',\n",
       " '2.7.7.7': u'MCA1286 or MCA1328 or MCA1995 or MCA3032 or MCA2573 or MCA1451 or MCA0720',\n",
       " '2.7.7.8': u'MCA1309',\n",
       " '2.8.1.10': u'MCA1077',\n",
       " '2.8.1.2': u'MCA1555',\n",
       " '2.8.1.6': u'MCA1125',\n",
       " '2.8.1.8': u'MCA0110',\n",
       " '3.2.1.-': u'MCA0296',\n",
       " '3.4.11.5': u'MCA1737',\n",
       " '3.5.1.11': u'MCA3025',\n",
       " '3.5.2.6': u'MCA2220',\n",
       " '4.2.1.109': u'MCA0799',\n",
       " '4.3.99.3': u'MCA1232',\n",
       " '6.2.1.5': u'MCA1740 or MCA1741',\n",
       " '6.3.4.20': u'MCA1233'}"
      ]
     },
     "execution_count": 134,
     "metadata": {},
     "output_type": "execute_result"
    }
   ],
   "source": [
    "inv_met_genes"
   ]
  },
  {
   "cell_type": "markdown",
   "metadata": {},
   "source": [
    "Perhaps there are genes with EC numbers that match those already in the model:"
   ]
  },
  {
   "cell_type": "code",
   "execution_count": 135,
   "metadata": {
    "collapsed": false
   },
   "outputs": [],
   "source": [
    "EC_numbers_RXN_dict = {}\n",
    "\n",
    "for rxn in model.reactions:\n",
    "    if 'brenda' in rxn.annotation:\n",
    "        EC_numbers_RXN_dict[rxn.id] = rxn.annotation[u'brenda']"
   ]
  },
  {
   "cell_type": "code",
   "execution_count": 136,
   "metadata": {
    "collapsed": false
   },
   "outputs": [
    {
     "name": "stdout",
     "output_type": "stream",
     "text": [
      "MCA1740 6.2.1.5 ITCOALm_c 6.2.1.5\n",
      "MCA1740 6.2.1.5 SUCOAS_c 6.2.1.5\n",
      "MCA1741 6.2.1.5 ITCOALm_c 6.2.1.5\n",
      "MCA1741 6.2.1.5 SUCOAS_c 6.2.1.5\n",
      "MCA1475 2.4.1.18 LPADSS_c 2.4.1.182\n",
      "MCA1067 2.7.7.6 ACBIPGT_c 2.7.7.62\n",
      "MCA1066 2.7.7.6 ACBIPGT_c 2.7.7.62\n",
      "MCA2022 2.7.7.6 ACBIPGT_c 2.7.7.62\n",
      "MCA2347 2.7.7.6 ACBIPGT_c 2.7.7.62\n",
      "MCA0067 2.4.1.1 LPADSS_c 2.4.1.182\n",
      "MCA2540 2.4.1.1 LPADSS_c 2.4.1.182\n"
     ]
    }
   ],
   "source": [
    "for key in met_genes:\n",
    "    for rxn in EC_numbers_RXN_dict:\n",
    "        if unicode(met_genes[key], \"utf-8\") in EC_numbers_RXN_dict[rxn]:\n",
    "            print key,met_genes[key],rxn,EC_numbers_RXN_dict[rxn]"
   ]
  },
  {
   "cell_type": "markdown",
   "metadata": {},
   "source": [
    "Only two genes. Well."
   ]
  },
  {
   "cell_type": "code",
   "execution_count": 137,
   "metadata": {
    "collapsed": false
   },
   "outputs": [],
   "source": [
    "model.reactions.SUCOAS_c.gene_reaction_rule = '(MCA0967 and MCA0968) or (MCA1740 and MCA1741)'\n",
    "model.reactions.ITCOALm_c.gene_reaction_rule = '(MCA0967 and MCA0968) or (MCA1740 and MCA1741)'"
   ]
  },
  {
   "cell_type": "code",
   "execution_count": 138,
   "metadata": {
    "collapsed": false
   },
   "outputs": [
    {
     "data": {
      "text/plain": [
       "5.981080383363871"
      ]
     },
     "execution_count": 138,
     "metadata": {},
     "output_type": "execute_result"
    }
   ],
   "source": [
    "model.remove_reactions([model.reactions.SUCOAS1m_c])\n",
    "model.solve().f"
   ]
  },
  {
   "cell_type": "code",
   "execution_count": 139,
   "metadata": {
    "collapsed": false
   },
   "outputs": [
    {
     "data": {
      "text/plain": [
       "u'MCA1740 or MCA1741'"
      ]
     },
     "execution_count": 139,
     "metadata": {},
     "output_type": "execute_result"
    }
   ],
   "source": [
    "inv_met_genes.pop('6.2.1.5')"
   ]
  },
  {
   "cell_type": "code",
   "execution_count": 140,
   "metadata": {
    "collapsed": false
   },
   "outputs": [
    {
     "data": {
      "text/plain": [
       "28"
      ]
     },
     "execution_count": 140,
     "metadata": {},
     "output_type": "execute_result"
    }
   ],
   "source": [
    "len(inv_met_genes)"
   ]
  },
  {
   "cell_type": "markdown",
   "metadata": {},
   "source": [
    "Exploration of the remaining EC numbers:"
   ]
  },
  {
   "cell_type": "code",
   "execution_count": 141,
   "metadata": {
    "collapsed": false
   },
   "outputs": [
    {
     "data": {
      "text/plain": [
       "{'1.1.1.262': u'MCA0603',\n",
       " '1.12.7.2': u'MCA0165 or MCA0166',\n",
       " '1.14.13.70': u'MCA2711',\n",
       " '1.18.6.1': u'MCA0229 or MCA0230 or MCA0231',\n",
       " '2.1.1.197': u'MCA1128',\n",
       " '2.3.1.181': u'MCA0109',\n",
       " '2.4.1.1': u'MCA0067 or MCA2540',\n",
       " '2.4.1.18': u'MCA1475',\n",
       " '2.4.1.21': u'MCA1476 or MCA2606',\n",
       " '2.4.1.25': u'MCA1473',\n",
       " '2.5.1.18': u'MCA0074 or MCA1303',\n",
       " '2.5.1.75': u'MCA1691',\n",
       " '2.6.99.2': u'MCA1667',\n",
       " '2.7.1.107': u'MCA0048',\n",
       " '2.7.7.6': u'MCA1067 or MCA1066 or MCA2022 or MCA2347',\n",
       " '2.7.7.7': u'MCA1286 or MCA1328 or MCA1995 or MCA3032 or MCA2573 or MCA1451 or MCA0720',\n",
       " '2.7.7.8': u'MCA1309',\n",
       " '2.8.1.10': u'MCA1077',\n",
       " '2.8.1.2': u'MCA1555',\n",
       " '2.8.1.6': u'MCA1125',\n",
       " '2.8.1.8': u'MCA0110',\n",
       " '3.2.1.-': u'MCA0296',\n",
       " '3.4.11.5': u'MCA1737',\n",
       " '3.5.1.11': u'MCA3025',\n",
       " '3.5.2.6': u'MCA2220',\n",
       " '4.2.1.109': u'MCA0799',\n",
       " '4.3.99.3': u'MCA1232',\n",
       " '6.3.4.20': u'MCA1233'}"
      ]
     },
     "execution_count": 141,
     "metadata": {},
     "output_type": "execute_result"
    }
   ],
   "source": [
    "inv_met_genes"
   ]
  },
  {
   "cell_type": "markdown",
   "metadata": {},
   "source": [
    "'1.1.1.262': 'MCA0603' = Catalyzes the NAD(P)-dependent oxidation of 4-(phosphohydroxy)-L-threonine (HTP) into 2-amino-3-oxo-4-(phosphohydroxy)butyric acid which spontaneously decarboxylates to form 3-amino-2-oxopropyl phosphate (AHAP)\n",
    "\n",
    "4-phosphonooxy-L-threonine + NAD+ = 3-amino-2-oxopropyl phosphate + CO2 + NADH.\n",
    "\n",
    "http://www.uniprot.org/uniprot/Q3V8A3"
   ]
  },
  {
   "cell_type": "markdown",
   "metadata": {},
   "source": [
    "'1.12.7.2': u'MCA0165 or MCA0166' = Nickel-iron hydrogenase\n",
    "\n",
    "http://www.uniprot.org/uniprot/Q60CE2"
   ]
  },
  {
   "cell_type": "markdown",
   "metadata": {},
   "source": [
    "'1.14.13.70': u'MCA2711'= Cytochrome P450 51\n",
    "\n",
    "Also known as: \n",
    "1. Lanosterol 14-alpha-demethylase.\n",
    "2. Lanosterol 14-demethylase.\n",
    "3. Obtusufoliol 14-demethylase.\n",
    "\n",
    "A 14-alpha-methylsteroid + 3 O(2) + 3 NADPH <=> a Delta(14)-steroid + formate + 3 NADP(+) + 4 H(2)O\n",
    "\n",
    "http://www.uniprot.org/uniprot/Q603T8"
   ]
  },
  {
   "cell_type": "markdown",
   "metadata": {},
   "source": [
    "'1.18.6.1': u'MCA0229 or MCA0230 or MCA0231' = Nitrogenase\n",
    "    \n",
    "8 reduced ferredoxin + 8 H+ + N2 + 16 ATP + 16 H2O = 8 oxidized ferredoxin + H2 + 2 NH3 + 16 ADP + 16 phosphate\n",
    "\n",
    "http://www.uniprot.org/uniprot/Q60C81"
   ]
  },
  {
   "cell_type": "markdown",
   "metadata": {},
   "source": [
    "'2.1.1.197': 'MCA1128' = Malonyl-[acyl-carrier protein] O-methyltransferase\n",
    "\n",
    "This protein is involved in the pathway biotin biosynthesis, which is part of Cofactor biosynthesis.\n",
    "    \n",
    "S-adenosyl-L-methionine + malonyl-[acyl-carrier protein] = S-adenosyl-L-homocysteine + malonyl-[acyl-carrier protein] methyl ester\n",
    "\n",
    "http://www.uniprot.org/uniprot/Q609U9"
   ]
  },
  {
   "cell_type": "markdown",
   "metadata": {},
   "source": [
    "'2.3.1.181': 'MCA0109' = Octanoyltransferase\n",
    "\n",
    "Catalyzes the transfer of endogenously produced octanoic acid from octanoyl-acyl-carrier-protein onto the lipoyl domains of lipoate-dependent enzymes. Lipoyl-ACP can also act as a substrate although octanoyl-ACP is likely to be the physiological substrate\n",
    "\n",
    "This subpathway is part of the pathway protein lipoylation via endogenous pathway, which is itself part of Protein modification.\n",
    "\n",
    "Octanoyl-[acyl-carrier-protein] + protein = protein N(6)-(octanoyl)lysine + [acyl-carrier-protein].\n",
    "\n",
    "http://www.uniprot.org/uniprot/Q60CJ7"
   ]
  },
  {
   "cell_type": "markdown",
   "metadata": {},
   "source": [
    "'2.4.1.1': 'MCA0067 or MCA2540' = Alpha-1,4 glucan phosphorylase\n",
    "\n",
    "Phosphorylase is an important allosteric enzyme in carbohydrate metabolism. Enzymes from different sources differ in their regulatory mechanisms and in their natural substrates. However, all known phosphorylases share catalytic and structural properties\n",
    "\n",
    "((1->4)-alpha-D-glucosyl)(n) + phosphate = ((1->4)-alpha-D-glucosyl)(n-1) + alpha-D-glucose 1-phosphate\n",
    "\n",
    "http://www.uniprot.org/uniprot/Q604J9"
   ]
  },
  {
   "cell_type": "markdown",
   "metadata": {},
   "source": [
    "'2.4.1.18': 'MCA1475' = 1,4-alpha-glucan branching enzyme GlgB\n",
    "\n",
    "Catalyzes the formation of the alpha-1,6-glucosidic linkages in glycogen by scission of a 1,4-alpha-linked oligosaccharide from growing alpha-1,4-glucan chains and the subsequent attachment of the oligosaccharide to the alpha-1,6 position.\n",
    "\n",
    "Transfers a segment of a (1->4)-alpha-D-glucan chain to a primary hydroxy group in a similar glucan chain\n",
    "\n",
    "http://www.uniprot.org/uniprot/Q608L5"
   ]
  },
  {
   "cell_type": "markdown",
   "metadata": {},
   "source": [
    "'2.4.1.21': u'MCA1476 or MCA2606' =  Glycogen synthase 1\n",
    "\n",
    "ADP-glucose + (1,4-alpha-D-glucosyl)(n) = ADP + (1,4-alpha-D-glucosyl)(n+1).\n",
    "\n",
    "This protein is involved in the pathway glycogen biosynthesis, which is part of Glycan biosynthesis.\n",
    "\n",
    "http://www.uniprot.org/uniprot/Q608L4"
   ]
  },
  {
   "cell_type": "markdown",
   "metadata": {},
   "source": [
    "'2.4.1.25': 'MCA1473' = 4-alpha-glucanotransferase\n",
    "\n",
    "ransfers a segment of a (1->4)-alpha-D-glucan to a new position in an acceptor, which may be glucose or a (1->4)-alpha-D-glucan\n",
    "\n",
    "http://www.uniprot.org/uniprot/Q608L7"
   ]
  },
  {
   "cell_type": "markdown",
   "metadata": {},
   "source": [
    "'2.5.1.18': u'MCA0074 or MCA1303' = Glutathione S-transferase\n",
    "\n",
    "RX + glutathione <=> HX + R-S-glutathione\n",
    "\n",
    "http://www.uniprot.org/uniprot/Q60CN1"
   ]
  },
  {
   "cell_type": "markdown",
   "metadata": {},
   "source": [
    "'2.5.1.75': u'MCA1691' = tRNA dimethylallyltransferase \n",
    "Catalyzes the transfer of a dimethylallyl group onto the adenine at position 37 in tRNAs that read codons beginning with uridine, leading to the formation of N6-(dimethylallyl)adenosine (i6A).\n",
    "\n",
    "Dimethylallyl diphosphate + adenine(37) in tRNA = diphosphate + N(6)-dimethylallyladenine(37) in tRNA\n",
    "\n",
    "http://www.uniprot.org/uniprot/Q607R4"
   ]
  },
  {
   "cell_type": "markdown",
   "metadata": {},
   "source": [
    "'2.6.99.2': 'MCA1667' = Pyridoxine 5'-phosphate synthase\n",
    "\n",
    "Catalyzes the complicated ring closure reaction between the two acyclic compounds 1-deoxy-D-xylulose-5-phosphate (DXP) and 3-amino-2-oxopropyl phosphate (1-amino-acetone-3-phosphate or AAP) to form pyridoxine 5'-phosphate (PNP) and inorganic phosphate\n",
    "\n",
    "1-deoxy-D-xylulose 5-phosphate + 3-amino-2-oxopropyl phosphate = pyridoxine 5'-phosphate + phosphate + 2 H2O\n",
    "\n",
    "http://www.uniprot.org/uniprot/Q3V8A2"
   ]
  },
  {
   "cell_type": "markdown",
   "metadata": {},
   "source": [
    "'2.7.1.107': 'MCA0048' = Diacylglycerol kinase, dgkA\n",
    "\n",
    "Involved in synthesis of membrane phospholipids and the neutral lipid triacylglycerol.\n",
    "Activity is stimulated by certain phospholipids.\n",
    "In plants and animals the product 1,2-diacyl-sn-glycerol 3-phosphate is an important second messenger.\n",
    "\n",
    "ATP + 1,2-diacyl-sn-glycerol <=> ADP + 1,2-diacyl-sn-glycerol 3-phosphate\n",
    "\n",
    "http://www.uniprot.org/uniprot/Q60CV3"
   ]
  },
  {
   "cell_type": "markdown",
   "metadata": {},
   "source": [
    "'2.7.7.6': 'MCA1067 or MCA1066 or MCA2022 or MCA2347' = DNA-directed RNA polymerase subunit beta'\n",
    "\n",
    "DNA-dependent RNA polymerase catalyzes the transcription of DNA into RNA using the four ribonucleoside triphosphates as substrates.\n",
    "\n",
    "Nucleoside triphosphate + RNA(n) = diphosphate + RNA(n+1).\n",
    "\n",
    "http://www.uniprot.org/uniprot/Q60A05"
   ]
  },
  {
   "cell_type": "markdown",
   "metadata": {},
   "source": [
    "'2.7.7.7': u'MCA1286 or MCA1328 or MCA1995 or MCA3032 or MCA2573 or MCA1451 or MCA0720' = DNA-directed DNA polymerase\n",
    "\n",
    "Deoxynucleoside triphosphate + DNA(n) = diphosphate + DNA(n+1).\n",
    "\n",
    "http://www.uniprot.org/uniprot/Q609E9"
   ]
  },
  {
   "cell_type": "markdown",
   "metadata": {},
   "source": [
    "'2.7.7.8': 'MCA1309' = Polyribonucleotide nucleotidyltransferase\n",
    "\n",
    "Involved in mRNA degradation. Catalyzes the phosphorolysis of single-stranded polyribonucleotides processively in the 3'- to 5'-direction\n",
    "\n",
    "RNA(n+1) + phosphate = RNA(n) + a nucleoside diphosphate\n",
    "http://www.uniprot.org/uniprot/Q609C6"
   ]
  },
  {
   "cell_type": "markdown",
   "metadata": {},
   "source": [
    "'2.8.1.10': 'MCA1077' = Thiazole synthase\n",
    "\n",
    "Catalyzes the rearrangement of 1-deoxy-D-xylulose 5-phosphate (DXP) to produce the thiazole phosphate moiety of thiamine. Sulfur is provided by the thiocarboxylate moiety of the carrier protein ThiS. In vitro, sulfur can be provided by H2S\n",
    "\n",
    "1-deoxy-D-xylulose 5-phosphate + 2-iminoacetate + thiocarboxy-[sulfur-carrier protein ThiS] = 2-((2R,5Z)-2-carboxy-4-methylthiazol-5(2H)-ylidene)ethyl phosphate + [sulfur-carrier protein ThiS] + 2 H2O.\n",
    "\n",
    "This protein is involved in the pathway thiamine diphosphate biosynthesis, which is part of Cofactor biosynthesis\n",
    "\n",
    "http://www.uniprot.org/uniprot/Q609Z5"
   ]
  },
  {
   "cell_type": "markdown",
   "metadata": {},
   "source": [
    "2.8.1.2': 'MCA1555' = Mercaptopyruvate sulfurtransferase, sseA\n",
    "\n",
    "3-mercaptopyruvate + cyanide <=> pyruvate + thiocyanate\n",
    "\n",
    "http://www.uniprot.org/uniprot/Q608D7"
   ]
  },
  {
   "cell_type": "markdown",
   "metadata": {},
   "source": [
    "'2.8.1.6': 'MCA1125' = Biotin synthase \n",
    "\n",
    "Catalyzes the conversion of dethiobiotin (DTB) to biotin by the insertion of a sulfur atom into dethiobiotin via a radical-based mechanism\n",
    "\n",
    "Dethiobiotin + sulfur-(sulfur carrier) + 2 S-adenosyl-L-methionine + 2 reduced [2Fe-2S] ferredoxin = biotin + (sulfur carrier) + 2 L-methionine + 2 5'-deoxyadenosine + 2 oxidized [2Fe-2S] ferredoxin.\n",
    "\n",
    "This protein is involved in step 2 of the subpathway that synthesizes biotin from 7,8-diaminononanoate\n",
    "http://www.uniprot.org/uniprot/Q609V2"
   ]
  },
  {
   "cell_type": "markdown",
   "metadata": {},
   "source": [
    "'2.8.1.8': 'MCA0110' = Lipoyl synthase, lipA \n",
    "Catalyzes the radical-mediated insertion of two sulfur atoms into the C-6 and C-8 positions of the octanoyl moiety bound to the lipoyl domains of lipoate-dependent enzymes, thereby converting the octanoylated domains into lipoylated derivatives.\n",
    "\n",
    "Protein N(6)-(octanoyl)lysine + 2 sulfur-(sulfur carrier) + 2 S-adenosyl-L-methionine + 2 reduced [2Fe-2S] ferredoxin = protein N(6)-(lipoyl)lysine + 2 (sulfur carrier) + 2 L-methionine + 2 5'-deoxyadenosine + 2 oxidized [2Fe-2S] ferredoxin\n",
    "\n",
    "http://www.uniprot.org/uniprot/Q60CJ6"
   ]
  },
  {
   "cell_type": "markdown",
   "metadata": {},
   "source": [
    "'3.2.1.-': 'MCA0296' = Glycogen debranching enzyme GlgX, glgX\n",
    "\n",
    "http://www.uniprot.org/uniprot/Q60C15"
   ]
  },
  {
   "cell_type": "markdown",
   "metadata": {},
   "source": [
    "'3.4.11.5': 'MCA1737' = Proline iminopeptidase\n",
    " \n",
    "Release of N-terminal proline from a peptide\n",
    "http://www.uniprot.org/uniprot/Q607M2"
   ]
  },
  {
   "cell_type": "markdown",
   "metadata": {},
   "source": [
    "'3.5.1.11': 'MCA3025' = Penicillin acylase II, acyII\n",
    "    \n",
    "Penicillin + H(2)O <=> a carboxylate + 6-aminopenicillanate\n",
    "http://www.uniprot.org/uniprot/Q602N8\n"
   ]
  },
  {
   "cell_type": "markdown",
   "metadata": {},
   "source": [
    "'3.5.2.6': 'MCA2220' = Beta-lactamase\n",
    "\n",
    "A beta-lactam + H2O = a substituted beta-amino acid\n",
    "\n",
    "http://www.uniprot.org/uniprot/Q605Q8"
   ]
  },
  {
   "cell_type": "markdown",
   "metadata": {},
   "source": [
    "'4.2.1.109': 'MCA0799' =  Methylthioribulose-1-phosphate dehydratase, mtnB\n",
    "    \n",
    "Catalyzes the dehydration of methylthioribulose-1-phosphate (MTRu-1-P) into 2,3-diketo-5-methylthiopentyl-1-phosphate (DK-MTP-1-P).\n",
    "\n",
    "S-methyl-5-thio-D-ribulose 1-phosphate = 5-(methylthio)-2,3-dioxopentyl phosphate + H2O.\n",
    "\n",
    "This subpathway is part of the pathway L-methionine biosynthesis via salvage pathway, which is itself part of Amino-acid biosynthesis.\n",
    "\n",
    "http://www.uniprot.org/uniprot/Q60AP7"
   ]
  },
  {
   "cell_type": "markdown",
   "metadata": {},
   "source": [
    "'4.3.99.3': 'MCA1232' = 7-carboxy-7-deazaguanine synthase\n",
    "\n",
    "Catalyzes the complex heterocyclic radical-mediated conversion of 6-carboxy-5,6,7,8-tetrahydropterin (CPH4) to 7-carboxy-7-deazaguanine (CDG), a step common to the biosynthetic pathways of all 7-deazapurine-containing compounds.\n",
    "\n",
    "6-carboxy-5,6,7,8-tetrahydropterin = 7-carboxy-7-carbaguanine + NH3\n",
    "\n",
    "This protein is involved in the pathway 7-cyano-7-deazaguanine biosynthesis, which is part of Purine metabolism\n",
    "\n",
    "http://www.uniprot.org/uniprot/Q609K1"
   ]
  },
  {
   "cell_type": "markdown",
   "metadata": {},
   "source": [
    "'6.3.4.20': 'MCA1233' = 7-cyano-7-deazaguanine synthase\n",
    "    \n",
    "Catalyzes the ATP-dependent conversion of 7-carboxy-7-deazaguanine (CDG) to 7-cyano-7-deazaguanine (preQ0)\n",
    "\n",
    "7-carboxy-7-carbaguanine + NH3 + ATP = 7-cyano-7-carbaguanine + ADP + phosphate + H2O.\n",
    "\n",
    "http://www.uniprot.org/uniprot/Q609K0"
   ]
  },
  {
   "cell_type": "markdown",
   "metadata": {},
   "source": [
    "They are somewhat metabolism related, but I lack precise information on biotin or pyridoxal phosphate so they are not included in the biomass reaction. At a later stage this should be looked into!"
   ]
  },
  {
   "cell_type": "markdown",
   "metadata": {},
   "source": [
    "## Interconversion of Pyruvate and PEP and Oxaloacetate revisited."
   ]
  },
  {
   "cell_type": "code",
   "execution_count": 142,
   "metadata": {
    "collapsed": true
   },
   "outputs": [],
   "source": [
    "model.reactions.BIOMASS_REACTION.change_bounds(0.1,1000)"
   ]
  },
  {
   "cell_type": "code",
   "execution_count": 143,
   "metadata": {
    "collapsed": true
   },
   "outputs": [],
   "source": [
    "model.change_objective(model.reactions.BIOMASS_REACTION)"
   ]
  },
  {
   "cell_type": "code",
   "execution_count": 144,
   "metadata": {
    "collapsed": false
   },
   "outputs": [
    {
     "data": {
      "text/plain": [
       "5.981080383363871"
      ]
     },
     "execution_count": 144,
     "metadata": {},
     "output_type": "execute_result"
    }
   ],
   "source": [
    "model.solve().f"
   ]
  },
  {
   "cell_type": "markdown",
   "metadata": {},
   "source": [
    "Removed the following reactions because the genes they had as GPR did not fulfill that function."
   ]
  },
  {
   "cell_type": "code",
   "execution_count": 145,
   "metadata": {
    "collapsed": false
   },
   "outputs": [],
   "source": [
    "model.remove_reactions([model.reactions.PPS_c,model.reactions.GTPOPm_c,model.reactions.AGPOP_c, model.reactions.DAPOP_c])"
   ]
  },
  {
   "cell_type": "code",
   "execution_count": 146,
   "metadata": {
    "collapsed": false
   },
   "outputs": [
    {
     "data": {
      "text/plain": [
       "5.981080383363658"
      ]
     },
     "execution_count": 146,
     "metadata": {},
     "output_type": "execute_result"
    }
   ],
   "source": [
    "model.solve().f"
   ]
  },
  {
   "cell_type": "code",
   "execution_count": 147,
   "metadata": {
    "collapsed": false
   },
   "outputs": [],
   "source": [
    "from cameo.util import TimeMachine"
   ]
  },
  {
   "cell_type": "code",
   "execution_count": 148,
   "metadata": {
    "collapsed": false
   },
   "outputs": [],
   "source": [
    "rxn = model.reactions.BIOMASS_REACTION\n",
    "\n",
    "for met in rxn.reactants:\n",
    "    with TimeMachine() as tm:\n",
    "        dm = model.add_demand(met, 'TDM', tm)\n",
    "        model.change_objective(dm)\n",
    "        try: \n",
    "            solution = model.solve()\n",
    "            if solution.f == 0:\n",
    "                print '{} cannot be produced'.format(met.id)\n",
    "        except SolverError:\n",
    "            print 'With the current bounds the solver cannot solve the problem. It is infeasible.'"
   ]
  },
  {
   "cell_type": "markdown",
   "metadata": {},
   "source": [
    "# Corrections to the biomass equation based on memote-consistency check"
   ]
  },
  {
   "cell_type": "code",
   "execution_count": 149,
   "metadata": {
    "collapsed": false
   },
   "outputs": [
    {
     "data": {
      "text/plain": [
       "-0.15"
      ]
     },
     "execution_count": 149,
     "metadata": {},
     "output_type": "execute_result"
    }
   ],
   "source": [
    "model.reactions.BIOMASS_REACTION.metabolites[model.metabolites.gln__L_c]"
   ]
  },
  {
   "cell_type": "code",
   "execution_count": 150,
   "metadata": {
    "collapsed": false
   },
   "outputs": [],
   "source": [
    "ct.invert_reaction(model.reactions.DTMPK_c)"
   ]
  },
  {
   "cell_type": "code",
   "execution_count": 151,
   "metadata": {
    "collapsed": false
   },
   "outputs": [],
   "source": [
    "model.reactions.BIOMASS_REACTION.add_metabolites({model.metabolites.ala__L_c: -0.576,\n",
    "                                                 model.metabolites.arg__L_c: -0.254,\n",
    "                                                 model.metabolites.asp__L_c: -0.468,\n",
    "                                                 model.metabolites.cys__L_c: -0.038,\n",
    "                                                 model.metabolites.glu__L_c: -0.519,\n",
    "                                                \n",
    "                                                 model.metabolites.gly_c: -0.484,\n",
    "                                                 model.metabolites.his__L_c: -0.104,\n",
    "                                                 model.metabolites.ile__L_c: -0.242,\n",
    "                                                 model.metabolites.leu__L_c: -0.415,\n",
    "                                                 model.metabolites.lys__L_c: -0.277,\n",
    "                                                 model.metabolites.met__L_c: -0.130,\n",
    "                                                 model.metabolites.phe__L_c: -0.185,\n",
    "                                                 model.metabolites.pro__L_c: -0.248,\n",
    "                                                 model.metabolites.ser__L_c: -0.246,\n",
    "                                                 model.metabolites.thr__L_c: -0.271,\n",
    "                                                 model.metabolites.trp__L_c: -0.093,\n",
    "                                                 model.metabolites.tyr__L_c: -0.132,\n",
    "                                                 model.metabolites.val__L_c: -0.360,\n",
    "                                                 model.metabolites.amp_c: 0,\n",
    "                                                 model.metabolites.atp_c: -(23.087 + 0.024),\n",
    "                                                 model.metabolites.ump_c: 0,\n",
    "                                                 model.metabolites.utp_c: -0.026,\n",
    "                                                 model.metabolites.gmp_c: 0,\n",
    "                                                 model.metabolites.gtp_c: -0.041,\n",
    "                                                 model.metabolites.cmp_c: 0,\n",
    "                                                 model.metabolites.ctp_c: -0.044,\n",
    "                                                 model.metabolites.damp_c: 0,\n",
    "                                                 model.metabolites.datp_c: -0.009,\n",
    "                                                 model.metabolites.dtmp_c: 0,\n",
    "                                                 model.metabolites.dttp_c: -0.009,\n",
    "                                                 model.metabolites.dgmp_c: 0,\n",
    "                                                 model.metabolites.dgtp_c: -0.014,\n",
    "                                                 model.metabolites.dcmp_c: 0,\n",
    "                                                 model.metabolites.dctp_c: -0.016,\n",
    "                                                 model.metabolites.h2o_c: -17.776,\n",
    "                                                 model.metabolites.adp_c: 23.087,\n",
    "                                                 model.metabolites.pi_c: 22.887,\n",
    "                                                 model.metabolites.h_c: 23.087,\n",
    "                                                 model.metabolites.ppi_c: 0.183}\n",
    "                                                 ,combine=False)"
   ]
  },
  {
   "cell_type": "code",
   "execution_count": 152,
   "metadata": {
    "collapsed": false
   },
   "outputs": [],
   "source": [
    "rxn = model.reactions.BIOMASS_REACTION\n",
    "\n",
    "for met in rxn.reactants:\n",
    "    with TimeMachine() as tm:\n",
    "        dm = model.add_demand(met, 'TDM', tm)\n",
    "        model.change_objective(dm)\n",
    "        try: \n",
    "            model.solve().f\n",
    "        except:\n",
    "            print '{} cannot be produced'.format(met.id)"
   ]
  },
  {
   "cell_type": "code",
   "execution_count": 153,
   "metadata": {
    "collapsed": true
   },
   "outputs": [],
   "source": [
    "model.change_objective(model.reactions.BIOMASS_REACTION)"
   ]
  },
  {
   "cell_type": "code",
   "execution_count": 154,
   "metadata": {
    "collapsed": false,
    "scrolled": true
   },
   "outputs": [
    {
     "data": {
      "text/plain": [
       "6.194064622533217"
      ]
     },
     "execution_count": 154,
     "metadata": {},
     "output_type": "execute_result"
    }
   ],
   "source": [
    "model.solve().f"
   ]
  },
  {
   "cell_type": "code",
   "execution_count": 155,
   "metadata": {
    "collapsed": false
   },
   "outputs": [
    {
     "name": "stdout",
     "output_type": "stream",
     "text": [
      "0.012482842398\n",
      "0.013223223581\n",
      "0.013964612704\n",
      "0.058823426824\n",
      "0.077816368564\n",
      "0.078044462485\n",
      "0.097441936685\n",
      "0.097513445826\n",
      "0.121430333106\n",
      "0.129772608034\n",
      "0.129907791742\n",
      "0.129943822918\n",
      "0.132077409918\n",
      "0.160629763998\n",
      "0.176351796478\n",
      "0.177449997004\n",
      "0.177988882444\n",
      "2.01868937954\n",
      "2.01860150157\n",
      "2.01827201607\n",
      "9.61001060112\n",
      "9.61011099676\n",
      "0.182870374517\n",
      "0.182702403998\n",
      "0.182621850093\n",
      "0.178237501326\n",
      "0.145956208966\n",
      "0.145928063624\n",
      "0.0700910985442\n",
      "0.0626810959362\n",
      "0.0219079424362\n",
      "0.0165686084362\n",
      "0.0163795087362\n",
      "0.0199527256638\n",
      "0.0412378208468\n",
      "0.0425626551708\n",
      "0.0938803268508\n",
      "0.0939802789934\n",
      "0.0707099682134\n",
      "0.0720157800134\n",
      "0.0728408707184\n",
      "0.0733571105204\n",
      "0.3935967278\n",
      "0.394923578004\n",
      "0.395045679464\n",
      "0.395584564904\n",
      "0.416666045676\n",
      "0.420752703916\n",
      "0.462925386316\n",
      "0.462992775735\n",
      "0.494736622375\n",
      "0.494908999825\n",
      "0.556729338145\n",
      "0.556777616057\n",
      "0.609298563897\n",
      "0.609343633317\n",
      "0.609457689597\n",
      "0.609618097172\n",
      "0.610122223055\n",
      "0.610650509295\n",
      "0.578634428349\n",
      "0.578970512271\n",
      "0.609530503171\n",
      "0.614134514011\n",
      "0.658637574611\n",
      "0.658638339899\n",
      "0.662941568426\n",
      "0.668813879314\n",
      "0.669046023634\n",
      "0.679153490528\n",
      "0.735202179329\n",
      "0.739257669395\n",
      "0.739485032375\n",
      "0.765337807055\n",
      "0.819774568855\n",
      "0.826818658537\n",
      "0.82759301824\n",
      "0.84372909248\n",
      "0.843770059184\n",
      "0.849343591824\n",
      "0.849448661224\n",
      "0.849461329941\n",
      "0.849489676871\n",
      "0.849489771646\n",
      "0.871411446646\n"
     ]
    }
   ],
   "source": [
    "rxn = model.reactions.BIOMASS_REACTION\n",
    "control_sum = 0\n",
    "\n",
    "for met in rxn.metabolites:\n",
    "    control_sum += (rxn.metabolites[met]/1000) * met.formula_weight\n",
    "    print abs(control_sum)\n",
    "   "
   ]
  },
  {
   "cell_type": "markdown",
   "metadata": {},
   "source": [
    "# Improvement of Lipid and Fatty Acid incorporation into Biomass."
   ]
  },
  {
   "cell_type": "code",
   "execution_count": 156,
   "metadata": {
    "collapsed": false
   },
   "outputs": [],
   "source": [
    "model_x = load_model('/Users/clie/Dev/cameo/tests/data/iMM904.xml')"
   ]
  },
  {
   "cell_type": "code",
   "execution_count": 157,
   "metadata": {
    "collapsed": false
   },
   "outputs": [
    {
     "data": {
      "text/plain": [
       "{'C': 7.105427357601002e-15,\n",
       " 'H': -7.105427357601002e-15,\n",
       " 'N': -2.220446049250313e-16,\n",
       " 'S': 2.7755575615628914e-17}"
      ]
     },
     "execution_count": 157,
     "metadata": {},
     "output_type": "execute_result"
    }
   ],
   "source": [
    "model_x.reactions.TRIGS_SC.check_mass_balance()"
   ]
  },
  {
   "cell_type": "code",
   "execution_count": 158,
   "metadata": {
    "collapsed": false
   },
   "outputs": [
    {
     "data": {
      "text/html": [
       "\n",
       "        <table>\n",
       "            <tr>\n",
       "                <td><strong>Id</strong></td><td>MC_Average_FattyAcid_c</td>\n",
       "            </tr>\n",
       "            <tr>\n",
       "                <td><strong>Name</strong></td><td>Reaction added to get an acurate representation of the average fatty acid composition of MC</td>\n",
       "            </tr>\n",
       "            <tr>\n",
       "                <td><strong>Stoichiometry</strong></td><td>0.092 cpoa2h_c + 0.729 hdca_c + 0.089 hpdca_c + 0.004 ocdca_c + 0.007 ocdcea_c + 0.01 ptdca_c + 0.061 ttdca_c + 0.007 ttdcea_c <=> mc_fattyacid_c</td>\n",
       "            </tr>\n",
       "            <tr>\n",
       "                <td><strong>GPR</strong></td><td></td>\n",
       "            </tr>\n",
       "            <tr>\n",
       "                <td><strong>Lower bound</strong></td><td>-1000.000000</td>\n",
       "            </tr>\n",
       "            <tr>\n",
       "                <td><strong>Upper bound</strong></td><td>1000.000000</td>\n",
       "            </tr>\n",
       "        </table>\n",
       "        "
      ],
      "text/plain": [
       "<Reaction MC_Average_FattyAcid_c at 0x11d29c790>"
      ]
     },
     "execution_count": 158,
     "metadata": {},
     "output_type": "execute_result"
    }
   ],
   "source": [
    "model.reactions.MC_Average_FattyAcid_c"
   ]
  },
  {
   "cell_type": "code",
   "execution_count": 159,
   "metadata": {
    "collapsed": false
   },
   "outputs": [],
   "source": [
    "storage = []\n",
    "for met,coef in model.reactions.MC_Average_FattyAcid_c.metabolites.items():\n",
    "    if coef < 0:\n",
    "        storage.append({e:v*coef for e,v in met.elements.iteritems()})"
   ]
  },
  {
   "cell_type": "code",
   "execution_count": 160,
   "metadata": {
    "collapsed": false
   },
   "outputs": [
    {
     "data": {
      "text/plain": [
       "[{'C': -0.15, 'H': -0.29, 'O': -0.02},\n",
       " {'C': -0.098, 'H': -0.17500000000000002, 'O': -0.014},\n",
       " {'C': -1.513, 'H': -2.937, 'O': -0.178},\n",
       " {'C': -1.564, 'H': -3.036, 'O': -0.184},\n",
       " {'C': -11.664, 'H': -22.599, 'O': -1.458},\n",
       " {'C': -0.126, 'H': -0.231, 'O': -0.014},\n",
       " {'C': -0.07200000000000001, 'H': -0.14, 'O': -0.008},\n",
       " {'C': -0.854, 'H': -1.647, 'O': -0.122}]"
      ]
     },
     "execution_count": 160,
     "metadata": {},
     "output_type": "execute_result"
    }
   ],
   "source": [
    "storage"
   ]
  },
  {
   "cell_type": "code",
   "execution_count": 161,
   "metadata": {
    "collapsed": true
   },
   "outputs": [],
   "source": [
    "average = {'H':0,'C':0,'O':0}\n",
    "for di in storage:\n",
    "    for e,v in di.items():\n",
    "        average[e] += v"
   ]
  },
  {
   "cell_type": "code",
   "execution_count": 162,
   "metadata": {
    "collapsed": false
   },
   "outputs": [],
   "source": [
    "average = {k : v*-1 for (k,v) in average.items()} "
   ]
  },
  {
   "cell_type": "code",
   "execution_count": 163,
   "metadata": {
    "collapsed": false
   },
   "outputs": [],
   "source": [
    "def formula_changer(rxn, met1_id, met2_id, factor,float_ok):\n",
    "    rxn_obj = model.reactions.get_by_id(rxn)\n",
    "    met1_obj = model.metabolites.get_by_id(met1_id)\n",
    "    met2_obj = model.metabolites.get_by_id(met2_id)\n",
    "    \n",
    "    met2_obj.formula = ''\n",
    "    met2_obj.charge = 0\n",
    "    \n",
    "    coef1 = rxn_obj.metabolites[met1_obj]\n",
    "    coef2 = rxn_obj.metabolites[met2_obj]\n",
    "    \n",
    "    rxn_obj.add_metabolites({met1_obj: coef1/factor,\n",
    "                             met2_obj: coef2/factor},combine=False)\n",
    "    \n",
    "    imba_dict =  rxn_obj.check_mass_balance()\n",
    "    print imba_dict\n",
    "    if 'charge' in imba_dict.keys():\n",
    "        if float_ok == 'ok':\n",
    "            met2_obj.charge = -imba_dict['charge']*factor\n",
    "        else:\n",
    "            met2_obj.charge = -int(imba_dict['charge']*factor)\n",
    "        imba_dict.pop('charge', 0)\n",
    "    formula = ''\n",
    "    for k,v in sorted(imba_dict.items()):\n",
    "        if float_ok == 'ok':\n",
    "            formula = formula + '{}{}'.format(k,abs(v*factor))\n",
    "        else:\n",
    "            formula = formula + '{}{}'.format(k,abs(int(v*factor)))\n",
    "    met2_obj.formula = formula\n",
    "    print formula\n",
    "    print rxn_obj.check_mass_balance()"
   ]
  },
  {
   "cell_type": "markdown",
   "metadata": {},
   "source": [
    "# Fatty acid as float (will lead to an invalid SMBL file)"
   ]
  },
  {
   "cell_type": "code",
   "execution_count": 164,
   "metadata": {
    "collapsed": false
   },
   "outputs": [],
   "source": [
    "# model.metabolites.mc_fattyacid_c.elements = average"
   ]
  },
  {
   "cell_type": "code",
   "execution_count": 165,
   "metadata": {
    "collapsed": false
   },
   "outputs": [],
   "source": [
    "# model.metabolites.mc_fattyacid_c.formula"
   ]
  },
  {
   "cell_type": "code",
   "execution_count": 166,
   "metadata": {
    "collapsed": false
   },
   "outputs": [],
   "source": [
    "# model.metabolites.mc_fattyacid_c.formula_weight"
   ]
  },
  {
   "cell_type": "code",
   "execution_count": 167,
   "metadata": {
    "collapsed": false
   },
   "outputs": [],
   "source": [
    "# model.reactions.MC_Average_FattyAcid_c.check_mass_balance()"
   ]
  },
  {
   "cell_type": "code",
   "execution_count": 168,
   "metadata": {
    "collapsed": false
   },
   "outputs": [],
   "source": [
    "# formula_changer('MC_AFAA_c','mc_fattyacid_c','mc_fattyacidcoa_c',1)"
   ]
  },
  {
   "cell_type": "code",
   "execution_count": 169,
   "metadata": {
    "collapsed": false
   },
   "outputs": [],
   "source": [
    "# formula_changer('G3PAT_MC_c','mc_fattyacidcoa_c','1agpgafa_c',1)"
   ]
  },
  {
   "cell_type": "code",
   "execution_count": 170,
   "metadata": {
    "collapsed": false
   },
   "outputs": [],
   "source": [
    "# formula_changer('APG3PAT_MC_c','mc_fattyacidcoa_c','pa_MC_c',1)"
   ]
  },
  {
   "cell_type": "code",
   "execution_count": 171,
   "metadata": {
    "collapsed": false
   },
   "outputs": [],
   "source": [
    "# formula_changer('PHCYT_MC_c','pa_MC_c','cdpdag_MC_c',1)"
   ]
  },
  {
   "cell_type": "code",
   "execution_count": 172,
   "metadata": {
    "collapsed": false
   },
   "outputs": [],
   "source": [
    "# formula_changer('PGSA_MC_c','cdpdag_MC_c','pgp_MC_c',1)"
   ]
  },
  {
   "cell_type": "code",
   "execution_count": 173,
   "metadata": {
    "collapsed": false
   },
   "outputs": [],
   "source": [
    "# formula_changer('PGPP_MC_c','pgp_MC_c','pg_MC_c',1)"
   ]
  },
  {
   "cell_type": "code",
   "execution_count": 174,
   "metadata": {
    "collapsed": false
   },
   "outputs": [],
   "source": [
    "# formula_changer('CLPNS_MC_c','pg_MC_c','clpn_MC_c',1)"
   ]
  },
  {
   "cell_type": "code",
   "execution_count": 175,
   "metadata": {
    "collapsed": false
   },
   "outputs": [],
   "source": [
    "# formula_changer('PSSA_MC_c','cdpdag_MC_c','ps_MC_c',1)"
   ]
  },
  {
   "cell_type": "code",
   "execution_count": 176,
   "metadata": {
    "collapsed": false
   },
   "outputs": [],
   "source": [
    "# formula_changer('PSD_MC_c','ps_MC_c','pe_MC_c',1)"
   ]
  },
  {
   "cell_type": "code",
   "execution_count": 177,
   "metadata": {
    "collapsed": false
   },
   "outputs": [],
   "source": [
    "# formula_changer('PETOHM_MC_c','pe_MC_c','pme_c',1)"
   ]
  },
  {
   "cell_type": "code",
   "execution_count": 178,
   "metadata": {
    "collapsed": false
   },
   "outputs": [],
   "source": [
    "# formula_changer('PMETM_MC_c','pme_c','pdme_c',1)"
   ]
  },
  {
   "cell_type": "code",
   "execution_count": 179,
   "metadata": {
    "collapsed": false
   },
   "outputs": [],
   "source": [
    "# formula_changer('PMETM2_MC_c','pdme_c','pc_MC_c',1)"
   ]
  },
  {
   "cell_type": "code",
   "execution_count": 180,
   "metadata": {
    "collapsed": false
   },
   "outputs": [],
   "source": [
    "# model.metabolites.clpn_MC_c.formula_weight"
   ]
  },
  {
   "cell_type": "code",
   "execution_count": 181,
   "metadata": {
    "collapsed": false
   },
   "outputs": [],
   "source": [
    "# model.metabolites.pg_MC_c.formula_weight"
   ]
  },
  {
   "cell_type": "code",
   "execution_count": 182,
   "metadata": {
    "collapsed": false
   },
   "outputs": [],
   "source": [
    "# model.metabolites.pe_MC_c.formula_weight"
   ]
  },
  {
   "cell_type": "code",
   "execution_count": 183,
   "metadata": {
    "collapsed": false
   },
   "outputs": [],
   "source": [
    "# model.metabolites.pc_MC_c.formula_weight"
   ]
  },
  {
   "cell_type": "code",
   "execution_count": 184,
   "metadata": {
    "collapsed": true
   },
   "outputs": [],
   "source": [
    "# model.reactions.BIOMASS_REACTION.add_metabolites({model.metabolites.pc_MC_c: -0.009,\n",
    "#                                                  model.metabolites.pe_MC_c: -0.091,\n",
    "#                                                  model.metabolites.clpn_MC_c: -0.003,\n",
    "#                                                  model.metabolites.pg_MC_c: -0.015}\n",
    "#                                                  ,combine=False)"
   ]
  },
  {
   "cell_type": "code",
   "execution_count": 185,
   "metadata": {
    "collapsed": false
   },
   "outputs": [],
   "source": [
    "# rxn = model.reactions.BIOMASS_REACTION\n",
    "# control_sum = 0\n",
    "\n",
    "# for met in rxn.metabolites:\n",
    "#     control_sum += (rxn.metabolites[met]/1000) * met.formula_weight\n",
    "#     print abs(control_sum)"
   ]
  },
  {
   "cell_type": "markdown",
   "metadata": {},
   "source": [
    "# Lipid fixes with the iMM904 way"
   ]
  },
  {
   "cell_type": "code",
   "execution_count": 186,
   "metadata": {
    "collapsed": false
   },
   "outputs": [
    {
     "data": {
      "text/plain": [
       "{'C': 16.041, 'H': 31.055, 'O': 1.9980000000000002}"
      ]
     },
     "execution_count": 186,
     "metadata": {},
     "output_type": "execute_result"
    }
   ],
   "source": [
    "average"
   ]
  },
  {
   "cell_type": "code",
   "execution_count": 187,
   "metadata": {
    "collapsed": true
   },
   "outputs": [],
   "source": [
    "model.metabolites.mc_fattyacid_c.elements = {'C': 16041, 'H': 31055, 'O': 1998}"
   ]
  },
  {
   "cell_type": "code",
   "execution_count": 188,
   "metadata": {
    "collapsed": false
   },
   "outputs": [
    {
     "name": "stdout",
     "output_type": "stream",
     "text": [
      "{'C': -37.041, 'H': -62.05500000000001, 'charge': 3.0010000000000003, 'O': -16.998, 'N': -7.0, 'P': -3.0, 'S': -1.0}\n",
      "C37041H62055N7000O16998P3000S1000\n",
      "{'C': 3.552713678800501e-15, 'charge': 4.440892098500626e-16, 'O': 8.881784197001252e-16}\n"
     ]
    }
   ],
   "source": [
    "formula_changer('MC_AFAA_c','mc_fattyacid_c','mc_fattyacidcoa_c',1000,'no')"
   ]
  },
  {
   "cell_type": "code",
   "execution_count": 189,
   "metadata": {
    "collapsed": false
   },
   "outputs": [
    {
     "name": "stdout",
     "output_type": "stream",
     "text": [
      "{'H': -37.055, 'C': -19.041000000000004, 'charge': 1.001, 'O': -6.998000000000001, 'P': -1.0}\n",
      "C19041H37055O6998P1000\n",
      "{'C': -7.105427357601002e-15, 'charge': 0.0009999999999998899}\n"
     ]
    }
   ],
   "source": [
    "formula_changer('G3PAT_MC_c','mc_fattyacidcoa_c','1agpgafa_c',1000,'no')"
   ]
  },
  {
   "cell_type": "code",
   "execution_count": 190,
   "metadata": {
    "collapsed": false
   },
   "outputs": [
    {
     "data": {
      "text/html": [
       "\n",
       "        <table>\n",
       "            <tr>\n",
       "                <td><strong>Id</strong></td><td>APG3PAT_MC_c</td>\n",
       "            </tr>\n",
       "            <tr>\n",
       "                <td><strong>Name</strong></td><td>Acyl-phosphate:glycerol-3-phosphate acyltransferase</td>\n",
       "            </tr>\n",
       "            <tr>\n",
       "                <td><strong>Stoichiometry</strong></td><td>1agpgafa_c + mc_fattyacidcoa_c --> coa_c + pa_MC_c</td>\n",
       "            </tr>\n",
       "            <tr>\n",
       "                <td><strong>GPR</strong></td><td>MCA0058 or MCA2052</td>\n",
       "            </tr>\n",
       "            <tr>\n",
       "                <td><strong>Lower bound</strong></td><td>0.000000</td>\n",
       "            </tr>\n",
       "            <tr>\n",
       "                <td><strong>Upper bound</strong></td><td>1000.000000</td>\n",
       "            </tr>\n",
       "        </table>\n",
       "        "
      ],
      "text/plain": [
       "<Reaction APG3PAT_MC_c at 0x11cc91590>"
      ]
     },
     "execution_count": 190,
     "metadata": {},
     "output_type": "execute_result"
    }
   ],
   "source": [
    "model.reactions.APG3PAT_MC_c"
   ]
  },
  {
   "cell_type": "code",
   "execution_count": 191,
   "metadata": {
    "collapsed": true
   },
   "outputs": [],
   "source": [
    "model.reactions.APG3PAT_MC_c.add_metabolites({model.metabolites.get_by_id('1agpgafa_c'):-0.001},combine=False)"
   ]
  },
  {
   "cell_type": "code",
   "execution_count": 192,
   "metadata": {
    "collapsed": false
   },
   "outputs": [
    {
     "name": "stdout",
     "output_type": "stream",
     "text": [
      "{'H': -67.11, 'C': -35.08200000000001, 'charge': 0.0009999999999998899, 'O': -7.996000000000001, 'P': -1.0}\n",
      "C35082H67110O7996P1000\n",
      "{'C': -3.552713678800501e-15, 'charge': 0.0009999999999998899, 'O': -8.881784197001252e-16}\n"
     ]
    }
   ],
   "source": [
    "formula_changer('APG3PAT_MC_c','mc_fattyacidcoa_c','pa_MC_c',1000,'no')"
   ]
  },
  {
   "cell_type": "code",
   "execution_count": 193,
   "metadata": {
    "collapsed": false
   },
   "outputs": [
    {
     "name": "stdout",
     "output_type": "stream",
     "text": [
      "{'H': -79.11, 'C': -44.082, 'P': -2.0, 'O': -14.996000000000002, 'N': -3.0}\n",
      "C44082H79110N3000O14996P2000\n",
      "{'O': -1.7763568394002505e-15}\n"
     ]
    }
   ],
   "source": [
    "formula_changer('PHCYT_MC_c','pa_MC_c','cdpdag_MC_c',1000,'no')"
   ]
  },
  {
   "cell_type": "code",
   "execution_count": 194,
   "metadata": {
    "collapsed": false
   },
   "outputs": [
    {
     "name": "stdout",
     "output_type": "stream",
     "text": [
      "{'H': -73.11, 'C': -38.082, 'charge': 1.0, 'O': -12.996000000000002, 'P': -2.0}\n",
      "C38082H73110O12996P2000\n",
      "{'O': -1.7763568394002505e-15}\n"
     ]
    }
   ],
   "source": [
    "formula_changer('PGSA_MC_c','cdpdag_MC_c','pgp_MC_c',1000,'no')"
   ]
  },
  {
   "cell_type": "code",
   "execution_count": 195,
   "metadata": {
    "collapsed": false
   },
   "outputs": [
    {
     "name": "stdout",
     "output_type": "stream",
     "text": [
      "{'H': -74.11, 'charge': -1.0, 'C': -38.082, 'O': -9.996, 'P': -1.0}\n",
      "C38082H74110O9996P1000\n",
      "{}\n"
     ]
    }
   ],
   "source": [
    "formula_changer('PGPP_MC_c','pgp_MC_c','pg_MC_c',1000,'no')"
   ]
  },
  {
   "cell_type": "code",
   "execution_count": 196,
   "metadata": {
    "collapsed": false
   },
   "outputs": [
    {
     "name": "stdout",
     "output_type": "stream",
     "text": [
      "{'H': -140.22, 'charge': -2.0, 'C': -73.164, 'O': -16.992, 'P': -2.0}\n",
      "C73164H140220O16992P2000\n",
      "{}\n"
     ]
    }
   ],
   "source": [
    "formula_changer('CLPNS_MC_c','pg_MC_c','clpn_MC_c',1000,'no')"
   ]
  },
  {
   "cell_type": "code",
   "execution_count": 197,
   "metadata": {
    "collapsed": false
   },
   "outputs": [
    {
     "name": "stdout",
     "output_type": "stream",
     "text": [
      "{'C': -38.082, 'H': -73.11, 'O': -9.996, 'N': -1.0, 'P': -1.0, 'charge': -1.0}\n",
      "C38082H73110N1000O9996P1000\n",
      "{}\n"
     ]
    }
   ],
   "source": [
    "formula_changer('PSSA_MC_c','cdpdag_MC_c','ps_MC_c',1000,'no')"
   ]
  },
  {
   "cell_type": "code",
   "execution_count": 198,
   "metadata": {
    "collapsed": false
   },
   "outputs": [
    {
     "name": "stdout",
     "output_type": "stream",
     "text": [
      "{'C': -37.082, 'H': -74.11, 'O': -7.996, 'N': -1.0, 'P': -1.0, 'charge': -2.0}\n",
      "C37082H74110N1000O7996P1000\n",
      "{}\n"
     ]
    }
   ],
   "source": [
    "formula_changer('PSD_MC_c','ps_MC_c','pe_MC_c',1000,'no')"
   ]
  },
  {
   "cell_type": "code",
   "execution_count": 199,
   "metadata": {
    "collapsed": false
   },
   "outputs": [
    {
     "name": "stdout",
     "output_type": "stream",
     "text": [
      "{'C': -38.082, 'H': -76.11, 'O': -7.996, 'N': -1.0, 'P': -1.0, 'charge': -2.0}\n",
      "C38082H76110N1000O7996P1000\n",
      "{}\n"
     ]
    }
   ],
   "source": [
    "formula_changer('PETOHM_MC_c','pe_MC_c','pme_c',1000,'no')"
   ]
  },
  {
   "cell_type": "code",
   "execution_count": 200,
   "metadata": {
    "collapsed": false
   },
   "outputs": [
    {
     "name": "stdout",
     "output_type": "stream",
     "text": [
      "{'C': -39.082, 'H': -78.11, 'O': -7.996, 'N': -1.0, 'P': -1.0, 'charge': -2.0}\n",
      "C39082H78110N1000O7996P1000\n",
      "{}\n"
     ]
    }
   ],
   "source": [
    "formula_changer('PMETM_MC_c','pme_c','pdme_c',1000,'no')"
   ]
  },
  {
   "cell_type": "code",
   "execution_count": 201,
   "metadata": {
    "collapsed": false
   },
   "outputs": [
    {
     "name": "stdout",
     "output_type": "stream",
     "text": [
      "{'C': -40.082, 'H': -75.11, 'O': -7.996, 'N': -1.0, 'P': -1.0, 'charge': -3.0}\n",
      "C40082H75110N1000O7996P1000\n",
      "{}\n"
     ]
    }
   ],
   "source": [
    "formula_changer('PMETM2_MC_c','pdme_c','pc_MC_c',1000,'no')"
   ]
  },
  {
   "cell_type": "markdown",
   "metadata": {},
   "source": [
    "Add copper as a metabolite and add it to the biomass reaction."
   ]
  },
  {
   "cell_type": "code",
   "execution_count": 242,
   "metadata": {
    "collapsed": true
   },
   "outputs": [],
   "source": [
    "met = Metabolite(id='cu_c',formula='Cu',name='Copper',charge=2,compartment='c')"
   ]
  },
  {
   "cell_type": "code",
   "execution_count": 243,
   "metadata": {
    "collapsed": true
   },
   "outputs": [],
   "source": [
    "rxn = Reaction(id='EX_cu_c',name='Cu+ exchange', lower_bound=-1000, upper_bound=1000)"
   ]
  },
  {
   "cell_type": "code",
   "execution_count": 244,
   "metadata": {
    "collapsed": true
   },
   "outputs": [],
   "source": [
    "rxn.add_metabolites({met:-1})"
   ]
  },
  {
   "cell_type": "code",
   "execution_count": 245,
   "metadata": {
    "collapsed": true
   },
   "outputs": [],
   "source": [
    "model.add_reactions([rxn])"
   ]
  },
  {
   "cell_type": "code",
   "execution_count": 246,
   "metadata": {
    "collapsed": false
   },
   "outputs": [],
   "source": [
    "model.reactions.BIOMASS_REACTION.add_metabolites({model.metabolites.pc_MC_c: -(0.00937385/1000),\n",
    "                                                  model.metabolites.pe_MC_c: -(0.09134262/1000),\n",
    "                                                  model.metabolites.clpn_MC_c: -(0.00315904/1000),\n",
    "                                                  model.metabolites.pg_MC_c: -(0.01538077/1000),\n",
    "                                                  model.metabolites.utp_c: -0.02560771,\n",
    "                                                  model.metabolites.gtp_c: -0.04084668,\n",
    "                                                  model.metabolites.ctp_c: -0.04425885,\n",
    "                                                  model.metabolites.datp_c: -0.00866366,\n",
    "                                                  model.metabolites.dttp_c: -0.00882698,\n",
    "                                                  model.metabolites.dgtp_c: -0.01446787,\n",
    "                                                  model.metabolites.dctp_c: -0.01571821,\n",
    "                                                  model.metabolites.sql_c: -0.01339118,\n",
    "                                                  model.metabolites.dpterol_c: -0.01282849,\n",
    "                                                  model.metabolites.lanost_c: -0.00515564,\n",
    "                                                  model.metabolites.ttdca_c: -0.00145650,\n",
    "                                                  model.metabolites.ttdcea_c: -0.00017921,\n",
    "                                                  model.metabolites.ptdca_c: -0.00023422,\n",
    "                                                  model.metabolites.hdca_c: -0.01558994,\n",
    "                                                  model.metabolites.hpdca_c: -0.00179858,\n",
    "                                                  model.metabolites.cpoa2h_c: -0.00186552,\n",
    "                                                  model.metabolites.ocdca_c: -0.00008548,\n",
    "                                                  model.metabolites.ocdcea_c: -0.00014349,\n",
    "                                                  model.metabolites.glc__D_c: -0.24977798,\n",
    "                                                  model.metabolites.glc__D_c: -0.24977798,\n",
    "                                                  model.metabolites.thmpp_c: -0.00002865,\n",
    "                                                  model.metabolites.ribflv_c: -0.00019396,\n",
    "                                                  model.metabolites.nac_c: -0.00106469,\n",
    "                                                  model.metabolites.inost_c: -0.00016652,\n",
    "                                                  model.metabolites.atp_c: -23.11185589,\n",
    "                                                  model.metabolites.adp_c: 23.08742079,\n",
    "                                                  model.metabolites.pi_c: 22.88736056,\n",
    "                                                  model.metabolites.ppi_c: 0.18282505,\n",
    "                                                  model.metabolites.h_c: 23.08742079,\n",
    "                                                  model.metabolites.h2o_c: -17.77579456,\n",
    "                                                  model.metabolites.cl_c: -0.21438646,\n",
    "                                                  model.metabolites.ca2_c: -0.06986377,\n",
    "                                                  model.metabolites.k_c: -0.17647826,\n",
    "                                                  model.metabolites.mg2_c: -0.12343139,\n",
    "                                                  model.metabolites.na1_c: -0.03914785,\n",
    "                                                  model.metabolites.cu_c: -0.00151072,\n",
    "                                                  model.metabolites.cobalt2_c: -0.00005769}\n",
    "                                                 ,combine=False)"
   ]
  },
  {
   "cell_type": "code",
   "execution_count": 247,
   "metadata": {
    "collapsed": false
   },
   "outputs": [
    {
     "name": "stdout",
     "output_type": "stream",
     "text": [
      "0.902342720019\n"
     ]
    }
   ],
   "source": [
    "rxn = model.reactions.BIOMASS_REACTION\n",
    "control_sum = 0\n",
    "\n",
    "for met in rxn.metabolites:\n",
    "    control_sum += (rxn.metabolites[met]/1000) * met.formula_weight\n",
    "\n",
    "print abs(control_sum)"
   ]
  },
  {
   "cell_type": "code",
   "execution_count": 249,
   "metadata": {
    "collapsed": true
   },
   "outputs": [],
   "source": [
    "model.reactions.EX_cl_c.lower_bound = -1000\n",
    "model.reactions.EX_ca2_c.lower_bound = -1000\n",
    "model.reactions.EX_k_c.lower_bound = -1000\n",
    "model.reactions.EX_mg2_c.lower_bound = -1000\n",
    "model.reactions.EX_na1_c.lower_bound = -1"
   ]
  },
  {
   "cell_type": "code",
   "execution_count": 256,
   "metadata": {
    "collapsed": false
   },
   "outputs": [],
   "source": [
    "model.reactions.EX_ch4_p.lower_bound = -18.46"
   ]
  },
  {
   "cell_type": "code",
   "execution_count": 257,
   "metadata": {
    "collapsed": false
   },
   "outputs": [
    {
     "data": {
      "text/plain": [
       "0.26026613903477824"
      ]
     },
     "execution_count": 257,
     "metadata": {},
     "output_type": "execute_result"
    }
   ],
   "source": [
    "model.solve().f"
   ]
  },
  {
   "cell_type": "markdown",
   "metadata": {},
   "source": [
    "# Saving and Export"
   ]
  },
  {
   "cell_type": "code",
   "execution_count": 251,
   "metadata": {
    "collapsed": true
   },
   "outputs": [],
   "source": [
    "import cobra"
   ]
  },
  {
   "cell_type": "code",
   "execution_count": 252,
   "metadata": {
    "collapsed": false
   },
   "outputs": [],
   "source": [
    "target_filename_json = relative_directory + '/Reconstructions/MethylococcusModel11.json'\n",
    "target_filename_xml = relative_directory + '/Reconstructions/MethylococcusModel11.xml'\n",
    "cobra.io.write_sbml_model(model, target_filename_xml, use_fbc_package=True)\n",
    "cobra.io.save_json_model(model, target_filename_json,pretty = True)"
   ]
  },
  {
   "cell_type": "markdown",
   "metadata": {},
   "source": [
    "# Validation Implementation 2.0"
   ]
  },
  {
   "cell_type": "code",
   "execution_count": 4,
   "metadata": {
    "collapsed": true
   },
   "outputs": [],
   "source": [
    "relative_directory = getcwd()"
   ]
  },
  {
   "cell_type": "code",
   "execution_count": 5,
   "metadata": {
    "collapsed": false
   },
   "outputs": [],
   "source": [
    "target_filename_xml = relative_directory + '/Reconstructions/MethylococcusModel11.xml'"
   ]
  },
  {
   "cell_type": "code",
   "execution_count": 6,
   "metadata": {
    "collapsed": false
   },
   "outputs": [],
   "source": [
    "xyz = load_model(target_filename_xml)"
   ]
  },
  {
   "cell_type": "code",
   "execution_count": 7,
   "metadata": {
    "collapsed": true
   },
   "outputs": [],
   "source": [
    "relative_directory = getcwd()\n",
    "model = load_model(relative_directory + '/Reconstructions/MethylococcusModel11.json')"
   ]
  },
  {
   "cell_type": "code",
   "execution_count": 8,
   "metadata": {
    "collapsed": false
   },
   "outputs": [
    {
     "data": {
      "text/plain": [
       "(0, 1000)"
      ]
     },
     "execution_count": 8,
     "metadata": {},
     "output_type": "execute_result"
    }
   ],
   "source": [
    "model.reactions.pMMO_im.bounds"
   ]
  },
  {
   "cell_type": "code",
   "execution_count": 9,
   "metadata": {
    "collapsed": false
   },
   "outputs": [
    {
     "data": {
      "text/plain": [
       "(0, 0)"
      ]
     },
     "execution_count": 9,
     "metadata": {},
     "output_type": "execute_result"
    }
   ],
   "source": [
    "model.reactions.pMMO_dir_coupl_im.bounds"
   ]
  },
  {
   "cell_type": "code",
   "execution_count": 10,
   "metadata": {
    "collapsed": false
   },
   "outputs": [
    {
     "data": {
      "text/plain": [
       "(0, 1000)"
      ]
     },
     "execution_count": 10,
     "metadata": {},
     "output_type": "execute_result"
    }
   ],
   "source": [
    "model.reactions.CYOR_q8_im.bounds"
   ]
  },
  {
   "cell_type": "code",
   "execution_count": 11,
   "metadata": {
    "collapsed": false
   },
   "outputs": [
    {
     "data": {
      "text/plain": [
       "(0, 0)"
      ]
     },
     "execution_count": 11,
     "metadata": {},
     "output_type": "execute_result"
    }
   ],
   "source": [
    "model.reactions.sMMO_c.bounds"
   ]
  },
  {
   "cell_type": "code",
   "execution_count": 12,
   "metadata": {
    "collapsed": false
   },
   "outputs": [],
   "source": [
    "import cameo"
   ]
  },
  {
   "cell_type": "code",
   "execution_count": 13,
   "metadata": {
    "collapsed": false
   },
   "outputs": [],
   "source": [
    "def efficiency_prediction(n_source,lim,ratio):\n",
    "    o2_utr = []\n",
    "    ch4_utr = []\n",
    "    grwth_rate = []\n",
    "    \n",
    "    for l in range(len(n_source)):\n",
    "        \n",
    "        if not ratio[l] == 100:\n",
    "            model.reactions.sMMO_c.change_bounds(0,1000)\n",
    "            model.reactions.pMMO_im.change_bounds(0,1000)\n",
    "            constraint1 = model.add_ratio_constraint('pMMO_im','sMMO_c',ratio[l])\n",
    "        \n",
    "        else:\n",
    "            model.reactions.pMMO_im.change_bounds(0,1000)\n",
    "            model.reactions.sMMO_c.change_bounds(0,0)\n",
    "            model.reactions.CYTCBD_im.change_bounds(0,0)\n",
    "            model.reactions.PPApt_im.change_bounds(0,0)\n",
    "            \n",
    "#####################################################################################\n",
    "        \n",
    "        if n_source[l] == 'no3':\n",
    "            model.reactions.EX_nh3_c.lower_bound = 0\n",
    "            model.reactions.EX_no3_e.lower_bound = -1000\n",
    "            model.reactions.GLNS_c.upper_bound = 1000\n",
    "            model.reactions.GLNS_c.lower_bound = 0\n",
    "        \n",
    "        elif n_source[l] == 'nh4':\n",
    "            model.reactions.EX_nh3_c.lower_bound = -1000\n",
    "            model.reactions.EX_no3_e.lower_bound = 0\n",
    "            model.reactions.GLNS_c.upper_bound = 0\n",
    "            model.reactions.GLNS_c.lower_bound = 0\n",
    "        \n",
    "        elif n_source[l] == 'both':\n",
    "            model.reactions.EX_nh3_c.lower_bound = -1000\n",
    "            model.reactions.EX_no3_e.lower_bound = -1000\n",
    "            model.reactions.GLNS_c.upper_bound = 1000\n",
    "            model.reactions.GLNS_c.lower_bound = 0\n",
    "            constraint2 = model.add_ratio_constraint('EX_nh3_c','EX_no3_e',4.12)\n",
    "        \n",
    "#####################################################################################\n",
    "\n",
    "        if lim[l] == 'O2':\n",
    "            model.reactions.EX_o2_c.lower_bound = -100\n",
    "            model.reactions.EX_ch4_p.lower_bound = -1000\n",
    "            model.reactions.EX_co2_c.lower_bound = -1000           \n",
    "            \n",
    "        elif lim[l] == 'CH4':\n",
    "            model.reactions.EX_o2_c.lower_bound = -1000\n",
    "            model.reactions.EX_ch4_p.lower_bound = -100\n",
    "            model.reactions.EX_co2_c.lower_bound = -1000\n",
    "\n",
    "\n",
    "#####################################################################################\n",
    "            \n",
    "        model.reactions.BIOMASS_REACTION.lower_bound = 0.1\n",
    "        model.reactions.BIOMASS_REACTION.upper_bound = 0.1\n",
    "            \n",
    "        try:\n",
    "            model.change_objective(model.reactions.BIOMASS_REACTION)\n",
    "            solution = cameo.pfba(model)\n",
    "            o2_utr.append(solution.fluxes['EX_o2_c'])\n",
    "            ch4_utr.append(solution.fluxes['EX_ch4_p'])\n",
    "            grwth_rate.append(solution.fluxes['BIOMASS_REACTION'])\n",
    "        except cameo.exceptions.SolveError:\n",
    "            o2_utr.append(0)\n",
    "            ch4_utr.append(0)\n",
    "            grwth_rate.append(0)\n",
    "                \n",
    "        if not ratio[l] == 100:\n",
    "            model.solver.remove([constraint1])\n",
    "            \n",
    "        if n_source[l] == 'both':   \n",
    "            model.solver.remove([constraint2])\n",
    "        \n",
    "    return o2_utr, ch4_utr, grwth_rate"
   ]
  },
  {
   "cell_type": "code",
   "execution_count": 14,
   "metadata": {
    "collapsed": true
   },
   "outputs": [],
   "source": [
    "from optlang import Model, Variable, Constraint, Objective"
   ]
  },
  {
   "cell_type": "code",
   "execution_count": 15,
   "metadata": {
    "collapsed": true
   },
   "outputs": [],
   "source": [
    "def efficiency_prediction_alt_2(n_source,lim,ratio):\n",
    "    o2_utr = []\n",
    "    ch4_utr = []\n",
    "    grwth_rate = []\n",
    "    \n",
    "    for l in range(len(n_source)):\n",
    "        \n",
    "        if not ratio[l] == 100:\n",
    "            model.reactions.sMMO_c.change_bounds(0,1000)\n",
    "            c1 = Constraint(((1.0*model.solver.variables.pMMO_dir_coupl_im - \n",
    "                1.0*model.solver.variables.pMMO_dir_coupl_im_reverse_025d7) + \n",
    "                 (1.0*model.solver.variables.pMMO_im - \n",
    "                  1.0*model.solver.variables.pMMO_im_reverse_bce3b)) -\n",
    "                ratio[l]*(1.0*model.solver.variables.sMMO_c - \n",
    "                 1.0*model.solver.variables.sMMO_c_reverse_3e312),ub=0,lb=0)\n",
    "            model.solver.add([c1])\n",
    "        \n",
    "        else:\n",
    "            model.reactions.sMMO_c.change_bounds(0,0)\n",
    "            model.reactions.CYTCBD_im.change_bounds(0,0)\n",
    "            model.reactions.PPApt_im.change_bounds(0,0)\n",
    "            \n",
    "#####################################################################################\n",
    "        \n",
    "        if n_source[l] == 'no3':\n",
    "            model.reactions.EX_nh3_c.lower_bound = 0\n",
    "            model.reactions.EX_no3_e.lower_bound = -1000\n",
    "            model.reactions.GLNS_c.upper_bound = 1000\n",
    "            model.reactions.GLNS_c.lower_bound = 0\n",
    "        \n",
    "        elif n_source[l] == 'nh4':\n",
    "            model.reactions.EX_nh3_c.lower_bound = -1000\n",
    "            model.reactions.EX_no3_e.lower_bound = 0\n",
    "            model.reactions.GLNS_c.upper_bound = 0\n",
    "            model.reactions.GLNS_c.lower_bound = 0\n",
    "        \n",
    "        elif n_source[l] == 'both':\n",
    "            model.reactions.EX_nh3_c.lower_bound = -1000\n",
    "            model.reactions.EX_no3_e.lower_bound = -1000\n",
    "            model.reactions.GLNS_c.upper_bound = 1000\n",
    "            model.reactions.GLNS_c.lower_bound = 0\n",
    "            constraint2 = model.add_ratio_constraint('EX_nh3_c','EX_no3_e',4.12)\n",
    "        \n",
    "#####################################################################################\n",
    "\n",
    "        if lim[l] == 'O2':\n",
    "            model.reactions.EX_o2_c.lower_bound = -1000\n",
    "            model.reactions.EX_ch4_p.lower_bound = -1000\n",
    "            model.reactions.EX_co2_c.lower_bound = -1000\n",
    "            \n",
    "            model.change_objective(model.reactions.EX_o2_c)\n",
    "            model.objective.direction = 'max'\n",
    "            \n",
    "            \n",
    "        elif lim[l] == 'CH4':\n",
    "            model.reactions.EX_o2_c.lower_bound = -1000\n",
    "            model.reactions.EX_ch4_p.lower_bound = -1000\n",
    "            model.reactions.EX_co2_c.lower_bound = -1000\n",
    "            \n",
    "            model.change_objective(model.reactions.EX_ch4_p)\n",
    "            model.objective.direction = 'max'\n",
    "\n",
    "#####################################################################################\n",
    "            \n",
    "        model.reactions.BIOMASS_REACTION.lower_bound = 0.1\n",
    "        model.reactions.BIOMASS_REACTION.upper_bound = 0.1\n",
    "            \n",
    "        try:\n",
    "            solution = cameo.pfba(model)\n",
    "            o2_utr.append(solution.fluxes['EX_o2_c'])\n",
    "            ch4_utr.append(solution.fluxes['EX_ch4_p'])\n",
    "            grwth_rate.append(solution.fluxes['BIOMASS_REACTION'])\n",
    "            print 'Solved'\n",
    "        except cameo.exceptions.SolveError:\n",
    "            o2_utr.append(0)\n",
    "            ch4_utr.append(0)\n",
    "            grwth_rate.append(0)\n",
    "            print 'Solver Error!!'\n",
    "                \n",
    "        if not ratio[l] == 100:\n",
    "            model.solver.remove([c1])\n",
    "            \n",
    "        if n_source[l] == 'both':   \n",
    "            model.solver.remove([constraint2])\n",
    "            \n",
    "    print o2_utr\n",
    "    print ch4_utr\n",
    "    print grwth_rate\n",
    "    return o2_utr, ch4_utr, grwth_rate"
   ]
  },
  {
   "cell_type": "code",
   "execution_count": 16,
   "metadata": {
    "collapsed": true
   },
   "outputs": [],
   "source": [
    "def efficiency_prediction_alt_3(n_source,lim,ratio):\n",
    "    o2_utr = []\n",
    "    ch4_utr = []\n",
    "    grwth_rate = []\n",
    "    sol_array = []\n",
    "    \n",
    "    model.reactions.BIOMASS_REACTION.lower_bound = 0.1\n",
    "    model.reactions.BIOMASS_REACTION.upper_bound = 0.1\n",
    "    \n",
    "    for l in range(len(n_source)):\n",
    "        \n",
    "        if not ratio[l] == 100:\n",
    "            model.reactions.sMMO_c.change_bounds(0,1000)\n",
    "            c1 = Constraint(((1.0*model.solver.variables.pMMO_dir_coupl_im - \n",
    "                1.0*model.solver.variables.pMMO_dir_coupl_im_reverse_025d7) + \n",
    "                 (1.0*model.solver.variables.pMMO_im - \n",
    "                  1.0*model.solver.variables.pMMO_im_reverse_bce3b)) -\n",
    "                ratio[l]*(1.0*model.solver.variables.sMMO_c - \n",
    "                 1.0*model.solver.variables.sMMO_c_reverse_3e312),ub=0,lb=0)\n",
    "            model.solver.add([c1])\n",
    "        \n",
    "        else:\n",
    "            model.reactions.sMMO_c.change_bounds(0,0)\n",
    "            model.reactions.CYTCBD_im.change_bounds(0,0)\n",
    "            model.reactions.PPApt_im.change_bounds(0,0)\n",
    "            \n",
    "#####################################################################################\n",
    "        \n",
    "        if n_source[l] == 'no3':\n",
    "            model.reactions.EX_nh3_c.lower_bound = 0\n",
    "            model.reactions.EX_no3_e.lower_bound = -1000\n",
    "            model.reactions.GLNS_c.upper_bound = 1000\n",
    "            model.reactions.GLNS_c.lower_bound = 0\n",
    "        \n",
    "        elif n_source[l] == 'nh4':\n",
    "            model.reactions.EX_nh3_c.lower_bound = -1000\n",
    "            model.reactions.EX_no3_e.lower_bound = 0\n",
    "            model.reactions.GLNS_c.upper_bound = 0\n",
    "            model.reactions.GLNS_c.lower_bound = 0\n",
    "        \n",
    "        elif n_source[l] == 'both':\n",
    "            model.reactions.EX_nh3_c.lower_bound = -1000\n",
    "            model.reactions.EX_no3_e.lower_bound = -1000\n",
    "            model.reactions.GLNS_c.upper_bound = 1000\n",
    "            model.reactions.GLNS_c.lower_bound = 0\n",
    "            constraint2 = model.add_ratio_constraint('EX_nh3_c','EX_no3_e',4.12)\n",
    "        \n",
    "#####################################################################################\n",
    "\n",
    "        if lim[l] == 'O2':\n",
    "            model.reactions.EX_o2_c.change_bounds(-1000,0)\n",
    "            model.reactions.EX_ch4_p.change_bounds(-1000,0)\n",
    "            model.reactions.EX_co2_c.lower_bound = -1000\n",
    "            \n",
    "            model.change_objective(model.reactions.EX_o2_c)\n",
    "            model.objective.direction = 'max'\n",
    "            \n",
    "            try:\n",
    "                solution = model.solve()\n",
    "                o2_utr.append(model.reactions.EX_o2_c.flux)\n",
    "                model.reactions.EX_o2_c.change_bounds(model.reactions.EX_o2_c.flux,model.reactions.EX_o2_c.flux)\n",
    "                \n",
    "                model.change_objective(model.reactions.EX_ch4_p)\n",
    "                model.objective.direction = 'max'\n",
    "                solution = model.solve()\n",
    "                \n",
    "                ch4_utr.append(model.reactions.EX_ch4_p.flux)\n",
    "                grwth_rate.append(model.reactions.BIOMASS_REACTION.flux)\n",
    "                sol_array.append(model.solution.fluxes)\n",
    "\n",
    "                print 'Solved'\n",
    "            except cameo.exceptions.SolveError:\n",
    "                o2_utr.append(0)\n",
    "                ch4_utr.append(0)\n",
    "                sol_array.append(0)\n",
    "                grwth_rate.append(0)\n",
    "                print 'Solver Error!!'\n",
    "            \n",
    "            \n",
    "        elif lim[l] == 'CH4':\n",
    "            model.reactions.EX_o2_c.change_bounds(-1000,0)\n",
    "            model.reactions.EX_ch4_p.change_bounds(-1000,0)\n",
    "            model.reactions.EX_co2_c.lower_bound = -1000\n",
    "            \n",
    "            model.change_objective(model.reactions.EX_ch4_p)\n",
    "            model.objective.direction = 'max'\n",
    "            \n",
    "            try:\n",
    "                solution = model.solve()\n",
    "                ch4_utr.append(model.reactions.EX_ch4_p.flux)\n",
    "                \n",
    "                model.reactions.EX_ch4_p.change_bounds(model.reactions.EX_ch4_p.flux,model.reactions.EX_ch4_p.flux)\n",
    "                \n",
    "                model.change_objective(model.reactions.EX_o2_c)\n",
    "                model.objective.direction = 'max'\n",
    "                solution = model.solve()\n",
    "                \n",
    "                o2_utr.append(model.reactions.EX_o2_c.flux)\n",
    "                grwth_rate.append(model.reactions.BIOMASS_REACTION.flux)\n",
    "                sol_array.append(solution.fluxes)\n",
    "                print 'Solved'\n",
    "            except cameo.exceptions.SolveError:\n",
    "                o2_utr.append(0)\n",
    "                ch4_utr.append(0)\n",
    "                sol_array.append(0)\n",
    "                grwth_rate.append(0)\n",
    "                print 'Solver Error!!'\n",
    "\n",
    "#####################################################################################\n",
    "                \n",
    "        if not ratio[l] == 100:\n",
    "            model.solver.remove([c1])\n",
    "            \n",
    "        if n_source[l] == 'both':   \n",
    "            model.solver.remove([constraint2])\n",
    "            \n",
    "\n",
    "    return o2_utr, ch4_utr, grwth_rate, sol_array"
   ]
  },
  {
   "cell_type": "markdown",
   "metadata": {},
   "source": [
    "Leak and Dalton - Conversion of Copper used."
   ]
  },
  {
   "cell_type": "code",
   "execution_count": 17,
   "metadata": {
    "collapsed": true
   },
   "outputs": [],
   "source": [
    "# Molar Mass of CuSO4.5H2O in g/mol\n",
    "M_cuso4 = 249.72"
   ]
  },
  {
   "cell_type": "code",
   "execution_count": 18,
   "metadata": {
    "collapsed": false
   },
   "outputs": [
    {
     "data": {
      "text/plain": [
       "0.8008970046452026"
      ]
     },
     "execution_count": 18,
     "metadata": {},
     "output_type": "execute_result"
    }
   ],
   "source": [
    "((0.2/1000)/ 249.72) *1000000\n",
    "# µmol/l"
   ]
  },
  {
   "cell_type": "code",
   "execution_count": 19,
   "metadata": {
    "collapsed": false
   },
   "outputs": [
    {
     "data": {
      "text/plain": [
       "6.00672753483902"
      ]
     },
     "execution_count": 19,
     "metadata": {},
     "output_type": "execute_result"
    }
   ],
   "source": [
    "((1.5/1000)/ 249.72) *1000000"
   ]
  },
  {
   "cell_type": "code",
   "execution_count": 20,
   "metadata": {
    "collapsed": false
   },
   "outputs": [
    {
     "data": {
      "text/plain": [
       "0.20022425116130066"
      ]
     },
     "execution_count": 20,
     "metadata": {},
     "output_type": "execute_result"
    }
   ],
   "source": [
    "((0.05/1000)/ 249.72) *1000000"
   ]
  },
  {
   "cell_type": "code",
   "execution_count": 21,
   "metadata": {
    "collapsed": false
   },
   "outputs": [
    {
     "data": {
      "text/plain": [
       "0.4004485023226013"
      ]
     },
     "execution_count": 21,
     "metadata": {},
     "output_type": "execute_result"
    }
   ],
   "source": [
    "((0.1/1000)/ 249.72) *1000000"
   ]
  },
  {
   "cell_type": "code",
   "execution_count": 22,
   "metadata": {
    "collapsed": false
   },
   "outputs": [
    {
     "data": {
      "text/plain": [
       "6.407176037161621"
      ]
     },
     "execution_count": 22,
     "metadata": {},
     "output_type": "execute_result"
    }
   ],
   "source": [
    "((1.6/1000)/ 249.72) *1000000"
   ]
  },
  {
   "cell_type": "code",
   "execution_count": 23,
   "metadata": {
    "collapsed": false
   },
   "outputs": [
    {
     "data": {
      "text/plain": [
       "4.805382027871215"
      ]
     },
     "execution_count": 23,
     "metadata": {},
     "output_type": "execute_result"
    }
   ],
   "source": [
    "((1.2/1000)/ 249.72) *1000000"
   ]
  },
  {
   "cell_type": "code",
   "execution_count": 24,
   "metadata": {
    "collapsed": false
   },
   "outputs": [
    {
     "data": {
      "text/plain": [
       "10.251481659458594"
      ]
     },
     "execution_count": 24,
     "metadata": {},
     "output_type": "execute_result"
    }
   ],
   "source": [
    "((0.00256)/ 249.72) *1000000"
   ]
  },
  {
   "cell_type": "code",
   "execution_count": 25,
   "metadata": {
    "collapsed": true
   },
   "outputs": [],
   "source": [
    "# Experimental parameters used by Leak and Dalton, \n",
    "# here serve as input parameters for the Efficiency Prediction function.\n",
    "\n",
    "n_sources = ['no3','no3','no3','no3','nh4','nh4','nh4','both','both']\n",
    "lim = ['O2','O2','CH4','CH4','O2','O2','CH4','CH4','CH4']\n",
    "ratio = [0.02,100,0.01,99,0.02,99,24,100,49]\n",
    "cu_values = [0.8,6,0.2,6,0.4,6,6,6.4,0.2]\n",
    "\n",
    "\n",
    "# Experimental results as measured by Leak and Dalton\n",
    "o2_ch4_yields_exp = [1.47,1.45,1.50,1.41,1.56,1.60,1.60,1.48,1.52]\n",
    "ych4_yields_exp = [0.50,0.69,0.50,0.67,0.71,'0.69-0.75',0.67,0.79,0.60]"
   ]
  },
  {
   "cell_type": "markdown",
   "metadata": {},
   "source": [
    "### Initial Calculation with previously-found proportions in electron transfer"
   ]
  },
  {
   "cell_type": "code",
   "execution_count": 26,
   "metadata": {
    "collapsed": false
   },
   "outputs": [],
   "source": [
    "model.reactions.pMMO_dir_coupl_im.upper_bound = 0"
   ]
  },
  {
   "cell_type": "code",
   "execution_count": 27,
   "metadata": {
    "collapsed": true
   },
   "outputs": [],
   "source": [
    "model.reactions.CYOR_q8_im.lower_bound = -1.76"
   ]
  },
  {
   "cell_type": "code",
   "execution_count": 28,
   "metadata": {
    "collapsed": false
   },
   "outputs": [],
   "source": [
    "o2_utr, ch4_utr, grwth_rate = efficiency_prediction(n_sources,lim,ratio)\n",
    "# mmol O2/ mmol CH4\n",
    "ratios = [abs(float(o2_utr[i]/ch4_utr[i])) for i in range(len(o2_utr))]\n",
    "# gDW/g Methane\n",
    "yields = [abs(grwth_rate[i]/((ch4_utr[i]/1000)*16.04)) for i in range(len(o2_utr))]"
   ]
  },
  {
   "cell_type": "code",
   "execution_count": 29,
   "metadata": {
    "collapsed": false
   },
   "outputs": [
    {
     "data": {
      "text/html": [
       "<div>\n",
       "<table border=\"1\" class=\"dataframe\">\n",
       "  <thead>\n",
       "    <tr style=\"text-align: right;\">\n",
       "      <th></th>\n",
       "      <th>CuSO4.5H20 (µM)</th>\n",
       "      <th>Limitation</th>\n",
       "      <th>Nitrogen Source</th>\n",
       "      <th>O2/CH4 - Experimental</th>\n",
       "      <th>O2/CH4 - Predicted</th>\n",
       "      <th>P/S (%)</th>\n",
       "      <th>YCH4 - Experimental</th>\n",
       "      <th>YCH4 - Predicted</th>\n",
       "    </tr>\n",
       "  </thead>\n",
       "  <tbody>\n",
       "    <tr>\n",
       "      <th>0</th>\n",
       "      <td>0.8</td>\n",
       "      <td>O2</td>\n",
       "      <td>no3</td>\n",
       "      <td>1.47</td>\n",
       "      <td>1.519655</td>\n",
       "      <td>0.02</td>\n",
       "      <td>0.5</td>\n",
       "      <td>0.584947</td>\n",
       "    </tr>\n",
       "    <tr>\n",
       "      <th>1</th>\n",
       "      <td>6.0</td>\n",
       "      <td>O2</td>\n",
       "      <td>no3</td>\n",
       "      <td>1.45</td>\n",
       "      <td>1.468857</td>\n",
       "      <td>100.00</td>\n",
       "      <td>0.69</td>\n",
       "      <td>0.646807</td>\n",
       "    </tr>\n",
       "    <tr>\n",
       "      <th>2</th>\n",
       "      <td>0.2</td>\n",
       "      <td>CH4</td>\n",
       "      <td>no3</td>\n",
       "      <td>1.50</td>\n",
       "      <td>1.519655</td>\n",
       "      <td>0.01</td>\n",
       "      <td>0.5</td>\n",
       "      <td>0.584947</td>\n",
       "    </tr>\n",
       "    <tr>\n",
       "      <th>3</th>\n",
       "      <td>6.0</td>\n",
       "      <td>CH4</td>\n",
       "      <td>no3</td>\n",
       "      <td>1.41</td>\n",
       "      <td>1.470082</td>\n",
       "      <td>99.00</td>\n",
       "      <td>0.67</td>\n",
       "      <td>0.645314</td>\n",
       "    </tr>\n",
       "    <tr>\n",
       "      <th>4</th>\n",
       "      <td>0.4</td>\n",
       "      <td>O2</td>\n",
       "      <td>nh4</td>\n",
       "      <td>1.56</td>\n",
       "      <td>1.599529</td>\n",
       "      <td>0.02</td>\n",
       "      <td>0.71</td>\n",
       "      <td>0.717308</td>\n",
       "    </tr>\n",
       "    <tr>\n",
       "      <th>5</th>\n",
       "      <td>6.0</td>\n",
       "      <td>O2</td>\n",
       "      <td>nh4</td>\n",
       "      <td>1.60</td>\n",
       "      <td>1.540573</td>\n",
       "      <td>99.00</td>\n",
       "      <td>0.69-0.75</td>\n",
       "      <td>0.822906</td>\n",
       "    </tr>\n",
       "    <tr>\n",
       "      <th>6</th>\n",
       "      <td>6.0</td>\n",
       "      <td>CH4</td>\n",
       "      <td>nh4</td>\n",
       "      <td>1.60</td>\n",
       "      <td>1.543761</td>\n",
       "      <td>24.00</td>\n",
       "      <td>0.67</td>\n",
       "      <td>0.817196</td>\n",
       "    </tr>\n",
       "    <tr>\n",
       "      <th>7</th>\n",
       "      <td>6.4</td>\n",
       "      <td>CH4</td>\n",
       "      <td>both</td>\n",
       "      <td>1.48</td>\n",
       "      <td>1.532037</td>\n",
       "      <td>100.00</td>\n",
       "      <td>0.79</td>\n",
       "      <td>0.814912</td>\n",
       "    </tr>\n",
       "    <tr>\n",
       "      <th>8</th>\n",
       "      <td>0.2</td>\n",
       "      <td>CH4</td>\n",
       "      <td>both</td>\n",
       "      <td>1.52</td>\n",
       "      <td>1.534197</td>\n",
       "      <td>49.00</td>\n",
       "      <td>0.6</td>\n",
       "      <td>0.811151</td>\n",
       "    </tr>\n",
       "  </tbody>\n",
       "</table>\n",
       "</div>"
      ],
      "text/plain": [
       "   CuSO4.5H20 (µM) Limitation Nitrogen Source  O2/CH4 - Experimental  \\\n",
       "0              0.8         O2             no3                   1.47   \n",
       "1              6.0         O2             no3                   1.45   \n",
       "2              0.2        CH4             no3                   1.50   \n",
       "3              6.0        CH4             no3                   1.41   \n",
       "4              0.4         O2             nh4                   1.56   \n",
       "5              6.0         O2             nh4                   1.60   \n",
       "6              6.0        CH4             nh4                   1.60   \n",
       "7              6.4        CH4            both                   1.48   \n",
       "8              0.2        CH4            both                   1.52   \n",
       "\n",
       "   O2/CH4 - Predicted  P/S (%) YCH4 - Experimental  YCH4 - Predicted  \n",
       "0            1.519655     0.02                 0.5          0.584947  \n",
       "1            1.468857   100.00                0.69          0.646807  \n",
       "2            1.519655     0.01                 0.5          0.584947  \n",
       "3            1.470082    99.00                0.67          0.645314  \n",
       "4            1.599529     0.02                0.71          0.717308  \n",
       "5            1.540573    99.00           0.69-0.75          0.822906  \n",
       "6            1.543761    24.00                0.67          0.817196  \n",
       "7            1.532037   100.00                0.79          0.814912  \n",
       "8            1.534197    49.00                 0.6          0.811151  "
      ]
     },
     "execution_count": 29,
     "metadata": {},
     "output_type": "execute_result"
    }
   ],
   "source": [
    "d = {'Nitrogen Source' : pd.Series(n_sources, index=range(len(n_sources))),\n",
    "     'CuSO4.5H20 (µM)':pd.Series(cu_values,index=range(len(n_sources))),\n",
    "     'Limitation' : pd.Series(lim, index=range(len(n_sources))),\n",
    "    'P/S (%)' : pd.Series(ratio, index=range(len(n_sources))),\n",
    "     'O2/CH4 - Experimental' : pd.Series(o2_ch4_yields_exp, index=range(len(n_sources))),\n",
    "     'YCH4 - Experimental' : pd.Series(ych4_yields_exp, index=range(len(n_sources))),\n",
    "    'O2/CH4 - Predicted' : pd.Series(ratios, index=range(len(n_sources))),\n",
    "    'YCH4 - Predicted' : pd.Series(yields, index=range(len(n_sources)))}\n",
    "df = pd.DataFrame(d)\n",
    "df"
   ]
  },
  {
   "cell_type": "code",
   "execution_count": 30,
   "metadata": {
    "collapsed": true
   },
   "outputs": [],
   "source": [
    "model.reactions.CYOR_q8_im.lower_bound = 0"
   ]
  },
  {
   "cell_type": "markdown",
   "metadata": {},
   "source": [
    "### Initial Calculation with unchanged proportions in electron transfer alt_2"
   ]
  },
  {
   "cell_type": "code",
   "execution_count": 31,
   "metadata": {
    "collapsed": false
   },
   "outputs": [
    {
     "name": "stdout",
     "output_type": "stream",
     "text": [
      "Solved\n",
      "Solved\n",
      "Solved\n",
      "Solved\n",
      "Solved\n",
      "Solved\n",
      "Solved\n",
      "Solved\n",
      "Solved\n",
      "[-15.621523941906439, -15.621523941907027, -15.638264920238093, -15.621523941907256, -13.08932888259566, -10.704819087906982, -10.704819087907044, -11.003162829047248, -11.003162829047824]\n",
      "[-10.370542883764053, -10.370542883764417, -10.378913372929846, -10.370542883764458, -8.284994545108406, -7.09273964776428, -7.09273964776432, -7.291635475191277, -7.291635475191507]\n",
      "[0.1, 0.1, 0.1, 0.1, 0.1, 0.1, 0.1, 0.1, 0.1]\n"
     ]
    }
   ],
   "source": [
    "o2_utr, ch4_utr, grwth_rate = efficiency_prediction_alt_2(n_sources,lim,ratio)\n",
    "ratios = [abs(float(o2_utr[i]/ch4_utr[i])) for i in range(len(o2_utr))]\n",
    "yields = [abs(grwth_rate[i]/((ch4_utr[i]/1000)*16.04)) for i in range(len(o2_utr))]"
   ]
  },
  {
   "cell_type": "code",
   "execution_count": 32,
   "metadata": {
    "collapsed": false
   },
   "outputs": [
    {
     "data": {
      "text/html": [
       "<div>\n",
       "<table border=\"1\" class=\"dataframe\">\n",
       "  <thead>\n",
       "    <tr style=\"text-align: right;\">\n",
       "      <th></th>\n",
       "      <th>CuSO4.5H20 (µM)</th>\n",
       "      <th>Limitation</th>\n",
       "      <th>Nitrogen Source</th>\n",
       "      <th>O2/CH4 - Experimental</th>\n",
       "      <th>O2/CH4 - Predicted</th>\n",
       "      <th>P/S (%)</th>\n",
       "      <th>YCH4 - Experimental</th>\n",
       "      <th>YCH4 - Predicted</th>\n",
       "    </tr>\n",
       "  </thead>\n",
       "  <tbody>\n",
       "    <tr>\n",
       "      <th>0</th>\n",
       "      <td>0.8</td>\n",
       "      <td>O2</td>\n",
       "      <td>no3</td>\n",
       "      <td>1.47</td>\n",
       "      <td>1.506336</td>\n",
       "      <td>0.02</td>\n",
       "      <td>0.5</td>\n",
       "      <td>0.601166</td>\n",
       "    </tr>\n",
       "    <tr>\n",
       "      <th>1</th>\n",
       "      <td>6.0</td>\n",
       "      <td>O2</td>\n",
       "      <td>no3</td>\n",
       "      <td>1.45</td>\n",
       "      <td>1.506336</td>\n",
       "      <td>100.00</td>\n",
       "      <td>0.69</td>\n",
       "      <td>0.601166</td>\n",
       "    </tr>\n",
       "    <tr>\n",
       "      <th>2</th>\n",
       "      <td>0.2</td>\n",
       "      <td>CH4</td>\n",
       "      <td>no3</td>\n",
       "      <td>1.50</td>\n",
       "      <td>1.506734</td>\n",
       "      <td>0.01</td>\n",
       "      <td>0.5</td>\n",
       "      <td>0.600681</td>\n",
       "    </tr>\n",
       "    <tr>\n",
       "      <th>3</th>\n",
       "      <td>6.0</td>\n",
       "      <td>CH4</td>\n",
       "      <td>no3</td>\n",
       "      <td>1.41</td>\n",
       "      <td>1.506336</td>\n",
       "      <td>99.00</td>\n",
       "      <td>0.67</td>\n",
       "      <td>0.601166</td>\n",
       "    </tr>\n",
       "    <tr>\n",
       "      <th>4</th>\n",
       "      <td>0.4</td>\n",
       "      <td>O2</td>\n",
       "      <td>nh4</td>\n",
       "      <td>1.56</td>\n",
       "      <td>1.579884</td>\n",
       "      <td>0.02</td>\n",
       "      <td>0.71</td>\n",
       "      <td>0.752495</td>\n",
       "    </tr>\n",
       "    <tr>\n",
       "      <th>5</th>\n",
       "      <td>6.0</td>\n",
       "      <td>O2</td>\n",
       "      <td>nh4</td>\n",
       "      <td>1.60</td>\n",
       "      <td>1.509264</td>\n",
       "      <td>99.00</td>\n",
       "      <td>0.69-0.75</td>\n",
       "      <td>0.878985</td>\n",
       "    </tr>\n",
       "    <tr>\n",
       "      <th>6</th>\n",
       "      <td>6.0</td>\n",
       "      <td>CH4</td>\n",
       "      <td>nh4</td>\n",
       "      <td>1.60</td>\n",
       "      <td>1.509264</td>\n",
       "      <td>24.00</td>\n",
       "      <td>0.67</td>\n",
       "      <td>0.878985</td>\n",
       "    </tr>\n",
       "    <tr>\n",
       "      <th>7</th>\n",
       "      <td>6.4</td>\n",
       "      <td>CH4</td>\n",
       "      <td>both</td>\n",
       "      <td>1.48</td>\n",
       "      <td>1.509012</td>\n",
       "      <td>100.00</td>\n",
       "      <td>0.79</td>\n",
       "      <td>0.855009</td>\n",
       "    </tr>\n",
       "    <tr>\n",
       "      <th>8</th>\n",
       "      <td>0.2</td>\n",
       "      <td>CH4</td>\n",
       "      <td>both</td>\n",
       "      <td>1.52</td>\n",
       "      <td>1.509012</td>\n",
       "      <td>49.00</td>\n",
       "      <td>0.6</td>\n",
       "      <td>0.855009</td>\n",
       "    </tr>\n",
       "  </tbody>\n",
       "</table>\n",
       "</div>"
      ],
      "text/plain": [
       "   CuSO4.5H20 (µM) Limitation Nitrogen Source  O2/CH4 - Experimental  \\\n",
       "0              0.8         O2             no3                   1.47   \n",
       "1              6.0         O2             no3                   1.45   \n",
       "2              0.2        CH4             no3                   1.50   \n",
       "3              6.0        CH4             no3                   1.41   \n",
       "4              0.4         O2             nh4                   1.56   \n",
       "5              6.0         O2             nh4                   1.60   \n",
       "6              6.0        CH4             nh4                   1.60   \n",
       "7              6.4        CH4            both                   1.48   \n",
       "8              0.2        CH4            both                   1.52   \n",
       "\n",
       "   O2/CH4 - Predicted  P/S (%) YCH4 - Experimental  YCH4 - Predicted  \n",
       "0            1.506336     0.02                 0.5          0.601166  \n",
       "1            1.506336   100.00                0.69          0.601166  \n",
       "2            1.506734     0.01                 0.5          0.600681  \n",
       "3            1.506336    99.00                0.67          0.601166  \n",
       "4            1.579884     0.02                0.71          0.752495  \n",
       "5            1.509264    99.00           0.69-0.75          0.878985  \n",
       "6            1.509264    24.00                0.67          0.878985  \n",
       "7            1.509012   100.00                0.79          0.855009  \n",
       "8            1.509012    49.00                 0.6          0.855009  "
      ]
     },
     "execution_count": 32,
     "metadata": {},
     "output_type": "execute_result"
    }
   ],
   "source": [
    "d = {'Nitrogen Source' : pd.Series(n_sources, index=range(len(n_sources))),\n",
    "    'CuSO4.5H20 (µM)':pd.Series(cu_values,index=range(len(n_sources))),\n",
    "     'Limitation' : pd.Series(lim, index=range(len(n_sources))),\n",
    "    'P/S (%)' : pd.Series(ratio, index=range(len(n_sources))),\n",
    "     'O2/CH4 - Experimental' : pd.Series(o2_ch4_yields_exp, index=range(len(n_sources))),\n",
    "     'YCH4 - Experimental' : pd.Series(ych4_yields_exp, index=range(len(n_sources))),\n",
    "    'O2/CH4 - Predicted' : pd.Series(ratios, index=range(len(n_sources))),\n",
    "    'YCH4 - Predicted' : pd.Series(yields, index=range(len(n_sources)))}\n",
    "df = pd.DataFrame(d)\n",
    "df"
   ]
  },
  {
   "cell_type": "markdown",
   "metadata": {},
   "source": [
    "### Calculation with CYOR_reverse allowed in electron transfer alt_2"
   ]
  },
  {
   "cell_type": "code",
   "execution_count": 33,
   "metadata": {
    "collapsed": true
   },
   "outputs": [],
   "source": [
    "model.reactions.CYOR_q8_im.lower_bound = -1.74"
   ]
  },
  {
   "cell_type": "code",
   "execution_count": 34,
   "metadata": {
    "collapsed": false
   },
   "outputs": [
    {
     "name": "stdout",
     "output_type": "stream",
     "text": [
      "Solved\n",
      "Solved\n",
      "Solved\n",
      "Solved\n",
      "Solved\n",
      "Solved\n",
      "Solved\n",
      "Solved\n",
      "Solved\n",
      "[-15.591975947921235, -12.141523941907067, -15.63826492023871, -12.14152394190965, -13.089328882601649, -10.068780206494733, -11.346402518039035, -10.09309896257514, -10.144566492376565]\n",
      "[-10.355768886771466, -8.630542883764374, -10.378913372930306, -8.630542883764136, -8.28499454511162, -6.7747202070581345, -6.726600791142552, -6.836603541955171, -6.862337306855886]\n",
      "[0.1, 0.1, 0.1, 0.1, 0.1, 0.1, 0.1, 0.1, 0.1]\n"
     ]
    }
   ],
   "source": [
    "o2_utr, ch4_utr, grwth_rate = efficiency_prediction_alt_2(n_sources,lim,ratio)\n",
    "ratios = [abs(float(o2_utr[i]/ch4_utr[i])) for i in range(len(o2_utr))]\n",
    "yields = [abs(grwth_rate[i]/((ch4_utr[i]/1000)*16.04)) for i in range(len(o2_utr))]"
   ]
  },
  {
   "cell_type": "code",
   "execution_count": 35,
   "metadata": {
    "collapsed": false
   },
   "outputs": [
    {
     "data": {
      "text/html": [
       "<div>\n",
       "<table border=\"1\" class=\"dataframe\">\n",
       "  <thead>\n",
       "    <tr style=\"text-align: right;\">\n",
       "      <th></th>\n",
       "      <th>CuSO4.5H20 (µM)</th>\n",
       "      <th>Limitation</th>\n",
       "      <th>Nitrogen Source</th>\n",
       "      <th>O2/CH4 - Experimental</th>\n",
       "      <th>O2/CH4 - Predicted</th>\n",
       "      <th>P/S (%)</th>\n",
       "      <th>YCH4 - Experimental</th>\n",
       "      <th>YCH4 - Predicted</th>\n",
       "    </tr>\n",
       "  </thead>\n",
       "  <tbody>\n",
       "    <tr>\n",
       "      <th>0</th>\n",
       "      <td>0.8</td>\n",
       "      <td>O2</td>\n",
       "      <td>no3</td>\n",
       "      <td>1.47</td>\n",
       "      <td>1.505632</td>\n",
       "      <td>0.02</td>\n",
       "      <td>0.5</td>\n",
       "      <td>0.602023</td>\n",
       "    </tr>\n",
       "    <tr>\n",
       "      <th>1</th>\n",
       "      <td>6.0</td>\n",
       "      <td>O2</td>\n",
       "      <td>no3</td>\n",
       "      <td>1.45</td>\n",
       "      <td>1.406809</td>\n",
       "      <td>100.00</td>\n",
       "      <td>0.69</td>\n",
       "      <td>0.722366</td>\n",
       "    </tr>\n",
       "    <tr>\n",
       "      <th>2</th>\n",
       "      <td>0.2</td>\n",
       "      <td>CH4</td>\n",
       "      <td>no3</td>\n",
       "      <td>1.50</td>\n",
       "      <td>1.506734</td>\n",
       "      <td>0.01</td>\n",
       "      <td>0.5</td>\n",
       "      <td>0.600681</td>\n",
       "    </tr>\n",
       "    <tr>\n",
       "      <th>3</th>\n",
       "      <td>6.0</td>\n",
       "      <td>CH4</td>\n",
       "      <td>no3</td>\n",
       "      <td>1.41</td>\n",
       "      <td>1.406809</td>\n",
       "      <td>99.00</td>\n",
       "      <td>0.67</td>\n",
       "      <td>0.722366</td>\n",
       "    </tr>\n",
       "    <tr>\n",
       "      <th>4</th>\n",
       "      <td>0.4</td>\n",
       "      <td>O2</td>\n",
       "      <td>nh4</td>\n",
       "      <td>1.56</td>\n",
       "      <td>1.579884</td>\n",
       "      <td>0.02</td>\n",
       "      <td>0.71</td>\n",
       "      <td>0.752495</td>\n",
       "    </tr>\n",
       "    <tr>\n",
       "      <th>5</th>\n",
       "      <td>6.0</td>\n",
       "      <td>O2</td>\n",
       "      <td>nh4</td>\n",
       "      <td>1.60</td>\n",
       "      <td>1.486228</td>\n",
       "      <td>99.00</td>\n",
       "      <td>0.69-0.75</td>\n",
       "      <td>0.920247</td>\n",
       "    </tr>\n",
       "    <tr>\n",
       "      <th>6</th>\n",
       "      <td>6.0</td>\n",
       "      <td>CH4</td>\n",
       "      <td>nh4</td>\n",
       "      <td>1.60</td>\n",
       "      <td>1.686796</td>\n",
       "      <td>24.00</td>\n",
       "      <td>0.67</td>\n",
       "      <td>0.926830</td>\n",
       "    </tr>\n",
       "    <tr>\n",
       "      <th>7</th>\n",
       "      <td>6.4</td>\n",
       "      <td>CH4</td>\n",
       "      <td>both</td>\n",
       "      <td>1.48</td>\n",
       "      <td>1.476332</td>\n",
       "      <td>100.00</td>\n",
       "      <td>0.79</td>\n",
       "      <td>0.911917</td>\n",
       "    </tr>\n",
       "    <tr>\n",
       "      <th>8</th>\n",
       "      <td>0.2</td>\n",
       "      <td>CH4</td>\n",
       "      <td>both</td>\n",
       "      <td>1.52</td>\n",
       "      <td>1.478296</td>\n",
       "      <td>49.00</td>\n",
       "      <td>0.6</td>\n",
       "      <td>0.908497</td>\n",
       "    </tr>\n",
       "  </tbody>\n",
       "</table>\n",
       "</div>"
      ],
      "text/plain": [
       "   CuSO4.5H20 (µM) Limitation Nitrogen Source  O2/CH4 - Experimental  \\\n",
       "0              0.8         O2             no3                   1.47   \n",
       "1              6.0         O2             no3                   1.45   \n",
       "2              0.2        CH4             no3                   1.50   \n",
       "3              6.0        CH4             no3                   1.41   \n",
       "4              0.4         O2             nh4                   1.56   \n",
       "5              6.0         O2             nh4                   1.60   \n",
       "6              6.0        CH4             nh4                   1.60   \n",
       "7              6.4        CH4            both                   1.48   \n",
       "8              0.2        CH4            both                   1.52   \n",
       "\n",
       "   O2/CH4 - Predicted  P/S (%) YCH4 - Experimental  YCH4 - Predicted  \n",
       "0            1.505632     0.02                 0.5          0.602023  \n",
       "1            1.406809   100.00                0.69          0.722366  \n",
       "2            1.506734     0.01                 0.5          0.600681  \n",
       "3            1.406809    99.00                0.67          0.722366  \n",
       "4            1.579884     0.02                0.71          0.752495  \n",
       "5            1.486228    99.00           0.69-0.75          0.920247  \n",
       "6            1.686796    24.00                0.67          0.926830  \n",
       "7            1.476332   100.00                0.79          0.911917  \n",
       "8            1.478296    49.00                 0.6          0.908497  "
      ]
     },
     "execution_count": 35,
     "metadata": {},
     "output_type": "execute_result"
    }
   ],
   "source": [
    "d = {'Nitrogen Source' : pd.Series(n_sources, index=range(len(n_sources))),\n",
    "    'CuSO4.5H20 (µM)':pd.Series(cu_values,index=range(len(n_sources))),\n",
    "     'Limitation' : pd.Series(lim, index=range(len(n_sources))),\n",
    "    'P/S (%)' : pd.Series(ratio, index=range(len(n_sources))),\n",
    "     'O2/CH4 - Experimental' : pd.Series(o2_ch4_yields_exp, index=range(len(n_sources))),\n",
    "     'YCH4 - Experimental' : pd.Series(ych4_yields_exp, index=range(len(n_sources))),\n",
    "    'O2/CH4 - Predicted' : pd.Series(ratios, index=range(len(n_sources))),\n",
    "    'YCH4 - Predicted' : pd.Series(yields, index=range(len(n_sources)))}\n",
    "df = pd.DataFrame(d)\n",
    "df"
   ]
  },
  {
   "cell_type": "code",
   "execution_count": 36,
   "metadata": {
    "collapsed": true
   },
   "outputs": [],
   "source": [
    "model.reactions.CYOR_q8_im.lower_bound = 0"
   ]
  },
  {
   "cell_type": "markdown",
   "metadata": {},
   "source": [
    "### Test box for fitting"
   ]
  },
  {
   "cell_type": "code",
   "execution_count": 37,
   "metadata": {
    "collapsed": true
   },
   "outputs": [],
   "source": [
    "def mean_absolute_error(o2_utr,ch4_utr,grwth_rate,o2_ch4_yields_exp):\n",
    "    sum_of_errors = 0\n",
    "    fitness = 99\n",
    "    try:\n",
    "        ratios = [abs(float(o2_utr[i]/ch4_utr[i])) for i in range(len(o2_utr))]\n",
    "        yields = [grwth_rate[i]/((ch4_utr[i]/1000)*16.04) for i in range(len(o2_utr))]\n",
    "    \n",
    "        for x in range(len(ratios)):\n",
    "            sum_of_errors = sum_of_errors + abs((ratios[x] - o2_ch4_yields_exp[x]))    \n",
    "    \n",
    "        fitness = sum_of_errors/len(ratios)\n",
    "        print fitness\n",
    "        return fitness\n",
    "    \n",
    "    except ZeroDivisionError:\n",
    "        print fitness\n",
    "        return fitness"
   ]
  },
  {
   "cell_type": "code",
   "execution_count": 38,
   "metadata": {
    "collapsed": true
   },
   "outputs": [],
   "source": [
    "def prcnt(number,percent):\n",
    "    return number+(number*(float(percent)/100))"
   ]
  },
  {
   "cell_type": "code",
   "execution_count": 39,
   "metadata": {
    "collapsed": true
   },
   "outputs": [],
   "source": [
    "def hard_evaluation_methylococcus_model(tup):\n",
    "    #print tup\n",
    "#     model.reactions.pMMO_im.change_bounds(lb=prcnt(tup[0],-5), ub=prcnt(tup[0],5))\n",
    "#     model.reactions.pMMO_dir_coupl_im.change_bounds(lb=prcnt(tup[1],-5), ub=prcnt(tup[1],5))\n",
    "#     model.reactions.CYOR_q8_im.change_bounds(lb=prcnt(tup[2],-5), ub=prcnt(tup[2],5))\n",
    "    model.reactions.pMMO_im.upper_bound = tup[0]\n",
    "    model.reactions.pMMO_dir_coupl_im.upper_bound = tup[1]\n",
    "    model.reactions.CYOR_q8_im.lower_bound = tup[2]\n",
    "    \n",
    "    o2_utr, ch4_utr, grwth_rate = efficiency_prediction_alt_2(n_sources,lim,ratio)\n",
    "    fitness = mean_absolute_error(o2_utr,ch4_utr,grwth_rate,o2_ch4_yields_exp)\n",
    "    \n",
    "    return fitness, o2_utr, ch4_utr, grwth_rate"
   ]
  },
  {
   "cell_type": "code",
   "execution_count": 40,
   "metadata": {
    "collapsed": true
   },
   "outputs": [],
   "source": [
    "def hard_evaluation_methylococcus_model_2(tup):\n",
    "    model.reactions.pMMO_im.upper_bound = tup[0]\n",
    "    model.reactions.pMMO_dir_coupl_im.upper_bound = tup[1]\n",
    "    model.reactions.CYOR_q8_im.lower_bound = tup[2]\n",
    "    \n",
    "    o2_utr, ch4_utr, grwth_rate, sol_array = efficiency_prediction_alt_3(n_sources,lim,ratio)\n",
    "    fitness = mean_absolute_error(o2_utr,ch4_utr,grwth_rate,o2_ch4_yields_exp)\n",
    "    \n",
    "    return fitness, o2_utr, ch4_utr, grwth_rate, sol_array"
   ]
  },
  {
   "cell_type": "code",
   "execution_count": 41,
   "metadata": {
    "collapsed": false
   },
   "outputs": [],
   "source": [
    "# # Subselection of those where pMMO is (most) active. This is going to be the training set.\n",
    "# # I will also focus on fitting the values to NO3 and Both Nitrogen sources, not to pure\n",
    "# # NH4, to avoid fitting to the 'toxic' effects of NO2.\n",
    "# n_sources = [n_sources[1],n_sources[3],n_sources[7],n_sources[8]]\n",
    "# lim = [lim[1],lim[3],lim[7],lim[8]]\n",
    "# ratio = [ratio[1],ratio[3],ratio[7],ratio[8]]\n",
    "# cu_values = [cu_values[1],cu_values[3],cu_values[7],cu_values[8]]\n",
    "# o2_ch4_yields_exp = [o2_ch4_yields_exp[1],o2_ch4_yields_exp[3],o2_ch4_yields_exp[7],o2_ch4_yields_exp[8]]\n",
    "# ych4_yields_exp = [ych4_yields_exp[1],ych4_yields_exp[3],ych4_yields_exp[7],ych4_yields_exp[8]]"
   ]
  },
  {
   "cell_type": "code",
   "execution_count": 42,
   "metadata": {
    "collapsed": false,
    "scrolled": true
   },
   "outputs": [
    {
     "name": "stdout",
     "output_type": "stream",
     "text": [
      "Solved\n",
      "Solved\n",
      "Solved\n",
      "Solved\n",
      "Solved\n",
      "Solved\n",
      "Solved\n",
      "Solved\n",
      "Solved\n",
      "[-15.591975947921194, -12.421523941907111, -15.638264920238402, -12.421523941907928, -13.089328882596533, -10.068780206494733, -11.231284034629574, -10.09309896257514, -10.144566492376565]\n",
      "[-10.355768886771408, -8.770542883764367, -10.378913372930075, -8.770542883764804, -8.284994545109024, -6.7747202070581345, -6.734894630004948, -6.836603541955171, -6.862337306855886]\n",
      "[0.1, 0.1, 0.1, 0.1, 0.1, 0.1, 0.1, 0.1, 0.1]\n",
      "0.0365576873616\n",
      "[1.5056318964242803, 1.416277658809613, 1.5067343139239977, 1.4162776588096357, 1.5798838262752637, 1.4862281981777985, 1.6676257984189609, 1.4763323484586117, 1.4782961021518917]\n",
      "[0.6020232812506277, 0.7108355831231552, 0.6006807977940799, 0.7108355831231198, 0.7524946372798417, 0.9202467075455099, 0.9256884194315453, 0.9119168497672353, 0.9084971615806074]\n"
     ]
    }
   ],
   "source": [
    "fitness, o2_utr, ch4_utr, grwth_rate = hard_evaluation_methylococcus_model([10.4, 0.0, -1.6])\n",
    "ratios = [abs(float(o2_utr[i]/ch4_utr[i])) for i in range(len(o2_utr))]\n",
    "print ratios\n",
    "yields = [abs(grwth_rate[i]/((ch4_utr[i]/1000)*16.04)) for i in range(len(o2_utr))]\n",
    "print yields"
   ]
  },
  {
   "cell_type": "code",
   "execution_count": 43,
   "metadata": {
    "collapsed": false
   },
   "outputs": [],
   "source": [
    "import cplex"
   ]
  },
  {
   "cell_type": "code",
   "execution_count": 44,
   "metadata": {
    "collapsed": false
   },
   "outputs": [
    {
     "name": "stdout",
     "output_type": "stream",
     "text": [
      "0.0365576873616\n"
     ]
    }
   ],
   "source": [
    "print fitness"
   ]
  },
  {
   "cell_type": "code",
   "execution_count": 45,
   "metadata": {
    "collapsed": true
   },
   "outputs": [],
   "source": [
    "ratios = [0]*len(o2_utr)\n",
    "yields = [0]*len(o2_utr)"
   ]
  },
  {
   "cell_type": "code",
   "execution_count": 46,
   "metadata": {
    "collapsed": false
   },
   "outputs": [],
   "source": [
    "for i in range(len(o2_utr)):\n",
    "    try:\n",
    "        ratios[i] = abs(float(o2_utr[i]/ch4_utr[i]))\n",
    "    \n",
    "    except ZeroDivisionError:\n",
    "        ratios[i] = 0\n",
    "        \n",
    "    try:\n",
    "        yields[i] = grwth_rate[i]/((ch4_utr[i]/1000)*16.04)\n",
    "        \n",
    "    except ZeroDivisionError:\n",
    "        yields[i] = 0"
   ]
  },
  {
   "cell_type": "code",
   "execution_count": 47,
   "metadata": {
    "collapsed": false
   },
   "outputs": [
    {
     "data": {
      "text/html": [
       "<div>\n",
       "<table border=\"1\" class=\"dataframe\">\n",
       "  <thead>\n",
       "    <tr style=\"text-align: right;\">\n",
       "      <th></th>\n",
       "      <th>CuSO4.5H20 (µM)</th>\n",
       "      <th>Limitation</th>\n",
       "      <th>Nitrogen Source</th>\n",
       "      <th>O2/CH4 - Experimental</th>\n",
       "      <th>O2/CH4 - Predicted</th>\n",
       "      <th>P/S (%)</th>\n",
       "      <th>YCH4 - Experimental</th>\n",
       "      <th>YCH4 - Predicted</th>\n",
       "    </tr>\n",
       "  </thead>\n",
       "  <tbody>\n",
       "    <tr>\n",
       "      <th>0</th>\n",
       "      <td>0.8</td>\n",
       "      <td>O2</td>\n",
       "      <td>no3</td>\n",
       "      <td>1.47</td>\n",
       "      <td>1.505632</td>\n",
       "      <td>0.02</td>\n",
       "      <td>0.5</td>\n",
       "      <td>-0.602023</td>\n",
       "    </tr>\n",
       "    <tr>\n",
       "      <th>1</th>\n",
       "      <td>6.0</td>\n",
       "      <td>O2</td>\n",
       "      <td>no3</td>\n",
       "      <td>1.45</td>\n",
       "      <td>1.416278</td>\n",
       "      <td>100.00</td>\n",
       "      <td>0.69</td>\n",
       "      <td>-0.710836</td>\n",
       "    </tr>\n",
       "    <tr>\n",
       "      <th>2</th>\n",
       "      <td>0.2</td>\n",
       "      <td>CH4</td>\n",
       "      <td>no3</td>\n",
       "      <td>1.50</td>\n",
       "      <td>1.506734</td>\n",
       "      <td>0.01</td>\n",
       "      <td>0.5</td>\n",
       "      <td>-0.600681</td>\n",
       "    </tr>\n",
       "    <tr>\n",
       "      <th>3</th>\n",
       "      <td>6.0</td>\n",
       "      <td>CH4</td>\n",
       "      <td>no3</td>\n",
       "      <td>1.41</td>\n",
       "      <td>1.416278</td>\n",
       "      <td>99.00</td>\n",
       "      <td>0.67</td>\n",
       "      <td>-0.710836</td>\n",
       "    </tr>\n",
       "    <tr>\n",
       "      <th>4</th>\n",
       "      <td>0.4</td>\n",
       "      <td>O2</td>\n",
       "      <td>nh4</td>\n",
       "      <td>1.56</td>\n",
       "      <td>1.579884</td>\n",
       "      <td>0.02</td>\n",
       "      <td>0.71</td>\n",
       "      <td>-0.752495</td>\n",
       "    </tr>\n",
       "    <tr>\n",
       "      <th>5</th>\n",
       "      <td>6.0</td>\n",
       "      <td>O2</td>\n",
       "      <td>nh4</td>\n",
       "      <td>1.60</td>\n",
       "      <td>1.486228</td>\n",
       "      <td>99.00</td>\n",
       "      <td>0.69-0.75</td>\n",
       "      <td>-0.920247</td>\n",
       "    </tr>\n",
       "    <tr>\n",
       "      <th>6</th>\n",
       "      <td>6.0</td>\n",
       "      <td>CH4</td>\n",
       "      <td>nh4</td>\n",
       "      <td>1.60</td>\n",
       "      <td>1.667626</td>\n",
       "      <td>24.00</td>\n",
       "      <td>0.67</td>\n",
       "      <td>-0.925688</td>\n",
       "    </tr>\n",
       "    <tr>\n",
       "      <th>7</th>\n",
       "      <td>6.4</td>\n",
       "      <td>CH4</td>\n",
       "      <td>both</td>\n",
       "      <td>1.48</td>\n",
       "      <td>1.476332</td>\n",
       "      <td>100.00</td>\n",
       "      <td>0.79</td>\n",
       "      <td>-0.911917</td>\n",
       "    </tr>\n",
       "    <tr>\n",
       "      <th>8</th>\n",
       "      <td>0.2</td>\n",
       "      <td>CH4</td>\n",
       "      <td>both</td>\n",
       "      <td>1.52</td>\n",
       "      <td>1.478296</td>\n",
       "      <td>49.00</td>\n",
       "      <td>0.6</td>\n",
       "      <td>-0.908497</td>\n",
       "    </tr>\n",
       "  </tbody>\n",
       "</table>\n",
       "</div>"
      ],
      "text/plain": [
       "   CuSO4.5H20 (µM) Limitation Nitrogen Source  O2/CH4 - Experimental  \\\n",
       "0              0.8         O2             no3                   1.47   \n",
       "1              6.0         O2             no3                   1.45   \n",
       "2              0.2        CH4             no3                   1.50   \n",
       "3              6.0        CH4             no3                   1.41   \n",
       "4              0.4         O2             nh4                   1.56   \n",
       "5              6.0         O2             nh4                   1.60   \n",
       "6              6.0        CH4             nh4                   1.60   \n",
       "7              6.4        CH4            both                   1.48   \n",
       "8              0.2        CH4            both                   1.52   \n",
       "\n",
       "   O2/CH4 - Predicted  P/S (%) YCH4 - Experimental  YCH4 - Predicted  \n",
       "0            1.505632     0.02                 0.5         -0.602023  \n",
       "1            1.416278   100.00                0.69         -0.710836  \n",
       "2            1.506734     0.01                 0.5         -0.600681  \n",
       "3            1.416278    99.00                0.67         -0.710836  \n",
       "4            1.579884     0.02                0.71         -0.752495  \n",
       "5            1.486228    99.00           0.69-0.75         -0.920247  \n",
       "6            1.667626    24.00                0.67         -0.925688  \n",
       "7            1.476332   100.00                0.79         -0.911917  \n",
       "8            1.478296    49.00                 0.6         -0.908497  "
      ]
     },
     "execution_count": 47,
     "metadata": {},
     "output_type": "execute_result"
    }
   ],
   "source": [
    "d = {'Nitrogen Source' : pd.Series(n_sources, index=range(len(n_sources))),\n",
    "    'CuSO4.5H20 (µM)':pd.Series(cu_values,index=range(len(n_sources))),\n",
    "     'Limitation' : pd.Series(lim, index=range(len(n_sources))),\n",
    "    'P/S (%)' : pd.Series(ratio, index=range(len(n_sources))),\n",
    "     'O2/CH4 - Experimental' : pd.Series(o2_ch4_yields_exp, index=range(len(n_sources))),\n",
    "     'YCH4 - Experimental' : pd.Series(ych4_yields_exp, index=range(len(n_sources))),\n",
    "    'O2/CH4 - Predicted' : pd.Series(ratios, index=range(len(n_sources))),\n",
    "    'YCH4 - Predicted' : pd.Series(yields, index=range(len(n_sources)))}\n",
    "df = pd.DataFrame(d)\n",
    "df"
   ]
  },
  {
   "cell_type": "markdown",
   "metadata": {},
   "source": [
    "## ALT 3 No pFBA but instead dual minimzation of just the input flux!"
   ]
  },
  {
   "cell_type": "code",
   "execution_count": 346,
   "metadata": {
    "collapsed": false
   },
   "outputs": [],
   "source": [
    "model.reactions.NADH16_im.change_bounds(0,1000)"
   ]
  },
  {
   "cell_type": "code",
   "execution_count": 347,
   "metadata": {
    "collapsed": false
   },
   "outputs": [
    {
     "name": "stdout",
     "output_type": "stream",
     "text": [
      "Solved\n",
      "Solved\n",
      "Solved\n",
      "Solved\n",
      "0.0210574736782\n",
      "[1.4187621832318174, 1.4187621832318174, 1.476904248108611, 1.4788658571786566]\n",
      "[0.7095754785698787, 0.709575478569878, 0.9135582619081445, 0.9101324184283501]\n"
     ]
    }
   ],
   "source": [
    "fitness, o2_utr, ch4_utr, grwth_rate, sol_array = hard_evaluation_methylococcus_model_2([10.4, 0.0, -1.56])\n",
    "ratios = [abs(float(o2_utr[i]/ch4_utr[i])) for i in range(len(o2_utr))]\n",
    "print ratios\n",
    "yields = [abs(grwth_rate[i]/((ch4_utr[i]/1000)*16.04)) for i in range(len(o2_utr))]\n",
    "print yields"
   ]
  },
  {
   "cell_type": "code",
   "execution_count": 348,
   "metadata": {
    "collapsed": true
   },
   "outputs": [],
   "source": [
    "ratios = [0]*len(o2_utr)\n",
    "yields = [0]*len(o2_utr)"
   ]
  },
  {
   "cell_type": "code",
   "execution_count": 349,
   "metadata": {
    "collapsed": true
   },
   "outputs": [],
   "source": [
    "for i in range(len(o2_utr)):\n",
    "    try:\n",
    "        ratios[i] = abs(float(o2_utr[i]/ch4_utr[i]))\n",
    "    \n",
    "    except ZeroDivisionError:\n",
    "        ratios[i] = 0\n",
    "        \n",
    "    try:\n",
    "        yields[i] = abs(grwth_rate[i]/((ch4_utr[i]/1000)*16.04))\n",
    "        \n",
    "    except ZeroDivisionError:\n",
    "        yields[i] = 0"
   ]
  },
  {
   "cell_type": "code",
   "execution_count": 350,
   "metadata": {
    "collapsed": false
   },
   "outputs": [
    {
     "data": {
      "text/html": [
       "<div>\n",
       "<table border=\"1\" class=\"dataframe\">\n",
       "  <thead>\n",
       "    <tr style=\"text-align: right;\">\n",
       "      <th></th>\n",
       "      <th>CuSO4.5H20 (µM)</th>\n",
       "      <th>Limitation</th>\n",
       "      <th>Nitrogen Source</th>\n",
       "      <th>O2/CH4 - Experimental</th>\n",
       "      <th>O2/CH4 - Predicted</th>\n",
       "      <th>P/S (%)</th>\n",
       "      <th>YCH4 - Experimental</th>\n",
       "      <th>YCH4 - Predicted</th>\n",
       "    </tr>\n",
       "  </thead>\n",
       "  <tbody>\n",
       "    <tr>\n",
       "      <th>0</th>\n",
       "      <td>6.0</td>\n",
       "      <td>O2</td>\n",
       "      <td>no3</td>\n",
       "      <td>1.45</td>\n",
       "      <td>1.418762</td>\n",
       "      <td>100</td>\n",
       "      <td>0.69</td>\n",
       "      <td>0.709575</td>\n",
       "    </tr>\n",
       "    <tr>\n",
       "      <th>1</th>\n",
       "      <td>6.0</td>\n",
       "      <td>CH4</td>\n",
       "      <td>no3</td>\n",
       "      <td>1.41</td>\n",
       "      <td>1.418762</td>\n",
       "      <td>99</td>\n",
       "      <td>0.67</td>\n",
       "      <td>0.709575</td>\n",
       "    </tr>\n",
       "    <tr>\n",
       "      <th>2</th>\n",
       "      <td>6.4</td>\n",
       "      <td>CH4</td>\n",
       "      <td>both</td>\n",
       "      <td>1.48</td>\n",
       "      <td>1.476904</td>\n",
       "      <td>100</td>\n",
       "      <td>0.79</td>\n",
       "      <td>0.913558</td>\n",
       "    </tr>\n",
       "    <tr>\n",
       "      <th>3</th>\n",
       "      <td>0.2</td>\n",
       "      <td>CH4</td>\n",
       "      <td>both</td>\n",
       "      <td>1.52</td>\n",
       "      <td>1.478866</td>\n",
       "      <td>49</td>\n",
       "      <td>0.60</td>\n",
       "      <td>0.910132</td>\n",
       "    </tr>\n",
       "  </tbody>\n",
       "</table>\n",
       "</div>"
      ],
      "text/plain": [
       "   CuSO4.5H20 (µM) Limitation Nitrogen Source  O2/CH4 - Experimental  \\\n",
       "0              6.0         O2             no3                   1.45   \n",
       "1              6.0        CH4             no3                   1.41   \n",
       "2              6.4        CH4            both                   1.48   \n",
       "3              0.2        CH4            both                   1.52   \n",
       "\n",
       "   O2/CH4 - Predicted  P/S (%)  YCH4 - Experimental  YCH4 - Predicted  \n",
       "0            1.418762      100                 0.69          0.709575  \n",
       "1            1.418762       99                 0.67          0.709575  \n",
       "2            1.476904      100                 0.79          0.913558  \n",
       "3            1.478866       49                 0.60          0.910132  "
      ]
     },
     "execution_count": 350,
     "metadata": {},
     "output_type": "execute_result"
    }
   ],
   "source": [
    "d = {'Nitrogen Source' : pd.Series(n_sources, index=range(len(n_sources))),\n",
    "    'CuSO4.5H20 (µM)':pd.Series(cu_values,index=range(len(n_sources))),\n",
    "     'Limitation' : pd.Series(lim, index=range(len(n_sources))),\n",
    "    'P/S (%)' : pd.Series(ratio, index=range(len(n_sources))),\n",
    "     'O2/CH4 - Experimental' : pd.Series(o2_ch4_yields_exp, index=range(len(n_sources))),\n",
    "     'YCH4 - Experimental' : pd.Series(ych4_yields_exp, index=range(len(n_sources))),\n",
    "    'O2/CH4 - Predicted' : pd.Series(ratios, index=range(len(n_sources))),\n",
    "    'YCH4 - Predicted' : pd.Series(yields, index=range(len(n_sources)))}\n",
    "df = pd.DataFrame(d)\n",
    "df"
   ]
  },
  {
   "cell_type": "code",
   "execution_count": 351,
   "metadata": {
    "collapsed": false
   },
   "outputs": [],
   "source": [
    "def calc_percent_distribution(nrofsamples):\n",
    "    for i in range(nrofsamples):\n",
    "        rev_elec = sol_array[i]['CYOR_q8_im']\n",
    "        redox_arm = sol_array[i]['CYTAA3_im']\n",
    "        total = abs(rev_elec) + abs(redox_arm)\n",
    "        rev_elec_dist = (abs(rev_elec)/total) * 100\n",
    "        redox_arm_dist = (abs(redox_arm)/total) * 100\n",
    "\n",
    "        print('{0:.2f}% vs. {1:.2f}%'.format(redox_arm_dist,rev_elec_dist))"
   ]
  },
  {
   "cell_type": "code",
   "execution_count": 352,
   "metadata": {
    "collapsed": false
   },
   "outputs": [
    {
     "name": "stdout",
     "output_type": "stream",
     "text": [
      "69.84% vs. 30.16%\n",
      "69.84% vs. 30.16%\n",
      "87.69% vs. 12.31%\n",
      "88.39% vs. 11.61%\n"
     ]
    }
   ],
   "source": [
    "calc_percent_distribution(4)"
   ]
  },
  {
   "cell_type": "code",
   "execution_count": 353,
   "metadata": {
    "collapsed": false
   },
   "outputs": [
    {
     "data": {
      "text/plain": [
       "78.94"
      ]
     },
     "execution_count": 353,
     "metadata": {},
     "output_type": "execute_result"
    }
   ],
   "source": [
    "(69.84 + 69.84 + 87.69 + 88.39)/4"
   ]
  },
  {
   "cell_type": "code",
   "execution_count": 354,
   "metadata": {
    "collapsed": false
   },
   "outputs": [
    {
     "data": {
      "text/plain": [
       "21.06"
      ]
     },
     "execution_count": 354,
     "metadata": {},
     "output_type": "execute_result"
    }
   ],
   "source": [
    "(30.16 + 30.16 + 12.31 + 11.61)/4"
   ]
  }
 ],
 "metadata": {
  "kernelspec": {
   "display_name": "Python 2",
   "language": "python",
   "name": "python2"
  },
  "language_info": {
   "codemirror_mode": {
    "name": "ipython",
    "version": 2
   },
   "file_extension": ".py",
   "mimetype": "text/x-python",
   "name": "python",
   "nbconvert_exporter": "python",
   "pygments_lexer": "ipython2",
   "version": "2.7.9"
  }
 },
 "nbformat": 4,
 "nbformat_minor": 0
}
