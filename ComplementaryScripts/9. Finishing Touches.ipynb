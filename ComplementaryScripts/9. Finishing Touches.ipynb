{
 "cells": [
  {
   "cell_type": "code",
   "execution_count": 1,
   "metadata": {
    "collapsed": false
   },
   "outputs": [
    {
     "data": {
      "text/html": []
     },
     "metadata": {},
     "output_type": "display_data"
    },
    {
     "data": {
      "application/javascript": [
       "\n",
       "(function(global) {\n",
       "  function now() {\n",
       "    return new Date();\n",
       "  }\n",
       "\n",
       "  if (typeof (window._bokeh_onload_callbacks) === \"undefined\") {\n",
       "    window._bokeh_onload_callbacks = [];\n",
       "  }\n",
       "\n",
       "  function run_callbacks() {\n",
       "    window._bokeh_onload_callbacks.forEach(function(callback) { callback() });\n",
       "    delete window._bokeh_onload_callbacks\n",
       "    console.info(\"Bokeh: all callbacks have finished\");\n",
       "  }\n",
       "\n",
       "  function load_libs(js_urls, callback) {\n",
       "    window._bokeh_onload_callbacks.push(callback);\n",
       "    if (window._bokeh_is_loading > 0) {\n",
       "      console.log(\"Bokeh: BokehJS is being loaded, scheduling callback at\", now());\n",
       "      return null;\n",
       "    }\n",
       "    if (js_urls == null || js_urls.length === 0) {\n",
       "      run_callbacks();\n",
       "      return null;\n",
       "    }\n",
       "    console.log(\"Bokeh: BokehJS not loaded, scheduling load and callback at\", now());\n",
       "    window._bokeh_is_loading = js_urls.length;\n",
       "    for (var i = 0; i < js_urls.length; i++) {\n",
       "      var url = js_urls[i];\n",
       "      var s = document.createElement('script');\n",
       "      s.src = url;\n",
       "      s.async = false;\n",
       "      s.onreadystatechange = s.onload = function() {\n",
       "        window._bokeh_is_loading--;\n",
       "        if (window._bokeh_is_loading === 0) {\n",
       "          console.log(\"Bokeh: all BokehJS libraries loaded\");\n",
       "          run_callbacks()\n",
       "        }\n",
       "      };\n",
       "      s.onerror = function() {\n",
       "        console.warn(\"failed to load library \" + url);\n",
       "      };\n",
       "      console.log(\"Bokeh: injecting script tag for BokehJS library: \", url);\n",
       "      document.getElementsByTagName(\"head\")[0].appendChild(s);\n",
       "    }\n",
       "  };\n",
       "\n",
       "  var js_urls = ['https://cdn.pydata.org/bokeh/release/bokeh-0.11.1.min.js', 'https://cdn.pydata.org/bokeh/release/bokeh-widgets-0.11.1.min.js', 'https://cdn.pydata.org/bokeh/release/bokeh-compiler-0.11.1.min.js'];\n",
       "\n",
       "  var inline_js = [\n",
       "    function(Bokeh) {\n",
       "      Bokeh.set_log_level(\"info\");\n",
       "    },\n",
       "    \n",
       "    function(Bokeh) {\n",
       "      Bokeh.$(\"#8c5e553e-5542-419e-a7ce-1f79a0354cad\").text(\"BokehJS successfully loaded\");\n",
       "    },\n",
       "    function(Bokeh) {\n",
       "      console.log(\"Bokeh: injecting CSS: https://cdn.pydata.org/bokeh/release/bokeh-0.11.1.min.css\");\n",
       "      Bokeh.embed.inject_css(\"https://cdn.pydata.org/bokeh/release/bokeh-0.11.1.min.css\");\n",
       "      console.log(\"Bokeh: injecting CSS: https://cdn.pydata.org/bokeh/release/bokeh-widgets-0.11.1.min.css\");\n",
       "      Bokeh.embed.inject_css(\"https://cdn.pydata.org/bokeh/release/bokeh-widgets-0.11.1.min.css\");\n",
       "    }\n",
       "  ];\n",
       "\n",
       "  function run_inline_js() {\n",
       "    for (var i = 0; i < inline_js.length; i++) {\n",
       "      inline_js[i](window.Bokeh);\n",
       "    }\n",
       "  }\n",
       "\n",
       "  if (window._bokeh_is_loading === 0) {\n",
       "    console.log(\"Bokeh: BokehJS loaded, going straight to plotting\");\n",
       "    run_inline_js();\n",
       "  } else {\n",
       "    load_libs(js_urls, function() {\n",
       "      console.log(\"Bokeh: BokehJS plotting callback run at\", now());\n",
       "      run_inline_js();\n",
       "    });\n",
       "  }\n",
       "}(this));"
      ]
     },
     "metadata": {},
     "output_type": "display_data"
    },
    {
     "name": "stderr",
     "output_type": "stream",
     "text": [
      "/Users/clie/.virtualenvs/modeling/lib/python2.7/site-packages/cobra/io/sbml3.py:24: UserWarning: Install lxml for faster SBML I/O\n",
      "  warn(\"Install lxml for faster SBML I/O\")\n"
     ]
    },
    {
     "data": {
      "text/html": []
     },
     "metadata": {},
     "output_type": "display_data"
    },
    {
     "data": {
      "application/javascript": [
       "\n",
       "(function(global) {\n",
       "  function now() {\n",
       "    return new Date();\n",
       "  }\n",
       "\n",
       "  if (typeof (window._bokeh_onload_callbacks) === \"undefined\") {\n",
       "    window._bokeh_onload_callbacks = [];\n",
       "  }\n",
       "\n",
       "  function run_callbacks() {\n",
       "    window._bokeh_onload_callbacks.forEach(function(callback) { callback() });\n",
       "    delete window._bokeh_onload_callbacks\n",
       "    console.info(\"Bokeh: all callbacks have finished\");\n",
       "  }\n",
       "\n",
       "  function load_libs(js_urls, callback) {\n",
       "    window._bokeh_onload_callbacks.push(callback);\n",
       "    if (window._bokeh_is_loading > 0) {\n",
       "      console.log(\"Bokeh: BokehJS is being loaded, scheduling callback at\", now());\n",
       "      return null;\n",
       "    }\n",
       "    if (js_urls == null || js_urls.length === 0) {\n",
       "      run_callbacks();\n",
       "      return null;\n",
       "    }\n",
       "    console.log(\"Bokeh: BokehJS not loaded, scheduling load and callback at\", now());\n",
       "    window._bokeh_is_loading = js_urls.length;\n",
       "    for (var i = 0; i < js_urls.length; i++) {\n",
       "      var url = js_urls[i];\n",
       "      var s = document.createElement('script');\n",
       "      s.src = url;\n",
       "      s.async = false;\n",
       "      s.onreadystatechange = s.onload = function() {\n",
       "        window._bokeh_is_loading--;\n",
       "        if (window._bokeh_is_loading === 0) {\n",
       "          console.log(\"Bokeh: all BokehJS libraries loaded\");\n",
       "          run_callbacks()\n",
       "        }\n",
       "      };\n",
       "      s.onerror = function() {\n",
       "        console.warn(\"failed to load library \" + url);\n",
       "      };\n",
       "      console.log(\"Bokeh: injecting script tag for BokehJS library: \", url);\n",
       "      document.getElementsByTagName(\"head\")[0].appendChild(s);\n",
       "    }\n",
       "  };\n",
       "\n",
       "  var js_urls = ['https://cdn.pydata.org/bokeh/release/bokeh-0.11.1.min.js', 'https://cdn.pydata.org/bokeh/release/bokeh-widgets-0.11.1.min.js', 'https://cdn.pydata.org/bokeh/release/bokeh-compiler-0.11.1.min.js'];\n",
       "\n",
       "  var inline_js = [\n",
       "    function(Bokeh) {\n",
       "      Bokeh.set_log_level(\"info\");\n",
       "    },\n",
       "    \n",
       "    function(Bokeh) {\n",
       "      Bokeh.$(\"#8e3cbe03-db4e-4be2-8cb1-897a5f2e01a4\").text(\"BokehJS successfully loaded\");\n",
       "    },\n",
       "    function(Bokeh) {\n",
       "      console.log(\"Bokeh: injecting CSS: https://cdn.pydata.org/bokeh/release/bokeh-0.11.1.min.css\");\n",
       "      Bokeh.embed.inject_css(\"https://cdn.pydata.org/bokeh/release/bokeh-0.11.1.min.css\");\n",
       "      console.log(\"Bokeh: injecting CSS: https://cdn.pydata.org/bokeh/release/bokeh-widgets-0.11.1.min.css\");\n",
       "      Bokeh.embed.inject_css(\"https://cdn.pydata.org/bokeh/release/bokeh-widgets-0.11.1.min.css\");\n",
       "    }\n",
       "  ];\n",
       "\n",
       "  function run_inline_js() {\n",
       "    for (var i = 0; i < inline_js.length; i++) {\n",
       "      inline_js[i](window.Bokeh);\n",
       "    }\n",
       "  }\n",
       "\n",
       "  if (window._bokeh_is_loading === 0) {\n",
       "    console.log(\"Bokeh: BokehJS loaded, going straight to plotting\");\n",
       "    run_inline_js();\n",
       "  } else {\n",
       "    load_libs(js_urls, function() {\n",
       "      console.log(\"Bokeh: BokehJS plotting callback run at\", now());\n",
       "      run_inline_js();\n",
       "    });\n",
       "  }\n",
       "}(this));"
      ]
     },
     "metadata": {},
     "output_type": "display_data"
    }
   ],
   "source": [
    "from cameo import load_model\n",
    "from os import getcwd\n",
    "from Functions_Modules import curation_tools as ct\n",
    "from math import isnan\n",
    "from numpy import zeros"
   ]
  },
  {
   "cell_type": "code",
   "execution_count": 2,
   "metadata": {
    "collapsed": true
   },
   "outputs": [],
   "source": [
    "relative_directory = getcwd()\n",
    "model = load_model(relative_directory + '/Reconstructions/MethylococcusModel11.json')"
   ]
  },
  {
   "cell_type": "code",
   "execution_count": 3,
   "metadata": {
    "collapsed": false
   },
   "outputs": [
    {
     "data": {
      "text/plain": [
       "92"
      ]
     },
     "execution_count": 3,
     "metadata": {},
     "output_type": "execute_result"
    }
   ],
   "source": [
    "len(model.reactions.BIOMASS_REACTION.metabolites)"
   ]
  },
  {
   "cell_type": "code",
   "execution_count": 4,
   "metadata": {
    "collapsed": false
   },
   "outputs": [],
   "source": [
    "# import escher\n",
    "        \n",
    "# maps = escher.Builder(\n",
    "#                     model=model,\n",
    "#                     map_name = 'Methylococcus capsulatus genome-scale metabolic model',\n",
    "#                     map_json='/Users/clie/Desktop/EFPro2/Reconstructions/Metabolic Map/15MinorChanges.json',\n",
    "#                     show_gene_reaction_rules=True,\n",
    "#                     use_3d_transform = True\n",
    "#                     )\n",
    "\n",
    "# maps.set_reaction_scale([ { 'type': 'min', 'color': 'rgb(235,89,162)', 'size': 12 },\n",
    "#    { 'type': 'median', 'color': 'rgb(200,200,200)', 'size': 20 },\n",
    "#    { 'type': 'max', 'color': 'rgb(255,255,109)', 'size': 25 } ])\n",
    "# maps.display_in_browser()"
   ]
  },
  {
   "cell_type": "markdown",
   "metadata": {},
   "source": [
    "# Last Check-ups"
   ]
  },
  {
   "cell_type": "markdown",
   "metadata": {},
   "source": [
    "## Observing the Default State of the Model"
   ]
  },
  {
   "cell_type": "code",
   "execution_count": 5,
   "metadata": {
    "collapsed": false
   },
   "outputs": [
    {
     "name": "stdout",
     "output_type": "stream",
     "text": [
      "     reaction_id       reaction_name  lower_bound  upper_bound\n",
      "0        EX_pi_c  phosphate exchange      -1000.0       1000.0\n",
      "1        EX_o2_c   dioxygen exchange      -1000.0       1000.0\n",
      "2       EX_nh3_c     NH4(+) exchange      -1000.0       1000.0\n",
      "3       EX_so4_c    sulfate exchange      -1000.0       1000.0\n",
      "4        EX_cl_c      Cl(-) exchange      -1000.0       1000.0\n",
      "5       EX_na1_c      Na(+) exchange         -1.0       1000.0\n",
      "6         EX_k_c       K(+) exchange      -1000.0       1000.0\n",
      "7       EX_mg2_c     Mg(2+) exchange      -1000.0       1000.0\n",
      "8       EX_ca2_c     Ca(2+) exchange      -1000.0       1000.0\n",
      "9       EX_ch4_p    methane exchange      -1000.0         -0.1\n",
      "10  EX_cobalt2_c       Co2+ exchange      -1000.0       1000.0\n",
      "11       EX_cu_c        Cu+ exchange      -1000.0       1000.0\n"
     ]
    }
   ],
   "source": [
    "print model.medium"
   ]
  },
  {
   "cell_type": "code",
   "execution_count": 6,
   "metadata": {
    "collapsed": false
   },
   "outputs": [
    {
     "name": "stdout",
     "output_type": "stream",
     "text": [
      "Maximize\n",
      "-1.0*BIOMASS_REACTION_reverse_42726 + 1.0*BIOMASS_REACTION\n"
     ]
    }
   ],
   "source": [
    "print model.objective"
   ]
  },
  {
   "cell_type": "markdown",
   "metadata": {},
   "source": [
    "Specic growth rate in default conditions (1/h)"
   ]
  },
  {
   "cell_type": "code",
   "execution_count": 7,
   "metadata": {
    "collapsed": false
   },
   "outputs": [
    {
     "name": "stdout",
     "output_type": "stream",
     "text": [
      "7.04946219417\n"
     ]
    }
   ],
   "source": [
    "max_growth = model.solve().f\n",
    "print max_growth"
   ]
  },
  {
   "cell_type": "code",
   "execution_count": 8,
   "metadata": {
    "collapsed": true
   },
   "outputs": [],
   "source": [
    "model.reactions.EX_ch4_p.lower_bound = - 18.46"
   ]
  },
  {
   "cell_type": "code",
   "execution_count": 9,
   "metadata": {
    "collapsed": false
   },
   "outputs": [
    {
     "name": "stdout",
     "output_type": "stream",
     "text": [
      "0.260266144209\n"
     ]
    }
   ],
   "source": [
    "max_growth = model.solve().f\n",
    "print max_growth"
   ]
  },
  {
   "cell_type": "markdown",
   "metadata": {},
   "source": [
    "Specic growth rate of E. coli in LB-medium (1/h)"
   ]
  },
  {
   "cell_type": "code",
   "execution_count": 10,
   "metadata": {
    "collapsed": true
   },
   "outputs": [],
   "source": [
    "import math"
   ]
  },
  {
   "cell_type": "code",
   "execution_count": 11,
   "metadata": {
    "collapsed": false
   },
   "outputs": [
    {
     "data": {
      "text/plain": [
       "1.3862943611198906"
      ]
     },
     "execution_count": 11,
     "metadata": {},
     "output_type": "execute_result"
    }
   ],
   "source": [
    "math.log(2)/0.5"
   ]
  },
  {
   "cell_type": "markdown",
   "metadata": {},
   "source": [
    "Doubling time of the model in default conditions (in minutes)"
   ]
  },
  {
   "cell_type": "code",
   "execution_count": 12,
   "metadata": {
    "collapsed": false
   },
   "outputs": [
    {
     "data": {
      "text/plain": [
       "159.7934720247074"
      ]
     },
     "execution_count": 12,
     "metadata": {},
     "output_type": "execute_result"
    }
   ],
   "source": [
    "(math.log(2)/max_growth) * 60"
   ]
  },
  {
   "cell_type": "markdown",
   "metadata": {},
   "source": [
    "## Double check reaction and formula identity with BiGG Database"
   ]
  },
  {
   "cell_type": "code",
   "execution_count": 13,
   "metadata": {
    "collapsed": true
   },
   "outputs": [],
   "source": [
    "import pandas as pd"
   ]
  },
  {
   "cell_type": "code",
   "execution_count": 14,
   "metadata": {
    "collapsed": false
   },
   "outputs": [],
   "source": [
    "def bigg_web_query(url,filename):\n",
    "    from requests import get\n",
    "    import json\n",
    "    \n",
    "    try: \n",
    "        response = get(url)\n",
    "        response.ok\n",
    "        \n",
    "        with open(filename, 'w') as f:\n",
    "            json.dump(response.json()['results'],f)\n",
    "    except Exception as e:\n",
    "        print(e)\n",
    "    \n",
    "    return "
   ]
  },
  {
   "cell_type": "code",
   "execution_count": 15,
   "metadata": {
    "collapsed": false
   },
   "outputs": [],
   "source": [
    "url = 'http://bigg.ucsd.edu/api/v2/universal/reactions'\n",
    "filename = 'bigg_universal_reaction_dump.json'"
   ]
  },
  {
   "cell_type": "code",
   "execution_count": 16,
   "metadata": {
    "collapsed": false
   },
   "outputs": [],
   "source": [
    "bigg_web_query(url,filename)"
   ]
  },
  {
   "cell_type": "code",
   "execution_count": 17,
   "metadata": {
    "collapsed": false
   },
   "outputs": [],
   "source": [
    "bigg_uni_rxn_dump = pd.read_json('bigg_universal_reaction_dump.json',orient='column')"
   ]
  },
  {
   "cell_type": "code",
   "execution_count": 18,
   "metadata": {
    "collapsed": false
   },
   "outputs": [],
   "source": [
    "bigg_uni_rxn_dump_dict = bigg_uni_rxn_dump.set_index('bigg_id').to_dict('index')"
   ]
  },
  {
   "cell_type": "markdown",
   "metadata": {},
   "source": [
    "Identify reaction IDs that match BiGG standards and those that don't"
   ]
  },
  {
   "cell_type": "code",
   "execution_count": 19,
   "metadata": {
    "collapsed": false
   },
   "outputs": [],
   "source": [
    "def ident_BiGG_rxn_id_matches(model_reactions,database_dict):\n",
    "    BiGG_ID_y_n = []\n",
    "    temp_storage = ''\n",
    "\n",
    "    for i,rxn in enumerate(model_reactions):\n",
    "        if not rxn.id.startswith('EX_'):\n",
    "            if '_' in rxn.id:\n",
    "                temp_storage = rxn.id.rpartition('_')[0] \n",
    "            else:\n",
    "                temp_storage = rxn.id\n",
    "            if temp_storage in database_dict.keys():\n",
    "                BiGG_ID_y_n.append('matched')\n",
    "                # TODO: Pull all annotations\n",
    "                # HERE: Sort them into the model\n",
    "            else:\n",
    "                BiGG_ID_y_n.append(rxn.id)\n",
    "    return BiGG_ID_y_n\n"
   ]
  },
  {
   "cell_type": "code",
   "execution_count": 20,
   "metadata": {
    "collapsed": false
   },
   "outputs": [
    {
     "data": {
      "text/plain": [
       "132"
      ]
     },
     "execution_count": 20,
     "metadata": {},
     "output_type": "execute_result"
    }
   ],
   "source": [
    "BiGG_ID_y_n = ident_BiGG_rxn_id_matches(model.reactions,bigg_uni_rxn_dump_dict)\n",
    "\n",
    "non_bigg_ids = filter(lambda x: x != 'matched', BiGG_ID_y_n)\n",
    "\n",
    "len(non_bigg_ids)"
   ]
  },
  {
   "cell_type": "code",
   "execution_count": 21,
   "metadata": {
    "collapsed": false
   },
   "outputs": [
    {
     "data": {
      "text/plain": [
       "['matched',\n",
       " u'ALCD2if_c',\n",
       " 'matched',\n",
       " 'matched',\n",
       " 'matched',\n",
       " 'matched',\n",
       " 'matched',\n",
       " 'matched',\n",
       " 'matched',\n",
       " 'matched',\n",
       " 'matched',\n",
       " 'matched',\n",
       " 'matched',\n",
       " 'matched',\n",
       " 'matched',\n",
       " 'matched',\n",
       " 'matched',\n",
       " 'matched',\n",
       " 'matched',\n",
       " 'matched',\n",
       " 'matched',\n",
       " 'matched',\n",
       " 'matched',\n",
       " 'matched',\n",
       " 'matched',\n",
       " 'matched',\n",
       " 'matched',\n",
       " 'matched',\n",
       " 'matched',\n",
       " 'matched',\n",
       " u'G6PDH2_c',\n",
       " 'matched',\n",
       " 'matched',\n",
       " 'matched',\n",
       " u'PKL_c',\n",
       " u'HPS_c',\n",
       " u'PHI_c',\n",
       " u'GALU_c',\n",
       " 'matched',\n",
       " 'matched',\n",
       " 'matched',\n",
       " 'matched',\n",
       " 'matched',\n",
       " 'matched',\n",
       " 'matched',\n",
       " 'matched',\n",
       " 'matched',\n",
       " 'matched',\n",
       " 'matched',\n",
       " 'matched',\n",
       " 'matched',\n",
       " 'matched',\n",
       " 'matched',\n",
       " 'matched',\n",
       " 'matched',\n",
       " 'matched',\n",
       " 'matched',\n",
       " 'matched',\n",
       " 'matched',\n",
       " 'matched',\n",
       " 'matched',\n",
       " 'matched',\n",
       " 'matched',\n",
       " 'matched',\n",
       " 'matched',\n",
       " 'matched',\n",
       " 'matched',\n",
       " 'matched',\n",
       " 'matched',\n",
       " 'matched',\n",
       " 'matched',\n",
       " 'matched',\n",
       " 'matched',\n",
       " 'matched',\n",
       " 'matched',\n",
       " 'matched',\n",
       " 'matched',\n",
       " 'matched',\n",
       " 'matched',\n",
       " 'matched',\n",
       " 'matched',\n",
       " 'matched',\n",
       " 'matched',\n",
       " 'matched',\n",
       " 'matched',\n",
       " 'matched',\n",
       " 'matched',\n",
       " 'matched',\n",
       " 'matched',\n",
       " 'matched',\n",
       " 'matched',\n",
       " 'matched',\n",
       " 'matched',\n",
       " 'matched',\n",
       " 'matched',\n",
       " u'PRAGS_c',\n",
       " 'matched',\n",
       " 'matched',\n",
       " 'matched',\n",
       " u'ADSL2_c',\n",
       " u'PRASCS_c',\n",
       " 'matched',\n",
       " 'matched',\n",
       " 'matched',\n",
       " u'ADSL1_c',\n",
       " 'matched',\n",
       " 'matched',\n",
       " 'matched',\n",
       " 'matched',\n",
       " 'matched',\n",
       " 'matched',\n",
       " 'matched',\n",
       " 'matched',\n",
       " 'matched',\n",
       " 'matched',\n",
       " 'matched',\n",
       " 'matched',\n",
       " 'matched',\n",
       " 'matched',\n",
       " 'matched',\n",
       " 'matched',\n",
       " 'matched',\n",
       " 'matched',\n",
       " 'matched',\n",
       " 'matched',\n",
       " 'matched',\n",
       " 'matched',\n",
       " 'matched',\n",
       " 'matched',\n",
       " 'matched',\n",
       " 'matched',\n",
       " 'matched',\n",
       " 'matched',\n",
       " 'matched',\n",
       " 'matched',\n",
       " 'matched',\n",
       " 'matched',\n",
       " 'matched',\n",
       " 'matched',\n",
       " 'matched',\n",
       " 'matched',\n",
       " 'matched',\n",
       " 'matched',\n",
       " 'matched',\n",
       " 'matched',\n",
       " 'matched',\n",
       " 'matched',\n",
       " 'matched',\n",
       " 'matched',\n",
       " 'matched',\n",
       " 'matched',\n",
       " 'matched',\n",
       " 'matched',\n",
       " 'matched',\n",
       " 'matched',\n",
       " 'matched',\n",
       " 'matched',\n",
       " 'matched',\n",
       " 'matched',\n",
       " 'matched',\n",
       " 'matched',\n",
       " 'matched',\n",
       " 'matched',\n",
       " 'matched',\n",
       " 'matched',\n",
       " 'matched',\n",
       " 'matched',\n",
       " 'matched',\n",
       " 'matched',\n",
       " 'matched',\n",
       " 'matched',\n",
       " 'matched',\n",
       " 'matched',\n",
       " 'matched',\n",
       " 'matched',\n",
       " 'matched',\n",
       " 'matched',\n",
       " 'matched',\n",
       " 'matched',\n",
       " 'matched',\n",
       " 'matched',\n",
       " 'matched',\n",
       " 'matched',\n",
       " 'matched',\n",
       " 'matched',\n",
       " u'AGT_c',\n",
       " u'ALAD__L_c',\n",
       " 'matched',\n",
       " 'matched',\n",
       " 'matched',\n",
       " 'matched',\n",
       " u'GLUDx_c',\n",
       " 'matched',\n",
       " 'matched',\n",
       " 'matched',\n",
       " 'matched',\n",
       " 'matched',\n",
       " 'matched',\n",
       " 'matched',\n",
       " 'matched',\n",
       " u'PSP__L_c',\n",
       " u'GHMT2_c',\n",
       " u'THRD__L_c',\n",
       " 'matched',\n",
       " 'matched',\n",
       " 'matched',\n",
       " 'matched',\n",
       " 'matched',\n",
       " 'matched',\n",
       " 'matched',\n",
       " u'SERD__L_c',\n",
       " u'PSSA_MC_c',\n",
       " 'matched',\n",
       " 'matched',\n",
       " 'matched',\n",
       " 'matched',\n",
       " 'matched',\n",
       " 'matched',\n",
       " 'matched',\n",
       " 'matched',\n",
       " 'matched',\n",
       " 'matched',\n",
       " 'matched',\n",
       " 'matched',\n",
       " 'matched',\n",
       " 'matched',\n",
       " u'AHC_c',\n",
       " 'matched',\n",
       " 'matched',\n",
       " 'matched',\n",
       " 'matched',\n",
       " 'matched',\n",
       " 'matched',\n",
       " 'matched',\n",
       " 'matched',\n",
       " 'matched',\n",
       " 'matched',\n",
       " 'matched',\n",
       " 'matched',\n",
       " 'matched',\n",
       " 'matched',\n",
       " 'matched',\n",
       " 'matched',\n",
       " 'matched',\n",
       " 'matched',\n",
       " 'matched',\n",
       " 'matched',\n",
       " 'matched',\n",
       " 'matched',\n",
       " 'matched',\n",
       " 'matched',\n",
       " 'matched',\n",
       " 'matched',\n",
       " 'matched',\n",
       " 'matched',\n",
       " 'matched',\n",
       " 'matched',\n",
       " 'matched',\n",
       " 'matched',\n",
       " 'matched',\n",
       " 'matched',\n",
       " 'matched',\n",
       " 'matched',\n",
       " 'matched',\n",
       " 'matched',\n",
       " 'matched',\n",
       " 'matched',\n",
       " 'matched',\n",
       " 'matched',\n",
       " 'matched',\n",
       " 'matched',\n",
       " 'matched',\n",
       " 'matched',\n",
       " 'matched',\n",
       " 'matched',\n",
       " 'matched',\n",
       " 'matched',\n",
       " 'matched',\n",
       " 'matched',\n",
       " 'matched',\n",
       " 'matched',\n",
       " 'matched',\n",
       " 'matched',\n",
       " 'matched',\n",
       " 'matched',\n",
       " 'matched',\n",
       " 'matched',\n",
       " 'matched',\n",
       " 'matched',\n",
       " 'matched',\n",
       " 'matched',\n",
       " 'matched',\n",
       " 'matched',\n",
       " 'matched',\n",
       " 'matched',\n",
       " 'matched',\n",
       " 'matched',\n",
       " 'matched',\n",
       " 'matched',\n",
       " 'matched',\n",
       " 'matched',\n",
       " 'matched',\n",
       " 'matched',\n",
       " 'matched',\n",
       " 'matched',\n",
       " 'matched',\n",
       " 'matched',\n",
       " 'matched',\n",
       " 'matched',\n",
       " 'matched',\n",
       " 'matched',\n",
       " u'SHK3D_c',\n",
       " u'DHQD_c',\n",
       " 'matched',\n",
       " 'matched',\n",
       " 'matched',\n",
       " 'matched',\n",
       " 'matched',\n",
       " 'matched',\n",
       " 'matched',\n",
       " 'matched',\n",
       " 'matched',\n",
       " 'matched',\n",
       " 'matched',\n",
       " u'GTHP_c',\n",
       " 'matched',\n",
       " 'matched',\n",
       " 'matched',\n",
       " 'matched',\n",
       " 'matched',\n",
       " 'matched',\n",
       " 'matched',\n",
       " 'matched',\n",
       " 'matched',\n",
       " 'matched',\n",
       " 'matched',\n",
       " 'matched',\n",
       " 'matched',\n",
       " 'matched',\n",
       " 'matched',\n",
       " 'matched',\n",
       " 'matched',\n",
       " 'matched',\n",
       " 'matched',\n",
       " 'matched',\n",
       " 'matched',\n",
       " 'matched',\n",
       " 'matched',\n",
       " 'matched',\n",
       " 'matched',\n",
       " 'matched',\n",
       " 'matched',\n",
       " 'matched',\n",
       " 'matched',\n",
       " 'matched',\n",
       " 'matched',\n",
       " 'matched',\n",
       " 'matched',\n",
       " 'matched',\n",
       " 'matched',\n",
       " 'matched',\n",
       " 'matched',\n",
       " 'matched',\n",
       " 'matched',\n",
       " 'matched',\n",
       " 'matched',\n",
       " 'matched',\n",
       " u'APG3PAT_MC_c',\n",
       " u'G3PAT_MC_c',\n",
       " 'matched',\n",
       " 'matched',\n",
       " 'matched',\n",
       " 'matched',\n",
       " 'matched',\n",
       " 'matched',\n",
       " u'PGPP_MC_c',\n",
       " u'PHCYT_MC_c',\n",
       " u'PSD_MC_c',\n",
       " u'PMETM2_MC_c',\n",
       " 'matched',\n",
       " u'PMETM_MC_c',\n",
       " u'PETOHM_MC_c',\n",
       " u'PGSA_MC_c',\n",
       " 'matched',\n",
       " 'matched',\n",
       " 'matched',\n",
       " 'matched',\n",
       " 'matched',\n",
       " 'matched',\n",
       " 'matched',\n",
       " 'matched',\n",
       " 'matched',\n",
       " 'matched',\n",
       " 'matched',\n",
       " 'matched',\n",
       " 'matched',\n",
       " 'matched',\n",
       " u'MICITD_c',\n",
       " 'matched',\n",
       " 'matched',\n",
       " 'matched',\n",
       " 'matched',\n",
       " 'matched',\n",
       " 'matched',\n",
       " 'matched',\n",
       " 'matched',\n",
       " 'matched',\n",
       " 'matched',\n",
       " 'matched',\n",
       " 'matched',\n",
       " 'matched',\n",
       " u'FOMETR_c',\n",
       " 'matched',\n",
       " u'FTHFL_c',\n",
       " 'matched',\n",
       " 'matched',\n",
       " 'matched',\n",
       " u'FAE_c',\n",
       " u'MTDB_c',\n",
       " u'MCH_c',\n",
       " 'matched',\n",
       " u'FMFRD_c',\n",
       " u'sMMO_c',\n",
       " 'matched',\n",
       " 'matched',\n",
       " 'matched',\n",
       " 'matched',\n",
       " 'matched',\n",
       " u'PMPS_c',\n",
       " 'matched',\n",
       " 'matched',\n",
       " 'matched',\n",
       " 'matched',\n",
       " 'matched',\n",
       " 'matched',\n",
       " 'matched',\n",
       " 'matched',\n",
       " 'matched',\n",
       " 'matched',\n",
       " 'matched',\n",
       " 'matched',\n",
       " 'matched',\n",
       " 'matched',\n",
       " 'matched',\n",
       " 'matched',\n",
       " 'matched',\n",
       " 'matched',\n",
       " 'matched',\n",
       " u'NNAT_c',\n",
       " 'matched',\n",
       " 'matched',\n",
       " 'matched',\n",
       " 'matched',\n",
       " 'matched',\n",
       " 'matched',\n",
       " 'matched',\n",
       " 'matched',\n",
       " 'matched',\n",
       " 'matched',\n",
       " 'matched',\n",
       " 'matched',\n",
       " 'matched',\n",
       " 'matched',\n",
       " 'matched',\n",
       " 'matched',\n",
       " 'matched',\n",
       " u'PTPAT_c',\n",
       " 'matched',\n",
       " 'matched',\n",
       " 'matched',\n",
       " 'matched',\n",
       " 'matched',\n",
       " 'matched',\n",
       " 'matched',\n",
       " 'matched',\n",
       " 'matched',\n",
       " 'matched',\n",
       " 'matched',\n",
       " 'matched',\n",
       " 'matched',\n",
       " 'matched',\n",
       " 'matched',\n",
       " 'matched',\n",
       " 'matched',\n",
       " 'matched',\n",
       " 'matched',\n",
       " 'matched',\n",
       " 'matched',\n",
       " 'matched',\n",
       " 'matched',\n",
       " 'matched',\n",
       " 'matched',\n",
       " 'matched',\n",
       " 'matched',\n",
       " 'matched',\n",
       " 'matched',\n",
       " 'matched',\n",
       " 'matched',\n",
       " 'matched',\n",
       " 'matched',\n",
       " 'matched',\n",
       " 'matched',\n",
       " 'matched',\n",
       " 'matched',\n",
       " 'matched',\n",
       " 'matched',\n",
       " 'matched',\n",
       " 'matched',\n",
       " 'matched',\n",
       " 'matched',\n",
       " 'matched',\n",
       " 'matched',\n",
       " 'matched',\n",
       " 'matched',\n",
       " 'matched',\n",
       " 'matched',\n",
       " 'matched',\n",
       " 'matched',\n",
       " 'matched',\n",
       " 'matched',\n",
       " 'matched',\n",
       " 'matched',\n",
       " 'matched',\n",
       " 'matched',\n",
       " 'matched',\n",
       " 'matched',\n",
       " 'matched',\n",
       " 'matched',\n",
       " 'matched',\n",
       " 'matched',\n",
       " 'matched',\n",
       " 'matched',\n",
       " 'matched',\n",
       " 'matched',\n",
       " 'matched',\n",
       " 'matched',\n",
       " 'matched',\n",
       " 'matched',\n",
       " 'matched',\n",
       " 'matched',\n",
       " 'matched',\n",
       " 'matched',\n",
       " 'matched',\n",
       " 'matched',\n",
       " 'matched',\n",
       " 'matched',\n",
       " 'matched',\n",
       " 'matched',\n",
       " 'matched',\n",
       " 'matched',\n",
       " 'matched',\n",
       " 'matched',\n",
       " 'matched',\n",
       " 'matched',\n",
       " 'matched',\n",
       " 'matched',\n",
       " 'matched',\n",
       " 'matched',\n",
       " 'matched',\n",
       " 'matched',\n",
       " 'matched',\n",
       " 'matched',\n",
       " 'matched',\n",
       " 'matched',\n",
       " 'matched',\n",
       " 'matched',\n",
       " 'matched',\n",
       " 'matched',\n",
       " 'matched',\n",
       " 'matched',\n",
       " 'matched',\n",
       " 'matched',\n",
       " 'matched',\n",
       " 'matched',\n",
       " 'matched',\n",
       " 'matched',\n",
       " 'matched',\n",
       " u'DES_9_Modified_c',\n",
       " 'matched',\n",
       " 'matched',\n",
       " 'matched',\n",
       " 'matched',\n",
       " u'PAH_c',\n",
       " 'matched',\n",
       " 'matched',\n",
       " 'matched',\n",
       " u'PHEPYRTA_c',\n",
       " 'matched',\n",
       " 'matched',\n",
       " 'matched',\n",
       " 'matched',\n",
       " u'VPAMT_c',\n",
       " 'matched',\n",
       " 'matched',\n",
       " 'matched',\n",
       " 'matched',\n",
       " 'matched',\n",
       " 'matched',\n",
       " 'matched',\n",
       " 'matched',\n",
       " 'matched',\n",
       " 'matched',\n",
       " 'matched',\n",
       " 'matched',\n",
       " 'matched',\n",
       " u'AHMT',\n",
       " 'matched',\n",
       " 'matched',\n",
       " 'matched',\n",
       " 'matched',\n",
       " 'matched',\n",
       " 'matched',\n",
       " 'matched',\n",
       " 'matched',\n",
       " 'matched',\n",
       " 'matched',\n",
       " 'matched',\n",
       " 'matched',\n",
       " 'matched',\n",
       " 'matched',\n",
       " u'ICDHy_c',\n",
       " 'matched',\n",
       " 'matched',\n",
       " 'matched',\n",
       " 'matched',\n",
       " 'matched',\n",
       " 'matched',\n",
       " 'matched',\n",
       " 'matched',\n",
       " 'matched',\n",
       " 'matched',\n",
       " u'NITR_AM_im',\n",
       " 'matched',\n",
       " 'matched',\n",
       " u'BIOMASS_REACTION',\n",
       " u'pMMO_im',\n",
       " 'matched',\n",
       " u'MEOHDH_cyt_p',\n",
       " u'MEOHt_im',\n",
       " 'matched',\n",
       " u'FALDt_im',\n",
       " 'matched',\n",
       " 'matched',\n",
       " u'CYOR_q8_im',\n",
       " u'CyLCyHOx_p',\n",
       " u'CYTCBD_im',\n",
       " u'CYTAA3_im',\n",
       " 'matched',\n",
       " u'ATPSNa_im',\n",
       " u'PPApt_im',\n",
       " 'matched',\n",
       " u'NQR_im',\n",
       " u'h2ot_im',\n",
       " u'o2t_im',\n",
       " u'PGCD_GAPFILLING_c',\n",
       " u'HSK_GAPFILLING_c',\n",
       " u'HISTP_GAPFILLING_c',\n",
       " u'HISTD_GAPFILLING_c',\n",
       " u'MTHFD_GAPFILLING_c',\n",
       " u'G5SADs_GAPFILLING_c',\n",
       " u'OCT_GAPFILLING_c',\n",
       " u'FeoBt_im',\n",
       " 'matched',\n",
       " 'matched',\n",
       " u'DES_9_2_Modified_c',\n",
       " 'matched',\n",
       " 'matched',\n",
       " 'matched',\n",
       " 'matched',\n",
       " u'3OAR150_GAPFILLING_c',\n",
       " u'3OAR170_GAPFILLING_c',\n",
       " u'FA150ACPHi_c',\n",
       " u'FA170ACPHi_c',\n",
       " 'matched',\n",
       " u'CFACPOA2H_Lumped_c',\n",
       " u'FACOAEcyc170_c',\n",
       " 'matched',\n",
       " 'matched',\n",
       " 'matched',\n",
       " 'matched',\n",
       " 'matched',\n",
       " 'matched',\n",
       " 'matched',\n",
       " 'matched',\n",
       " 'matched',\n",
       " 'matched',\n",
       " u'FMNRx_Gapfilling_c',\n",
       " u'FMNRx2_Gapfilling_c',\n",
       " 'matched',\n",
       " u'OBDH_c',\n",
       " u'PCOATA_c',\n",
       " 'matched',\n",
       " 'matched',\n",
       " u'CPC6MT_Gapfilling_c',\n",
       " u'CYRDAR_Gapfilling_c',\n",
       " u'LTHRK_Gapfilling_c',\n",
       " u'THRPD_Gapfilling_c',\n",
       " u'DM_4hba_c',\n",
       " u'MI1PS_GAPFILLING_c',\n",
       " u'MC_Average_FattyAcid_c',\n",
       " u'MC_AFAA_c',\n",
       " u'CLPNS_MC_c',\n",
       " 'matched',\n",
       " u'PPTGS_MC_c',\n",
       " 'matched',\n",
       " u'AGMHE_GAPFILLING_c',\n",
       " u'GALT1_GAPFILLING_c',\n",
       " u'GLCTR1_GAPFILLING_c',\n",
       " u'GLCTR2_GAPFILLING_c',\n",
       " u'GLCTR3_GAPFILLING_c',\n",
       " u'HEPK1_GAPFILLING_c',\n",
       " u'HEPK2_GAPFILLING_c',\n",
       " u'HEPT1_GAPFILLING_c',\n",
       " u'HEPT2_GAPFILLING_c',\n",
       " u'HEPT3_GAPFILLING_c',\n",
       " u'HEPT4_GAPFILLING_c',\n",
       " u'LA4NTpp_GAPFILLING_c',\n",
       " u'MOAT3C_GAPFILLING_c',\n",
       " u'O16AT_GAPFILLING_c',\n",
       " u'O16GALFT_GAPFILLING_c',\n",
       " u'O16GLCT1_GAPFILLING_c',\n",
       " u'O16GLCT2_GAPFILLING_c',\n",
       " u'RHAT1_GAPFILLING_c',\n",
       " u'EDTXS1_GAPFILLING_c',\n",
       " u'EDTXS2_GAPFILLING_c',\n",
       " u'ACOLIPAabctex_GAPFILLING_c',\n",
       " u'CLIPAabctex_GAPFILLING_c',\n",
       " u'COLIPAabcpp_GAPFILLING_c',\n",
       " u'COLIPAabctex_GAPFILLING_c',\n",
       " u'ECA4COLIPAabctex_GAPFILLING_c',\n",
       " u'ENLIPAabctex_GAPFILLING_c',\n",
       " u'O16A4COLIPAabctex_GAPFILLING_c',\n",
       " u'UREASE_GAPFILLING_c',\n",
       " 'matched',\n",
       " u'DM_doxopa_c',\n",
       " 'matched',\n",
       " u'AMOs_c',\n",
       " u'AMOp_im',\n",
       " u'NH3_im',\n",
       " u'HAM_im',\n",
       " u'NO2_im',\n",
       " u'CYP460_p',\n",
       " u'HAO_p',\n",
       " u'no3t_om',\n",
       " 'matched',\n",
       " 'matched',\n",
       " u'ALAD__Ly_c',\n",
       " u'pMMO_dir_coupl_im',\n",
       " u'PFK_3_ppi_c',\n",
       " 'matched']"
      ]
     },
     "execution_count": 21,
     "metadata": {},
     "output_type": "execute_result"
    }
   ],
   "source": [
    "BiGG_ID_y_n"
   ]
  },
  {
   "cell_type": "code",
   "execution_count": 22,
   "metadata": {
    "collapsed": false
   },
   "outputs": [],
   "source": [
    "for rxn in model.reactions:\n",
    "    if not (rxn.id.startswith('EX_') or rxn.id.startswith('DM_')):\n",
    "        if rxn.id.endswith('_p'):\n",
    "            rxn.id = rxn.id.rpartition('_')[0] + 'pp'\n",
    "        if rxn.id.endswith('_im'):\n",
    "            rxn.id = rxn.id.rpartition('_')[0] + 'pp'\n",
    "        if rxn.id.endswith('_c'):\n",
    "            rxn.id = rxn.id.rpartition('_')[0]\n",
    "        if rxn.id.endswith('_e'):\n",
    "            rxn.id = rxn.id.rpartition('_')[0] + 'e'\n",
    "        if rxn.id.endswith('_Gapfilling'):\n",
    "            rxn.id = rxn.id.rpartition('_')[0] + '_GAPFILLING'\n",
    "model.solver.update()"
   ]
  },
  {
   "cell_type": "code",
   "execution_count": 23,
   "metadata": {
    "collapsed": false
   },
   "outputs": [
    {
     "data": {
      "text/plain": [
       "99"
      ]
     },
     "execution_count": 23,
     "metadata": {},
     "output_type": "execute_result"
    }
   ],
   "source": [
    "BiGG_ID_y_n = ident_BiGG_rxn_id_matches(model.reactions,bigg_uni_rxn_dump_dict)\n",
    "\n",
    "non_bigg_ids = filter(lambda x: x != 'matched', BiGG_ID_y_n)\n",
    "\n",
    "len(non_bigg_ids)"
   ]
  },
  {
   "cell_type": "code",
   "execution_count": 24,
   "metadata": {
    "collapsed": true
   },
   "outputs": [],
   "source": [
    "for rxnid in non_bigg_ids:\n",
    "    if '__' in rxnid:\n",
    "        model.reactions.get_by_id(rxnid).id = model.reactions.get_by_id(rxnid).id.replace('__','_')"
   ]
  },
  {
   "cell_type": "code",
   "execution_count": 25,
   "metadata": {
    "collapsed": false
   },
   "outputs": [
    {
     "data": {
      "text/plain": [
       "97"
      ]
     },
     "execution_count": 25,
     "metadata": {},
     "output_type": "execute_result"
    }
   ],
   "source": [
    "BiGG_ID_y_n = ident_BiGG_rxn_id_matches(model.reactions,bigg_uni_rxn_dump_dict)\n",
    "\n",
    "non_bigg_ids = filter(lambda x: x != 'matched', BiGG_ID_y_n)\n",
    "\n",
    "len(non_bigg_ids)"
   ]
  },
  {
   "cell_type": "code",
   "execution_count": 26,
   "metadata": {
    "collapsed": false
   },
   "outputs": [],
   "source": [
    "for rxn in non_bigg_ids[2:]:\n",
    "    if not model.reactions.get_by_id(rxn).reversibility:\n",
    "        if not rxn.endswith('i'):\n",
    "            model.reactions.get_by_id(rxn).id = model.reactions.get_by_id(rxn).id + 'i'"
   ]
  },
  {
   "cell_type": "code",
   "execution_count": 27,
   "metadata": {
    "collapsed": false
   },
   "outputs": [
    {
     "data": {
      "text/plain": [
       "89"
      ]
     },
     "execution_count": 27,
     "metadata": {},
     "output_type": "execute_result"
    }
   ],
   "source": [
    "BiGG_ID_y_n = ident_BiGG_rxn_id_matches(model.reactions,bigg_uni_rxn_dump_dict)\n",
    "\n",
    "non_bigg_ids = filter(lambda x: x != 'matched', BiGG_ID_y_n)\n",
    "\n",
    "len(non_bigg_ids)"
   ]
  },
  {
   "cell_type": "code",
   "execution_count": 28,
   "metadata": {
    "collapsed": false
   },
   "outputs": [],
   "source": [
    "model.reactions.ALCD2if.id = 'ALCD2ir'"
   ]
  },
  {
   "cell_type": "markdown",
   "metadata": {},
   "source": [
    "'ALCD2ir' is the id in the BiGG Database, but the reaction is irreversible in all three models and hence should not bear the 'r' suffix which implies it is reversible."
   ]
  },
  {
   "cell_type": "code",
   "execution_count": 29,
   "metadata": {
    "collapsed": false
   },
   "outputs": [],
   "source": [
    "model.reactions.G6PDH2 = 'G6PDH2i'"
   ]
  },
  {
   "cell_type": "markdown",
   "metadata": {},
   "source": [
    "'G6PDH2r' is the id in the Universal BiGG Database. It is reversible in many of the Ecoli models, but not in the iND750 yeast model. I am making the decision to keep this one irreversible (in order to keep the model functional as it is right now), but this should probably be looked at later!"
   ]
  },
  {
   "cell_type": "code",
   "execution_count": 30,
   "metadata": {
    "collapsed": false
   },
   "outputs": [],
   "source": [
    "model.reactions.PHI.id = 'AH6PI'"
   ]
  },
  {
   "cell_type": "code",
   "execution_count": 31,
   "metadata": {
    "collapsed": false
   },
   "outputs": [
    {
     "data": {
      "text/html": [
       "\n",
       "        <table>\n",
       "            <tr>\n",
       "                <td><strong>Id</strong></td><td>PRAGSi</td>\n",
       "            </tr>\n",
       "            <tr>\n",
       "                <td><strong>Name</strong></td><td>1 H(+) + 1 N(1)-(5-phospho-D-ribosyl)glycinamide(1-) + 1 ADP + 1 phosphate = 1 glycine + 1 ATP + 1 5-phosphonato-D-ribosylaminium(1-)</td>\n",
       "            </tr>\n",
       "            <tr>\n",
       "                <td><strong>Stoichiometry</strong></td><td>atp_c + gly_c + pram_c --> adp_c + gar_c + h_c + pi_c</td>\n",
       "            </tr>\n",
       "            <tr>\n",
       "                <td><strong>GPR</strong></td><td>MCA0361</td>\n",
       "            </tr>\n",
       "            <tr>\n",
       "                <td><strong>Lower bound</strong></td><td>0.000000</td>\n",
       "            </tr>\n",
       "            <tr>\n",
       "                <td><strong>Upper bound</strong></td><td>1000.000000</td>\n",
       "            </tr>\n",
       "        </table>\n",
       "        "
      ],
      "text/plain": [
       "<Reaction PRAGSi at 0x113d9a990>"
      ]
     },
     "execution_count": 31,
     "metadata": {},
     "output_type": "execute_result"
    }
   ],
   "source": [
    "model.reactions.PRAGSi"
   ]
  },
  {
   "cell_type": "markdown",
   "metadata": {},
   "source": [
    "'PRAGSr' is the id in the Universal BiGG Database. It is reversible in many of the Ecoli models. I am making the decision to keep this one irreversible (in order to keep the model functional as it is right now), but this should probably be looked at later!"
   ]
  },
  {
   "cell_type": "code",
   "execution_count": 32,
   "metadata": {
    "collapsed": false
   },
   "outputs": [],
   "source": [
    "model.reactions.ADSL2.id = 'ADSL2r'"
   ]
  },
  {
   "cell_type": "code",
   "execution_count": 33,
   "metadata": {
    "collapsed": false
   },
   "outputs": [
    {
     "data": {
      "text/html": [
       "\n",
       "        <table>\n",
       "            <tr>\n",
       "                <td><strong>Id</strong></td><td>ADSL1i</td>\n",
       "            </tr>\n",
       "            <tr>\n",
       "                <td><strong>Name</strong></td><td>1 AMP + 1 fumarate(2-) = 1 N(6)-(1,2-dicarboxylatoethyl)-AMP(4-)</td>\n",
       "            </tr>\n",
       "            <tr>\n",
       "                <td><strong>Stoichiometry</strong></td><td>dcamp_c --> amp_c + fum_c</td>\n",
       "            </tr>\n",
       "            <tr>\n",
       "                <td><strong>GPR</strong></td><td>MCA1784</td>\n",
       "            </tr>\n",
       "            <tr>\n",
       "                <td><strong>Lower bound</strong></td><td>0.000000</td>\n",
       "            </tr>\n",
       "            <tr>\n",
       "                <td><strong>Upper bound</strong></td><td>1000.000000</td>\n",
       "            </tr>\n",
       "        </table>\n",
       "        "
      ],
      "text/plain": [
       "<Reaction ADSL1i at 0x113d76990>"
      ]
     },
     "execution_count": 33,
     "metadata": {},
     "output_type": "execute_result"
    }
   ],
   "source": [
    "model.reactions.ADSL1i"
   ]
  },
  {
   "cell_type": "markdown",
   "metadata": {},
   "source": [
    "'ADSL1r' is the id in the Universal BiGG Database. It is reversible in many of the Ecoli models. I am making the decision to keep this one irreversible (in order to keep the model functional as it is right now), but this should probably be looked at later!"
   ]
  },
  {
   "cell_type": "code",
   "execution_count": 34,
   "metadata": {
    "collapsed": false
   },
   "outputs": [],
   "source": [
    "model.reactions.AGT.id = 'AGTi'"
   ]
  },
  {
   "cell_type": "markdown",
   "metadata": {},
   "source": [
    "This is reversible as a Universal reaction but irreversible in yeast and synechocystis."
   ]
  },
  {
   "cell_type": "code",
   "execution_count": 35,
   "metadata": {
    "collapsed": false
   },
   "outputs": [],
   "source": [
    "model.reactions.ALAD_Li.id = 'ALAD_L'"
   ]
  },
  {
   "cell_type": "markdown",
   "metadata": {},
   "source": [
    "'ALAD_L' is the ID in the Universal BiGG Database, however in each of the 5 models this reaction is actually irreversible (but missing the i in the ID)."
   ]
  },
  {
   "cell_type": "code",
   "execution_count": 36,
   "metadata": {
    "collapsed": false
   },
   "outputs": [],
   "source": [
    "model.reactions.GHMT2.id = 'GHMT2r'"
   ]
  },
  {
   "cell_type": "code",
   "execution_count": 37,
   "metadata": {
    "collapsed": false
   },
   "outputs": [],
   "source": [
    "model.reactions.SERD_Li.id = 'SERD_L'"
   ]
  },
  {
   "cell_type": "code",
   "execution_count": 38,
   "metadata": {
    "collapsed": false
   },
   "outputs": [
    {
     "data": {
      "text/html": [
       "\n",
       "        <table>\n",
       "            <tr>\n",
       "                <td><strong>Id</strong></td><td>SHK3Di</td>\n",
       "            </tr>\n",
       "            <tr>\n",
       "                <td><strong>Name</strong></td><td>1 H(+) + 1 NADPH + 1 3-Dehydroshikimate = 1 NADP(+) + 1 shikimate</td>\n",
       "            </tr>\n",
       "            <tr>\n",
       "                <td><strong>Stoichiometry</strong></td><td>3dhsk_c + h_c + nadph_c --> nadp_c + skm_c</td>\n",
       "            </tr>\n",
       "            <tr>\n",
       "                <td><strong>GPR</strong></td><td>MCA2794</td>\n",
       "            </tr>\n",
       "            <tr>\n",
       "                <td><strong>Lower bound</strong></td><td>0.000000</td>\n",
       "            </tr>\n",
       "            <tr>\n",
       "                <td><strong>Upper bound</strong></td><td>1000.000000</td>\n",
       "            </tr>\n",
       "        </table>\n",
       "        "
      ],
      "text/plain": [
       "<Reaction SHK3Di at 0x108e9f950>"
      ]
     },
     "execution_count": 38,
     "metadata": {},
     "output_type": "execute_result"
    }
   ],
   "source": [
    "model.reactions.SHK3Di"
   ]
  },
  {
   "cell_type": "markdown",
   "metadata": {},
   "source": [
    "'SHK3Dr' in BiGG Universal. It is reversible in many of the Ecoli models. I am making the decision to keep this one irreversible (in order to keep the model functional as it is right now), but this should probably be looked at later!"
   ]
  },
  {
   "cell_type": "code",
   "execution_count": 39,
   "metadata": {
    "collapsed": false
   },
   "outputs": [],
   "source": [
    "model.reactions.DHQDi.id = 'DQDHi'"
   ]
  },
  {
   "cell_type": "markdown",
   "metadata": {},
   "source": [
    "I am making the decision to keep this one irreversible (in order to keep the model functional as it is right now), but this should probably be looked at later!"
   ]
  },
  {
   "cell_type": "code",
   "execution_count": 40,
   "metadata": {
    "collapsed": false
   },
   "outputs": [
    {
     "data": {
      "text/html": [
       "\n",
       "        <table>\n",
       "            <tr>\n",
       "                <td><strong>Id</strong></td><td>LDH_Di</td>\n",
       "            </tr>\n",
       "            <tr>\n",
       "                <td><strong>Name</strong></td><td>1 H(+) + 1 NADH(2-) + 1 pyruvate = 1 (R)-lactate + 1 NAD(+)</td>\n",
       "            </tr>\n",
       "            <tr>\n",
       "                <td><strong>Stoichiometry</strong></td><td>h_c + nadh_c + pyr_c --> lac_D_c + nad_c</td>\n",
       "            </tr>\n",
       "            <tr>\n",
       "                <td><strong>GPR</strong></td><td>MCA0182</td>\n",
       "            </tr>\n",
       "            <tr>\n",
       "                <td><strong>Lower bound</strong></td><td>0.000000</td>\n",
       "            </tr>\n",
       "            <tr>\n",
       "                <td><strong>Upper bound</strong></td><td>1000.000000</td>\n",
       "            </tr>\n",
       "        </table>\n",
       "        "
      ],
      "text/plain": [
       "<Reaction LDH_Di at 0x113fc13d0>"
      ]
     },
     "execution_count": 40,
     "metadata": {},
     "output_type": "execute_result"
    }
   ],
   "source": [
    "model.reactions.LDH_Di"
   ]
  },
  {
   "cell_type": "markdown",
   "metadata": {},
   "source": [
    "'LDH_D' in BiGG Universal and many of the models and reversible accordingly. Keeping it as it is for now, should be looked at later."
   ]
  },
  {
   "cell_type": "code",
   "execution_count": 41,
   "metadata": {
    "collapsed": false
   },
   "outputs": [
    {
     "data": {
      "text/html": [
       "\n",
       "        <table>\n",
       "            <tr>\n",
       "                <td><strong>Id</strong></td><td>MICITDi</td>\n",
       "            </tr>\n",
       "            <tr>\n",
       "                <td><strong>Name</strong></td><td>1 (2S,3R)-3-hydroxybutane-1,2,3-tricarboxylate = 1 (Z)-but-2-ene-1,2,3-tricarboxylate + 1 H2O</td>\n",
       "            </tr>\n",
       "            <tr>\n",
       "                <td><strong>Stoichiometry</strong></td><td>micit_c --> 2mcacn_c + h2o_c</td>\n",
       "            </tr>\n",
       "            <tr>\n",
       "                <td><strong>GPR</strong></td><td>MCA2485</td>\n",
       "            </tr>\n",
       "            <tr>\n",
       "                <td><strong>Lower bound</strong></td><td>0.000000</td>\n",
       "            </tr>\n",
       "            <tr>\n",
       "                <td><strong>Upper bound</strong></td><td>1000.000000</td>\n",
       "            </tr>\n",
       "        </table>\n",
       "        "
      ],
      "text/plain": [
       "<Reaction MICITDi at 0x113fbdc10>"
      ]
     },
     "execution_count": 41,
     "metadata": {},
     "output_type": "execute_result"
    }
   ],
   "source": [
    "model.reactions.MICITDi"
   ]
  },
  {
   "cell_type": "markdown",
   "metadata": {},
   "source": [
    "'MICITDr' in BiGG Universal and many of the models and reversible accordingly. Keeping it as it is for now, should be looked at later."
   ]
  },
  {
   "cell_type": "code",
   "execution_count": 42,
   "metadata": {
    "collapsed": false
   },
   "outputs": [],
   "source": [
    "model.reactions.NAD_H2i.id = 'NAD_H2'"
   ]
  },
  {
   "cell_type": "markdown",
   "metadata": {},
   "source": [
    "'NAD_H2' in and reversible BiGG Universal, but in the only other model that of Geobacter metallireducens iAF987 it is irreversible. So, I'm keeping it like this."
   ]
  },
  {
   "cell_type": "code",
   "execution_count": 43,
   "metadata": {
    "collapsed": false
   },
   "outputs": [],
   "source": [
    "model.reactions.FMFRDi.id = 'FMFRDHi'"
   ]
  },
  {
   "cell_type": "code",
   "execution_count": 44,
   "metadata": {
    "collapsed": false
   },
   "outputs": [],
   "source": [
    "model.reactions.sMMOi.id = 'SMMOi'"
   ]
  },
  {
   "cell_type": "code",
   "execution_count": 45,
   "metadata": {
    "collapsed": false
   },
   "outputs": [],
   "source": [
    "model.reactions.ACP1_FMNi.id = 'ACP1_FMN'"
   ]
  },
  {
   "cell_type": "markdown",
   "metadata": {},
   "source": [
    "'ACP1_FMN' in and reversible BiGG Universal, but in the other models it is irreversible. So, I'm keeping it like this, even if it should have an 'i' tag."
   ]
  },
  {
   "cell_type": "code",
   "execution_count": 46,
   "metadata": {
    "collapsed": false
   },
   "outputs": [
    {
     "data": {
      "text/html": [
       "\n",
       "        <table>\n",
       "            <tr>\n",
       "                <td><strong>Id</strong></td><td>NNATi</td>\n",
       "            </tr>\n",
       "            <tr>\n",
       "                <td><strong>Name</strong></td><td>1 H(+) + 1 nicotinate beta-D-ribonucleotide + 1 ATP = 1 diphosphate(3-) + 1 deamido-NAD(2-)</td>\n",
       "            </tr>\n",
       "            <tr>\n",
       "                <td><strong>Stoichiometry</strong></td><td>atp_c + h_c + nicrnt_c --> dnad_c + ppi_c</td>\n",
       "            </tr>\n",
       "            <tr>\n",
       "                <td><strong>GPR</strong></td><td>MCA1879</td>\n",
       "            </tr>\n",
       "            <tr>\n",
       "                <td><strong>Lower bound</strong></td><td>0.000000</td>\n",
       "            </tr>\n",
       "            <tr>\n",
       "                <td><strong>Upper bound</strong></td><td>1000.000000</td>\n",
       "            </tr>\n",
       "        </table>\n",
       "        "
      ],
      "text/plain": [
       "<Reaction NNATi at 0x113faee10>"
      ]
     },
     "execution_count": 46,
     "metadata": {},
     "output_type": "execute_result"
    }
   ],
   "source": [
    "model.reactions.NNATi"
   ]
  },
  {
   "cell_type": "markdown",
   "metadata": {},
   "source": [
    "'NNATr' is the id in the Universal BiGG Database. It is reversible in many of models. I am making the decision to keep this one irreversible (in order to keep the model functional as it is right now), but this should probably be looked at later!"
   ]
  },
  {
   "cell_type": "code",
   "execution_count": 47,
   "metadata": {
    "collapsed": false
   },
   "outputs": [],
   "source": [
    "model.reactions.NORppi.id = 'NORZ2pp'"
   ]
  },
  {
   "cell_type": "markdown",
   "metadata": {},
   "source": [
    "Similar to NORZpp but using Cytochrome C instead."
   ]
  },
  {
   "cell_type": "code",
   "execution_count": 48,
   "metadata": {
    "collapsed": false
   },
   "outputs": [
    {
     "name": "stdout",
     "output_type": "stream",
     "text": [
      "0.260266144209\n"
     ]
    }
   ],
   "source": [
    "print model.solve().f"
   ]
  },
  {
   "cell_type": "code",
   "execution_count": 49,
   "metadata": {
    "collapsed": false
   },
   "outputs": [],
   "source": [
    "model.remove_reactions([model.reactions.PAH])"
   ]
  },
  {
   "cell_type": "code",
   "execution_count": 50,
   "metadata": {
    "collapsed": false
   },
   "outputs": [],
   "source": [
    "model.reactions.GAPDH_nadp_hi.id = 'GAPDH_nadp'"
   ]
  },
  {
   "cell_type": "code",
   "execution_count": 51,
   "metadata": {
    "collapsed": false
   },
   "outputs": [
    {
     "data": {
      "text/html": [
       "\n",
       "        <table>\n",
       "            <tr>\n",
       "                <td><strong>Id</strong></td><td>VPAMTi</td>\n",
       "            </tr>\n",
       "            <tr>\n",
       "                <td><strong>Name</strong></td><td>1 3-methyl-2-oxobutanoate + 1 L-alanine zwitterion = 1 L-valine zwitterion + 1 pyruvate</td>\n",
       "            </tr>\n",
       "            <tr>\n",
       "                <td><strong>Stoichiometry</strong></td><td>3mob_c + ala__L_c --> pyr_c + val__L_c</td>\n",
       "            </tr>\n",
       "            <tr>\n",
       "                <td><strong>GPR</strong></td><td>MCA2344</td>\n",
       "            </tr>\n",
       "            <tr>\n",
       "                <td><strong>Lower bound</strong></td><td>0.000000</td>\n",
       "            </tr>\n",
       "            <tr>\n",
       "                <td><strong>Upper bound</strong></td><td>1000.000000</td>\n",
       "            </tr>\n",
       "        </table>\n",
       "        "
      ],
      "text/plain": [
       "<Reaction VPAMTi at 0x113a8da90>"
      ]
     },
     "execution_count": 51,
     "metadata": {},
     "output_type": "execute_result"
    }
   ],
   "source": [
    "model.reactions.VPAMTi"
   ]
  },
  {
   "cell_type": "markdown",
   "metadata": {},
   "source": [
    "'VPAMTr' is the id in the Universal BiGG Database. It is reversible in many of models. I am making the decision to keep this one irreversible (in order to keep the model functional as it is right now), but this should probably be looked at later!"
   ]
  },
  {
   "cell_type": "code",
   "execution_count": 52,
   "metadata": {
    "collapsed": false
   },
   "outputs": [
    {
     "data": {
      "text/html": [
       "\n",
       "        <table>\n",
       "            <tr>\n",
       "                <td><strong>Id</strong></td><td>DHORD_NADi</td>\n",
       "            </tr>\n",
       "            <tr>\n",
       "                <td><strong>Name</strong></td><td>1 H(+) + 1 NADH(2-) + 1 orotate = 1 (S)-dihydroorotate + 1 NAD(+)</td>\n",
       "            </tr>\n",
       "            <tr>\n",
       "                <td><strong>Stoichiometry</strong></td><td>dhor_S_c + nad_c --> h_c + nadh_c + orot_c</td>\n",
       "            </tr>\n",
       "            <tr>\n",
       "                <td><strong>GPR</strong></td><td>MCA0768 or MCA1242</td>\n",
       "            </tr>\n",
       "            <tr>\n",
       "                <td><strong>Lower bound</strong></td><td>0.000000</td>\n",
       "            </tr>\n",
       "            <tr>\n",
       "                <td><strong>Upper bound</strong></td><td>1000.000000</td>\n",
       "            </tr>\n",
       "        </table>\n",
       "        "
      ],
      "text/plain": [
       "<Reaction DHORD_NADi at 0x113a8ef50>"
      ]
     },
     "execution_count": 52,
     "metadata": {},
     "output_type": "execute_result"
    }
   ],
   "source": [
    "model.reactions.DHORD_NADi"
   ]
  },
  {
   "cell_type": "markdown",
   "metadata": {},
   "source": [
    "'DHORD_NAD' is the id in the Universal BiGG Database. It is reversible in many of models. I am making the decision to keep this one irreversible (in order to keep the model functional as it is right now), but this should probably be looked at later!"
   ]
  },
  {
   "cell_type": "code",
   "execution_count": 53,
   "metadata": {
    "collapsed": false
   },
   "outputs": [
    {
     "data": {
      "text/plain": [
       "frozenset({<Reaction AHMTi at 0x113a92390>,\n",
       "           <Reaction SGAT at 0x113e00410>,\n",
       "           <Reaction GHMT2r at 0x113e00c10>,\n",
       "           <Reaction GCCb at 0x113e11850>})"
      ]
     },
     "execution_count": 53,
     "metadata": {},
     "output_type": "execute_result"
    }
   ],
   "source": [
    "model.genes.MCA1660.reactions"
   ]
  },
  {
   "cell_type": "code",
   "execution_count": 54,
   "metadata": {
    "collapsed": false
   },
   "outputs": [],
   "source": [
    "model.reactions.BIOMASS_REACTIONi.id = 'BIOMASS_Mcapsulatus'"
   ]
  },
  {
   "cell_type": "code",
   "execution_count": 55,
   "metadata": {
    "collapsed": false
   },
   "outputs": [],
   "source": [
    "model.reactions.pMMOppi.id = 'PMMOipp'"
   ]
  },
  {
   "cell_type": "code",
   "execution_count": 56,
   "metadata": {
    "collapsed": false
   },
   "outputs": [],
   "source": [
    "model.reactions.NADH5ppi = 'NADH5'"
   ]
  },
  {
   "cell_type": "code",
   "execution_count": 57,
   "metadata": {
    "collapsed": false
   },
   "outputs": [],
   "source": [
    "model.reactions.MEOHDH_cytppi.id = 'MEOHDHipp'"
   ]
  },
  {
   "cell_type": "code",
   "execution_count": 58,
   "metadata": {
    "collapsed": true
   },
   "outputs": [],
   "source": [
    "model.reactions.MEOHtpp.name = 'Methanol reversible transport via diffusion (periplasm)'"
   ]
  },
  {
   "cell_type": "code",
   "execution_count": 59,
   "metadata": {
    "collapsed": false
   },
   "outputs": [],
   "source": [
    "model.reactions.MEOHtpp.id = 'MEOHtrpp'"
   ]
  },
  {
   "cell_type": "code",
   "execution_count": 60,
   "metadata": {
    "collapsed": false
   },
   "outputs": [],
   "source": [
    "model.reactions.CH4tpp.id = 'CH4trpp'"
   ]
  },
  {
   "cell_type": "code",
   "execution_count": 61,
   "metadata": {
    "collapsed": false
   },
   "outputs": [],
   "source": [
    "model.reactions.FALDDHppi.id = 'FALDDHipp'"
   ]
  },
  {
   "cell_type": "code",
   "execution_count": 62,
   "metadata": {
    "collapsed": false
   },
   "outputs": [],
   "source": [
    "model.reactions.CyLCyHOxpp.id = 'CyLCyHORpp'"
   ]
  },
  {
   "cell_type": "code",
   "execution_count": 63,
   "metadata": {
    "collapsed": false
   },
   "outputs": [],
   "source": [
    "model.reactions.CYTCBDppi.id = 'CYTCBDipp'"
   ]
  },
  {
   "cell_type": "code",
   "execution_count": 64,
   "metadata": {
    "collapsed": false
   },
   "outputs": [],
   "source": [
    "model.reactions.CYTAA3ppi.id = 'CYTAA3ipp'"
   ]
  },
  {
   "cell_type": "code",
   "execution_count": 65,
   "metadata": {
    "collapsed": false
   },
   "outputs": [],
   "source": [
    "model.reactions.ATPShppi.id = 'ATPSipp'"
   ]
  },
  {
   "cell_type": "code",
   "execution_count": 66,
   "metadata": {
    "collapsed": false
   },
   "outputs": [],
   "source": [
    "model.reactions.ATPSNappi.id = 'ATPSNaipp'"
   ]
  },
  {
   "cell_type": "code",
   "execution_count": 67,
   "metadata": {
    "collapsed": false
   },
   "outputs": [],
   "source": [
    "model.reactions.PPAptppi.id = 'PPA3ipp'"
   ]
  },
  {
   "cell_type": "code",
   "execution_count": 68,
   "metadata": {
    "collapsed": false
   },
   "outputs": [],
   "source": [
    "model.reactions.NQRppi.id = 'NADHNQR2ipp'"
   ]
  },
  {
   "cell_type": "code",
   "execution_count": 69,
   "metadata": {
    "collapsed": false
   },
   "outputs": [],
   "source": [
    "model.reactions.h2otpp.id = 'H2Otpp'"
   ]
  },
  {
   "cell_type": "code",
   "execution_count": 70,
   "metadata": {
    "collapsed": false
   },
   "outputs": [],
   "source": [
    "model.reactions.o2tpp.id = 'O2tpp'"
   ]
  },
  {
   "cell_type": "code",
   "execution_count": 71,
   "metadata": {
    "collapsed": false
   },
   "outputs": [],
   "source": [
    "model.reactions.FeoBtpp.gene_reaction_rule = 'MCA1097'"
   ]
  },
  {
   "cell_type": "code",
   "execution_count": 72,
   "metadata": {
    "collapsed": false
   },
   "outputs": [],
   "source": [
    "model.reactions.DES_9_2_Modifiedi.id = 'DES_9i_Modified'"
   ]
  },
  {
   "cell_type": "code",
   "execution_count": 73,
   "metadata": {
    "collapsed": false
   },
   "outputs": [],
   "source": [
    "model.reactions.get_by_id('3OAR150_GAPFILLINGi').id = '3OAR150_Lumped'"
   ]
  },
  {
   "cell_type": "code",
   "execution_count": 74,
   "metadata": {
    "collapsed": true
   },
   "outputs": [],
   "source": [
    "model.reactions.get_by_id('3OAR170_GAPFILLINGi').id = '3OAR170_Lumped'"
   ]
  },
  {
   "cell_type": "code",
   "execution_count": 75,
   "metadata": {
    "collapsed": false
   },
   "outputs": [],
   "source": [
    "model.reactions.CFACPOA2H_Lumpedi.id = 'CFACPOA2H_Lumped'"
   ]
  },
  {
   "cell_type": "code",
   "execution_count": 76,
   "metadata": {
    "collapsed": false
   },
   "outputs": [],
   "source": [
    "model.reactions.OBDHi.id = 'OBDHc'"
   ]
  },
  {
   "cell_type": "markdown",
   "metadata": {},
   "source": [
    "This reaction is tagged with a 'c' which it technically shouldn't need. It is also reversible in the Universal reaction Database but not in any of the models uploaded."
   ]
  },
  {
   "cell_type": "code",
   "execution_count": 77,
   "metadata": {
    "collapsed": true
   },
   "outputs": [],
   "source": [
    "model.reactions.DM_4hba_ci.id = 'DM_4hba_c'"
   ]
  },
  {
   "cell_type": "code",
   "execution_count": 78,
   "metadata": {
    "collapsed": true
   },
   "outputs": [],
   "source": [
    "model.reactions.CLPNS_MCi.id = 'CLPNS_MC'"
   ]
  },
  {
   "cell_type": "code",
   "execution_count": 79,
   "metadata": {
    "collapsed": true
   },
   "outputs": [],
   "source": [
    "model.reactions.MC_AFAAi.id = 'MC_AFAA'"
   ]
  },
  {
   "cell_type": "code",
   "execution_count": 80,
   "metadata": {
    "collapsed": true
   },
   "outputs": [],
   "source": [
    "model.reactions.DM_doxopa_ci.id = 'DM_doxopa_c'"
   ]
  },
  {
   "cell_type": "code",
   "execution_count": 81,
   "metadata": {
    "collapsed": false
   },
   "outputs": [],
   "source": [
    "model.reactions.AMOsi.id = 'SAMMOi'"
   ]
  },
  {
   "cell_type": "code",
   "execution_count": 82,
   "metadata": {
    "collapsed": false
   },
   "outputs": [],
   "source": [
    "model.reactions.AMOpppi.id = 'PAMMOipp'"
   ]
  },
  {
   "cell_type": "code",
   "execution_count": 83,
   "metadata": {
    "collapsed": false
   },
   "outputs": [],
   "source": [
    "model.reactions.NH3pp.id = 'NH3tpp'"
   ]
  },
  {
   "cell_type": "code",
   "execution_count": 84,
   "metadata": {
    "collapsed": false
   },
   "outputs": [],
   "source": [
    "model.reactions.HAMpp.id = 'HAMtpp'"
   ]
  },
  {
   "cell_type": "code",
   "execution_count": 85,
   "metadata": {
    "collapsed": false
   },
   "outputs": [],
   "source": [
    "model.reactions.NO2pp.id = 'NO2tpp'"
   ]
  },
  {
   "cell_type": "code",
   "execution_count": 86,
   "metadata": {
    "collapsed": false
   },
   "outputs": [],
   "source": [
    "model.reactions.CYP460ppi.id = 'CYP460ipp'"
   ]
  },
  {
   "cell_type": "code",
   "execution_count": 87,
   "metadata": {
    "collapsed": false
   },
   "outputs": [],
   "source": [
    "model.reactions.HAOppi.id = 'HAORipp'"
   ]
  },
  {
   "cell_type": "code",
   "execution_count": 88,
   "metadata": {
    "collapsed": false
   },
   "outputs": [],
   "source": [
    "model.reactions.no3t_omi.id = 'NO3tex'"
   ]
  },
  {
   "cell_type": "code",
   "execution_count": 89,
   "metadata": {
    "collapsed": false
   },
   "outputs": [],
   "source": [
    "model.reactions.NO3abcppppi.id = 'NO3abcpp'"
   ]
  },
  {
   "cell_type": "code",
   "execution_count": 90,
   "metadata": {
    "collapsed": false
   },
   "outputs": [],
   "source": [
    "model.reactions.NO3t7pppp.id = 'NO3t7pp'"
   ]
  },
  {
   "cell_type": "code",
   "execution_count": 91,
   "metadata": {
    "collapsed": false
   },
   "outputs": [
    {
     "data": {
      "text/html": [
       "\n",
       "        <table>\n",
       "            <tr>\n",
       "                <td><strong>Id</strong></td><td>ALAD_L</td>\n",
       "            </tr>\n",
       "            <tr>\n",
       "                <td><strong>Name</strong></td><td>1 H2O + 1 L-alanine zwitterion + 1 NAD(+) = 1 H(+) + 1 NADH(2-) + 1 NH4(+) + 1 pyruvate</td>\n",
       "            </tr>\n",
       "            <tr>\n",
       "                <td><strong>Stoichiometry</strong></td><td>h_c + nadh_c + nh3_c + pyr_c --> ala__L_c + h2o_c + nad_c</td>\n",
       "            </tr>\n",
       "            <tr>\n",
       "                <td><strong>GPR</strong></td><td>MCA0563 or MCA1406</td>\n",
       "            </tr>\n",
       "            <tr>\n",
       "                <td><strong>Lower bound</strong></td><td>0.000000</td>\n",
       "            </tr>\n",
       "            <tr>\n",
       "                <td><strong>Upper bound</strong></td><td>1000.000000</td>\n",
       "            </tr>\n",
       "        </table>\n",
       "        "
      ],
      "text/plain": [
       "<Reaction ALAD_L at 0x1134f8990>"
      ]
     },
     "execution_count": 91,
     "metadata": {},
     "output_type": "execute_result"
    }
   ],
   "source": [
    "model.reactions.ALAD_L"
   ]
  },
  {
   "cell_type": "code",
   "execution_count": 92,
   "metadata": {
    "collapsed": false
   },
   "outputs": [],
   "source": [
    "model.remove_reactions([model.reactions.ALAD_Lyi])"
   ]
  },
  {
   "cell_type": "code",
   "execution_count": 93,
   "metadata": {
    "collapsed": false
   },
   "outputs": [],
   "source": [
    "model.reactions.pMMO_dir_couplppi.name = 'particulate Methane Monooxygenase - Direct Coupling' \n",
    "model.reactions.pMMO_dir_couplppi.id = 'PMMODCipp'"
   ]
  },
  {
   "cell_type": "code",
   "execution_count": 94,
   "metadata": {
    "collapsed": false
   },
   "outputs": [
    {
     "data": {
      "text/plain": [
       "75"
      ]
     },
     "execution_count": 94,
     "metadata": {},
     "output_type": "execute_result"
    }
   ],
   "source": [
    "BiGG_ID_y_n = ident_BiGG_rxn_id_matches(model.reactions,bigg_uni_rxn_dump_dict)\n",
    "\n",
    "non_bigg_ids = filter(lambda x: x != 'matched', BiGG_ID_y_n)\n",
    "\n",
    "len(non_bigg_ids)"
   ]
  },
  {
   "cell_type": "code",
   "execution_count": 95,
   "metadata": {
    "collapsed": false
   },
   "outputs": [
    {
     "data": {
      "text/plain": [
       "7"
      ]
     },
     "execution_count": 95,
     "metadata": {},
     "output_type": "execute_result"
    }
   ],
   "source": [
    "len([x for x in model.metabolites if x.formula == ''])"
   ]
  },
  {
   "cell_type": "code",
   "execution_count": 96,
   "metadata": {
    "collapsed": false
   },
   "outputs": [
    {
     "data": {
      "text/plain": [
       "[<Metabolite dna_c at 0x113b3a4d0>,\n",
       " <Metabolite dnac_c at 0x113af7b10>,\n",
       " <Metabolite pepd_c at 0x113a9a890>,\n",
       " <Metabolite sertrna_sec__c at 0x11402ab50>,\n",
       " <Metabolite focytb5_c at 0x11402aed0>,\n",
       " <Metabolite ficytb5_c at 0x11402af50>,\n",
       " <Metabolite no3_e at 0x114091e50>]"
      ]
     },
     "execution_count": 96,
     "metadata": {},
     "output_type": "execute_result"
    }
   ],
   "source": [
    "[x for x in model.metabolites if x.formula == '']"
   ]
  },
  {
   "cell_type": "code",
   "execution_count": 97,
   "metadata": {
    "collapsed": false
   },
   "outputs": [],
   "source": [
    "model.metabolites.dnac_c.formula = 'X'"
   ]
  },
  {
   "cell_type": "code",
   "execution_count": 98,
   "metadata": {
    "collapsed": false
   },
   "outputs": [],
   "source": [
    "model.metabolites.dna5mtc_c.formula = 'XCH2'"
   ]
  },
  {
   "cell_type": "code",
   "execution_count": 99,
   "metadata": {
    "collapsed": false
   },
   "outputs": [],
   "source": [
    "model.remove_reactions([model.reactions.EX_dna_c,\n",
    "                        model.reactions.EX_pepd_c,\n",
    "                        model.reactions.EX_sertrna_sec__c,\n",
    "                        model.reactions.EX_focytb5_c,\n",
    "                        model.reactions.EX_ficytb5_c],remove_orphans=True)"
   ]
  },
  {
   "cell_type": "code",
   "execution_count": 100,
   "metadata": {
    "collapsed": false
   },
   "outputs": [],
   "source": [
    "model.metabolites.no3_e.formula = 'NO3'"
   ]
  },
  {
   "cell_type": "code",
   "execution_count": 101,
   "metadata": {
    "collapsed": false
   },
   "outputs": [
    {
     "data": {
      "text/plain": [
       "0"
      ]
     },
     "execution_count": 101,
     "metadata": {},
     "output_type": "execute_result"
    }
   ],
   "source": [
    "len([x for x in model.metabolites if x.formula == ''])"
   ]
  },
  {
   "cell_type": "code",
   "execution_count": 102,
   "metadata": {
    "collapsed": false
   },
   "outputs": [
    {
     "data": {
      "text/plain": [
       "1466"
      ]
     },
     "execution_count": 102,
     "metadata": {},
     "output_type": "execute_result"
    }
   ],
   "source": [
    "len(model.reactions)"
   ]
  },
  {
   "cell_type": "code",
   "execution_count": 103,
   "metadata": {
    "collapsed": false,
    "scrolled": true
   },
   "outputs": [
    {
     "data": {
      "text/plain": [
       "75"
      ]
     },
     "execution_count": 103,
     "metadata": {},
     "output_type": "execute_result"
    }
   ],
   "source": [
    "len(non_bigg_ids)"
   ]
  },
  {
   "cell_type": "code",
   "execution_count": 104,
   "metadata": {
    "collapsed": false
   },
   "outputs": [
    {
     "data": {
      "text/plain": [
       "657"
      ]
     },
     "execution_count": 104,
     "metadata": {},
     "output_type": "execute_result"
    }
   ],
   "source": [
    "len(model.genes)"
   ]
  },
  {
   "cell_type": "code",
   "execution_count": 105,
   "metadata": {
    "collapsed": false
   },
   "outputs": [
    {
     "data": {
      "text/plain": [
       "178"
      ]
     },
     "execution_count": 105,
     "metadata": {},
     "output_type": "execute_result"
    }
   ],
   "source": [
    "len(model.essential_genes())"
   ]
  },
  {
   "cell_type": "code",
   "execution_count": 106,
   "metadata": {
    "collapsed": false
   },
   "outputs": [
    {
     "data": {
      "text/plain": [
       "334"
      ]
     },
     "execution_count": 106,
     "metadata": {},
     "output_type": "execute_result"
    }
   ],
   "source": [
    "len(model.essential_reactions())"
   ]
  },
  {
   "cell_type": "code",
   "execution_count": 107,
   "metadata": {
    "collapsed": false
   },
   "outputs": [],
   "source": [
    "from cameo import flux_variability_analysis\n",
    "\n",
    "cameo_model_fva = model.copy()\n",
    "\n",
    "for rxn in cameo_model_fva.reactions:\n",
    "    if rxn.id.startswith(\"DM_\") or  rxn.id.startswith(\"EX_\"):\n",
    "        rxn.upper_bound = 1000\n",
    "        rxn.lower_bound = -1000"
   ]
  },
  {
   "cell_type": "code",
   "execution_count": 108,
   "metadata": {
    "collapsed": true
   },
   "outputs": [],
   "source": [
    "fva_result = flux_variability_analysis(cameo_model_fva, reactions=cameo_model_fva.reactions)"
   ]
  },
  {
   "cell_type": "code",
   "execution_count": 109,
   "metadata": {
    "collapsed": false
   },
   "outputs": [],
   "source": [
    "blocked_reactions = fva_result.data_frame.query('lower_bound == 0 & upper_bound == 0')"
   ]
  },
  {
   "cell_type": "code",
   "execution_count": 110,
   "metadata": {
    "collapsed": false
   },
   "outputs": [
    {
     "data": {
      "text/plain": [
       "186"
      ]
     },
     "execution_count": 110,
     "metadata": {},
     "output_type": "execute_result"
    }
   ],
   "source": [
    "len(blocked_reactions)"
   ]
  },
  {
   "cell_type": "code",
   "execution_count": 111,
   "metadata": {
    "collapsed": false
   },
   "outputs": [
    {
     "data": {
      "text/plain": [
       "746"
      ]
     },
     "execution_count": 111,
     "metadata": {},
     "output_type": "execute_result"
    }
   ],
   "source": [
    "len([x for x in model.reactions if not x.id.startswith('EX_') and not x.id.startswith('DM_')])"
   ]
  },
  {
   "cell_type": "code",
   "execution_count": 112,
   "metadata": {
    "collapsed": true
   },
   "outputs": [],
   "source": [
    "import pytest"
   ]
  },
  {
   "cell_type": "code",
   "execution_count": 113,
   "metadata": {
    "collapsed": false
   },
   "outputs": [],
   "source": [
    "model.objective = model.reactions.EX_atp_c"
   ]
  },
  {
   "cell_type": "code",
   "execution_count": 114,
   "metadata": {
    "collapsed": false
   },
   "outputs": [
    {
     "data": {
      "text/html": [
       "\n",
       "        <table>\n",
       "            <tr>\n",
       "                <td><strong>Id</strong></td><td>EX_atp_c</td>\n",
       "            </tr>\n",
       "            <tr>\n",
       "                <td><strong>Name</strong></td><td>ATP exchange</td>\n",
       "            </tr>\n",
       "            <tr>\n",
       "                <td><strong>Stoichiometry</strong></td><td>atp_c --> </td>\n",
       "            </tr>\n",
       "            <tr>\n",
       "                <td><strong>GPR</strong></td><td></td>\n",
       "            </tr>\n",
       "            <tr>\n",
       "                <td><strong>Lower bound</strong></td><td>0.000000</td>\n",
       "            </tr>\n",
       "            <tr>\n",
       "                <td><strong>Upper bound</strong></td><td>1000.000000</td>\n",
       "            </tr>\n",
       "        </table>\n",
       "        "
      ],
      "text/plain": [
       "<Reaction EX_atp_c at 0x114001750>"
      ]
     },
     "execution_count": 114,
     "metadata": {},
     "output_type": "execute_result"
    }
   ],
   "source": [
    "model.reactions.EX_atp_c"
   ]
  },
  {
   "cell_type": "code",
   "execution_count": 115,
   "metadata": {
    "collapsed": false
   },
   "outputs": [],
   "source": [
    "name_dict = {}\n",
    "for rxn in model.reactions:\n",
    "    if '=' in rxn.name:\n",
    "        if rxn.id in bigg_uni_rxn_dump_dict:\n",
    "            if 'name' in bigg_uni_rxn_dump_dict[rxn.id]:\n",
    "                name_dict[rxn.id] = bigg_uni_rxn_dump_dict[rxn.id]['name']"
   ]
  },
  {
   "cell_type": "code",
   "execution_count": 116,
   "metadata": {
    "collapsed": false
   },
   "outputs": [
    {
     "data": {
      "text/plain": [
       "574"
      ]
     },
     "execution_count": 116,
     "metadata": {},
     "output_type": "execute_result"
    }
   ],
   "source": [
    "len(name_dict)"
   ]
  },
  {
   "cell_type": "code",
   "execution_count": 117,
   "metadata": {
    "collapsed": false
   },
   "outputs": [],
   "source": [
    "model.reactions.FeoBtpp.id = 'FE2tpp'"
   ]
  },
  {
   "cell_type": "code",
   "execution_count": 118,
   "metadata": {
    "collapsed": false
   },
   "outputs": [
    {
     "name": "stdout",
     "output_type": "stream",
     "text": [
      "FBA: fdp_c <=> dhap_c + g3p_c Fructose-bisphosphate aldolase\n",
      "ALCD2ir: etoh_c + nad_c --> acald_c + h_c + nadh_c Alcohol dehydrogenase  reverse rxn  acetaldehyde   ethanol \n",
      "PDHam1hi: h_c + pyr_c + thmpp_c --> 2ahethmpp_c + co2_c Pyruvate dehydrogenase (acetyl-transferring)\n",
      "PYK: adp_c + h_c + pep_c --> atp_c + pyr_c Pyruvate kinase\n",
      "ENO: 2pg_c <=> h2o_c + pep_c Enolase\n",
      "PGM: 3pg_c <=> 2pg_c Phosphoglycerate mutase\n",
      "GAPD: g3p_c + nad_c + pi_c --> 13dpg_c + h_c + nadh_c Glyceraldehyde-3-phosphate dehydrogenase\n",
      "TPI: dhap_c <=> g3p_c Triose-phosphate isomerase\n",
      "PGIA: f6p_c <=> g6p_A_c Glucose-6-phosphate isomerase (g6p-A)\n",
      "PGCM: g6p_A_c <=> g1p_c Phosphoglucomutase\n",
      "PGI: f6p_c <=> g6p_c Glucose-6-phosphate isomerase\n",
      "G6PI_1: g6p_A_c <=> g6p_c Glucose-6-phosphate isomerase\n",
      "GLUKA: Glc_aD_c + atp_c <=> adp_c + g6p_A_c + h_c Glucokinase/hexokinase (glc-A)\n",
      "PGK: 13dpg_c + adp_c --> 3pg_c + atp_c Phosphoglycerate kinase\n",
      "ACS: ac_c + atp_c + coa_c --> accoa_c + amp_c + ppi_c Acetyl-CoA synthetase\n",
      "SUCOAS: atp_c + coa_c + succ_c <=> adp_c + pi_c + succoa_c Succinyl-CoA synthetase (ADP-forming)\n",
      "ICDHxm: icit_c + nad_c --> akg_c + co2_c + nadh_c Isocitrate dehydrogenase  NAD \n",
      "FUM: fum_c + h2o_c --> mal__L_c Fumarase\n",
      "ACONTb: acon_C_c + h2o_c --> icit_c Aconitase (half-reaction B, Isocitrate hydro-lyase)\n",
      "ACONTa: acon_C_c + h2o_c --> cit_c Aconitase (half-reaction A, Citrate hydro-lyase)\n",
      "CS: accoa_c + h2o_c + oaa_c --> cit_c + coa_c + h_c Citrate synthase\n",
      "MDH: mal__L_c + nad_c --> h_c + nadh_c + oaa_c Malate dehydrogenase\n",
      "EDA: 2ddg6p_c --> g3p_c + pyr_c 2-dehydro-3-deoxy-phosphogluconate aldolase\n",
      "PRPPS: atp_c + r5p_c --> amp_c + h_c + prpp_c Phosphoribosylpyrophosphate synthetase\n",
      "RPI: r5p_c <=> ru5p_D_c Ribose-5-phosphate isomerase\n",
      "RPE: ru5p_D_c <=> xu5p_D_c Ribulose 5-phosphate 3-epimerase\n",
      "TKT2: f6p_c + g3p_c <=> e4p_c + xu5p_D_c Transketolase\n",
      "GND: 6pgc_c + nadp_c --> co2_c + nadph_c + ru5p_D_c Phosphogluconate dehydrogenase\n",
      "PGL: 6pgl_c + h2o_c --> 6pgc_c + h_c 6-phosphogluconolactonase\n",
      "EDD: 6pgc_c --> 2ddg6p_c + h2o_c 6-phosphogluconate dehydratase\n",
      "TALA: e4p_c + f6p_c <=> g3p_c + s7p_c Transaldolase\n",
      "PPM: r1p_c <=> r5p_c Phosphopentomutase\n",
      "GALUi: g1p_c + h_c + utp_c --> ppi_c + udpg_c UTP-glucose-1-phosphate uridylyltransferase (irreversible)\n",
      "UDPGD: h2o_c + 2.0 nad_c + udpg_c --> 3.0 h_c + 2.0 nadh_c + udpglcur_c UDPglucose 6-dehydrogenase\n",
      "MAN6PI: f6p_c --> man6p_c Mannose-6-phosphate isomerase\n",
      "PMANM: man1p_c <=> man6p_c Phosphomannomutase\n",
      "GFUCS: gdpddman_c + h_c + nadph_c --> gdpfuc_c + nadp_c GFUCS\n",
      "GMAND: gdpddman_c + h2o_c --> gdpmann_c GDP-D-mannose dehydratase\n",
      "MAN1PT: gtp_c + h_c + man1p_c --> gdpmann_c + ppi_c Mannose 1 phosphate guanylyltransferase\n",
      "FBA2: dhap_c + glyald_c <=> f1p_c D Fructose 1 phosphate D glyceraldehyde 3 phosphate lyase\n",
      "SUCR: h2o_c + sucr_c --> fru_c + glc__D_c Sucrose hydrolyzing enzyme\n",
      "UDPG4E: udpg_c --> udpgal_c UDPglucose 4-epimerase\n",
      "ACOATA: ACP_c + accoa_c <=> acACP_c + coa_c Acetyl-CoA ACP transacylase\n",
      "KAS14: acACP_c + h_c + malACP_c <=> ACP_c + actACP_c + co2_c Beta-ketoacyl-ACP synthase\n",
      "3OAS160: h_c + malACP_c + myrsACP_c --> 3opalmACP_c + ACP_c + co2_c 3-oxoacyl-[acyl-carrier-protein] synthase (n-C16:0)\n",
      "3OAS140: ddcaACP_c + h_c + malACP_c --> 3omrsACP_c + ACP_c + co2_c 3-oxoacyl-[acyl-carrier-protein] synthase (n-C14:0)\n",
      "3OAS120: dcaACP_c + h_c + malACP_c --> 3oddecACP_c + ACP_c + co2_c 3-oxoacyl-[acyl-carrier-protein] synthase (n-C12:0)\n",
      "3OAS100: h_c + malACP_c + ocACP_c --> 3odecACP_c + ACP_c + co2_c 3-oxoacyl-[acyl-carrier-protein] synthase (n-C10:0)\n",
      "3OAS80: h_c + hexACP_c + malACP_c --> 3ooctACP_c + ACP_c + co2_c 3-oxoacyl-[acyl-carrier-protein] synthase (n-C8:0)\n",
      "3OAS60: butACP_c + h_c + malACP_c --> 3ohexACP_c + ACP_c + co2_c 3-oxoacyl-[acyl-carrier-protein] synthase (n-C6:0)\n",
      "3HAD160: 3hpalmACP_c <=> h2o_c + tpalm2eACP_c 3-hydroxyacyl-[acyl-carrier-protein] dehydratase (n-C16:0)\n",
      "3OAR160: 3opalmACP_c + h_c + nadph_c <=> 3hpalmACP_c + nadp_c 3-oxoacyl-[acyl-carrier-protein] reductase (n-C16:0)\n",
      "EAR140x: h_c + nadh_c + tmrs2eACP_c --> myrsACP_c + nad_c Enoyl-[acyl-carrier-protein] reductase (NADH) (n-C14:0)\n",
      "3HAD140: 3hmrsACP_c <=> h2o_c + tmrs2eACP_c 3-hydroxyacyl-[acyl-carrier-protein] dehydratase (n-C14:0)\n",
      "3OAR140: 3omrsACP_c + h_c + nadph_c <=> 3hmrsACP_c + nadp_c 3-oxoacyl-[acyl-carrier-protein] reductase (n-C14:0)\n",
      "EAR120x: h_c + nadh_c + tddec2eACP_c --> ddcaACP_c + nad_c Enoyl-[acyl-carrier-protein] reductase (NADH) (n-C12:0)\n",
      "3HAD120: 3hddecACP_c <=> h2o_c + tddec2eACP_c 3-hydroxyacyl-[acyl-carrier-protein] dehydratase (n-C12:0)\n",
      "3OAR120: 3oddecACP_c + h_c + nadph_c <=> 3hddecACP_c + nadp_c 3-oxoacyl-[acyl-carrier-protein] reductase (n-C12:0)\n",
      "EAR100x: h_c + nadh_c + tdec2eACP_c --> dcaACP_c + nad_c Enoyl-[acyl-carrier-protein] reductase (NADH) (n-C10:0)\n",
      "3HAD100: h2o_c + tdec2eACP_c <=> 3hdecACP_c 3-hydroxyacyl-[acyl-carrier-protein] dehydratase (n-C10:0)\n",
      "3OAR100: 3odecACP_c + h_c + nadph_c <=> 3hdecACP_c + nadp_c 3-oxoacyl-[acyl-carrier-protein] reductase (n-C10:0)\n",
      "EAR80x: h_c + nadh_c + toct2eACP_c --> nad_c + ocACP_c Enoyl-[acyl-carrier-protein] reductase (NADH) (n-C8:0)\n",
      "3HAD80: 3hoctACP_c <=> h2o_c + toct2eACP_c 3-hydroxyacyl-[acyl-carrier-protein] dehydratase (n-C8:0)\n",
      "3OAR80: 3ooctACP_c + h_c + nadph_c <=> 3hoctACP_c + nadp_c 3-oxoacyl-[acyl-carrier-protein] reductase (n-C8:0)\n",
      "EAR60x: h_c + nadh_c + thex2eACP_c --> hexACP_c + nad_c Enoyl-[acyl-carrier-protein] reductase (NADH) (n-C6:0)\n",
      "3HAD60: 3hhexACP_c <=> h2o_c + thex2eACP_c 3-hydroxyacyl-[acyl-carrier-protein] dehydratase (n-C6:0)\n",
      "3OAR60: 3ohexACP_c + h_c + nadph_c <=> 3hhexACP_c + nadp_c 3-oxoacyl-[acyl-carrier-protein] reductase (n-C6:0)\n",
      "EAR40x: but2eACP_c + h_c + nadh_c --> butACP_c + nad_c Enoyl-[acyl-carrier-protein] reductase (NADH) (n-C4:0)\n",
      "3HAD40_1: 3hbutACP_c <=> but2eACP_c + h2o_c 3-hydroxyacyl-[acyl-carrier-protein] dehydratase (n-C4:0)\n",
      "3OAR40_1: actACP_c + h_c + nadph_c <=> 3hbutACP_c + nadp_c 3-oxoacyl-[acyl-carrier-protein] reductase (n-C4:0)\n",
      "MCOATA: ACP_c + malcoa_c <=> coa_c + malACP_c Malonyl-CoA-ACP transacylase\n",
      "BTNC: atp_c + btnCCP_c + hco3_c --> adp_c + cbtnCCP_c + h_c + pi_c Biotin carboxylase\n",
      "ACCOAC_1: accoa_c + cbtnCCP_c --> btnCCP_c + malcoa_c Acetyl-CoA carboxylase (biotin-dependent)\n",
      "FACOAL160: atp_c + coa_c + hdca_c <=> amp_c + pmtcoa_c + ppi_c Fatty acid  CoA ligase  hexadecanoate \n",
      "DSMSTOLR: dsmsterol_c + h_c + nadph_c --> chsterol_c + nadp_c Desmosterol reductase\n",
      "DDSMSTOLR: ddsmsterol_c + h_c + nadph_c --> 7dhchsterol_c + nadp_c 7-dehydroesmosterol reductase\n",
      "CHLSTR: chlstol_c + h_c + nadph_c --> lthstrl_c + nadp_c 5alpha-cholesta-7,24-dien-3beta-ol D24-reductase\n",
      "ZYMSTR: h_c + nadph_c + zymst_c --> nadp_c + zymstnl_c Zymosterol reductase\n",
      "OHPHM: 2ohph_c + amet_c --> 2omph_c + ahcys_c + h_c 2-octaprenyl-6-hydroxyphenol methylase\n",
      "OPHBDC: 3ophb_c + h_c <=> 2oph_c + co2_c Octaprenyl-hydroxybenzoate decarboxylase\n",
      "CHRPL: chor_c --> 4hbz_c + pyr_c Chorismate pyruvate lyase\n",
      "HBZOPT: 4hbz_c + octdp_c <=> 3ophb_c + ppi_c Hydroxybenzoate octaprenyltransferase\n",
      "DMTPHT: ahcys_c + h_c + phyQ_c --> amet_c + dmtphllqne_c Demethylphylloquinone methyltransferase\n",
      "RNDR2: gdp_c + trdrd_c --> dgdp_c + h2o_c + trdox_c Ribonucleoside-diphosphate reductase (GDP)\n",
      "GLUPRT: gln__L_c + h2o_c + prpp_c --> glu__L_c + ppi_c + pram_c Glutamine phosphoribosyldiphosphate amidotransferase\n",
      "GARFT: 10fthf_c + gar_c --> fgam_c + h_c + thf_c Phosphoribosylglycinamide formyltransferase\n",
      "PRAIS: atp_c + fpram_c --> adp_c + air_c + 2.0 h_c + pi_c Phosphoribosylaminoimidazole synthase\n",
      "AICART: 10fthf_c + aicar_c --> fprica_c + thf_c Phosphoribosylaminoimidazolecarboxamide formyltransferase\n",
      "ADSL2r: 25aics_c <=> aicar_c + fum_c Adenylosuccinate lyase\n",
      "PRASCSi: 5aizc_c + asp__L_c + atp_c --> 25aics_c + adp_c + h_c + pi_c Phosphoribosylaminoimidazolesuccinocarboxamide synthase\n",
      "NDPK8: atp_c + dadp_c --> adp_c + datp_c Nucleoside-diphosphate kinase (ATP:dADP)\n",
      "RNDR1: adp_c + trdrd_c --> dadp_c + h2o_c + trdox_c Ribonucleoside-diphosphate reductase (ADP)\n",
      "ADK1: amp_c + atp_c --> 2.0 adp_c Adenylate kinase\n",
      "ADSS: asp__L_c + gtp_c + imp_c --> dcamp_c + gdp_c + 2.0 h_c + pi_c Adenylosuccinate synthase\n",
      "NTD7: adn_c + pi_c --> amp_c + h2o_c 5'-nucleotidase (AMP)\n",
      "ADNK1: adn_c + atp_c --> adp_c + amp_c + h_c Adenosine kinase\n",
      "ADPT: ade_c + prpp_c --> amp_c + ppi_c Adenine phosphoribosyltransferase\n",
      "NTD6: damp_c + h2o_c <=> dad_2_c + pi_c 5'-nucleotidase (dAMP)\n",
      "NTD11: ins_c + pi_c --> h2o_c + imp_c 5'-nucleotidase (IMP)\n",
      "NDPK9: atp_c + idp_c <=> adp_c + itp_c Nucleoside diphosphate kinase  ATPIDP \n",
      "IMPD: h2o_c + imp_c + nad_c --> h_c + nadh_c + xmp_c IMP dehydrogenase\n",
      "GMPS2: atp_c + gln__L_c + h2o_c + xmp_c --> amp_c + glu__L_c + gmp_c + 2.0 h_c + ppi_c GMP synthase\n",
      "HXPRT: hxan_c + prpp_c --> imp_c + ppi_c Hypoxanthine phosphoribosyltransferase (Hypoxanthine)\n",
      "NTD9: gsn_c + pi_c --> gmp_c + h2o_c 5'-nucleotidase (GMP)\n",
      "XPPT: prpp_c + xan_c --> ppi_c + xmp_c Xanthine phosphoribosyltransferase\n",
      "NTD10: h2o_c + xmp_c --> pi_c + xtsn_c 5'-nucleotidase (XMP)\n",
      "GUAPRT: gua_c + prpp_c --> gmp_c + ppi_c Guanine phosphoribosyltransferase\n",
      "GK1: atp_c + gmp_c --> adp_c + gdp_c Guanylate kinase (GMP:ATP)\n",
      "PPGPPDP: h2o_c + ppgpp_c --> gdp_c + ppi_c Guanosine-3',5'-bis(diphosphate) 3'-diphosphatase\n",
      "GTPDPDP: h_c + pi_c + ppgpp_c --> gdptp_c + h2o_c Guanosine-5'-triphosphate,3'-diphosphate diphosphatase\n",
      "NDPK1: adp_c + gtp_c <=> atp_c + gdp_c Nucleoside-diphosphate kinase (ATP:GDP)\n",
      "DGK1: atp_c + dgmp_c <=> adp_c + dgdp_c Deoxyguanylate kinase (dGMP:ATP)\n",
      "NDPK5: atp_c + dgdp_c <=> adp_c + dgtp_c Nucleoside-diphosphate kinase (ATP:dGDP)\n",
      "NTD8: dgmp_c + h2o_c <=> dgsn_c + pi_c 5'-nucleotidase (dGMP)\n",
      "GTPDPK: amp_c + gdptp_c + h_c --> atp_c + gtp_c GTP diphosphokinase\n",
      "AP4AH: 2.0 adp_c + 2.0 h_c --> ap4a_c + h2o_c Ap4A hydrolase\n",
      "SADT: atp_c + h_c + so4_c --> aps_c + ppi_c Sulfate adenylyltransferase\n",
      "ADSK: aps_c + atp_c --> adp_c + h_c + paps_c Adenylyl-sulfate kinase\n",
      "PRFGS: atp_c + fgam_c + gln__L_c + h2o_c --> adp_c + fpram_c + glu__L_c + h_c + pi_c Phosphoribosylformylglycinamidine synthase\n",
      "NTPP9: h2o_c + itp_c --> h_c + imp_c + ppi_c Nucleoside triphosphate pyrophosphorylase (itp)\n",
      "NTPP2: gtp_c + h2o_c --> gmp_c + h_c + ppi_c Nucleoside triphosphate pyrophosphorylase (gtp)\n",
      "NTPP11: h_c + ppi_c + xmp_c --> h2o_c + xtp_c Nucleoside triphosphate pyrophosphorylase (xtp)\n",
      "NTPP1: dgtp_c + h2o_c --> dgmp_c + h_c + ppi_c Nucleoside triphosphate pyrophosphorylase (dgtp)\n",
      "NTPP6: atp_c + h2o_c --> amp_c + h_c + ppi_c Nucleoside triphosphate pyrophosphorylase (atp)\n",
      "ADPRDP: adprib_c + h2o_c --> amp_c + 2.0 h_c + r5p_c ADPribose diphosphatase\n",
      "DADK: atp_c + damp_c <=> adp_c + dadp_c Deoxyadenylate kinase\n",
      "NDPK10: atp_c + didp_c <=> adp_c + ditp_c Nucleoside-diphosphate kinase (ATP dIDP)\n",
      "NTPP10: ditp_c + h2o_c --> dimp_c + h_c + ppi_c Nucleoside triphosphate pyrophosphorylase (ditp)\n",
      "ADPT2: C04051_c + prpp_c --> aicar_c + ppi_c ADPT2\n",
      "IMPC: fprica_c --> h2o_c + imp_c IMP cyclohydrolase\n",
      "AIRC2: air_c + atp_c + hco3_c --> 5caiz_c + adp_c + h_c + pi_c Phosphoribosylaminoimidazole carboxylase\n",
      "AIRC3: 5caiz_c --> 5aizc_c Phosphoribosylaminoimidazole carboxylase (mutase rxn)\n",
      "RNDR4: trdrd_c + udp_c --> dudp_c + h2o_c + trdox_c Ribonucleoside-diphosphate reductase (UDP)\n",
      "UMPK: atp_c + ump_c --> adp_c + udp_c UMP kinase\n",
      "CBPS: 2.0 atp_c + gln__L_c + h2o_c + hco3_c --> 2.0 adp_c + cbp_c + glu__L_c + 2.0 h_c + pi_c Carbamoyl-phosphate synthase (glutamine-hydrolysing)\n",
      "ASPCT: asp__L_c + cbp_c --> cbasp_c + h_c + pi_c Aspartate carbamoyltransferase\n",
      "DHORTS: cbasp_c + h_c --> dhor_S_c + h2o_c Dihydroorotase\n",
      "DHORDfum: dhor_S_c + fum_c --> orot_c + succ_c Fumarate dependent DHORD\n",
      "ORPT: orot_c + prpp_c --> orot5p_c + ppi_c Orotate phosphoribosyltransferase\n",
      "NDPK2: atp_c + udp_c --> adp_c + utp_c Nucleoside-diphosphate kinase (ATP:UDP)\n",
      "DCTPD2: ctp_c + h2o_c + h_c --> nh3_c + utp_c DCTPD2\n",
      "CTPS2: atp_c + gln__L_c + h2o_c + utp_c --> adp_c + ctp_c + glu__L_c + 2.0 h_c + pi_c CTP synthase (glutamine)\n",
      "UPPRT: prpp_c + ura_c --> ppi_c + ump_c Uracil phosphoribosyltransferase\n",
      "NTD2: h2o_c + ump_c --> pi_c + uri_c 5'-nucleotidase (UMP)\n",
      "NDPK3: atp_c + cdp_c --> adp_c + ctp_c Nucleoside-diphosphate kinase (ATP:CDP)\n",
      "CYTK1: atp_c + cmp_c <=> adp_c + cdp_c Cytidylate kinase (CMP)\n",
      "NTD4: cmp_c + h2o_c --> cytd_c + pi_c 5'-nucleotidase (CMP)\n",
      "CSND: csn_c + h2o_c + h_c --> nh3_c + ura_c Cytosine deaminase\n",
      "TRDR: h_c + nadph_c + trdox_c --> nadp_c + trdrd_c Thioredoxin reductase (NADPH)\n",
      "RNDR3: cdp_c + trdrd_c --> dcdp_c + h2o_c + trdox_c Ribonucleoside-diphosphate reductase (CDP)\n",
      "NDPK7: atp_c + dcdp_c <=> adp_c + dctp_c Nucleoside-diphosphate kinase (ATP:dCDP)\n",
      "DCTPD: dctp_c + h2o_c + h_c --> dutp_c + nh3_c DCTP deaminase\n",
      "CYTK2: atp_c + dcmp_c --> adp_c + dcdp_c Cytidylate kinase (dCMP)\n",
      "NTD3: dcmp_c + h2o_c --> dcyt_c + pi_c 5'-nucleotidase (dCMP)\n",
      "DUTPDP: dutp_c + h2o_c --> dump_c + h_c + ppi_c DUTP diphosphatase\n",
      "NDPK6: atp_c + dudp_c <=> adp_c + dutp_c Nucleoside-diphosphate kinase (ATP:dUDP)\n",
      "URIDK2m: atp_c + dump_c <=> adp_c + dudp_c URIDK2m\n",
      "DURIPP: duri_c + pi_c --> 2dr1p_c + ura_c Deoxyuridine phosphorylase\n",
      "TMDS: dump_c + mlthf_c --> dhf_c + dtmp_c Thymidylate synthase\n",
      "NDPK4: atp_c + dtdp_c <=> adp_c + dttp_c Nucleoside-diphosphate kinase (ATP:dTDP)\n",
      "DTMPK: atp_c + dtmp_c --> adp_c + dtdp_c DTMP kinase\n",
      "NTD5: dtmp_c + h2o_c --> pi_c + thymd_c 5'-nucleotidase (dTMP)\n",
      "TMDPP: pi_c + thymd_c --> 2dr1p_c + thym_c Thymidine phosphorylase\n",
      "OMPDC: h_c + orot5p_c --> co2_c + ump_c Orotidine-5'-phosphate decarboxylase\n",
      "UDPGP: h2o_c + udpg_c --> g1p_c + 2.0 h_c + ump_c UDPGP\n",
      "NTPP8: h_c + ppi_c + ump_c --> h2o_c + utp_c Nucleoside triphosphate pyrophosphorylase (utp)\n",
      "NTPP4: ctp_c + h2o_c --> cmp_c + h_c + ppi_c Nucleoside triphosphate pyrophosphorylase (ctp)\n",
      "ASNS1: asp__L_c + atp_c + gln__L_c + h2o_c --> amp_c + asn__L_c + glu__L_c + h_c + ppi_c Asparagine synthase (glutamine-hydrolysing)\n",
      "ASPO1: asp__L_c + h2o_c + o2_c --> h2o2_c + nh3_c + oaa_c ASPO1\n",
      "ASPTA: akg_c + asp__L_c <=> glu__L_c + oaa_c Aspartate transaminase\n",
      "ARGSS: asp__L_c + atp_c + citr__L_c --> amp_c + argsuc_c + h_c + ppi_c Argininosuccinate synthase\n",
      "ARGSL: argsuc_c --> arg__L_c + fum_c Argininosuccinate lyase\n",
      "AGTi: ala__L_c + glx_c <=> gly_c + pyr_c Alanine glyoxylate aminotransferase  irreversible \n",
      "ALAD_L: h_c + nadh_c + nh3_c + pyr_c --> ala__L_c + h2o_c + nad_c L-alanine dehydrogenase\n",
      "SSALx: 2.0 h_c + nadh_c + succ_c --> h2o_c + nad_c + sucsal_c Succinate-semialdehyde dehydrogenase (NAD)\n",
      "SSALy: 2.0 h_c + nadph_c + succ_c --> h2o_c + nadp_c + sucsal_c Succinate-semialdehyde dehydrogenase (NADP)\n",
      "GLUSy: akg_c + gln__L_c + h_c + nadph_c <=> 2.0 glu__L_c + nadp_c Glutamate synthase (NADPH)\n",
      "GLUSx: akg_c + gln__L_c + h_c + nadh_c --> 2.0 glu__L_c + nad_c Glutamate synthase  NADH2 \n",
      "GLUDxi: glu__L_c + h2o_c + nad_c --> akg_c + h_c + nadh_c + nh3_c Glutamate dehydrogenase  NAD \n",
      "GLUDy: glu__L_c + h2o_c + nadp_c --> akg_c + h_c + nadph_c + nh3_c Glutamate dehydrogenase (NADP)\n",
      "GLNS: atp_c + glu__L_c + nh3_c --> adp_c + gln__L_c + h_c + pi_c Glutamine synthetase\n",
      "GF6PTA: f6p_c + gln__L_c <=> gam6p_c + glu__L_c Glutamine-fructose-6-phosphate transaminase\n",
      "GLYCK: 3pg_c + adp_c + h_c --> atp_c + glyc_R_c Glycerate kinase\n",
      "SGAT: glx_c + ser__L_c --> gly_c + hpyr_c Serine--glyoxylate aminotransferase\n",
      "SPTix: pyr_c + ser__L_c <=> ala__L_c + hpyr_c SPTix\n",
      "ASPK: asp__L_c + atp_c --> 4pasp_c + adp_c Aspartate kinase\n",
      "PSERT: 3php_c + glu__L_c --> akg_c + pser__L_c Phosphoserine transaminase\n",
      "PSP_L: h2o_c + pser__L_c --> pi_c + ser__L_c Phosphoserine phosphatase (L-serine)\n",
      "GHMT2r: ser__L_c + thf_c <=> gly_c + h2o_c + mlthf_c Glycine hydroxymethyltransferase, reversible\n",
      "THRD_L: thr__L_c --> 2obut_c + nh3_c L-threonine deaminase\n",
      "THRS: h2o_c + phom_c --> pi_c + thr__L_c Threonine synthase\n",
      "ASAD: 4pasp_c + h_c + nadph_c --> aspsa_c + nadp_c + pi_c Aspartate-semialdehyde dehydrogenase\n",
      "GCCa: gly_c + h_c + lpro_c --> alpro_c + co2_c Glycine-cleavage complex\n",
      "HSDx: aspsa_c + h_c + nadh_c --> hom__L_c + nad_c HSDx\n",
      "HSDy: aspsa_c + h_c + nadph_c --> hom__L_c + nadp_c Homoserine dehydrogenase (NADPH)\n",
      "GCCb: alpro_c + thf_c --> dhlpro_c + mlthf_c + nh3_c Glycine cleavage complex\n",
      "GCCc: dhlpro_c + nad_c --> h_c + lpro_c + nadh_c Glycine-cleavage complex\n",
      "SERD_L: ser__L_c --> nh3_c + pyr_c L-serine deaminase\n",
      "SERH: g3p_c + h2o_c + trp__L_c --> 3ig3p_c + ser__L_c L-serine hydrolyase\n",
      "GLYTA: akg_c + gly_c <=> glu__L_c + glx_c Glycine transaminase\n",
      "SHSL2r: h2s_c + suchms_c --> h_c + hcys__L_c + succ_c SHSL2r\n",
      "ARD_1: 2kmb_c + for_c + h_c --> 12dmpo_c + o2_c Acireductone dioxygenase\n",
      "ACDO_co: 12dmpo_c + o2_c --> 3mtpa_c + co_c + for_c + h_c Acireductone dioxygenase, CO forming\n",
      "MTRI: 5mdr1p_c --> 5mdru1p_c 5-methylthioribose-1-phosphate isomerase\n",
      "MTAP: 5mdr1p_c + ade_c --> 5mta_c + pi_c 5  methylthioadenosine phosphorylase\n",
      "MTAN: 5mtr_c + ade_c --> 5mta_c + h2o_c Methylthioadenosine nucleosidase\n",
      "SPMS: 5mta_c + h_c + spmd_c --> ametam_c + ptrc_c Spermidine synthase\n",
      "ADMDC: amet_c + h_c --> ametam_c + co2_c Adenosylmethionine decarboxylase\n",
      "METS: 5mthf_c + hcys__L_c --> h_c + met__L_c + thf_c Methionine synthase\n",
      "CYSTL: cyst__L_c + h2o_c --> hcys__L_c + nh3_c + pyr_c Cystathionine b-lyase\n",
      "MHPGLUT: 5mthglu_c + hcys__L_c --> hpglu_c + met__L_c 5 methyltetrahydropteroyltriglutamate homocysteine S methyltransferase\n",
      "METAT: atp_c + h2o_c + met__L_c --> amet_c + pi_c + ppi_c Methionine adenosyltransferase\n",
      "AHCi: ahcys_c + h2o_c --> adn_c + hcys__L_c Adenosylhomocysteinase\n",
      "DMT: ahcys_c + dna5mtc_c + h_c --> amet_c + dnac_c DNA (cytosine-5-)-methyltransferase\n",
      "AHCYSNS: ade_c + rhcys_c --> ahcys_c + h2o_c S-adenosylhomocysteine nucleosidase\n",
      "2OH3K5MPPISO: 2h3kmtp_c + h2o_c --> 12dmpo_c + h_c + pi_c 2-hydroxy-3-keto-5-methylthiopentenyl-1-phosphate phosphatase\n",
      "CYSS: acser_c + h2s_c --> ac_c + cys__L_c + h_c Cysteine synthase\n",
      "SERAT: accoa_c + ser__L_c --> acser_c + coa_c Serine O-acetyltransferase\n",
      "CYSS_trdrd: acser_c + trdrd_c + tsul_c --> ac_c + cys__L_c + h_c + so3_c + trdox_c Cysteine synthase, thioredoxin\n",
      "CYSS2: ac_c + scys__L_c --> acser_c + tsul_c CYSS2\n",
      "LCYSTAT: Lcyst_c + akg_c --> 3spyr_c + glu__L_c LCYSTAT\n",
      "CYSLYSL: Lcystin_c + h2o_c --> nh3_c + pyr_c + thcys_c CYSLYSL\n",
      "3SALATAi: 3sala_c + akg_c + h_c --> 3snpyr_c + glu__L_c 3SALATAi\n",
      "CYSDS: cys__L_c + h2o_c --> h2s_c + nh3_c + pyr_c Cysteine Desulfhydrase\n",
      "HSST: hom__L_c + succoa_c <=> coa_c + suchms_c Homoserine O-succinyltransferase\n",
      "VALTA: 3mob_c + glu__L_c --> akg_c + val__L_c Valine transaminase\n",
      "ILETA: akg_c + ile__L_c <=> 3mop_c + glu__L_c Isoleucine transaminase\n",
      "LEUTA: 4mop_c + glu__L_c --> akg_c + leu__L_c Leucine transaminase\n",
      "CITCIb: citac_c + h2o_c --> r3mmal_c 3-methylmalate hydratase\n",
      "KARI_23dhmp: 3hmop_c + h_c + nadph_c --> 23dhmp_c + nadp_c Ketol-acid reductoisomerase, (R)-2,3-Dihydroxy-3-methylpentanoate forming\n",
      "IPPMIb: 3c3hmp_c <=> 2ippm_c + h2o_c 2-isopropylmalate hydratase\n",
      "IPMD: 3c2hmp_c + nad_c --> 3c4mop_c + h_c + nadh_c 3-isopropylmalate dehydrogenase\n",
      "IPPMIa: 2ippm_c + h2o_c <=> 3c2hmp_c 3-isopropylmalate dehydratase\n",
      "IPPS: 3mob_c + accoa_c + h2o_c --> 3c3hmp_c + coa_c + h_c 2-isopropylmalate synthase\n",
      "DHAD1: 23dhmb_c --> 3mob_c + h2o_c Dihydroxy-acid dehydratase (2,3-dihydroxy-3-methylbutanoate)\n",
      "KARI: 2ahbut_c <=> 3hmop_c Ketol-acid reductoisomerase\n",
      "KARI_3hmoa: 3hmoa_c --> alac_S_c Ketol-acid reductoisomerase,  3-Hydroxy-3-methyl-2-oxobutanoic acid forming\n",
      "DHAD2: 23dhmp_c --> 3mop_c + h2o_c Dihydroxy-acid dehydratase (2,3-dihydroxy-3-methylpentanoate)\n",
      "KARI_23dhmb: 3hmoa_c + h_c + nadph_c --> 23dhmb_c + nadp_c Ketol-acid reductoisomerase, (R)-2,3-Dihydroxy-3-methylbutanoate forming\n",
      "ACHBS: 2obut_c + h_c + pyr_c --> 2ahbut_c + co2_c 2-aceto-2-hydroxybutanoate synthase\n",
      "ACLS: h_c + 2.0 pyr_c --> alac_S_c + co2_c Acetolactate synthase\n",
      "UGMDDS: alaala_c + atp_c + ugmd_c --> adp_c + h_c + pi_c + ugmda_c UDP-N-acetylmuramoyl-L-alanyl-D-glutamyl-meso-2,6-diaminopimeloyl-D-alanyl-D-alanine synthetase\n",
      "DHDPRy: 23dhdp_c + h_c + nadph_c --> nadp_c + thdp_c Dihydrodipicolinate reductase (NADPH)\n",
      "THDPS: h2o_c + succoa_c + thdp_c --> coa_c + sl2a6o_c Tetrahydrodipicolinate succinylase\n",
      "SDPTA: glu__L_c + sl2a6o_c <=> akg_c + sl26da_c Succinyldiaminopimelate transaminase\n",
      "SDPDS: h2o_c + sl26da_c --> 26dap_LL_c + succ_c Succinyl-diaminopimelate desuccinylase\n",
      "DAPE: 26dap_LL_c <=> 26dap_M_c Diaminopimelate epimerase\n",
      "DAPDC: 26dap_M_c + h_c --> co2_c + lys__L_c Diaminopimelate decarboxylase\n",
      "HCITS: accoa_c + akg_c + h2o_c --> coa_c + h_c + hcit_c Homocitrate synthase\n",
      "UAAGDS: 26dap_M_c + atp_c + uamag_c --> adp_c + h_c + pi_c + ugmd_c UDP-N-acetylmuramoyl-L-alanyl-D-glutamyl-meso-2,6-diaminopimelate synthetase\n",
      "ACGS: accoa_c + glu__L_c --> acglu_c + coa_c + h_c N-acetylglutamate synthase\n",
      "ACGK: acglu_c + atp_c --> acg5p_c + adp_c Acetylglutamate kinase\n",
      "AGPR: acg5p_c + h_c + nadph_c --> acg5sa_c + nadp_c + pi_c N-acetyl-g-glutamyl-phosphate reductase\n",
      "ACOTA: acg5sa_c + glu__L_c --> acorn_c + akg_c Acetylornithine transaminase\n",
      "ACODA: acorn_c + h2o_c --> ac_c + orn_c Acetylornithine deacetylase\n",
      "ORNTAC: acorn_c + glu__L_c --> acglu_c + orn_c Ornithine transacetylase\n",
      "ORNTA: akg_c + orn_c --> glu5sa_c + glu__L_c Ornithine transaminase\n",
      "P5CRx: 1pyr5c_c + 2.0 h_c + nadh_c --> nad_c + pro__L_c P5CRx\n",
      "P5CR: 1pyr5c_c + 2.0 h_c + nadph_c --> nadp_c + pro__L_c Pyrroline-5-carboxylate reductase\n",
      "HPROa: 1p3h5c_c + 2.0 h_c + nadh_c --> 4hpro_LT_c + nad_c L hydroxyproline reductase  NAD \n",
      "HPROb: 1p3h5c_c + 2.0 h_c + nadph_c --> 4hpro_LT_c + nadp_c L hydroxyproline reductase  NADP \n",
      "ARGDC: arg__L_c + h_c --> agm_c + co2_c Arginine decarboxylase\n",
      "GLU5K: atp_c + glu__L_c --> adp_c + glu5p_c Glutamate 5-kinase\n",
      "G5SD: glu5p_c + h_c + nadph_c --> glu5sa_c + nadp_c + pi_c Glutamate-5-semialdehyde dehydrogenase\n",
      "CSPMDDC: cspmd_c + h_c --> co2_c + spmd_c Carboxynorspermidine decarboxylase\n",
      "SPRMS: 5mta_c + h_c + sprm_c --> ametam_c + spmd_c Spermine synthase\n",
      "HISDC: h_c + his__L_c --> co2_c + hista_c HISDC\n",
      "ATPPRT: atp_c + prpp_c --> ppi_c + prbatp_c ATP phosphoribosyltransferase\n",
      "HSTPT: glu__L_c + imacp_c --> akg_c + hisp_c Histidinol-phosphate transaminase\n",
      "IGPDH: eig3p_c --> h2o_c + imacp_c Imidazoleglycerol-phosphate dehydratase\n",
      "PRMICI: prfp_c --> prlp_c 1-(5-phosphoribosyl)-5-[(5-phosphoribosylamino)methylideneamino)imidazole-4-carboxamide isomerase\n",
      "PRAMPC: h2o_c + prbamp_c --> prfp_c Phosphoribosyl-AMP cyclohydrolase\n",
      "PRATPP: h2o_c + prbatp_c --> h_c + ppi_c + prbamp_c Phosphoribosyl-ATP pyrophosphatase\n",
      "IG3PS: gln__L_c + prlp_c --> aicar_c + eig3p_c + glu__L_c + h_c Imidazole-glycerol-3-phosphate synthase\n",
      "34DHOXPEGOX: 34dhmald_c + h_c + nadh_c <=> 34dhoxpeg_c + nad_c 3,4-Dihydroxyphenylethyleneglycol NAD+ oxidoreductase\n",
      "TYRTA: 34hpp_c + glu__L_c --> akg_c + tyr__L_c Tyrosine transaminase\n",
      "PACCOAL: amp_c + phaccoa_c + ppi_c --> atp_c + coa_c + pac_c Phenylacetate-CoA ligase\n",
      "PHETA1: akg_c + phe__L_c <=> glu__L_c + phpyr_c Phenylalanine transaminase\n",
      "CINNDO: cinnm_c + h_c + nadh_c + o2_c --> cenchddd_c + nad_c Cinnamate dioxygenase\n",
      "PPPNDO: h_c + nadh_c + o2_c + pppn_c --> cechddd_c + nad_c Phenylpropanoate Dioxygenase\n",
      "INDPYRD: h_c + indpyr_c --> co2_c + id3acald_c Indole 3 pyruvate decarboxylase\n",
      "NTRLASE: 2.0 h2o_c + ind3acnl_c --> ind3ac_c + nh3_c Nitrilase\n",
      "DDPA: e4p_c + h2o_c + pep_c --> 2dda7p_c + pi_c 3-deoxy-D-arabino-heptulosonate 7-phosphate synthetase\n",
      "CHORS: 3psme_c --> chor_c + pi_c Chorismate synthase\n",
      "G3PL: 3ig3p_c --> g3p_c + indole_c D-glyceraldehyde-3-phosphate lyase\n",
      "TRPS2: indole_c + ser__L_c --> h2o_c + trp__L_c Tryptophan synthase (indole)\n",
      "IGPS: 2cpr5p_c + h_c --> 3ig3p_c + co2_c + h2o_c Indole-3-glycerol-phosphate synthase\n",
      "PRAI: pran_c --> 2cpr5p_c Phosphoribosylanthranilate isomerase\n",
      "ANPRT: anth_c + prpp_c <=> ppi_c + pran_c Anthranilate phosphoribosyltransferase\n",
      "ANS: chor_c + gln__L_c <=> anth_c + glu__L_c + h_c + pyr_c Anthranilate synthase\n",
      "CHORM: chor_c <=> pphn_c Chorismate mutase\n",
      "PPNDH: h_c + pphn_c <=> co2_c + h2o_c + phpyr_c Prephenate dehydratase\n",
      "AROH: Largn_c + h_c --> co2_c + h2o_c + phe__L_c L-Arogenate hydro-lyase\n",
      "PPND: nad_c + pphn_c --> 34hpp_c + co2_c + nadh_c Prephenate dehydrogenase\n",
      "PSCVT: pep_c + skm5p_c --> 3psme_c + pi_c 3-phosphoshikimate 1-carboxyvinyltransferase\n",
      "SHKK: atp_c + skm_c --> adp_c + h_c + skm5p_c Shikimate kinase\n",
      "DHQS: 2dda7p_c --> 3dhq_c + pi_c 3-dehydroquinate synthase\n",
      "PANTS: ala_B_c + atp_c + pant_R_c --> amp_c + h_c + pnto_R_c + ppi_c Pantothenate synthase\n",
      "ASP1DC: asp__L_c + h_c --> ala_B_c + co2_c Aspartate 1-decarboxylase\n",
      "ACKr: ac_c + atp_c --> actp_c + adp_c Acetate kinase\n",
      "SELADT: atp_c + h_c + sel_c --> adsel_c + ppi_c SELADT\n",
      "UAMAS: ala__L_c + atp_c + uamr_c --> adp_c + h_c + pi_c + uama_c UDP-N-acetylmuramoyl-L-alanine synthetase\n",
      "UAMAGS: atp_c + glu_D_c + uama_c --> adp_c + h_c + pi_c + uamag_c UDP-N-acetylmuramoyl-L-alanyl-D-glutamate synthetase\n",
      "GLUR: glu__L_c <=> glu_D_c Glutamate racemase\n",
      "ALAALAr: 2.0 ala_D_c + atp_c --> adp_c + alaala_c + h_c + pi_c D-alanine-D-alanine ligase (reversible)\n",
      "ALATA_D: glu_D_c + pyr_c <=> akg_c + ala_D_c D-alanine transaminase\n",
      "ALAR: ala_D_c --> ala__L_c Alanine racemase\n",
      "GTHPi: 2.0 gthrd_c + h2o2_c --> gthox_c + 2.0 h2o_c Glutathione peridoxase\n",
      "GTHS: atp_c + glucys_c + gly_c --> adp_c + gthrd_c + h_c + pi_c Glutathione synthetase\n",
      "GLUCYS: atp_c + cys__L_c + glu__L_c --> adp_c + glucys_c + h_c + pi_c Gamma-glutamylcysteine synthetase\n",
      "GTHRDHpp: gthrd_c + h2o_c --> cgly_c + glu__L_c Glutathione hydralase (periplasmic)\n",
      "AMPTASECG: cgly_c + h2o_c --> cys__L_c + gly_c Alanyl aminopeptidase (cys-gly)\n",
      "APCS: 5mta_c + h_c + na15dap_c --> 15dap_c + ametam_c Aminopropylcadaverine synthase\n",
      "SAGH: h2o_c + sucr_c --> Glc_aD_c + fru_c Sucrose alpha-glucohydrolase\n",
      "UGE: udpgalur_c --> udpglcur_c UDP-glucuronate 4-epimerase\n",
      "GLGC: atp_c + g1p_c + h_c --> adpglc_c + ppi_c Glucose-1-phosphate adenylyltransferase\n",
      "UAGDP: acgam1p_c + h_c + utp_c --> ppi_c + uacgam_c UDP-N-acetylglucosamine diphosphorylase\n",
      "PGAMT: gam1p_c <=> gam6p_c Phosphoglucosamine mutase\n",
      "G1PACT: accoa_c + gam1p_c --> acgam1p_c + coa_c + h_c Glucosamine-1-phosphate N-acetyltransferase\n",
      "G6PDA: gam6p_c + h2o_c --> f6p_c + nh3_c Glucosamine-6-phosphate deaminase\n",
      "UAGCVT: pep_c + uacgam_c --> pi_c + uaccg_c UDP-N-acetylglucosamine 1-carboxyvinyltransferase\n",
      "UAPGR: h_c + nadph_c + uaccg_c --> nadp_c + uamr_c UDP-N-acetylenolpyruvoylglucosamine reductase\n",
      "AHEXASE3: chtbs_c + h2o_c --> 2.0 acgam_c Beta-N-acetylhexosaminidase, cytosol\n",
      "HEX1: adp_c + g6p_c + h_c --> atp_c + glc__D_c Hexokinase (D-glucose:ATP)\n",
      "MI3PP: h2o_c + mi3p_D_c --> inost_c + pi_c MI3PP\n",
      "TDPDRR: dtdp4d6dm_c + h_c + nadph_c --> dtdprmn_c + nadp_c DTDP-4-dehydrorhamnose reductase\n",
      "TDPDRE: dtdp4d6dg_c <=> dtdp4d6dm_c DTDP-4-dehydrorhamnose 3,5-epimerase\n",
      "TDPGDH: dtdpglu_c --> dtdp4d6dg_c + h2o_c DTDPglucose 4,6-dehydratase\n",
      "G1PTT: dttp_c + g1p_c + h_c --> dtdpglu_c + ppi_c Glucose-1-phosphate thymidylyltransferase\n",
      "PGMT: g6p_c <=> g1p_c Phosphoglucomutase\n",
      "KDOCT: ctp_c + kdo_c --> ckdo_c + ppi_c KDOCT\n",
      "KDOPP: h2o_c + kdo8p_c --> kdo_c + pi_c 3-deoxy-manno-octulosonate-8-phosphatase\n",
      "TDSK: atp_c + lipidAds_c --> adp_c + h_c + lipidA_c Tetraacyldisaccharide 4'kinase\n",
      "LPADSS: lipidX_c + u23ga_c --> h_c + lipidAds_c + udp_c Lipid A disaccaride synthase\n",
      "S7PI: s7p_c <=> gmhep7p_c Sedoheptulose 7-phosphate isomerase\n",
      "GMHEPPA: gmhep17bp_c + h2o_c --> gmhep1p_c + pi_c D-glycero-D-manno-heptose 1,7-bisphosphate phosphatase\n",
      "GMHEPK: atp_c + gmhep7p_c --> adp_c + gmhep17bp_c + h_c D-glycero-D-manno-heptose 7-phosphate kinase\n",
      "GMHEPAT: atp_c + gmhep1p_c + h_c --> adphep_DD_c + ppi_c D-glycero-D-manno-hepose 1-phosphate adenyltransferase\n",
      "MOAT2: ckdo_c + kdolipid4_c --> cmp_c + h_c + kdo2lipid4_c 3-deoxy-D-manno-octulosonic acid transferase\n",
      "MOAT: ckdo_c + lipidA_c --> cmp_c + h_c + kdolipid4_c 3-deoxy-D-manno-octulosonic acid transferase\n",
      "USHD: h2o_c + u23ga_c --> 2.0 h_c + lipidX_c + ump_c UDP-sugar hydrolase\n",
      "KDOPS: ara5p_c + h2o_c + pep_c --> kdo8p_c + pi_c 3-deoxy -D-manno-octulosonic -acid 8-phosphate synthase\n",
      "U23GAAT: 3hmrsACP_c + u3hga_c --> ACP_c + h_c + u23ga_c UDP-3-O-(3-hydroxymyristoyl)glucosamine acyltransferase\n",
      "UHGADA: h2o_c + u3aga_c --> ac_c + u3hga_c UDP-3-O-acetylglucosamine deacetylase\n",
      "UAGAAT: 3hmrsACP_c + uacgam_c --> ACP_c + u3aga_c UDP-N-acetylglucosamine acyltransferase\n",
      "UAGPT2: uaGgla_c + uacgam_c --> h_c + uaaGgla_c + udp_c UAGPT2\n",
      "UGLDDS2: alaala_c + atp_c + uGgl_c --> adp_c + h_c + pi_c + uGgla_c UGLDDS2\n",
      "UAGPT3: uacgam_c + uagmda_c --> h_c + uaagmda_c + udp_c UDP-N-acetylglucosamine-N-acetylmuramyl-(pentapeptide)pyrophosphoryl-undecaprenol N-acetylglucosamine transferase\n",
      "DHAK: atp_c + dha_c --> adp_c + dhap_c + h_c Dihydroxyacetone kinase\n",
      "MI4PP: h2o_c + mi4p_D_c --> inost_c + pi_c MI4PP\n",
      "MI1PP: h2o_c + mi1p__D_c --> inost_c + pi_c Myo-inositol 1-phosphatase\n",
      "GPDDA2: g3pe_c + h2o_c --> etha_c + glyc1p_c + h_c Glycerophosphodiester phosphodiesterase (Glycerophosphoethanolamine)\n",
      "G3PD2: dhap_c + h_c + nadph_c --> glyc1p_c + nadp_c Glycerol-3-phosphate dehydrogenase (NADP)\n",
      "GPDDA1: g3pc_c + h2o_c --> chol_c + glyc1p_c + h_c Glycerophosphodiester phosphodiesterase (Glycerophosphocholine)\n",
      "PPDK: atp_c + pi_c + pyr_c --> amp_c + h_c + pep_c + ppi_c PPDK\n",
      "LGTHL: gthrd_c + mthgxl_c --> lgt_S_c Lactoylglutathione lyase\n",
      "GLYOX: gthrd_c + h_c + lac_D_c --> h2o_c + lgt_S_c Hydroxyacylglutathione hydrolase\n",
      "OAADC: h_c + oaa_c --> co2_c + pyr_c Oxaloacetate decarboxylase\n",
      "ME1: mal__L_c + nad_c --> co2_c + nadh_c + pyr_c Malic enzyme (NAD)\n",
      "ACCOAC: accoa_c + atp_c + hco3_c --> adp_c + h_c + malcoa_c + pi_c Acetyl-CoA carboxylase\n",
      "ACYP_2: actp_c + h2o_c --> ac_c + h_c + pi_c Acylphosphatase (2)\n",
      "DDPGA: glx_c + pyr_c <=> 4h2oglt_c DDPGA\n",
      "GLYCTO1: glyclt_c + o2_c --> glx_c + h2o2_c GLYCTO1\n",
      "RBCh: o2_c + rb15bp_c --> 2pglyc_c + 3pg_c + 2.0 h_c Ribulose-bisphosphate carboxylase\n",
      "PGLYCP: 2pglyc_c + h2o_c --> glyclt_c + pi_c Phosphoglycolate phosphatase\n",
      "GLYCL: gly_c + nad_c + thf_c --> co2_c + mlthf_c + nadh_c + nh3_c Glycine Cleavage System\n",
      "PPAKr: atp_c + ppa_c --> adp_c + ppap_c Propionate kinase\n",
      "FRD: fad_c + succ_c <=> fadh2_c + fum_c FRD\n",
      "APLh: 2ahethmpp_c + pyr_c --> alac_S_c + thmpp_c 2-Acetolactate pyruvate-lyase (carboxylating), chloroplast\n",
      "ACLDC: alac_S_c + h_c --> actn_R_c + co2_c Acetolactate decarboxylase\n",
      "ITCOALm: atp_c + coa_c + itacon_c <=> adp_c + itaccoa_c + pi_c Itaconate  CoA ligase  ADP forming   mitochondrial\n",
      "FGFTh: gar_c + h2o_c + methf_c --> fgam_c + 2.0 h_c + thf_c N2-Formyl-N1-(5-phospho-D-ribosyl)glycinamide formyltransferase, chloroplast\n",
      "DHFR2i: dhf_c + h_c + nadh_c --> nad_c + thf_c Dihydrofolate reductase (NAD+)\n",
      "DHFR: dhf_c + h_c + nadph_c --> nadp_c + thf_c Dihydrofolate reductase\n",
      "DHFOR: fol_c + h_c + nadh_c --> dhf_c + nad_c Dihydrofolate:NAD+ oxidoreductase\n",
      "FOLR2: fol_c + h_c + nadph_c --> dhf_c + nadp_c FOLR2\n",
      "MTHFR3: 2.0 h_c + mlthf_c + nadph_c --> 5mthf_c + nadp_c 5 10 methylenetetrahydrofolatereductase  NADPH \n",
      "MTHFR2: 2.0 h_c + mlthf_c + nadh_c --> 5mthf_c + nad_c 5,10-methylenetetrahydrofolate reductase (NADH)\n",
      "FTHFCL: 5fthf_c + atp_c --> adp_c + methf_c + pi_c 5 formethyltetrahydrofolate cyclo ligase\n",
      "FOMETRi: h2o_c + methf_c --> 5fthf_c + h_c Aminomethyltransferase\n",
      "FMETTRS: fmettrna_c + h_c + thf_c --> 10fthf_c + mettrna_c Methionyl-tRNA formyltransferase\n",
      "FTHFLi: atp_c + for_c + thf_c --> 10fthf_c + adp_c + pi_c Formate-tetrahydrofolate ligase\n",
      "THFOR1: fol_c + 2.0 h_c + 2.0 nadh_c --> 2.0 nad_c + thf_c 5,6,7,8-Tetrahydrofolate:NAD+ oxidoreductase\n",
      "THFOR2: fol_c + 2.0 h_c + 2.0 nadph_c --> 2.0 nadp_c + thf_c 5,6,7,8-Tetrahydrofolate:NADP+ oxidoreductase\n",
      "NAD_H2: h_c + nadh_c --> h2_c + nad_c NAD-linked hydrogenase\n",
      "FBA3: dhap_c + e4p_c <=> s17bp_c Sedoheptulose 1,7-bisphosphate D-glyceraldehyde-3-phosphate-lyase\n",
      "PRUK: atp_c + ru5p_D_c --> adp_c + h_c + rb15bp_c Phosphoribulokinase\n",
      "RBPC: co2_c + h2o_c + rb15bp_c --> 2.0 3pg_c + 2.0 h_c Ribulose-bisphosphate carboxylase\n",
      "TMPK: atp_c + thmmp_c --> adp_c + thmpp_c Thiamine-phosphate kinase\n",
      "PMPK: 4ampm_c + atp_c --> 2mahmp_c + adp_c Phosphomethylpyrimidine kinase\n",
      "HMPK1: 4ahmmp_c + atp_c <=> 4ampm_c + adp_c + h_c Hydroxymethylpyrimidine kinase (ATP)\n",
      "TMPPP: 2mahmp_c + 4mpetz_c + h_c --> ppi_c + thmmp_c Thiamine-phosphate diphosphorylase\n",
      "DB4PS: ru5p_D_c <=> db4p_c + for_c + h_c 3,4-Dihydroxy-2-butanone-4-phosphate synthase\n",
      "FMNAT: atp_c + fmn_c + h_c --> fad_c + ppi_c FMN adenylyltransferase\n",
      "ACP1_FMN: fmn_c + h2o_c --> pi_c + ribflv_c ACP1 FMN\n",
      "RBFK: atp_c + ribflv_c --> adp_c + fmn_c + h_c Riboflavin kinase\n",
      "GTPCII: gtp_c + 3.0 h2o_c --> 25dhpp_c + for_c + 2.0 h_c + ppi_c GTP cyclohydrolase II\n",
      "DHPPDA: 25dhpp_c + h2o_c + h_c --> 5apru_c + nh3_c Diaminohydroxyphosphoribosylaminopyrimidine deaminase\n",
      "APRAUR: 5apru_c + h_c + nadph_c --> 5aprbu_c + nadp_c 5-amino-6-(5-phosphoribosylamino)uracil reductase\n",
      "RBFSa: 4r5au_c + db4p_c <=> dmlz_c + 2.0 h2o_c + pi_c Riboflavin synthase\n",
      "RBFSb: 2.0 dmlz_c <=> 4r5au_c + ribflv_c Riboflavin synthase\n",
      "4HTHRS: h2o_c + phthr_c --> 4hthr_c + pi_c 4-Hydroxy-L-threonine synthase\n",
      "OHPBAT: akg_c + phthr_c --> glu__L_c + ohpb_c O-Phospho-4-hydroxy-L-threonine:2-oxoglutarate aminotransferase\n",
      "ASPO6: asp__L_c + o2_c --> h2o2_c + h_c + iasp_c L-aspartate oxidase\n",
      "QULNS: dhap_c + iasp_c --> 2.0 h2o_c + pi_c + quln_c Quinolinate synthase\n",
      "NNDPR: 2.0 h_c + prpp_c + quln_c <=> co2_c + nicrnt_c + ppi_c Nicotinate-nucleotide diphosphorylase (carboxylating)\n",
      "NT5C: h2o_c + nicrnt_c --> nicrns_c + pi_c NT5C\n",
      "NADS2: atp_c + dnad_c + gln__L_c + h2o_c --> amp_c + glu__L_c + h_c + nad_c + ppi_c Nicotinate-mononucleotide adenylyltransferase\n",
      "NAPRT: h_c + nac_c + prpp_c --> nicrnt_c + ppi_c NAPRTase\n",
      "NNAM: h2o_c + ncam_c --> nac_c + nh3_c Nicotinamidase\n",
      "NMNAT: atp_c + h_c + nmn_c <=> nad_c + ppi_c Nicotinamide-nucleotide adenylyltransferase\n",
      "NMNHYD: h2o_c + nmn_c --> pi_c + rnam_c Nicotinamide ribonucleotide phosphohydrolase\n",
      "NADK: atp_c + nad_c --> adp_c + h_c + nadp_c NAD kinase\n",
      "NADTRHD: nad_c + nadph_c --> nadh_c + nadp_c NAD transhydrogenase\n",
      "DPCOAK: atp_c + dpcoa_c --> adp_c + coa_c + h_c Dephospho-CoA kinase\n",
      "APNPT: adp_c + h_c + pan4p_c --> atp_c + ptth_c ATP:pantetheine 4'-phosphotransferase\n",
      "PPCDC: 4ppcys_c + h_c <=> co2_c + pan4p_c Phosphopantothenoylcysteine decarboxylase\n",
      "APCPT: 4ppcys_c + adp_c + h_c --> atp_c + ptcys_c ATP:pantothenoyl-L-cysteine 4'-phosphotransferase\n",
      "PPNCL3: 4ppcys_c + amp_c + h_c + ppi_c --> 4ppan_c + atp_c + cys__L_c PPNCL3\n",
      "PPNCL2: 4ppan_c + ctp_c + cys__L_c <=> 4ppcys_c + cmp_c + h_c + ppi_c Phosphopantothenate-cysteine ligase\n",
      "PNTK: atp_c + pnto_R_c --> 4ppan_c + adp_c + h_c Pantothenate kinase\n",
      "DPR: 2dhp_c + h_c + nadph_c --> nadp_c + pant_R_c 2-dehydropantoate 2-reductase\n",
      "MOHMT: 3mob_c + h2o_c + mlthf_c --> 2dhp_c + thf_c 3-methyl-2-oxobutanoate hydroxymethyltransferase\n",
      "KARA1: alac_S_c + h_c + nadph_c --> 23dhmb_c + nadp_c Ketol-acid reductoisomerase (2,3-dihydroxy-3-methylbutanoate)\n",
      "PTPATi: atp_c + h_c + pan4p_c --> dpcoa_c + ppi_c Pantetheine-phosphate adenylyltransferase\n",
      "ACPS1: apoACP_c + coa_c --> ACP_c + h_c + pap_c Acyl-carrier protein synthase\n",
      "BACCL: atp_c + btn_c + h_c --> btamp_c + ppi_c Biotin acetyl CoA carboxylase ligase\n",
      "DBTS: adp_c + dtbt_c + 3.0 h_c + pi_c --> atp_c + co2_c + dann_c Dethiobiotin synthase\n",
      "AMAOTr: 8aonn_c + amet_c --> amob_c + dann_c Adenosylmethionine-8-amino-7-oxononanoate transaminase\n",
      "AOXSr: ala__L_c + h_c + pmcoa_c --> 8aonn_c + co2_c + coa_c 8-amino-7-oxononanoate synthase\n",
      "PMEACPE: meoh_c + pimACP_c --> h2o_c + pmeACP_c Pimeloyl-[ACP] methyl ester esterase\n",
      "AOXSr2: 8aonn_c + ACP_c + co2_c --> ala__L_c + pimACP_c 8-amino-7-oxononanoate synthase\n",
      "OGMEACPD: egmeACP_c + h2o_c --> hgmeACP_c 3-Oxo-glutaryl-[ACP] methyl ester dehydratase\n",
      "EGMEACPR: egmeACP_c + h_c + nadph_c --> gmeACP_c + nadp_c Enoylglutaryl-[ACP] methyl ester reductase\n",
      "OPMEACPD: epmeACP_c + h2o_c --> hpmeACP_c 3-Oxo-pimeloyl-[ACP] methyl ester dehydratase\n",
      "EPMEACPR: epmeACP_c + h_c + nadph_c --> nadp_c + pmeACP_c Enoylpimeloyl-[ACP] methyl ester reductase\n",
      "ADCS: chor_c + gln__L_c --> 4adcho_c + glu__L_c 4-amino-4-deoxychorismate synthase\n",
      "ADCL: 4adcho_c --> 4abz_c + h_c + pyr_c 4-aminobenzoate synthase\n",
      "THFGLUS: atp_c + glu__L_c + thf_c --> adp_c + h_c + pi_c + thfglu_c TetrahydrofolateL glutamate gamma ligase  ADP forming \n",
      "DHFS: atp_c + dhpt_c + glu__L_c --> adp_c + dhf_c + h_c + pi_c Dihydrofolate synthase\n",
      "DHPS2: 2ahhmd_c + 4abz_c --> dhpt_c + ppi_c Dihydropteroate synthase\n",
      "DHPS: 2ahhmp_c + 4abz_c --> dhpt_c + h2o_c DHPS\n",
      "HPPK: 2ahhmp_c + atp_c --> 2ahhmd_c + amp_c + h_c HPPK\n",
      "DHNPA: dhnpt_c --> 2ahhmp_c + gcald_c DHNPA\n",
      "AKP1: ahdt_c + 3.0 h2o_c --> dhnpt_c + 2.0 h_c + 3.0 pi_c Alkaline phosphatase  Dihydroneopterin \n",
      "PTHPS: 6pthp_c + pppi_c --> ahdt_c 6-pyruvoyltetrahydropterin synthase\n",
      "CPMPS: gtp_c + h2o_c --> cpmp_c + ppi_c Cyclic pyranopterin monophosphate synthase\n",
      "6CTDS: ahdt_c + h2o_c --> 6ctd_c + acald_c + h_c + pppi_c 6-carboxy-5,6,7,8-tetrahydropterin synthase\n",
      "CDGR: 3.0 h_c + 2.0 nadph_c + preq0_c --> 2.0 nadp_c + preq1_c 7-cyano-7-deazaguanine reductase\n",
      "CPPPGO2: 2.0 co2_c + 2.0 dad_5_c + 2.0 met__L_c + pppg9_c --> 2.0 amet_c + cpppg3_c Oxygen Independent coproporphyrinogen-III oxidase\n",
      "CPPPGO: cpppg3_c + 2.0 h_c + o2_c --> 2.0 co2_c + 2.0 h2o_c + pppg9_c Coproporphyrinogen oxidase (O2 required)\n",
      "HEMEOS: frdp_c + h2o_c + pheme_c --> hemeO_c + ppi_c Heme O synthase\n",
      "FCLT: fe2_c + ppp9_c --> 2.0 h_c + pheme_c Ferrochelatase\n",
      "UPPDC1: 4.0 h_c + uppg3_c --> 4.0 co2_c + cpppg3_c Uroporphyrinogen decarboxylase (uroporphyrinogen III)\n",
      "UPP3S: hmbil_c <=> h2o_c + uppg3_c Uroporphyrinogen-III synthase\n",
      "UPP3MT: 2.0 amet_c + uppg3_c --> 2.0 ahcys_c + dscl_c + h_c Uroporphyrinogen methyltransferase\n",
      "UPPDC2: 4.0 h_c + uppg1_c --> 4.0 co2_c + cpppg1_c Uroporphyrinogen decarboxylase (uroporphyrinogen I)\n",
      "HMBS: h2o_c + 4.0 ppbng_c --> hmbil_c + 4.0 nh3_c Hydroxymethylbilane synthase\n",
      "PPBNGS: 2.0 5aop_c <=> 2.0 h2o_c + h_c + ppbng_c Porphobilinogen synthase\n",
      "G1SAT: glu1sa_c <=> 5aop_c Glutamate-1-semialdehyde aminotransferase\n",
      "GLUTRR: glutrna_c + h_c + nadph_c --> glu1sa_c + nadp_c + trnaglu_c Glutamyl-tRNA reductase\n",
      "GLUTRS: atp_c + glu__L_c + trnaglu_c --> amp_c + glutrna_c + ppi_c Glutamyl-tRNA synthetase\n",
      "SHCHF: fe2_c + scl_c --> 3.0 h_c + sheme_c Sirohydrochlorin ferrochelatase\n",
      "SHCHD2: dscl_c + nad_c --> h_c + nadh_c + scl_c Sirohydrochlorin dehydrogenase (NAD)\n",
      "CPC3MT: amet_c + copre3_c --> ahcys_c + copre4_c CPC3MT\n",
      "CPC4MT: amet_c + copre4_c --> ahcys_c + copre5_c + h_c CPC4MT\n",
      "PC20M: ahcys_c + h_c + pre3a_c --> amet_c + dscl_c PC20M\n",
      "PC17M: ahcys_c + 2.0 h_c + pre4_c --> amet_c + pre3b_c PC17M\n",
      "PC11M: ahcys_c + h_c + pre5_c --> amet_c + pre4_c PC11M\n",
      "PC8XM: h_c + pre8_c --> hgbyr_c PC8XM\n",
      "CPC8MM: copre8_c --> cobya_c CPC8MM\n",
      "CYRDAAT: atp_c + co1dam_c + h_c --> adcobdam_c + pppi_c CYRDAAT\n",
      "ADCYRS: adcobdam_c + 4.0 atp_c + 4.0 gln__L_c + 4.0 h2o_c --> adcobhex_c + 4.0 adp_c + 4.0 glu__L_c + 4.0 h_c + 4.0 pi_c Adenosylcobyric acid synthase (glutamine-hydrolysing)\n",
      "CBIAT: atp_c + cbi_c + h_c --> adocbi_c + pppi_c Cobinamide adenyltransferase\n",
      "ADOCBIK: adocbi_c + atp_c --> adocbip_c + adp_c + h_c Adenosyl cobinamide kinase\n",
      "ACBIPGT: adocbip_c + gtp_c + h_c --> agdpcbi_c + ppi_c Adenosyl cobinamide phosphate guanyltransferase\n",
      "ADOCBLS: agdpcbi_c + rdmbzi_c <=> adocbl_c + gmp_c + h_c Adenosylcobalamin 5'-phosphate synthase\n",
      "RZ5PP: 5prdmbz_c + h2o_c <=> pi_c + rdmbzi_c Alpha-ribazole 5-phosphate phosphatase\n",
      "NNDMBRT: dmbzid_c + nicrnt_c --> 5prdmbz_c + h_c + nac_c Nicotinate-nucleotide dimethylbenzimidazole phosphoribosyltransferase\n",
      "HEMEAS: h2o_c + hemeO_c <=> 4.0 h_c + hemeA__1_c Heme A synthase\n",
      "ADCPS1: adcobhex_c + appl_c + atp_c --> adocbi_c + adp_c + h_c + pi_c ADCPS1\n",
      "ADCPS2: adcobhex_c + applp_c + atp_c --> adocbip_c + adp_c + h_c + pi_c ADCPS2\n",
      "PC6YM: 2.0 ahcys_c + co2_c + 2.0 h_c + pre8_c --> 2.0 amet_c + pre6b_c PC6YM\n",
      "CODSCL5BMT: ahcys_c + copre6_c + 2.0 h_c --> amet_c + codscl5b_c Cobalt precorrin 5b methyltransferase\n",
      "DXPS: g3p_c + h_c + pyr_c --> co2_c + dxyl5p_c 1-deoxy-D-xylulose 5-phosphate synthase\n",
      "DXPRIi: dxyl5p_c + h_c + nadph_c --> 2me4p_c + nadp_c 1-deoxy-D-xylulose reductoisomerase\n",
      "MEPCT: 2me4p_c + ctp_c + h_c --> 4c2me_c + ppi_c 2-C-methyl-D-erythritol 4-phosphate cytidylyltransferase\n",
      "CDPMEK: 4c2me_c + atp_c --> 2p4c2me_c + adp_c + h_c 4-(cytidine 5'-diphospho)-2-C-methyl-D-erythritol kinase\n",
      "MECDPS: 2p4c2me_c --> 2mecdp_c + cmp_c 2-C-methyl-D-erythritol 2,4-cyclodiphosphate synthase\n",
      "DMPPS: h2mb4p_c + h_c + nadh_c --> dmpp_c + h2o_c + nad_c 1-hydroxy-2-methyl-2-(E)-butenyl 4-diphosphate reductase (dmpp)\n",
      "DMPPS_syn: dmpp_c + h2o_c + nadp_c --> h2mb4p_c + h_c + nadph_c 1-hydroxy-2-methyl-2-(E)-butenyl 4-diphosphate reductase (dmpp)\n",
      "IDS1: h2o_c + ipdp_c + nadp_c --> h2mb4p_c + h_c + nadph_c Isopentenyl-diphosphate synthase\n",
      "IPDPS: h2mb4p_c + h_c + nadh_c --> h2o_c + ipdp_c + nad_c 1-hydroxy-2-methyl-2-(E)-butenyl 4-diphosphate reductase (ipdp)\n",
      "DMATT: dmpp_c + ipdp_c --> grdp_c + ppi_c Dimethylallyltranstransferase\n",
      "GRTT: grdp_c + ipdp_c --> frdp_c + ppi_c Geranyltranstransferase\n",
      "UDCPDPS: frdp_c + 8.0 ipdp_c --> 8.0 ppi_c + udcpdp_c Undecaprenyl diphosphate synthase\n",
      "OCTDPS: frdp_c + 5.0 ipdp_c --> octdp_c + 5.0 ppi_c Octaprenyl pyrophosphate synthase\n",
      "PSPPS: 2.0 frdp_c --> ppi_c + psqldp_c Presqualene-diphosphate synthase\n",
      "SS: h_c + nadph_c + psqldp_c --> nadp_c + ppi_c + sql_c Squalene synthase\n",
      "SQLC: sql_c --> dplpt_c Squalene mutase (cyclizing)\n",
      "SQLC2: h2o_c + sql_c --> dpterol_c Squalene mutase (cyclizing)\n",
      "NTRIR2x: 5.0 h_c + 3.0 nadh_c + no2_c --> 2.0 h2o_c + 3.0 nad_c + nh3_c Nitrite Reductase (NADH)\n",
      "NTRIR2y: 5.0 h_c + 3.0 nadph_c + no2_c --> 2.0 h2o_c + 3.0 nadp_c + nh3_c NTRIR2y\n",
      "HCO3E: co2_c + h2o_c <=> h_c + hco3_c HCO3 equilibration reaction\n",
      "BPNT2: h2o_c + paps_c --> aps_c + pi_c BPNT2\n",
      "PAPSR: paps_c + trdrd_c --> 2.0 h_c + pap_c + so3_c + trdox_c Phosphoadenylyl-sulfate reductase (thioredoxin)\n",
      "SULR: 5.0 h_c + 3.0 nadph_c + so3_c --> 3.0 h2o_c + h2s_c + 3.0 nadp_c Sulfite reductase  NADPH2 \n",
      "ILETRS: amp_c + iletrna_c + ppi_c --> atp_c + ile__L_c + trnaile_c Isoleucyl-tRNA synthetase\n",
      "HISTRS: amp_c + histrna_c + ppi_c --> atp_c + his__L_c + trnahis_c Histidyl-tRNA synthetase\n",
      "PHETRS: amp_c + phetrna_c + ppi_c --> atp_c + phe__L_c + trnaphe_c Phenylalanyl-tRNA synthetase\n",
      "ARGTRS: amp_c + argtrna_c + ppi_c --> arg__L_c + atp_c + trnaarg_c Arginyl-tRNA synthetase\n",
      "CYSTRS: atp_c + cys__L_c + trnacys_c --> amp_c + cystrna_c + ppi_c Cysteinyl-tRNA synthetase\n",
      "GLYTRS: amp_c + glytrna_c + ppi_c --> atp_c + gly_c + trnagly_c Glycyl-tRNA synthetase\n",
      "ASPTRS: asp__L_c + atp_c + trnaasp_c --> amp_c + asptrna_c + ppi_c Aspartyl-tRNA synthetase\n",
      "SERTRS: amp_c + ppi_c + sertrna_c --> atp_c + ser__L_c + trnaser_c Seryl-tRNA synthetase\n",
      "METTRS: amp_c + mettrna_c + ppi_c --> atp_c + met__L_c + trnamet_c Methionyl-tRNA synthetase\n",
      "VALTRS: amp_c + ppi_c + valtrna_c --> atp_c + trnaval_c + val__L_c Valyl-tRNA synthetase\n",
      "ALATRS: alatrna_c + amp_c + ppi_c --> ala__L_c + atp_c + trnaala_c Alanyl-tRNA synthetase\n",
      "LYSTRS: atp_c + lys__L_c + trnalys_c --> amp_c + lystrna_c + ppi_c Lysyl-tRNA synthetase\n",
      "LEUTRS: amp_c + leutrna_c + ppi_c --> atp_c + leu__L_c + trnaleu_c Leucyl-tRNA synthetase\n",
      "THRTRS: amp_c + ppi_c + thrtrna_c --> atp_c + thr__L_c + trnathr_c Threonyl-tRNA synthetase\n",
      "TRPTRS: amp_c + ppi_c + trptrna_c --> atp_c + trnatrp_c + trp__L_c Tryptophanyl-tRNA synthetase\n",
      "TYRTRS: amp_c + ppi_c + tyrtrna_c <=> atp_c + trnatyr_c + tyr__L_c Tyrosyl-tRNA synthetase\n",
      "PROTRS: amp_c + ppi_c + protrna_c --> atp_c + pro__L_c + trnapro_c Prolyl-tRNA synthetase\n",
      "GLNTRAT: atp_c + gln__L_c + glutrna_c + h2o_c --> adp_c + glntrna_c + glu__L_c + h_c + pi_c GLNTRAT\n",
      "ASNTRAT: asptrna_c + atp_c + gln__L_c + h2o_c --> adp_c + asntrna_c + glu__L_c + 2.0 h_c + pi_c Aspartyl-tRNA(Asn) amidotransferase\n",
      "FACOAE181: h2o_c + odecoa_c --> coa_c + h_c + ocdcea_c Fatty-acid-CoA thioesterase (octadecenoate)\n",
      "FACOAE180: h2o_c + stcoa_c --> coa_c + h_c + ocdca_c Fatty-acid-CoA thioesterase (octadecanoate)\n",
      "FACOAE160: h2o_c + pmtcoa_c --> coa_c + h_c + hdca_c Fatty-acid-CoA thioesterase (hexadecanoate)\n",
      "3OACOAR: 3ohodcoa_c + h_c + nadph_c <=> 3hodcoa_c + nadp_c 3-oxoacyl-CoA reductase (18:0)\n",
      "MAN1PT2: gdpmann_c + pi_c <=> gdp_c + h_c + man1p_c Mannose-1-phosphate guanylyltransferase (GDP)\n",
      "DORNOp: h2o_c + o2_c + orn_D_c --> 5a2opntn_c + h2o2_c + nh3_c DORNOp\n",
      "ACONT: cit_c --> icit_c Aconitase\n",
      "SQLS: 2.0 frdp_c + h_c + nadph_c --> nadp_c + 2.0 ppi_c + sql_c Squalene synthase\n",
      "ASPO2y: 2.0 h_c + iasp_c + nadph_c --> asp__L_c + nadp_c L-aspartate oxidase\n",
      "ASPO2: 2.0 h_c + iasp_c + nadh_c --> asp__L_c + nad_c ASPO2\n",
      "PPND2: nadp_c + pphn_c --> 34hpp_c + co2_c + nadph_c Prephenate dehydrogenase  NADP \n",
      "ASNN: asn__L_c + h2o_c --> asp__L_c + nh3_c L-asparaginase\n",
      "HCYSMT: ahcys_c + h_c + met__L_c --> amet_c + hcys__L_c Homocysteine S-methyltransferase\n",
      "BHMT: glyb_c + hcys__L_c <=> dmgly_c + met__L_c BHMT\n",
      "CYSTA: akg_c + cys__L_c <=> glu__L_c + mercppyr_c Cysteine transaminase\n",
      "EAR140y: h_c + nadph_c + tmrs2eACP_c --> myrsACP_c + nadp_c Enoyl-[acyl-carrier-protein] reductase (NADPH) (n-C14:0)\n",
      "EAR120y: h_c + nadph_c + tddec2eACP_c --> ddcaACP_c + nadp_c Enoyl-[acyl-carrier-protein] reductase (NADPH) (n-C12:0)\n",
      "EAR100y: h_c + nadph_c + tdec2eACP_c --> dcaACP_c + nadp_c Enoyl-[acyl-carrier-protein] reductase (NADPH) (n-C10:0)\n",
      "EAR80y: h_c + nadph_c + toct2eACP_c --> nadp_c + ocACP_c Enoyl-[acyl-carrier-protein] reductase (NADPH) (n-C8:0)\n",
      "EAR60y: h_c + nadph_c + thex2eACP_c --> hexACP_c + nadp_c Enoyl-[acyl-carrier-protein] reductase (NADPH) (n-C6:0)\n",
      "EAR40y: but2eACP_c + h_c + nadph_c --> butACP_c + nadp_c Enoyl-[acyl-carrier-protein] reductase (NADPH) (n-C4:0)\n",
      "AICART2: aicar_c + atp_c + for_c --> adp_c + fprica_c + pi_c AICART2\n",
      "TDP: h2o_c + thmpp_c --> h_c + pi_c + thmmp_c Thiamin pyrophosphatase\n",
      "ADOCBIAH: adcobhex_c + appl_c <=> adocbi_c + h2o_c ADOCBIAH\n",
      "DPCOAPP: amp_c + 2.0 h_c + pan4p_c --> dpcoa_c + h2o_c DPCOAPP\n",
      "PDH: coa_c + nad_c + pyr_c --> accoa_c + co2_c + nadh_c Pyruvate dehydrogenase\n",
      "PFL: coa_c + pyr_c --> accoa_c + for_c Pyruvate formate lyase\n",
      "GLYOp: gly_c + h2o_c + o2_c --> glx_c + h2o2_c + nh3_c GLYOp\n",
      "GLYCLTDy: glx_c + h_c + nadph_c --> glyclt_c + nadp_c Glycolate dehydrogenase (NADP)\n",
      "GLYCLTDx: glx_c + h_c + nadh_c --> glyclt_c + nad_c Glycolate dehydrogenase (NAD)\n",
      "ACITL: atp_c + cit_c + coa_c --> accoa_c + adp_c + oaa_c + pi_c ATP-Citrate lyase\n",
      "PC: atp_c + hco3_c + pyr_c --> adp_c + h_c + oaa_c + pi_c Pyruvate carboxylase\n",
      "DADNK: atp_c + dad_2_c --> adp_c + damp_c + h_c DADNK\n",
      "DGNSKm: atp_c + dgsn_c --> adp_c + dgmp_c + h_c DGNSKm\n",
      "NDP6: dcdp_c + h2o_c <=> dcmp_c + h_c + pi_c NDP6\n",
      "SLFAT: adp_c + h_c + so4_c <=> aps_c + pi_c Sulfate adenylyltransferase  ADP \n",
      "ALCD2y: etoh_c + nadp_c --> acald_c + h_c + nadph_c ALCD2y\n",
      "AKGDH: akg_c + coa_c + nad_c --> co2_c + nadh_c + succoa_c 2-Oxogluterate dehydrogenase\n",
      "OOR3r: co2_c + fdxrd_c + succoa_c --> akg_c + coa_c + fdxox_c + h_c 2-oxoglutarate synthase (rev)\n",
      "ALATA_L: akg_c + ala__L_c <=> glu__L_c + pyr_c L-alanine transaminase\n",
      "ASPTA6: asp__L_c + pyr_c <=> ala__L_c + oaa_c E L-alanine-alpha-keto acid aminotransferase\n",
      "MOD_3mop: 3mop_c + 2.0 h_c + thmpp_c --> 2mhob_c + co2_c 3-methyl-2-oxobutanoate dehydrogenase, 3-Methyl-2-oxopentanoate transforming\n",
      "CITL: cit_c <=> ac_c + oaa_c Citrate lyase\n",
      "BDG2HCGHD: bdg2hc_c + h2o_c <=> 2coum_c + glc__D_c BDG2HCGHD\n",
      "CITMCOALm: accoa_c + pyr_c <=> citmcoa__L_c CITMCOALm\n",
      "PFK_ppi: f6p_c + ppi_c <=> fdp_c + h_c + pi_c Phosphofructokinase (ppi-dependent\n",
      "MDHy: h_c + nadph_c + oaa_c <=> mal__L_c + nadp_c MDHy\n",
      "OMCDC: 3c4mop_c + h_c --> 4mop_c + co2_c 2-Oxo-4-methyl-3-carboxypentanoate decarboxylation\n"
     ]
    }
   ],
   "source": [
    "for rxn in model.reactions:\n",
    "    if rxn.id in name_dict:\n",
    "        print rxn, name_dict[rxn.id]\n",
    "        model.reactions.get_by_id(rxn.id).name = name_dict[rxn.id] "
   ]
  },
  {
   "cell_type": "markdown",
   "metadata": {},
   "source": [
    "## Reaction Annotations"
   ]
  },
  {
   "cell_type": "code",
   "execution_count": 119,
   "metadata": {
    "collapsed": true
   },
   "outputs": [],
   "source": [
    "filename_ecoli = '/Users/clie/Downloads/iJO1366.xml'"
   ]
  },
  {
   "cell_type": "code",
   "execution_count": 120,
   "metadata": {
    "collapsed": true
   },
   "outputs": [],
   "source": [
    "ecoli = load_model(filename_ecoli)"
   ]
  },
  {
   "cell_type": "code",
   "execution_count": 121,
   "metadata": {
    "collapsed": false
   },
   "outputs": [],
   "source": [
    "rxns_without_annotations = [rxn for rxn in model.reactions if rxn.annotation == {} and 'EX_' not in rxn.id]"
   ]
  },
  {
   "cell_type": "code",
   "execution_count": 122,
   "metadata": {
    "collapsed": false
   },
   "outputs": [
    {
     "data": {
      "text/plain": [
       "88"
      ]
     },
     "execution_count": 122,
     "metadata": {},
     "output_type": "execute_result"
    }
   ],
   "source": [
    "len(rxns_without_annotations)"
   ]
  },
  {
   "cell_type": "code",
   "execution_count": 123,
   "metadata": {
    "collapsed": false
   },
   "outputs": [
    {
     "name": "stdout",
     "output_type": "stream",
     "text": [
      "Could not find the following reaction ID in iJO2366 BIOMASS_Mcapsulatus\n",
      "The source annotation is an empty dictionary\n",
      "Could not find the following reaction ID in iJO2366 CH4trpp\n",
      "The source annotation is an empty dictionary\n",
      "Could not find the following reaction ID in iJO2366 OCT\n",
      "The source annotation is an empty dictionary\n",
      "Could not find the following reaction ID in iJO2366 FACOAL180\n",
      "The source annotation is an empty dictionary\n",
      "Could not find the following reaction ID in iJO2366 FACOAL140\n",
      "The source annotation is an empty dictionary\n",
      "Could not find the following reaction ID in iJO2366 DES_9i_Modified\n",
      "The source annotation is an empty dictionary\n",
      "Could not find the following reaction ID in iJO2366 FA180ACPHi\n",
      "The source annotation is an empty dictionary\n",
      "Could not find the following reaction ID in iJO2366 3OAR150_Lumped\n",
      "The source annotation is an empty dictionary\n",
      "Could not find the following reaction ID in iJO2366 3OAR170_Lumped\n",
      "The source annotation is an empty dictionary\n",
      "Could not find the following reaction ID in iJO2366 FA150ACPHi\n",
      "The source annotation is an empty dictionary\n",
      "Could not find the following reaction ID in iJO2366 FA170ACPHi\n",
      "The source annotation is an empty dictionary\n",
      "Could not find the following reaction ID in iJO2366 CFACPOA2H_Lumped\n",
      "The source annotation is an empty dictionary\n",
      "Could not find the following reaction ID in iJO2366 FACOAEcyc170i\n",
      "The source annotation is an empty dictionary\n",
      "Could not find the following reaction ID in iJO2366 SMO\n",
      "The source annotation is an empty dictionary\n",
      "Could not find the following reaction ID in iJO2366 LNSTLS\n",
      "The source annotation is an empty dictionary\n",
      "Could not find the following reaction ID in iJO2366 OBDHc\n",
      "The source annotation is an empty dictionary\n",
      "Could not find the following reaction ID in iJO2366 PCOATAi\n",
      "The source annotation is an empty dictionary\n",
      "Could not find the following reaction ID in iJO2366 CPC5MT\n",
      "The source annotation is an empty dictionary\n",
      "Could not find the following reaction ID in iJO2366 CPC6R\n",
      "The source annotation is an empty dictionary\n",
      "Could not find the following reaction ID in iJO2366 CPC6MT\n",
      "The source annotation is an empty dictionary\n",
      "Could not find the following reaction ID in iJO2366 CYRDAR\n",
      "The source annotation is an empty dictionary\n",
      "Could not find the following reaction ID in iJO2366 LTHRK\n",
      "The source annotation is an empty dictionary\n",
      "Could not find the following reaction ID in iJO2366 THRPD\n",
      "The source annotation is an empty dictionary\n",
      "Could not find the following reaction ID in iJO2366 DM_4hba_c\n",
      "The source annotation is an empty dictionary\n",
      "Could not find the following reaction ID in iJO2366 MI1PS\n",
      "The source annotation is an empty dictionary\n",
      "Could not find the following reaction ID in iJO2366 MC_Average_FattyAcid\n",
      "The source annotation is an empty dictionary\n",
      "Could not find the following reaction ID in iJO2366 MC_AFAA\n",
      "The source annotation is an empty dictionary\n",
      "Could not find the following reaction ID in iJO2366 CLPNS_MC\n",
      "The source annotation is an empty dictionary\n",
      "Could not find the following reaction ID in iJO2366 PPTGS_MC\n",
      "The source annotation is an empty dictionary\n",
      "Could not find the following reaction ID in iJO2366 UREASE\n",
      "The source annotation is an empty dictionary\n",
      "Could not find the following reaction ID in iJO2366 DM_doxopa_c\n",
      "The source annotation is an empty dictionary\n",
      "Could not find the following reaction ID in iJO2366 NH3tpp\n",
      "The source annotation is an empty dictionary\n",
      "Could not find the following reaction ID in iJO2366 HAMtpp\n",
      "The source annotation is an empty dictionary\n",
      "Could not find the following reaction ID in iJO2366 NO2tpp\n",
      "The source annotation is an empty dictionary\n",
      "Could not find the following reaction ID in iJO2366 PFK_3_ppi\n",
      "The source annotation is an empty dictionary\n"
     ]
    }
   ],
   "source": [
    "for rxn in rxns_without_annotations:\n",
    "    source = ''\n",
    "    \n",
    "    if '_GAPFILLING' in rxn.id:\n",
    "        query_id = rxn.id.split('_')[0]\n",
    "    else:\n",
    "        query_id = rxn.id\n",
    "    \n",
    "    try:\n",
    "        source = ecoli.reactions.get_by_id(query_id)\n",
    "    except:\n",
    "        print 'Could not find the following reaction ID in iJO2366 {}'.format(query_id)\n",
    "        \n",
    "    if source != '' and source.annotation != {}:\n",
    "            for key in source.annotation:\n",
    "                if key not in rxn.annotation:\n",
    "                    rxn.annotation[key] = source.annotation[key]\n",
    "    else:\n",
    "        print 'The source annotation is an empty dictionary'\n"
   ]
  },
  {
   "cell_type": "code",
   "execution_count": 124,
   "metadata": {
    "collapsed": true
   },
   "outputs": [],
   "source": [
    "rxns_without_annotations = [rxn for rxn in model.reactions if rxn.annotation == {} and 'EX_' not in rxn.id]"
   ]
  },
  {
   "cell_type": "code",
   "execution_count": 125,
   "metadata": {
    "collapsed": false
   },
   "outputs": [
    {
     "data": {
      "text/plain": [
       "35"
      ]
     },
     "execution_count": 125,
     "metadata": {},
     "output_type": "execute_result"
    }
   ],
   "source": [
    "len(rxns_without_annotations)"
   ]
  },
  {
   "cell_type": "code",
   "execution_count": 126,
   "metadata": {
    "collapsed": true
   },
   "outputs": [],
   "source": [
    "clamy_file = '/Users/clie/Downloads/iRC1080.xml'\n",
    "clamydomonas = load_model(clamy_file)"
   ]
  },
  {
   "cell_type": "code",
   "execution_count": 127,
   "metadata": {
    "collapsed": false
   },
   "outputs": [
    {
     "name": "stdout",
     "output_type": "stream",
     "text": [
      "Could not find the following reaction ID in iRC1080 BIOMASS_Mcapsulatus\n",
      "The source annotation is an empty dictionary\n",
      "Could not find the following reaction ID in iRC1080 CH4trpp\n",
      "The source annotation is an empty dictionary\n",
      "Could not find the following reaction ID in iRC1080 FACOAL180\n",
      "The source annotation is an empty dictionary\n",
      "Could not find the following reaction ID in iRC1080 FACOAL140\n",
      "The source annotation is an empty dictionary\n",
      "Could not find the following reaction ID in iRC1080 DES_9i_Modified\n",
      "The source annotation is an empty dictionary\n",
      "Could not find the following reaction ID in iRC1080 3OAR150_Lumped\n",
      "The source annotation is an empty dictionary\n",
      "Could not find the following reaction ID in iRC1080 3OAR170_Lumped\n",
      "The source annotation is an empty dictionary\n",
      "Could not find the following reaction ID in iRC1080 FA150ACPHi\n",
      "The source annotation is an empty dictionary\n",
      "Could not find the following reaction ID in iRC1080 FA170ACPHi\n",
      "The source annotation is an empty dictionary\n",
      "Could not find the following reaction ID in iRC1080 CFACPOA2H_Lumped\n",
      "The source annotation is an empty dictionary\n",
      "Could not find the following reaction ID in iRC1080 FACOAEcyc170i\n",
      "The source annotation is an empty dictionary\n",
      "Could not find the following reaction ID in iRC1080 OBDHc\n",
      "The source annotation is an empty dictionary\n",
      "Could not find the following reaction ID in iRC1080 PCOATAi\n",
      "The source annotation is an empty dictionary\n",
      "Could not find the following reaction ID in iRC1080 CPC5MT\n",
      "The source annotation is an empty dictionary\n",
      "Could not find the following reaction ID in iRC1080 CPC6R\n",
      "The source annotation is an empty dictionary\n",
      "Could not find the following reaction ID in iRC1080 CPC6MT\n",
      "The source annotation is an empty dictionary\n",
      "Could not find the following reaction ID in iRC1080 CYRDAR\n",
      "The source annotation is an empty dictionary\n",
      "Could not find the following reaction ID in iRC1080 LTHRK\n",
      "The source annotation is an empty dictionary\n",
      "Could not find the following reaction ID in iRC1080 THRPD\n",
      "The source annotation is an empty dictionary\n",
      "Could not find the following reaction ID in iRC1080 DM_4hba_c\n",
      "The source annotation is an empty dictionary\n",
      "Could not find the following reaction ID in iRC1080 MI1PS\n",
      "The source annotation is an empty dictionary\n",
      "Could not find the following reaction ID in iRC1080 MC_Average_FattyAcid\n",
      "The source annotation is an empty dictionary\n",
      "Could not find the following reaction ID in iRC1080 MC_AFAA\n",
      "The source annotation is an empty dictionary\n",
      "Could not find the following reaction ID in iRC1080 CLPNS_MC\n",
      "The source annotation is an empty dictionary\n",
      "Could not find the following reaction ID in iRC1080 PPTGS_MC\n",
      "The source annotation is an empty dictionary\n",
      "Could not find the following reaction ID in iRC1080 UREASE\n",
      "The source annotation is an empty dictionary\n",
      "Could not find the following reaction ID in iRC1080 DM_doxopa_c\n",
      "The source annotation is an empty dictionary\n",
      "Could not find the following reaction ID in iRC1080 NH3tpp\n",
      "The source annotation is an empty dictionary\n",
      "Could not find the following reaction ID in iRC1080 HAMtpp\n",
      "The source annotation is an empty dictionary\n",
      "Could not find the following reaction ID in iRC1080 NO2tpp\n",
      "The source annotation is an empty dictionary\n",
      "Could not find the following reaction ID in iRC1080 PFK_3_ppi\n",
      "The source annotation is an empty dictionary\n"
     ]
    }
   ],
   "source": [
    "for rxn in rxns_without_annotations:\n",
    "    source = ''\n",
    "    \n",
    "    if '_GAPFILLING' in rxn.id:\n",
    "        query_id = rxn.id.split('_')[0]\n",
    "    else:\n",
    "        query_id = rxn.id\n",
    "    \n",
    "    try:\n",
    "        source = clamydomonas.reactions.get_by_id(query_id)\n",
    "    except:\n",
    "        print 'Could not find the following reaction ID in iRC1080 {}'.format(query_id)\n",
    "        \n",
    "    if source != '' and source.annotation != {}:\n",
    "            for key in source.annotation:\n",
    "                if key not in rxn.annotation:\n",
    "                    rxn.annotation[key] = source.annotation[key]\n",
    "    else:\n",
    "        print 'The source annotation is an empty dictionary'\n"
   ]
  },
  {
   "cell_type": "code",
   "execution_count": 128,
   "metadata": {
    "collapsed": false
   },
   "outputs": [
    {
     "data": {
      "text/plain": [
       "31"
      ]
     },
     "execution_count": 128,
     "metadata": {},
     "output_type": "execute_result"
    }
   ],
   "source": [
    "rxns_without_annotations = [rxn for rxn in model.reactions if rxn.annotation == {} and 'EX_' not in rxn.id]\n",
    "len(rxns_without_annotations)"
   ]
  },
  {
   "cell_type": "code",
   "execution_count": 129,
   "metadata": {
    "collapsed": true
   },
   "outputs": [],
   "source": [
    "synechocystis_file = '/Users/clie/Downloads/iJN678.xml'\n",
    "synechocystis = load_model(synechocystis_file)"
   ]
  },
  {
   "cell_type": "code",
   "execution_count": 130,
   "metadata": {
    "collapsed": false
   },
   "outputs": [
    {
     "name": "stdout",
     "output_type": "stream",
     "text": [
      "Could not find the following reaction ID in iJN678 BIOMASS_Mcapsulatus\n",
      "The source annotation is an empty dictionary\n",
      "Could not find the following reaction ID in iJN678 CH4trpp\n",
      "The source annotation is an empty dictionary\n",
      "Could not find the following reaction ID in iJN678 FACOAL180\n",
      "The source annotation is an empty dictionary\n",
      "Could not find the following reaction ID in iJN678 FACOAL140\n",
      "The source annotation is an empty dictionary\n",
      "Could not find the following reaction ID in iJN678 DES_9i_Modified\n",
      "The source annotation is an empty dictionary\n",
      "Could not find the following reaction ID in iJN678 3OAR150_Lumped\n",
      "The source annotation is an empty dictionary\n",
      "Could not find the following reaction ID in iJN678 3OAR170_Lumped\n",
      "The source annotation is an empty dictionary\n",
      "Could not find the following reaction ID in iJN678 FA150ACPHi\n",
      "The source annotation is an empty dictionary\n",
      "Could not find the following reaction ID in iJN678 FA170ACPHi\n",
      "The source annotation is an empty dictionary\n",
      "Could not find the following reaction ID in iJN678 CFACPOA2H_Lumped\n",
      "The source annotation is an empty dictionary\n",
      "Could not find the following reaction ID in iJN678 FACOAEcyc170i\n",
      "The source annotation is an empty dictionary\n",
      "Could not find the following reaction ID in iJN678 OBDHc\n",
      "The source annotation is an empty dictionary\n",
      "Could not find the following reaction ID in iJN678 PCOATAi\n",
      "The source annotation is an empty dictionary\n",
      "Could not find the following reaction ID in iJN678 CPC5MT\n",
      "The source annotation is an empty dictionary\n",
      "Could not find the following reaction ID in iJN678 CPC6R\n",
      "The source annotation is an empty dictionary\n",
      "Could not find the following reaction ID in iJN678 CPC6MT\n",
      "The source annotation is an empty dictionary\n",
      "Could not find the following reaction ID in iJN678 DM_4hba_c\n",
      "The source annotation is an empty dictionary\n",
      "Could not find the following reaction ID in iJN678 MC_Average_FattyAcid\n",
      "The source annotation is an empty dictionary\n",
      "Could not find the following reaction ID in iJN678 MC_AFAA\n",
      "The source annotation is an empty dictionary\n",
      "Could not find the following reaction ID in iJN678 CLPNS_MC\n",
      "The source annotation is an empty dictionary\n",
      "Could not find the following reaction ID in iJN678 PPTGS_MC\n",
      "The source annotation is an empty dictionary\n",
      "Could not find the following reaction ID in iJN678 UREASE\n",
      "The source annotation is an empty dictionary\n",
      "Could not find the following reaction ID in iJN678 DM_doxopa_c\n",
      "The source annotation is an empty dictionary\n",
      "Could not find the following reaction ID in iJN678 NH3tpp\n",
      "The source annotation is an empty dictionary\n",
      "Could not find the following reaction ID in iJN678 HAMtpp\n",
      "The source annotation is an empty dictionary\n",
      "Could not find the following reaction ID in iJN678 NO2tpp\n",
      "The source annotation is an empty dictionary\n",
      "Could not find the following reaction ID in iJN678 PFK_3_ppi\n",
      "The source annotation is an empty dictionary\n"
     ]
    }
   ],
   "source": [
    "for rxn in rxns_without_annotations:\n",
    "    source = ''\n",
    "    \n",
    "    if '_GAPFILLING' in rxn.id:\n",
    "        query_id = rxn.id.split('_')[0]\n",
    "    else:\n",
    "        query_id = rxn.id\n",
    "    \n",
    "    try:\n",
    "        source = synechocystis.reactions.get_by_id(query_id)\n",
    "    except:\n",
    "        print 'Could not find the following reaction ID in iJN678 {}'.format(query_id)\n",
    "        \n",
    "    if source != '' and source.annotation != {}:\n",
    "            for key in source.annotation:\n",
    "                if key not in rxn.annotation:\n",
    "                    rxn.annotation[key] = source.annotation[key]\n",
    "    else:\n",
    "        print 'The source annotation is an empty dictionary'\n"
   ]
  },
  {
   "cell_type": "code",
   "execution_count": 131,
   "metadata": {
    "collapsed": false
   },
   "outputs": [
    {
     "data": {
      "text/plain": [
       "27"
      ]
     },
     "execution_count": 131,
     "metadata": {},
     "output_type": "execute_result"
    }
   ],
   "source": [
    "rxns_without_annotations = [rxn for rxn in model.reactions if rxn.annotation == {} and 'EX_' not in rxn.id]\n",
    "len(rxns_without_annotations)"
   ]
  },
  {
   "cell_type": "code",
   "execution_count": 132,
   "metadata": {
    "collapsed": true
   },
   "outputs": [],
   "source": [
    "ljungdahlii_file = '/Users/clie/Downloads/iHN637.xml'\n",
    "ljungdahlii = load_model(ljungdahlii_file)"
   ]
  },
  {
   "cell_type": "code",
   "execution_count": 133,
   "metadata": {
    "collapsed": false
   },
   "outputs": [
    {
     "name": "stdout",
     "output_type": "stream",
     "text": [
      "Could not find the following reaction ID in iHN637 BIOMASS_Mcapsulatus\n",
      "The source annotation is an empty dictionary\n",
      "Could not find the following reaction ID in iHN637 CH4trpp\n",
      "The source annotation is an empty dictionary\n",
      "Could not find the following reaction ID in iHN637 DES_9i_Modified\n",
      "The source annotation is an empty dictionary\n",
      "Could not find the following reaction ID in iHN637 3OAR150_Lumped\n",
      "The source annotation is an empty dictionary\n",
      "Could not find the following reaction ID in iHN637 3OAR170_Lumped\n",
      "The source annotation is an empty dictionary\n",
      "Could not find the following reaction ID in iHN637 FA150ACPHi\n",
      "The source annotation is an empty dictionary\n",
      "Could not find the following reaction ID in iHN637 FA170ACPHi\n",
      "The source annotation is an empty dictionary\n",
      "Could not find the following reaction ID in iHN637 CFACPOA2H_Lumped\n",
      "The source annotation is an empty dictionary\n",
      "Could not find the following reaction ID in iHN637 FACOAEcyc170i\n",
      "The source annotation is an empty dictionary\n",
      "Could not find the following reaction ID in iHN637 OBDHc\n",
      "The source annotation is an empty dictionary\n",
      "Could not find the following reaction ID in iHN637 PCOATAi\n",
      "The source annotation is an empty dictionary\n",
      "Could not find the following reaction ID in iHN637 DM_4hba_c\n",
      "The source annotation is an empty dictionary\n",
      "Could not find the following reaction ID in iHN637 MC_Average_FattyAcid\n",
      "The source annotation is an empty dictionary\n",
      "Could not find the following reaction ID in iHN637 MC_AFAA\n",
      "The source annotation is an empty dictionary\n",
      "Could not find the following reaction ID in iHN637 CLPNS_MC\n",
      "The source annotation is an empty dictionary\n",
      "Could not find the following reaction ID in iHN637 PPTGS_MC\n",
      "The source annotation is an empty dictionary\n",
      "Could not find the following reaction ID in iHN637 UREASE\n",
      "The source annotation is an empty dictionary\n",
      "Could not find the following reaction ID in iHN637 DM_doxopa_c\n",
      "The source annotation is an empty dictionary\n",
      "Could not find the following reaction ID in iHN637 NH3tpp\n",
      "The source annotation is an empty dictionary\n",
      "Could not find the following reaction ID in iHN637 HAMtpp\n",
      "The source annotation is an empty dictionary\n",
      "Could not find the following reaction ID in iHN637 NO2tpp\n",
      "The source annotation is an empty dictionary\n",
      "Could not find the following reaction ID in iHN637 PFK_3_ppi\n",
      "The source annotation is an empty dictionary\n"
     ]
    }
   ],
   "source": [
    "for rxn in rxns_without_annotations:\n",
    "    source = ''\n",
    "    \n",
    "    if '_GAPFILLING' in rxn.id:\n",
    "        query_id = rxn.id.split('_')[0]\n",
    "    else:\n",
    "        query_id = rxn.id\n",
    "    \n",
    "    try:\n",
    "        source = ljungdahlii.reactions.get_by_id(query_id)\n",
    "    except:\n",
    "        print 'Could not find the following reaction ID in iHN637 {}'.format(query_id)\n",
    "        \n",
    "    if source != '' and source.annotation != {}:\n",
    "            for key in source.annotation:\n",
    "                if key not in rxn.annotation:\n",
    "                    rxn.annotation[key] = source.annotation[key]\n",
    "    else:\n",
    "        print 'The source annotation is an empty dictionary'\n"
   ]
  },
  {
   "cell_type": "code",
   "execution_count": 134,
   "metadata": {
    "collapsed": false
   },
   "outputs": [
    {
     "data": {
      "text/plain": [
       "22"
      ]
     },
     "execution_count": 134,
     "metadata": {},
     "output_type": "execute_result"
    }
   ],
   "source": [
    "rxns_without_annotations = [rxn for rxn in model.reactions if rxn.annotation == {} and 'EX_' not in rxn.id]\n",
    "len(rxns_without_annotations)"
   ]
  },
  {
   "cell_type": "code",
   "execution_count": 135,
   "metadata": {
    "collapsed": true
   },
   "outputs": [],
   "source": [
    "model.reactions.CH4trpp.annotation = {u'metanetx.reaction': u'MNXR1138',u'biocyc': u'META:TRANS-RXN0-526'}"
   ]
  },
  {
   "cell_type": "code",
   "execution_count": 136,
   "metadata": {
    "collapsed": true
   },
   "outputs": [],
   "source": [
    "model.reactions.DES_9i_Modified.annotation = {u'metanetx.reaction': u'MNXR68672',u'brenda':u'1.14.19.1'}"
   ]
  },
  {
   "cell_type": "code",
   "execution_count": 137,
   "metadata": {
    "collapsed": false
   },
   "outputs": [],
   "source": [
    "model.reactions.DES_9i_Modified.id = 'DESAT14_Modified'"
   ]
  },
  {
   "cell_type": "code",
   "execution_count": 138,
   "metadata": {
    "collapsed": true
   },
   "outputs": [],
   "source": [
    "model.reactions.CLPNS_MC.annotation = {u'metanetx.reaction': u'MNXR68550'}"
   ]
  },
  {
   "cell_type": "code",
   "execution_count": 139,
   "metadata": {
    "collapsed": false
   },
   "outputs": [],
   "source": [
    "model.reactions.PPTGS_MC.annotation = {u'metanetx.reaction': u'MNXR69779'}"
   ]
  },
  {
   "cell_type": "code",
   "execution_count": 140,
   "metadata": {
    "collapsed": false
   },
   "outputs": [],
   "source": [
    "model.reactions.OBDHc.annotation = {u'metanetx.reaction': u'MNXR3937',u'biocyc': u'META:RXN-7790',u'rhea':[u'33223', u'33224', u'33225', u'33226']}"
   ]
  },
  {
   "cell_type": "code",
   "execution_count": 141,
   "metadata": {
    "collapsed": false
   },
   "outputs": [],
   "source": [
    "model.reactions.UREASE_GAPFILLING.annotation = {u'metanetx.reaction': u'MNXR5299',u'upa': [u'UPA:UCR00774', u'UPA:UER00371'], u'brenda' : u'6.3.4.6',u'kegg.reaction': u'R00774', u'rhea':[u'20896',u'20897',u'20898',u'20899']}"
   ]
  },
  {
   "cell_type": "code",
   "execution_count": 142,
   "metadata": {
    "collapsed": true
   },
   "outputs": [],
   "source": [
    "model.reactions.NH3tpp.annotation = {u'metanetx.reaction': u'MNXR82602'}"
   ]
  },
  {
   "cell_type": "code",
   "execution_count": 143,
   "metadata": {
    "collapsed": false
   },
   "outputs": [],
   "source": [
    "model.reactions.PFK_ppi.annotation = {u'metanetx.reaction': u'MNXR83628', u'brenda': u'2.7.1.90',u'kegg.reaction':u'R00764'}"
   ]
  },
  {
   "cell_type": "code",
   "execution_count": 144,
   "metadata": {
    "collapsed": false
   },
   "outputs": [],
   "source": [
    "model.reactions.PFK_3_ppi.annotation = {u'metanetx.reaction': u'MNXR4174', u'brenda': u'2.7.1.11',u'kegg.reaction':u'R01843', u'biocyc':u'META:RXN0-6541',u'rhea':[u'31443', u'31444', u'31445', u'31446']}"
   ]
  },
  {
   "cell_type": "code",
   "execution_count": 145,
   "metadata": {
    "collapsed": false
   },
   "outputs": [
    {
     "data": {
      "text/plain": [
       "14"
      ]
     },
     "execution_count": 145,
     "metadata": {},
     "output_type": "execute_result"
    }
   ],
   "source": [
    "rxns_without_annotations = [rxn for rxn in model.reactions if rxn.annotation == {} and 'EX_' not in rxn.id]\n",
    "len(rxns_without_annotations)"
   ]
  },
  {
   "cell_type": "code",
   "execution_count": 146,
   "metadata": {
    "collapsed": false
   },
   "outputs": [
    {
     "data": {
      "text/plain": [
       "[<Reaction BIOMASS_Mcapsulatus at 0x114034950>,\n",
       " <Reaction 3OAR150_Lumped at 0x11405bc90>,\n",
       " <Reaction 3OAR170_Lumped at 0x11405bf50>,\n",
       " <Reaction FA150ACPHi at 0x114061450>,\n",
       " <Reaction FA170ACPHi at 0x1140616d0>,\n",
       " <Reaction CFACPOA2H_Lumped at 0x114061d10>,\n",
       " <Reaction FACOAEcyc170i at 0x114061dd0>,\n",
       " <Reaction PCOATAi at 0x11406e6d0>,\n",
       " <Reaction DM_4hba_c at 0x114076390>,\n",
       " <Reaction MC_Average_FattyAcid at 0x114076550>,\n",
       " <Reaction MC_AFAA at 0x114076610>,\n",
       " <Reaction DM_doxopa_c at 0x11408bd10>,\n",
       " <Reaction HAMtpp at 0x114091790>,\n",
       " <Reaction NO2tpp at 0x114091850>]"
      ]
     },
     "execution_count": 146,
     "metadata": {},
     "output_type": "execute_result"
    }
   ],
   "source": [
    "rxns_without_annotations"
   ]
  },
  {
   "cell_type": "markdown",
   "metadata": {},
   "source": [
    "## Metabolite Annotations"
   ]
  },
  {
   "cell_type": "code",
   "execution_count": 147,
   "metadata": {
    "collapsed": false
   },
   "outputs": [
    {
     "data": {
      "text/plain": [
       "40"
      ]
     },
     "execution_count": 147,
     "metadata": {},
     "output_type": "execute_result"
    }
   ],
   "source": [
    "mets_without_annotations = [met for met in model.metabolites if met.annotation == {}]\n",
    "len(mets_without_annotations)"
   ]
  },
  {
   "cell_type": "code",
   "execution_count": 148,
   "metadata": {
    "collapsed": false
   },
   "outputs": [
    {
     "data": {
      "text/plain": [
       "[<Metabolite ttdca_c at 0x1140767d0>,\n",
       " <Metabolite ptdca_c at 0x114076750>,\n",
       " <Metabolite ttdcea_c at 0x1140766d0>,\n",
       " <Metabolite hpdca_c at 0x114076690>,\n",
       " <Metabolite cpoa2h_c at 0x114076710>,\n",
       " <Metabolite pc_MC_c at 0x11403b3d0>,\n",
       " <Metabolite pe_MC_c at 0x11403b990>,\n",
       " <Metabolite pg_MC_c at 0x114076ad0>,\n",
       " <Metabolite clpn_MC_c at 0x114076a90>,\n",
       " <Metabolite peptido_MC_c at 0x114076d90>,\n",
       " <Metabolite colipa_e at 0x11408ba50>,\n",
       " <Metabolite fe2_p at 0x11405b110>,\n",
       " <Metabolite tdecoa_c at 0x11405b6d0>,\n",
       " <Metabolite tdcoa_c at 0x11405b610>,\n",
       " <Metabolite ppACP_c at 0x11406e9d0>,\n",
       " <Metabolite ptdcalACP_c at 0x114061790>,\n",
       " <Metabolite hpdcalACP_c at 0x114061990>,\n",
       " <Metabolite cpoa2hcoa_c at 0x114068050>,\n",
       " <Metabolite 2ombzl_c at 0x1140686d0>,\n",
       " <Metabolite Ssq23epx_c at 0x11406e050>,\n",
       " <Metabolite codhpre6_c at 0x11406ef90>,\n",
       " <Metabolite thrp_c at 0x114076490>,\n",
       " <Metabolite 4hba_c at 0x114076510>,\n",
       " <Metabolite mc_fattyacid_c at 0x114076a10>,\n",
       " <Metabolite mc_fattyacidcoa_c at 0x1140768d0>,\n",
       " <Metabolite 1agpgafa_c at 0x113fc4790>,\n",
       " <Metabolite pa_MC_c at 0x113fc3610>,\n",
       " <Metabolite cdpdag_MC_c at 0x113fc1090>,\n",
       " <Metabolite pgp_MC_c at 0x113fc1050>,\n",
       " <Metabolite ps_MC_c at 0x113fc3750>,\n",
       " <Metabolite pme_c at 0x113fc3ed0>,\n",
       " <Metabolite pdme_c at 0x113fc3cd0>,\n",
       " <Metabolite glyc_c at 0x114076c10>,\n",
       " <Metabolite udcpp_c at 0x113fc4290>,\n",
       " <Metabolite adphep_LD_c at 0x11407ddd0>,\n",
       " <Metabolite urea_c at 0x11408bb50>,\n",
       " <Metabolite doxopa_c at 0x11408bed0>,\n",
       " <Metabolite allphn_c at 0x11408bd90>,\n",
       " <Metabolite no3_e at 0x114091e50>,\n",
       " <Metabolite cu_c at 0x114098c50>]"
      ]
     },
     "execution_count": 148,
     "metadata": {},
     "output_type": "execute_result"
    }
   ],
   "source": [
    "mets_without_annotations"
   ]
  },
  {
   "cell_type": "code",
   "execution_count": 149,
   "metadata": {
    "collapsed": false
   },
   "outputs": [
    {
     "data": {
      "text/html": [
       "\n",
       "        <table>\n",
       "            <tr>\n",
       "                <td><strong>Id</strong></td><td>2ombzl_c</td>\n",
       "            </tr>\n",
       "            <tr>\n",
       "                <td><strong>Name</strong></td><td>2-Octaprenyl-6-methoxy-1,4-benzoquinol</td>\n",
       "            </tr>\n",
       "            <tr>\n",
       "                <td><strong>Formula</strong></td><td>C47H72O3</td>\n",
       "            </tr>\n",
       "        </table>"
      ],
      "text/plain": [
       "<Metabolite 2ombzl_c at 0x1140686d0>"
      ]
     },
     "execution_count": 149,
     "metadata": {},
     "output_type": "execute_result"
    }
   ],
   "source": [
    "model.metabolites.get_by_id('2ombzl_c')"
   ]
  },
  {
   "cell_type": "code",
   "execution_count": 150,
   "metadata": {
    "collapsed": false
   },
   "outputs": [
    {
     "data": {
      "text/plain": [
       "{'SBO': 'SBO:0000247',\n",
       " 'bigg.metabolite': '2ombzl',\n",
       " 'biocyc': 'META:OCTAPRENYL-METHOXY-BENZOQUINONE',\n",
       " 'chebi': 'CHEBI:60655',\n",
       " 'metanetx.chemical': 'MNXM90444',\n",
       " 'seed.compound': 'cpd15359'}"
      ]
     },
     "execution_count": 150,
     "metadata": {},
     "output_type": "execute_result"
    }
   ],
   "source": [
    "ecoli.metabolites.get_by_id('2ombzl_c').annotation"
   ]
  },
  {
   "cell_type": "code",
   "execution_count": 151,
   "metadata": {
    "collapsed": false
   },
   "outputs": [
    {
     "name": "stdout",
     "output_type": "stream",
     "text": [
      "Could not find the following metabolite ID in iJO2366 ptdca_c\n",
      "The source annotation is an empty dictionary\n",
      "Could not find the following metabolite ID in iJO2366 hpdca_c\n",
      "The source annotation is an empty dictionary\n",
      "Could not find the following metabolite ID in iJO2366 cpoa2h_c\n",
      "The source annotation is an empty dictionary\n",
      "Could not find the following metabolite ID in iJO2366 pc_MC_c\n",
      "The source annotation is an empty dictionary\n",
      "Could not find the following metabolite ID in iJO2366 pe_MC_c\n",
      "The source annotation is an empty dictionary\n",
      "Could not find the following metabolite ID in iJO2366 pg_MC_c\n",
      "The source annotation is an empty dictionary\n",
      "Could not find the following metabolite ID in iJO2366 clpn_MC_c\n",
      "The source annotation is an empty dictionary\n",
      "Could not find the following metabolite ID in iJO2366 peptido_MC_c\n",
      "The source annotation is an empty dictionary\n",
      "Could not find the following metabolite ID in iJO2366 ppACP_c\n",
      "The source annotation is an empty dictionary\n",
      "Could not find the following metabolite ID in iJO2366 ptdcalACP_c\n",
      "The source annotation is an empty dictionary\n",
      "Could not find the following metabolite ID in iJO2366 hpdcalACP_c\n",
      "The source annotation is an empty dictionary\n",
      "Could not find the following metabolite ID in iJO2366 cpoa2hcoa_c\n",
      "The source annotation is an empty dictionary\n",
      "Could not find the following metabolite ID in iJO2366 Ssq23epx_c\n",
      "The source annotation is an empty dictionary\n",
      "Could not find the following metabolite ID in iJO2366 codhpre6_c\n",
      "The source annotation is an empty dictionary\n",
      "Could not find the following metabolite ID in iJO2366 thrp_c\n",
      "The source annotation is an empty dictionary\n",
      "Could not find the following metabolite ID in iJO2366 4hba_c\n",
      "The source annotation is an empty dictionary\n",
      "Could not find the following metabolite ID in iJO2366 mc_fattyacid_c\n",
      "The source annotation is an empty dictionary\n",
      "Could not find the following metabolite ID in iJO2366 mc_fattyacidcoa_c\n",
      "The source annotation is an empty dictionary\n",
      "Could not find the following metabolite ID in iJO2366 1agpgafa_c\n",
      "The source annotation is an empty dictionary\n",
      "Could not find the following metabolite ID in iJO2366 pa_MC_c\n",
      "The source annotation is an empty dictionary\n",
      "Could not find the following metabolite ID in iJO2366 cdpdag_MC_c\n",
      "The source annotation is an empty dictionary\n",
      "Could not find the following metabolite ID in iJO2366 pgp_MC_c\n",
      "The source annotation is an empty dictionary\n",
      "Could not find the following metabolite ID in iJO2366 ps_MC_c\n",
      "The source annotation is an empty dictionary\n",
      "Could not find the following metabolite ID in iJO2366 pme_c\n",
      "The source annotation is an empty dictionary\n",
      "Could not find the following metabolite ID in iJO2366 pdme_c\n",
      "The source annotation is an empty dictionary\n",
      "Could not find the following metabolite ID in iJO2366 doxopa_c\n",
      "The source annotation is an empty dictionary\n",
      "Could not find the following metabolite ID in iJO2366 allphn_c\n",
      "The source annotation is an empty dictionary\n"
     ]
    }
   ],
   "source": [
    "for met in mets_without_annotations:\n",
    "    source = ''\n",
    "    \n",
    "    query_id = met.id\n",
    "    \n",
    "    try:\n",
    "        source = ecoli.metabolites.get_by_id(query_id)\n",
    "    except:\n",
    "        print 'Could not find the following metabolite ID in iJO2366 {}'.format(query_id)\n",
    "        \n",
    "    if source != '' and source.annotation != {}:\n",
    "            for key in source.annotation:\n",
    "                if key not in met.annotation:\n",
    "                    met.annotation[key] = source.annotation[key]\n",
    "    else:\n",
    "        print 'The source annotation is an empty dictionary'\n"
   ]
  },
  {
   "cell_type": "code",
   "execution_count": 152,
   "metadata": {
    "collapsed": false
   },
   "outputs": [
    {
     "data": {
      "text/plain": [
       "27"
      ]
     },
     "execution_count": 152,
     "metadata": {},
     "output_type": "execute_result"
    }
   ],
   "source": [
    "mets_without_annotations = [met for met in model.metabolites if met.annotation == {}]\n",
    "len(mets_without_annotations)"
   ]
  },
  {
   "cell_type": "code",
   "execution_count": 153,
   "metadata": {
    "collapsed": false
   },
   "outputs": [
    {
     "name": "stdout",
     "output_type": "stream",
     "text": [
      "Could not find the following metabolite ID in iRC1080 ptdca_c\n",
      "The source annotation is an empty dictionary\n",
      "Could not find the following metabolite ID in iRC1080 hpdca_c\n",
      "The source annotation is an empty dictionary\n",
      "Could not find the following metabolite ID in iRC1080 cpoa2h_c\n",
      "The source annotation is an empty dictionary\n",
      "Could not find the following metabolite ID in iRC1080 pc_MC_c\n",
      "The source annotation is an empty dictionary\n",
      "Could not find the following metabolite ID in iRC1080 pe_MC_c\n",
      "The source annotation is an empty dictionary\n",
      "Could not find the following metabolite ID in iRC1080 pg_MC_c\n",
      "The source annotation is an empty dictionary\n",
      "Could not find the following metabolite ID in iRC1080 clpn_MC_c\n",
      "The source annotation is an empty dictionary\n",
      "Could not find the following metabolite ID in iRC1080 peptido_MC_c\n",
      "The source annotation is an empty dictionary\n",
      "Could not find the following metabolite ID in iRC1080 ppACP_c\n",
      "The source annotation is an empty dictionary\n",
      "Could not find the following metabolite ID in iRC1080 ptdcalACP_c\n",
      "The source annotation is an empty dictionary\n",
      "Could not find the following metabolite ID in iRC1080 hpdcalACP_c\n",
      "The source annotation is an empty dictionary\n",
      "Could not find the following metabolite ID in iRC1080 cpoa2hcoa_c\n",
      "The source annotation is an empty dictionary\n",
      "Could not find the following metabolite ID in iRC1080 Ssq23epx_c\n",
      "The source annotation is an empty dictionary\n",
      "Could not find the following metabolite ID in iRC1080 4hba_c\n",
      "The source annotation is an empty dictionary\n",
      "Could not find the following metabolite ID in iRC1080 mc_fattyacid_c\n",
      "The source annotation is an empty dictionary\n",
      "Could not find the following metabolite ID in iRC1080 mc_fattyacidcoa_c\n",
      "The source annotation is an empty dictionary\n",
      "Could not find the following metabolite ID in iRC1080 1agpgafa_c\n",
      "The source annotation is an empty dictionary\n",
      "Could not find the following metabolite ID in iRC1080 pa_MC_c\n",
      "The source annotation is an empty dictionary\n",
      "Could not find the following metabolite ID in iRC1080 cdpdag_MC_c\n",
      "The source annotation is an empty dictionary\n",
      "Could not find the following metabolite ID in iRC1080 pgp_MC_c\n",
      "The source annotation is an empty dictionary\n",
      "Could not find the following metabolite ID in iRC1080 ps_MC_c\n",
      "The source annotation is an empty dictionary\n",
      "Could not find the following metabolite ID in iRC1080 pme_c\n",
      "The source annotation is an empty dictionary\n",
      "Could not find the following metabolite ID in iRC1080 pdme_c\n",
      "The source annotation is an empty dictionary\n",
      "Could not find the following metabolite ID in iRC1080 doxopa_c\n",
      "The source annotation is an empty dictionary\n",
      "Could not find the following metabolite ID in iRC1080 allphn_c\n",
      "The source annotation is an empty dictionary\n"
     ]
    }
   ],
   "source": [
    "for met in mets_without_annotations:\n",
    "    source = ''\n",
    "    \n",
    "    query_id = met.id\n",
    "    \n",
    "    try:\n",
    "        source = ljungdahlii.metabolites.get_by_id(query_id)\n",
    "    except:\n",
    "        print 'Could not find the following metabolite ID in iRC1080 {}'.format(query_id)\n",
    "        \n",
    "    if source != '' and source.annotation != {}:\n",
    "            for key in source.annotation:\n",
    "                if key not in met.annotation:\n",
    "                    met.annotation[key] = source.annotation[key]\n",
    "    else:\n",
    "        print 'The source annotation is an empty dictionary'\n"
   ]
  },
  {
   "cell_type": "code",
   "execution_count": 154,
   "metadata": {
    "collapsed": false
   },
   "outputs": [
    {
     "data": {
      "text/plain": [
       "25"
      ]
     },
     "execution_count": 154,
     "metadata": {},
     "output_type": "execute_result"
    }
   ],
   "source": [
    "mets_without_annotations = [met for met in model.metabolites if met.annotation == {}]\n",
    "len(mets_without_annotations)"
   ]
  },
  {
   "cell_type": "code",
   "execution_count": 155,
   "metadata": {
    "collapsed": false
   },
   "outputs": [],
   "source": [
    "model.metabolites.pme_c.id = 'pme_MC_c'"
   ]
  },
  {
   "cell_type": "code",
   "execution_count": 156,
   "metadata": {
    "collapsed": true
   },
   "outputs": [],
   "source": [
    "model.metabolites.pdme_c.id = 'pdme_MC_c'"
   ]
  },
  {
   "cell_type": "code",
   "execution_count": 157,
   "metadata": {
    "collapsed": true
   },
   "outputs": [],
   "source": [
    "subtilis_file = '/Users/clie/Downloads/iYO844.xml'\n",
    "subtilis = load_model(subtilis_file)"
   ]
  },
  {
   "cell_type": "code",
   "execution_count": 158,
   "metadata": {
    "collapsed": false
   },
   "outputs": [
    {
     "data": {
      "text/plain": [
       "25"
      ]
     },
     "execution_count": 158,
     "metadata": {},
     "output_type": "execute_result"
    }
   ],
   "source": [
    "mets_without_annotations = [met for met in model.metabolites if met.annotation == {}]\n",
    "len(mets_without_annotations)"
   ]
  },
  {
   "cell_type": "code",
   "execution_count": 159,
   "metadata": {
    "collapsed": false
   },
   "outputs": [
    {
     "name": "stdout",
     "output_type": "stream",
     "text": [
      "Could not find the following metabolite ID in iYO844 cpoa2h_c\n",
      "The source annotation is an empty dictionary\n",
      "Could not find the following metabolite ID in iYO844 pc_MC_c\n",
      "The source annotation is an empty dictionary\n",
      "Could not find the following metabolite ID in iYO844 pe_MC_c\n",
      "The source annotation is an empty dictionary\n",
      "Could not find the following metabolite ID in iYO844 pg_MC_c\n",
      "The source annotation is an empty dictionary\n",
      "Could not find the following metabolite ID in iYO844 clpn_MC_c\n",
      "The source annotation is an empty dictionary\n",
      "Could not find the following metabolite ID in iYO844 peptido_MC_c\n",
      "The source annotation is an empty dictionary\n",
      "Could not find the following metabolite ID in iYO844 ppACP_c\n",
      "The source annotation is an empty dictionary\n",
      "Could not find the following metabolite ID in iYO844 ptdcalACP_c\n",
      "The source annotation is an empty dictionary\n",
      "Could not find the following metabolite ID in iYO844 hpdcalACP_c\n",
      "The source annotation is an empty dictionary\n",
      "Could not find the following metabolite ID in iYO844 cpoa2hcoa_c\n",
      "The source annotation is an empty dictionary\n",
      "Could not find the following metabolite ID in iYO844 Ssq23epx_c\n",
      "The source annotation is an empty dictionary\n",
      "Could not find the following metabolite ID in iYO844 4hba_c\n",
      "The source annotation is an empty dictionary\n",
      "Could not find the following metabolite ID in iYO844 mc_fattyacid_c\n",
      "The source annotation is an empty dictionary\n",
      "Could not find the following metabolite ID in iYO844 mc_fattyacidcoa_c\n",
      "The source annotation is an empty dictionary\n",
      "Could not find the following metabolite ID in iYO844 1agpgafa_c\n",
      "The source annotation is an empty dictionary\n",
      "Could not find the following metabolite ID in iYO844 pa_MC_c\n",
      "The source annotation is an empty dictionary\n",
      "Could not find the following metabolite ID in iYO844 cdpdag_MC_c\n",
      "The source annotation is an empty dictionary\n",
      "Could not find the following metabolite ID in iYO844 pgp_MC_c\n",
      "The source annotation is an empty dictionary\n",
      "Could not find the following metabolite ID in iYO844 ps_MC_c\n",
      "The source annotation is an empty dictionary\n",
      "Could not find the following metabolite ID in iYO844 pme_MC_c\n",
      "The source annotation is an empty dictionary\n",
      "Could not find the following metabolite ID in iYO844 pdme_MC_c\n",
      "The source annotation is an empty dictionary\n",
      "Could not find the following metabolite ID in iYO844 doxopa_c\n",
      "The source annotation is an empty dictionary\n",
      "Could not find the following metabolite ID in iYO844 allphn_c\n",
      "The source annotation is an empty dictionary\n"
     ]
    }
   ],
   "source": [
    "for met in mets_without_annotations:\n",
    "    source = ''\n",
    "    \n",
    "    query_id = met.id\n",
    "    \n",
    "    try:\n",
    "        source = subtilis.metabolites.get_by_id(query_id)\n",
    "    except:\n",
    "        print 'Could not find the following metabolite ID in iYO844 {}'.format(query_id)\n",
    "        \n",
    "    if source != '' and source.annotation != {}:\n",
    "            for key in source.annotation:\n",
    "                if key not in met.annotation:\n",
    "                    met.annotation[key] = source.annotation[key]\n",
    "    else:\n",
    "        print 'The source annotation is an empty dictionary'\n"
   ]
  },
  {
   "cell_type": "code",
   "execution_count": 160,
   "metadata": {
    "collapsed": false
   },
   "outputs": [
    {
     "data": {
      "text/plain": [
       "23"
      ]
     },
     "execution_count": 160,
     "metadata": {},
     "output_type": "execute_result"
    }
   ],
   "source": [
    "mets_without_annotations = [met for met in model.metabolites if met.annotation == {}]\n",
    "len(mets_without_annotations)"
   ]
  },
  {
   "cell_type": "code",
   "execution_count": 161,
   "metadata": {
    "collapsed": false
   },
   "outputs": [],
   "source": [
    "model.metabolites.cpoa2h_c.annotation = {u'inchi': u'InChI=1S/C17H32O2/c1-2-3-4-8-11-15-14-16(15)12-9-6-5-7-10-13-17(18)19/h15-16H,2-14H2,1H3,(H,18,19)'}"
   ]
  },
  {
   "cell_type": "code",
   "execution_count": 162,
   "metadata": {
    "collapsed": false
   },
   "outputs": [],
   "source": [
    "model.metabolites.get_by_id('1agpgafa_c').id = '1agpgafa_MC_c'"
   ]
  },
  {
   "cell_type": "code",
   "execution_count": 163,
   "metadata": {
    "collapsed": false
   },
   "outputs": [],
   "source": [
    "model.metabolites.get_by_id('4hba_c').annotation = {u'bigg.metabolite': u'4hba',\n",
    " u'biocyc': u'META:4-HYDROXY-BENZYL-ALCOHOL',\n",
    " u'chebi': u'CHEBI:67410',\n",
    " u'kegg.compound': u'C17467',\n",
    " u'metanetx.chemical': u'MNXM107505',\n",
    " u'seed.compound': [u'cpd15378', u'cpd17595']}"
   ]
  },
  {
   "cell_type": "code",
   "execution_count": 164,
   "metadata": {
    "collapsed": false
   },
   "outputs": [],
   "source": [
    "model.metabolites.doxopa_c.annotation = {u'metanetx.chemical': u'MNXM148580'}"
   ]
  },
  {
   "cell_type": "markdown",
   "metadata": {},
   "source": [
    "## Add proper transport reactions for relevant metabolites"
   ]
  },
  {
   "cell_type": "code",
   "execution_count": 165,
   "metadata": {
    "collapsed": true
   },
   "outputs": [],
   "source": [
    "model.change_objective(model.reactions.BIOMASS_Mcapsulatus)"
   ]
  },
  {
   "cell_type": "code",
   "execution_count": 166,
   "metadata": {
    "collapsed": false,
    "scrolled": true
   },
   "outputs": [
    {
     "data": {
      "text/html": [
       "<div>\n",
       "<table border=\"1\" class=\"dataframe\">\n",
       "  <thead>\n",
       "    <tr style=\"text-align: right;\">\n",
       "      <th></th>\n",
       "      <th>reaction_id</th>\n",
       "      <th>reaction_name</th>\n",
       "      <th>lower_bound</th>\n",
       "      <th>upper_bound</th>\n",
       "    </tr>\n",
       "  </thead>\n",
       "  <tbody>\n",
       "    <tr>\n",
       "      <th>0</th>\n",
       "      <td>EX_pi_c</td>\n",
       "      <td>phosphate exchange</td>\n",
       "      <td>-1000.00</td>\n",
       "      <td>1000.0</td>\n",
       "    </tr>\n",
       "    <tr>\n",
       "      <th>1</th>\n",
       "      <td>EX_o2_c</td>\n",
       "      <td>dioxygen exchange</td>\n",
       "      <td>-1000.00</td>\n",
       "      <td>1000.0</td>\n",
       "    </tr>\n",
       "    <tr>\n",
       "      <th>2</th>\n",
       "      <td>EX_nh3_c</td>\n",
       "      <td>NH4(+) exchange</td>\n",
       "      <td>-1000.00</td>\n",
       "      <td>1000.0</td>\n",
       "    </tr>\n",
       "    <tr>\n",
       "      <th>3</th>\n",
       "      <td>EX_so4_c</td>\n",
       "      <td>sulfate exchange</td>\n",
       "      <td>-1000.00</td>\n",
       "      <td>1000.0</td>\n",
       "    </tr>\n",
       "    <tr>\n",
       "      <th>4</th>\n",
       "      <td>EX_cl_c</td>\n",
       "      <td>Cl(-) exchange</td>\n",
       "      <td>-1000.00</td>\n",
       "      <td>1000.0</td>\n",
       "    </tr>\n",
       "    <tr>\n",
       "      <th>5</th>\n",
       "      <td>EX_na1_c</td>\n",
       "      <td>Na(+) exchange</td>\n",
       "      <td>-1.00</td>\n",
       "      <td>1000.0</td>\n",
       "    </tr>\n",
       "    <tr>\n",
       "      <th>6</th>\n",
       "      <td>EX_k_c</td>\n",
       "      <td>K(+) exchange</td>\n",
       "      <td>-1000.00</td>\n",
       "      <td>1000.0</td>\n",
       "    </tr>\n",
       "    <tr>\n",
       "      <th>7</th>\n",
       "      <td>EX_mg2_c</td>\n",
       "      <td>Mg(2+) exchange</td>\n",
       "      <td>-1000.00</td>\n",
       "      <td>1000.0</td>\n",
       "    </tr>\n",
       "    <tr>\n",
       "      <th>8</th>\n",
       "      <td>EX_ca2_c</td>\n",
       "      <td>Ca(2+) exchange</td>\n",
       "      <td>-1000.00</td>\n",
       "      <td>1000.0</td>\n",
       "    </tr>\n",
       "    <tr>\n",
       "      <th>9</th>\n",
       "      <td>EX_ch4_p</td>\n",
       "      <td>methane exchange</td>\n",
       "      <td>-18.46</td>\n",
       "      <td>-0.1</td>\n",
       "    </tr>\n",
       "    <tr>\n",
       "      <th>10</th>\n",
       "      <td>EX_cobalt2_c</td>\n",
       "      <td>Co2+ exchange</td>\n",
       "      <td>-1000.00</td>\n",
       "      <td>1000.0</td>\n",
       "    </tr>\n",
       "    <tr>\n",
       "      <th>11</th>\n",
       "      <td>EX_cu_c</td>\n",
       "      <td>Cu+ exchange</td>\n",
       "      <td>-1000.00</td>\n",
       "      <td>1000.0</td>\n",
       "    </tr>\n",
       "  </tbody>\n",
       "</table>\n",
       "</div>"
      ],
      "text/plain": [
       "     reaction_id       reaction_name  lower_bound  upper_bound\n",
       "0        EX_pi_c  phosphate exchange     -1000.00       1000.0\n",
       "1        EX_o2_c   dioxygen exchange     -1000.00       1000.0\n",
       "2       EX_nh3_c     NH4(+) exchange     -1000.00       1000.0\n",
       "3       EX_so4_c    sulfate exchange     -1000.00       1000.0\n",
       "4        EX_cl_c      Cl(-) exchange     -1000.00       1000.0\n",
       "5       EX_na1_c      Na(+) exchange        -1.00       1000.0\n",
       "6         EX_k_c       K(+) exchange     -1000.00       1000.0\n",
       "7       EX_mg2_c     Mg(2+) exchange     -1000.00       1000.0\n",
       "8       EX_ca2_c     Ca(2+) exchange     -1000.00       1000.0\n",
       "9       EX_ch4_p    methane exchange       -18.46         -0.1\n",
       "10  EX_cobalt2_c       Co2+ exchange     -1000.00       1000.0\n",
       "11       EX_cu_c        Cu+ exchange     -1000.00       1000.0"
      ]
     },
     "execution_count": 166,
     "metadata": {},
     "output_type": "execute_result"
    }
   ],
   "source": [
    "model.medium"
   ]
  },
  {
   "cell_type": "code",
   "execution_count": 167,
   "metadata": {
    "collapsed": false
   },
   "outputs": [],
   "source": [
    "solution = model.solve()"
   ]
  },
  {
   "cell_type": "code",
   "execution_count": 168,
   "metadata": {
    "collapsed": false
   },
   "outputs": [],
   "source": [
    "model.reactions.EX_rdmbzi_c.id = 'DM_rdmbzi_c'"
   ]
  },
  {
   "cell_type": "code",
   "execution_count": 169,
   "metadata": {
    "collapsed": false
   },
   "outputs": [],
   "source": [
    "relevant_exchanges = [rxn for rxn in model.reactions if rxn.id.startswith('EX_') and abs(rxn.flux) != 0]"
   ]
  },
  {
   "cell_type": "code",
   "execution_count": 173,
   "metadata": {
    "collapsed": false
   },
   "outputs": [
    {
     "data": {
      "text/html": [
       "\n",
       "        <table>\n",
       "            <tr>\n",
       "                <td><strong>Id</strong></td><td>EX_ACP_c</td>\n",
       "            </tr>\n",
       "            <tr>\n",
       "                <td><strong>Name</strong></td><td>holo-[acyl-carrier protein] exchange</td>\n",
       "            </tr>\n",
       "            <tr>\n",
       "                <td><strong>Stoichiometry</strong></td><td>ACP_c --> </td>\n",
       "            </tr>\n",
       "            <tr>\n",
       "                <td><strong>GPR</strong></td><td></td>\n",
       "            </tr>\n",
       "            <tr>\n",
       "                <td><strong>Lower bound</strong></td><td>0.000000</td>\n",
       "            </tr>\n",
       "            <tr>\n",
       "                <td><strong>Upper bound</strong></td><td>1000.000000</td>\n",
       "            </tr>\n",
       "        </table>\n",
       "        "
      ],
      "text/plain": [
       "<Reaction EX_ACP_c at 0x11400e9d0>"
      ]
     },
     "execution_count": 173,
     "metadata": {},
     "output_type": "execute_result"
    }
   ],
   "source": [
    "relevant_exchanges.pop(4)"
   ]
  },
  {
   "cell_type": "code",
   "execution_count": 174,
   "metadata": {
    "collapsed": false
   },
   "outputs": [
    {
     "data": {
      "text/plain": [
       "18"
      ]
     },
     "execution_count": 174,
     "metadata": {},
     "output_type": "execute_result"
    }
   ],
   "source": [
    "len(relevant_exchanges)"
   ]
  },
  {
   "cell_type": "code",
   "execution_count": 175,
   "metadata": {
    "collapsed": false
   },
   "outputs": [],
   "source": [
    "exchanges_to_be_removed = []\n",
    "\n",
    "for rxn in model.reactions:\n",
    "    if rxn.id.startswith('EX_') and rxn not in relevant_exchanges:\n",
    "        exchanges_to_be_removed.append(rxn)\n",
    "        "
   ]
  },
  {
   "cell_type": "code",
   "execution_count": 176,
   "metadata": {
    "collapsed": true
   },
   "outputs": [],
   "source": [
    "model.remove_reactions(exchanges_to_be_removed)"
   ]
  },
  {
   "cell_type": "code",
   "execution_count": 177,
   "metadata": {
    "collapsed": true
   },
   "outputs": [],
   "source": [
    "solution = model.solve()"
   ]
  },
  {
   "cell_type": "code",
   "execution_count": 178,
   "metadata": {
    "collapsed": false,
    "scrolled": false
   },
   "outputs": [
    {
     "data": {
      "text/plain": [
       "[<Reaction EX_h_c at 0x114001150>,\n",
       " <Reaction EX_co2_c at 0x1140014d0>,\n",
       " <Reaction EX_h2o_c at 0x1140018d0>,\n",
       " <Reaction EX_pi_c at 0x114001ad0>,\n",
       " <Reaction EX_o2_c at 0x113b28250>,\n",
       " <Reaction EX_nh3_c at 0x113b3aa10>,\n",
       " <Reaction EX_so4_c at 0x113ad4050>,\n",
       " <Reaction EX_h2o2_c at 0x113ae5410>,\n",
       " <Reaction EX_co_c at 0x113af72d0>,\n",
       " <Reaction EX_cl_c at 0x113506fd0>,\n",
       " <Reaction EX_na1_c at 0x114034750>,\n",
       " <Reaction EX_k_c at 0x1140347d0>,\n",
       " <Reaction EX_mg2_c at 0x114034850>,\n",
       " <Reaction EX_ca2_c at 0x1140348d0>,\n",
       " <Reaction EX_ch4_p at 0x114041d90>,\n",
       " <Reaction EX_fe2_p at 0x114054e50>,\n",
       " <Reaction EX_cobalt2_c at 0x11406e8d0>,\n",
       " <Reaction EX_cu_c at 0x114098a90>]"
      ]
     },
     "execution_count": 178,
     "metadata": {},
     "output_type": "execute_result"
    }
   ],
   "source": [
    "[rxn for rxn in model.reactions if rxn.id.startswith('EX_')]"
   ]
  },
  {
   "cell_type": "code",
   "execution_count": 188,
   "metadata": {
    "collapsed": true
   },
   "outputs": [],
   "source": [
    "from cameo.util import TimeMachine"
   ]
  },
  {
   "cell_type": "code",
   "execution_count": 191,
   "metadata": {
    "collapsed": true
   },
   "outputs": [],
   "source": [
    "from cameo.exceptions import Infeasible"
   ]
  },
  {
   "cell_type": "code",
   "execution_count": 203,
   "metadata": {
    "collapsed": false
   },
   "outputs": [],
   "source": [
    "def test_autonomous_metabolite_production(model):\n",
    "    with TimeMachine() as tm:\n",
    "        producable_from_nothing = []    \n",
    "        for rxn in model.reactions:\n",
    "            \n",
    "            if rxn.id.startswith(\"DM_\") or  rxn.id.startswith(\"EX_\"):\n",
    "                rxn.change_bounds(0,0,tm)\n",
    "                \n",
    "        for met in model.metabolites:\n",
    "            \n",
    "            try:\n",
    "                ex_rxn = model.reactions.get_by_id('EX_' + met.id)\n",
    "                ex_rxn.change_bounds(0,1000,tm)\n",
    "                model.objective = ex_rxn\n",
    "            except:\n",
    "                model.add_demand(met,'TestDM_',tm)\n",
    "                ex_rxn = model.reactions.get_by_id('TestDM_' + met.id)\n",
    "                ex_rxn.change_bounds(0,1000,tm)\n",
    "                model.objective = ex_rxn\n",
    "                \n",
    "            with pytest.raises(Infeasible):\n",
    "                sol = model.solve()\n",
    "                if sol.f != 0:\n",
    "                    producable_from_nothing.append(met.id)\n",
    "        \n",
    "        return producable_from_nothing\n",
    "                "
   ]
  },
  {
   "cell_type": "code",
   "execution_count": 204,
   "metadata": {
    "collapsed": false
   },
   "outputs": [],
   "source": [
    "producable_from_nothing = test_autonomous_metabolite_production(model)"
   ]
  },
  {
   "cell_type": "code",
   "execution_count": 205,
   "metadata": {
    "collapsed": false
   },
   "outputs": [
    {
     "data": {
      "text/plain": [
       "0"
      ]
     },
     "execution_count": 205,
     "metadata": {},
     "output_type": "execute_result"
    }
   ],
   "source": [
    "len(producable_from_nothing)"
   ]
  },
  {
   "cell_type": "code",
   "execution_count": 213,
   "metadata": {
    "collapsed": true
   },
   "outputs": [],
   "source": [
    "import cobra\n",
    "\n",
    "target_filename_json = relative_directory + '/Reconstructions/MethylococcusModel12.json'\n",
    "target_filename_xml = relative_directory + '/Reconstructions/MethylococcusModel12.xml'\n",
    "cobra.io.write_sbml_model(model, target_filename_xml, use_fbc_package=True)\n",
    "cobra.io.save_json_model(model, target_filename_json,pretty = True)"
   ]
  },
  {
   "cell_type": "code",
   "execution_count": null,
   "metadata": {
    "collapsed": true
   },
   "outputs": [],
   "source": []
  },
  {
   "cell_type": "code",
   "execution_count": null,
   "metadata": {
    "collapsed": false
   },
   "outputs": [],
   "source": [
    "import escher\n",
    "        \n",
    "maps = escher.Builder(\n",
    "                    model=model,\n",
    "                    map_name = 'Methylococcus capsulatus genome-scale metabolic model',\n",
    "                    map_json='/Users/clie/Desktop/EFPro2/Reconstructions/Metabolic Map/16UpdateDuplicateAndParallelReactions.json',\n",
    "                    show_gene_reaction_rules=True,\n",
    "                    use_3d_transform = True\n",
    "                    )\n",
    "\n",
    "maps.set_reaction_scale([ { 'type': 'min', 'color': 'rgb(235,89,162)', 'size': 12 },\n",
    "   { 'type': 'median', 'color': 'rgb(200,200,200)', 'size': 20 },\n",
    "   { 'type': 'max', 'color': 'rgb(255,255,109)', 'size': 25 } ])\n",
    "maps.display_in_browser()"
   ]
  }
 ],
 "metadata": {
  "kernelspec": {
   "display_name": "Python 2",
   "language": "python",
   "name": "python2"
  },
  "language_info": {
   "codemirror_mode": {
    "name": "ipython",
    "version": 2
   },
   "file_extension": ".py",
   "mimetype": "text/x-python",
   "name": "python",
   "nbconvert_exporter": "python",
   "pygments_lexer": "ipython2",
   "version": "2.7.9"
  }
 },
 "nbformat": 4,
 "nbformat_minor": 0
}
